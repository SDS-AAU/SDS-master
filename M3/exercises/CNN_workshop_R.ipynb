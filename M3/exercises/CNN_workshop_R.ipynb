{
  "nbformat": 4,
  "nbformat_minor": 0,
  "metadata": {
    "Rmd_header": {
      "author": "Daniel S. Hain (dsh@business.aau.dk)",
      "date": "Updated `r format(Sys.time(), '%B %d, %Y')`",
      "output": {
        "html_notebook": {
          "code_folding": "show",
          "df_print": "paged",
          "theme": "flatly",
          "toc": true,
          "toc_depth": 2,
          "toc_float": {
            "collapsed": false
          }
        }
      },
      "title": "Neural Networks Workshop: Hotdog/Not Hotdog (R)"
    },
    "kernelspec": {
      "display_name": "R",
      "language": "R",
      "name": "ir"
    },
    "language_info": {
      "codemirror_mode": "r",
      "file_extension": ".r",
      "mimetype": "text/x-r-source",
      "name": "R",
      "pygments_lexer": "r"
    },
    "colab": {
      "name": "CNN_workshop_R.ipynb",
      "provenance": [],
      "include_colab_link": true
    },
    "accelerator": "GPU"
  },
  "cells": [
    {
      "cell_type": "markdown",
      "metadata": {
        "id": "view-in-github",
        "colab_type": "text"
      },
      "source": [
        "<a href=\"https://colab.research.google.com/github/SDS-AAU/SDS-master/blob/master/M3/exercises/CNN_workshop_R.ipynb\" target=\"_parent\"><img src=\"https://colab.research.google.com/assets/colab-badge.svg\" alt=\"Open In Colab\"/></a>"
      ]
    },
    {
      "cell_type": "code",
      "metadata": {
        "id": "B182jHUpgAuz"
      },
      "source": [
        "install.packages('reticulate')\n",
        "install.packages('magrittr')"
      ],
      "execution_count": null,
      "outputs": []
    },
    {
      "cell_type": "code",
      "metadata": {
        "id": "7PUiTnwWfq7o"
      },
      "source": [
        "install.packages(\"keras\") \n"
      ],
      "execution_count": null,
      "outputs": []
    },
    {
      "cell_type": "code",
      "metadata": {
        "id": "P3S5pJcuh6H3"
      },
      "source": [
        "library(tidyverse)\n",
        "library(magrittr)\n",
        "library(keras)"
      ],
      "execution_count": null,
      "outputs": []
    },
    {
      "cell_type": "code",
      "metadata": {
        "id": "SP3qCZJEi1Kt"
      },
      "source": [
        "# Let's start by downloading and exploring the data\n",
        "temp <- tempfile()\n",
        "download.file('https://storage.googleapis.com/sds-file-transfer/hot-dog-not-hot-dog.zip',temp)\n",
        "unzip(temp)\n",
        "unlink(temp)"
      ],
      "execution_count": null,
      "outputs": []
    },
    {
      "cell_type": "code",
      "metadata": {
        "id": "ZqvDPcaDlGpX"
      },
      "source": [
        "list.files(path = \"test\") %>% head()\n",
        "list.files(path = \"train\") %>% head()"
      ],
      "execution_count": null,
      "outputs": []
    },
    {
      "cell_type": "markdown",
      "metadata": {
        "id": "U4hBr22Yjd-2"
      },
      "source": [
        "# Preprocessing\n",
        "\n",
        "Same as in the former notebook"
      ]
    },
    {
      "cell_type": "code",
      "metadata": {
        "id": "Sp-BqJ_rwek0"
      },
      "source": [
        "# how much data?\n",
        "train_size <- c(list.files(path = \"train/hot_dog\"), list.files(path = \"train/not_hot_dog\")) %>% length()\n",
        "test_size <- c(list.files(path = \"test/hot_dog\"), list.files(path = \"test/not_hot_dog\")) %>% length()"
      ],
      "execution_count": null,
      "outputs": []
    },
    {
      "cell_type": "code",
      "metadata": {
        "id": "OLUk5ayRf0Uo"
      },
      "source": [
        "class_list <- c('hot_dog', 'not_hot_dog')\n",
        "output_n <- length(class_list)\n",
        "img_width <- 224\n",
        "img_height <- 224\n",
        "target_size <- c(img_width, img_height)\n",
        "channels <- 3\n",
        "train_files_path <- 'train'\n",
        "test_files_path <- 'test'\n",
        "batch_size <- 32"
      ],
      "execution_count": null,
      "outputs": []
    },
    {
      "cell_type": "code",
      "metadata": {
        "id": "4VNSQRB7j3-F"
      },
      "source": [
        "train_data_gen = image_data_generator(rescale = 1/255, shear_range = 0.2, zoom_range = 0.2, horizontal_flip = TRUE)\n",
        "test_data_gen <- image_data_generator(rescale = 1/255)  "
      ],
      "execution_count": null,
      "outputs": []
    },
    {
      "cell_type": "code",
      "metadata": {
        "id": "I3fjJ_Vuj73n"
      },
      "source": [
        "train_image_array_gen <- flow_images_from_directory(train_files_path, train_data_gen, target_size = target_size, class_mode = \"binary\", \n",
        "                                                    classes = class_list,batch_size = batch_size, seed = 1337)\n",
        "\n",
        "test_image_array_gen <- flow_images_from_directory(test_files_path, test_data_gen, target_size = target_size, class_mode = \"binary\",\n",
        "                                          classes = class_list, batch_size = batch_size, seed = 1337)"
      ],
      "execution_count": null,
      "outputs": []
    },
    {
      "cell_type": "markdown",
      "metadata": {
        "id": "oYuW3LfekOox"
      },
      "source": [
        "# Loading pretrained model\n",
        "\n",
        "Keras has some great built-in applications - basically pretrained models with some nice functional overhead. We will start by loadeing VGG16 (a rather large model with many many many layers that has been trained on imagenet)\n",
        "\n"
      ]
    },
    {
      "cell_type": "code",
      "metadata": {
        "id": "4WNAODdtkCHN"
      },
      "source": [
        "# create the base pre-trained model\n",
        "base_model <- application_vgg16(\n",
        "  include_top = FALSE,\n",
        "  weights='imagenet',\n",
        "  input_shape = c(img_height, img_width, channels))"
      ],
      "execution_count": null,
      "outputs": []
    },
    {
      "cell_type": "code",
      "metadata": {
        "id": "VuQszWiokVkR"
      },
      "source": [
        "predictions <- base_model$output %>% \n",
        "  layer_flatten(trainable = T) %>%\n",
        "  layer_dense(1024, activation = 'relu', trainable = T) %>%\n",
        "  layer_dropout(0.4, trainable = T) %>%\n",
        "  layer_dense(84, activation = 'relu', trainable=T) %>%  \n",
        "  layer_dense(units = 1, activation = 'sigmoid', trainable=T)"
      ],
      "execution_count": null,
      "outputs": []
    },
    {
      "cell_type": "code",
      "metadata": {
        "id": "NYvqtdvZkfYs"
      },
      "source": [
        "# this is the model we will train\n",
        "model <- keras_model(inputs = base_model$input, outputs = predictions)"
      ],
      "execution_count": null,
      "outputs": []
    },
    {
      "cell_type": "code",
      "metadata": {
        "id": "FF3KJ_Grx492"
      },
      "source": [
        "# let's visualize layer names and layer indices to see how many layers we should freeze:\n",
        "model %>% summary()"
      ],
      "execution_count": null,
      "outputs": []
    },
    {
      "cell_type": "code",
      "metadata": {
        "id": "0BN1wLo6kiME"
      },
      "source": [
        "# first: train only the top layers \n",
        "for (layer in base_model$layers)\n",
        "  layer$trainable <- FALSE"
      ],
      "execution_count": null,
      "outputs": []
    },
    {
      "cell_type": "code",
      "metadata": {
        "id": "JywGeDfrklMK"
      },
      "source": [
        "# compile the model (should be done *after* setting layers to non-trainable)\n",
        "# We this time also set a vry low larning rate\n",
        "model %>% compile(optimizer = optimizer_adam(lr = 0.0001), # Notice this\n",
        "                  loss = 'binary_crossentropy',\n",
        "                  metric = 'accuracy')"
      ],
      "execution_count": null,
      "outputs": []
    },
    {
      "cell_type": "code",
      "metadata": {
        "id": "q-AtnO9ikpeM"
      },
      "source": [
        "# train the model on the new data for a few epochs\n",
        "model %>% fit_generator(\n",
        "  train_image_array_gen,\n",
        "  steps_per_epoch = as.integer((train_size / batch_size) ),\n",
        "  epochs = 10, \n",
        "  verbose = FALSE,\n",
        "  callbacks = list(callback_early_stopping(patience = 2))\n",
        "  )"
      ],
      "execution_count": null,
      "outputs": []
    },
    {
      "cell_type": "code",
      "metadata": {
        "id": "chSYjbftksuw"
      },
      "source": [
        "hist_train2 %>% plot()"
      ],
      "execution_count": null,
      "outputs": []
    },
    {
      "cell_type": "code",
      "metadata": {
        "id": "oiFmuxKLloN9"
      },
      "source": [
        "# we chose to train the top 2 blocks, i.e. we will freeze the first layers and unfreeze the rest:\n",
        "for (i in 1:(length(layers)-2))\n",
        "  layers[[i]]$trainable <- FALSE\n",
        "for (i in (length(layers)-1):length(layers))\n",
        "  layers[[i]]$trainable <- TRUE"
      ],
      "execution_count": null,
      "outputs": []
    },
    {
      "cell_type": "code",
      "metadata": {
        "id": "GAKkRGYQmBYH"
      },
      "source": [
        "# we need to recompile the model for these modifications to take effect\n",
        "model %>% compile(optimizer = 'adam', \n",
        "                  loss = 'binary_crossentropy',\n",
        "                  metric = 'accuracy')"
      ],
      "execution_count": null,
      "outputs": []
    },
    {
      "cell_type": "code",
      "metadata": {
        "id": "dBc4rF0SmFYM"
      },
      "source": [
        "# we train our model again (this time fine-tuning the top 2  blocks\n",
        "# alongside the top Dense layers\n",
        "# train the model on the new data for a few epochs\n",
        "hist_train2 <- model %>% fit_generator(\n",
        "  train_image_array_gen,\n",
        "  steps_per_epoch = as.integer((train_size / batch_size)),\n",
        "  epochs = 10, \n",
        "  validation_data = test_image_array_gen,\n",
        "  validation_steps = as.integer((test_size / batch_size)),\n",
        "  verbose = FALSE,\n",
        "  callbacks = list(callback_early_stopping(patience = 2))\n",
        "  )"
      ],
      "execution_count": null,
      "outputs": []
    },
    {
      "cell_type": "code",
      "metadata": {
        "id": "b2_y8zEHteQK"
      },
      "source": [
        "hist_train2 %>% plot()"
      ],
      "execution_count": null,
      "outputs": []
    },
    {
      "cell_type": "code",
      "metadata": {
        "id": "MLcCYa-9mJeg"
      },
      "source": [
        "model %>% evaluate_generator(test_image_array_gen, steps=500)"
      ],
      "execution_count": null,
      "outputs": []
    },
    {
      "cell_type": "markdown",
      "metadata": {
        "id": "4PWktfOlmYPr"
      },
      "source": [
        "# some own image"
      ]
    },
    {
      "cell_type": "markdown",
      "metadata": {
        "id": "JgXGBipAmzM9"
      },
      "source": [
        "![](https://do512family.com/wp-content/uploads/2018/04/18222376_1528395153845930_2934228273602805559_n.jpg)\n",
        "\n",
        "\n",
        "![](http://myminidoxie.com/wp-content/uploads/2012/11/which-came-first-the-wiener-or-the-dachshund.jpg)\n"
      ]
    },
    {
      "cell_type": "code",
      "metadata": {
        "id": "pejFx-3DmcPb"
      },
      "source": [
        "download.file('https://do512family.com/wp-content/uploads/2018/04/18222376_1528395153845930_2934228273602805559_n.jpg',\n",
        "'wiener1.jpg', mode = 'wb')\n",
        "\n",
        "download.file('http://myminidoxie.com/wp-content/uploads/2012/11/which-came-first-the-wiener-or-the-dachshund.jpg',\n",
        "'wiener2.jpg', mode = 'wb')"
      ],
      "execution_count": null,
      "outputs": []
    },
    {
      "cell_type": "code",
      "metadata": {
        "id": "469M-QkHmaWr"
      },
      "source": [
        "img <- image_load('wiener2.jpg', target_size = target_size) %>% image_to_array() %>% array_reshape(c(1, dim(.)))"
      ],
      "execution_count": null,
      "outputs": []
    },
    {
      "cell_type": "code",
      "metadata": {
        "id": "CHmvWIhDowHW"
      },
      "source": [
        "res <- predict(model, img)"
      ],
      "execution_count": null,
      "outputs": []
    },
    {
      "cell_type": "code",
      "metadata": {
        "id": "rTzCP6_sozdf"
      },
      "source": [
        "ifelse(res == 0, 'hot_dog', 'not_hot_dog')"
      ],
      "execution_count": null,
      "outputs": []
    }
  ]
}