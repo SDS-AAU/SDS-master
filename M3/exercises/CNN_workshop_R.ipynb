{
  "nbformat": 4,
  "nbformat_minor": 0,
  "metadata": {
    "Rmd_header": {
      "author": "Daniel S. Hain (dsh@business.aau.dk)",
      "date": "Updated `r format(Sys.time(), '%B %d, %Y')`",
      "output": {
        "html_notebook": {
          "code_folding": "show",
          "df_print": "paged",
          "theme": "flatly",
          "toc": true,
          "toc_depth": 2,
          "toc_float": {
            "collapsed": false
          }
        }
      },
      "title": "Neural Networks Workshop: Hotdog/Not Hotdog (R)"
    },
    "kernelspec": {
      "display_name": "R",
      "language": "R",
      "name": "ir"
    },
    "language_info": {
      "codemirror_mode": "r",
      "file_extension": ".r",
      "mimetype": "text/x-r-source",
      "name": "R",
      "pygments_lexer": "r"
    },
    "colab": {
      "name": "CNN_workshop_R.ipynb",
      "provenance": [],
      "include_colab_link": true
    },
    "accelerator": "GPU"
  },
  "cells": [
    {
      "cell_type": "markdown",
      "metadata": {
        "id": "view-in-github",
        "colab_type": "text"
      },
      "source": [
        "<a href=\"https://colab.research.google.com/github/SDS-AAU/SDS-master/blob/master/M3/exercises/CNN_workshop_R.ipynb\" target=\"_parent\"><img src=\"https://colab.research.google.com/assets/colab-badge.svg\" alt=\"Open In Colab\"/></a>"
      ]
    },
    {
      "cell_type": "code",
      "metadata": {
        "id": "B182jHUpgAuz",
        "colab": {
          "base_uri": "https://localhost:8080/"
        },
        "outputId": "5f692ec8-08ed-4f2c-f946-567127d621c9"
      },
      "source": [
        "install.packages('reticulate')\n",
        "install.packages('magrittr')"
      ],
      "execution_count": 1,
      "outputs": [
        {
          "output_type": "stream",
          "text": [
            "Installing package into ‘/usr/local/lib/R/site-library’\n",
            "(as ‘lib’ is unspecified)\n",
            "\n",
            "Installing package into ‘/usr/local/lib/R/site-library’\n",
            "(as ‘lib’ is unspecified)\n",
            "\n"
          ],
          "name": "stderr"
        }
      ]
    },
    {
      "cell_type": "code",
      "metadata": {
        "id": "7PUiTnwWfq7o",
        "colab": {
          "base_uri": "https://localhost:8080/"
        },
        "outputId": "25a397ca-1494-422d-d184-449a9819627c"
      },
      "source": [
        "devtools::install_github(\"rstudio/keras\") "
      ],
      "execution_count": 2,
      "outputs": [
        {
          "output_type": "stream",
          "text": [
            "Skipping install of 'keras' from a github remote, the SHA1 (aaddf0e4) has not changed since last install.\n",
            "  Use `force = TRUE` to force installation\n",
            "\n"
          ],
          "name": "stderr"
        }
      ]
    },
    {
      "cell_type": "code",
      "metadata": {
        "id": "P3S5pJcuh6H3",
        "outputId": "779c06ee-e1c7-42c8-b3a0-9ee4d92162c0",
        "colab": {
          "base_uri": "https://localhost:8080/"
        }
      },
      "source": [
        "library(tidyverse)\n",
        "library(magrittr)\n",
        "library(keras)"
      ],
      "execution_count": 3,
      "outputs": [
        {
          "output_type": "stream",
          "text": [
            "── \u001b[1mAttaching packages\u001b[22m ─────────────────────────────────────── tidyverse 1.3.0 ──\n",
            "\n",
            "\u001b[32m✔\u001b[39m \u001b[34mggplot2\u001b[39m 3.3.2     \u001b[32m✔\u001b[39m \u001b[34mpurrr  \u001b[39m 0.3.4\n",
            "\u001b[32m✔\u001b[39m \u001b[34mtibble \u001b[39m 3.0.4     \u001b[32m✔\u001b[39m \u001b[34mdplyr  \u001b[39m 1.0.2\n",
            "\u001b[32m✔\u001b[39m \u001b[34mtidyr  \u001b[39m 1.1.2     \u001b[32m✔\u001b[39m \u001b[34mstringr\u001b[39m 1.4.0\n",
            "\u001b[32m✔\u001b[39m \u001b[34mreadr  \u001b[39m 1.4.0     \u001b[32m✔\u001b[39m \u001b[34mforcats\u001b[39m 0.5.0\n",
            "\n",
            "── \u001b[1mConflicts\u001b[22m ────────────────────────────────────────── tidyverse_conflicts() ──\n",
            "\u001b[31m✖\u001b[39m \u001b[34mdplyr\u001b[39m::\u001b[32mfilter()\u001b[39m masks \u001b[34mstats\u001b[39m::filter()\n",
            "\u001b[31m✖\u001b[39m \u001b[34mdplyr\u001b[39m::\u001b[32mlag()\u001b[39m    masks \u001b[34mstats\u001b[39m::lag()\n",
            "\n",
            "\n",
            "Attaching package: ‘magrittr’\n",
            "\n",
            "\n",
            "The following object is masked from ‘package:purrr’:\n",
            "\n",
            "    set_names\n",
            "\n",
            "\n",
            "The following object is masked from ‘package:tidyr’:\n",
            "\n",
            "    extract\n",
            "\n",
            "\n"
          ],
          "name": "stderr"
        }
      ]
    },
    {
      "cell_type": "code",
      "metadata": {
        "id": "SP3qCZJEi1Kt"
      },
      "source": [
        "# Let's start by downloading and exploring the data\n",
        "temp <- tempfile()\n",
        "download.file('https://storage.googleapis.com/sds-file-transfer/hot-dog-not-hot-dog.zip',temp)\n",
        "unzip(temp)\n",
        "unlink(temp)"
      ],
      "execution_count": 39,
      "outputs": []
    },
    {
      "cell_type": "code",
      "metadata": {
        "id": "ZqvDPcaDlGpX",
        "colab": {
          "base_uri": "https://localhost:8080/",
          "height": 51
        },
        "outputId": "c623671a-782a-4ba4-9a6a-ab55b832b3c4"
      },
      "source": [
        "list.files(path = \"test\") %>% head()\n",
        "list.files(path = \"train\") %>% head()"
      ],
      "execution_count": 41,
      "outputs": [
        {
          "output_type": "display_data",
          "data": {
            "text/plain": [
              "[1] \"hot_dog\"     \"not_hot_dog\""
            ],
            "text/latex": "\\begin{enumerate*}\n\\item 'hot\\_dog'\n\\item 'not\\_hot\\_dog'\n\\end{enumerate*}\n",
            "text/markdown": "1. 'hot_dog'\n2. 'not_hot_dog'\n\n\n",
            "text/html": [
              "<style>\n",
              ".list-inline {list-style: none; margin:0; padding: 0}\n",
              ".list-inline>li {display: inline-block}\n",
              ".list-inline>li:not(:last-child)::after {content: \"\\00b7\"; padding: 0 .5ex}\n",
              "</style>\n",
              "<ol class=list-inline><li>'hot_dog'</li><li>'not_hot_dog'</li></ol>\n"
            ]
          },
          "metadata": {
            "tags": []
          }
        },
        {
          "output_type": "display_data",
          "data": {
            "text/plain": [
              "[1] \"hot_dog\"     \"not_hot_dog\""
            ],
            "text/latex": "\\begin{enumerate*}\n\\item 'hot\\_dog'\n\\item 'not\\_hot\\_dog'\n\\end{enumerate*}\n",
            "text/markdown": "1. 'hot_dog'\n2. 'not_hot_dog'\n\n\n",
            "text/html": [
              "<style>\n",
              ".list-inline {list-style: none; margin:0; padding: 0}\n",
              ".list-inline>li {display: inline-block}\n",
              ".list-inline>li:not(:last-child)::after {content: \"\\00b7\"; padding: 0 .5ex}\n",
              "</style>\n",
              "<ol class=list-inline><li>'hot_dog'</li><li>'not_hot_dog'</li></ol>\n"
            ]
          },
          "metadata": {
            "tags": []
          }
        }
      ]
    },
    {
      "cell_type": "markdown",
      "metadata": {
        "id": "U4hBr22Yjd-2"
      },
      "source": [
        "# Preprocessing\n",
        "\n",
        "Same as in the former notebook"
      ]
    },
    {
      "cell_type": "code",
      "metadata": {
        "id": "Sp-BqJ_rwek0"
      },
      "source": [
        "# how much data?\n",
        "train_size <- c(list.files(path = \"train/hot_dog\"), list.files(path = \"train/not_hot_dog\")) %>% length()\n",
        "test_size <- c(list.files(path = \"test/hot_dog\"), list.files(path = \"test/not_hot_dog\")) %>% length()"
      ],
      "execution_count": 42,
      "outputs": []
    },
    {
      "cell_type": "code",
      "metadata": {
        "id": "OLUk5ayRf0Uo"
      },
      "source": [
        "class_list <- c('hot_dog', 'not_hot_dog')\n",
        "output_n <- length(class_list)\n",
        "img_width <- 224\n",
        "img_height <- 224\n",
        "target_size <- c(img_width, img_height)\n",
        "channels <- 3\n",
        "train_files_path <- 'train'\n",
        "test_files_path <- 'test'\n",
        "batch_size <- 32"
      ],
      "execution_count": 43,
      "outputs": []
    },
    {
      "cell_type": "code",
      "metadata": {
        "id": "4VNSQRB7j3-F"
      },
      "source": [
        "train_data_gen = image_data_generator(rescale = 1/255, shear_range = 0.2, zoom_range = 0.2, horizontal_flip = TRUE)\n",
        "test_data_gen <- image_data_generator(rescale = 1/255)  "
      ],
      "execution_count": 44,
      "outputs": []
    },
    {
      "cell_type": "code",
      "metadata": {
        "id": "I3fjJ_Vuj73n"
      },
      "source": [
        "train_image_array_gen <- flow_images_from_directory(train_files_path, train_data_gen, target_size = target_size, class_mode = \"binary\", \n",
        "                                                    classes = class_list,batch_size = batch_size, seed = 1337)\n",
        "\n",
        "test_image_array_gen <- flow_images_from_directory(test_files_path, test_data_gen, target_size = target_size, class_mode = \"binary\",\n",
        "                                          classes = class_list, batch_size = batch_size, seed = 1337)"
      ],
      "execution_count": 45,
      "outputs": []
    },
    {
      "cell_type": "markdown",
      "metadata": {
        "id": "oYuW3LfekOox"
      },
      "source": [
        "# Loading pretrained model\n",
        "\n",
        "Keras has some great built-in applications - basically pretrained models with some nice functional overhead. We will start by loadeing VGG16 (a rather large model with many many many layers that has been trained on imagenet)\n",
        "\n"
      ]
    },
    {
      "cell_type": "code",
      "metadata": {
        "id": "4WNAODdtkCHN"
      },
      "source": [
        "# create the base pre-trained model\n",
        "base_model <- application_vgg16(\n",
        "  include_top = FALSE,\n",
        "  weights='imagenet',\n",
        "  input_shape = c(img_height, img_width, channels))"
      ],
      "execution_count": 46,
      "outputs": []
    },
    {
      "cell_type": "code",
      "metadata": {
        "id": "VuQszWiokVkR"
      },
      "source": [
        "predictions <- base_model$output %>% \n",
        "  layer_flatten(trainable = T) %>%\n",
        "  layer_dense(1024, activation = 'relu', trainable = T) %>%\n",
        "  layer_dropout(0.4, trainable = T) %>%\n",
        "  layer_dense(84, activation = 'relu', trainable=T) %>%  \n",
        "  layer_dense(units = 1, activation = 'sigmoid', trainable=T)"
      ],
      "execution_count": 48,
      "outputs": []
    },
    {
      "cell_type": "code",
      "metadata": {
        "id": "NYvqtdvZkfYs"
      },
      "source": [
        "# this is the model we will train\n",
        "model <- keras_model(inputs = base_model$input, outputs = predictions)"
      ],
      "execution_count": 49,
      "outputs": []
    },
    {
      "cell_type": "code",
      "metadata": {
        "id": "FF3KJ_Grx492"
      },
      "source": [
        "# let's visualize layer names and layer indices to see how many layers we should freeze:\n",
        "layers <- base_model$layers\n",
        "for (i in 1:length(layers))\n",
        "  cat(i, layers[[i]]$name, \"\\n\")"
      ],
      "execution_count": null,
      "outputs": []
    },
    {
      "cell_type": "code",
      "metadata": {
        "id": "0BN1wLo6kiME"
      },
      "source": [
        "# first: train only the top layers \n",
        "for (layer in base_model$layers)\n",
        "  layer$trainable <- FALSE"
      ],
      "execution_count": 50,
      "outputs": []
    },
    {
      "cell_type": "code",
      "metadata": {
        "id": "JywGeDfrklMK"
      },
      "source": [
        "# compile the model (should be done *after* setting layers to non-trainable)\n",
        "model %>% compile(optimizer = 'adam', \n",
        "                  loss = 'binary_crossentropy',\n",
        "                  metric = 'accuracy')"
      ],
      "execution_count": 51,
      "outputs": []
    },
    {
      "cell_type": "code",
      "metadata": {
        "id": "q-AtnO9ikpeM"
      },
      "source": [
        "# train the model on the new data for a few epochs\n",
        "model %>% fit_generator(\n",
        "  train_image_array_gen,\n",
        "  steps_per_epoch = as.integer((train_size / batch_size) ),\n",
        "  epochs = 5, \n",
        "  verbose = FALSE,\n",
        "  )"
      ],
      "execution_count": 52,
      "outputs": []
    },
    {
      "cell_type": "code",
      "metadata": {
        "id": "oiFmuxKLloN9"
      },
      "source": [
        "# we chose to train the top 2 blocks, i.e. we will freeze the first layers and unfreeze the rest:\n",
        "for (i in 1:17)\n",
        "  layers[[i]]$trainable <- FALSE\n",
        "for (i in 18:length(layers))\n",
        "  layers[[i]]$trainable <- TRUE"
      ],
      "execution_count": 54,
      "outputs": []
    },
    {
      "cell_type": "code",
      "metadata": {
        "id": "GAKkRGYQmBYH"
      },
      "source": [
        "# we need to recompile the model for these modifications to take effect\n",
        "model %>% compile(optimizer = 'adam', \n",
        "                  loss = 'binary_crossentropy',\n",
        "                  metric = 'accuracy')"
      ],
      "execution_count": 55,
      "outputs": []
    },
    {
      "cell_type": "code",
      "metadata": {
        "id": "dBc4rF0SmFYM"
      },
      "source": [
        "# we train our model again (this time fine-tuning the top 2  blocks\n",
        "# alongside the top Dense layers\n",
        "# train the model on the new data for a few epochs\n",
        "hist <- model %>% fit_generator(\n",
        "  train_image_array_gen,\n",
        "  steps_per_epoch = as.integer((train_size / batch_size) ),\n",
        "  epochs = 10, \n",
        "  validation_data = test_image_array_gen,\n",
        "  validation_steps = as.integer((test_size / batch_size) ),\n",
        "  verbose = FALSE\n",
        "  )"
      ],
      "execution_count": 56,
      "outputs": []
    },
    {
      "cell_type": "code",
      "metadata": {
        "id": "b2_y8zEHteQK",
        "outputId": "7e5668f8-8751-4734-9346-5e66e986be13",
        "colab": {
          "base_uri": "https://localhost:8080/",
          "height": 471
        }
      },
      "source": [
        "hist %>% plot()"
      ],
      "execution_count": 57,
      "outputs": [
        {
          "output_type": "stream",
          "text": [
            "`geom_smooth()` using formula 'y ~ x'\n",
            "\n"
          ],
          "name": "stderr"
        },
        {
          "output_type": "display_data",
          "data": {
            "image/png": "[encoded data removed]",
            "text/plain": [
              "plot without title"
            ]
          },
          "metadata": {
            "tags": [],
            "image/png": {
              "width": 420,
              "height": 420
            }
          }
        }
      ]
    },
    {
      "cell_type": "code",
      "metadata": {
        "id": "MLcCYa-9mJeg",
        "colab": {
          "base_uri": "https://localhost:8080/",
          "height": 34
        },
        "outputId": "47bb2b67-034c-4438-a7b1-d6aa9efc5f3c"
      },
      "source": [
        "model %>% evaluate_generator(test_image_array_gen, steps=500)"
      ],
      "execution_count": 58,
      "outputs": [
        {
          "output_type": "display_data",
          "data": {
            "text/plain": [
              "    loss accuracy \n",
              "1.191823 0.800000 "
            ],
            "text/latex": "\\begin{description*}\n\\item[loss] 1.19182336330414\n\\item[accuracy] 0.800000011920929\n\\end{description*}\n",
            "text/markdown": "loss\n:   1.19182336330414accuracy\n:   0.800000011920929\n\n",
            "text/html": [
              "<style>\n",
              ".dl-inline {width: auto; margin:0; padding: 0}\n",
              ".dl-inline>dt, .dl-inline>dd {float: none; width: auto; display: inline-block}\n",
              ".dl-inline>dt::after {content: \":\\0020\"; padding-right: .5ex}\n",
              ".dl-inline>dt:not(:first-of-type) {padding-left: .5ex}\n",
              "</style><dl class=dl-inline><dt>loss</dt><dd>1.19182336330414</dd><dt>accuracy</dt><dd>0.800000011920929</dd></dl>\n"
            ]
          },
          "metadata": {
            "tags": []
          }
        }
      ]
    },
    {
      "cell_type": "markdown",
      "metadata": {
        "id": "4PWktfOlmYPr"
      },
      "source": [
        "# some own image"
      ]
    },
    {
      "cell_type": "markdown",
      "metadata": {
        "id": "JgXGBipAmzM9"
      },
      "source": [
        "![](https://do512family.com/wp-content/uploads/2018/04/18222376_1528395153845930_2934228273602805559_n.jpg)\n",
        "\n",
        "\n",
        "![](http://myminidoxie.com/wp-content/uploads/2012/11/which-came-first-the-wiener-or-the-dachshund.jpg)\n"
      ]
    },
    {
      "cell_type": "code",
      "metadata": {
        "id": "pejFx-3DmcPb"
      },
      "source": [
        "download.file('https://do512family.com/wp-content/uploads/2018/04/18222376_1528395153845930_2934228273602805559_n.jpg',\n",
        "'wiener1.jpg', mode = 'wb')\n",
        "\n",
        "download.file('http://myminidoxie.com/wp-content/uploads/2012/11/which-came-first-the-wiener-or-the-dachshund.jpg',\n",
        "'wiener2.jpg', mode = 'wb')"
      ],
      "execution_count": 59,
      "outputs": []
    },
    {
      "cell_type": "code",
      "metadata": {
        "id": "469M-QkHmaWr"
      },
      "source": [
        "img <- image_load('wiener2.jpg', target_size = target_size) %>% image_to_array() %>% array_reshape(c(1, dim(.)))"
      ],
      "execution_count": 63,
      "outputs": []
    },
    {
      "cell_type": "code",
      "metadata": {
        "id": "CHmvWIhDowHW"
      },
      "source": [
        "res <- predict(model, img)"
      ],
      "execution_count": 64,
      "outputs": []
    },
    {
      "cell_type": "code",
      "metadata": {
        "id": "rTzCP6_sozdf",
        "colab": {
          "base_uri": "https://localhost:8080/",
          "height": 74
        },
        "outputId": "fdfdf51c-b28f-4f2f-ed7d-92e4e14f968c"
      },
      "source": [
        "ifelse(res == 0, 'hot_dog', 'not_hot_dog')"
      ],
      "execution_count": 65,
      "outputs": [
        {
          "output_type": "display_data",
          "data": {
            "text/plain": [
              "     [,1]       \n",
              "[1,] not_hot_dog"
            ],
            "text/latex": "A matrix: 1 × 1 of type chr\n\\begin{tabular}{l}\n\t not\\_hot\\_dog\\\\\n\\end{tabular}\n",
            "text/markdown": "\nA matrix: 1 × 1 of type chr\n\n| not_hot_dog |\n\n",
            "text/html": [
              "<table>\n",
              "<caption>A matrix: 1 × 1 of type chr</caption>\n",
              "<tbody>\n",
              "\t<tr><td>not_hot_dog</td></tr>\n",
              "</tbody>\n",
              "</table>\n"
            ]
          },
          "metadata": {
            "tags": []
          }
        }
      ]
    },
    {
      "cell_type": "markdown",
      "metadata": {
        "id": "iT5kvrNEpwQD"
      },
      "source": [
        "# Model explanations"
      ]
    }
  ]
}