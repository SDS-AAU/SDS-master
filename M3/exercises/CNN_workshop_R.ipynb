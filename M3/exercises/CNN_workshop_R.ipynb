{
 "cells": [
  {
   "cell_type": "code",
   "execution_count": null,
   "metadata": {
    "Rmd_chunk_options": "setup, include=FALSE",
    "autoscroll": false,
    "collapsed": true
   },
   "outputs": [],
   "source": [
    "### Generic preamble\n",
    "rm(list=ls())\n",
    "Sys.setenv(LANG = \"en\") # For english language\n",
    "options(scipen = 5) # To deactivate annoying scientific number notation\n",
    "\n",
    "### Knitr options\n",
    "library(knitr) # For display of the markdown\n",
    "knitr::opts_chunk$set(warning=FALSE,\n",
    "                     message=FALSE,\n",
    "                     comment=FALSE,\n",
    "                     fig.align=\"center\"\n",
    "                     )"
   ]
  },
  {
   "cell_type": "code",
   "execution_count": null,
   "metadata": {
    "autoscroll": false,
    "collapsed": true
   },
   "outputs": [],
   "source": [
    "library(tidyverse)\n",
    "library(magrittr)\n",
    "library(keras)"
   ]
  }
 ],
 "metadata": {
  "Rmd_header": {
   "author": "Daniel S. Hain (dsh@business.aau.dk)",
   "date": "Updated `r format(Sys.time(), '%B %d, %Y')`",
   "output": {
    "html_notebook": {
     "code_folding": "show",
     "df_print": "paged",
     "theme": "flatly",
     "toc": true,
     "toc_depth": 2,
     "toc_float": {
      "collapsed": false
     }
    }
   },
   "title": "Neural Networks Workshop: Hotdog/Not Hotdog (R)"
  },
  "kernelspec": {
   "display_name": "R",
   "language": "R",
   "name": "ir"
  },
  "language_info": {
   "codemirror_mode": "r",
   "file_extension": ".r",
   "mimetype": "text/x-r-source",
   "name": "R",
   "pygments_lexer": "r"
  }
 },
 "nbformat": 4,
 "nbformat_minor": 0
}
