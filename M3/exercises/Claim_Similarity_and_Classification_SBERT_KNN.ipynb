{
  "nbformat": 4,
  "nbformat_minor": 0,
  "metadata": {
    "colab": {
      "name": "Claim Similarity and Classification SBERT_KNN.ipynb",
      "provenance": [],
      "collapsed_sections": [],
      "include_colab_link": true
    },
    "kernelspec": {
      "name": "python3",
      "display_name": "Python 3"
    }
  },
  "cells": [
    {
      "cell_type": "markdown",
      "metadata": {
        "id": "view-in-github",
        "colab_type": "text"
      },
      "source": [
        "<a href=\"https://colab.research.google.com/github/SDS-AAU/SDS-master/blob/master/M3/exercises/Claim_Similarity_and_Classification_SBERT_KNN.ipynb\" target=\"_parent\"><img src=\"https://colab.research.google.com/assets/colab-badge.svg\" alt=\"Open In Colab\"/></a>"
      ]
    },
    {
      "cell_type": "code",
      "metadata": {
        "id": "c2jVU19sB6Tm",
        "colab": {
          "base_uri": "https://localhost:8080/"
        },
        "outputId": "02b35850-542c-4df3-edad-cdb0abaeefc8"
      },
      "source": [
        "!pip install sentence_transformers"
      ],
      "execution_count": 1,
      "outputs": [
        {
          "output_type": "stream",
          "text": [
            "Collecting sentence_transformers\n",
            "\u001b[?25l  Downloading https://files.pythonhosted.org/packages/f5/5a/6e41e8383913dd2ba923cdcd02be2e03911595f4d2f9de559ecbed80d2d3/sentence-transformers-0.3.9.tar.gz (64kB)\n",
            "\u001b[K     |████████████████████████████████| 71kB 3.4MB/s \n",
            "\u001b[?25hCollecting transformers<3.6.0,>=3.1.0\n",
            "\u001b[?25l  Downloading https://files.pythonhosted.org/packages/3a/83/e74092e7f24a08d751aa59b37a9fc572b2e4af3918cb66f7766c3affb1b4/transformers-3.5.1-py3-none-any.whl (1.3MB)\n",
            "\u001b[K     |████████████████████████████████| 1.3MB 6.4MB/s \n",
            "\u001b[?25hRequirement already satisfied: tqdm in /usr/local/lib/python3.6/dist-packages (from sentence_transformers) (4.41.1)\n",
            "Requirement already satisfied: torch>=1.6.0 in /usr/local/lib/python3.6/dist-packages (from sentence_transformers) (1.7.0+cu101)\n",
            "Requirement already satisfied: numpy in /usr/local/lib/python3.6/dist-packages (from sentence_transformers) (1.18.5)\n",
            "Requirement already satisfied: scikit-learn in /usr/local/lib/python3.6/dist-packages (from sentence_transformers) (0.22.2.post1)\n",
            "Requirement already satisfied: scipy in /usr/local/lib/python3.6/dist-packages (from sentence_transformers) (1.4.1)\n",
            "Requirement already satisfied: nltk in /usr/local/lib/python3.6/dist-packages (from sentence_transformers) (3.2.5)\n",
            "Collecting sentencepiece==0.1.91\n",
            "\u001b[?25l  Downloading https://files.pythonhosted.org/packages/d4/a4/d0a884c4300004a78cca907a6ff9a5e9fe4f090f5d95ab341c53d28cbc58/sentencepiece-0.1.91-cp36-cp36m-manylinux1_x86_64.whl (1.1MB)\n",
            "\u001b[K     |████████████████████████████████| 1.1MB 15.5MB/s \n",
            "\u001b[?25hRequirement already satisfied: dataclasses; python_version < \"3.7\" in /usr/local/lib/python3.6/dist-packages (from transformers<3.6.0,>=3.1.0->sentence_transformers) (0.8)\n",
            "Collecting tokenizers==0.9.3\n",
            "\u001b[?25l  Downloading https://files.pythonhosted.org/packages/4c/34/b39eb9994bc3c999270b69c9eea40ecc6f0e97991dba28282b9fd32d44ee/tokenizers-0.9.3-cp36-cp36m-manylinux1_x86_64.whl (2.9MB)\n",
            "\u001b[K     |████████████████████████████████| 2.9MB 25.5MB/s \n",
            "\u001b[?25hCollecting sacremoses\n",
            "\u001b[?25l  Downloading https://files.pythonhosted.org/packages/7d/34/09d19aff26edcc8eb2a01bed8e98f13a1537005d31e95233fd48216eed10/sacremoses-0.0.43.tar.gz (883kB)\n",
            "\u001b[K     |████████████████████████████████| 890kB 47.9MB/s \n",
            "\u001b[?25hRequirement already satisfied: requests in /usr/local/lib/python3.6/dist-packages (from transformers<3.6.0,>=3.1.0->sentence_transformers) (2.23.0)\n",
            "Requirement already satisfied: protobuf in /usr/local/lib/python3.6/dist-packages (from transformers<3.6.0,>=3.1.0->sentence_transformers) (3.12.4)\n",
            "Requirement already satisfied: packaging in /usr/local/lib/python3.6/dist-packages (from transformers<3.6.0,>=3.1.0->sentence_transformers) (20.4)\n",
            "Requirement already satisfied: filelock in /usr/local/lib/python3.6/dist-packages (from transformers<3.6.0,>=3.1.0->sentence_transformers) (3.0.12)\n",
            "Requirement already satisfied: regex!=2019.12.17 in /usr/local/lib/python3.6/dist-packages (from transformers<3.6.0,>=3.1.0->sentence_transformers) (2019.12.20)\n",
            "Requirement already satisfied: typing-extensions in /usr/local/lib/python3.6/dist-packages (from torch>=1.6.0->sentence_transformers) (3.7.4.3)\n",
            "Requirement already satisfied: future in /usr/local/lib/python3.6/dist-packages (from torch>=1.6.0->sentence_transformers) (0.16.0)\n",
            "Requirement already satisfied: joblib>=0.11 in /usr/local/lib/python3.6/dist-packages (from scikit-learn->sentence_transformers) (0.17.0)\n",
            "Requirement already satisfied: six in /usr/local/lib/python3.6/dist-packages (from nltk->sentence_transformers) (1.15.0)\n",
            "Requirement already satisfied: click in /usr/local/lib/python3.6/dist-packages (from sacremoses->transformers<3.6.0,>=3.1.0->sentence_transformers) (7.1.2)\n",
            "Requirement already satisfied: urllib3!=1.25.0,!=1.25.1,<1.26,>=1.21.1 in /usr/local/lib/python3.6/dist-packages (from requests->transformers<3.6.0,>=3.1.0->sentence_transformers) (1.24.3)\n",
            "Requirement already satisfied: certifi>=2017.4.17 in /usr/local/lib/python3.6/dist-packages (from requests->transformers<3.6.0,>=3.1.0->sentence_transformers) (2020.11.8)\n",
            "Requirement already satisfied: chardet<4,>=3.0.2 in /usr/local/lib/python3.6/dist-packages (from requests->transformers<3.6.0,>=3.1.0->sentence_transformers) (3.0.4)\n",
            "Requirement already satisfied: idna<3,>=2.5 in /usr/local/lib/python3.6/dist-packages (from requests->transformers<3.6.0,>=3.1.0->sentence_transformers) (2.10)\n",
            "Requirement already satisfied: setuptools in /usr/local/lib/python3.6/dist-packages (from protobuf->transformers<3.6.0,>=3.1.0->sentence_transformers) (50.3.2)\n",
            "Requirement already satisfied: pyparsing>=2.0.2 in /usr/local/lib/python3.6/dist-packages (from packaging->transformers<3.6.0,>=3.1.0->sentence_transformers) (2.4.7)\n",
            "Building wheels for collected packages: sentence-transformers, sacremoses\n",
            "  Building wheel for sentence-transformers (setup.py) ... \u001b[?25l\u001b[?25hdone\n",
            "  Created wheel for sentence-transformers: filename=sentence_transformers-0.3.9-cp36-none-any.whl size=101036 sha256=da18df50afb75ac7aec2056d211005f534581b60139d39a4a5d3a5b9de96f6ed\n",
            "  Stored in directory: /root/.cache/pip/wheels/fc/89/43/f2f5bc00b03ef9724b0f6254a97eaf159a4c4ddc024b33e07a\n",
            "  Building wheel for sacremoses (setup.py) ... \u001b[?25l\u001b[?25hdone\n",
            "  Created wheel for sacremoses: filename=sacremoses-0.0.43-cp36-none-any.whl size=893257 sha256=42ae55a96f113482ae62b4bd58f37d66c3f5e10ace9c51a90460cabd562b0716\n",
            "  Stored in directory: /root/.cache/pip/wheels/29/3c/fd/7ce5c3f0666dab31a50123635e6fb5e19ceb42ce38d4e58f45\n",
            "Successfully built sentence-transformers sacremoses\n",
            "Installing collected packages: sentencepiece, tokenizers, sacremoses, transformers, sentence-transformers\n",
            "Successfully installed sacremoses-0.0.43 sentence-transformers-0.3.9 sentencepiece-0.1.91 tokenizers-0.9.3 transformers-3.5.1\n"
          ],
          "name": "stdout"
        }
      ]
    },
    {
      "cell_type": "code",
      "metadata": {
        "id": "Nl6vMeHxKTSw"
      },
      "source": [
        "import scipy.spatial\n",
        "import numpy as np\n",
        "import os, json\n",
        "import glob\n",
        "import re\n",
        "import torch\n",
        "import pandas as pd"
      ],
      "execution_count": 2,
      "outputs": []
    },
    {
      "cell_type": "code",
      "metadata": {
        "id": "0SKcdUBUFL4X"
      },
      "source": [
        "df_row = pd.read_csv('https://github.com/SDS-AAU/SDS-master/raw/master/00_data/patent_claim5000.csv')"
      ],
      "execution_count": 4,
      "outputs": []
    },
    {
      "cell_type": "code",
      "metadata": {
        "id": "ZkQ_L8kXQRJm"
      },
      "source": [
        "df_row.head()"
      ],
      "execution_count": null,
      "outputs": []
    },
    {
      "cell_type": "code",
      "metadata": {
        "id": "yD8WxypujijC"
      },
      "source": [
        "# df_row.iloc[0]['text']"
      ],
      "execution_count": null,
      "outputs": []
    },
    {
      "cell_type": "code",
      "metadata": {
        "id": "k8lSU_dYj025"
      },
      "source": [
        "df_newmergetext = df_row.groupby('patent_id')['text'].apply(lambda x: \"{%s}\" % ', '.join(x))\n",
        "# df_newmergetext.head()\n",
        "# type(df_newmergetext)"
      ],
      "execution_count": null,
      "outputs": []
    },
    {
      "cell_type": "code",
      "metadata": {
        "id": "SK0ILaVtkAsn"
      },
      "source": [
        "df_newmergetext = df_newmergetext.to_frame()\n",
        "# df_newmergetext.head()\n",
        "# df_newmergetext.iloc[0]['text']"
      ],
      "execution_count": null,
      "outputs": []
    },
    {
      "cell_type": "code",
      "metadata": {
        "id": "t7MwdYKNkJI4"
      },
      "source": [
        "df = pd.merge(df_row.drop_duplicates(subset='patent_id'), df_newmergetext, on='patent_id', how='inner')"
      ],
      "execution_count": null,
      "outputs": []
    },
    {
      "cell_type": "code",
      "metadata": {
        "id": "inAwgaDFkRmE"
      },
      "source": [
        "# df.head()\n",
        "df['text_y'] = df['text_y'].str.strip('{}')"
      ],
      "execution_count": null,
      "outputs": []
    },
    {
      "cell_type": "code",
      "metadata": {
        "id": "oZ8ohjZUkgRH"
      },
      "source": [
        "df = df.drop('text_x', axis=1)"
      ],
      "execution_count": null,
      "outputs": []
    },
    {
      "cell_type": "code",
      "metadata": {
        "id": "g-cGeNaDkkaK"
      },
      "source": [
        "df.head()"
      ],
      "execution_count": null,
      "outputs": []
    },
    {
      "cell_type": "code",
      "metadata": {
        "id": "jiBKqGailUZr"
      },
      "source": [
        "df = df.rename(columns={\"text_y\": \"text\"}, errors=\"raise\")"
      ],
      "execution_count": null,
      "outputs": []
    },
    {
      "cell_type": "code",
      "metadata": {
        "id": "Dqn9Pd6EkmZR"
      },
      "source": [
        "total_patents = df.count()\n",
        "total_patents"
      ],
      "execution_count": null,
      "outputs": []
    },
    {
      "cell_type": "code",
      "metadata": {
        "id": "OgW99gz3Qo4c"
      },
      "source": [
        "# df_test_tensor = df.drop(['text', 'dependent'], axis=1)\n",
        "# df_test_tensor\n",
        "# sorted, indices = torch.sort(df_tensor, 0)"
      ],
      "execution_count": null,
      "outputs": []
    },
    {
      "cell_type": "code",
      "metadata": {
        "id": "9WVrtjzXFWu1"
      },
      "source": [
        "claims = list(df.text)\n",
        "patent_id = list(df.patent_id)"
      ],
      "execution_count": null,
      "outputs": []
    },
    {
      "cell_type": "code",
      "metadata": {
        "id": "S3oCcr88Fsb1"
      },
      "source": [
        "from sentence_transformers import SentenceTransformer"
      ],
      "execution_count": null,
      "outputs": []
    },
    {
      "cell_type": "code",
      "metadata": {
        "id": "6xBxdJVg6d_J"
      },
      "source": [
        "Test_claim_embeddings = embedder.encode(claims)"
      ],
      "execution_count": null,
      "outputs": []
    },
    {
      "cell_type": "code",
      "metadata": {
        "id": "5LsjbPYRFxV0"
      },
      "source": [
        "def get_top_n_similar_patents_df(new_claim, claims):\n",
        "    # embedder = SentenceTransformer('bert-base-nli-stsb-mean-tokens')\n",
        "    embedder = SentenceTransformer('roberta-base-nli-stsb-mean-tokens')\n",
        "    query_embeddings = embedder.encode([new_claim])\n",
        "\n",
        "    # list of patent claims\n",
        "    claim_embeddings = embedder.encode(claims)\n",
        "\n",
        "    # get top 100 patent claims based on cosine similarity\n",
        "    closest_n = 100\n",
        "    distances = scipy.spatial.distance.cdist(query_embeddings, claim_embeddings, \"cosine\")[0]\n",
        "\n",
        "    results = zip(range(len(distances)), distances)\n",
        "    results = sorted(results, key=lambda x: x[1])\n",
        "\n",
        "    # save similar patents info\n",
        "    top_claim_ids = []\n",
        "    top_claims = []\n",
        "    top_similarity_scores = []\n",
        "\n",
        "\n",
        "    print('New_claim: ' + new_claim + '\\n')\n",
        "\n",
        "    # Find the closest 100 patent claims for each query new_claim based on cosine similarity\n",
        "    for idx, distance in results[0:closest_n]:\n",
        "        top_claim_ids.append(patent_id[idx])\n",
        "        top_claims.append(claims[idx])\n",
        "        top_similarity_scores.append(round((1-distance), 4))\n",
        "        print('Patent ID: ' + str(patent_id[idx]))\n",
        "        print('PubMed Claim: ' + claims[idx])\n",
        "        print('Similarity Score: ' + \"%.4f\" % (1-distance))\n",
        "        print('\\n')\n",
        "        \n",
        "    top_100_similar_patents_df = pd.DataFrame({\n",
        "        'top_claim_ids': top_claim_ids,\n",
        "        'cosine_similarity': top_similarity_scores,\n",
        "        'claims': top_claims,\n",
        "    })\n",
        "    \n",
        "    return top_100_similar_patents_df"
      ],
      "execution_count": null,
      "outputs": []
    },
    {
      "cell_type": "code",
      "metadata": {
        "id": "XPomUyRuRHAE"
      },
      "source": [
        "new_claim = ['The computer-implemented method of claim 4 wherein the filtering criteria comprises a number of page groups in the page group list is greater than 1, and the representative rank is less than or equal to the exit-entry max paths. The computer-implemented method of claim 2 wherein the selecting of the top n unconverted session paths further comprises only selecting unconverted sessions that meet a filtering criteria. The computer-implemented method of claim 1 further comprising creating a master table that lists the set of load test scenarios and the think times that represents a distribution of paths taken by real users during the peak hour.']"
      ],
      "execution_count": null,
      "outputs": []
    },
    {
      "cell_type": "code",
      "metadata": {
        "id": "t8ORKVQyJFYX"
      },
      "source": [
        "# search for similar patent claim\n",
        "\n",
        "if os.path.exists('top_100_similar_patents_df.csv'):\n",
        "    get_top_n_similar_patents_df = pd.read_csv('top_100_similar_patents_df.csv')\n",
        "\n",
        "else:\n",
        "    get_top_n_similar_patents_df = get_top_n_similar_patents_df(new_claim[0], claims)"
      ],
      "execution_count": null,
      "outputs": []
    },
    {
      "cell_type": "code",
      "metadata": {
        "id": "y_zI1hoLKVMW"
      },
      "source": [
        "# type(get_top_n_similar_patents_df)"
      ],
      "execution_count": null,
      "outputs": []
    },
    {
      "cell_type": "code",
      "metadata": {
        "id": "yB7Dqvbee7_G"
      },
      "source": [
        "get_top_n_similar_patents_df.head()"
      ],
      "execution_count": null,
      "outputs": []
    },
    {
      "cell_type": "code",
      "metadata": {
        "id": "80AZOv0ae-1E"
      },
      "source": [
        "result = pd.concat([get_top_n_similar_patents_df, df], axis=1, join='inner')"
      ],
      "execution_count": null,
      "outputs": []
    },
    {
      "cell_type": "code",
      "metadata": {
        "id": "f4Ob0j_Xh3hG"
      },
      "source": [
        "result.head()"
      ],
      "execution_count": null,
      "outputs": []
    },
    {
      "cell_type": "code",
      "metadata": {
        "id": "flCL_SC1vavw"
      },
      "source": [
        "print(result.count())"
      ],
      "execution_count": null,
      "outputs": []
    },
    {
      "cell_type": "code",
      "metadata": {
        "id": "IjZl_jNvh8Kz"
      },
      "source": [
        "# import pandas as pd\n",
        "# import torch\n",
        "\n",
        "# # determine the supported device\n",
        "# def get_device():\n",
        "#     if torch.cuda.is_available():\n",
        "#         device = torch.device('cuda:0')\n",
        "#     else:\n",
        "#         device = torch.device('cpu') # don't have GPU \n",
        "#     return device\n",
        "\n",
        "# # convert a df to tensor to be used in pytorch\n",
        "# def df_to_tensor(df):\n",
        "#     device = get_device()\n",
        "#     return torch.from_numpy(df.values).float().to(device)\n",
        "\n",
        "# df_tensor = df_to_tensor(result[['cosine_similarity','claim_number','patent_id']])\n",
        "# # series_tensor = df_to_tensor(series)"
      ],
      "execution_count": null,
      "outputs": []
    },
    {
      "cell_type": "code",
      "metadata": {
        "id": "B6J_-r5oiQ3E"
      },
      "source": [
        "# df_tensor\n",
        "# sorted, indices = torch.sort(df_tensor, 0)\n",
        "# a = torch.topk(df_tensor, 2, dim = 0)\n",
        "# a"
      ],
      "execution_count": null,
      "outputs": []
    },
    {
      "cell_type": "code",
      "metadata": {
        "id": "i3lAp65HkU9s"
      },
      "source": [
        "k_similar_patents = result.nlargest(10, ['cosine_similarity'])"
      ],
      "execution_count": null,
      "outputs": []
    },
    {
      "cell_type": "code",
      "metadata": {
        "id": "AHnUv1IIqlN-"
      },
      "source": [
        "k_similar_patents"
      ],
      "execution_count": null,
      "outputs": []
    },
    {
      "cell_type": "code",
      "metadata": {
        "id": "946WXJehrBwv"
      },
      "source": [
        "final_result = k_similar_patents.mode()\n",
        "print('Prediction for Subclass of New Patent is: ', final_result.iloc[0]['subclass'])"
      ],
      "execution_count": null,
      "outputs": []
    },
    {
      "cell_type": "code",
      "metadata": {
        "id": "P5NbR_4jTsV5"
      },
      "source": [
        ""
      ],
      "execution_count": null,
      "outputs": []
    }
  ]
}