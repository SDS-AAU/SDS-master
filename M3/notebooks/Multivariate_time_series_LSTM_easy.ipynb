{
  "nbformat": 4,
  "nbformat_minor": 0,
  "metadata": {
    "colab": {
      "name": "Multivariate-time-series-LSTM-easy.ipynb",
      "provenance": [],
      "collapsed_sections": [],
      "authorship_tag": "ABX9TyOerFXHStxYEI5jhwW2krVT",
      "include_colab_link": true
    },
    "kernelspec": {
      "name": "python3",
      "display_name": "Python 3"
    }
  },
  "cells": [
    {
      "cell_type": "markdown",
      "metadata": {
        "id": "view-in-github",
        "colab_type": "text"
      },
      "source": [
        "<a href=\"https://colab.research.google.com/github/SDS-AAU/dsba-cbs/blob/master/M3/workshop/Multivariate_time_series_LSTM_easy.ipynb\" target=\"_parent\"><img src=\"https://colab.research.google.com/assets/colab-badge.svg\" alt=\"Open In Colab\"/></a>"
      ]
    },
    {
      "cell_type": "code",
      "metadata": {
        "id": "CgCrZpLxHrkP"
      },
      "source": [
        "import pandas as pd\n",
        "import numpy as np\n",
        "import keras\n",
        "import matplotlib.pyplot as plt\n",
        "from sklearn.preprocessing import MinMaxScaler\n",
        "from pandas.plotting import register_matplotlib_converters\n",
        "register_matplotlib_converters()\n",
        "from keras.preprocessing.sequence import TimeseriesGenerator\n",
        "from keras.models import Sequential\n",
        "from keras.layers import Dense\n",
        "from keras.layers import LSTM\n",
        "\n",
        "from pandas_datareader import data as pdr"
      ],
      "execution_count": 1,
      "outputs": []
    },
    {
      "cell_type": "code",
      "metadata": {
        "id": "RAABeAYCH3xT"
      },
      "source": [
        "ibm = pdr.DataReader('IBM','stooq', start=\"2017-12-01\", end=\"2020-12-01\")\n",
        "aapl = pdr.DataReader('AAPL','stooq', start=\"2017-12-01\", end=\"2020-12-01\")\n",
        "tesla = pdr.DataReader('TSLA','stooq', start=\"2017-12-01\", end=\"2020-12-01\")\n",
        "gm =  pdr.DataReader('GM','stooq', start=\"2017-12-01\", end=\"2020-12-01\")"
      ],
      "execution_count": 2,
      "outputs": []
    },
    {
      "cell_type": "code",
      "metadata": {
        "id": "JTmrxB5WIi_k"
      },
      "source": [
        "data = pd.DataFrame({'IBM':ibm['Close'], 'AAPL':aapl['Close'], 'TSLA':tesla['Close'], 'GM': gm['Close']})"
      ],
      "execution_count": 3,
      "outputs": []
    },
    {
      "cell_type": "code",
      "metadata": {
        "id": "ApJGTMXxQxmy"
      },
      "source": [
        "data = data.sort_index(ascending=True)"
      ],
      "execution_count": 4,
      "outputs": []
    },
    {
      "cell_type": "code",
      "metadata": {
        "colab": {
          "base_uri": "https://localhost:8080/",
          "height": 448
        },
        "id": "8cKZfL25IjMZ",
        "outputId": "940ef753-b993-4391-8da1-48301d40ea86"
      },
      "source": [
        "data"
      ],
      "execution_count": 5,
      "outputs": [
        {
          "output_type": "execute_result",
          "data": {
            "text/html": [
              "<div>\n",
              "<style scoped>\n",
              "    .dataframe tbody tr th:only-of-type {\n",
              "        vertical-align: middle;\n",
              "    }\n",
              "\n",
              "    .dataframe tbody tr th {\n",
              "        vertical-align: top;\n",
              "    }\n",
              "\n",
              "    .dataframe thead th {\n",
              "        text-align: right;\n",
              "    }\n",
              "</style>\n",
              "<table border=\"1\" class=\"dataframe\">\n",
              "  <thead>\n",
              "    <tr style=\"text-align: right;\">\n",
              "      <th></th>\n",
              "      <th>IBM</th>\n",
              "      <th>AAPL</th>\n",
              "      <th>TSLA</th>\n",
              "      <th>GM</th>\n",
              "    </tr>\n",
              "    <tr>\n",
              "      <th>Date</th>\n",
              "      <th></th>\n",
              "      <th></th>\n",
              "      <th></th>\n",
              "      <th></th>\n",
              "    </tr>\n",
              "  </thead>\n",
              "  <tbody>\n",
              "    <tr>\n",
              "      <th>2017-12-01</th>\n",
              "      <td>134.24</td>\n",
              "      <td>41.154</td>\n",
              "      <td>61.306</td>\n",
              "      <td>38.623</td>\n",
              "    </tr>\n",
              "    <tr>\n",
              "      <th>2017-12-04</th>\n",
              "      <td>135.71</td>\n",
              "      <td>40.852</td>\n",
              "      <td>61.040</td>\n",
              "      <td>38.857</td>\n",
              "    </tr>\n",
              "    <tr>\n",
              "      <th>2017-12-05</th>\n",
              "      <td>134.76</td>\n",
              "      <td>40.815</td>\n",
              "      <td>60.740</td>\n",
              "      <td>38.632</td>\n",
              "    </tr>\n",
              "    <tr>\n",
              "      <th>2017-12-06</th>\n",
              "      <td>133.67</td>\n",
              "      <td>40.668</td>\n",
              "      <td>62.654</td>\n",
              "      <td>38.045</td>\n",
              "    </tr>\n",
              "    <tr>\n",
              "      <th>2017-12-07</th>\n",
              "      <td>133.21</td>\n",
              "      <td>40.735</td>\n",
              "      <td>62.252</td>\n",
              "      <td>38.272</td>\n",
              "    </tr>\n",
              "    <tr>\n",
              "      <th>...</th>\n",
              "      <td>...</td>\n",
              "      <td>...</td>\n",
              "      <td>...</td>\n",
              "      <td>...</td>\n",
              "    </tr>\n",
              "    <tr>\n",
              "      <th>2020-11-24</th>\n",
              "      <td>124.42</td>\n",
              "      <td>115.170</td>\n",
              "      <td>555.380</td>\n",
              "      <td>46.460</td>\n",
              "    </tr>\n",
              "    <tr>\n",
              "      <th>2020-11-25</th>\n",
              "      <td>124.20</td>\n",
              "      <td>116.030</td>\n",
              "      <td>574.000</td>\n",
              "      <td>45.460</td>\n",
              "    </tr>\n",
              "    <tr>\n",
              "      <th>2020-11-27</th>\n",
              "      <td>124.35</td>\n",
              "      <td>116.590</td>\n",
              "      <td>585.760</td>\n",
              "      <td>45.060</td>\n",
              "    </tr>\n",
              "    <tr>\n",
              "      <th>2020-11-30</th>\n",
              "      <td>123.52</td>\n",
              "      <td>119.050</td>\n",
              "      <td>567.600</td>\n",
              "      <td>43.840</td>\n",
              "    </tr>\n",
              "    <tr>\n",
              "      <th>2020-12-01</th>\n",
              "      <td>123.16</td>\n",
              "      <td>122.720</td>\n",
              "      <td>584.760</td>\n",
              "      <td>44.680</td>\n",
              "    </tr>\n",
              "  </tbody>\n",
              "</table>\n",
              "<p>755 rows × 4 columns</p>\n",
              "</div>"
            ],
            "text/plain": [
              "               IBM     AAPL     TSLA      GM\n",
              "Date                                        \n",
              "2017-12-01  134.24   41.154   61.306  38.623\n",
              "2017-12-04  135.71   40.852   61.040  38.857\n",
              "2017-12-05  134.76   40.815   60.740  38.632\n",
              "2017-12-06  133.67   40.668   62.654  38.045\n",
              "2017-12-07  133.21   40.735   62.252  38.272\n",
              "...            ...      ...      ...     ...\n",
              "2020-11-24  124.42  115.170  555.380  46.460\n",
              "2020-11-25  124.20  116.030  574.000  45.460\n",
              "2020-11-27  124.35  116.590  585.760  45.060\n",
              "2020-11-30  123.52  119.050  567.600  43.840\n",
              "2020-12-01  123.16  122.720  584.760  44.680\n",
              "\n",
              "[755 rows x 4 columns]"
            ]
          },
          "metadata": {
            "tags": []
          },
          "execution_count": 5
        }
      ]
    },
    {
      "cell_type": "code",
      "metadata": {
        "id": "L0RXEW7QIuAn"
      },
      "source": [
        "data['TSLA_y'] = data['TSLA'].shift(-1, fill_value=data['TSLA'].iloc[-1])"
      ],
      "execution_count": 6,
      "outputs": []
    },
    {
      "cell_type": "code",
      "metadata": {
        "colab": {
          "base_uri": "https://localhost:8080/"
        },
        "id": "syT8ij0rQHLB",
        "outputId": "b935ab1a-bfec-4907-be91-7d80d5d6b487"
      },
      "source": [
        "test_size = int(len(data) * 0.2) # the test data will be 10% (0.1) of the entire data\n",
        "train = data.iloc[:-test_size,:].copy() \n",
        "# the copy() here is important, it will prevent us from getting: SettingWithCopyWarning: A value is trying to be set on a copy of a slice from a DataFrame. Try using .loc[row_index,col_indexer] = value instead\n",
        "test = data.iloc[-test_size:,:].copy()\n",
        "print(train.shape, test.shape)"
      ],
      "execution_count": 8,
      "outputs": [
        {
          "output_type": "stream",
          "text": [
            "(604, 5) (151, 5)\n"
          ],
          "name": "stdout"
        }
      ]
    },
    {
      "cell_type": "code",
      "metadata": {
        "colab": {
          "base_uri": "https://localhost:8080/",
          "height": 448
        },
        "id": "d3hmd39hRBql",
        "outputId": "768ccbd5-874b-4491-af66-4c9228895be9"
      },
      "source": [
        "train"
      ],
      "execution_count": 9,
      "outputs": [
        {
          "output_type": "execute_result",
          "data": {
            "text/html": [
              "<div>\n",
              "<style scoped>\n",
              "    .dataframe tbody tr th:only-of-type {\n",
              "        vertical-align: middle;\n",
              "    }\n",
              "\n",
              "    .dataframe tbody tr th {\n",
              "        vertical-align: top;\n",
              "    }\n",
              "\n",
              "    .dataframe thead th {\n",
              "        text-align: right;\n",
              "    }\n",
              "</style>\n",
              "<table border=\"1\" class=\"dataframe\">\n",
              "  <thead>\n",
              "    <tr style=\"text-align: right;\">\n",
              "      <th></th>\n",
              "      <th>IBM</th>\n",
              "      <th>AAPL</th>\n",
              "      <th>TSLA</th>\n",
              "      <th>GM</th>\n",
              "      <th>TSLA_y</th>\n",
              "    </tr>\n",
              "    <tr>\n",
              "      <th>Date</th>\n",
              "      <th></th>\n",
              "      <th></th>\n",
              "      <th></th>\n",
              "      <th></th>\n",
              "      <th></th>\n",
              "    </tr>\n",
              "  </thead>\n",
              "  <tbody>\n",
              "    <tr>\n",
              "      <th>2017-12-01</th>\n",
              "      <td>134.24</td>\n",
              "      <td>41.154</td>\n",
              "      <td>61.306</td>\n",
              "      <td>38.623</td>\n",
              "      <td>61.040</td>\n",
              "    </tr>\n",
              "    <tr>\n",
              "      <th>2017-12-04</th>\n",
              "      <td>135.71</td>\n",
              "      <td>40.852</td>\n",
              "      <td>61.040</td>\n",
              "      <td>38.857</td>\n",
              "      <td>60.740</td>\n",
              "    </tr>\n",
              "    <tr>\n",
              "      <th>2017-12-05</th>\n",
              "      <td>134.76</td>\n",
              "      <td>40.815</td>\n",
              "      <td>60.740</td>\n",
              "      <td>38.632</td>\n",
              "      <td>62.654</td>\n",
              "    </tr>\n",
              "    <tr>\n",
              "      <th>2017-12-06</th>\n",
              "      <td>133.67</td>\n",
              "      <td>40.668</td>\n",
              "      <td>62.654</td>\n",
              "      <td>38.045</td>\n",
              "      <td>62.252</td>\n",
              "    </tr>\n",
              "    <tr>\n",
              "      <th>2017-12-07</th>\n",
              "      <td>133.21</td>\n",
              "      <td>40.735</td>\n",
              "      <td>62.252</td>\n",
              "      <td>38.272</td>\n",
              "      <td>63.026</td>\n",
              "    </tr>\n",
              "    <tr>\n",
              "      <th>...</th>\n",
              "      <td>...</td>\n",
              "      <td>...</td>\n",
              "      <td>...</td>\n",
              "      <td>...</td>\n",
              "      <td>...</td>\n",
              "    </tr>\n",
              "    <tr>\n",
              "      <th>2020-04-22</th>\n",
              "      <td>114.55</td>\n",
              "      <td>68.594</td>\n",
              "      <td>146.420</td>\n",
              "      <td>21.300</td>\n",
              "      <td>141.130</td>\n",
              "    </tr>\n",
              "    <tr>\n",
              "      <th>2020-04-23</th>\n",
              "      <td>116.50</td>\n",
              "      <td>68.332</td>\n",
              "      <td>141.130</td>\n",
              "      <td>21.520</td>\n",
              "      <td>145.030</td>\n",
              "    </tr>\n",
              "    <tr>\n",
              "      <th>2020-04-24</th>\n",
              "      <td>119.74</td>\n",
              "      <td>70.304</td>\n",
              "      <td>145.030</td>\n",
              "      <td>21.950</td>\n",
              "      <td>159.750</td>\n",
              "    </tr>\n",
              "    <tr>\n",
              "      <th>2020-04-27</th>\n",
              "      <td>120.89</td>\n",
              "      <td>70.354</td>\n",
              "      <td>159.750</td>\n",
              "      <td>22.450</td>\n",
              "      <td>153.820</td>\n",
              "    </tr>\n",
              "    <tr>\n",
              "      <th>2020-04-28</th>\n",
              "      <td>121.23</td>\n",
              "      <td>69.213</td>\n",
              "      <td>153.820</td>\n",
              "      <td>22.180</td>\n",
              "      <td>160.100</td>\n",
              "    </tr>\n",
              "  </tbody>\n",
              "</table>\n",
              "<p>604 rows × 5 columns</p>\n",
              "</div>"
            ],
            "text/plain": [
              "               IBM    AAPL     TSLA      GM   TSLA_y\n",
              "Date                                                \n",
              "2017-12-01  134.24  41.154   61.306  38.623   61.040\n",
              "2017-12-04  135.71  40.852   61.040  38.857   60.740\n",
              "2017-12-05  134.76  40.815   60.740  38.632   62.654\n",
              "2017-12-06  133.67  40.668   62.654  38.045   62.252\n",
              "2017-12-07  133.21  40.735   62.252  38.272   63.026\n",
              "...            ...     ...      ...     ...      ...\n",
              "2020-04-22  114.55  68.594  146.420  21.300  141.130\n",
              "2020-04-23  116.50  68.332  141.130  21.520  145.030\n",
              "2020-04-24  119.74  70.304  145.030  21.950  159.750\n",
              "2020-04-27  120.89  70.354  159.750  22.450  153.820\n",
              "2020-04-28  121.23  69.213  153.820  22.180  160.100\n",
              "\n",
              "[604 rows x 5 columns]"
            ]
          },
          "metadata": {
            "tags": []
          },
          "execution_count": 9
        }
      ]
    },
    {
      "cell_type": "code",
      "metadata": {
        "id": "cs1PfjdRQ-Qq"
      },
      "source": [
        "X_train = train.iloc[:,:-1].values\n",
        "y_train = train.iloc[:,-1].values\n",
        "\n",
        "X_test = test.iloc[:,:-1].values\n",
        "y_test = test.iloc[:,-1].values"
      ],
      "execution_count": 10,
      "outputs": []
    },
    {
      "cell_type": "code",
      "metadata": {
        "id": "LaQRid6lTIIa"
      },
      "source": [
        "x_scaler = MinMaxScaler(feature_range=(-1, 1))\n",
        "y_scaler = MinMaxScaler(feature_range=(-1, 1))"
      ],
      "execution_count": 11,
      "outputs": []
    },
    {
      "cell_type": "code",
      "metadata": {
        "id": "FJZMukZ_TI1Q"
      },
      "source": [
        "X_train = x_scaler.fit_transform(X_train)\n",
        "y_train = y_scaler.fit_transform(y_train.reshape(-1,1))\n",
        "\n",
        "X_test = x_scaler.transform(X_test)\n",
        "y_test = y_scaler.transform(y_test.reshape(-1,1))"
      ],
      "execution_count": 12,
      "outputs": []
    },
    {
      "cell_type": "code",
      "metadata": {
        "id": "jQPE7M-GQ0Gm"
      },
      "source": [
        "n_input = 25 #how many samples/rows/timesteps to look in the past in order to forecast the next sample\n",
        "n_features= X_train.shape[1] # how many predictors/Xs/features we have to predict y\n",
        "b_size = 32 # Number of timeseries samples in each batch\n",
        "generator = TimeseriesGenerator(X_train, y_train, length=n_input, batch_size=b_size)\n"
      ],
      "execution_count": 13,
      "outputs": []
    },
    {
      "cell_type": "code",
      "metadata": {
        "colab": {
          "base_uri": "https://localhost:8080/"
        },
        "id": "SWSsfrrWRQ7n",
        "outputId": "111aa0f9-bfde-4e67-895f-3056fd980535"
      },
      "source": [
        "print(generator[0][0].shape)"
      ],
      "execution_count": 14,
      "outputs": [
        {
          "output_type": "stream",
          "text": [
            "(32, 25, 4)\n"
          ],
          "name": "stdout"
        }
      ]
    },
    {
      "cell_type": "code",
      "metadata": {
        "colab": {
          "base_uri": "https://localhost:8080/"
        },
        "id": "_YAMx92CRTgD",
        "outputId": "22de4ea0-054c-47f1-82fc-65d1a632b5eb"
      },
      "source": [
        "model = Sequential()\n",
        "model.add(LSTM(150, activation='relu', input_shape=(n_input, n_features)))\n",
        "model.add(Dense(1))\n",
        "model.compile(optimizer='adam', loss='mse')\n",
        "model.summary()"
      ],
      "execution_count": 15,
      "outputs": [
        {
          "output_type": "stream",
          "text": [
            "Model: \"sequential\"\n",
            "_________________________________________________________________\n",
            "Layer (type)                 Output Shape              Param #   \n",
            "=================================================================\n",
            "lstm (LSTM)                  (None, 150)               93000     \n",
            "_________________________________________________________________\n",
            "dense (Dense)                (None, 1)                 151       \n",
            "=================================================================\n",
            "Total params: 93,151\n",
            "Trainable params: 93,151\n",
            "Non-trainable params: 0\n",
            "_________________________________________________________________\n"
          ],
          "name": "stdout"
        }
      ]
    },
    {
      "cell_type": "code",
      "metadata": {
        "colab": {
          "base_uri": "https://localhost:8080/"
        },
        "id": "5cXq84WRRW0U",
        "outputId": "570d5ee4-f4fa-46c2-8fa3-49d744311673"
      },
      "source": [
        "model.fit(generator,epochs=5)"
      ],
      "execution_count": 16,
      "outputs": [
        {
          "output_type": "stream",
          "text": [
            "Epoch 1/5\n",
            "19/19 [==============================] - 1s 31ms/step - loss: 0.1357\n",
            "Epoch 2/5\n",
            "19/19 [==============================] - 1s 31ms/step - loss: 0.0358\n",
            "Epoch 3/5\n",
            "19/19 [==============================] - 1s 31ms/step - loss: 0.0189\n",
            "Epoch 4/5\n",
            "19/19 [==============================] - 1s 32ms/step - loss: 0.0155\n",
            "Epoch 5/5\n",
            "19/19 [==============================] - 1s 31ms/step - loss: 0.0147\n"
          ],
          "name": "stdout"
        },
        {
          "output_type": "execute_result",
          "data": {
            "text/plain": [
              "<tensorflow.python.keras.callbacks.History at 0x7f8474ae7c18>"
            ]
          },
          "metadata": {
            "tags": []
          },
          "execution_count": 16
        }
      ]
    },
    {
      "cell_type": "code",
      "metadata": {
        "colab": {
          "base_uri": "https://localhost:8080/",
          "height": 266
        },
        "id": "o-DbPos-RZ_U",
        "outputId": "6f4c043e-0a73-4d0f-ce9f-237d598568b1"
      },
      "source": [
        "loss_per_epoch = model.history.history['loss']\n",
        "plt.plot(range(len(loss_per_epoch)),loss_per_epoch);"
      ],
      "execution_count": 17,
      "outputs": [
        {
          "output_type": "display_data",
          "data": {
            "image/png": "[encoded data removed]",
            "text/plain": [
              "<Figure size 432x288 with 1 Axes>"
            ]
          },
          "metadata": {
            "tags": [],
            "needs_background": "light"
          }
        }
      ]
    },
    {
      "cell_type": "code",
      "metadata": {
        "colab": {
          "base_uri": "https://localhost:8080/"
        },
        "id": "CYRtnUD3RdoW",
        "outputId": "4c763642-a6bb-45ba-e542-740fdd4ad053"
      },
      "source": [
        "test_generator = TimeseriesGenerator(X_test, np.zeros(len(X_test)), length=n_input, batch_size=b_size)\n",
        "print(test_generator[0][0].shape)"
      ],
      "execution_count": 18,
      "outputs": [
        {
          "output_type": "stream",
          "text": [
            "(32, 25, 4)\n"
          ],
          "name": "stdout"
        }
      ]
    },
    {
      "cell_type": "code",
      "metadata": {
        "colab": {
          "base_uri": "https://localhost:8080/"
        },
        "id": "nPHFytWlSCBI",
        "outputId": "ff2b38df-0313-48b3-a931-14c0e459e8fe"
      },
      "source": [
        "y_pred_scaled = model.predict(test_generator)\n",
        "y_pred = y_scaler.inverse_transform(y_pred_scaled)\n",
        "y_test = y_scaler.inverse_transform(y_test)\n",
        "results = pd.DataFrame({'y_true':y_test.flatten()[n_input:],'y_pred':y_pred.flatten()})\n",
        "print(results)"
      ],
      "execution_count": 19,
      "outputs": [
        {
          "output_type": "stream",
          "text": [
            "     y_true      y_pred\n",
            "0    177.13  161.790558\n",
            "1    189.98  161.727219\n",
            "2    188.13  162.270233\n",
            "3    205.01  164.049713\n",
            "4    194.57  165.484329\n",
            "..      ...         ...\n",
            "121  574.00  374.011597\n",
            "122  585.76  391.209839\n",
            "123  567.60  410.407776\n",
            "124  584.76  429.880157\n",
            "125  584.76  444.418243\n",
            "\n",
            "[126 rows x 2 columns]\n"
          ],
          "name": "stdout"
        }
      ]
    },
    {
      "cell_type": "code",
      "metadata": {
        "colab": {
          "base_uri": "https://localhost:8080/",
          "height": 283
        },
        "id": "4UviOX-nT-RJ",
        "outputId": "a6ae51d5-bfbd-4d65-fde7-0d86923ccd9b"
      },
      "source": [
        "results.plot()"
      ],
      "execution_count": 20,
      "outputs": [
        {
          "output_type": "execute_result",
          "data": {
            "text/plain": [
              "<matplotlib.axes._subplots.AxesSubplot at 0x7f846c110c88>"
            ]
          },
          "metadata": {
            "tags": []
          },
          "execution_count": 20
        },
        {
          "output_type": "display_data",
          "data": {
            "image/png": "[encoded data removed]",
            "text/plain": [
              "<Figure size 432x288 with 1 Axes>"
            ]
          },
          "metadata": {
            "tags": [],
            "needs_background": "light"
          }
        }
      ]
    },
    {
      "cell_type": "code",
      "metadata": {
        "id": "-p-1z0q0UiwK"
      },
      "source": [
        ""
      ],
      "execution_count": null,
      "outputs": []
    }
  ]
}