{
  "nbformat": 4,
  "nbformat_minor": 0,
  "metadata": {
    "colab": {
      "name": "M3 W1 - AirBnb revisited with Neural Nets",
      "provenance": [],
      "collapsed_sections": [],
      "authorship_tag": "ABX9TyNqWdph4sQf+FFag+e93Qen",
      "include_colab_link": true
    },
    "kernelspec": {
      "name": "python3",
      "display_name": "Python 3"
    },
    "language_info": {
      "name": "python"
    },
    "accelerator": "GPU"
  },
  "cells": [
    {
      "cell_type": "markdown",
      "metadata": {
        "id": "view-in-github",
        "colab_type": "text"
      },
      "source": [
        "<a href=\"https://colab.research.google.com/github/SDS-AAU/SDS-master/blob/master/M3/notebooks/M3_W1_AirBnb_revisited_with_Neural_Nets.ipynb\" target=\"_parent\"><img src=\"https://colab.research.google.com/assets/colab-badge.svg\" alt=\"Open In Colab\"/></a>"
      ]
    },
    {
      "cell_type": "code",
      "metadata": {
        "colab": {
          "base_uri": "https://localhost:8080/"
        },
        "id": "MxXLYPEF86Ry",
        "outputId": "a98098f5-a1cb-4b33-80fa-28128bcb52f2"
      },
      "source": [
        "# !pip install -q fancyimpute"
      ],
      "execution_count": 1,
      "outputs": [
        {
          "output_type": "stream",
          "name": "stdout",
          "text": [
            "\u001b[K     |████████████████████████████████| 23.2 MB 55.9 MB/s \n",
            "\u001b[K     |████████████████████████████████| 154 kB 68.8 MB/s \n",
            "\u001b[?25h  Building wheel for fancyimpute (setup.py) ... \u001b[?25l\u001b[?25hdone\n",
            "  Building wheel for knnimpute (setup.py) ... \u001b[?25l\u001b[?25hdone\n"
          ]
        }
      ]
    },
    {
      "cell_type": "code",
      "metadata": {
        "id": "92mLs0eo70h8"
      },
      "source": [
        "# Import libraries \n",
        "import pandas as pd\n",
        "import numpy as np\n",
        "import matplotlib.pyplot as plt\n",
        "import seaborn as sns\n",
        "sns.set()\n",
        "\n",
        "#from sklearn.metrics import mean_squared_error\n",
        "\n",
        "# Import Keras libraries and metrics\n",
        "from keras.models import Sequential\n",
        "from keras.layers import Dense\n",
        "from keras.layers import Dropout\n",
        "from keras.metrics import mean_squared_error\n",
        "from keras.utils.vis_utils import plot_model"
      ],
      "execution_count": 1,
      "outputs": []
    },
    {
      "cell_type": "code",
      "metadata": {
        "id": "PGTcKVXU-GaW"
      },
      "source": [
        "# import imputation\n",
        "from sklearn.experimental import enable_iterative_imputer\n",
        "from sklearn.impute import IterativeImputer"
      ],
      "execution_count": 3,
      "outputs": []
    },
    {
      "cell_type": "code",
      "metadata": {
        "colab": {
          "base_uri": "https://localhost:8080/"
        },
        "id": "wjEkR7C99x4c",
        "outputId": "dc824085-8dec-4dfa-a081-e3dc62d4e5a4"
      },
      "source": [
        "# load data\n",
        "listings = pd.read_csv('http://data.insideairbnb.com/denmark/hovedstaden/copenhagen/2020-06-26/data/listings.csv.gz', compression='gzip')"
      ],
      "execution_count": 4,
      "outputs": [
        {
          "output_type": "stream",
          "name": "stderr",
          "text": [
            "/usr/local/lib/python3.7/dist-packages/IPython/core/interactiveshell.py:2718: DtypeWarning: Columns (43,61,62,94) have mixed types.Specify dtype option on import or set low_memory=False.\n",
            "  interactivity=interactivity, compiler=compiler, result=result)\n"
          ]
        }
      ]
    },
    {
      "cell_type": "code",
      "metadata": {
        "id": "NnJ_IPvS-mFC"
      },
      "source": [
        "# some cleaning\n",
        "listings.price = listings.price.str.replace(',','')\n",
        "listings.price = listings.price.str.replace('$','')\n",
        "listings.price = listings.price.astype(float)"
      ],
      "execution_count": 5,
      "outputs": []
    },
    {
      "cell_type": "code",
      "metadata": {
        "id": "C6zTDDPT-ugV"
      },
      "source": [
        "listings.cleaning_fee = listings.cleaning_fee.str.replace(',','')\n",
        "listings.cleaning_fee = listings.cleaning_fee.str.replace('$','')\n",
        "listings.cleaning_fee = listings.cleaning_fee.astype(float)"
      ],
      "execution_count": 6,
      "outputs": []
    },
    {
      "cell_type": "code",
      "metadata": {
        "id": "dMwfs2GW-wwN"
      },
      "source": [
        "listings['price_total'] = listings.price + listings.cleaning_fee"
      ],
      "execution_count": 7,
      "outputs": []
    },
    {
      "cell_type": "code",
      "metadata": {
        "id": "RrnJVaLT-3dq"
      },
      "source": [
        "listings_clean = listings[listings.price_total < listings.price_total.quantile(0.95)]"
      ],
      "execution_count": 8,
      "outputs": []
    },
    {
      "cell_type": "code",
      "metadata": {
        "colab": {
          "base_uri": "https://localhost:8080/"
        },
        "id": "cq5rxTmX-_2Z",
        "outputId": "93b65e91-8241-4cdf-b822-002522fccd96"
      },
      "source": [
        "listings_clean = listings_clean[listings.number_of_reviews > 5]"
      ],
      "execution_count": 9,
      "outputs": [
        {
          "output_type": "stream",
          "name": "stderr",
          "text": [
            "/usr/local/lib/python3.7/dist-packages/ipykernel_launcher.py:1: UserWarning: Boolean Series key will be reindexed to match DataFrame index.\n",
            "  \"\"\"Entry point for launching an IPython kernel.\n"
          ]
        }
      ]
    },
    {
      "cell_type": "code",
      "metadata": {
        "id": "MIz4m8j0_G52"
      },
      "source": [
        "listings_clean = listings_clean[listings_clean.property_type.isin(['Apartment','Condominium','House'])]\n",
        "listings_clean = listings_clean[listings_clean.bed_type.isin(['Real Bed','Pull-out Sofa'])]"
      ],
      "execution_count": 10,
      "outputs": []
    },
    {
      "cell_type": "code",
      "metadata": {
        "id": "Fp6Y9AIo_fEO"
      },
      "source": [
        "y = listings_clean.price_total"
      ],
      "execution_count": 11,
      "outputs": []
    },
    {
      "cell_type": "code",
      "metadata": {
        "id": "FVfyRaKX_o5k"
      },
      "source": [
        "X = listings_clean.iloc[:,[39,51,52,53,54,55,56,57]]"
      ],
      "execution_count": 23,
      "outputs": []
    },
    {
      "cell_type": "code",
      "metadata": {
        "colab": {
          "base_uri": "https://localhost:8080/",
          "height": 421
        },
        "id": "7QZ_VaWC_sQD",
        "outputId": "6da91d20-986d-490c-c113-d17b0e313a49"
      },
      "source": [
        "X"
      ],
      "execution_count": 24,
      "outputs": [
        {
          "output_type": "execute_result",
          "data": {
            "text/html": [
              "<div>\n",
              "<style scoped>\n",
              "    .dataframe tbody tr th:only-of-type {\n",
              "        vertical-align: middle;\n",
              "    }\n",
              "\n",
              "    .dataframe tbody tr th {\n",
              "        vertical-align: top;\n",
              "    }\n",
              "\n",
              "    .dataframe thead th {\n",
              "        text-align: right;\n",
              "    }\n",
              "</style>\n",
              "<table border=\"1\" class=\"dataframe\">\n",
              "  <thead>\n",
              "    <tr style=\"text-align: right;\">\n",
              "      <th></th>\n",
              "      <th>neighbourhood_cleansed</th>\n",
              "      <th>property_type</th>\n",
              "      <th>room_type</th>\n",
              "      <th>accommodates</th>\n",
              "      <th>bathrooms</th>\n",
              "      <th>bedrooms</th>\n",
              "      <th>beds</th>\n",
              "      <th>bed_type</th>\n",
              "    </tr>\n",
              "  </thead>\n",
              "  <tbody>\n",
              "    <tr>\n",
              "      <th>0</th>\n",
              "      <td>Nrrebro</td>\n",
              "      <td>Apartment</td>\n",
              "      <td>Private room</td>\n",
              "      <td>2</td>\n",
              "      <td>1.0</td>\n",
              "      <td>1.0</td>\n",
              "      <td>1.0</td>\n",
              "      <td>Real Bed</td>\n",
              "    </tr>\n",
              "    <tr>\n",
              "      <th>3</th>\n",
              "      <td>Vesterbro-Kongens Enghave</td>\n",
              "      <td>Apartment</td>\n",
              "      <td>Entire home/apt</td>\n",
              "      <td>2</td>\n",
              "      <td>1.0</td>\n",
              "      <td>1.0</td>\n",
              "      <td>1.0</td>\n",
              "      <td>Real Bed</td>\n",
              "    </tr>\n",
              "    <tr>\n",
              "      <th>4</th>\n",
              "      <td>sterbro</td>\n",
              "      <td>Apartment</td>\n",
              "      <td>Entire home/apt</td>\n",
              "      <td>4</td>\n",
              "      <td>1.0</td>\n",
              "      <td>3.0</td>\n",
              "      <td>3.0</td>\n",
              "      <td>Real Bed</td>\n",
              "    </tr>\n",
              "    <tr>\n",
              "      <th>6</th>\n",
              "      <td>Vesterbro-Kongens Enghave</td>\n",
              "      <td>Apartment</td>\n",
              "      <td>Entire home/apt</td>\n",
              "      <td>3</td>\n",
              "      <td>2.0</td>\n",
              "      <td>1.0</td>\n",
              "      <td>2.0</td>\n",
              "      <td>Real Bed</td>\n",
              "    </tr>\n",
              "    <tr>\n",
              "      <th>7</th>\n",
              "      <td>sterbro</td>\n",
              "      <td>Apartment</td>\n",
              "      <td>Entire home/apt</td>\n",
              "      <td>4</td>\n",
              "      <td>1.0</td>\n",
              "      <td>2.0</td>\n",
              "      <td>2.0</td>\n",
              "      <td>Real Bed</td>\n",
              "    </tr>\n",
              "    <tr>\n",
              "      <th>...</th>\n",
              "      <td>...</td>\n",
              "      <td>...</td>\n",
              "      <td>...</td>\n",
              "      <td>...</td>\n",
              "      <td>...</td>\n",
              "      <td>...</td>\n",
              "      <td>...</td>\n",
              "      <td>...</td>\n",
              "    </tr>\n",
              "    <tr>\n",
              "      <th>27401</th>\n",
              "      <td>Indre By</td>\n",
              "      <td>Apartment</td>\n",
              "      <td>Entire home/apt</td>\n",
              "      <td>6</td>\n",
              "      <td>1.0</td>\n",
              "      <td>2.0</td>\n",
              "      <td>3.0</td>\n",
              "      <td>Real Bed</td>\n",
              "    </tr>\n",
              "    <tr>\n",
              "      <th>27409</th>\n",
              "      <td>Bispebjerg</td>\n",
              "      <td>Apartment</td>\n",
              "      <td>Private room</td>\n",
              "      <td>2</td>\n",
              "      <td>1.0</td>\n",
              "      <td>1.0</td>\n",
              "      <td>1.0</td>\n",
              "      <td>Real Bed</td>\n",
              "    </tr>\n",
              "    <tr>\n",
              "      <th>27518</th>\n",
              "      <td>Vesterbro-Kongens Enghave</td>\n",
              "      <td>Apartment</td>\n",
              "      <td>Entire home/apt</td>\n",
              "      <td>1</td>\n",
              "      <td>1.0</td>\n",
              "      <td>1.0</td>\n",
              "      <td>1.0</td>\n",
              "      <td>Real Bed</td>\n",
              "    </tr>\n",
              "    <tr>\n",
              "      <th>27734</th>\n",
              "      <td>Vesterbro-Kongens Enghave</td>\n",
              "      <td>Apartment</td>\n",
              "      <td>Entire home/apt</td>\n",
              "      <td>4</td>\n",
              "      <td>1.0</td>\n",
              "      <td>1.0</td>\n",
              "      <td>1.0</td>\n",
              "      <td>Real Bed</td>\n",
              "    </tr>\n",
              "    <tr>\n",
              "      <th>28020</th>\n",
              "      <td>sterbro</td>\n",
              "      <td>Apartment</td>\n",
              "      <td>Entire home/apt</td>\n",
              "      <td>3</td>\n",
              "      <td>1.0</td>\n",
              "      <td>1.0</td>\n",
              "      <td>1.0</td>\n",
              "      <td>Real Bed</td>\n",
              "    </tr>\n",
              "  </tbody>\n",
              "</table>\n",
              "<p>10073 rows × 8 columns</p>\n",
              "</div>"
            ],
            "text/plain": [
              "          neighbourhood_cleansed property_type  ... beds  bed_type\n",
              "0                        Nrrebro     Apartment  ...  1.0  Real Bed\n",
              "3      Vesterbro-Kongens Enghave     Apartment  ...  1.0  Real Bed\n",
              "4                        sterbro     Apartment  ...  3.0  Real Bed\n",
              "6      Vesterbro-Kongens Enghave     Apartment  ...  2.0  Real Bed\n",
              "7                        sterbro     Apartment  ...  2.0  Real Bed\n",
              "...                          ...           ...  ...  ...       ...\n",
              "27401                   Indre By     Apartment  ...  3.0  Real Bed\n",
              "27409                 Bispebjerg     Apartment  ...  1.0  Real Bed\n",
              "27518  Vesterbro-Kongens Enghave     Apartment  ...  1.0  Real Bed\n",
              "27734  Vesterbro-Kongens Enghave     Apartment  ...  1.0  Real Bed\n",
              "28020                    sterbro     Apartment  ...  1.0  Real Bed\n",
              "\n",
              "[10073 rows x 8 columns]"
            ]
          },
          "metadata": {},
          "execution_count": 24
        }
      ]
    },
    {
      "cell_type": "code",
      "metadata": {
        "id": "xEgTDiCO_t3h"
      },
      "source": [
        "#recoding to dummies\n",
        "X = pd.get_dummies(X)"
      ],
      "execution_count": 25,
      "outputs": []
    },
    {
      "cell_type": "code",
      "metadata": {
        "id": "S_n6vJCqAnPB"
      },
      "source": [
        "X.iloc[:,:4] = IterativeImputer().fit_transform(X.iloc[:,:4])"
      ],
      "execution_count": 26,
      "outputs": []
    },
    {
      "cell_type": "code",
      "metadata": {
        "id": "KoSMDPHB_4Si"
      },
      "source": [
        "from sklearn.preprocessing import StandardScaler\n",
        "scaler = StandardScaler()"
      ],
      "execution_count": 27,
      "outputs": []
    },
    {
      "cell_type": "code",
      "metadata": {
        "id": "wBpE-2w8_-4C"
      },
      "source": [
        "X.iloc[:,:4] = scaler.fit_transform(X.iloc[:,:4])"
      ],
      "execution_count": 28,
      "outputs": []
    },
    {
      "cell_type": "code",
      "metadata": {
        "id": "8emoEHkoA6nT"
      },
      "source": [
        "from sklearn.model_selection import train_test_split\n",
        "X_train, X_test, y_train, y_test = train_test_split(X, y, test_size = 0.2, random_state = 21)"
      ],
      "execution_count": 29,
      "outputs": []
    },
    {
      "cell_type": "code",
      "metadata": {
        "id": "nKPSbDlnA656"
      },
      "source": [
        "from sklearn.linear_model import LinearRegression"
      ],
      "execution_count": 30,
      "outputs": []
    },
    {
      "cell_type": "code",
      "metadata": {
        "colab": {
          "base_uri": "https://localhost:8080/"
        },
        "id": "Bs1X0xEfA8RU",
        "outputId": "fa60e53b-a187-4012-ba80-d4f31f5f5fe2"
      },
      "source": [
        "model_ols = LinearRegression()\n",
        "model_ols.fit(X_train, y_train)"
      ],
      "execution_count": 31,
      "outputs": [
        {
          "output_type": "execute_result",
          "data": {
            "text/plain": [
              "LinearRegression(copy_X=True, fit_intercept=True, n_jobs=None, normalize=False)"
            ]
          },
          "metadata": {},
          "execution_count": 31
        }
      ]
    },
    {
      "cell_type": "code",
      "metadata": {
        "colab": {
          "base_uri": "https://localhost:8080/"
        },
        "id": "J0yWHNZLA9Si",
        "outputId": "605b0c3a-2704-4912-d21c-c36148fc62c2"
      },
      "source": [
        "model_ols.score(X_test, y_test)"
      ],
      "execution_count": 32,
      "outputs": [
        {
          "output_type": "execute_result",
          "data": {
            "text/plain": [
              "0.5135265612963055"
            ]
          },
          "metadata": {},
          "execution_count": 32
        }
      ]
    },
    {
      "cell_type": "code",
      "metadata": {
        "colab": {
          "base_uri": "https://localhost:8080/"
        },
        "id": "-YWXo_C5A-_B",
        "outputId": "484d4b0c-7c0e-4126-ff72-317a7ef9144e"
      },
      "source": [
        "np.sqrt(mean_squared_error(y_test, model_ols.predict(X_test)))"
      ],
      "execution_count": 33,
      "outputs": [
        {
          "output_type": "execute_result",
          "data": {
            "text/plain": [
              "309.4562626758478"
            ]
          },
          "metadata": {},
          "execution_count": 33
        }
      ]
    },
    {
      "cell_type": "code",
      "metadata": {
        "id": "7qdAWtLhBIkv"
      },
      "source": [
        "from xgboost import XGBRegressor\n",
        "model_xgb = XGBRegressor()"
      ],
      "execution_count": 34,
      "outputs": []
    },
    {
      "cell_type": "code",
      "metadata": {
        "colab": {
          "base_uri": "https://localhost:8080/"
        },
        "id": "56fUc1JPBW0q",
        "outputId": "c98d4e25-67bb-4ece-e1f0-1540fb5f57f6"
      },
      "source": [
        "model_xgb.fit(X_train, y_train)"
      ],
      "execution_count": 35,
      "outputs": [
        {
          "output_type": "stream",
          "name": "stdout",
          "text": [
            "[09:26:50] WARNING: /workspace/src/objective/regression_obj.cu:152: reg:linear is now deprecated in favor of reg:squarederror.\n"
          ]
        },
        {
          "output_type": "execute_result",
          "data": {
            "text/plain": [
              "XGBRegressor(base_score=0.5, booster='gbtree', colsample_bylevel=1,\n",
              "             colsample_bynode=1, colsample_bytree=1, gamma=0,\n",
              "             importance_type='gain', learning_rate=0.1, max_delta_step=0,\n",
              "             max_depth=3, min_child_weight=1, missing=None, n_estimators=100,\n",
              "             n_jobs=1, nthread=None, objective='reg:linear', random_state=0,\n",
              "             reg_alpha=0, reg_lambda=1, scale_pos_weight=1, seed=None,\n",
              "             silent=None, subsample=1, verbosity=1)"
            ]
          },
          "metadata": {},
          "execution_count": 35
        }
      ]
    },
    {
      "cell_type": "code",
      "metadata": {
        "colab": {
          "base_uri": "https://localhost:8080/"
        },
        "id": "Jf5PUtqNBYUF",
        "outputId": "2c6bc4d4-c2c6-44af-b89c-56f29af9d624"
      },
      "source": [
        "model_xgb.score(X_test, y_test)"
      ],
      "execution_count": 36,
      "outputs": [
        {
          "output_type": "execute_result",
          "data": {
            "text/plain": [
              "0.5105855321751562"
            ]
          },
          "metadata": {},
          "execution_count": 36
        }
      ]
    },
    {
      "cell_type": "code",
      "metadata": {
        "colab": {
          "base_uri": "https://localhost:8080/"
        },
        "id": "b4k7PIfrBZlO",
        "outputId": "02628320-1a50-4227-cfd5-148c1436afd1"
      },
      "source": [
        "np.sqrt(mean_squared_error(y_test, model_xgb.predict(X_test)))"
      ],
      "execution_count": 37,
      "outputs": [
        {
          "output_type": "execute_result",
          "data": {
            "text/plain": [
              "310.3903"
            ]
          },
          "metadata": {},
          "execution_count": 37
        }
      ]
    },
    {
      "cell_type": "code",
      "metadata": {
        "colab": {
          "base_uri": "https://localhost:8080/"
        },
        "id": "KwB9LAciBcr1",
        "outputId": "71d4796d-ff37-4e41-dfcd-f8ac82ceca7a"
      },
      "source": [
        "X_train.shape"
      ],
      "execution_count": 38,
      "outputs": [
        {
          "output_type": "execute_result",
          "data": {
            "text/plain": [
              "(8058, 23)"
            ]
          },
          "metadata": {},
          "execution_count": 38
        }
      ]
    },
    {
      "cell_type": "code",
      "metadata": {
        "id": "JvPhUuFQBhO4"
      },
      "source": [
        "model = Sequential()\n",
        "\n",
        "model.add(Dense(10,activation='relu',input_shape = (23,)))\n",
        "\n",
        "model.add(Dense(1, kernel_initializer='normal'))\n",
        "\n",
        "model.compile(optimizer = 'adam', loss='mean_squared_error',\n",
        "             metrics=mean_squared_error)"
      ],
      "execution_count": 39,
      "outputs": []
    },
    {
      "cell_type": "code",
      "metadata": {
        "colab": {
          "base_uri": "https://localhost:8080/",
          "height": 312
        },
        "id": "ltpc5sGVC7N_",
        "outputId": "84a3b23d-3e13-4006-9524-e21a2213981e"
      },
      "source": [
        "plot_model(model, to_file='model_plot.png', show_shapes=True, show_layer_names=True)"
      ],
      "execution_count": 40,
      "outputs": [
        {
          "output_type": "execute_result",
          "data": {
            "image/png": "[encoded data removed]",
            "text/plain": [
              "<IPython.core.display.Image object>"
            ]
          },
          "metadata": {},
          "execution_count": 40
        }
      ]
    },
    {
      "cell_type": "code",
      "metadata": {
        "id": "68LkhqDZC_TF"
      },
      "source": [
        "history = model.fit(X_train, \n",
        "                    y_train,\n",
        "                    epochs = 100,\n",
        "                    batch_size = 64,\n",
        "                    verbose=2, validation_split=0.1)"
      ],
      "execution_count": null,
      "outputs": []
    },
    {
      "cell_type": "code",
      "metadata": {
        "colab": {
          "base_uri": "https://localhost:8080/",
          "height": 301
        },
        "id": "ASlSVgEBDbzF",
        "outputId": "b6e36d66-3582-4c9d-bec5-ecaa5471b828"
      },
      "source": [
        "# summarize history for accuracy\n",
        "plt.plot(history.history['mean_squared_error'])\n",
        "plt.plot(history.history['val_mean_squared_error'])\n",
        "plt.title('model MSE')\n",
        "plt.ylabel('MSE')\n",
        "plt.xlabel('epoch')\n",
        "plt.legend(['train', 'test'], loc='upper left')\n",
        "plt.show()"
      ],
      "execution_count": 42,
      "outputs": [
        {
          "output_type": "display_data",
          "data": {
            "image/png": "[encoded data removed]",
            "text/plain": [
              "<Figure size 432x288 with 1 Axes>"
            ]
          },
          "metadata": {
            "needs_background": "light"
          }
        }
      ]
    },
    {
      "cell_type": "code",
      "metadata": {
        "colab": {
          "base_uri": "https://localhost:8080/"
        },
        "id": "9IF-9CMMEDJ2",
        "outputId": "dd3dc619-ab46-4311-a0de-cfad834bc980"
      },
      "source": [
        "eval = model.evaluate(X_test, y_test)"
      ],
      "execution_count": 43,
      "outputs": [
        {
          "output_type": "stream",
          "name": "stdout",
          "text": [
            "63/63 [==============================] - 0s 2ms/step - loss: 96295.7266 - mean_squared_error: 96295.7266\n"
          ]
        }
      ]
    },
    {
      "cell_type": "code",
      "metadata": {
        "colab": {
          "base_uri": "https://localhost:8080/"
        },
        "id": "EUPCdPJIEhLE",
        "outputId": "e263961a-5137-416b-872b-851904aef487"
      },
      "source": [
        "np.sqrt(eval[0])"
      ],
      "execution_count": 44,
      "outputs": [
        {
          "output_type": "execute_result",
          "data": {
            "text/plain": [
              "310.3155274273268"
            ]
          },
          "metadata": {},
          "execution_count": 44
        }
      ]
    },
    {
      "cell_type": "code",
      "metadata": {
        "id": "dDfalQ_EElWH"
      },
      "source": [
        "model = Sequential()\n",
        "model.add(Dense(256,activation='relu',input_shape = (23,)))\n",
        "model.add(Dense(16,activation='relu'))\n",
        "model.add(Dense(1, kernel_initializer='normal'))\n",
        "model.compile(optimizer = 'adam', loss='mean_squared_error',\n",
        "             metrics=mean_squared_error)\n"
      ],
      "execution_count": 51,
      "outputs": []
    },
    {
      "cell_type": "code",
      "metadata": {
        "colab": {
          "base_uri": "https://localhost:8080/",
          "height": 422
        },
        "id": "u_gdv_afFPVH",
        "outputId": "dad91f99-b2f4-46b7-99cf-51b4d2a1a8a2"
      },
      "source": [
        ""
      ],
      "execution_count": 46,
      "outputs": [
        {
          "output_type": "execute_result",
          "data": {
            "image/png": "[encoded data removed]",
            "text/plain": [
              "<IPython.core.display.Image object>"
            ]
          },
          "metadata": {},
          "execution_count": 46
        }
      ]
    },
    {
      "cell_type": "code",
      "metadata": {
        "colab": {
          "base_uri": "https://localhost:8080/"
        },
        "id": "Mm8IIZgAF8HY",
        "outputId": "666d773c-f435-4be6-e040-bea13a95fcb4"
      },
      "source": [
        "model.summary()"
      ],
      "execution_count": 49,
      "outputs": [
        {
          "output_type": "stream",
          "name": "stdout",
          "text": [
            "Model: \"sequential_1\"\n",
            "_________________________________________________________________\n",
            "Layer (type)                 Output Shape              Param #   \n",
            "=================================================================\n",
            "dense_2 (Dense)              (None, 256)               6144      \n",
            "_________________________________________________________________\n",
            "dense_3 (Dense)              (None, 16)                4112      \n",
            "_________________________________________________________________\n",
            "dense_4 (Dense)              (None, 1)                 17        \n",
            "=================================================================\n",
            "Total params: 10,273\n",
            "Trainable params: 10,273\n",
            "Non-trainable params: 0\n",
            "_________________________________________________________________\n"
          ]
        }
      ]
    },
    {
      "cell_type": "code",
      "metadata": {
        "id": "pBhUiOu0FSfd"
      },
      "source": [
        "history = model.fit(X_train, \n",
        "                    y_train,\n",
        "                    epochs = 20,\n",
        "                    batch_size = 32,\n",
        "                    verbose=0, validation_split=0.1)"
      ],
      "execution_count": 47,
      "outputs": []
    },
    {
      "cell_type": "code",
      "metadata": {
        "colab": {
          "base_uri": "https://localhost:8080/"
        },
        "id": "rnwPac1kFp7b",
        "outputId": "fd396c59-5d76-4c69-a1e8-9676fd8be82a"
      },
      "source": [
        "eval = model.evaluate(X_test, y_test)\n",
        "np.sqrt(eval[0])"
      ],
      "execution_count": 48,
      "outputs": [
        {
          "output_type": "stream",
          "name": "stdout",
          "text": [
            "63/63 [==============================] - 0s 3ms/step - loss: 96367.0000 - mean_squared_error: 96367.0000\n"
          ]
        },
        {
          "output_type": "execute_result",
          "data": {
            "text/plain": [
              "310.43034645472403"
            ]
          },
          "metadata": {},
          "execution_count": 48
        }
      ]
    },
    {
      "cell_type": "code",
      "metadata": {
        "id": "2_jnU3xSF4sQ"
      },
      "source": [
        "model = Sequential()\n",
        "model.add(Dense(256,activation='relu',input_shape = (23,)))\n",
        "model.add(Dropout(0.3)) # <<-- Added dropout\n",
        "model.add(Dense(16,activation='relu'))\n",
        "model.add(Dense(1, kernel_initializer='normal'))\n",
        "model.compile(optimizer = 'adam', loss='mean_squared_error',\n",
        "             metrics=mean_squared_error)\n"
      ],
      "execution_count": 52,
      "outputs": []
    },
    {
      "cell_type": "code",
      "metadata": {
        "colab": {
          "base_uri": "https://localhost:8080/",
          "height": 533
        },
        "id": "SQSxwdxOLpif",
        "outputId": "00906c34-81aa-4727-9464-1bff59b0ac4c"
      },
      "source": [
        "plot_model(model, to_file='model_plot.png', show_shapes=True, show_layer_names=True)"
      ],
      "execution_count": 53,
      "outputs": [
        {
          "output_type": "execute_result",
          "data": {
            "image/png": "[encoded data removed]",
            "text/plain": [
              "<IPython.core.display.Image object>"
            ]
          },
          "metadata": {},
          "execution_count": 53
        }
      ]
    },
    {
      "cell_type": "code",
      "metadata": {
        "id": "fcPdE6KsLq5m"
      },
      "source": [
        "history = model.fit(X_train, \n",
        "                    y_train,\n",
        "                    epochs = 20,\n",
        "                    batch_size = 32,\n",
        "                    verbose=0, validation_split=0.1)"
      ],
      "execution_count": 54,
      "outputs": []
    },
    {
      "cell_type": "code",
      "metadata": {
        "colab": {
          "base_uri": "https://localhost:8080/"
        },
        "id": "V9J8ZXO9L2Ho",
        "outputId": "85f35210-7227-45b2-92ce-11840ff5ba31"
      },
      "source": [
        "eval = model.evaluate(X_test, y_test)\n",
        "np.sqrt(eval[0])"
      ],
      "execution_count": 55,
      "outputs": [
        {
          "output_type": "stream",
          "name": "stdout",
          "text": [
            "63/63 [==============================] - 0s 2ms/step - loss: 95906.7969 - mean_squared_error: 95906.7969\n"
          ]
        },
        {
          "output_type": "execute_result",
          "data": {
            "text/plain": [
              "309.6882252766482"
            ]
          },
          "metadata": {},
          "execution_count": 55
        }
      ]
    },
    {
      "cell_type": "code",
      "metadata": {
        "id": "LEiy7IGiL7hJ"
      },
      "source": [
        "from keras.regularizers import l1"
      ],
      "execution_count": 56,
      "outputs": []
    },
    {
      "cell_type": "code",
      "metadata": {
        "id": "UHqBpxIfMHef"
      },
      "source": [
        "model = Sequential()\n",
        "model.add(Dense(256,activation='relu',input_shape = (23,)))\n",
        "model.add(Dense(16,activation='relu',  activity_regularizer=l1(0.001))) # <-- add activity regularizer\n",
        "model.add(Dense(1, kernel_initializer='normal'))\n",
        "model.compile(optimizer = 'adam', loss='mean_squared_error',\n",
        "             metrics=mean_squared_error)\n",
        "\n",
        "history = model.fit(X_train, \n",
        "                    y_train,\n",
        "                    epochs = 20,\n",
        "                    batch_size = 32,\n",
        "                    verbose=0, validation_split=0.1)"
      ],
      "execution_count": 57,
      "outputs": []
    },
    {
      "cell_type": "code",
      "metadata": {
        "colab": {
          "base_uri": "https://localhost:8080/"
        },
        "id": "7wjSmC6jMd1I",
        "outputId": "53cd9db1-f236-4779-efee-159a932f8c24"
      },
      "source": [
        "eval = model.evaluate(X_test, y_test)\n",
        "np.sqrt(eval[0])"
      ],
      "execution_count": 58,
      "outputs": [
        {
          "output_type": "stream",
          "name": "stdout",
          "text": [
            "63/63 [==============================] - 0s 2ms/step - loss: 95281.7031 - mean_squared_error: 95279.7344\n"
          ]
        },
        {
          "output_type": "execute_result",
          "data": {
            "text/plain": [
              "308.67734469021207"
            ]
          },
          "metadata": {},
          "execution_count": 58
        }
      ]
    },
    {
      "cell_type": "code",
      "metadata": {
        "id": "pRPSjxGvMh9P"
      },
      "source": [
        "from tensorflow.keras.layers import Input\n",
        "from tensorflow.keras.models import Model\n",
        "from tensorflow.keras.layers import concatenate"
      ],
      "execution_count": 62,
      "outputs": []
    },
    {
      "cell_type": "code",
      "metadata": {
        "id": "GKvT7U9aNkrc"
      },
      "source": [
        "# define two sets of inputs\n",
        "inputA = Input(shape=(4,))\n",
        "inputB = Input(shape=(19,))\n",
        "\n",
        "# the first branch operates on the first input\n",
        "x1 = Dense(4, activation=\"relu\")(inputA)\n",
        "x1 = Dense(4, activation=\"relu\")(x1)\n",
        "x1 = Model(inputs=inputA, outputs=x1)\n",
        "\n",
        "# the second branch opreates on the second input\n",
        "x2 = Dense(8, activation=\"relu\")(inputB)\n",
        "x2 = Dense(4, activation=\"relu\")(x2)\n",
        "x2 = Model(inputs=inputB, outputs=x2)\n",
        "\n",
        "# combine the output of the two branches\n",
        "combined = concatenate([x1.output, x2.output])\n",
        "\n",
        "# apply a FC layer and then a regression prediction on the\n",
        "# combined outputs\n",
        "y = Dense(2, activation=\"relu\")(combined)\n",
        "y = Dense(1, activation=\"relu\")(y)\n",
        "\n",
        "# our model will accept the inputs of the two branches and\n",
        "# then output a single value\n",
        "model = Model(inputs=[x1.input, x2.input], outputs=y)"
      ],
      "execution_count": 64,
      "outputs": []
    },
    {
      "cell_type": "code",
      "metadata": {
        "id": "xLWr2raEPiyM"
      },
      "source": [
        "model.compile(optimizer = 'adam', loss='mean_squared_error',\n",
        "             metrics=mean_squared_error)"
      ],
      "execution_count": 65,
      "outputs": []
    },
    {
      "cell_type": "code",
      "metadata": {
        "colab": {
          "base_uri": "https://localhost:8080/",
          "height": 644
        },
        "id": "avrzIuC0PkpQ",
        "outputId": "03c55e11-9bf7-4b3f-ccd7-db521ba08299"
      },
      "source": [
        "plot_model(model, to_file='model_plot.png', show_shapes=True, show_layer_names=True)"
      ],
      "execution_count": 66,
      "outputs": [
        {
          "output_type": "execute_result",
          "data": {
            "image/png": "[encoded data removed]",
            "text/plain": [
              "<IPython.core.display.Image object>"
            ]
          },
          "metadata": {},
          "execution_count": 66
        }
      ]
    },
    {
      "cell_type": "code",
      "metadata": {
        "id": "6fJAvY59PnRB"
      },
      "source": [
        "history = model.fit([X_train.iloc[:,:4],X_train.iloc[:,4:]], \n",
        "                    y_train,\n",
        "                    epochs = 100,\n",
        "                    batch_size = 64,\n",
        "                    verbose=1, validation_split=0.1)"
      ],
      "execution_count": null,
      "outputs": []
    },
    {
      "cell_type": "code",
      "metadata": {
        "colab": {
          "base_uri": "https://localhost:8080/",
          "height": 301
        },
        "id": "X2-XdZfiPzAK",
        "outputId": "54c71d3c-92ce-43c7-d938-59c8e6218e5e"
      },
      "source": [
        "# summarize history for accuracy\n",
        "plt.plot(history.history['mean_squared_error'])\n",
        "plt.plot(history.history['val_mean_squared_error'])\n",
        "plt.title('model MSE')\n",
        "plt.ylabel('MSE')\n",
        "plt.xlabel('epoch')\n",
        "plt.legend(['train', 'test'], loc='upper left')\n",
        "plt.show()"
      ],
      "execution_count": 68,
      "outputs": [
        {
          "output_type": "display_data",
          "data": {
            "image/png": "[encoded data removed]",
            "text/plain": [
              "<Figure size 432x288 with 1 Axes>"
            ]
          },
          "metadata": {
            "needs_background": "light"
          }
        }
      ]
    },
    {
      "cell_type": "code",
      "metadata": {
        "colab": {
          "base_uri": "https://localhost:8080/"
        },
        "id": "bPQpTyUEQEUb",
        "outputId": "d734c8e3-9c36-4712-8e07-35691ba1a987"
      },
      "source": [
        "eval = model.evaluate([X_test.iloc[:,:4],X_test.iloc[:,4:]], y_test)\n",
        "np.sqrt(eval[0])"
      ],
      "execution_count": 69,
      "outputs": [
        {
          "output_type": "stream",
          "name": "stdout",
          "text": [
            "63/63 [==============================] - 0s 3ms/step - loss: 95844.5312 - mean_squared_error: 95844.5312\n"
          ]
        },
        {
          "output_type": "execute_result",
          "data": {
            "text/plain": [
              "309.58767942216303"
            ]
          },
          "metadata": {},
          "execution_count": 69
        }
      ]
    }
  ]
}