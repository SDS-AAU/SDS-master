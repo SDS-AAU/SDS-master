{
  "nbformat": 4,
  "nbformat_minor": 0,
  "metadata": {
    "colab": {
      "name": "M3: ANN Python Intro",
      "provenance": [],
      "authorship_tag": "ABX9TyOzTGuKCjDi67o3VzRLEn/S",
      "include_colab_link": true
    },
    "kernelspec": {
      "name": "python3",
      "display_name": "Python 3"
    },
    "accelerator": "GPU"
  },
  "cells": [
    {
      "cell_type": "markdown",
      "metadata": {
        "id": "view-in-github",
        "colab_type": "text"
      },
      "source": [
        "<a href=\"https://colab.research.google.com/github/SDS-AAU/SDS-master/blob/master/M3/notebooks/M3_ANN_Python_Intro.ipynb\" target=\"_parent\"><img src=\"https://colab.research.google.com/assets/colab-badge.svg\" alt=\"Open In Colab\"/></a>"
      ]
    },
    {
      "cell_type": "markdown",
      "metadata": {
        "id": "VxTCPBHLTwGx"
      },
      "source": [
        "# Neural Networks 101 - With Penguins\n",
        "\n",
        "In this network we are going to apply a neural network model to the penguin data that we worked with in M1. You will see how the network architecture needs to be set up to achieve the same results that we have seen in the SML intro exercise.\n",
        "\n",
        "We are going to use Keras-TensorFlow and utilize a GPU (only on Colab) for this exercise.\n",
        "\n",
        "The neural net classification code is inspired by the recent adjustment to the new Keras API as described here: https://machinelearningmastery.com/multi-class-classification-tutorial-keras-deep-learning-library/"
      ]
    },
    {
      "cell_type": "code",
      "metadata": {
        "id": "iOFupsxSfXua",
        "outputId": "7069a2bf-74b3-4e3e-e836-31127ac4812a",
        "colab": {
          "base_uri": "https://localhost:8080/"
        }
      },
      "source": [
        "!nvidia-smi"
      ],
      "execution_count": 1,
      "outputs": [
        {
          "output_type": "stream",
          "text": [
            "Mon Nov  9 19:31:08 2020       \n",
            "+-----------------------------------------------------------------------------+\n",
            "| NVIDIA-SMI 455.32.00    Driver Version: 418.67       CUDA Version: 10.1     |\n",
            "|-------------------------------+----------------------+----------------------+\n",
            "| GPU  Name        Persistence-M| Bus-Id        Disp.A | Volatile Uncorr. ECC |\n",
            "| Fan  Temp  Perf  Pwr:Usage/Cap|         Memory-Usage | GPU-Util  Compute M. |\n",
            "|                               |                      |               MIG M. |\n",
            "|===============================+======================+======================|\n",
            "|   0  Tesla T4            Off  | 00000000:00:04.0 Off |                    0 |\n",
            "| N/A   41C    P8     9W /  70W |      0MiB / 15079MiB |      0%      Default |\n",
            "|                               |                      |                 ERR! |\n",
            "+-------------------------------+----------------------+----------------------+\n",
            "                                                                               \n",
            "+-----------------------------------------------------------------------------+\n",
            "| Processes:                                                                  |\n",
            "|  GPU   GI   CI        PID   Type   Process name                  GPU Memory |\n",
            "|        ID   ID                                                   Usage      |\n",
            "|=============================================================================|\n",
            "|  No running processes found                                                 |\n",
            "+-----------------------------------------------------------------------------+\n"
          ],
          "name": "stdout"
        }
      ]
    },
    {
      "cell_type": "code",
      "metadata": {
        "id": "s7r9_6j-USNm",
        "cellView": "both"
      },
      "source": [
        "#Import packaging\n",
        "import pandas as pd\n",
        "import numpy as np\n",
        "\n",
        "from sklearn.metrics import confusion_matrix\n",
        "from sklearn.metrics import classification_report"
      ],
      "execution_count": 2,
      "outputs": []
    },
    {
      "cell_type": "code",
      "metadata": {
        "id": "e3CbVUBfUFxE"
      },
      "source": [
        "penguins = pd.read_csv(\"https://github.com/allisonhorst/palmerpenguins/raw/5b5891f01b52ae26ad8cb9755ec93672f49328a8/data/penguins_size.csv\")"
      ],
      "execution_count": 3,
      "outputs": []
    },
    {
      "cell_type": "code",
      "metadata": {
        "id": "2we46_VnUKZ3",
        "outputId": "43c55b2c-8aac-4b82-ac57-9393269cdcff",
        "colab": {
          "base_uri": "https://localhost:8080/",
          "height": 195
        }
      },
      "source": [
        "penguins.head()"
      ],
      "execution_count": 4,
      "outputs": [
        {
          "output_type": "execute_result",
          "data": {
            "text/html": [
              "<div>\n",
              "<style scoped>\n",
              "    .dataframe tbody tr th:only-of-type {\n",
              "        vertical-align: middle;\n",
              "    }\n",
              "\n",
              "    .dataframe tbody tr th {\n",
              "        vertical-align: top;\n",
              "    }\n",
              "\n",
              "    .dataframe thead th {\n",
              "        text-align: right;\n",
              "    }\n",
              "</style>\n",
              "<table border=\"1\" class=\"dataframe\">\n",
              "  <thead>\n",
              "    <tr style=\"text-align: right;\">\n",
              "      <th></th>\n",
              "      <th>species_short</th>\n",
              "      <th>island</th>\n",
              "      <th>culmen_length_mm</th>\n",
              "      <th>culmen_depth_mm</th>\n",
              "      <th>flipper_length_mm</th>\n",
              "      <th>body_mass_g</th>\n",
              "      <th>sex</th>\n",
              "    </tr>\n",
              "  </thead>\n",
              "  <tbody>\n",
              "    <tr>\n",
              "      <th>0</th>\n",
              "      <td>Adelie</td>\n",
              "      <td>Torgersen</td>\n",
              "      <td>39.1</td>\n",
              "      <td>18.7</td>\n",
              "      <td>181.0</td>\n",
              "      <td>3750.0</td>\n",
              "      <td>MALE</td>\n",
              "    </tr>\n",
              "    <tr>\n",
              "      <th>1</th>\n",
              "      <td>Adelie</td>\n",
              "      <td>Torgersen</td>\n",
              "      <td>39.5</td>\n",
              "      <td>17.4</td>\n",
              "      <td>186.0</td>\n",
              "      <td>3800.0</td>\n",
              "      <td>FEMALE</td>\n",
              "    </tr>\n",
              "    <tr>\n",
              "      <th>2</th>\n",
              "      <td>Adelie</td>\n",
              "      <td>Torgersen</td>\n",
              "      <td>40.3</td>\n",
              "      <td>18.0</td>\n",
              "      <td>195.0</td>\n",
              "      <td>3250.0</td>\n",
              "      <td>FEMALE</td>\n",
              "    </tr>\n",
              "    <tr>\n",
              "      <th>3</th>\n",
              "      <td>Adelie</td>\n",
              "      <td>Torgersen</td>\n",
              "      <td>NaN</td>\n",
              "      <td>NaN</td>\n",
              "      <td>NaN</td>\n",
              "      <td>NaN</td>\n",
              "      <td>NaN</td>\n",
              "    </tr>\n",
              "    <tr>\n",
              "      <th>4</th>\n",
              "      <td>Adelie</td>\n",
              "      <td>Torgersen</td>\n",
              "      <td>36.7</td>\n",
              "      <td>19.3</td>\n",
              "      <td>193.0</td>\n",
              "      <td>3450.0</td>\n",
              "      <td>FEMALE</td>\n",
              "    </tr>\n",
              "  </tbody>\n",
              "</table>\n",
              "</div>"
            ],
            "text/plain": [
              "  species_short     island  ...  body_mass_g     sex\n",
              "0        Adelie  Torgersen  ...       3750.0    MALE\n",
              "1        Adelie  Torgersen  ...       3800.0  FEMALE\n",
              "2        Adelie  Torgersen  ...       3250.0  FEMALE\n",
              "3        Adelie  Torgersen  ...          NaN     NaN\n",
              "4        Adelie  Torgersen  ...       3450.0  FEMALE\n",
              "\n",
              "[5 rows x 7 columns]"
            ]
          },
          "metadata": {
            "tags": []
          },
          "execution_count": 4
        }
      ]
    },
    {
      "cell_type": "code",
      "metadata": {
        "id": "-0z13tb4UNyL"
      },
      "source": [
        "penguins.dropna(inplace=True)"
      ],
      "execution_count": 5,
      "outputs": []
    },
    {
      "cell_type": "code",
      "metadata": {
        "id": "--kgIY8KUXhd"
      },
      "source": [
        "from sklearn.preprocessing import LabelEncoder\n",
        "from sklearn.preprocessing import StandardScaler"
      ],
      "execution_count": 6,
      "outputs": []
    },
    {
      "cell_type": "code",
      "metadata": {
        "id": "-_9V1hkMUx9D"
      },
      "source": [
        "X = penguins.iloc[:,2:6]"
      ],
      "execution_count": 7,
      "outputs": []
    },
    {
      "cell_type": "code",
      "metadata": {
        "id": "QOh2FvGuUsUy"
      },
      "source": [
        "scaler = StandardScaler()\n",
        "X = scaler.fit_transform(X)"
      ],
      "execution_count": 8,
      "outputs": []
    },
    {
      "cell_type": "code",
      "metadata": {
        "id": "IN33zcYOU72t"
      },
      "source": [
        "# This is new: We encode a categorical variable. \n",
        "\n",
        "y = penguins.iloc[:, 0]\n",
        "labelencoder_y = LabelEncoder()\n",
        "y = labelencoder_y.fit_transform(y)\n"
      ],
      "execution_count": 9,
      "outputs": []
    },
    {
      "cell_type": "markdown",
      "metadata": {
        "id": "Ftkvl4zri0v1"
      },
      "source": [
        "Let's split the data and fit a simple logistic model"
      ]
    },
    {
      "cell_type": "code",
      "metadata": {
        "id": "f6xpLOG9Va49"
      },
      "source": [
        "from sklearn.model_selection import train_test_split\n",
        "X_train, X_test, y_train, y_test = train_test_split(X, y, test_size = 0.2, random_state = 21)"
      ],
      "execution_count": 10,
      "outputs": []
    },
    {
      "cell_type": "code",
      "metadata": {
        "id": "ARl3T8WHVfKf",
        "outputId": "92f488fc-de14-47d9-dead-a035c428c837",
        "colab": {
          "base_uri": "https://localhost:8080/"
        }
      },
      "source": [
        "from sklearn.linear_model import LogisticRegression\n",
        "model = LogisticRegression(multi_class=\"ovr\") # since we have 3 classes\n",
        "model.fit(X_train, y_train)"
      ],
      "execution_count": 11,
      "outputs": [
        {
          "output_type": "execute_result",
          "data": {
            "text/plain": [
              "LogisticRegression(C=1.0, class_weight=None, dual=False, fit_intercept=True,\n",
              "                   intercept_scaling=1, l1_ratio=None, max_iter=100,\n",
              "                   multi_class='ovr', n_jobs=None, penalty='l2',\n",
              "                   random_state=None, solver='lbfgs', tol=0.0001, verbose=0,\n",
              "                   warm_start=False)"
            ]
          },
          "metadata": {
            "tags": []
          },
          "execution_count": 11
        }
      ]
    },
    {
      "cell_type": "code",
      "metadata": {
        "id": "j_462ugrlmLy",
        "outputId": "3fde7c2d-7079-4fa4-c3a2-f8a4fa0d276f",
        "colab": {
          "base_uri": "https://localhost:8080/"
        }
      },
      "source": [
        "model.score(X_test, y_test)"
      ],
      "execution_count": 12,
      "outputs": [
        {
          "output_type": "execute_result",
          "data": {
            "text/plain": [
              "0.9552238805970149"
            ]
          },
          "metadata": {
            "tags": []
          },
          "execution_count": 12
        }
      ]
    },
    {
      "cell_type": "markdown",
      "metadata": {
        "id": "e3faVwdUi-7z"
      },
      "source": [
        "We can use the LabelEncoder to obtain the initial labels of the penguins to see how well the model performed"
      ]
    },
    {
      "cell_type": "code",
      "metadata": {
        "id": "Y9B1LuOGVj6B"
      },
      "source": [
        "true_penguins = labelencoder_y.inverse_transform(y_test)\n",
        "\n",
        "predicted_penguins = labelencoder_y.inverse_transform(model.predict(X_test))"
      ],
      "execution_count": 13,
      "outputs": []
    },
    {
      "cell_type": "code",
      "metadata": {
        "id": "PZw49PWAVtPW",
        "outputId": "5a802e37-8f46-4326-fe07-11ca283b4911",
        "colab": {
          "base_uri": "https://localhost:8080/",
          "height": 166
        }
      },
      "source": [
        "df = pd.DataFrame({'true_penguins': true_penguins, 'predicted_penguins': predicted_penguins}) \n",
        "\n",
        "pd.crosstab(df.true_penguins, df.predicted_penguins)"
      ],
      "execution_count": 14,
      "outputs": [
        {
          "output_type": "execute_result",
          "data": {
            "text/html": [
              "<div>\n",
              "<style scoped>\n",
              "    .dataframe tbody tr th:only-of-type {\n",
              "        vertical-align: middle;\n",
              "    }\n",
              "\n",
              "    .dataframe tbody tr th {\n",
              "        vertical-align: top;\n",
              "    }\n",
              "\n",
              "    .dataframe thead th {\n",
              "        text-align: right;\n",
              "    }\n",
              "</style>\n",
              "<table border=\"1\" class=\"dataframe\">\n",
              "  <thead>\n",
              "    <tr style=\"text-align: right;\">\n",
              "      <th>predicted_penguins</th>\n",
              "      <th>Adelie</th>\n",
              "      <th>Chinstrap</th>\n",
              "      <th>Gentoo</th>\n",
              "    </tr>\n",
              "    <tr>\n",
              "      <th>true_penguins</th>\n",
              "      <th></th>\n",
              "      <th></th>\n",
              "      <th></th>\n",
              "    </tr>\n",
              "  </thead>\n",
              "  <tbody>\n",
              "    <tr>\n",
              "      <th>Adelie</th>\n",
              "      <td>28</td>\n",
              "      <td>0</td>\n",
              "      <td>0</td>\n",
              "    </tr>\n",
              "    <tr>\n",
              "      <th>Chinstrap</th>\n",
              "      <td>3</td>\n",
              "      <td>13</td>\n",
              "      <td>0</td>\n",
              "    </tr>\n",
              "    <tr>\n",
              "      <th>Gentoo</th>\n",
              "      <td>0</td>\n",
              "      <td>0</td>\n",
              "      <td>23</td>\n",
              "    </tr>\n",
              "  </tbody>\n",
              "</table>\n",
              "</div>"
            ],
            "text/plain": [
              "predicted_penguins  Adelie  Chinstrap  Gentoo\n",
              "true_penguins                                \n",
              "Adelie                  28          0       0\n",
              "Chinstrap                3         13       0\n",
              "Gentoo                   0          0      23"
            ]
          },
          "metadata": {
            "tags": []
          },
          "execution_count": 14
        }
      ]
    },
    {
      "cell_type": "code",
      "metadata": {
        "id": "H1NTBCJ3V250",
        "outputId": "42bb6ec1-de4a-48ad-a0c0-e2da0fbb478f",
        "colab": {
          "base_uri": "https://localhost:8080/"
        }
      },
      "source": [
        "print(classification_report(true_penguins,predicted_penguins, labels=labelencoder_y.classes_))"
      ],
      "execution_count": 15,
      "outputs": [
        {
          "output_type": "stream",
          "text": [
            "              precision    recall  f1-score   support\n",
            "\n",
            "      Adelie       0.90      1.00      0.95        28\n",
            "   Chinstrap       1.00      0.81      0.90        16\n",
            "      Gentoo       1.00      1.00      1.00        23\n",
            "\n",
            "    accuracy                           0.96        67\n",
            "   macro avg       0.97      0.94      0.95        67\n",
            "weighted avg       0.96      0.96      0.95        67\n",
            "\n"
          ],
          "name": "stdout"
        }
      ]
    },
    {
      "cell_type": "markdown",
      "metadata": {
        "id": "mvuWw83ysmHe"
      },
      "source": [
        "## Let's now switch to building a simple ANN"
      ]
    },
    {
      "cell_type": "code",
      "metadata": {
        "id": "cPgb0HCAXaDS"
      },
      "source": [
        "from keras.models import Sequential\n",
        "from keras.layers import Dense\n",
        "from keras.wrappers.scikit_learn import KerasClassifier\n",
        "from keras.utils import np_utils\n",
        "\n",
        "from sklearn.model_selection import cross_val_score\n",
        "from sklearn.model_selection import KFold\n",
        "\n",
        "from sklearn.pipeline import Pipeline"
      ],
      "execution_count": 17,
      "outputs": []
    },
    {
      "cell_type": "code",
      "metadata": {
        "id": "fvKtHWIxuP5y"
      },
      "source": [
        "import matplotlib.pyplot as plt\n",
        "import seaborn as sns\n",
        "sns.set()"
      ],
      "execution_count": 16,
      "outputs": []
    },
    {
      "cell_type": "code",
      "metadata": {
        "id": "0isk_ngfXKOs"
      },
      "source": [
        "# convert integers to dummy variables (i.e. one hot encoded)\n",
        "dummy_y = np_utils.to_categorical(y)\n",
        "\n",
        "dummy_y_train = np_utils.to_categorical(y_train)\n",
        "dummy_y_test = np_utils.to_categorical(y_test)"
      ],
      "execution_count": 18,
      "outputs": []
    },
    {
      "cell_type": "code",
      "metadata": {
        "id": "Ras4G2z2te8S"
      },
      "source": [
        "# Build our first simple Neural Net\n",
        "\n",
        "model = Sequential()\n",
        "model.add(Dense(8,activation='relu',input_shape = (4,)))\n",
        "model.add(Dense(3,activation='softmax'))\n",
        "model.compile(optimizer = 'adam', loss='categorical_crossentropy',\n",
        "             metrics=['accuracy'])"
      ],
      "execution_count": 23,
      "outputs": []
    },
    {
      "cell_type": "code",
      "metadata": {
        "id": "qy_2lVYZt3h8",
        "outputId": "b6c25773-bbcb-4c5f-95a8-e7afce590c12",
        "colab": {
          "base_uri": "https://localhost:8080/"
        }
      },
      "source": [
        "# Train the model and generate a \"history\" object with training logs\n",
        "history = model.fit(X_train, \n",
        "                    dummy_y_train,\n",
        "                    epochs = 20,\n",
        "                    batch_size = 5,\n",
        "                    verbose=1, validation_split=0.1)"
      ],
      "execution_count": 24,
      "outputs": [
        {
          "output_type": "stream",
          "text": [
            "Epoch 1/20\n",
            "48/48 [==============================] - 0s 5ms/step - loss: 0.8069 - accuracy: 0.6958 - val_loss: 0.7432 - val_accuracy: 0.7407\n",
            "Epoch 2/20\n",
            "48/48 [==============================] - 0s 2ms/step - loss: 0.6693 - accuracy: 0.8458 - val_loss: 0.6329 - val_accuracy: 0.8519\n",
            "Epoch 3/20\n",
            "48/48 [==============================] - 0s 2ms/step - loss: 0.5654 - accuracy: 0.8958 - val_loss: 0.5434 - val_accuracy: 0.8148\n",
            "Epoch 4/20\n",
            "48/48 [==============================] - 0s 2ms/step - loss: 0.4808 - accuracy: 0.9167 - val_loss: 0.4719 - val_accuracy: 0.9259\n",
            "Epoch 5/20\n",
            "48/48 [==============================] - 0s 2ms/step - loss: 0.4118 - accuracy: 0.9208 - val_loss: 0.4070 - val_accuracy: 0.9259\n",
            "Epoch 6/20\n",
            "48/48 [==============================] - 0s 2ms/step - loss: 0.3537 - accuracy: 0.9208 - val_loss: 0.3476 - val_accuracy: 0.9259\n",
            "Epoch 7/20\n",
            "48/48 [==============================] - 0s 2ms/step - loss: 0.3069 - accuracy: 0.9208 - val_loss: 0.2997 - val_accuracy: 0.9630\n",
            "Epoch 8/20\n",
            "48/48 [==============================] - 0s 2ms/step - loss: 0.2678 - accuracy: 0.9292 - val_loss: 0.2539 - val_accuracy: 1.0000\n",
            "Epoch 9/20\n",
            "48/48 [==============================] - 0s 2ms/step - loss: 0.2352 - accuracy: 0.9292 - val_loss: 0.2187 - val_accuracy: 1.0000\n",
            "Epoch 10/20\n",
            "48/48 [==============================] - 0s 2ms/step - loss: 0.2092 - accuracy: 0.9333 - val_loss: 0.1868 - val_accuracy: 1.0000\n",
            "Epoch 11/20\n",
            "48/48 [==============================] - 0s 2ms/step - loss: 0.1876 - accuracy: 0.9458 - val_loss: 0.1610 - val_accuracy: 1.0000\n",
            "Epoch 12/20\n",
            "48/48 [==============================] - 0s 2ms/step - loss: 0.1680 - accuracy: 0.9542 - val_loss: 0.1404 - val_accuracy: 1.0000\n",
            "Epoch 13/20\n",
            "48/48 [==============================] - 0s 2ms/step - loss: 0.1513 - accuracy: 0.9625 - val_loss: 0.1211 - val_accuracy: 1.0000\n",
            "Epoch 14/20\n",
            "48/48 [==============================] - 0s 2ms/step - loss: 0.1371 - accuracy: 0.9750 - val_loss: 0.1056 - val_accuracy: 1.0000\n",
            "Epoch 15/20\n",
            "48/48 [==============================] - 0s 2ms/step - loss: 0.1262 - accuracy: 0.9750 - val_loss: 0.0920 - val_accuracy: 1.0000\n",
            "Epoch 16/20\n",
            "48/48 [==============================] - 0s 2ms/step - loss: 0.1139 - accuracy: 0.9750 - val_loss: 0.0813 - val_accuracy: 1.0000\n",
            "Epoch 17/20\n",
            "48/48 [==============================] - 0s 2ms/step - loss: 0.1048 - accuracy: 0.9792 - val_loss: 0.0719 - val_accuracy: 1.0000\n",
            "Epoch 18/20\n",
            "48/48 [==============================] - 0s 2ms/step - loss: 0.0967 - accuracy: 0.9792 - val_loss: 0.0639 - val_accuracy: 1.0000\n",
            "Epoch 19/20\n",
            "48/48 [==============================] - 0s 2ms/step - loss: 0.0894 - accuracy: 0.9833 - val_loss: 0.0575 - val_accuracy: 1.0000\n",
            "Epoch 20/20\n",
            "48/48 [==============================] - 0s 2ms/step - loss: 0.0833 - accuracy: 0.9833 - val_loss: 0.0514 - val_accuracy: 1.0000\n"
          ],
          "name": "stdout"
        }
      ]
    },
    {
      "cell_type": "code",
      "metadata": {
        "id": "YbCSCC8suLTN",
        "outputId": "14a9c8f1-38a0-4f13-9847-b67db8fc10ba",
        "colab": {
          "base_uri": "https://localhost:8080/",
          "height": 301
        }
      },
      "source": [
        "# summarize history for accuracy\n",
        "plt.plot(history.history['accuracy'])\n",
        "plt.plot(history.history['val_accuracy'])\n",
        "plt.title('model accuracy')\n",
        "plt.ylabel('accuracy')\n",
        "plt.xlabel('epoch')\n",
        "plt.legend(['train', 'test'], loc='upper left')\n",
        "plt.show()"
      ],
      "execution_count": 25,
      "outputs": [
        {
          "output_type": "display_data",
          "data": {
            "image/png": "[encoded data removed]",
            "text/plain": [
              "<Figure size 432x288 with 1 Axes>"
            ]
          },
          "metadata": {
            "tags": []
          }
        }
      ]
    },
    {
      "cell_type": "code",
      "metadata": {
        "id": "fJgTca78ki_w",
        "outputId": "d58cf2a5-50f9-4dde-fe6b-21203f97e998",
        "colab": {
          "base_uri": "https://localhost:8080/"
        }
      },
      "source": [
        "model.evaluate(X_test, dummy_y_test)"
      ],
      "execution_count": 26,
      "outputs": [
        {
          "output_type": "stream",
          "text": [
            "3/3 [==============================] - 0s 3ms/step - loss: 0.0860 - accuracy: 0.9701\n"
          ],
          "name": "stdout"
        },
        {
          "output_type": "execute_result",
          "data": {
            "text/plain": [
              "[0.0859844908118248, 0.9701492786407471]"
            ]
          },
          "metadata": {
            "tags": []
          },
          "execution_count": 26
        }
      ]
    },
    {
      "cell_type": "markdown",
      "metadata": {
        "id": "6katI9y_dV06"
      },
      "source": [
        "## Training the model using Sklearn API wrapper (to make it fit better in the regular ML workflow)"
      ]
    },
    {
      "cell_type": "code",
      "metadata": {
        "id": "KGsvVFPCXKzZ"
      },
      "source": [
        "# define baseline model\n",
        "def baseline_model():\n",
        "\t# create model\n",
        "\tmodel = Sequential()\n",
        "\tmodel.add(Dense(8, input_dim=4, activation='relu'))\n",
        "\tmodel.add(Dense(3, activation='softmax'))\n",
        "\t# Compile model\n",
        "\tmodel.compile(loss='categorical_crossentropy', optimizer='adam', metrics=['accuracy'])\n",
        "\treturn model"
      ],
      "execution_count": 27,
      "outputs": []
    },
    {
      "cell_type": "code",
      "metadata": {
        "id": "bZSeppwWaXs4"
      },
      "source": [
        "estimator = KerasClassifier(build_fn=baseline_model, epochs=20, batch_size=5, verbose=0)"
      ],
      "execution_count": 28,
      "outputs": []
    },
    {
      "cell_type": "code",
      "metadata": {
        "id": "CgstZDfZbFfX",
        "outputId": "d5e20efe-b622-4bc1-8fd4-f0e8c1f5a082",
        "colab": {
          "base_uri": "https://localhost:8080/"
        }
      },
      "source": [
        "estimator.fit(X_train, dummy_y_train)"
      ],
      "execution_count": 29,
      "outputs": [
        {
          "output_type": "execute_result",
          "data": {
            "text/plain": [
              "<tensorflow.python.keras.callbacks.History at 0x7f6d94583978>"
            ]
          },
          "metadata": {
            "tags": []
          },
          "execution_count": 29
        }
      ]
    },
    {
      "cell_type": "code",
      "metadata": {
        "id": "Mz1iUluyoGun",
        "outputId": "1fbe32cb-c0fc-4692-d3e0-27efeec6bf63",
        "colab": {
          "base_uri": "https://localhost:8080/"
        }
      },
      "source": [
        "estimator.score(X_test, dummy_y_test)"
      ],
      "execution_count": 30,
      "outputs": [
        {
          "output_type": "execute_result",
          "data": {
            "text/plain": [
              "0.9552238583564758"
            ]
          },
          "metadata": {
            "tags": []
          },
          "execution_count": 30
        }
      ]
    },
    {
      "cell_type": "code",
      "metadata": {
        "id": "9VKrT2dzoY_8",
        "outputId": "dcf5aaf9-1f0a-4bfe-aa1c-1915afe0a8d7",
        "colab": {
          "base_uri": "https://localhost:8080/"
        }
      },
      "source": [
        "true_penguins = labelencoder_y.inverse_transform(y_test)\n",
        "\n",
        "predicted_penguins = labelencoder_y.inverse_transform(estimator.predict(X_test))"
      ],
      "execution_count": 31,
      "outputs": [
        {
          "output_type": "stream",
          "text": [
            "WARNING:tensorflow:From /usr/local/lib/python3.6/dist-packages/tensorflow/python/keras/wrappers/scikit_learn.py:241: Sequential.predict_classes (from tensorflow.python.keras.engine.sequential) is deprecated and will be removed after 2021-01-01.\n",
            "Instructions for updating:\n",
            "Please use instead:* `np.argmax(model.predict(x), axis=-1)`,   if your model does multi-class classification   (e.g. if it uses a `softmax` last-layer activation).* `(model.predict(x) > 0.5).astype(\"int32\")`,   if your model does binary classification   (e.g. if it uses a `sigmoid` last-layer activation).\n"
          ],
          "name": "stdout"
        }
      ]
    },
    {
      "cell_type": "code",
      "metadata": {
        "id": "oiwH1HcaoPua",
        "outputId": "5954b4ce-136d-4f31-e921-2dacc3dd9dd6",
        "colab": {
          "base_uri": "https://localhost:8080/"
        }
      },
      "source": [
        "print(classification_report(true_penguins,predicted_penguins, labels=labelencoder_y.classes_))"
      ],
      "execution_count": 32,
      "outputs": [
        {
          "output_type": "stream",
          "text": [
            "              precision    recall  f1-score   support\n",
            "\n",
            "      Adelie       0.90      1.00      0.95        28\n",
            "   Chinstrap       1.00      0.81      0.90        16\n",
            "      Gentoo       1.00      1.00      1.00        23\n",
            "\n",
            "    accuracy                           0.96        67\n",
            "   macro avg       0.97      0.94      0.95        67\n",
            "weighted avg       0.96      0.96      0.95        67\n",
            "\n"
          ],
          "name": "stdout"
        }
      ]
    },
    {
      "cell_type": "markdown",
      "metadata": {
        "id": "bk6hR_YPrSsT"
      },
      "source": [
        "## Adding some KFold cross-validatoin"
      ]
    },
    {
      "cell_type": "code",
      "metadata": {
        "id": "pT_-tixwnjbm"
      },
      "source": [
        "kfold = KFold(n_splits=2, shuffle=True)\n",
        "results = cross_val_score(estimator, X, dummy_y, cv=kfold)"
      ],
      "execution_count": 33,
      "outputs": []
    },
    {
      "cell_type": "code",
      "metadata": {
        "id": "lXzAI4ibn-hj",
        "outputId": "6e99cf7d-9d12-4d06-92da-728a61df3ad5",
        "colab": {
          "base_uri": "https://localhost:8080/"
        }
      },
      "source": [
        "print(\"Baseline: %.2f%% (%.2f%%)\" % (results.mean()*100, results.std()*100))"
      ],
      "execution_count": 34,
      "outputs": [
        {
          "output_type": "stream",
          "text": [
            "Baseline: 98.20% (0.00%)\n"
          ],
          "name": "stdout"
        }
      ]
    },
    {
      "cell_type": "markdown",
      "metadata": {
        "id": "nhBN7Lm2rXoo"
      },
      "source": [
        "## Your Turn\n",
        "\n",
        "Using the Keras API and reference https://keras.io/ and in particular construct additional simple models (with appropriate metrics):\n",
        "\n",
        "- Regression example\n",
        "- Multi-label example\n",
        "\n",
        "Additional resources: \n",
        "Consider code examples here: \n",
        "\n",
        "- https://keras.io/examples/structured_data/\n",
        "\n",
        "- https://machinelearningmastery.com/regression-tutorial-keras-deep-learning-library-python/ (and other Keras tutorials)\n"
      ]
    }
  ]
}