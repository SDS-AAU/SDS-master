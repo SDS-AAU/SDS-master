{
  "nbformat": 4,
  "nbformat_minor": 0,
  "metadata": {
    "colab": {
      "name": "Claim_Similarity_and_Classification_SBERT_KNN.ipynb",
      "provenance": [],
      "collapsed_sections": [],
      "include_colab_link": true
    },
    "kernelspec": {
      "name": "python3",
      "display_name": "Python 3"
    }
  },
  "cells": [
    {
      "cell_type": "markdown",
      "metadata": {
        "id": "view-in-github",
        "colab_type": "text"
      },
      "source": [
        "<a href=\"https://colab.research.google.com/github/SDS-AAU/SDS-master/blob/master/M3/notebooks/Claim_Similarity_and_Classification_SBERT_KNN.ipynb\" target=\"_parent\"><img src=\"https://colab.research.google.com/assets/colab-badge.svg\" alt=\"Open In Colab\"/></a>"
      ]
    },
    {
      "cell_type": "code",
      "metadata": {
        "id": "c2jVU19sB6Tm",
        "colab": {
          "base_uri": "https://localhost:8080/"
        },
        "outputId": "21d70f72-9d53-4c4f-df56-5cbc1f91b439"
      },
      "source": [
        "!pip install sentence_transformers -q"
      ],
      "execution_count": null,
      "outputs": [
        {
          "output_type": "stream",
          "name": "stdout",
          "text": [
            "\u001b[K     |████████████████████████████████| 78 kB 3.2 MB/s \n",
            "\u001b[K     |████████████████████████████████| 3.1 MB 9.2 MB/s \n",
            "\u001b[K     |████████████████████████████████| 3.3 MB 38.0 MB/s \n",
            "\u001b[K     |████████████████████████████████| 1.2 MB 49.1 MB/s \n",
            "\u001b[K     |████████████████████████████████| 59 kB 6.4 MB/s \n",
            "\u001b[K     |████████████████████████████████| 895 kB 68.5 MB/s \n",
            "\u001b[K     |████████████████████████████████| 596 kB 35.5 MB/s \n",
            "\u001b[?25h  Building wheel for sentence-transformers (setup.py) ... \u001b[?25l\u001b[?25hdone\n"
          ]
        }
      ]
    },
    {
      "cell_type": "code",
      "metadata": {
        "id": "Nl6vMeHxKTSw"
      },
      "source": [
        "import scipy.spatial\n",
        "import numpy as np\n",
        "import os, json\n",
        "import glob\n",
        "import re\n",
        "import torch\n",
        "import pandas as pd"
      ],
      "execution_count": null,
      "outputs": []
    },
    {
      "cell_type": "code",
      "metadata": {
        "id": "0SKcdUBUFL4X"
      },
      "source": [
        "df_row = pd.read_csv('https://github.com/SDS-AAU/SDS-master/raw/master/00_data/patent_claim5000.csv')"
      ],
      "execution_count": null,
      "outputs": []
    },
    {
      "cell_type": "code",
      "metadata": {
        "id": "ZkQ_L8kXQRJm",
        "colab": {
          "base_uri": "https://localhost:8080/",
          "height": 205
        },
        "outputId": "39c2bddf-8471-46a9-d389-5880120c9d0c"
      },
      "source": [
        "df_row.head()"
      ],
      "execution_count": null,
      "outputs": [
        {
          "output_type": "execute_result",
          "data": {
            "text/html": [
              "<div>\n",
              "<style scoped>\n",
              "    .dataframe tbody tr th:only-of-type {\n",
              "        vertical-align: middle;\n",
              "    }\n",
              "\n",
              "    .dataframe tbody tr th {\n",
              "        vertical-align: top;\n",
              "    }\n",
              "\n",
              "    .dataframe thead th {\n",
              "        text-align: right;\n",
              "    }\n",
              "</style>\n",
              "<table border=\"1\" class=\"dataframe\">\n",
              "  <thead>\n",
              "    <tr style=\"text-align: right;\">\n",
              "      <th></th>\n",
              "      <th>patent_id</th>\n",
              "      <th>claim_number</th>\n",
              "      <th>text</th>\n",
              "      <th>sequence</th>\n",
              "      <th>dependent</th>\n",
              "      <th>exemplary</th>\n",
              "      <th>subclass</th>\n",
              "    </tr>\n",
              "  </thead>\n",
              "  <tbody>\n",
              "    <tr>\n",
              "      <th>0</th>\n",
              "      <td>10606734</td>\n",
              "      <td>6</td>\n",
              "      <td>6. A computer-program product for intelligent ...</td>\n",
              "      <td>5</td>\n",
              "      <td>NaN</td>\n",
              "      <td>0</td>\n",
              "      <td>A</td>\n",
              "    </tr>\n",
              "    <tr>\n",
              "      <th>1</th>\n",
              "      <td>10606734</td>\n",
              "      <td>7</td>\n",
              "      <td>7. The computer program product of claim 6 , w...</td>\n",
              "      <td>6</td>\n",
              "      <td>claim 6</td>\n",
              "      <td>0</td>\n",
              "      <td>A</td>\n",
              "    </tr>\n",
              "    <tr>\n",
              "      <th>2</th>\n",
              "      <td>10606734</td>\n",
              "      <td>8</td>\n",
              "      <td>8. The computer program product of claim 6 , f...</td>\n",
              "      <td>7</td>\n",
              "      <td>claim 6</td>\n",
              "      <td>0</td>\n",
              "      <td>A</td>\n",
              "    </tr>\n",
              "    <tr>\n",
              "      <th>3</th>\n",
              "      <td>10606734</td>\n",
              "      <td>9</td>\n",
              "      <td>9. The computer program product of claim 8 , w...</td>\n",
              "      <td>8</td>\n",
              "      <td>claim 8</td>\n",
              "      <td>0</td>\n",
              "      <td>A</td>\n",
              "    </tr>\n",
              "    <tr>\n",
              "      <th>4</th>\n",
              "      <td>10606734</td>\n",
              "      <td>10</td>\n",
              "      <td>10. The computer program product of claim 6 , ...</td>\n",
              "      <td>9</td>\n",
              "      <td>claim 6</td>\n",
              "      <td>0</td>\n",
              "      <td>A</td>\n",
              "    </tr>\n",
              "  </tbody>\n",
              "</table>\n",
              "</div>"
            ],
            "text/plain": [
              "   patent_id  claim_number  ... exemplary  subclass\n",
              "0   10606734             6  ...         0         A\n",
              "1   10606734             7  ...         0         A\n",
              "2   10606734             8  ...         0         A\n",
              "3   10606734             9  ...         0         A\n",
              "4   10606734            10  ...         0         A\n",
              "\n",
              "[5 rows x 7 columns]"
            ]
          },
          "metadata": {},
          "execution_count": 6
        }
      ]
    },
    {
      "cell_type": "code",
      "metadata": {
        "id": "yD8WxypujijC",
        "colab": {
          "base_uri": "https://localhost:8080/",
          "height": 174
        },
        "outputId": "661979cd-65c2-41d0-853a-3e10dfbba0bd"
      },
      "source": [
        "df_row.iloc[0]['text']"
      ],
      "execution_count": null,
      "outputs": [
        {
          "output_type": "execute_result",
          "data": {
            "application/vnd.google.colaboratory.intrinsic+json": {
              "type": "string"
            },
            "text/plain": [
              "'6. A computer-program product for intelligent mobile device selection for mobile application testing, the computer-program product comprising: a computer-readable storage medium readable by a processing circuit and storing instructions for execution by the processing circuit for performing a method comprising: determining features of a new mobile application to be tested; comparing, by a processor, the features of the new mobile application to be tested with features of multiple known mobile applications to identify one or more known mobile applications with similar features; based at least in part on automated analysis of user reviews of the one or more known mobile applications operating in one or more types of mobile devices, providing one or more risk scores for operation of the new mobile application in the one or more types of mobile devices, wherein providing the one or more risk scores comprises generating a respective risk score for operating the new mobile application in each type of mobile device of the one or more types of mobile devices, the respective risk scores being determined based, at least in part, on automated analysis of user reviews of the one or more known mobile applications with similar features operating on that type of mobile device; using, by the processor, at least in part, the one or more risk scores in deciding in which types of mobile devices to test the operation of the new mobile application.'"
            ]
          },
          "metadata": {},
          "execution_count": 7
        }
      ]
    },
    {
      "cell_type": "code",
      "metadata": {
        "id": "k8lSU_dYj025"
      },
      "source": [
        "df_newmergetext = df_row.groupby('patent_id')['text'].apply(lambda x: \"{%s}\" % ', '.join(x))\n",
        "# type(df_newmergetext)"
      ],
      "execution_count": null,
      "outputs": []
    },
    {
      "cell_type": "code",
      "metadata": {
        "id": "5boN95U_-Lio",
        "colab": {
          "base_uri": "https://localhost:8080/"
        },
        "outputId": "f4de38e8-ba73-4c5d-8d12-6ed5c365c1e0"
      },
      "source": [
        "df_newmergetext.head()"
      ],
      "execution_count": null,
      "outputs": [
        {
          "output_type": "execute_result",
          "data": {
            "text/plain": [
              "patent_id\n",
              "10606734    {6. A computer-program product for intelligent...\n",
              "10606736    {1. A computer-implemented method for creation...\n",
              "10606737    {1. A method for testing a resource constraine...\n",
              "10606738    {1. A method, comprising: receiving results fr...\n",
              "10606739    {1. A device, comprising: a memory; and one or...\n",
              "Name: text, dtype: object"
            ]
          },
          "metadata": {},
          "execution_count": 9
        }
      ]
    },
    {
      "cell_type": "code",
      "metadata": {
        "id": "SK0ILaVtkAsn"
      },
      "source": [
        "df_newmergetext = df_newmergetext.to_frame()\n",
        "# df_newmergetext.head()\n",
        "# df_newmergetext.iloc[0]['text']"
      ],
      "execution_count": null,
      "outputs": []
    },
    {
      "cell_type": "code",
      "metadata": {
        "id": "t7MwdYKNkJI4"
      },
      "source": [
        "df = pd.merge(df_row.drop_duplicates(subset='patent_id'), df_newmergetext, on='patent_id', how='inner')"
      ],
      "execution_count": null,
      "outputs": []
    },
    {
      "cell_type": "code",
      "metadata": {
        "id": "AAQPbYb_-Vdy",
        "colab": {
          "base_uri": "https://localhost:8080/",
          "height": 292
        },
        "outputId": "90e5502a-b64f-47ea-cff1-624a398eb16f"
      },
      "source": [
        "df.head()"
      ],
      "execution_count": null,
      "outputs": [
        {
          "output_type": "execute_result",
          "data": {
            "text/html": [
              "<div>\n",
              "<style scoped>\n",
              "    .dataframe tbody tr th:only-of-type {\n",
              "        vertical-align: middle;\n",
              "    }\n",
              "\n",
              "    .dataframe tbody tr th {\n",
              "        vertical-align: top;\n",
              "    }\n",
              "\n",
              "    .dataframe thead th {\n",
              "        text-align: right;\n",
              "    }\n",
              "</style>\n",
              "<table border=\"1\" class=\"dataframe\">\n",
              "  <thead>\n",
              "    <tr style=\"text-align: right;\">\n",
              "      <th></th>\n",
              "      <th>patent_id</th>\n",
              "      <th>claim_number</th>\n",
              "      <th>text_x</th>\n",
              "      <th>sequence</th>\n",
              "      <th>dependent</th>\n",
              "      <th>exemplary</th>\n",
              "      <th>subclass</th>\n",
              "      <th>text_y</th>\n",
              "    </tr>\n",
              "  </thead>\n",
              "  <tbody>\n",
              "    <tr>\n",
              "      <th>0</th>\n",
              "      <td>10606734</td>\n",
              "      <td>6</td>\n",
              "      <td>6. A computer-program product for intelligent ...</td>\n",
              "      <td>5</td>\n",
              "      <td>NaN</td>\n",
              "      <td>0</td>\n",
              "      <td>A</td>\n",
              "      <td>{6. A computer-program product for intelligent...</td>\n",
              "    </tr>\n",
              "    <tr>\n",
              "      <th>1</th>\n",
              "      <td>10606736</td>\n",
              "      <td>1</td>\n",
              "      <td>1. A computer-implemented method for creation ...</td>\n",
              "      <td>0</td>\n",
              "      <td>NaN</td>\n",
              "      <td>1</td>\n",
              "      <td>A</td>\n",
              "      <td>{1. A computer-implemented method for creation...</td>\n",
              "    </tr>\n",
              "    <tr>\n",
              "      <th>2</th>\n",
              "      <td>10606737</td>\n",
              "      <td>1</td>\n",
              "      <td>1. A method for testing a resource constrained...</td>\n",
              "      <td>0</td>\n",
              "      <td>NaN</td>\n",
              "      <td>1</td>\n",
              "      <td>A</td>\n",
              "      <td>{1. A method for testing a resource constraine...</td>\n",
              "    </tr>\n",
              "    <tr>\n",
              "      <th>3</th>\n",
              "      <td>10606738</td>\n",
              "      <td>1</td>\n",
              "      <td>1. A method, comprising: receiving results fro...</td>\n",
              "      <td>0</td>\n",
              "      <td>NaN</td>\n",
              "      <td>1</td>\n",
              "      <td>A</td>\n",
              "      <td>{1. A method, comprising: receiving results fr...</td>\n",
              "    </tr>\n",
              "    <tr>\n",
              "      <th>4</th>\n",
              "      <td>10606739</td>\n",
              "      <td>1</td>\n",
              "      <td>1. A device, comprising: a memory; and one or ...</td>\n",
              "      <td>0</td>\n",
              "      <td>NaN</td>\n",
              "      <td>1</td>\n",
              "      <td>A</td>\n",
              "      <td>{1. A device, comprising: a memory; and one or...</td>\n",
              "    </tr>\n",
              "  </tbody>\n",
              "</table>\n",
              "</div>"
            ],
            "text/plain": [
              "   patent_id  ...                                             text_y\n",
              "0   10606734  ...  {6. A computer-program product for intelligent...\n",
              "1   10606736  ...  {1. A computer-implemented method for creation...\n",
              "2   10606737  ...  {1. A method for testing a resource constraine...\n",
              "3   10606738  ...  {1. A method, comprising: receiving results fr...\n",
              "4   10606739  ...  {1. A device, comprising: a memory; and one or...\n",
              "\n",
              "[5 rows x 8 columns]"
            ]
          },
          "metadata": {},
          "execution_count": 12
        }
      ]
    },
    {
      "cell_type": "code",
      "metadata": {
        "id": "inAwgaDFkRmE"
      },
      "source": [
        "df['text_y'] = df['text_y'].str.strip('{}')"
      ],
      "execution_count": null,
      "outputs": []
    },
    {
      "cell_type": "code",
      "metadata": {
        "id": "oZ8ohjZUkgRH"
      },
      "source": [
        "df = df.drop('text_x', axis=1)"
      ],
      "execution_count": null,
      "outputs": []
    },
    {
      "cell_type": "code",
      "metadata": {
        "id": "g-cGeNaDkkaK",
        "colab": {
          "base_uri": "https://localhost:8080/",
          "height": 205
        },
        "outputId": "c1033083-b46b-4fe1-a76e-4a8f1e259b2b"
      },
      "source": [
        "df.head()"
      ],
      "execution_count": null,
      "outputs": [
        {
          "output_type": "execute_result",
          "data": {
            "text/html": [
              "<div>\n",
              "<style scoped>\n",
              "    .dataframe tbody tr th:only-of-type {\n",
              "        vertical-align: middle;\n",
              "    }\n",
              "\n",
              "    .dataframe tbody tr th {\n",
              "        vertical-align: top;\n",
              "    }\n",
              "\n",
              "    .dataframe thead th {\n",
              "        text-align: right;\n",
              "    }\n",
              "</style>\n",
              "<table border=\"1\" class=\"dataframe\">\n",
              "  <thead>\n",
              "    <tr style=\"text-align: right;\">\n",
              "      <th></th>\n",
              "      <th>patent_id</th>\n",
              "      <th>claim_number</th>\n",
              "      <th>sequence</th>\n",
              "      <th>dependent</th>\n",
              "      <th>exemplary</th>\n",
              "      <th>subclass</th>\n",
              "      <th>text_y</th>\n",
              "    </tr>\n",
              "  </thead>\n",
              "  <tbody>\n",
              "    <tr>\n",
              "      <th>0</th>\n",
              "      <td>10606734</td>\n",
              "      <td>6</td>\n",
              "      <td>5</td>\n",
              "      <td>NaN</td>\n",
              "      <td>0</td>\n",
              "      <td>A</td>\n",
              "      <td>6. A computer-program product for intelligent ...</td>\n",
              "    </tr>\n",
              "    <tr>\n",
              "      <th>1</th>\n",
              "      <td>10606736</td>\n",
              "      <td>1</td>\n",
              "      <td>0</td>\n",
              "      <td>NaN</td>\n",
              "      <td>1</td>\n",
              "      <td>A</td>\n",
              "      <td>1. A computer-implemented method for creation ...</td>\n",
              "    </tr>\n",
              "    <tr>\n",
              "      <th>2</th>\n",
              "      <td>10606737</td>\n",
              "      <td>1</td>\n",
              "      <td>0</td>\n",
              "      <td>NaN</td>\n",
              "      <td>1</td>\n",
              "      <td>A</td>\n",
              "      <td>1. A method for testing a resource constrained...</td>\n",
              "    </tr>\n",
              "    <tr>\n",
              "      <th>3</th>\n",
              "      <td>10606738</td>\n",
              "      <td>1</td>\n",
              "      <td>0</td>\n",
              "      <td>NaN</td>\n",
              "      <td>1</td>\n",
              "      <td>A</td>\n",
              "      <td>1. A method, comprising: receiving results fro...</td>\n",
              "    </tr>\n",
              "    <tr>\n",
              "      <th>4</th>\n",
              "      <td>10606739</td>\n",
              "      <td>1</td>\n",
              "      <td>0</td>\n",
              "      <td>NaN</td>\n",
              "      <td>1</td>\n",
              "      <td>A</td>\n",
              "      <td>1. A device, comprising: a memory; and one or ...</td>\n",
              "    </tr>\n",
              "  </tbody>\n",
              "</table>\n",
              "</div>"
            ],
            "text/plain": [
              "   patent_id  ...                                             text_y\n",
              "0   10606734  ...  6. A computer-program product for intelligent ...\n",
              "1   10606736  ...  1. A computer-implemented method for creation ...\n",
              "2   10606737  ...  1. A method for testing a resource constrained...\n",
              "3   10606738  ...  1. A method, comprising: receiving results fro...\n",
              "4   10606739  ...  1. A device, comprising: a memory; and one or ...\n",
              "\n",
              "[5 rows x 7 columns]"
            ]
          },
          "metadata": {},
          "execution_count": 15
        }
      ]
    },
    {
      "cell_type": "code",
      "metadata": {
        "id": "jiBKqGailUZr"
      },
      "source": [
        "df = df.rename(columns={\"text_y\": \"text\"}, errors=\"raise\")"
      ],
      "execution_count": null,
      "outputs": []
    },
    {
      "cell_type": "code",
      "metadata": {
        "id": "Dqn9Pd6EkmZR",
        "colab": {
          "base_uri": "https://localhost:8080/"
        },
        "outputId": "65c8e62b-f943-498b-f820-05a055717739"
      },
      "source": [
        "total_patents = df.count()\n",
        "total_patents"
      ],
      "execution_count": null,
      "outputs": [
        {
          "output_type": "execute_result",
          "data": {
            "text/plain": [
              "patent_id       282\n",
              "claim_number    282\n",
              "sequence        282\n",
              "dependent         0\n",
              "exemplary       282\n",
              "subclass        282\n",
              "text            282\n",
              "dtype: int64"
            ]
          },
          "metadata": {},
          "execution_count": 17
        }
      ]
    },
    {
      "cell_type": "code",
      "metadata": {
        "id": "OgW99gz3Qo4c"
      },
      "source": [
        "## Torch tryout\n",
        "# df_test_tensor = df.drop(['text', 'dependent'], axis=1)\n",
        "# df_test_tensor\n",
        "# sorted, indices = torch.sort(df_tensor, 0)"
      ],
      "execution_count": null,
      "outputs": []
    },
    {
      "cell_type": "code",
      "metadata": {
        "id": "9WVrtjzXFWu1"
      },
      "source": [
        "claims = list(df.text)\n",
        "patent_id = list(df.patent_id)"
      ],
      "execution_count": null,
      "outputs": []
    },
    {
      "cell_type": "code",
      "metadata": {
        "id": "S3oCcr88Fsb1"
      },
      "source": [
        "from sentence_transformers import SentenceTransformer"
      ],
      "execution_count": null,
      "outputs": []
    },
    {
      "cell_type": "code",
      "metadata": {
        "id": "WY9JTYCo_WSV"
      },
      "source": [
        "#embedder = SentenceTransformer('roberta-base-nli-stsb-mean-tokens')"
      ],
      "execution_count": null,
      "outputs": []
    },
    {
      "cell_type": "code",
      "metadata": {
        "id": "6xBxdJVg6d_J"
      },
      "source": [
        "#Test_claim_embeddings = embedder.encode(claims)"
      ],
      "execution_count": null,
      "outputs": []
    },
    {
      "cell_type": "code",
      "metadata": {
        "id": "5LsjbPYRFxV0"
      },
      "source": [
        "def get_top_n_similar_patents_df(new_claim, claims):\n",
        "    # embedder = SentenceTransformer('bert-base-nli-stsb-mean-tokens')\n",
        "    embedder = SentenceTransformer('roberta-base-nli-stsb-mean-tokens')\n",
        "    query_embeddings = embedder.encode([new_claim])\n",
        "\n",
        "    # list of patent claims\n",
        "    claim_embeddings = embedder.encode(claims)\n",
        "\n",
        "    # get top 100 patent claims based on cosine similarity\n",
        "    closest_n = 100\n",
        "    distances = scipy.spatial.distance.cdist(query_embeddings, claim_embeddings, \"cosine\")[0]\n",
        "\n",
        "    results = zip(range(len(distances)), distances)\n",
        "    results = sorted(results, key=lambda x: x[1])\n",
        "\n",
        "    # save similar patents info\n",
        "    top_claim_ids = []\n",
        "    top_claims = []\n",
        "    top_similarity_scores = []\n",
        "\n",
        "\n",
        "    print('New_claim: ' + new_claim + '\\n')\n",
        "\n",
        "    # Find the closest 100 patent claims for each query new_claim based on cosine similarity\n",
        "    for idx, distance in results[0:closest_n]:\n",
        "        top_claim_ids.append(patent_id[idx])\n",
        "        top_claims.append(claims[idx])\n",
        "        top_similarity_scores.append(round((1-distance), 4))\n",
        "        print('Patent ID: ' + str(patent_id[idx]))\n",
        "        print('PubMed Claim: ' + claims[idx])\n",
        "        print('Similarity Score: ' + \"%.4f\" % (1-distance))\n",
        "        print('\\n')\n",
        "        \n",
        "    top_100_similar_patents_df = pd.DataFrame({\n",
        "        'top_claim_ids': top_claim_ids,\n",
        "        'cosine_similarity': top_similarity_scores,\n",
        "        'claims': top_claims,\n",
        "    })\n",
        "    \n",
        "    return top_100_similar_patents_df"
      ],
      "execution_count": null,
      "outputs": []
    },
    {
      "cell_type": "code",
      "metadata": {
        "id": "XPomUyRuRHAE"
      },
      "source": [
        "new_claim = ['The computer-implemented method of claim 4 wherein the filtering criteria comprises a number of page groups in the page group list is greater than 1, and the representative rank is less than or equal to the exit-entry max paths. The computer-implemented method of claim 2 wherein the selecting of the top n unconverted session paths further comprises only selecting unconverted sessions that meet a filtering criteria. The computer-implemented method of claim 1 further comprising creating a master table that lists the set of load test scenarios and the think times that represents a distribution of paths taken by real users during the peak hour.']"
      ],
      "execution_count": null,
      "outputs": []
    },
    {
      "cell_type": "code",
      "metadata": {
        "id": "t8ORKVQyJFYX"
      },
      "source": [
        "# search for similar patent claim\n",
        "\n",
        "if os.path.exists('top_100_similar_patents_df.csv'):\n",
        "    get_top_n_similar_patents_df = pd.read_csv('top_100_similar_patents_df.csv')\n",
        "\n",
        "else:\n",
        "    get_top_n_similar_patents_df = get_top_n_similar_patents_df(new_claim[0], claims)"
      ],
      "execution_count": null,
      "outputs": []
    },
    {
      "cell_type": "code",
      "metadata": {
        "id": "y_zI1hoLKVMW"
      },
      "source": [
        "# type(get_top_n_similar_patents_df)"
      ],
      "execution_count": null,
      "outputs": []
    },
    {
      "cell_type": "code",
      "metadata": {
        "id": "yB7Dqvbee7_G",
        "colab": {
          "base_uri": "https://localhost:8080/",
          "height": 205
        },
        "outputId": "4bed8742-1a95-46cb-c84e-44b9faf7366e"
      },
      "source": [
        "get_top_n_similar_patents_df.head()"
      ],
      "execution_count": null,
      "outputs": [
        {
          "output_type": "execute_result",
          "data": {
            "text/html": [
              "<div>\n",
              "<style scoped>\n",
              "    .dataframe tbody tr th:only-of-type {\n",
              "        vertical-align: middle;\n",
              "    }\n",
              "\n",
              "    .dataframe tbody tr th {\n",
              "        vertical-align: top;\n",
              "    }\n",
              "\n",
              "    .dataframe thead th {\n",
              "        text-align: right;\n",
              "    }\n",
              "</style>\n",
              "<table border=\"1\" class=\"dataframe\">\n",
              "  <thead>\n",
              "    <tr style=\"text-align: right;\">\n",
              "      <th></th>\n",
              "      <th>top_claim_ids</th>\n",
              "      <th>cosine_similarity</th>\n",
              "      <th>claims</th>\n",
              "    </tr>\n",
              "  </thead>\n",
              "  <tbody>\n",
              "    <tr>\n",
              "      <th>0</th>\n",
              "      <td>10606970</td>\n",
              "      <td>0.6611</td>\n",
              "      <td>1. A computer-implemented method for statistic...</td>\n",
              "    </tr>\n",
              "    <tr>\n",
              "      <th>1</th>\n",
              "      <td>10606917</td>\n",
              "      <td>0.6583</td>\n",
              "      <td>1. An alternating least square recommendation ...</td>\n",
              "    </tr>\n",
              "    <tr>\n",
              "      <th>2</th>\n",
              "      <td>10606931</td>\n",
              "      <td>0.6470</td>\n",
              "      <td>1. A system, comprising: one or more storage d...</td>\n",
              "    </tr>\n",
              "    <tr>\n",
              "      <th>3</th>\n",
              "      <td>10606918</td>\n",
              "      <td>0.6335</td>\n",
              "      <td>1. A convolution engine, comprising: an input ...</td>\n",
              "    </tr>\n",
              "    <tr>\n",
              "      <th>4</th>\n",
              "      <td>10606749</td>\n",
              "      <td>0.6294</td>\n",
              "      <td>1. A non-transitory computer-readable storage ...</td>\n",
              "    </tr>\n",
              "  </tbody>\n",
              "</table>\n",
              "</div>"
            ],
            "text/plain": [
              "   top_claim_ids  ...                                             claims\n",
              "0       10606970  ...  1. A computer-implemented method for statistic...\n",
              "1       10606917  ...  1. An alternating least square recommendation ...\n",
              "2       10606931  ...  1. A system, comprising: one or more storage d...\n",
              "3       10606918  ...  1. A convolution engine, comprising: an input ...\n",
              "4       10606749  ...  1. A non-transitory computer-readable storage ...\n",
              "\n",
              "[5 rows x 3 columns]"
            ]
          },
          "metadata": {},
          "execution_count": 25
        }
      ]
    },
    {
      "cell_type": "code",
      "metadata": {
        "id": "80AZOv0ae-1E"
      },
      "source": [
        "result = pd.concat([get_top_n_similar_patents_df, df], axis=1, join='inner')"
      ],
      "execution_count": null,
      "outputs": []
    },
    {
      "cell_type": "code",
      "metadata": {
        "id": "f4Ob0j_Xh3hG",
        "colab": {
          "base_uri": "https://localhost:8080/",
          "height": 536
        },
        "outputId": "ea0a1555-251e-4ed3-9612-c56ba7425079"
      },
      "source": [
        "result.head()"
      ],
      "execution_count": null,
      "outputs": [
        {
          "output_type": "execute_result",
          "data": {
            "text/html": [
              "<div>\n",
              "<style scoped>\n",
              "    .dataframe tbody tr th:only-of-type {\n",
              "        vertical-align: middle;\n",
              "    }\n",
              "\n",
              "    .dataframe tbody tr th {\n",
              "        vertical-align: top;\n",
              "    }\n",
              "\n",
              "    .dataframe thead th {\n",
              "        text-align: right;\n",
              "    }\n",
              "</style>\n",
              "<table border=\"1\" class=\"dataframe\">\n",
              "  <thead>\n",
              "    <tr style=\"text-align: right;\">\n",
              "      <th></th>\n",
              "      <th>top_claim_ids</th>\n",
              "      <th>cosine_similarity</th>\n",
              "      <th>claims</th>\n",
              "      <th>patent_id</th>\n",
              "      <th>claim_number</th>\n",
              "      <th>sequence</th>\n",
              "      <th>dependent</th>\n",
              "      <th>exemplary</th>\n",
              "      <th>subclass</th>\n",
              "      <th>text</th>\n",
              "    </tr>\n",
              "  </thead>\n",
              "  <tbody>\n",
              "    <tr>\n",
              "      <th>0</th>\n",
              "      <td>10606970</td>\n",
              "      <td>0.6611</td>\n",
              "      <td>1. A computer-implemented method for statistic...</td>\n",
              "      <td>10606734</td>\n",
              "      <td>6</td>\n",
              "      <td>5</td>\n",
              "      <td>NaN</td>\n",
              "      <td>0</td>\n",
              "      <td>A</td>\n",
              "      <td>6. A computer-program product for intelligent ...</td>\n",
              "    </tr>\n",
              "    <tr>\n",
              "      <th>1</th>\n",
              "      <td>10606917</td>\n",
              "      <td>0.6583</td>\n",
              "      <td>1. An alternating least square recommendation ...</td>\n",
              "      <td>10606736</td>\n",
              "      <td>1</td>\n",
              "      <td>0</td>\n",
              "      <td>NaN</td>\n",
              "      <td>1</td>\n",
              "      <td>A</td>\n",
              "      <td>1. A computer-implemented method for creation ...</td>\n",
              "    </tr>\n",
              "    <tr>\n",
              "      <th>2</th>\n",
              "      <td>10606931</td>\n",
              "      <td>0.6470</td>\n",
              "      <td>1. A system, comprising: one or more storage d...</td>\n",
              "      <td>10606737</td>\n",
              "      <td>1</td>\n",
              "      <td>0</td>\n",
              "      <td>NaN</td>\n",
              "      <td>1</td>\n",
              "      <td>A</td>\n",
              "      <td>1. A method for testing a resource constrained...</td>\n",
              "    </tr>\n",
              "    <tr>\n",
              "      <th>3</th>\n",
              "      <td>10606918</td>\n",
              "      <td>0.6335</td>\n",
              "      <td>1. A convolution engine, comprising: an input ...</td>\n",
              "      <td>10606738</td>\n",
              "      <td>1</td>\n",
              "      <td>0</td>\n",
              "      <td>NaN</td>\n",
              "      <td>1</td>\n",
              "      <td>A</td>\n",
              "      <td>1. A method, comprising: receiving results fro...</td>\n",
              "    </tr>\n",
              "    <tr>\n",
              "      <th>4</th>\n",
              "      <td>10606749</td>\n",
              "      <td>0.6294</td>\n",
              "      <td>1. A non-transitory computer-readable storage ...</td>\n",
              "      <td>10606739</td>\n",
              "      <td>1</td>\n",
              "      <td>0</td>\n",
              "      <td>NaN</td>\n",
              "      <td>1</td>\n",
              "      <td>A</td>\n",
              "      <td>1. A device, comprising: a memory; and one or ...</td>\n",
              "    </tr>\n",
              "  </tbody>\n",
              "</table>\n",
              "</div>"
            ],
            "text/plain": [
              "   top_claim_ids  ...                                               text\n",
              "0       10606970  ...  6. A computer-program product for intelligent ...\n",
              "1       10606917  ...  1. A computer-implemented method for creation ...\n",
              "2       10606931  ...  1. A method for testing a resource constrained...\n",
              "3       10606918  ...  1. A method, comprising: receiving results fro...\n",
              "4       10606749  ...  1. A device, comprising: a memory; and one or ...\n",
              "\n",
              "[5 rows x 10 columns]"
            ]
          },
          "metadata": {},
          "execution_count": 25
        }
      ]
    },
    {
      "cell_type": "code",
      "metadata": {
        "id": "flCL_SC1vavw",
        "colab": {
          "base_uri": "https://localhost:8080/"
        },
        "outputId": "141a9d4f-3b13-47fc-d4f7-cc84f5f7914b"
      },
      "source": [
        "print(result.count())"
      ],
      "execution_count": null,
      "outputs": [
        {
          "output_type": "stream",
          "name": "stdout",
          "text": [
            "top_claim_ids        100\n",
            "cosine_similarity    100\n",
            "claims               100\n",
            "patent_id            100\n",
            "claim_number         100\n",
            "sequence             100\n",
            "dependent              0\n",
            "exemplary            100\n",
            "subclass             100\n",
            "text                 100\n",
            "dtype: int64\n"
          ]
        }
      ]
    },
    {
      "cell_type": "code",
      "metadata": {
        "id": "IjZl_jNvh8Kz"
      },
      "source": [
        "# import pandas as pd\n",
        "# import torch\n",
        "\n",
        "# # determine the supported device\n",
        "# def get_device():\n",
        "#     if torch.cuda.is_available():\n",
        "#         device = torch.device('cuda:0')\n",
        "#     else:\n",
        "#         device = torch.device('cpu') # don't have GPU \n",
        "#     return device\n",
        "\n",
        "# # convert a df to tensor to be used in pytorch\n",
        "# def df_to_tensor(df):\n",
        "#     device = get_device()\n",
        "#     return torch.from_numpy(df.values).float().to(device)\n",
        "\n",
        "# df_tensor = df_to_tensor(result[['cosine_similarity','claim_number','patent_id']])\n",
        "# # series_tensor = df_to_tensor(series)"
      ],
      "execution_count": null,
      "outputs": []
    },
    {
      "cell_type": "code",
      "metadata": {
        "id": "B6J_-r5oiQ3E"
      },
      "source": [
        "# df_tensor\n",
        "# sorted, indices = torch.sort(df_tensor, 0)\n",
        "# a = torch.topk(df_tensor, 2, dim = 0)\n",
        "# a"
      ],
      "execution_count": null,
      "outputs": []
    },
    {
      "cell_type": "code",
      "metadata": {
        "id": "i3lAp65HkU9s"
      },
      "source": [
        "k_similar_patents = result.nlargest(10, ['cosine_similarity'])"
      ],
      "execution_count": null,
      "outputs": []
    },
    {
      "cell_type": "code",
      "metadata": {
        "id": "AHnUv1IIqlN-",
        "colab": {
          "base_uri": "https://localhost:8080/",
          "height": 1000
        },
        "outputId": "fc5f3e19-5efa-479b-a33d-e2b83227d7fc"
      },
      "source": [
        "k_similar_patents"
      ],
      "execution_count": null,
      "outputs": [
        {
          "output_type": "execute_result",
          "data": {
            "text/html": [
              "<div>\n",
              "<style scoped>\n",
              "    .dataframe tbody tr th:only-of-type {\n",
              "        vertical-align: middle;\n",
              "    }\n",
              "\n",
              "    .dataframe tbody tr th {\n",
              "        vertical-align: top;\n",
              "    }\n",
              "\n",
              "    .dataframe thead th {\n",
              "        text-align: right;\n",
              "    }\n",
              "</style>\n",
              "<table border=\"1\" class=\"dataframe\">\n",
              "  <thead>\n",
              "    <tr style=\"text-align: right;\">\n",
              "      <th></th>\n",
              "      <th>top_claim_ids</th>\n",
              "      <th>cosine_similarity</th>\n",
              "      <th>claims</th>\n",
              "      <th>patent_id</th>\n",
              "      <th>claim_number</th>\n",
              "      <th>sequence</th>\n",
              "      <th>dependent</th>\n",
              "      <th>exemplary</th>\n",
              "      <th>subclass</th>\n",
              "      <th>text</th>\n",
              "    </tr>\n",
              "  </thead>\n",
              "  <tbody>\n",
              "    <tr>\n",
              "      <th>0</th>\n",
              "      <td>10606970</td>\n",
              "      <td>0.6611</td>\n",
              "      <td>1. A computer-implemented method for statistic...</td>\n",
              "      <td>10606734</td>\n",
              "      <td>6</td>\n",
              "      <td>5</td>\n",
              "      <td>NaN</td>\n",
              "      <td>0</td>\n",
              "      <td>A</td>\n",
              "      <td>6. A computer-program product for intelligent ...</td>\n",
              "    </tr>\n",
              "    <tr>\n",
              "      <th>1</th>\n",
              "      <td>10606917</td>\n",
              "      <td>0.6583</td>\n",
              "      <td>1. An alternating least square recommendation ...</td>\n",
              "      <td>10606736</td>\n",
              "      <td>1</td>\n",
              "      <td>0</td>\n",
              "      <td>NaN</td>\n",
              "      <td>1</td>\n",
              "      <td>A</td>\n",
              "      <td>1. A computer-implemented method for creation ...</td>\n",
              "    </tr>\n",
              "    <tr>\n",
              "      <th>2</th>\n",
              "      <td>10606931</td>\n",
              "      <td>0.6470</td>\n",
              "      <td>1. A system, comprising: one or more storage d...</td>\n",
              "      <td>10606737</td>\n",
              "      <td>1</td>\n",
              "      <td>0</td>\n",
              "      <td>NaN</td>\n",
              "      <td>1</td>\n",
              "      <td>A</td>\n",
              "      <td>1. A method for testing a resource constrained...</td>\n",
              "    </tr>\n",
              "    <tr>\n",
              "      <th>3</th>\n",
              "      <td>10606918</td>\n",
              "      <td>0.6335</td>\n",
              "      <td>1. A convolution engine, comprising: an input ...</td>\n",
              "      <td>10606738</td>\n",
              "      <td>1</td>\n",
              "      <td>0</td>\n",
              "      <td>NaN</td>\n",
              "      <td>1</td>\n",
              "      <td>A</td>\n",
              "      <td>1. A method, comprising: receiving results fro...</td>\n",
              "    </tr>\n",
              "    <tr>\n",
              "      <th>4</th>\n",
              "      <td>10606749</td>\n",
              "      <td>0.6294</td>\n",
              "      <td>1. A non-transitory computer-readable storage ...</td>\n",
              "      <td>10606739</td>\n",
              "      <td>1</td>\n",
              "      <td>0</td>\n",
              "      <td>NaN</td>\n",
              "      <td>1</td>\n",
              "      <td>A</td>\n",
              "      <td>1. A device, comprising: a memory; and one or ...</td>\n",
              "    </tr>\n",
              "    <tr>\n",
              "      <th>5</th>\n",
              "      <td>10606819</td>\n",
              "      <td>0.6266</td>\n",
              "      <td>1. A method of reducing a number of event reco...</td>\n",
              "      <td>10606740</td>\n",
              "      <td>1</td>\n",
              "      <td>0</td>\n",
              "      <td>NaN</td>\n",
              "      <td>1</td>\n",
              "      <td>A</td>\n",
              "      <td>1. A system comprising: a processor comprising...</td>\n",
              "    </tr>\n",
              "    <tr>\n",
              "      <th>6</th>\n",
              "      <td>10606981</td>\n",
              "      <td>0.6266</td>\n",
              "      <td>1. A computer-implemented method for space fra...</td>\n",
              "      <td>10606741</td>\n",
              "      <td>1</td>\n",
              "      <td>0</td>\n",
              "      <td>NaN</td>\n",
              "      <td>1</td>\n",
              "      <td>A</td>\n",
              "      <td>1. A process performed by a computing device f...</td>\n",
              "    </tr>\n",
              "    <tr>\n",
              "      <th>7</th>\n",
              "      <td>10606971</td>\n",
              "      <td>0.6229</td>\n",
              "      <td>1. A system, comprising a processor to: receiv...</td>\n",
              "      <td>10606742</td>\n",
              "      <td>1</td>\n",
              "      <td>0</td>\n",
              "      <td>NaN</td>\n",
              "      <td>1</td>\n",
              "      <td>A</td>\n",
              "      <td>1. A method for programming a motor drive havi...</td>\n",
              "    </tr>\n",
              "    <tr>\n",
              "      <th>8</th>\n",
              "      <td>10606836</td>\n",
              "      <td>0.6196</td>\n",
              "      <td>1. A system comprising: a local monitoring dat...</td>\n",
              "      <td>10606743</td>\n",
              "      <td>1</td>\n",
              "      <td>0</td>\n",
              "      <td>NaN</td>\n",
              "      <td>1</td>\n",
              "      <td>A</td>\n",
              "      <td>1. An apparatus, comprising: an array of non-v...</td>\n",
              "    </tr>\n",
              "    <tr>\n",
              "      <th>9</th>\n",
              "      <td>10606856</td>\n",
              "      <td>0.6190</td>\n",
              "      <td>1. A method, comprising: ingesting, by a data ...</td>\n",
              "      <td>10606744</td>\n",
              "      <td>1</td>\n",
              "      <td>0</td>\n",
              "      <td>NaN</td>\n",
              "      <td>1</td>\n",
              "      <td>A</td>\n",
              "      <td>1. A method for accessing a flash memory modul...</td>\n",
              "    </tr>\n",
              "  </tbody>\n",
              "</table>\n",
              "</div>"
            ],
            "text/plain": [
              "   top_claim_ids  ...                                               text\n",
              "0       10606970  ...  6. A computer-program product for intelligent ...\n",
              "1       10606917  ...  1. A computer-implemented method for creation ...\n",
              "2       10606931  ...  1. A method for testing a resource constrained...\n",
              "3       10606918  ...  1. A method, comprising: receiving results fro...\n",
              "4       10606749  ...  1. A device, comprising: a memory; and one or ...\n",
              "5       10606819  ...  1. A system comprising: a processor comprising...\n",
              "6       10606981  ...  1. A process performed by a computing device f...\n",
              "7       10606971  ...  1. A method for programming a motor drive havi...\n",
              "8       10606836  ...  1. An apparatus, comprising: an array of non-v...\n",
              "9       10606856  ...  1. A method for accessing a flash memory modul...\n",
              "\n",
              "[10 rows x 10 columns]"
            ]
          },
          "metadata": {},
          "execution_count": 28
        }
      ]
    },
    {
      "cell_type": "code",
      "metadata": {
        "id": "946WXJehrBwv",
        "colab": {
          "base_uri": "https://localhost:8080/"
        },
        "outputId": "e6791704-cc88-4741-810e-d122b6d968b5"
      },
      "source": [
        "final_result = k_similar_patents.mode()\n",
        "print('Prediction for Subclass of New Patent is: ', final_result.iloc[0]['subclass'])"
      ],
      "execution_count": null,
      "outputs": [
        {
          "output_type": "stream",
          "name": "stdout",
          "text": [
            "Prediction for Subclass of New Patent is:  A\n"
          ]
        }
      ]
    },
    {
      "cell_type": "code",
      "metadata": {
        "id": "P5NbR_4jTsV5"
      },
      "source": [
        ""
      ],
      "execution_count": null,
      "outputs": []
    }
  ]
}