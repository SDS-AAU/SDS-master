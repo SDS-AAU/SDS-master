{
  "nbformat": 4,
  "nbformat_minor": 0,
  "metadata": {
    "colab": {
      "name": "Simple LSTM stock prediction.ipynb",
      "provenance": [],
      "authorship_tag": "ABX9TyOcBMOo9WweIJMGPSEQtvgI",
      "include_colab_link": true
    },
    "kernelspec": {
      "name": "python3",
      "display_name": "Python 3"
    },
    "language_info": {
      "name": "python"
    },
    "accelerator": "GPU"
  },
  "cells": [
    {
      "cell_type": "markdown",
      "metadata": {
        "id": "view-in-github",
        "colab_type": "text"
      },
      "source": [
        "<a href=\"https://colab.research.google.com/github/SDS-AAU/SDS-master/blob/master/M3/notebooks/Simple_LSTM_stock_prediction.ipynb\" target=\"_parent\"><img src=\"https://colab.research.google.com/assets/colab-badge.svg\" alt=\"Open In Colab\"/></a>"
      ]
    },
    {
      "cell_type": "code",
      "metadata": {
        "id": "2tB2kQhsLEeB"
      },
      "source": [
        "!pip install --upgrade pandas-datareader"
      ],
      "execution_count": null,
      "outputs": []
    },
    {
      "cell_type": "code",
      "metadata": {
        "id": "QA5uiCmHLYdU"
      },
      "source": [
        "import pandas as pd\n",
        "import matplotlib.pyplot as plt\n",
        "import numpy as np\n",
        "\n",
        "from pandas_datareader import data as pdr\n",
        "import datetime as dt\n",
        "\n",
        "import seaborn as sns\n",
        "sns.set()"
      ],
      "execution_count": null,
      "outputs": []
    },
    {
      "cell_type": "code",
      "metadata": {
        "id": "OR9hJ3HpLydb"
      },
      "source": [
        "start = dt.datetime(2020,1,1)\n",
        "end = dt.datetime.now()"
      ],
      "execution_count": null,
      "outputs": []
    },
    {
      "cell_type": "code",
      "metadata": {
        "id": "7adBExy_MHSi"
      },
      "source": [
        "data =  pdr.DataReader(\"^OMXC25\",'yahoo', start=start, end=end)"
      ],
      "execution_count": null,
      "outputs": []
    },
    {
      "cell_type": "code",
      "metadata": {
        "colab": {
          "base_uri": "https://localhost:8080/"
        },
        "id": "_u89CWh1MU4Q",
        "outputId": "c1a053be-fb20-4ccd-fd5a-50ff56671bd8"
      },
      "source": [
        "data.info()"
      ],
      "execution_count": null,
      "outputs": [
        {
          "output_type": "stream",
          "name": "stdout",
          "text": [
            "<class 'pandas.core.frame.DataFrame'>\n",
            "DatetimeIndex: 454 entries, 2020-01-02 to 2021-11-16\n",
            "Data columns (total 6 columns):\n",
            " #   Column     Non-Null Count  Dtype  \n",
            "---  ------     --------------  -----  \n",
            " 0   High       454 non-null    float64\n",
            " 1   Low        454 non-null    float64\n",
            " 2   Open       454 non-null    float64\n",
            " 3   Close      454 non-null    float64\n",
            " 4   Volume     454 non-null    float64\n",
            " 5   Adj Close  454 non-null    float64\n",
            "dtypes: float64(6)\n",
            "memory usage: 24.8 KB\n"
          ]
        }
      ]
    },
    {
      "cell_type": "code",
      "metadata": {
        "id": "_avSkRTjMu-S"
      },
      "source": [
        "data_diff = data.diff()"
      ],
      "execution_count": null,
      "outputs": []
    },
    {
      "cell_type": "code",
      "metadata": {
        "colab": {
          "base_uri": "https://localhost:8080/",
          "height": 450
        },
        "id": "udHpeZFVM_3O",
        "outputId": "75c2a6e5-c018-46bd-e7e5-445011a3aaf0"
      },
      "source": [
        "data_diff"
      ],
      "execution_count": null,
      "outputs": [
        {
          "output_type": "execute_result",
          "data": {
            "text/html": [
              "<div>\n",
              "<style scoped>\n",
              "    .dataframe tbody tr th:only-of-type {\n",
              "        vertical-align: middle;\n",
              "    }\n",
              "\n",
              "    .dataframe tbody tr th {\n",
              "        vertical-align: top;\n",
              "    }\n",
              "\n",
              "    .dataframe thead th {\n",
              "        text-align: right;\n",
              "    }\n",
              "</style>\n",
              "<table border=\"1\" class=\"dataframe\">\n",
              "  <thead>\n",
              "    <tr style=\"text-align: right;\">\n",
              "      <th></th>\n",
              "      <th>High</th>\n",
              "      <th>Low</th>\n",
              "      <th>Open</th>\n",
              "      <th>Close</th>\n",
              "      <th>Volume</th>\n",
              "      <th>Adj Close</th>\n",
              "    </tr>\n",
              "    <tr>\n",
              "      <th>Date</th>\n",
              "      <th></th>\n",
              "      <th></th>\n",
              "      <th></th>\n",
              "      <th></th>\n",
              "      <th></th>\n",
              "      <th></th>\n",
              "    </tr>\n",
              "  </thead>\n",
              "  <tbody>\n",
              "    <tr>\n",
              "      <th>2020-01-02</th>\n",
              "      <td>NaN</td>\n",
              "      <td>NaN</td>\n",
              "      <td>NaN</td>\n",
              "      <td>NaN</td>\n",
              "      <td>NaN</td>\n",
              "      <td>NaN</td>\n",
              "    </tr>\n",
              "    <tr>\n",
              "      <th>2020-01-03</th>\n",
              "      <td>-7.609985</td>\n",
              "      <td>-14.589966</td>\n",
              "      <td>-2.229980</td>\n",
              "      <td>-15.699951</td>\n",
              "      <td>3900.0</td>\n",
              "      <td>-15.699951</td>\n",
              "    </tr>\n",
              "    <tr>\n",
              "      <th>2020-01-06</th>\n",
              "      <td>-14.929932</td>\n",
              "      <td>-17.719971</td>\n",
              "      <td>-14.929932</td>\n",
              "      <td>-2.390015</td>\n",
              "      <td>386800.0</td>\n",
              "      <td>-2.390015</td>\n",
              "    </tr>\n",
              "    <tr>\n",
              "      <th>2020-01-07</th>\n",
              "      <td>16.679932</td>\n",
              "      <td>17.510010</td>\n",
              "      <td>3.049927</td>\n",
              "      <td>5.809937</td>\n",
              "      <td>977500.0</td>\n",
              "      <td>5.809937</td>\n",
              "    </tr>\n",
              "    <tr>\n",
              "      <th>2020-01-08</th>\n",
              "      <td>-12.089966</td>\n",
              "      <td>-5.229980</td>\n",
              "      <td>-0.229980</td>\n",
              "      <td>-1.939941</td>\n",
              "      <td>9220800.0</td>\n",
              "      <td>-1.939941</td>\n",
              "    </tr>\n",
              "    <tr>\n",
              "      <th>...</th>\n",
              "      <td>...</td>\n",
              "      <td>...</td>\n",
              "      <td>...</td>\n",
              "      <td>...</td>\n",
              "      <td>...</td>\n",
              "      <td>...</td>\n",
              "    </tr>\n",
              "    <tr>\n",
              "      <th>2021-11-10</th>\n",
              "      <td>-12.679932</td>\n",
              "      <td>-17.540039</td>\n",
              "      <td>8.780029</td>\n",
              "      <td>-17.109985</td>\n",
              "      <td>-830600.0</td>\n",
              "      <td>-17.109985</td>\n",
              "    </tr>\n",
              "    <tr>\n",
              "      <th>2021-11-11</th>\n",
              "      <td>13.359985</td>\n",
              "      <td>12.810059</td>\n",
              "      <td>-9.010010</td>\n",
              "      <td>27.699951</td>\n",
              "      <td>228800.0</td>\n",
              "      <td>27.699951</td>\n",
              "    </tr>\n",
              "    <tr>\n",
              "      <th>2021-11-12</th>\n",
              "      <td>17.029907</td>\n",
              "      <td>31.380005</td>\n",
              "      <td>22.500000</td>\n",
              "      <td>17.459961</td>\n",
              "      <td>683700.0</td>\n",
              "      <td>17.459961</td>\n",
              "    </tr>\n",
              "    <tr>\n",
              "      <th>2021-11-15</th>\n",
              "      <td>-3.219971</td>\n",
              "      <td>5.019897</td>\n",
              "      <td>13.020020</td>\n",
              "      <td>-10.829956</td>\n",
              "      <td>-2295300.0</td>\n",
              "      <td>-10.829956</td>\n",
              "    </tr>\n",
              "    <tr>\n",
              "      <th>2021-11-16</th>\n",
              "      <td>-3.469971</td>\n",
              "      <td>-5.309937</td>\n",
              "      <td>-2.569946</td>\n",
              "      <td>-7.479980</td>\n",
              "      <td>-594000.0</td>\n",
              "      <td>-7.479980</td>\n",
              "    </tr>\n",
              "  </tbody>\n",
              "</table>\n",
              "<p>454 rows × 6 columns</p>\n",
              "</div>"
            ],
            "text/plain": [
              "                 High        Low       Open      Close     Volume  Adj Close\n",
              "Date                                                                        \n",
              "2020-01-02        NaN        NaN        NaN        NaN        NaN        NaN\n",
              "2020-01-03  -7.609985 -14.589966  -2.229980 -15.699951     3900.0 -15.699951\n",
              "2020-01-06 -14.929932 -17.719971 -14.929932  -2.390015   386800.0  -2.390015\n",
              "2020-01-07  16.679932  17.510010   3.049927   5.809937   977500.0   5.809937\n",
              "2020-01-08 -12.089966  -5.229980  -0.229980  -1.939941  9220800.0  -1.939941\n",
              "...               ...        ...        ...        ...        ...        ...\n",
              "2021-11-10 -12.679932 -17.540039   8.780029 -17.109985  -830600.0 -17.109985\n",
              "2021-11-11  13.359985  12.810059  -9.010010  27.699951   228800.0  27.699951\n",
              "2021-11-12  17.029907  31.380005  22.500000  17.459961   683700.0  17.459961\n",
              "2021-11-15  -3.219971   5.019897  13.020020 -10.829956 -2295300.0 -10.829956\n",
              "2021-11-16  -3.469971  -5.309937  -2.569946  -7.479980  -594000.0  -7.479980\n",
              "\n",
              "[454 rows x 6 columns]"
            ]
          },
          "metadata": {},
          "execution_count": 10
        }
      ]
    },
    {
      "cell_type": "code",
      "metadata": {
        "id": "d2C-YyoUNJD7"
      },
      "source": [
        "import math\n",
        "\n",
        "from keras.models import Sequential\n",
        "from keras.layers import Dense\n",
        "from keras.layers import LSTM\n",
        "\n",
        "from sklearn.preprocessing import MinMaxScaler\n",
        "from sklearn.metrics import mean_squared_error"
      ],
      "execution_count": null,
      "outputs": []
    },
    {
      "cell_type": "code",
      "metadata": {
        "id": "PmnsUdhWOKkU"
      },
      "source": [
        "# normalizing\n",
        "scaler = MinMaxScaler(feature_range=(-1, 1))\n",
        "data_diff['Adj_Close_scaled'] = scaler.fit_transform(data_diff['Adj Close'].values.reshape(-1, 1))"
      ],
      "execution_count": null,
      "outputs": []
    },
    {
      "cell_type": "code",
      "metadata": {
        "id": "huw77V99O05O"
      },
      "source": [
        "# create targets by shifting\n",
        "data_diff['Adj_Close_scaled+1'] = data_diff.Adj_Close_scaled.shift(-1, fill_value=data_diff.Adj_Close_scaled.iloc[-1])"
      ],
      "execution_count": null,
      "outputs": []
    },
    {
      "cell_type": "code",
      "metadata": {
        "id": "hpRHGChKPZ8P"
      },
      "source": [
        "# get the data as matrix\n",
        "data_p = data_diff.iloc[1:,6:].values.astype('float32')"
      ],
      "execution_count": null,
      "outputs": []
    },
    {
      "cell_type": "code",
      "metadata": {
        "id": "-4sfgJ-FPcBD"
      },
      "source": [
        "data_p"
      ],
      "execution_count": null,
      "outputs": []
    },
    {
      "cell_type": "code",
      "metadata": {
        "colab": {
          "base_uri": "https://localhost:8080/"
        },
        "id": "9qI3gImKP55k",
        "outputId": "3d4e2b6e-5925-41cd-9f99-ad877be3b2db"
      },
      "source": [
        "# split into train and test sets\n",
        "train_size = int(len(data_p) * 0.67)\n",
        "test_size = len(data_p) - train_size\n",
        "\n",
        "train, test = data_p[0:train_size,:], data_p[train_size:len(data_p),:]\n",
        "print(len(train), len(test))"
      ],
      "execution_count": null,
      "outputs": [
        {
          "output_type": "stream",
          "name": "stdout",
          "text": [
            "303 150\n"
          ]
        }
      ]
    },
    {
      "cell_type": "code",
      "metadata": {
        "id": "KtBl-D8gQUIK"
      },
      "source": [
        "X_train = train[:,0]\n",
        "y_train = train[:,1]\n",
        "\n",
        "X_test = test[:,0]\n",
        "y_test = test[:,1]"
      ],
      "execution_count": null,
      "outputs": []
    },
    {
      "cell_type": "code",
      "metadata": {
        "id": "hB1pmH7QQhJr"
      },
      "source": [
        "# reshape input to be [samples, time steps, features]\n",
        "X_train = np.reshape(X_train, (X_train.shape[0], 1, 1))\n",
        "X_test = np.reshape(X_test, (X_test.shape[0], 1, 1))"
      ],
      "execution_count": null,
      "outputs": []
    },
    {
      "cell_type": "code",
      "metadata": {
        "colab": {
          "base_uri": "https://localhost:8080/"
        },
        "id": "2Zyb-mWZRFUi",
        "outputId": "2b6bff8f-26ff-46b4-855d-f31be2f67855"
      },
      "source": [
        "X_train.shape"
      ],
      "execution_count": null,
      "outputs": [
        {
          "output_type": "execute_result",
          "data": {
            "text/plain": [
              "(303, 1, 1)"
            ]
          },
          "metadata": {},
          "execution_count": 26
        }
      ]
    },
    {
      "cell_type": "code",
      "metadata": {
        "id": "U6-dl2R_RURk"
      },
      "source": [
        "# build the network\n",
        "\n",
        "model = Sequential()\n",
        "model.add(LSTM(4, input_shape=(1, 1)))\n",
        "model.add(Dense(1))\n",
        "model.compile(loss='mean_squared_error', optimizer='adam')"
      ],
      "execution_count": null,
      "outputs": []
    },
    {
      "cell_type": "code",
      "metadata": {
        "colab": {
          "base_uri": "https://localhost:8080/"
        },
        "id": "2EneTng5RdwJ",
        "outputId": "5522f456-5b3a-431c-fd3d-313c43b8c919"
      },
      "source": [
        "model.summary()"
      ],
      "execution_count": null,
      "outputs": [
        {
          "output_type": "stream",
          "name": "stdout",
          "text": [
            "Model: \"sequential_1\"\n",
            "_________________________________________________________________\n",
            " Layer (type)                Output Shape              Param #   \n",
            "=================================================================\n",
            " lstm_1 (LSTM)               (None, 4)                 96        \n",
            "                                                                 \n",
            " dense_1 (Dense)             (None, 1)                 5         \n",
            "                                                                 \n",
            "=================================================================\n",
            "Total params: 101\n",
            "Trainable params: 101\n",
            "Non-trainable params: 0\n",
            "_________________________________________________________________\n"
          ]
        }
      ]
    },
    {
      "cell_type": "code",
      "metadata": {
        "colab": {
          "base_uri": "https://localhost:8080/"
        },
        "id": "ORP4gUuIR2pX",
        "outputId": "601d5c31-5aa5-41a9-c459-0224ea9141fb"
      },
      "source": [
        "model.fit(X_train, y_train, epochs=50, batch_size=20, verbose=2)"
      ],
      "execution_count": null,
      "outputs": [
        {
          "output_type": "stream",
          "name": "stdout",
          "text": [
            "Epoch 1/50\n",
            "16/16 - 7s - loss: 0.1750 - 7s/epoch - 420ms/step\n",
            "Epoch 2/50\n",
            "16/16 - 0s - loss: 0.1565 - 61ms/epoch - 4ms/step\n",
            "Epoch 3/50\n",
            "16/16 - 0s - loss: 0.1410 - 64ms/epoch - 4ms/step\n",
            "Epoch 4/50\n",
            "16/16 - 0s - loss: 0.1274 - 79ms/epoch - 5ms/step\n",
            "Epoch 5/50\n",
            "16/16 - 0s - loss: 0.1163 - 78ms/epoch - 5ms/step\n",
            "Epoch 6/50\n",
            "16/16 - 0s - loss: 0.1069 - 63ms/epoch - 4ms/step\n",
            "Epoch 7/50\n",
            "16/16 - 0s - loss: 0.0990 - 63ms/epoch - 4ms/step\n",
            "Epoch 8/50\n",
            "16/16 - 0s - loss: 0.0923 - 60ms/epoch - 4ms/step\n",
            "Epoch 9/50\n",
            "16/16 - 0s - loss: 0.0867 - 65ms/epoch - 4ms/step\n",
            "Epoch 10/50\n",
            "16/16 - 0s - loss: 0.0826 - 63ms/epoch - 4ms/step\n",
            "Epoch 11/50\n",
            "16/16 - 0s - loss: 0.0790 - 64ms/epoch - 4ms/step\n",
            "Epoch 12/50\n",
            "16/16 - 0s - loss: 0.0763 - 62ms/epoch - 4ms/step\n",
            "Epoch 13/50\n",
            "16/16 - 0s - loss: 0.0743 - 59ms/epoch - 4ms/step\n",
            "Epoch 14/50\n",
            "16/16 - 0s - loss: 0.0730 - 62ms/epoch - 4ms/step\n",
            "Epoch 15/50\n",
            "16/16 - 0s - loss: 0.0721 - 62ms/epoch - 4ms/step\n",
            "Epoch 16/50\n",
            "16/16 - 0s - loss: 0.0714 - 63ms/epoch - 4ms/step\n",
            "Epoch 17/50\n",
            "16/16 - 0s - loss: 0.0710 - 66ms/epoch - 4ms/step\n",
            "Epoch 18/50\n",
            "16/16 - 0s - loss: 0.0708 - 74ms/epoch - 5ms/step\n",
            "Epoch 19/50\n",
            "16/16 - 0s - loss: 0.0707 - 61ms/epoch - 4ms/step\n",
            "Epoch 20/50\n",
            "16/16 - 0s - loss: 0.0706 - 63ms/epoch - 4ms/step\n",
            "Epoch 21/50\n",
            "16/16 - 0s - loss: 0.0705 - 63ms/epoch - 4ms/step\n",
            "Epoch 22/50\n",
            "16/16 - 0s - loss: 0.0705 - 63ms/epoch - 4ms/step\n",
            "Epoch 23/50\n",
            "16/16 - 0s - loss: 0.0705 - 65ms/epoch - 4ms/step\n",
            "Epoch 24/50\n",
            "16/16 - 0s - loss: 0.0704 - 61ms/epoch - 4ms/step\n",
            "Epoch 25/50\n",
            "16/16 - 0s - loss: 0.0704 - 64ms/epoch - 4ms/step\n",
            "Epoch 26/50\n",
            "16/16 - 0s - loss: 0.0704 - 68ms/epoch - 4ms/step\n",
            "Epoch 27/50\n",
            "16/16 - 0s - loss: 0.0704 - 66ms/epoch - 4ms/step\n",
            "Epoch 28/50\n",
            "16/16 - 0s - loss: 0.0704 - 61ms/epoch - 4ms/step\n",
            "Epoch 29/50\n",
            "16/16 - 0s - loss: 0.0703 - 60ms/epoch - 4ms/step\n",
            "Epoch 30/50\n",
            "16/16 - 0s - loss: 0.0703 - 66ms/epoch - 4ms/step\n",
            "Epoch 31/50\n",
            "16/16 - 0s - loss: 0.0703 - 64ms/epoch - 4ms/step\n",
            "Epoch 32/50\n",
            "16/16 - 0s - loss: 0.0703 - 73ms/epoch - 5ms/step\n",
            "Epoch 33/50\n",
            "16/16 - 0s - loss: 0.0702 - 72ms/epoch - 4ms/step\n",
            "Epoch 34/50\n",
            "16/16 - 0s - loss: 0.0703 - 66ms/epoch - 4ms/step\n",
            "Epoch 35/50\n",
            "16/16 - 0s - loss: 0.0703 - 62ms/epoch - 4ms/step\n",
            "Epoch 36/50\n",
            "16/16 - 0s - loss: 0.0702 - 62ms/epoch - 4ms/step\n",
            "Epoch 37/50\n",
            "16/16 - 0s - loss: 0.0702 - 59ms/epoch - 4ms/step\n",
            "Epoch 38/50\n",
            "16/16 - 0s - loss: 0.0702 - 64ms/epoch - 4ms/step\n",
            "Epoch 39/50\n",
            "16/16 - 0s - loss: 0.0702 - 62ms/epoch - 4ms/step\n",
            "Epoch 40/50\n",
            "16/16 - 0s - loss: 0.0701 - 67ms/epoch - 4ms/step\n",
            "Epoch 41/50\n",
            "16/16 - 0s - loss: 0.0702 - 65ms/epoch - 4ms/step\n",
            "Epoch 42/50\n",
            "16/16 - 0s - loss: 0.0702 - 60ms/epoch - 4ms/step\n",
            "Epoch 43/50\n",
            "16/16 - 0s - loss: 0.0702 - 62ms/epoch - 4ms/step\n",
            "Epoch 44/50\n",
            "16/16 - 0s - loss: 0.0702 - 61ms/epoch - 4ms/step\n",
            "Epoch 45/50\n",
            "16/16 - 0s - loss: 0.0701 - 61ms/epoch - 4ms/step\n",
            "Epoch 46/50\n",
            "16/16 - 0s - loss: 0.0701 - 74ms/epoch - 5ms/step\n",
            "Epoch 47/50\n",
            "16/16 - 0s - loss: 0.0702 - 63ms/epoch - 4ms/step\n",
            "Epoch 48/50\n",
            "16/16 - 0s - loss: 0.0701 - 69ms/epoch - 4ms/step\n",
            "Epoch 49/50\n",
            "16/16 - 0s - loss: 0.0701 - 73ms/epoch - 5ms/step\n",
            "Epoch 50/50\n",
            "16/16 - 0s - loss: 0.0701 - 66ms/epoch - 4ms/step\n"
          ]
        },
        {
          "output_type": "execute_result",
          "data": {
            "text/plain": [
              "<keras.callbacks.History at 0x7fdc84fba4d0>"
            ]
          },
          "metadata": {},
          "execution_count": 32
        }
      ]
    },
    {
      "cell_type": "code",
      "metadata": {
        "id": "m2a934RhR-RX"
      },
      "source": [
        "# make predictions\n",
        "trainPredict = model.predict(X_train)\n",
        "testPredict = model.predict(X_test)"
      ],
      "execution_count": null,
      "outputs": []
    },
    {
      "cell_type": "code",
      "metadata": {
        "id": "q761wpgMSOkM"
      },
      "source": [
        "# invert predictions\n",
        "trainPredict = scaler.inverse_transform(trainPredict)\n",
        "y_train = scaler.inverse_transform([y_train])\n",
        "\n",
        "testPredict = scaler.inverse_transform(testPredict)\n",
        "y_test = scaler.inverse_transform([y_test])"
      ],
      "execution_count": null,
      "outputs": []
    },
    {
      "cell_type": "code",
      "metadata": {
        "colab": {
          "base_uri": "https://localhost:8080/"
        },
        "id": "VrbaZv2NShSW",
        "outputId": "3a28be59-3605-4de0-e6c9-ea28b337d122"
      },
      "source": [
        "# calculate root mean squared error\n",
        "trainScore = math.sqrt(mean_squared_error(y_train[0], trainPredict[:,0]))\n",
        "print('Train Score: %.2f RMSE' % (trainScore))\n",
        "testScore = math.sqrt(mean_squared_error(y_test[0], testPredict[:,0]))\n",
        "print('Test Score: %.2f RMSE' % (testScore))"
      ],
      "execution_count": null,
      "outputs": [
        {
          "output_type": "stream",
          "name": "stdout",
          "text": [
            "Train Score: 18.96 RMSE\n",
            "Test Score: 18.64 RMSE\n"
          ]
        }
      ]
    },
    {
      "cell_type": "code",
      "metadata": {
        "id": "lQ3jnKy7SjDM"
      },
      "source": [
        "data_diff['Adj_close_pred'] = data_diff['Adj Close']"
      ],
      "execution_count": null,
      "outputs": []
    },
    {
      "cell_type": "code",
      "metadata": {
        "id": "n8wbgl4hS5M0"
      },
      "source": [
        "data_diff['Adj_close_pred'].iloc[-testPredict.shape[0]:] = testPredict.flatten()"
      ],
      "execution_count": null,
      "outputs": []
    },
    {
      "cell_type": "code",
      "metadata": {
        "colab": {
          "base_uri": "https://localhost:8080/",
          "height": 305
        },
        "id": "dLeu7H7rS89u",
        "outputId": "10e26db9-50b9-401a-ccce-995716c30ffc"
      },
      "source": [
        "data_diff.loc[:,['Adj_close_pred','Adj Close']].plot()"
      ],
      "execution_count": null,
      "outputs": [
        {
          "output_type": "execute_result",
          "data": {
            "text/plain": [
              "<matplotlib.axes._subplots.AxesSubplot at 0x7fdcf00cbc50>"
            ]
          },
          "metadata": {},
          "execution_count": 40
        },
        {
          "output_type": "display_data",
          "data": {
            "image/png": "[encoded data removed]",
            "text/plain": [
              "<Figure size 432x288 with 1 Axes>"
            ]
          },
          "metadata": {}
        }
      ]
    },
    {
      "cell_type": "code",
      "metadata": {
        "id": "8Ao-H0x8TLra"
      },
      "source": [
        "pred_sign = pd.DataFrame(zip(testPredict.flatten(), y_test.flatten())) > 0"
      ],
      "execution_count": null,
      "outputs": []
    },
    {
      "cell_type": "code",
      "metadata": {
        "colab": {
          "base_uri": "https://localhost:8080/",
          "height": 419
        },
        "id": "UTRiDxRjT-se",
        "outputId": "0169ac4b-3d26-490f-fe7d-ee7833da5618"
      },
      "source": [
        "pred_sign"
      ],
      "execution_count": null,
      "outputs": [
        {
          "output_type": "execute_result",
          "data": {
            "text/html": [
              "<div>\n",
              "<style scoped>\n",
              "    .dataframe tbody tr th:only-of-type {\n",
              "        vertical-align: middle;\n",
              "    }\n",
              "\n",
              "    .dataframe tbody tr th {\n",
              "        vertical-align: top;\n",
              "    }\n",
              "\n",
              "    .dataframe thead th {\n",
              "        text-align: right;\n",
              "    }\n",
              "</style>\n",
              "<table border=\"1\" class=\"dataframe\">\n",
              "  <thead>\n",
              "    <tr style=\"text-align: right;\">\n",
              "      <th></th>\n",
              "      <th>0</th>\n",
              "      <th>1</th>\n",
              "    </tr>\n",
              "  </thead>\n",
              "  <tbody>\n",
              "    <tr>\n",
              "      <th>0</th>\n",
              "      <td>True</td>\n",
              "      <td>False</td>\n",
              "    </tr>\n",
              "    <tr>\n",
              "      <th>1</th>\n",
              "      <td>True</td>\n",
              "      <td>True</td>\n",
              "    </tr>\n",
              "    <tr>\n",
              "      <th>2</th>\n",
              "      <td>True</td>\n",
              "      <td>True</td>\n",
              "    </tr>\n",
              "    <tr>\n",
              "      <th>3</th>\n",
              "      <td>True</td>\n",
              "      <td>False</td>\n",
              "    </tr>\n",
              "    <tr>\n",
              "      <th>4</th>\n",
              "      <td>True</td>\n",
              "      <td>True</td>\n",
              "    </tr>\n",
              "    <tr>\n",
              "      <th>...</th>\n",
              "      <td>...</td>\n",
              "      <td>...</td>\n",
              "    </tr>\n",
              "    <tr>\n",
              "      <th>145</th>\n",
              "      <td>True</td>\n",
              "      <td>True</td>\n",
              "    </tr>\n",
              "    <tr>\n",
              "      <th>146</th>\n",
              "      <td>True</td>\n",
              "      <td>True</td>\n",
              "    </tr>\n",
              "    <tr>\n",
              "      <th>147</th>\n",
              "      <td>True</td>\n",
              "      <td>False</td>\n",
              "    </tr>\n",
              "    <tr>\n",
              "      <th>148</th>\n",
              "      <td>True</td>\n",
              "      <td>False</td>\n",
              "    </tr>\n",
              "    <tr>\n",
              "      <th>149</th>\n",
              "      <td>True</td>\n",
              "      <td>False</td>\n",
              "    </tr>\n",
              "  </tbody>\n",
              "</table>\n",
              "<p>150 rows × 2 columns</p>\n",
              "</div>"
            ],
            "text/plain": [
              "        0      1\n",
              "0    True  False\n",
              "1    True   True\n",
              "2    True   True\n",
              "3    True  False\n",
              "4    True   True\n",
              "..    ...    ...\n",
              "145  True   True\n",
              "146  True   True\n",
              "147  True  False\n",
              "148  True  False\n",
              "149  True  False\n",
              "\n",
              "[150 rows x 2 columns]"
            ]
          },
          "metadata": {},
          "execution_count": 44
        }
      ]
    },
    {
      "cell_type": "code",
      "metadata": {
        "colab": {
          "base_uri": "https://localhost:8080/"
        },
        "id": "aUVzgABITpV0",
        "outputId": "0115e879-cf78-4fe0-e68c-5a7440580dd7"
      },
      "source": [
        "(pred_sign[0] == pred_sign[1]).sum()/len(pred_sign)"
      ],
      "execution_count": null,
      "outputs": [
        {
          "output_type": "execute_result",
          "data": {
            "text/plain": [
              "0.56"
            ]
          },
          "metadata": {},
          "execution_count": 43
        }
      ]
    },
    {
      "cell_type": "markdown",
      "metadata": {
        "id": "Nb3fxeXQUhlr"
      },
      "source": [
        "Introducing multi-step"
      ]
    },
    {
      "cell_type": "code",
      "metadata": {
        "id": "XNXa41p8UfWo"
      },
      "source": [
        "# convert an array of values into a dataset matrix\n",
        "def create_dataset(dataset, look_back=1):\n",
        "\tdataX, dataY = [], []\n",
        "\tfor i in range(len(dataset)-look_back-1):\n",
        "\t\ta = dataset[i:(i+look_back), 0]\n",
        "\t\tdataX.append(a)\n",
        "\t\tdataY.append(dataset[i + look_back, 0])\n",
        "\treturn np.array(dataX), np.array(dataY)"
      ],
      "execution_count": null,
      "outputs": []
    },
    {
      "cell_type": "code",
      "metadata": {
        "id": "LEc9xTn3VlnU"
      },
      "source": [
        "# reshape into X=t and Y=t+1\n",
        "look_back = 5\n",
        "X_train, y_train = create_dataset(train, look_back)\n",
        "X_test, y_test = create_dataset(test, look_back)"
      ],
      "execution_count": null,
      "outputs": []
    },
    {
      "cell_type": "code",
      "metadata": {
        "id": "Sg4nG0H3V0mz"
      },
      "source": [
        "# build the network\n",
        "\n",
        "model = Sequential()\n",
        "model.add(LSTM(16, input_shape=(look_back, 1), return_sequences=True))\n",
        "model.add(LSTM(4, return_sequences=False))\n",
        "model.add(Dense(1))\n",
        "model.compile(loss='mean_squared_error', optimizer='adam')"
      ],
      "execution_count": null,
      "outputs": []
    },
    {
      "cell_type": "code",
      "metadata": {
        "colab": {
          "base_uri": "https://localhost:8080/"
        },
        "id": "nm4XHnY6WsqB",
        "outputId": "bb01448e-3561-43d3-a6e0-56b30e5b8ade"
      },
      "source": [
        "model.summary()"
      ],
      "execution_count": null,
      "outputs": [
        {
          "output_type": "stream",
          "name": "stdout",
          "text": [
            "Model: \"sequential_2\"\n",
            "_________________________________________________________________\n",
            " Layer (type)                Output Shape              Param #   \n",
            "=================================================================\n",
            " lstm_2 (LSTM)               (None, 5, 16)             1152      \n",
            "                                                                 \n",
            " lstm_3 (LSTM)               (None, 4)                 336       \n",
            "                                                                 \n",
            " dense_2 (Dense)             (None, 1)                 5         \n",
            "                                                                 \n",
            "=================================================================\n",
            "Total params: 1,493\n",
            "Trainable params: 1,493\n",
            "Non-trainable params: 0\n",
            "_________________________________________________________________\n"
          ]
        }
      ]
    },
    {
      "cell_type": "code",
      "metadata": {
        "colab": {
          "base_uri": "https://localhost:8080/"
        },
        "id": "g9OUHUUdWvEP",
        "outputId": "02b94350-be41-49a0-a1e7-5192a4cca911"
      },
      "source": [
        "model.fit(X_train, y_train, epochs=10, batch_size=1, verbose=2)"
      ],
      "execution_count": null,
      "outputs": [
        {
          "output_type": "stream",
          "name": "stdout",
          "text": [
            "Epoch 1/10\n",
            "297/297 - 4s - loss: 0.0770 - 4s/epoch - 14ms/step\n",
            "Epoch 2/10\n",
            "297/297 - 1s - loss: 0.0725 - 1s/epoch - 4ms/step\n",
            "Epoch 3/10\n",
            "297/297 - 1s - loss: 0.0721 - 1s/epoch - 4ms/step\n",
            "Epoch 4/10\n",
            "297/297 - 1s - loss: 0.0721 - 1s/epoch - 4ms/step\n",
            "Epoch 5/10\n",
            "297/297 - 1s - loss: 0.0730 - 1s/epoch - 4ms/step\n",
            "Epoch 6/10\n",
            "297/297 - 1s - loss: 0.0721 - 1s/epoch - 4ms/step\n",
            "Epoch 7/10\n",
            "297/297 - 1s - loss: 0.0714 - 1s/epoch - 4ms/step\n",
            "Epoch 8/10\n",
            "297/297 - 1s - loss: 0.0718 - 1s/epoch - 4ms/step\n",
            "Epoch 9/10\n",
            "297/297 - 1s - loss: 0.0722 - 1s/epoch - 4ms/step\n",
            "Epoch 10/10\n",
            "297/297 - 1s - loss: 0.0720 - 1s/epoch - 4ms/step\n"
          ]
        },
        {
          "output_type": "execute_result",
          "data": {
            "text/plain": [
              "<keras.callbacks.History at 0x7fdc5bc63190>"
            ]
          },
          "metadata": {},
          "execution_count": 51
        }
      ]
    },
    {
      "cell_type": "code",
      "metadata": {
        "id": "zDSTPvtCWzNN"
      },
      "source": [
        "# make predictions\n",
        "trainPredict = model.predict(X_train)\n",
        "testPredict = model.predict(X_test)"
      ],
      "execution_count": null,
      "outputs": []
    },
    {
      "cell_type": "code",
      "metadata": {
        "id": "DSbHLsarW7r2"
      },
      "source": [
        "# invert predictions\n",
        "trainPredict = scaler.inverse_transform(trainPredict)\n",
        "y_train = scaler.inverse_transform([y_train])\n",
        "\n",
        "testPredict = scaler.inverse_transform(testPredict)\n",
        "y_test = scaler.inverse_transform([y_test])"
      ],
      "execution_count": null,
      "outputs": []
    },
    {
      "cell_type": "code",
      "metadata": {
        "colab": {
          "base_uri": "https://localhost:8080/"
        },
        "id": "evgsQzu7W99a",
        "outputId": "977389cd-3789-402b-f3b6-5b6a2f3ab69f"
      },
      "source": [
        "# calculate root mean squared error\n",
        "trainScore = math.sqrt(mean_squared_error(y_train[0], trainPredict[:,0]))\n",
        "print('Train Score: %.2f RMSE' % (trainScore))\n",
        "testScore = math.sqrt(mean_squared_error(y_test[0], testPredict[:,0]))\n",
        "print('Test Score: %.2f RMSE' % (testScore))"
      ],
      "execution_count": null,
      "outputs": [
        {
          "output_type": "stream",
          "name": "stdout",
          "text": [
            "Train Score: 19.07 RMSE\n",
            "Test Score: 18.74 RMSE\n"
          ]
        }
      ]
    },
    {
      "cell_type": "code",
      "metadata": {
        "id": "cnncZ6QcXAW6"
      },
      "source": [
        "data_diff['Adj_close_pred'] = data_diff['Adj Close']"
      ],
      "execution_count": null,
      "outputs": []
    },
    {
      "cell_type": "code",
      "metadata": {
        "id": "kwDqk1QdXJP6"
      },
      "source": [
        "data_diff['Adj_close_pred'].iloc[-testPredict.shape[0]:] = testPredict.flatten()"
      ],
      "execution_count": null,
      "outputs": []
    },
    {
      "cell_type": "code",
      "metadata": {
        "colab": {
          "base_uri": "https://localhost:8080/",
          "height": 573
        },
        "id": "rhVXIEJeXKtz",
        "outputId": "b21904d5-0446-4572-824a-3dbeaa02b3eb"
      },
      "source": [
        "data_diff.loc[:,['Adj_close_pred']].plot()\n",
        "data_diff.loc[:,['Adj Close']].plot()"
      ],
      "execution_count": null,
      "outputs": [
        {
          "output_type": "execute_result",
          "data": {
            "text/plain": [
              "<matplotlib.axes._subplots.AxesSubplot at 0x7fdc8208c410>"
            ]
          },
          "metadata": {},
          "execution_count": 57
        },
        {
          "output_type": "display_data",
          "data": {
            "image/png": "[encoded data removed]",
            "text/plain": [
              "<Figure size 432x288 with 1 Axes>"
            ]
          },
          "metadata": {}
        },
        {
          "output_type": "display_data",
          "data": {
            "image/png": "[encoded data removed]",
            "text/plain": [
              "<Figure size 432x288 with 1 Axes>"
            ]
          },
          "metadata": {}
        }
      ]
    },
    {
      "cell_type": "code",
      "metadata": {
        "colab": {
          "base_uri": "https://localhost:8080/"
        },
        "id": "r64XAfWnXNqc",
        "outputId": "9db4c244-708d-477b-b5e7-fdc059a90b6c"
      },
      "source": [
        "pred_sign = pd.DataFrame(zip(testPredict.flatten(), y_test.flatten())) > 0\n",
        "(pred_sign[0] == pred_sign[1]).sum()/len(pred_sign)"
      ],
      "execution_count": null,
      "outputs": [
        {
          "output_type": "execute_result",
          "data": {
            "text/plain": [
              "0.5416666666666666"
            ]
          },
          "metadata": {},
          "execution_count": 58
        }
      ]
    },
    {
      "cell_type": "code",
      "metadata": {
        "id": "qljrcnLibT16"
      },
      "source": [
        "from keras.preprocessing.sequence import TimeseriesGenerator"
      ],
      "execution_count": null,
      "outputs": []
    },
    {
      "cell_type": "code",
      "metadata": {
        "id": "9Dj9YfN3bnNx"
      },
      "source": [
        "ETH =  pdr.DataReader('ETH-USD','yahoo', start=start, end=end)\n",
        "BTC =  pdr.DataReader('BTC-USD','yahoo', start=start, end=end)\n",
        "ADA =  pdr.DataReader('ADA-USD','yahoo', start=start, end=end)\n",
        "DOGE =  pdr.DataReader('DOGE-USD','yahoo', start=start, end=end)\n",
        "BNB =  pdr.DataReader('BNB-USD','yahoo', start=start, end=end)"
      ],
      "execution_count": null,
      "outputs": []
    },
    {
      "cell_type": "code",
      "metadata": {
        "id": "h2RMhcN6b1tK"
      },
      "source": [
        "data = pd.DataFrame({'ETH':ETH['Adj Close'], \n",
        "                     'BTC':BTC['Adj Close'], \n",
        "                     'ADA':ADA['Adj Close'], \n",
        "                     'DOGE': DOGE['Adj Close'], \n",
        "                     'BNB':BNB['Adj Close']})"
      ],
      "execution_count": null,
      "outputs": []
    },
    {
      "cell_type": "code",
      "metadata": {
        "colab": {
          "base_uri": "https://localhost:8080/",
          "height": 450
        },
        "id": "Tvz5Y7dGcNaI",
        "outputId": "0fe631f1-42a1-4d22-c828-e5e3c40e10c8"
      },
      "source": [
        "data"
      ],
      "execution_count": null,
      "outputs": [
        {
          "output_type": "execute_result",
          "data": {
            "text/html": [
              "<div>\n",
              "<style scoped>\n",
              "    .dataframe tbody tr th:only-of-type {\n",
              "        vertical-align: middle;\n",
              "    }\n",
              "\n",
              "    .dataframe tbody tr th {\n",
              "        vertical-align: top;\n",
              "    }\n",
              "\n",
              "    .dataframe thead th {\n",
              "        text-align: right;\n",
              "    }\n",
              "</style>\n",
              "<table border=\"1\" class=\"dataframe\">\n",
              "  <thead>\n",
              "    <tr style=\"text-align: right;\">\n",
              "      <th></th>\n",
              "      <th>ETH</th>\n",
              "      <th>BTC</th>\n",
              "      <th>ADA</th>\n",
              "      <th>DOGE</th>\n",
              "      <th>BNB</th>\n",
              "    </tr>\n",
              "    <tr>\n",
              "      <th>Date</th>\n",
              "      <th></th>\n",
              "      <th></th>\n",
              "      <th></th>\n",
              "      <th></th>\n",
              "      <th></th>\n",
              "    </tr>\n",
              "  </thead>\n",
              "  <tbody>\n",
              "    <tr>\n",
              "      <th>2020-01-01</th>\n",
              "      <td>130.802002</td>\n",
              "      <td>7200.174316</td>\n",
              "      <td>0.033458</td>\n",
              "      <td>0.002033</td>\n",
              "      <td>13.689083</td>\n",
              "    </tr>\n",
              "    <tr>\n",
              "      <th>2020-01-02</th>\n",
              "      <td>127.410179</td>\n",
              "      <td>6985.470215</td>\n",
              "      <td>0.032751</td>\n",
              "      <td>0.002009</td>\n",
              "      <td>13.027011</td>\n",
              "    </tr>\n",
              "    <tr>\n",
              "      <th>2020-01-03</th>\n",
              "      <td>134.171707</td>\n",
              "      <td>7344.884277</td>\n",
              "      <td>0.034180</td>\n",
              "      <td>0.002145</td>\n",
              "      <td>13.660452</td>\n",
              "    </tr>\n",
              "    <tr>\n",
              "      <th>2020-01-04</th>\n",
              "      <td>135.069366</td>\n",
              "      <td>7410.656738</td>\n",
              "      <td>0.034595</td>\n",
              "      <td>0.002241</td>\n",
              "      <td>13.891512</td>\n",
              "    </tr>\n",
              "    <tr>\n",
              "      <th>2020-01-05</th>\n",
              "      <td>136.276779</td>\n",
              "      <td>7411.317383</td>\n",
              "      <td>0.034721</td>\n",
              "      <td>0.002419</td>\n",
              "      <td>14.111019</td>\n",
              "    </tr>\n",
              "    <tr>\n",
              "      <th>...</th>\n",
              "      <td>...</td>\n",
              "      <td>...</td>\n",
              "      <td>...</td>\n",
              "      <td>...</td>\n",
              "      <td>...</td>\n",
              "    </tr>\n",
              "    <tr>\n",
              "      <th>2021-11-13</th>\n",
              "      <td>4651.460449</td>\n",
              "      <td>64469.527344</td>\n",
              "      <td>2.053104</td>\n",
              "      <td>0.261706</td>\n",
              "      <td>650.104126</td>\n",
              "    </tr>\n",
              "    <tr>\n",
              "      <th>2021-11-14</th>\n",
              "      <td>4626.358887</td>\n",
              "      <td>65466.839844</td>\n",
              "      <td>2.040853</td>\n",
              "      <td>0.262912</td>\n",
              "      <td>650.918091</td>\n",
              "    </tr>\n",
              "    <tr>\n",
              "      <th>2021-11-15</th>\n",
              "      <td>4557.503906</td>\n",
              "      <td>63557.871094</td>\n",
              "      <td>2.015587</td>\n",
              "      <td>0.256529</td>\n",
              "      <td>633.048645</td>\n",
              "    </tr>\n",
              "    <tr>\n",
              "      <th>2021-11-16</th>\n",
              "      <td>4216.365234</td>\n",
              "      <td>60161.246094</td>\n",
              "      <td>1.877235</td>\n",
              "      <td>0.237249</td>\n",
              "      <td>589.822876</td>\n",
              "    </tr>\n",
              "    <tr>\n",
              "      <th>2021-11-17</th>\n",
              "      <td>4153.534668</td>\n",
              "      <td>59202.847656</td>\n",
              "      <td>1.826789</td>\n",
              "      <td>0.235623</td>\n",
              "      <td>561.267517</td>\n",
              "    </tr>\n",
              "  </tbody>\n",
              "</table>\n",
              "<p>683 rows × 5 columns</p>\n",
              "</div>"
            ],
            "text/plain": [
              "                    ETH           BTC       ADA      DOGE         BNB\n",
              "Date                                                                 \n",
              "2020-01-01   130.802002   7200.174316  0.033458  0.002033   13.689083\n",
              "2020-01-02   127.410179   6985.470215  0.032751  0.002009   13.027011\n",
              "2020-01-03   134.171707   7344.884277  0.034180  0.002145   13.660452\n",
              "2020-01-04   135.069366   7410.656738  0.034595  0.002241   13.891512\n",
              "2020-01-05   136.276779   7411.317383  0.034721  0.002419   14.111019\n",
              "...                 ...           ...       ...       ...         ...\n",
              "2021-11-13  4651.460449  64469.527344  2.053104  0.261706  650.104126\n",
              "2021-11-14  4626.358887  65466.839844  2.040853  0.262912  650.918091\n",
              "2021-11-15  4557.503906  63557.871094  2.015587  0.256529  633.048645\n",
              "2021-11-16  4216.365234  60161.246094  1.877235  0.237249  589.822876\n",
              "2021-11-17  4153.534668  59202.847656  1.826789  0.235623  561.267517\n",
              "\n",
              "[683 rows x 5 columns]"
            ]
          },
          "metadata": {},
          "execution_count": 64
        }
      ]
    },
    {
      "cell_type": "code",
      "metadata": {
        "id": "aybyZJ8Yca9x"
      },
      "source": [
        "data = data.sort_index(ascending=True)"
      ],
      "execution_count": null,
      "outputs": []
    },
    {
      "cell_type": "code",
      "metadata": {
        "id": "x5snrz0rcw2Z"
      },
      "source": [
        "data['ADA_shift'] = data['ADA'].shift(-1, fill_value=data['ADA'].iloc[-1])"
      ],
      "execution_count": null,
      "outputs": []
    },
    {
      "cell_type": "code",
      "metadata": {
        "colab": {
          "base_uri": "https://localhost:8080/"
        },
        "id": "Uh7S167Zc1ou",
        "outputId": "74479908-674c-4ce9-b28b-8af315b51d2b"
      },
      "source": [
        "test_size = int(len(data) * 0.2) # the test data will be 20% (0.2) of the entire data\n",
        "train = data.iloc[:-test_size,:].copy() \n",
        "# the copy() here is important, it will prevent us from getting: SettingWithCopyWarning: A value is trying to be set on a copy of a slice from a DataFrame. Try using .loc[row_index,col_indexer] = value instead\n",
        "test = data.iloc[-test_size:,:].copy()\n",
        "print(train.shape, test.shape)"
      ],
      "execution_count": null,
      "outputs": [
        {
          "output_type": "stream",
          "name": "stdout",
          "text": [
            "(547, 6) (136, 6)\n"
          ]
        }
      ]
    },
    {
      "cell_type": "code",
      "metadata": {
        "colab": {
          "base_uri": "https://localhost:8080/",
          "height": 450
        },
        "id": "3GcTTjPweGEv",
        "outputId": "dce76841-4818-4043-8797-390c46ec25dd"
      },
      "source": [
        "train"
      ],
      "execution_count": null,
      "outputs": [
        {
          "output_type": "execute_result",
          "data": {
            "text/html": [
              "<div>\n",
              "<style scoped>\n",
              "    .dataframe tbody tr th:only-of-type {\n",
              "        vertical-align: middle;\n",
              "    }\n",
              "\n",
              "    .dataframe tbody tr th {\n",
              "        vertical-align: top;\n",
              "    }\n",
              "\n",
              "    .dataframe thead th {\n",
              "        text-align: right;\n",
              "    }\n",
              "</style>\n",
              "<table border=\"1\" class=\"dataframe\">\n",
              "  <thead>\n",
              "    <tr style=\"text-align: right;\">\n",
              "      <th></th>\n",
              "      <th>ETH</th>\n",
              "      <th>BTC</th>\n",
              "      <th>ADA</th>\n",
              "      <th>DOGE</th>\n",
              "      <th>BNB</th>\n",
              "      <th>ADA_shift</th>\n",
              "    </tr>\n",
              "    <tr>\n",
              "      <th>Date</th>\n",
              "      <th></th>\n",
              "      <th></th>\n",
              "      <th></th>\n",
              "      <th></th>\n",
              "      <th></th>\n",
              "      <th></th>\n",
              "    </tr>\n",
              "  </thead>\n",
              "  <tbody>\n",
              "    <tr>\n",
              "      <th>2020-01-01</th>\n",
              "      <td>130.802002</td>\n",
              "      <td>7200.174316</td>\n",
              "      <td>0.033458</td>\n",
              "      <td>0.002033</td>\n",
              "      <td>13.689083</td>\n",
              "      <td>0.032751</td>\n",
              "    </tr>\n",
              "    <tr>\n",
              "      <th>2020-01-02</th>\n",
              "      <td>127.410179</td>\n",
              "      <td>6985.470215</td>\n",
              "      <td>0.032751</td>\n",
              "      <td>0.002009</td>\n",
              "      <td>13.027011</td>\n",
              "      <td>0.034180</td>\n",
              "    </tr>\n",
              "    <tr>\n",
              "      <th>2020-01-03</th>\n",
              "      <td>134.171707</td>\n",
              "      <td>7344.884277</td>\n",
              "      <td>0.034180</td>\n",
              "      <td>0.002145</td>\n",
              "      <td>13.660452</td>\n",
              "      <td>0.034595</td>\n",
              "    </tr>\n",
              "    <tr>\n",
              "      <th>2020-01-04</th>\n",
              "      <td>135.069366</td>\n",
              "      <td>7410.656738</td>\n",
              "      <td>0.034595</td>\n",
              "      <td>0.002241</td>\n",
              "      <td>13.891512</td>\n",
              "      <td>0.034721</td>\n",
              "    </tr>\n",
              "    <tr>\n",
              "      <th>2020-01-05</th>\n",
              "      <td>136.276779</td>\n",
              "      <td>7411.317383</td>\n",
              "      <td>0.034721</td>\n",
              "      <td>0.002419</td>\n",
              "      <td>14.111019</td>\n",
              "      <td>0.037272</td>\n",
              "    </tr>\n",
              "    <tr>\n",
              "      <th>...</th>\n",
              "      <td>...</td>\n",
              "      <td>...</td>\n",
              "      <td>...</td>\n",
              "      <td>...</td>\n",
              "      <td>...</td>\n",
              "      <td>...</td>\n",
              "    </tr>\n",
              "    <tr>\n",
              "      <th>2021-06-30</th>\n",
              "      <td>2274.547607</td>\n",
              "      <td>35040.835938</td>\n",
              "      <td>1.383472</td>\n",
              "      <td>0.254215</td>\n",
              "      <td>303.295868</td>\n",
              "      <td>1.335611</td>\n",
              "    </tr>\n",
              "    <tr>\n",
              "      <th>2021-07-01</th>\n",
              "      <td>2113.605469</td>\n",
              "      <td>33572.117188</td>\n",
              "      <td>1.335611</td>\n",
              "      <td>0.244549</td>\n",
              "      <td>288.218414</td>\n",
              "      <td>1.394397</td>\n",
              "    </tr>\n",
              "    <tr>\n",
              "      <th>2021-07-02</th>\n",
              "      <td>2150.040283</td>\n",
              "      <td>33897.046875</td>\n",
              "      <td>1.394397</td>\n",
              "      <td>0.245264</td>\n",
              "      <td>287.423096</td>\n",
              "      <td>1.406836</td>\n",
              "    </tr>\n",
              "    <tr>\n",
              "      <th>2021-07-03</th>\n",
              "      <td>2226.114258</td>\n",
              "      <td>34668.546875</td>\n",
              "      <td>1.406836</td>\n",
              "      <td>0.246411</td>\n",
              "      <td>298.237122</td>\n",
              "      <td>1.458184</td>\n",
              "    </tr>\n",
              "    <tr>\n",
              "      <th>2021-07-04</th>\n",
              "      <td>2321.724121</td>\n",
              "      <td>35287.781250</td>\n",
              "      <td>1.458184</td>\n",
              "      <td>0.246483</td>\n",
              "      <td>307.732086</td>\n",
              "      <td>1.404898</td>\n",
              "    </tr>\n",
              "  </tbody>\n",
              "</table>\n",
              "<p>547 rows × 6 columns</p>\n",
              "</div>"
            ],
            "text/plain": [
              "                    ETH           BTC  ...         BNB  ADA_shift\n",
              "Date                                   ...                       \n",
              "2020-01-01   130.802002   7200.174316  ...   13.689083   0.032751\n",
              "2020-01-02   127.410179   6985.470215  ...   13.027011   0.034180\n",
              "2020-01-03   134.171707   7344.884277  ...   13.660452   0.034595\n",
              "2020-01-04   135.069366   7410.656738  ...   13.891512   0.034721\n",
              "2020-01-05   136.276779   7411.317383  ...   14.111019   0.037272\n",
              "...                 ...           ...  ...         ...        ...\n",
              "2021-06-30  2274.547607  35040.835938  ...  303.295868   1.335611\n",
              "2021-07-01  2113.605469  33572.117188  ...  288.218414   1.394397\n",
              "2021-07-02  2150.040283  33897.046875  ...  287.423096   1.406836\n",
              "2021-07-03  2226.114258  34668.546875  ...  298.237122   1.458184\n",
              "2021-07-04  2321.724121  35287.781250  ...  307.732086   1.404898\n",
              "\n",
              "[547 rows x 6 columns]"
            ]
          },
          "metadata": {},
          "execution_count": 72
        }
      ]
    },
    {
      "cell_type": "code",
      "metadata": {
        "id": "FESbECJRdLcP"
      },
      "source": [
        "X_train = train.iloc[:,:5].values\n",
        "y_train = train.iloc[:,5].values\n",
        "\n",
        "X_test = test.iloc[:,:5].values\n",
        "y_test = test.iloc[:,5].values"
      ],
      "execution_count": null,
      "outputs": []
    },
    {
      "cell_type": "code",
      "metadata": {
        "id": "8ScWy-ivdw4D"
      },
      "source": [
        "x_scaler = MinMaxScaler(feature_range=(-1, 1))\n",
        "y_scaler = MinMaxScaler(feature_range=(-1, 1))"
      ],
      "execution_count": null,
      "outputs": []
    },
    {
      "cell_type": "code",
      "metadata": {
        "id": "e9hJfAUrd1ia"
      },
      "source": [
        "X_train = x_scaler.fit_transform(X_train)\n",
        "y_train = y_scaler.fit_transform(y_train.reshape(-1,1))\n",
        "\n",
        "X_test = x_scaler.transform(X_test)\n",
        "y_test = y_scaler.transform(y_test.reshape(-1,1))"
      ],
      "execution_count": null,
      "outputs": []
    },
    {
      "cell_type": "code",
      "metadata": {
        "id": "f38OnhYCd6SJ"
      },
      "source": [
        "n_input = 5 #how many samples/rows/timesteps to look in the past in order to forecast the next sample\n",
        "n_features= X_train.shape[1] # how many predictors/Xs/features we have to predict y\n",
        "b_size = 32 # Number of timeseries samples in each batch\n",
        "generator = TimeseriesGenerator(X_train, y_train, length=n_input, batch_size=b_size)\n"
      ],
      "execution_count": null,
      "outputs": []
    },
    {
      "cell_type": "code",
      "metadata": {
        "colab": {
          "base_uri": "https://localhost:8080/"
        },
        "id": "ZrKisnQdd9F3",
        "outputId": "0281f552-a3a8-4e11-aa6e-8a694ed9c563"
      },
      "source": [
        "print(generator[0][0].shape)"
      ],
      "execution_count": null,
      "outputs": [
        {
          "output_type": "stream",
          "name": "stdout",
          "text": [
            "(32, 5, 5)\n"
          ]
        }
      ]
    },
    {
      "cell_type": "code",
      "metadata": {
        "colab": {
          "base_uri": "https://localhost:8080/"
        },
        "id": "Ni5N-z0jeZ7-",
        "outputId": "7ccbddf7-f1d4-42c9-a6a6-e6a3f5766bae"
      },
      "source": [
        "model = Sequential()\n",
        "model.add(LSTM(150, activation='relu', input_shape=(n_input, n_features)))\n",
        "model.add(Dense(1))\n",
        "model.compile(optimizer='adam', loss='mse')\n",
        "model.summary()"
      ],
      "execution_count": null,
      "outputs": [
        {
          "output_type": "stream",
          "name": "stdout",
          "text": [
            "WARNING:tensorflow:Layer lstm_4 will not use cuDNN kernels since it doesn't meet the criteria. It will use a generic GPU kernel as fallback when running on GPU.\n",
            "Model: \"sequential_3\"\n",
            "_________________________________________________________________\n",
            " Layer (type)                Output Shape              Param #   \n",
            "=================================================================\n",
            " lstm_4 (LSTM)               (None, 150)               93600     \n",
            "                                                                 \n",
            " dense_3 (Dense)             (None, 1)                 151       \n",
            "                                                                 \n",
            "=================================================================\n",
            "Total params: 93,751\n",
            "Trainable params: 93,751\n",
            "Non-trainable params: 0\n",
            "_________________________________________________________________\n"
          ]
        }
      ]
    },
    {
      "cell_type": "code",
      "metadata": {
        "colab": {
          "base_uri": "https://localhost:8080/"
        },
        "id": "hlappIDSefyR",
        "outputId": "c2c44029-8876-43f9-c41f-b2165458e19a"
      },
      "source": [
        "model.fit(generator,epochs=5)"
      ],
      "execution_count": null,
      "outputs": [
        {
          "output_type": "stream",
          "name": "stdout",
          "text": [
            "Epoch 1/5\n",
            "17/17 [==============================] - 2s 18ms/step - loss: 0.3828\n",
            "Epoch 2/5\n",
            "17/17 [==============================] - 0s 18ms/step - loss: 0.0361\n",
            "Epoch 3/5\n",
            "17/17 [==============================] - 0s 18ms/step - loss: 0.0173\n",
            "Epoch 4/5\n",
            "17/17 [==============================] - 0s 18ms/step - loss: 0.0103\n",
            "Epoch 5/5\n",
            "17/17 [==============================] - 0s 19ms/step - loss: 0.0095\n"
          ]
        },
        {
          "output_type": "execute_result",
          "data": {
            "text/plain": [
              "<keras.callbacks.History at 0x7fdc84f72f90>"
            ]
          },
          "metadata": {},
          "execution_count": 78
        }
      ]
    },
    {
      "cell_type": "code",
      "metadata": {
        "colab": {
          "base_uri": "https://localhost:8080/",
          "height": 271
        },
        "id": "iPEQYWO0e7Kc",
        "outputId": "f7c1e9da-da93-4934-db9a-079896b67c1e"
      },
      "source": [
        "loss_per_epoch = model.history.history['loss']\n",
        "plt.plot(range(len(loss_per_epoch)),loss_per_epoch);"
      ],
      "execution_count": null,
      "outputs": [
        {
          "output_type": "display_data",
          "data": {
            "image/png": "[encoded data removed]",
            "text/plain": [
              "<Figure size 432x288 with 1 Axes>"
            ]
          },
          "metadata": {}
        }
      ]
    },
    {
      "cell_type": "code",
      "metadata": {
        "colab": {
          "base_uri": "https://localhost:8080/"
        },
        "id": "vp61kkaMe_Ng",
        "outputId": "190d3935-f498-45c0-b3ce-71fe5274a596"
      },
      "source": [
        "test_generator = TimeseriesGenerator(X_test, np.zeros(len(X_test)), length=n_input, batch_size=b_size)\n",
        "print(test_generator[0][0].shape)"
      ],
      "execution_count": null,
      "outputs": [
        {
          "output_type": "stream",
          "name": "stdout",
          "text": [
            "(32, 5, 5)\n"
          ]
        }
      ]
    },
    {
      "cell_type": "code",
      "metadata": {
        "colab": {
          "base_uri": "https://localhost:8080/"
        },
        "id": "hgp9GlJ6fCRB",
        "outputId": "f262d60e-7b13-498c-f128-3657a31b2fb6"
      },
      "source": [
        "y_pred_scaled = model.predict(test_generator)\n",
        "y_pred = y_scaler.inverse_transform(y_pred_scaled)\n",
        "y_test = y_scaler.inverse_transform(y_test)\n",
        "results = pd.DataFrame({'y_true':y_test.flatten()[n_input:],'y_pred':y_pred.flatten()})\n",
        "print(results)"
      ],
      "execution_count": null,
      "outputs": [
        {
          "output_type": "stream",
          "name": "stdout",
          "text": [
            "       y_true    y_pred\n",
            "0    1.348145  1.191011\n",
            "1    1.315099  1.182162\n",
            "2    1.265083  1.171225\n",
            "3    1.262258  1.153763\n",
            "4    1.223192  1.137876\n",
            "..        ...       ...\n",
            "126  2.040853  1.981250\n",
            "127  2.015587  1.966845\n",
            "128  1.877235  1.947822\n",
            "129  1.826789  1.943764\n",
            "130  1.826789  1.913081\n",
            "\n",
            "[131 rows x 2 columns]\n"
          ]
        }
      ]
    },
    {
      "cell_type": "code",
      "metadata": {
        "colab": {
          "base_uri": "https://localhost:8080/",
          "height": 285
        },
        "id": "LV8XnDrhfLsO",
        "outputId": "1cc376b2-fdcd-4d20-8ed9-d97b16075b55"
      },
      "source": [
        "results.plot()"
      ],
      "execution_count": null,
      "outputs": [
        {
          "output_type": "execute_result",
          "data": {
            "text/plain": [
              "<matplotlib.axes._subplots.AxesSubplot at 0x7fdcf014ce10>"
            ]
          },
          "metadata": {},
          "execution_count": 82
        },
        {
          "output_type": "display_data",
          "data": {
            "image/png": "[encoded data removed]",
            "text/plain": [
              "<Figure size 432x288 with 1 Axes>"
            ]
          },
          "metadata": {}
        }
      ]
    },
    {
      "cell_type": "code",
      "metadata": {
        "id": "99YdEx1RfZK7"
      },
      "source": [
        "pred_sign = results.diff(1) > 0"
      ],
      "execution_count": null,
      "outputs": []
    },
    {
      "cell_type": "code",
      "metadata": {
        "colab": {
          "base_uri": "https://localhost:8080/"
        },
        "id": "HC1-xJntfl5y",
        "outputId": "54cbc3ec-81c0-4d9c-d7f3-f19c7d36221b"
      },
      "source": [
        "(pred_sign.y_true == pred_sign.y_pred).sum()/len(pred_sign)"
      ],
      "execution_count": null,
      "outputs": [
        {
          "output_type": "execute_result",
          "data": {
            "text/plain": [
              "0.5954198473282443"
            ]
          },
          "metadata": {},
          "execution_count": 84
        }
      ]
    }
  ]
}