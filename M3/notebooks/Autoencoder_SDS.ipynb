{
  "nbformat": 4,
  "nbformat_minor": 0,
  "metadata": {
    "colab": {
      "name": "Autoencoder - SDS",
      "provenance": [],
      "include_colab_link": true
    },
    "kernelspec": {
      "name": "python3",
      "display_name": "Python 3"
    },
    "accelerator": "GPU"
  },
  "cells": [
    {
      "cell_type": "markdown",
      "metadata": {
        "id": "view-in-github",
        "colab_type": "text"
      },
      "source": [
        "<a href=\"https://colab.research.google.com/github/SDS-AAU/dsba-cbs/blob/master/M3/workshop/Autoencoder_SDS.ipynb\" target=\"_parent\"><img src=\"https://colab.research.google.com/assets/colab-badge.svg\" alt=\"Open In Colab\"/></a>"
      ]
    },
    {
      "cell_type": "markdown",
      "metadata": {
        "id": "q_K0pdwGCMdY"
      },
      "source": [
        "# Autoencoder – an exmaple of advanced neural architectures\n",
        "\n",
        "![alt text](https://curiousily.com/static/1c805181257678f16d092385fe580f09/7bc11/mushroom_encoder.png)\n",
        "\n",
        "## We'll start with an exmple from the Keras Blog of the most simple autoencoder"
      ]
    },
    {
      "cell_type": "code",
      "metadata": {
        "id": "hyDySj_kAwO3"
      },
      "source": [
        "from keras.layers import Input, Dense\n",
        "from keras.models import Model\n",
        "from keras import regularizers\n",
        "\n",
        "\n",
        "# this is the size of our encoded representations\n",
        "encoding_dim = 32  # 32 floats -> compression of factor 24.5, assuming the input is 784 floats\n",
        "\n",
        "# this is our input placeholder\n",
        "input_img = Input(shape=(784,))\n",
        "# \"encoded\" is the encoded representation of the input\n",
        "encoded = Dense(encoding_dim, activation='relu')(input_img)\n",
        "# \"decoded\" is the lossy reconstruction of the input\n",
        "decoded = Dense(784, activation='sigmoid')(encoded)\n",
        "\n",
        "# this model maps an input to its reconstruction\n",
        "autoencoder = Model(input_img, decoded)\n"
      ],
      "execution_count": 1,
      "outputs": []
    },
    {
      "cell_type": "code",
      "metadata": {
        "id": "FnxcbOkXDiOa"
      },
      "source": [
        "# this model maps an input to its encoded representation\n",
        "encoder = Model(input_img, encoded)"
      ],
      "execution_count": 2,
      "outputs": []
    },
    {
      "cell_type": "code",
      "metadata": {
        "id": "OZqQycx1E_w7"
      },
      "source": [
        "# create a placeholder for an encoded (32-dimensional) input\n",
        "encoded_input = Input(shape=(encoding_dim,))\n",
        "# retrieve the last layer of the autoencoder model\n",
        "decoder_layer = autoencoder.layers[-1]\n",
        "# create the decoder model\n",
        "decoder = Model(encoded_input, decoder_layer(encoded_input))"
      ],
      "execution_count": 3,
      "outputs": []
    },
    {
      "cell_type": "code",
      "metadata": {
        "id": "4NSOzW-YFWJU"
      },
      "source": [
        "autoencoder.compile(optimizer='adam', loss='binary_crossentropy')"
      ],
      "execution_count": 4,
      "outputs": []
    },
    {
      "cell_type": "code",
      "metadata": {
        "id": "5lHGvLZXF5Gf",
        "colab": {
          "base_uri": "https://localhost:8080/"
        },
        "outputId": "2a7f85be-1202-4173-cd94-4b236832aa8a"
      },
      "source": [
        "from keras.datasets import mnist\n",
        "import numpy as np\n",
        "(x_train, _), (x_test, _) = mnist.load_data()"
      ],
      "execution_count": 5,
      "outputs": [
        {
          "output_type": "stream",
          "text": [
            "Downloading data from https://storage.googleapis.com/tensorflow/tf-keras-datasets/mnist.npz\n",
            "11493376/11490434 [==============================] - 1s 0us/step\n"
          ],
          "name": "stdout"
        }
      ]
    },
    {
      "cell_type": "code",
      "metadata": {
        "id": "PqWSjo8DF_AS",
        "colab": {
          "base_uri": "https://localhost:8080/"
        },
        "outputId": "8f44afc0-9397-4cad-b217-2dff4ce7518a"
      },
      "source": [
        "x_train = x_train.astype('float32') / 255.\n",
        "x_test = x_test.astype('float32') / 255.\n",
        "x_train = x_train.reshape((len(x_train), np.prod(x_train.shape[1:])))\n",
        "x_test = x_test.reshape((len(x_test), np.prod(x_test.shape[1:])))\n",
        "print(x_train.shape)\n",
        "print(x_test.shape)"
      ],
      "execution_count": 6,
      "outputs": [
        {
          "output_type": "stream",
          "text": [
            "(60000, 784)\n",
            "(10000, 784)\n"
          ],
          "name": "stdout"
        }
      ]
    },
    {
      "cell_type": "code",
      "metadata": {
        "id": "GPP-52CuGDop",
        "colab": {
          "base_uri": "https://localhost:8080/"
        },
        "outputId": "04d0769b-b372-4df5-ae85-844c1cc3c77d"
      },
      "source": [
        "autoencoder.fit(x_train, x_train,\n",
        "                epochs=15,\n",
        "                batch_size=256,\n",
        "                shuffle=True,\n",
        "                validation_data=(x_test, x_test))"
      ],
      "execution_count": 7,
      "outputs": [
        {
          "output_type": "stream",
          "text": [
            "Epoch 1/15\n",
            "235/235 [==============================] - 1s 4ms/step - loss: 0.2760 - val_loss: 0.1917\n",
            "Epoch 2/15\n",
            "235/235 [==============================] - 1s 3ms/step - loss: 0.1733 - val_loss: 0.1554\n",
            "Epoch 3/15\n",
            "235/235 [==============================] - 1s 3ms/step - loss: 0.1457 - val_loss: 0.1347\n",
            "Epoch 4/15\n",
            "235/235 [==============================] - 1s 3ms/step - loss: 0.1293 - val_loss: 0.1218\n",
            "Epoch 5/15\n",
            "235/235 [==============================] - 1s 3ms/step - loss: 0.1184 - val_loss: 0.1129\n",
            "Epoch 6/15\n",
            "235/235 [==============================] - 1s 3ms/step - loss: 0.1109 - val_loss: 0.1069\n",
            "Epoch 7/15\n",
            "235/235 [==============================] - 1s 3ms/step - loss: 0.1054 - val_loss: 0.1019\n",
            "Epoch 8/15\n",
            "235/235 [==============================] - 1s 3ms/step - loss: 0.1015 - val_loss: 0.0986\n",
            "Epoch 9/15\n",
            "235/235 [==============================] - 1s 3ms/step - loss: 0.0988 - val_loss: 0.0964\n",
            "Epoch 10/15\n",
            "235/235 [==============================] - 1s 3ms/step - loss: 0.0970 - val_loss: 0.0950\n",
            "Epoch 11/15\n",
            "235/235 [==============================] - 1s 3ms/step - loss: 0.0959 - val_loss: 0.0941\n",
            "Epoch 12/15\n",
            "235/235 [==============================] - 1s 3ms/step - loss: 0.0951 - val_loss: 0.0935\n",
            "Epoch 13/15\n",
            "235/235 [==============================] - 1s 3ms/step - loss: 0.0946 - val_loss: 0.0931\n",
            "Epoch 14/15\n",
            "235/235 [==============================] - 1s 3ms/step - loss: 0.0943 - val_loss: 0.0928\n",
            "Epoch 15/15\n",
            "235/235 [==============================] - 1s 3ms/step - loss: 0.0940 - val_loss: 0.0926\n"
          ],
          "name": "stdout"
        },
        {
          "output_type": "execute_result",
          "data": {
            "text/plain": [
              "<tensorflow.python.keras.callbacks.History at 0x7fbcd2d66748>"
            ]
          },
          "metadata": {
            "tags": []
          },
          "execution_count": 7
        }
      ]
    },
    {
      "cell_type": "code",
      "metadata": {
        "id": "WKIGg_6gGMLk"
      },
      "source": [
        "# encode and decode some digits\n",
        "# note that we take them from the *test* set\n",
        "encoded_imgs = encoder.predict(x_test)\n",
        "decoded_imgs = decoder.predict(encoded_imgs)"
      ],
      "execution_count": 8,
      "outputs": []
    },
    {
      "cell_type": "code",
      "metadata": {
        "id": "0ybWJIRNHbYb",
        "colab": {
          "base_uri": "https://localhost:8080/",
          "height": 248
        },
        "outputId": "a9d00127-04c6-4eed-c4b6-bc4f8d393d8b"
      },
      "source": [
        "import matplotlib.pyplot as plt\n",
        "\n",
        "n = 10  # how many digits we will display\n",
        "plt.figure(figsize=(20, 4))\n",
        "for i in range(n):\n",
        "    # display original\n",
        "    ax = plt.subplot(2, n, i + 1)\n",
        "    plt.imshow(x_test[i].reshape(28, 28))\n",
        "    plt.gray()\n",
        "    ax.get_xaxis().set_visible(False)\n",
        "    ax.get_yaxis().set_visible(False)\n",
        "\n",
        "    # display reconstruction\n",
        "    ax = plt.subplot(2, n, i + 1 + n)\n",
        "    plt.imshow(decoded_imgs[i].reshape(28, 28))\n",
        "    plt.gray()\n",
        "    ax.get_xaxis().set_visible(False)\n",
        "    ax.get_yaxis().set_visible(False)\n",
        "plt.show()"
      ],
      "execution_count": 9,
      "outputs": [
        {
          "output_type": "display_data",
          "data": {
            "image/png": "[encoded data removed]",
            "text/plain": [
              "<Figure size 1440x288 with 20 Axes>"
            ]
          },
          "metadata": {
            "tags": [],
            "needs_background": "light"
          }
        }
      ]
    },
    {
      "cell_type": "markdown",
      "metadata": {
        "id": "fxFIyF0oaXfl"
      },
      "source": [
        "## Creditcard fraud example\n",
        "\n",
        "[original article](https://www.datascience.com/blog/fraud-detection-with-tensorflow)"
      ]
    },
    {
      "cell_type": "code",
      "metadata": {
        "id": "qV2ul7lxHky4",
        "colab": {
          "base_uri": "https://localhost:8080/"
        },
        "outputId": "cffd5dd8-6a08-4450-93c3-f1d309e647a3"
      },
      "source": [
        "!wget https://github.com/curiousily/Credit-Card-Fraud-Detection-using-Autoencoders-in-Keras/raw/master/data/creditcardfraud.zip"
      ],
      "execution_count": 10,
      "outputs": [
        {
          "output_type": "stream",
          "text": [
            "--2020-12-04 13:16:20--  https://github.com/curiousily/Credit-Card-Fraud-Detection-using-Autoencoders-in-Keras/raw/master/data/creditcardfraud.zip\n",
            "Resolving github.com (github.com)... 192.30.255.113\n",
            "Connecting to github.com (github.com)|192.30.255.113|:443... connected.\n",
            "HTTP request sent, awaiting response... 302 Found\n",
            "Location: https://raw.githubusercontent.com/curiousily/Credit-Card-Fraud-Detection-using-Autoencoders-in-Keras/master/data/creditcardfraud.zip [following]\n",
            "--2020-12-04 13:16:20--  https://raw.githubusercontent.com/curiousily/Credit-Card-Fraud-Detection-using-Autoencoders-in-Keras/master/data/creditcardfraud.zip\n",
            "Resolving raw.githubusercontent.com (raw.githubusercontent.com)... 151.101.0.133, 151.101.64.133, 151.101.128.133, ...\n",
            "Connecting to raw.githubusercontent.com (raw.githubusercontent.com)|151.101.0.133|:443... connected.\n",
            "HTTP request sent, awaiting response... 200 OK\n",
            "Length: 71387154 (68M) [application/zip]\n",
            "Saving to: ‘creditcardfraud.zip’\n",
            "\n",
            "creditcardfraud.zip 100%[===================>]  68.08M   292MB/s    in 0.2s    \n",
            "\n",
            "2020-12-04 13:16:24 (292 MB/s) - ‘creditcardfraud.zip’ saved [71387154/71387154]\n",
            "\n"
          ],
          "name": "stdout"
        }
      ]
    },
    {
      "cell_type": "code",
      "metadata": {
        "id": "i57rlaZYLpEA",
        "colab": {
          "base_uri": "https://localhost:8080/"
        },
        "outputId": "95f0ab04-ddba-4c9d-ae89-a0a17bf6cea1"
      },
      "source": [
        "!unzip creditcardfraud.zip"
      ],
      "execution_count": 11,
      "outputs": [
        {
          "output_type": "stream",
          "text": [
            "Archive:  creditcardfraud.zip\n",
            "  inflating: creditcard.csv          \n"
          ],
          "name": "stdout"
        }
      ]
    },
    {
      "cell_type": "code",
      "metadata": {
        "id": "n9FnmxEtLviQ"
      },
      "source": [
        "import pandas as pd\n",
        "from sklearn.model_selection import train_test_split"
      ],
      "execution_count": 12,
      "outputs": []
    },
    {
      "cell_type": "code",
      "metadata": {
        "id": "nnZgudrgL23t"
      },
      "source": [
        "df = pd.read_csv(\"creditcard.csv\")"
      ],
      "execution_count": 13,
      "outputs": []
    },
    {
      "cell_type": "code",
      "metadata": {
        "id": "KYd-FRiSL6UG",
        "colab": {
          "base_uri": "https://localhost:8080/"
        },
        "outputId": "d7b7c45a-16ca-4c41-dec8-fe822e8a9119"
      },
      "source": [
        "df['Class'].value_counts()"
      ],
      "execution_count": 14,
      "outputs": [
        {
          "output_type": "execute_result",
          "data": {
            "text/plain": [
              "0    284315\n",
              "1       492\n",
              "Name: Class, dtype: int64"
            ]
          },
          "metadata": {
            "tags": []
          },
          "execution_count": 14
        }
      ]
    },
    {
      "cell_type": "code",
      "metadata": {
        "id": "HiyaZzOdL8at"
      },
      "source": [
        "from sklearn.preprocessing import StandardScaler\n",
        "\n",
        "data = df.drop(['Time'], axis=1)\n",
        "\n",
        "data['Amount'] = StandardScaler().fit_transform(data['Amount'].values.reshape(-1, 1))"
      ],
      "execution_count": 15,
      "outputs": []
    },
    {
      "cell_type": "code",
      "metadata": {
        "id": "UZSyw0vPROaa"
      },
      "source": [
        "X_train, X_test, y_train, y_test = train_test_split(data.iloc[:,:-1], data.iloc[:,-1], test_size=0.2, random_state=42)"
      ],
      "execution_count": 16,
      "outputs": []
    },
    {
      "cell_type": "code",
      "metadata": {
        "id": "OhTgUeSaRQeJ"
      },
      "source": [
        "# Logistic regression\n",
        "from sklearn.linear_model import LogisticRegression\n",
        "classifier = LogisticRegression()"
      ],
      "execution_count": 17,
      "outputs": []
    },
    {
      "cell_type": "code",
      "metadata": {
        "id": "LvRKrMGRR-jO",
        "colab": {
          "base_uri": "https://localhost:8080/"
        },
        "outputId": "10a34f80-9e3d-44a5-b802-98d69331f33d"
      },
      "source": [
        "classifier.fit(X_train, y_train)"
      ],
      "execution_count": 18,
      "outputs": [
        {
          "output_type": "execute_result",
          "data": {
            "text/plain": [
              "LogisticRegression(C=1.0, class_weight=None, dual=False, fit_intercept=True,\n",
              "                   intercept_scaling=1, l1_ratio=None, max_iter=100,\n",
              "                   multi_class='auto', n_jobs=None, penalty='l2',\n",
              "                   random_state=None, solver='lbfgs', tol=0.0001, verbose=0,\n",
              "                   warm_start=False)"
            ]
          },
          "metadata": {
            "tags": []
          },
          "execution_count": 18
        }
      ]
    },
    {
      "cell_type": "code",
      "metadata": {
        "id": "6uH4wqKqSA1_",
        "colab": {
          "base_uri": "https://localhost:8080/"
        },
        "outputId": "7d68b243-2508-4f9d-fd70-5a0561b91ab4"
      },
      "source": [
        "classifier.score(X_test, y_test)"
      ],
      "execution_count": 19,
      "outputs": [
        {
          "output_type": "execute_result",
          "data": {
            "text/plain": [
              "0.9991222218320986"
            ]
          },
          "metadata": {
            "tags": []
          },
          "execution_count": 19
        }
      ]
    },
    {
      "cell_type": "code",
      "metadata": {
        "id": "aS4DhIwDSQHj"
      },
      "source": [
        "y_pred = classifier.predict(X_test)"
      ],
      "execution_count": 20,
      "outputs": []
    },
    {
      "cell_type": "code",
      "metadata": {
        "id": "1PIixsB1SU8v",
        "colab": {
          "base_uri": "https://localhost:8080/"
        },
        "outputId": "0dfb4ebc-58ff-4d7a-a783-a1b7921fd407"
      },
      "source": [
        "np.sum(y_pred)"
      ],
      "execution_count": 21,
      "outputs": [
        {
          "output_type": "execute_result",
          "data": {
            "text/plain": [
              "66"
            ]
          },
          "metadata": {
            "tags": []
          },
          "execution_count": 21
        }
      ]
    },
    {
      "cell_type": "code",
      "metadata": {
        "id": "IcJHzem8S7El",
        "colab": {
          "base_uri": "https://localhost:8080/"
        },
        "outputId": "748d4da3-be5d-4576-cb7a-296f89d2f90e"
      },
      "source": [
        "np.sum(y_test)"
      ],
      "execution_count": 22,
      "outputs": [
        {
          "output_type": "execute_result",
          "data": {
            "text/plain": [
              "98"
            ]
          },
          "metadata": {
            "tags": []
          },
          "execution_count": 22
        }
      ]
    },
    {
      "cell_type": "code",
      "metadata": {
        "id": "2urSPKRch2x0"
      },
      "source": [
        "from sklearn.metrics import confusion_matrix"
      ],
      "execution_count": 23,
      "outputs": []
    },
    {
      "cell_type": "code",
      "metadata": {
        "id": "JcgRwbXgh_Oy",
        "colab": {
          "base_uri": "https://localhost:8080/"
        },
        "outputId": "ed544d50-50fd-4e54-c3b5-cbf8c3d4177e"
      },
      "source": [
        "confusion_matrix(y_test,y_pred)"
      ],
      "execution_count": 24,
      "outputs": [
        {
          "output_type": "execute_result",
          "data": {
            "text/plain": [
              "array([[56855,     9],\n",
              "       [   41,    57]])"
            ]
          },
          "metadata": {
            "tags": []
          },
          "execution_count": 24
        }
      ]
    },
    {
      "cell_type": "code",
      "metadata": {
        "id": "PjDgRq1LMb_1"
      },
      "source": [
        "X_train, X_test = train_test_split(data, test_size=0.2, random_state=42)\n",
        "X_train = X_train[X_train.Class == 0]\n",
        "X_train = X_train.drop(['Class'], axis=1)\n",
        "\n",
        "y_test = X_test['Class']\n",
        "X_test = X_test.drop(['Class'], axis=1)\n",
        "\n",
        "X_train = X_train.values\n",
        "X_test = X_test.values"
      ],
      "execution_count": 25,
      "outputs": []
    },
    {
      "cell_type": "code",
      "metadata": {
        "id": "3GA6QTzKMwJ1"
      },
      "source": [
        "input_dim = X_train.shape[1]\n",
        "encoding_dim = 14"
      ],
      "execution_count": 26,
      "outputs": []
    },
    {
      "cell_type": "code",
      "metadata": {
        "id": "tMNSFAACNGNu"
      },
      "source": [
        "\n",
        "input_layer = Input(shape=(input_dim, ))\n",
        "\n",
        "encoder = Dense(encoding_dim, activation=\"tanh\", \n",
        "                activity_regularizer=regularizers.l1(10e-5))(input_layer)\n",
        "encoder = Dense(int(encoding_dim / 2), activation=\"relu\")(encoder)\n",
        "\n",
        "decoder = Dense(int(encoding_dim / 2), activation='tanh')(encoder)\n",
        "decoder = Dense(input_dim, activation='relu')(decoder)\n",
        "\n",
        "autoencoder = Model(inputs=input_layer, outputs=decoder)"
      ],
      "execution_count": 27,
      "outputs": []
    },
    {
      "cell_type": "code",
      "metadata": {
        "id": "iq1vSPEzNebF",
        "colab": {
          "base_uri": "https://localhost:8080/"
        },
        "outputId": "9e2f3e7e-a630-4cf3-fa9b-bf5426f1efda"
      },
      "source": [
        "nb_epoch = 5\n",
        "batch_size = 64\n",
        "\n",
        "autoencoder.compile(optimizer='adam', \n",
        "                    loss='mean_squared_error', \n",
        "                    metrics=['accuracy'])\n",
        "\n",
        "\n",
        "\n",
        "history = autoencoder.fit(X_train, X_train,\n",
        "                    epochs=nb_epoch,\n",
        "                    batch_size=batch_size,\n",
        "                    shuffle=True,\n",
        "                    validation_data=(X_test, X_test)).history"
      ],
      "execution_count": 28,
      "outputs": [
        {
          "output_type": "stream",
          "text": [
            "Epoch 1/5\n",
            "3554/3554 [==============================] - 10s 3ms/step - loss: 0.8385 - accuracy: 0.5661 - val_loss: 0.8114 - val_accuracy: 0.6351\n",
            "Epoch 2/5\n",
            "3554/3554 [==============================] - 10s 3ms/step - loss: 0.7649 - accuracy: 0.6481 - val_loss: 0.7826 - val_accuracy: 0.6631\n",
            "Epoch 3/5\n",
            "3554/3554 [==============================] - 10s 3ms/step - loss: 0.7472 - accuracy: 0.6685 - val_loss: 0.7742 - val_accuracy: 0.6697\n",
            "Epoch 4/5\n",
            "3554/3554 [==============================] - 10s 3ms/step - loss: 0.7391 - accuracy: 0.6765 - val_loss: 0.7627 - val_accuracy: 0.6778\n",
            "Epoch 5/5\n",
            "3554/3554 [==============================] - 10s 3ms/step - loss: 0.7283 - accuracy: 0.6913 - val_loss: 0.7557 - val_accuracy: 0.6997\n"
          ],
          "name": "stdout"
        }
      ]
    },
    {
      "cell_type": "code",
      "metadata": {
        "id": "95RZtj-PPat0"
      },
      "source": [
        "# We start by making the predictions\n",
        "predictions = autoencoder.predict(X_test)"
      ],
      "execution_count": 29,
      "outputs": []
    },
    {
      "cell_type": "code",
      "metadata": {
        "id": "Nda_OuORNp7e"
      },
      "source": [
        "# We calculate the two reconstruction errors and make a dataframe with the errors and the class\n",
        "euclidian = [np.linalg.norm(X_test[i] - predictions[i]) for i in range(len(X_test))]\n",
        "mse = np.mean(np.power(X_test - predictions, 2), axis=1)"
      ],
      "execution_count": 30,
      "outputs": []
    },
    {
      "cell_type": "code",
      "metadata": {
        "id": "eOEJOuRfP4b_"
      },
      "source": [
        "error_df = pd.DataFrame({'mse': mse,\n",
        "                        'true_class': y_test,\n",
        "                        'euclidian': euclidian})"
      ],
      "execution_count": 31,
      "outputs": []
    },
    {
      "cell_type": "code",
      "metadata": {
        "id": "io0A8YxlP9x4",
        "colab": {
          "base_uri": "https://localhost:8080/",
          "height": 136
        },
        "outputId": "86d9fddc-58fa-4f1c-bc74-3d0f5e1c1632"
      },
      "source": [
        "# Let's check if the error is different for our top-patents\n",
        "\n",
        "error_df.groupby(by='true_class').mean()"
      ],
      "execution_count": 32,
      "outputs": [
        {
          "output_type": "execute_result",
          "data": {
            "text/html": [
              "<div>\n",
              "<style scoped>\n",
              "    .dataframe tbody tr th:only-of-type {\n",
              "        vertical-align: middle;\n",
              "    }\n",
              "\n",
              "    .dataframe tbody tr th {\n",
              "        vertical-align: top;\n",
              "    }\n",
              "\n",
              "    .dataframe thead th {\n",
              "        text-align: right;\n",
              "    }\n",
              "</style>\n",
              "<table border=\"1\" class=\"dataframe\">\n",
              "  <thead>\n",
              "    <tr style=\"text-align: right;\">\n",
              "      <th></th>\n",
              "      <th>mse</th>\n",
              "      <th>euclidian</th>\n",
              "    </tr>\n",
              "    <tr>\n",
              "      <th>true_class</th>\n",
              "      <th></th>\n",
              "      <th></th>\n",
              "    </tr>\n",
              "  </thead>\n",
              "  <tbody>\n",
              "    <tr>\n",
              "      <th>0</th>\n",
              "      <td>0.702617</td>\n",
              "      <td>3.811386</td>\n",
              "    </tr>\n",
              "    <tr>\n",
              "      <th>1</th>\n",
              "      <td>31.187788</td>\n",
              "      <td>23.749411</td>\n",
              "    </tr>\n",
              "  </tbody>\n",
              "</table>\n",
              "</div>"
            ],
            "text/plain": [
              "                  mse  euclidian\n",
              "true_class                      \n",
              "0            0.702617   3.811386\n",
              "1           31.187788  23.749411"
            ]
          },
          "metadata": {
            "tags": []
          },
          "execution_count": 32
        }
      ]
    },
    {
      "cell_type": "code",
      "metadata": {
        "id": "o9opvbf7VpLL"
      },
      "source": [
        "import seaborn as sns\n",
        "sns.set()"
      ],
      "execution_count": 33,
      "outputs": []
    },
    {
      "cell_type": "code",
      "metadata": {
        "colab": {
          "base_uri": "https://localhost:8080/",
          "height": 382
        },
        "id": "i6ef5xPM382O",
        "outputId": "ce07b171-5092-4f35-bbed-d3875ae7b01a"
      },
      "source": [
        "sns.displot(data=error_df, x=\"euclidian\", hue=\"true_class\", kind=\"kde\", fill=True, common_norm=False, palette=\"crest\",\n",
        "   alpha=.5)"
      ],
      "execution_count": 34,
      "outputs": [
        {
          "output_type": "execute_result",
          "data": {
            "text/plain": [
              "<seaborn.axisgrid.FacetGrid at 0x7fbcbef97978>"
            ]
          },
          "metadata": {
            "tags": []
          },
          "execution_count": 34
        },
        {
          "output_type": "display_data",
          "data": {
            "image/png": "[encoded data removed]",
            "text/plain": [
              "<Figure size 429.675x360 with 1 Axes>"
            ]
          },
          "metadata": {
            "tags": []
          }
        }
      ]
    },
    {
      "cell_type": "code",
      "metadata": {
        "id": "ZTK75atBTaLS"
      },
      "source": [
        "from sklearn.metrics import confusion_matrix"
      ],
      "execution_count": 35,
      "outputs": []
    },
    {
      "cell_type": "code",
      "metadata": {
        "id": "Dur2LlgVQOY_"
      },
      "source": [
        "y_pred = [1 if e > 10 else 0 for e in error_df.euclidian]"
      ],
      "execution_count": 36,
      "outputs": []
    },
    {
      "cell_type": "code",
      "metadata": {
        "id": "uXQq6ZHNTcQ5",
        "colab": {
          "base_uri": "https://localhost:8080/",
          "height": 355
        },
        "outputId": "465e760b-9c95-488d-c566-391d305b03cd"
      },
      "source": [
        "conf_matrix = confusion_matrix(error_df.true_class, y_pred)\n",
        "\n",
        "LABELS = [\"Normal\", \"Fraud\"]\n",
        "\n",
        "plt.figure(figsize=(5, 5))\n",
        "sns.heatmap(conf_matrix, xticklabels=LABELS, yticklabels=LABELS, annot=True, fmt=\"d\");\n",
        "plt.title(\"Confusion matrix\")\n",
        "plt.ylabel('True class')\n",
        "plt.xlabel('Predicted class')\n",
        "plt.savefig('confusion_autoenc_3.8-12.pdf')\n",
        "#plt.show()"
      ],
      "execution_count": 38,
      "outputs": [
        {
          "output_type": "display_data",
          "data": {
            "image/png": "[encoded data removed]",
            "text/plain": [
              "<Figure size 360x360 with 2 Axes>"
            ]
          },
          "metadata": {
            "tags": []
          }
        }
      ]
    },
    {
      "cell_type": "code",
      "metadata": {
        "id": "6fCELNfqWCnE"
      },
      "source": [
        ""
      ],
      "execution_count": null,
      "outputs": []
    }
  ]
}