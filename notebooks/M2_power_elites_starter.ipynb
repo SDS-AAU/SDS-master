{
  "nbformat": 4,
  "nbformat_minor": 0,
  "metadata": {
    "colab": {
      "name": "M2 W1 Elites",
      "provenance": [],
      "include_colab_link": true
    },
    "kernelspec": {
      "name": "python3",
      "display_name": "Python 3"
    }
  },
  "cells": [
    {
      "cell_type": "markdown",
      "metadata": {
        "id": "view-in-github",
        "colab_type": "text"
      },
      "source": [
        "<a href=\"https://colab.research.google.com/github/SDS-AAU/SDS-master/blob/master/notebooks/M2_power_elites_starter.ipynb\" target=\"_parent\"><img src=\"https://colab.research.google.com/assets/colab-badge.svg\" alt=\"Open In Colab\"/></a>"
      ]
    },
    {
      "cell_type": "code",
      "source": [
        "!pip install --upgrade scipy -q"
      ],
      "metadata": {
        "id": "9gW8HgfZ1AsZ",
        "outputId": "a9a81789-0f9c-42e7-d630-b8b485eb6448",
        "colab": {
          "base_uri": "https://localhost:8080/"
        }
      },
      "execution_count": 5,
      "outputs": [
        {
          "output_type": "stream",
          "name": "stdout",
          "text": [
            "\u001b[2K     \u001b[90m━━━━━━━━━━━━━━━━━━━━━━━━━━━━━━━━━━━━━━━━\u001b[0m \u001b[32m34.5/34.5 MB\u001b[0m \u001b[31m21.2 MB/s\u001b[0m eta \u001b[36m0:00:00\u001b[0m\n",
            "\u001b[?25h"
          ]
        }
      ]
    },
    {
      "cell_type": "code",
      "metadata": {
        "id": "-pVYKatak1YA"
      },
      "source": [
        "# Basic packaging for network exploration\n",
        "import pandas as pd\n",
        "import networkx as nx\n",
        "from community import community_louvain\n",
        "\n",
        "import altair as alt"
      ],
      "execution_count": 6,
      "outputs": []
    },
    {
      "cell_type": "markdown",
      "metadata": {
        "id": "eY8fsaxHeoqV"
      },
      "source": [
        "# Exploring the graph of Danish Power Elites\n",
        "\n",
        "![](https://source.unsplash.com/GWe0dlVD9e0)\n",
        "\n",
        "> Many people dream of being one of them, but only few make it all the way to the top. According to two CBS researchers, it takes more than just hard work to get to the top of the Danish hierarchy of power. [read more](https://www.cbs.dk/en/alumni/news/a-look-the-danish-power-elite)\n",
        "\n",
        "In this project we are going to construct and explore a network of Danish power elites derived from boards of various organisations in th country.\n",
        "We will construct an association network: Who is being in the same board? And first explore \"basic\" centrality indicators. Then identify communities and central persons within those. Finally we look at some \"fancier\" interactive network visualisation.\n",
        "\n",
        "In this tutorial we will be using some more advanced Pandas techniques that may be new for you. Use the documentation if in doubt.\n",
        "\n",
        "You can read some related research [here](https://research-api.cbs.dk/ws/portalfiles/portal/57663543/anton_grau_larsen_and_christoph_houmann_ellersgaard_who_listens_to_the_top_acceptedversion.pdf)\n",
        "\n"
      ]
    },
    {
      "cell_type": "markdown",
      "source": [
        "# Obtaining exploring data"
      ],
      "metadata": {
        "id": "vvMqIVH4e1fQ"
      }
    },
    {
      "cell_type": "markdown",
      "metadata": {
        "id": "Ohh6L8pAnMIE"
      },
      "source": [
        "## Loading the data"
      ]
    },
    {
      "cell_type": "code",
      "metadata": {
        "id": "SputCjrhk8WF",
        "colab": {
          "base_uri": "https://localhost:8080/",
          "height": 548
        },
        "outputId": "4e2766fb-9cef-4bbf-a191-2044a564c0fb"
      },
      "source": [
        "# Import data :-) and quick check\n",
        "data = pd.read_csv('https://raw.githubusercontent.com/SDS-AAU/SDS-master/master/00_data/networks/elite_den17.csv')\n",
        "data.head()"
      ],
      "execution_count": 8,
      "outputs": [
        {
          "output_type": "execute_result",
          "data": {
            "text/plain": [
              "               NAME                                        AFFILIATION  \\\n",
              "0      Aage Almtoft                              Middelfart Sparekasse   \n",
              "1  Aage B. Andersen  Foreningen Østifterne - Repræsentantskab (Medl...   \n",
              "2  Aage Christensen                                  ÅRHUS SØMANDSHJEM   \n",
              "3          Aage Dam  Brancheforeningen automatik, tryk & transmissi...   \n",
              "4          Aage Dam                         Dansk Erhverv (bestyrelse)   \n",
              "\n",
              "       ROLE                                              TAGS  POSITION_ID  \\\n",
              "0    Member                 Corporation, FINA, Banks, Finance            1   \n",
              "1    Member    Charity, Foundation, Insurance, Socialomraadet            4   \n",
              "2  Chairman                       Foundation, Marine, Tourism            6   \n",
              "3  Chairman  Business association, Interest group, Technology            8   \n",
              "4    Member                             Employers association            9   \n",
              "\n",
              "       ID        SECTOR          TYPE  \\\n",
              "0   95023  Corporations           NaN   \n",
              "1   67511           NGO  Organisation   \n",
              "2  100903   Foundations           NaN   \n",
              "3   69156           NGO  Organisation   \n",
              "4   72204           NGO          Stat   \n",
              "\n",
              "                                         DESCRIPTION               CREATED  \\\n",
              "0  Automatisk CVR import at 2016-03-12 18:01:28: ...  2016-03-12T18:01:28Z   \n",
              "1                                           Direktør  2016-02-05T14:45:10Z   \n",
              "2  Automatisk CVR import at 2016-03-12 18:08:31: ...  2016-03-12T18:08:31Z   \n",
              "3    Formand, Adm. direktør, Bürkert Contromatic A/S  2016-02-10T15:18:47Z   \n",
              "4        Adm. dir. Aage Dam- Bürkert-Contromatic A/S  2016-02-16T10:49:01Z   \n",
              "\n",
              "   ARCHIVED          LAST_CHECKED    CVR_PERSON  CVR_AFFILIATION  PERSON_ID  \\\n",
              "0       NaN  2017-11-09T15:38:01Z  4.003984e+09       24744817.0          1   \n",
              "1       NaN  2016-02-12T14:41:09Z           NaN              NaN          3   \n",
              "2       NaN  2017-11-09T15:50:09Z  4.000054e+09       29094411.0          4   \n",
              "3       NaN  2016-02-10T14:19:20Z           NaN              NaN          5   \n",
              "4       NaN  2016-02-16T11:55:34Z           NaN       43232010.0          5   \n",
              "\n",
              "   AFFILIATION_ID  \n",
              "0            3687  \n",
              "1            2528  \n",
              "2             237  \n",
              "3             469  \n",
              "4            1041  "
            ],
            "text/html": [
              "\n",
              "  <div id=\"df-d012d8e1-b7a9-4829-995d-c4acc38de733\">\n",
              "    <div class=\"colab-df-container\">\n",
              "      <div>\n",
              "<style scoped>\n",
              "    .dataframe tbody tr th:only-of-type {\n",
              "        vertical-align: middle;\n",
              "    }\n",
              "\n",
              "    .dataframe tbody tr th {\n",
              "        vertical-align: top;\n",
              "    }\n",
              "\n",
              "    .dataframe thead th {\n",
              "        text-align: right;\n",
              "    }\n",
              "</style>\n",
              "<table border=\"1\" class=\"dataframe\">\n",
              "  <thead>\n",
              "    <tr style=\"text-align: right;\">\n",
              "      <th></th>\n",
              "      <th>NAME</th>\n",
              "      <th>AFFILIATION</th>\n",
              "      <th>ROLE</th>\n",
              "      <th>TAGS</th>\n",
              "      <th>POSITION_ID</th>\n",
              "      <th>ID</th>\n",
              "      <th>SECTOR</th>\n",
              "      <th>TYPE</th>\n",
              "      <th>DESCRIPTION</th>\n",
              "      <th>CREATED</th>\n",
              "      <th>ARCHIVED</th>\n",
              "      <th>LAST_CHECKED</th>\n",
              "      <th>CVR_PERSON</th>\n",
              "      <th>CVR_AFFILIATION</th>\n",
              "      <th>PERSON_ID</th>\n",
              "      <th>AFFILIATION_ID</th>\n",
              "    </tr>\n",
              "  </thead>\n",
              "  <tbody>\n",
              "    <tr>\n",
              "      <th>0</th>\n",
              "      <td>Aage Almtoft</td>\n",
              "      <td>Middelfart Sparekasse</td>\n",
              "      <td>Member</td>\n",
              "      <td>Corporation, FINA, Banks, Finance</td>\n",
              "      <td>1</td>\n",
              "      <td>95023</td>\n",
              "      <td>Corporations</td>\n",
              "      <td>NaN</td>\n",
              "      <td>Automatisk CVR import at 2016-03-12 18:01:28: ...</td>\n",
              "      <td>2016-03-12T18:01:28Z</td>\n",
              "      <td>NaN</td>\n",
              "      <td>2017-11-09T15:38:01Z</td>\n",
              "      <td>4.003984e+09</td>\n",
              "      <td>24744817.0</td>\n",
              "      <td>1</td>\n",
              "      <td>3687</td>\n",
              "    </tr>\n",
              "    <tr>\n",
              "      <th>1</th>\n",
              "      <td>Aage B. Andersen</td>\n",
              "      <td>Foreningen Østifterne - Repræsentantskab (Medl...</td>\n",
              "      <td>Member</td>\n",
              "      <td>Charity, Foundation, Insurance, Socialomraadet</td>\n",
              "      <td>4</td>\n",
              "      <td>67511</td>\n",
              "      <td>NGO</td>\n",
              "      <td>Organisation</td>\n",
              "      <td>Direktør</td>\n",
              "      <td>2016-02-05T14:45:10Z</td>\n",
              "      <td>NaN</td>\n",
              "      <td>2016-02-12T14:41:09Z</td>\n",
              "      <td>NaN</td>\n",
              "      <td>NaN</td>\n",
              "      <td>3</td>\n",
              "      <td>2528</td>\n",
              "    </tr>\n",
              "    <tr>\n",
              "      <th>2</th>\n",
              "      <td>Aage Christensen</td>\n",
              "      <td>ÅRHUS SØMANDSHJEM</td>\n",
              "      <td>Chairman</td>\n",
              "      <td>Foundation, Marine, Tourism</td>\n",
              "      <td>6</td>\n",
              "      <td>100903</td>\n",
              "      <td>Foundations</td>\n",
              "      <td>NaN</td>\n",
              "      <td>Automatisk CVR import at 2016-03-12 18:08:31: ...</td>\n",
              "      <td>2016-03-12T18:08:31Z</td>\n",
              "      <td>NaN</td>\n",
              "      <td>2017-11-09T15:50:09Z</td>\n",
              "      <td>4.000054e+09</td>\n",
              "      <td>29094411.0</td>\n",
              "      <td>4</td>\n",
              "      <td>237</td>\n",
              "    </tr>\n",
              "    <tr>\n",
              "      <th>3</th>\n",
              "      <td>Aage Dam</td>\n",
              "      <td>Brancheforeningen automatik, tryk &amp; transmissi...</td>\n",
              "      <td>Chairman</td>\n",
              "      <td>Business association, Interest group, Technology</td>\n",
              "      <td>8</td>\n",
              "      <td>69156</td>\n",
              "      <td>NGO</td>\n",
              "      <td>Organisation</td>\n",
              "      <td>Formand, Adm. direktør, Bürkert Contromatic A/S</td>\n",
              "      <td>2016-02-10T15:18:47Z</td>\n",
              "      <td>NaN</td>\n",
              "      <td>2016-02-10T14:19:20Z</td>\n",
              "      <td>NaN</td>\n",
              "      <td>NaN</td>\n",
              "      <td>5</td>\n",
              "      <td>469</td>\n",
              "    </tr>\n",
              "    <tr>\n",
              "      <th>4</th>\n",
              "      <td>Aage Dam</td>\n",
              "      <td>Dansk Erhverv (bestyrelse)</td>\n",
              "      <td>Member</td>\n",
              "      <td>Employers association</td>\n",
              "      <td>9</td>\n",
              "      <td>72204</td>\n",
              "      <td>NGO</td>\n",
              "      <td>Stat</td>\n",
              "      <td>Adm. dir. Aage Dam- Bürkert-Contromatic A/S</td>\n",
              "      <td>2016-02-16T10:49:01Z</td>\n",
              "      <td>NaN</td>\n",
              "      <td>2016-02-16T11:55:34Z</td>\n",
              "      <td>NaN</td>\n",
              "      <td>43232010.0</td>\n",
              "      <td>5</td>\n",
              "      <td>1041</td>\n",
              "    </tr>\n",
              "  </tbody>\n",
              "</table>\n",
              "</div>\n",
              "      <button class=\"colab-df-convert\" onclick=\"convertToInteractive('df-d012d8e1-b7a9-4829-995d-c4acc38de733')\"\n",
              "              title=\"Convert this dataframe to an interactive table.\"\n",
              "              style=\"display:none;\">\n",
              "        \n",
              "  <svg xmlns=\"http://www.w3.org/2000/svg\" height=\"24px\"viewBox=\"0 0 24 24\"\n",
              "       width=\"24px\">\n",
              "    <path d=\"M0 0h24v24H0V0z\" fill=\"none\"/>\n",
              "    <path d=\"M18.56 5.44l.94 2.06.94-2.06 2.06-.94-2.06-.94-.94-2.06-.94 2.06-2.06.94zm-11 1L8.5 8.5l.94-2.06 2.06-.94-2.06-.94L8.5 2.5l-.94 2.06-2.06.94zm10 10l.94 2.06.94-2.06 2.06-.94-2.06-.94-.94-2.06-.94 2.06-2.06.94z\"/><path d=\"M17.41 7.96l-1.37-1.37c-.4-.4-.92-.59-1.43-.59-.52 0-1.04.2-1.43.59L10.3 9.45l-7.72 7.72c-.78.78-.78 2.05 0 2.83L4 21.41c.39.39.9.59 1.41.59.51 0 1.02-.2 1.41-.59l7.78-7.78 2.81-2.81c.8-.78.8-2.07 0-2.86zM5.41 20L4 18.59l7.72-7.72 1.47 1.35L5.41 20z\"/>\n",
              "  </svg>\n",
              "      </button>\n",
              "      \n",
              "  <style>\n",
              "    .colab-df-container {\n",
              "      display:flex;\n",
              "      flex-wrap:wrap;\n",
              "      gap: 12px;\n",
              "    }\n",
              "\n",
              "    .colab-df-convert {\n",
              "      background-color: #E8F0FE;\n",
              "      border: none;\n",
              "      border-radius: 50%;\n",
              "      cursor: pointer;\n",
              "      display: none;\n",
              "      fill: #1967D2;\n",
              "      height: 32px;\n",
              "      padding: 0 0 0 0;\n",
              "      width: 32px;\n",
              "    }\n",
              "\n",
              "    .colab-df-convert:hover {\n",
              "      background-color: #E2EBFA;\n",
              "      box-shadow: 0px 1px 2px rgba(60, 64, 67, 0.3), 0px 1px 3px 1px rgba(60, 64, 67, 0.15);\n",
              "      fill: #174EA6;\n",
              "    }\n",
              "\n",
              "    [theme=dark] .colab-df-convert {\n",
              "      background-color: #3B4455;\n",
              "      fill: #D2E3FC;\n",
              "    }\n",
              "\n",
              "    [theme=dark] .colab-df-convert:hover {\n",
              "      background-color: #434B5C;\n",
              "      box-shadow: 0px 1px 3px 1px rgba(0, 0, 0, 0.15);\n",
              "      filter: drop-shadow(0px 1px 2px rgba(0, 0, 0, 0.3));\n",
              "      fill: #FFFFFF;\n",
              "    }\n",
              "  </style>\n",
              "\n",
              "      <script>\n",
              "        const buttonEl =\n",
              "          document.querySelector('#df-d012d8e1-b7a9-4829-995d-c4acc38de733 button.colab-df-convert');\n",
              "        buttonEl.style.display =\n",
              "          google.colab.kernel.accessAllowed ? 'block' : 'none';\n",
              "\n",
              "        async function convertToInteractive(key) {\n",
              "          const element = document.querySelector('#df-d012d8e1-b7a9-4829-995d-c4acc38de733');\n",
              "          const dataTable =\n",
              "            await google.colab.kernel.invokeFunction('convertToInteractive',\n",
              "                                                     [key], {});\n",
              "          if (!dataTable) return;\n",
              "\n",
              "          const docLinkHtml = 'Like what you see? Visit the ' +\n",
              "            '<a target=\"_blank\" href=https://colab.research.google.com/notebooks/data_table.ipynb>data table notebook</a>'\n",
              "            + ' to learn more about interactive tables.';\n",
              "          element.innerHTML = '';\n",
              "          dataTable['output_type'] = 'display_data';\n",
              "          await google.colab.output.renderOutput(dataTable, element);\n",
              "          const docLink = document.createElement('div');\n",
              "          docLink.innerHTML = docLinkHtml;\n",
              "          element.appendChild(docLink);\n",
              "        }\n",
              "      </script>\n",
              "    </div>\n",
              "  </div>\n",
              "  "
            ]
          },
          "metadata": {},
          "execution_count": 8
        }
      ]
    },
    {
      "cell_type": "markdown",
      "metadata": {
        "id": "NESXkEyMhj0f"
      },
      "source": [
        "As we can see each person has different attributes, among others IDs and affiliation IDs. There are also data for sector and role tha we could use for filtering or EDA."
      ]
    },
    {
      "cell_type": "code",
      "source": [
        "data['AFFILIATION'].value_counts(ascending=False).nlargest(20)"
      ],
      "metadata": {
        "colab": {
          "base_uri": "https://localhost:8080/"
        },
        "id": "-wfQha1jj90h",
        "outputId": "45de286b-7b70-46aa-84e6-544abde3c8d2"
      },
      "execution_count": null,
      "outputs": [
        {
          "output_type": "execute_result",
          "data": {
            "text/plain": [
              "H.M. Dronningens 75-års fødselsdag                                                           803\n",
              "Axcelfuture - konferencedeltagere                                                            332\n",
              "Gallatafler ved statsbesøg (2016-17) I                                                       250\n",
              "Uddannelses- og Forskningsministeriet (Kvalifikationsnævnet - Medlemmer)                     232\n",
              "Miljø- og Fødevareministeriet (Natur- og Miljøklagenævnet - Den sagkyndige sammensætning)    214\n",
              "Folketingets Presseloge (Institutioner under Folketinget) (Medlemmer)                        199\n",
              "Reception på Kongeskibet Dannebrog (2017)                                                    196\n",
              "Gallatafler ved statsbesøg (2016-17) II                                                      195\n",
              "Landvind i en ny virkelighed (Konference)                                                    148\n",
              "Nytårskur og -taffel (2016 – 2018)                                                           146\n",
              "Venstre (Hovedbestyrelse)                                                                    142\n",
              "Sø- og Handelsretten (Sagkyndige dommere)                                                    141\n",
              "DLG - Repræsentantskab (Medlemmer)                                                           133\n",
              "Jyske Bank - Advisory Board (Repræsentantskab) (Medlemmer)                                   131\n",
              "Kammerherrer                                                                                 123\n",
              "TRE-FOR (Repræsentantskab)                                                                   119\n",
              "Flygtningenævnet (Medlemmer)                                                                 111\n",
              "CBS Bestyrelsesuddannelsers Faculty                                                          111\n",
              "REALDANIA (Repræsentantskab)                                                                 108\n",
              "Patientskadeankenævnet - Medlemmer                                                           101\n",
              "Name: AFFILIATION, dtype: int64"
            ]
          },
          "metadata": {},
          "execution_count": 4
        }
      ]
    },
    {
      "cell_type": "code",
      "source": [
        "data['SECTOR'].value_counts(ascending=False)"
      ],
      "metadata": {
        "colab": {
          "base_uri": "https://localhost:8080/"
        },
        "id": "rUGknLctkf9M",
        "outputId": "b393b89a-61c4-4294-a552-6b7c04255ea5"
      },
      "execution_count": 9,
      "outputs": [
        {
          "output_type": "execute_result",
          "data": {
            "text/plain": [
              "NGO             17720\n",
              "State           13601\n",
              "Corporations     7989\n",
              "Foundations      6987\n",
              "VL_networks      3803\n",
              "Events           1948\n",
              "Parliament       1087\n",
              "Commissions       795\n",
              "Municipal         320\n",
              "Family            207\n",
              "Politics           37\n",
              "Organisation        6\n",
              "Name: SECTOR, dtype: int64"
            ]
          },
          "metadata": {},
          "execution_count": 9
        }
      ]
    },
    {
      "cell_type": "code",
      "source": [
        "# this would be the way for you to subset for corporate affiliation (which also have CVR numbers)\n",
        "data = data.query('SECTOR == \"Corporations\"')\n",
        "data = data.dropna(subset = ['CVR_AFFILIATION'])"
      ],
      "metadata": {
        "id": "LU7PIL6vlbcW"
      },
      "execution_count": 10,
      "outputs": []
    },
    {
      "cell_type": "code",
      "source": [
        "data['AFFILIATION'].value_counts(ascending=False).nlargest(20)"
      ],
      "metadata": {
        "colab": {
          "base_uri": "https://localhost:8080/"
        },
        "id": "RVlXUzMplvIn",
        "outputId": "1d770a8b-b2c2-4dd9-acdd-5df0080c84f2"
      },
      "execution_count": 11,
      "outputs": [
        {
          "output_type": "execute_result",
          "data": {
            "text/plain": [
              "Kromann Reumert                     55\n",
              "Bech-Bruun                          54\n",
              "Gorrissen Federspiel                40\n",
              "Plesner                             40\n",
              "EnergiMidt                          31\n",
              "Lett Law Firm                       27\n",
              "Syd Energi (SE)                     24\n",
              "TDC (note)                          24\n",
              "Bruun & Hjejle                      23\n",
              "Dansk Retursystem                   22\n",
              "Alm. Brand                          22\n",
              "Danske Bank                         21\n",
              "SEAS-NVE                            20\n",
              "Rønne & Lundgren                    20\n",
              "Nykredit Realkredit (Bestyrelse)    20\n",
              "Carlsberg                           19\n",
              "Naturgas Fyn                        19\n",
              "PensionDanmark                      19\n",
              "Vandcenter Syd                      19\n",
              "Novo Nordisk                        18\n",
              "Name: AFFILIATION, dtype: int64"
            ]
          },
          "metadata": {},
          "execution_count": 11
        }
      ]
    },
    {
      "cell_type": "code",
      "source": [
        "data['NAME'].value_counts(ascending=False).nlargest(20)"
      ],
      "metadata": {
        "colab": {
          "base_uri": "https://localhost:8080/"
        },
        "id": "fku-KULkmyRt",
        "outputId": "96a4108a-0468-457d-d86d-5759a8a09d80"
      },
      "execution_count": 12,
      "outputs": [
        {
          "output_type": "execute_result",
          "data": {
            "text/plain": [
              "Karen Frøsig                  7\n",
              "Gert Rinaldo Jonassen         7\n",
              "Jeppe Christiansen            6\n",
              "Michael Christiansen 25501    6\n",
              "Henning Kruse Petersen        6\n",
              "Jørgen Huno Rasmussen         5\n",
              "Anders Christen Obel          5\n",
              "Niels Thomas Heering          5\n",
              "Preben Sunke                  5\n",
              "Jens Bjerg Sørensen           5\n",
              "Lars Nørby Johansen           5\n",
              "Jørn Ankær Thomsen            5\n",
              "Niels Jørgen Kornerup         5\n",
              "John Christiansen 16895       5\n",
              "Kim Simonsen                  5\n",
              "Lasse Nyby                    5\n",
              "Niels Jacobsen 27459          5\n",
              "David Hellemann               5\n",
              "Hans Henrik Kjølby 10930      5\n",
              "John Bull Fisker              5\n",
              "Name: NAME, dtype: int64"
            ]
          },
          "metadata": {},
          "execution_count": 12
        }
      ]
    },
    {
      "cell_type": "markdown",
      "source": [
        "## EDA"
      ],
      "metadata": {
        "id": "bp7MMjQyh9Lo"
      }
    },
    {
      "cell_type": "code",
      "source": [
        "toplot = data['AFFILIATION'].value_counts(ascending=False).nlargest(20).reset_index()\n",
        "alt.Chart(toplot).mark_bar().encode(\n",
        "    x='index:N',\n",
        "    y='AFFILIATION:Q'\n",
        ")"
      ],
      "metadata": {
        "id": "jkw8V7jwnPe-",
        "outputId": "c4d2b120-a871-4824-d104-0cc75fa4e5f0",
        "colab": {
          "base_uri": "https://localhost:8080/",
          "height": 500
        }
      },
      "execution_count": 13,
      "outputs": [
        {
          "output_type": "execute_result",
          "data": {
            "text/html": [
              "\n",
              "<div id=\"altair-viz-a5842aa39886489f9aae7c079970b69f\"></div>\n",
              "<script type=\"text/javascript\">\n",
              "  var VEGA_DEBUG = (typeof VEGA_DEBUG == \"undefined\") ? {} : VEGA_DEBUG;\n",
              "  (function(spec, embedOpt){\n",
              "    let outputDiv = document.currentScript.previousElementSibling;\n",
              "    if (outputDiv.id !== \"altair-viz-a5842aa39886489f9aae7c079970b69f\") {\n",
              "      outputDiv = document.getElementById(\"altair-viz-a5842aa39886489f9aae7c079970b69f\");\n",
              "    }\n",
              "    const paths = {\n",
              "      \"vega\": \"https://cdn.jsdelivr.net/npm//vega@5?noext\",\n",
              "      \"vega-lib\": \"https://cdn.jsdelivr.net/npm//vega-lib?noext\",\n",
              "      \"vega-lite\": \"https://cdn.jsdelivr.net/npm//vega-lite@4.17.0?noext\",\n",
              "      \"vega-embed\": \"https://cdn.jsdelivr.net/npm//vega-embed@6?noext\",\n",
              "    };\n",
              "\n",
              "    function maybeLoadScript(lib, version) {\n",
              "      var key = `${lib.replace(\"-\", \"\")}_version`;\n",
              "      return (VEGA_DEBUG[key] == version) ?\n",
              "        Promise.resolve(paths[lib]) :\n",
              "        new Promise(function(resolve, reject) {\n",
              "          var s = document.createElement('script');\n",
              "          document.getElementsByTagName(\"head\")[0].appendChild(s);\n",
              "          s.async = true;\n",
              "          s.onload = () => {\n",
              "            VEGA_DEBUG[key] = version;\n",
              "            return resolve(paths[lib]);\n",
              "          };\n",
              "          s.onerror = () => reject(`Error loading script: ${paths[lib]}`);\n",
              "          s.src = paths[lib];\n",
              "        });\n",
              "    }\n",
              "\n",
              "    function showError(err) {\n",
              "      outputDiv.innerHTML = `<div class=\"error\" style=\"color:red;\">${err}</div>`;\n",
              "      throw err;\n",
              "    }\n",
              "\n",
              "    function displayChart(vegaEmbed) {\n",
              "      vegaEmbed(outputDiv, spec, embedOpt)\n",
              "        .catch(err => showError(`Javascript Error: ${err.message}<br>This usually means there's a typo in your chart specification. See the javascript console for the full traceback.`));\n",
              "    }\n",
              "\n",
              "    if(typeof define === \"function\" && define.amd) {\n",
              "      requirejs.config({paths});\n",
              "      require([\"vega-embed\"], displayChart, err => showError(`Error loading script: ${err.message}`));\n",
              "    } else {\n",
              "      maybeLoadScript(\"vega\", \"5\")\n",
              "        .then(() => maybeLoadScript(\"vega-lite\", \"4.17.0\"))\n",
              "        .then(() => maybeLoadScript(\"vega-embed\", \"6\"))\n",
              "        .catch(showError)\n",
              "        .then(() => displayChart(vegaEmbed));\n",
              "    }\n",
              "  })({\"config\": {\"view\": {\"continuousWidth\": 400, \"continuousHeight\": 300}}, \"data\": {\"name\": \"data-f7abedbd8534dff32d23135a428de1ce\"}, \"mark\": \"bar\", \"encoding\": {\"x\": {\"field\": \"index\", \"type\": \"nominal\"}, \"y\": {\"field\": \"AFFILIATION\", \"type\": \"quantitative\"}}, \"$schema\": \"https://vega.github.io/schema/vega-lite/v4.17.0.json\", \"datasets\": {\"data-f7abedbd8534dff32d23135a428de1ce\": [{\"index\": \"Kromann Reumert\", \"AFFILIATION\": 55}, {\"index\": \"Bech-Bruun\", \"AFFILIATION\": 54}, {\"index\": \"Gorrissen Federspiel\", \"AFFILIATION\": 40}, {\"index\": \"Plesner\", \"AFFILIATION\": 40}, {\"index\": \"EnergiMidt\", \"AFFILIATION\": 31}, {\"index\": \"Lett Law Firm\", \"AFFILIATION\": 27}, {\"index\": \"Syd Energi (SE)\", \"AFFILIATION\": 24}, {\"index\": \"TDC (note)\", \"AFFILIATION\": 24}, {\"index\": \"Bruun & Hjejle\", \"AFFILIATION\": 23}, {\"index\": \"Dansk Retursystem\", \"AFFILIATION\": 22}, {\"index\": \"Alm. Brand\", \"AFFILIATION\": 22}, {\"index\": \"Danske Bank\", \"AFFILIATION\": 21}, {\"index\": \"SEAS-NVE\", \"AFFILIATION\": 20}, {\"index\": \"R\\u00f8nne & Lundgren\", \"AFFILIATION\": 20}, {\"index\": \"Nykredit Realkredit (Bestyrelse)\", \"AFFILIATION\": 20}, {\"index\": \"Carlsberg\", \"AFFILIATION\": 19}, {\"index\": \"Naturgas Fyn\", \"AFFILIATION\": 19}, {\"index\": \"PensionDanmark\", \"AFFILIATION\": 19}, {\"index\": \"Vandcenter Syd\", \"AFFILIATION\": 19}, {\"index\": \"Novo Nordisk\", \"AFFILIATION\": 18}]}}, {\"mode\": \"vega-lite\"});\n",
              "</script>"
            ],
            "text/plain": [
              "alt.Chart(...)"
            ]
          },
          "metadata": {},
          "execution_count": 13
        }
      ]
    },
    {
      "cell_type": "markdown",
      "source": [
        "## Edgelist construction"
      ],
      "metadata": {
        "id": "wBOQezn5gGfK"
      }
    },
    {
      "cell_type": "markdown",
      "metadata": {
        "id": "CllL62IaisyZ"
      },
      "source": [
        "Given that each person and affiliation have unique IDs, we have perfect input for network construction\n",
        "\n",
        "\n"
      ]
    },
    {
      "cell_type": "code",
      "metadata": {
        "id": "lp8p1q2gss_5"
      },
      "source": [
        "# select name and IDs\n",
        "data_select = data[['NAME', 'PERSON_ID', 'AFFILIATION_ID']]"
      ],
      "execution_count": 14,
      "outputs": []
    },
    {
      "cell_type": "markdown",
      "metadata": {
        "id": "RczA4x8_i7dC"
      },
      "source": [
        "We can create an edge dataframe utilising a \"trick\" where we merge the dataframe with itself using `AFFILIATION_ID` as key. The only thing that we then need to remove are self-links since a person can not really be in a board with itself.\n",
        "\n",
        "The initial dataframe has ~60 rows. The new after the merger ~160k. That looks promising."
      ]
    },
    {
      "cell_type": "code",
      "metadata": {
        "id": "znWq2naJsmjB",
        "colab": {
          "base_uri": "https://localhost:8080/",
          "height": 206
        },
        "outputId": "736a08a4-85be-4e29-dd8b-cbe377f8085d"
      },
      "source": [
        "# create edge DF by merge with itself.\n",
        "edges = pd.merge(data_select, data_select, on='AFFILIATION_ID')\n",
        "edges.head()"
      ],
      "execution_count": 15,
      "outputs": [
        {
          "output_type": "execute_result",
          "data": {
            "text/plain": [
              "         NAME_x  PERSON_ID_x  AFFILIATION_ID                  NAME_y  \\\n",
              "0  Aage Almtoft            1            3687            Aage Almtoft   \n",
              "1  Aage Almtoft            1            3687              Allan Buch   \n",
              "2  Aage Almtoft            1            3687     Bo Skovby Rosendahl   \n",
              "3  Aage Almtoft            1            3687           Bo Smith 4493   \n",
              "4  Aage Almtoft            1            3687  Martin Nørholm Baltser   \n",
              "\n",
              "   PERSON_ID_y  \n",
              "0            1  \n",
              "1          311  \n",
              "2         4491  \n",
              "3         4493  \n",
              "4        24816  "
            ],
            "text/html": [
              "\n",
              "  <div id=\"df-0acdd4e1-0c60-49d3-9188-0428f22f1a4c\">\n",
              "    <div class=\"colab-df-container\">\n",
              "      <div>\n",
              "<style scoped>\n",
              "    .dataframe tbody tr th:only-of-type {\n",
              "        vertical-align: middle;\n",
              "    }\n",
              "\n",
              "    .dataframe tbody tr th {\n",
              "        vertical-align: top;\n",
              "    }\n",
              "\n",
              "    .dataframe thead th {\n",
              "        text-align: right;\n",
              "    }\n",
              "</style>\n",
              "<table border=\"1\" class=\"dataframe\">\n",
              "  <thead>\n",
              "    <tr style=\"text-align: right;\">\n",
              "      <th></th>\n",
              "      <th>NAME_x</th>\n",
              "      <th>PERSON_ID_x</th>\n",
              "      <th>AFFILIATION_ID</th>\n",
              "      <th>NAME_y</th>\n",
              "      <th>PERSON_ID_y</th>\n",
              "    </tr>\n",
              "  </thead>\n",
              "  <tbody>\n",
              "    <tr>\n",
              "      <th>0</th>\n",
              "      <td>Aage Almtoft</td>\n",
              "      <td>1</td>\n",
              "      <td>3687</td>\n",
              "      <td>Aage Almtoft</td>\n",
              "      <td>1</td>\n",
              "    </tr>\n",
              "    <tr>\n",
              "      <th>1</th>\n",
              "      <td>Aage Almtoft</td>\n",
              "      <td>1</td>\n",
              "      <td>3687</td>\n",
              "      <td>Allan Buch</td>\n",
              "      <td>311</td>\n",
              "    </tr>\n",
              "    <tr>\n",
              "      <th>2</th>\n",
              "      <td>Aage Almtoft</td>\n",
              "      <td>1</td>\n",
              "      <td>3687</td>\n",
              "      <td>Bo Skovby Rosendahl</td>\n",
              "      <td>4491</td>\n",
              "    </tr>\n",
              "    <tr>\n",
              "      <th>3</th>\n",
              "      <td>Aage Almtoft</td>\n",
              "      <td>1</td>\n",
              "      <td>3687</td>\n",
              "      <td>Bo Smith 4493</td>\n",
              "      <td>4493</td>\n",
              "    </tr>\n",
              "    <tr>\n",
              "      <th>4</th>\n",
              "      <td>Aage Almtoft</td>\n",
              "      <td>1</td>\n",
              "      <td>3687</td>\n",
              "      <td>Martin Nørholm Baltser</td>\n",
              "      <td>24816</td>\n",
              "    </tr>\n",
              "  </tbody>\n",
              "</table>\n",
              "</div>\n",
              "      <button class=\"colab-df-convert\" onclick=\"convertToInteractive('df-0acdd4e1-0c60-49d3-9188-0428f22f1a4c')\"\n",
              "              title=\"Convert this dataframe to an interactive table.\"\n",
              "              style=\"display:none;\">\n",
              "        \n",
              "  <svg xmlns=\"http://www.w3.org/2000/svg\" height=\"24px\"viewBox=\"0 0 24 24\"\n",
              "       width=\"24px\">\n",
              "    <path d=\"M0 0h24v24H0V0z\" fill=\"none\"/>\n",
              "    <path d=\"M18.56 5.44l.94 2.06.94-2.06 2.06-.94-2.06-.94-.94-2.06-.94 2.06-2.06.94zm-11 1L8.5 8.5l.94-2.06 2.06-.94-2.06-.94L8.5 2.5l-.94 2.06-2.06.94zm10 10l.94 2.06.94-2.06 2.06-.94-2.06-.94-.94-2.06-.94 2.06-2.06.94z\"/><path d=\"M17.41 7.96l-1.37-1.37c-.4-.4-.92-.59-1.43-.59-.52 0-1.04.2-1.43.59L10.3 9.45l-7.72 7.72c-.78.78-.78 2.05 0 2.83L4 21.41c.39.39.9.59 1.41.59.51 0 1.02-.2 1.41-.59l7.78-7.78 2.81-2.81c.8-.78.8-2.07 0-2.86zM5.41 20L4 18.59l7.72-7.72 1.47 1.35L5.41 20z\"/>\n",
              "  </svg>\n",
              "      </button>\n",
              "      \n",
              "  <style>\n",
              "    .colab-df-container {\n",
              "      display:flex;\n",
              "      flex-wrap:wrap;\n",
              "      gap: 12px;\n",
              "    }\n",
              "\n",
              "    .colab-df-convert {\n",
              "      background-color: #E8F0FE;\n",
              "      border: none;\n",
              "      border-radius: 50%;\n",
              "      cursor: pointer;\n",
              "      display: none;\n",
              "      fill: #1967D2;\n",
              "      height: 32px;\n",
              "      padding: 0 0 0 0;\n",
              "      width: 32px;\n",
              "    }\n",
              "\n",
              "    .colab-df-convert:hover {\n",
              "      background-color: #E2EBFA;\n",
              "      box-shadow: 0px 1px 2px rgba(60, 64, 67, 0.3), 0px 1px 3px 1px rgba(60, 64, 67, 0.15);\n",
              "      fill: #174EA6;\n",
              "    }\n",
              "\n",
              "    [theme=dark] .colab-df-convert {\n",
              "      background-color: #3B4455;\n",
              "      fill: #D2E3FC;\n",
              "    }\n",
              "\n",
              "    [theme=dark] .colab-df-convert:hover {\n",
              "      background-color: #434B5C;\n",
              "      box-shadow: 0px 1px 3px 1px rgba(0, 0, 0, 0.15);\n",
              "      filter: drop-shadow(0px 1px 2px rgba(0, 0, 0, 0.3));\n",
              "      fill: #FFFFFF;\n",
              "    }\n",
              "  </style>\n",
              "\n",
              "      <script>\n",
              "        const buttonEl =\n",
              "          document.querySelector('#df-0acdd4e1-0c60-49d3-9188-0428f22f1a4c button.colab-df-convert');\n",
              "        buttonEl.style.display =\n",
              "          google.colab.kernel.accessAllowed ? 'block' : 'none';\n",
              "\n",
              "        async function convertToInteractive(key) {\n",
              "          const element = document.querySelector('#df-0acdd4e1-0c60-49d3-9188-0428f22f1a4c');\n",
              "          const dataTable =\n",
              "            await google.colab.kernel.invokeFunction('convertToInteractive',\n",
              "                                                     [key], {});\n",
              "          if (!dataTable) return;\n",
              "\n",
              "          const docLinkHtml = 'Like what you see? Visit the ' +\n",
              "            '<a target=\"_blank\" href=https://colab.research.google.com/notebooks/data_table.ipynb>data table notebook</a>'\n",
              "            + ' to learn more about interactive tables.';\n",
              "          element.innerHTML = '';\n",
              "          dataTable['output_type'] = 'display_data';\n",
              "          await google.colab.output.renderOutput(dataTable, element);\n",
              "          const docLink = document.createElement('div');\n",
              "          docLink.innerHTML = docLinkHtml;\n",
              "          element.appendChild(docLink);\n",
              "        }\n",
              "      </script>\n",
              "    </div>\n",
              "  </div>\n",
              "  "
            ]
          },
          "metadata": {},
          "execution_count": 15
        }
      ]
    },
    {
      "cell_type": "code",
      "metadata": {
        "id": "uBF4Mq-Qu8m_"
      },
      "source": [
        "# Filter out self-edges\n",
        "edges = edges[edges.PERSON_ID_x != edges.PERSON_ID_y]"
      ],
      "execution_count": 16,
      "outputs": []
    },
    {
      "cell_type": "markdown",
      "metadata": {
        "id": "WC_dgc9uluaV"
      },
      "source": [
        "We are now in a situation whre people that sit in multiple boards together will have one row per board. This can be aggregated in the following way by grouping.\n",
        "\n"
      ]
    },
    {
      "cell_type": "code",
      "metadata": {
        "id": "517JQi3Z9q-y"
      },
      "source": [
        "# grouping to aggregate multiple co-occurences and to generate a weight: \n",
        "# How many times did PesonX and PersonY sit in boards together\n",
        "# reset_index makes everytging from a multi-index-series into a dataframe\n",
        "edges = edges.groupby(['PERSON_ID_x', 'PERSON_ID_y']).size().reset_index()"
      ],
      "execution_count": 17,
      "outputs": []
    },
    {
      "cell_type": "code",
      "metadata": {
        "colab": {
          "base_uri": "https://localhost:8080/",
          "height": 206
        },
        "id": "8G71jk67mQKf",
        "outputId": "9c382d75-117d-4adc-ce98-5d714b3b04cc"
      },
      "source": [
        "# column \"0\" is now our weight\n",
        "edges.head()"
      ],
      "execution_count": 18,
      "outputs": [
        {
          "output_type": "execute_result",
          "data": {
            "text/plain": [
              "   PERSON_ID_x  PERSON_ID_y  0\n",
              "0            1          311  1\n",
              "1            1         4491  1\n",
              "2            1         4493  1\n",
              "3            1        24816  1\n",
              "4            1        31093  1"
            ],
            "text/html": [
              "\n",
              "  <div id=\"df-1d1bff54-d216-4451-8a89-8d1fd2c73e92\">\n",
              "    <div class=\"colab-df-container\">\n",
              "      <div>\n",
              "<style scoped>\n",
              "    .dataframe tbody tr th:only-of-type {\n",
              "        vertical-align: middle;\n",
              "    }\n",
              "\n",
              "    .dataframe tbody tr th {\n",
              "        vertical-align: top;\n",
              "    }\n",
              "\n",
              "    .dataframe thead th {\n",
              "        text-align: right;\n",
              "    }\n",
              "</style>\n",
              "<table border=\"1\" class=\"dataframe\">\n",
              "  <thead>\n",
              "    <tr style=\"text-align: right;\">\n",
              "      <th></th>\n",
              "      <th>PERSON_ID_x</th>\n",
              "      <th>PERSON_ID_y</th>\n",
              "      <th>0</th>\n",
              "    </tr>\n",
              "  </thead>\n",
              "  <tbody>\n",
              "    <tr>\n",
              "      <th>0</th>\n",
              "      <td>1</td>\n",
              "      <td>311</td>\n",
              "      <td>1</td>\n",
              "    </tr>\n",
              "    <tr>\n",
              "      <th>1</th>\n",
              "      <td>1</td>\n",
              "      <td>4491</td>\n",
              "      <td>1</td>\n",
              "    </tr>\n",
              "    <tr>\n",
              "      <th>2</th>\n",
              "      <td>1</td>\n",
              "      <td>4493</td>\n",
              "      <td>1</td>\n",
              "    </tr>\n",
              "    <tr>\n",
              "      <th>3</th>\n",
              "      <td>1</td>\n",
              "      <td>24816</td>\n",
              "      <td>1</td>\n",
              "    </tr>\n",
              "    <tr>\n",
              "      <th>4</th>\n",
              "      <td>1</td>\n",
              "      <td>31093</td>\n",
              "      <td>1</td>\n",
              "    </tr>\n",
              "  </tbody>\n",
              "</table>\n",
              "</div>\n",
              "      <button class=\"colab-df-convert\" onclick=\"convertToInteractive('df-1d1bff54-d216-4451-8a89-8d1fd2c73e92')\"\n",
              "              title=\"Convert this dataframe to an interactive table.\"\n",
              "              style=\"display:none;\">\n",
              "        \n",
              "  <svg xmlns=\"http://www.w3.org/2000/svg\" height=\"24px\"viewBox=\"0 0 24 24\"\n",
              "       width=\"24px\">\n",
              "    <path d=\"M0 0h24v24H0V0z\" fill=\"none\"/>\n",
              "    <path d=\"M18.56 5.44l.94 2.06.94-2.06 2.06-.94-2.06-.94-.94-2.06-.94 2.06-2.06.94zm-11 1L8.5 8.5l.94-2.06 2.06-.94-2.06-.94L8.5 2.5l-.94 2.06-2.06.94zm10 10l.94 2.06.94-2.06 2.06-.94-2.06-.94-.94-2.06-.94 2.06-2.06.94z\"/><path d=\"M17.41 7.96l-1.37-1.37c-.4-.4-.92-.59-1.43-.59-.52 0-1.04.2-1.43.59L10.3 9.45l-7.72 7.72c-.78.78-.78 2.05 0 2.83L4 21.41c.39.39.9.59 1.41.59.51 0 1.02-.2 1.41-.59l7.78-7.78 2.81-2.81c.8-.78.8-2.07 0-2.86zM5.41 20L4 18.59l7.72-7.72 1.47 1.35L5.41 20z\"/>\n",
              "  </svg>\n",
              "      </button>\n",
              "      \n",
              "  <style>\n",
              "    .colab-df-container {\n",
              "      display:flex;\n",
              "      flex-wrap:wrap;\n",
              "      gap: 12px;\n",
              "    }\n",
              "\n",
              "    .colab-df-convert {\n",
              "      background-color: #E8F0FE;\n",
              "      border: none;\n",
              "      border-radius: 50%;\n",
              "      cursor: pointer;\n",
              "      display: none;\n",
              "      fill: #1967D2;\n",
              "      height: 32px;\n",
              "      padding: 0 0 0 0;\n",
              "      width: 32px;\n",
              "    }\n",
              "\n",
              "    .colab-df-convert:hover {\n",
              "      background-color: #E2EBFA;\n",
              "      box-shadow: 0px 1px 2px rgba(60, 64, 67, 0.3), 0px 1px 3px 1px rgba(60, 64, 67, 0.15);\n",
              "      fill: #174EA6;\n",
              "    }\n",
              "\n",
              "    [theme=dark] .colab-df-convert {\n",
              "      background-color: #3B4455;\n",
              "      fill: #D2E3FC;\n",
              "    }\n",
              "\n",
              "    [theme=dark] .colab-df-convert:hover {\n",
              "      background-color: #434B5C;\n",
              "      box-shadow: 0px 1px 3px 1px rgba(0, 0, 0, 0.15);\n",
              "      filter: drop-shadow(0px 1px 2px rgba(0, 0, 0, 0.3));\n",
              "      fill: #FFFFFF;\n",
              "    }\n",
              "  </style>\n",
              "\n",
              "      <script>\n",
              "        const buttonEl =\n",
              "          document.querySelector('#df-1d1bff54-d216-4451-8a89-8d1fd2c73e92 button.colab-df-convert');\n",
              "        buttonEl.style.display =\n",
              "          google.colab.kernel.accessAllowed ? 'block' : 'none';\n",
              "\n",
              "        async function convertToInteractive(key) {\n",
              "          const element = document.querySelector('#df-1d1bff54-d216-4451-8a89-8d1fd2c73e92');\n",
              "          const dataTable =\n",
              "            await google.colab.kernel.invokeFunction('convertToInteractive',\n",
              "                                                     [key], {});\n",
              "          if (!dataTable) return;\n",
              "\n",
              "          const docLinkHtml = 'Like what you see? Visit the ' +\n",
              "            '<a target=\"_blank\" href=https://colab.research.google.com/notebooks/data_table.ipynb>data table notebook</a>'\n",
              "            + ' to learn more about interactive tables.';\n",
              "          element.innerHTML = '';\n",
              "          dataTable['output_type'] = 'display_data';\n",
              "          await google.colab.output.renderOutput(dataTable, element);\n",
              "          const docLink = document.createElement('div');\n",
              "          docLink.innerHTML = docLinkHtml;\n",
              "          element.appendChild(docLink);\n",
              "        }\n",
              "      </script>\n",
              "    </div>\n",
              "  </div>\n",
              "  "
            ]
          },
          "metadata": {},
          "execution_count": 18
        }
      ]
    },
    {
      "cell_type": "code",
      "metadata": {
        "id": "a09tM4rQ91Kc",
        "colab": {
          "base_uri": "https://localhost:8080/"
        },
        "outputId": "c25b26ac-1e6e-4dde-d868-cda9ca78c750"
      },
      "source": [
        "edges[0].value_counts()"
      ],
      "execution_count": 19,
      "outputs": [
        {
          "output_type": "execute_result",
          "data": {
            "text/plain": [
              "1    58824\n",
              "2     1560\n",
              "4      222\n",
              "3       34\n",
              "5       12\n",
              "Name: 0, dtype: int64"
            ]
          },
          "metadata": {},
          "execution_count": 19
        }
      ]
    },
    {
      "cell_type": "code",
      "metadata": {
        "id": "FoXr1hBp-Zfg"
      },
      "source": [
        "# finally we rename the \"0\" column to weight\n",
        "edges.rename({0:'weight'}, axis = 1, inplace=True)"
      ],
      "execution_count": 20,
      "outputs": []
    },
    {
      "cell_type": "code",
      "metadata": {
        "id": "tUEjSKGIuqKg",
        "colab": {
          "base_uri": "https://localhost:8080/"
        },
        "outputId": "b0452257-8416-4ebe-b69c-9b31a4c90e2a"
      },
      "source": [
        "len(edges)"
      ],
      "execution_count": 21,
      "outputs": [
        {
          "output_type": "execute_result",
          "data": {
            "text/plain": [
              "60652"
            ]
          },
          "metadata": {},
          "execution_count": 21
        }
      ]
    },
    {
      "cell_type": "markdown",
      "metadata": {
        "id": "fSUEs1vlm76F"
      },
      "source": [
        "Most of the people co-occure only once. There are only 4 cases where 2 people meet each other in 15 boards. This is also the strongest weight."
      ]
    },
    {
      "cell_type": "markdown",
      "metadata": {
        "id": "6sUhtThhor44"
      },
      "source": [
        "## Creating the Graph object with NetworkX\n",
        "\n",
        "Now we can create a network object from this edgelist. From here we will calculate various centrality measures and perform community detection. Think about the latter as UML (which it actually is).\n",
        "This will allow us to investigate e.g.:\n",
        "\n",
        "- Are there power clusters within different domains (education, agriculture...)?\n",
        "- Who are the top people in these communities\n",
        "\n"
      ]
    },
    {
      "cell_type": "code",
      "metadata": {
        "id": "YOriUK9tttJi"
      },
      "source": [
        "# Create network object from pandas edgelist\n",
        "G = nx.from_pandas_edgelist(edges, source='PERSON_ID_x', target='PERSON_ID_y', edge_attr='weight', create_using=nx.Graph())"
      ],
      "execution_count": null,
      "outputs": []
    }
  ]
}