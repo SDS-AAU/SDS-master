{
  "nbformat": 4,
  "nbformat_minor": 0,
  "metadata": {
    "colab": {
      "name": "AM2021_pg1",
      "provenance": [],
      "collapsed_sections": [],
      "include_colab_link": true
    },
    "kernelspec": {
      "name": "python3",
      "display_name": "Python 3"
    },
    "language_info": {
      "name": "python"
    }
  },
  "cells": [
    {
      "cell_type": "markdown",
      "metadata": {
        "id": "view-in-github",
        "colab_type": "text"
      },
      "source": [
        "<a href=\"https://colab.research.google.com/github/SDS-AAU/SDS-master/blob/master/00_notebooks/AM2021_pg1.ipynb\" target=\"_parent\"><img src=\"https://colab.research.google.com/assets/colab-badge.svg\" alt=\"Open In Colab\"/></a>"
      ]
    },
    {
      "cell_type": "markdown",
      "metadata": {
        "id": "xiE9qixMmQEb"
      },
      "source": [
        "## Peergrade Øvelse\n",
        "\n",
        "![](https://source.unsplash.com/Imwgit84NGo)\n",
        "\n",
        "Ideen med denne øvelse er at give dig en mulighed bruge (næsten) alt vi har lært indtil videre med et nyt eksempel og uden tidspres. Du må rigtig gerne arbejde sammen med din gruppe dog er det vigtigt, at du har styr på alt selv. Brug også gerne Teams til at diskuttere problemer med andre. \n",
        "Alt som skal bruges af kode findes i de notebooks, som der blev brugt til undervisning.\n",
        "\n",
        "I denne øvelse kommer I til at arbejde med lineær algebra på en lidt anden måde end tidligere, selvom tilgangen vil være den samme. I stedet for at arbejde x og y i traditionel forstand med, for eksempel, tid og pris på akserne, vil I blive introduceret til produktionsoptimering med to forskellige produkter på hver akse. Det kan være, at I har set lignende opgaver som del af mikroøkonomi.\n",
        "  \n",
        "Forestil jer, at I skriver et projekt i samarbejde med det lokale industri-bageri. I skal hjælpe butikken med at optimere produktion af cookies of muffins, for at få det maksimale udbytte. I har fået en oversigt over deres produktionsomkostninger, og skal nu forsøge at give butikken indblik i produktionsforholdet mellem muffins og cookies, ud fra forskellige parametre. \n"
      ]
    },
    {
      "cell_type": "markdown",
      "metadata": {
        "id": "uXgERBaNmbf4"
      },
      "source": [
        "**Pris** \n",
        "* Cookies bliver solgt til 32 kroner pr. kilo\n",
        "* Muffins bliver solgt til 27 kroner pr. kilo\n",
        "\n",
        "**Produktionsomkostninger**\n",
        "* Cookies koster 21.72 kroner pr. kilo at producere\n",
        "* Muffins koster 17.28 kroner pr. kilo at produere\n",
        "\n",
        "**Arbejdstimer**\n",
        "* Cookies koster 0.7 arbejdstimer at producere pr. kilo\n",
        "* Muffins koster 0.9 arbejdstimer at producere pr. kilo\n"
      ]
    },
    {
      "cell_type": "markdown",
      "metadata": {
        "id": "os6frV7rmmaO"
      },
      "source": [
        "#### Opgave 1.1:\n",
        "Bageriet har indkøbt ingredienser til muffins og cookies for 50.000kr i forbindelse med denne produktionscyklus.\n",
        "\n",
        "Start med at visualisere produktionsforholdet mellem cookies og muffins, altså, hvor mange i kan producere af henholdsvis muffins og cookies, med de 50.000, i har til rådighed. Til dette skal i bruge produktionsprisen på cookies (y) og produktionsprisen på muffins (x).\n",
        "\n",
        "Dette kan skrives i **generel form** som: $21.72*y + 17.28*x = 50000$\n",
        "\n",
        "Omskriv dette til **hældningsafskæringsform** (slope-intercept form), så y står alene, og plot linjen visuelt. \n"
      ]
    },
    {
      "cell_type": "code",
      "metadata": {
        "id": "OtxYkg4yrI5y"
      },
      "source": [
        "# pakke-import\n",
        "\n",
        "import numpy as np\n",
        "np.set_printoptions(suppress=True)\n",
        "\n",
        "import matplotlib.pyplot as plt"
      ],
      "execution_count": null,
      "outputs": []
    },
    {
      "cell_type": "code",
      "metadata": {
        "id": "Jvz1LOgjme6a"
      },
      "source": [
        "# Start med at definere x - brug numpy's linspace funktion til generere 1000 observationer mellem 0 og 3000\n",
        "\n",
        "# definer jeres y ud fra ovenstående algebraiske udtryk\n",
        "\n",
        "\n",
        "# Navngiv jeres x- og y-akse.\n",
        "plt.xlabel('Muffins')\n",
        "plt.ylabel('Cookies')\n",
        "\n",
        "#plot linjen \n"
      ],
      "execution_count": null,
      "outputs": []
    },
    {
      "cell_type": "markdown",
      "metadata": {
        "id": "RXHLTuxMtkgS"
      },
      "source": [
        "Det første plot giver dog kun et overblik, i hvordan produktionen af muffins og cookies kan fordeles, med udgangspunkt i de tilgængelige resurser. I målet om at finde den optimale fordeling, for at få maksimalt udbytte, er der også andre ting der skal overvejes."
      ]
    },
    {
      "cell_type": "markdown",
      "metadata": {
        "id": "QOcRNAutxWF-"
      },
      "source": [
        "#### Opgave 1.2:\n",
        "Produktion af kager har flere omkostninger tilknyttet end blot ingredienser, herunder, arbejdstimer. Bageriet har tilknyttet **200** arbejdstimer til produktionen af muffins og cookies. 1 kilo cookies tager 0.7 arbejdstime at producere, hvor muffins tager 0.9 arbejdstime.\n",
        "\n",
        "Omskriv dette til den **generelle form**, og herefter til **hældningsafskæringsform**.\n",
        "\n",
        "Gentag herefter plottet fra opgave 1.1, og tilføj linjen for arbejdsomkostninger for muffins og cookies.\n",
        "\n"
      ]
    },
    {
      "cell_type": "code",
      "metadata": {
        "id": "GVVkiqgP0DO9"
      },
      "source": [
        "# Start med at definere x - brug numpy's linspace funktion til generere 1000 observationer mellem 0 og 3000\n",
        "\n",
        "# inddrag y fra opgave 1 (y1)\n",
        "\n",
        "# tilføj jeres algebraiske udtryk for arbejdsomkostninger (y2)\n",
        "\n",
        "\n",
        "# Navngiv jeres x- og y-akse.\n",
        "plt.xlabel('Muffins')\n",
        "plt.ylabel('Cookies')\n",
        "\n",
        "#plot linje y1 - giv den farven rød (\"red\")\n",
        "\n",
        "#plot linje y2 - giv den farven blå (\"blue\")\n"
      ],
      "execution_count": null,
      "outputs": []
    },
    {
      "cell_type": "markdown",
      "metadata": {
        "id": "QVP8-S50_GzW"
      },
      "source": [
        "Ud fra ovenstående plot, kan vi nu få et indblik i mængden af henholdsvis muffins og cookies bageriet skal producere for at optimere udbyttet, med udgangspunkt i de 2 variable i har adgang til."
      ]
    },
    {
      "cell_type": "markdown",
      "metadata": {
        "id": "fQ4mZ27uCt-g"
      },
      "source": [
        "### Opgave 1.3\n",
        "Selvom den grafiske fremstilling giver et visuelt overblik, har i brug for at finde den præcise kilomængde af muffins og cookies vi skal producere ud fra denne opstilling. Vores to lingninger kan skrives som denne augmented matrix:\n",
        "\n",
        "$$\n",
        "\\left[\n",
        "  \\begin{matrix}\n",
        "    21.72 & 17.28 \\\\\n",
        "    0.07 & 0.09 \\\\\n",
        "  \\end{matrix}\n",
        "  \\left|\n",
        "    \\,\n",
        "    \\begin{matrix}\n",
        "      50000  \\\\\n",
        "      200  \\\\\n",
        "    \\end{matrix}\n",
        "  \\right.\n",
        "\\right]\n",
        "$$\n",
        "\n",
        "- Prøv at finde løsningen 'i hånden' først ved hjælp af **eliminationsmetoden** (i numpy), i kan muligvis huske tilgangen fra første [undervisningsgang](https://colab.research.google.com/github/RJuro/am-21/blob/main/HA_Math_1_1_Linear_Systems_edited.ipynb#scrollTo=DqGpjUg71znB). Skriv gerne kommentar i koden hvilke rækkeoperationer du bruger.\n",
        "\n",
        "\n",
        "- Herefter kan i anvende sympy til at foretage udregningen direkte symbolisk.\n",
        "\n",
        "- Du kan se en ny måde at løse opgaven med scipy nederst - det er også der, hvor du kan tjekke, om din løsning passer.\n"
      ]
    },
    {
      "cell_type": "code",
      "metadata": {
        "id": "Fm3YwGsWN51N"
      },
      "source": [
        "# definer matrix først\n",
        "matrix = np.array([[21.72,17.28,50000],\n",
        "[0.07,0.09,200]])"
      ],
      "execution_count": null,
      "outputs": []
    },
    {
      "cell_type": "code",
      "metadata": {
        "id": "E9ioI1rM9vHJ"
      },
      "source": [
        ""
      ],
      "execution_count": null,
      "outputs": []
    },
    {
      "cell_type": "code",
      "metadata": {
        "id": "a_tXVkC09vbI"
      },
      "source": [
        ""
      ],
      "execution_count": null,
      "outputs": []
    },
    {
      "cell_type": "code",
      "metadata": {
        "colab": {
          "base_uri": "https://localhost:8080/"
        },
        "id": "Qd8uiBnf1OtU",
        "outputId": "827104e7-7f5a-4101-919f-07808538a9aa"
      },
      "source": [
        "#importer sympy pakker\n",
        "from sympy import * #importer alt fra Sympy\n",
        "from sympy.solvers.solveset import linsolve #importer linalg solver\n",
        "\n",
        "#definer vores symboler (c for cookies, m for muffins)\n",
        "c, m = symbols('c, m') \n",
        "\n",
        "# Brug linsolve til at finde den præcise skæring mellem produktionsomkostninger (y1) og arbejdsomkostninger (y2), og gem resultatet i xy_graphical\n",
        "\n",
        "# Print resultatet: xy_graphical\n"
      ],
      "execution_count": null,
      "outputs": [
        {
          "output_type": "stream",
          "text": [
            "FiniteSet((1400.96618357488, 1132.58185721954))\n"
          ],
          "name": "stdout"
        }
      ]
    },
    {
      "cell_type": "code",
      "metadata": {
        "id": "Kv9pUvKPPp7B"
      },
      "source": [
        "# en 3. løsning som kan bruges (ny mulighed - bare for at se, den findes)\n",
        "# vi kommer dog til at bruge sympy 👆 en del ifm calculus...og derfor er det fint lige at se på det allerede nu\n",
        "\n",
        "from scipy import linalg\n",
        "\n",
        "A = np.array([[21.72, 17.28],\n",
        "       [ 0.07,  0.09]])\n",
        "\n",
        "b = np.array([50000, 200])\n",
        "\n",
        "x = linalg.solve(A,b)"
      ],
      "execution_count": null,
      "outputs": []
    },
    {
      "cell_type": "code",
      "metadata": {
        "colab": {
          "base_uri": "https://localhost:8080/"
        },
        "id": "8nXqMfSXQfB7",
        "outputId": "7d14f1d5-2b59-4cc5-b51d-1f28d1a6115c"
      },
      "source": [
        "print(x)"
      ],
      "execution_count": null,
      "outputs": [
        {
          "output_type": "stream",
          "text": [
            "[1400.96618357 1132.58185722]\n"
          ],
          "name": "stdout"
        }
      ]
    },
    {
      "cell_type": "markdown",
      "metadata": {
        "id": "2J6GKzWGGTpP"
      },
      "source": [
        "### Opgave 1.4 \n",
        "Nu hvor vi har fundet den \"optimale\" mængde af muffins og cookies i kg (vi runder til hele kg og husk du kan ikke rigtigt runde op fordi du ikke har ingredienser til det), kan vi udregne hvor meget bageriet kommer til at tjene, baseret på vores begrænsede informationer. "
      ]
    },
    {
      "cell_type": "code",
      "metadata": {
        "id": "tK3aVHxcG0SU"
      },
      "source": [
        "# Gem mængden af cookies i variablen qcookies - husk at runde ned til hele tal. \n",
        "qcookies=\n",
        "# Gem mængden af muffins i variablen qmuffins - husk at runde ned til hele tal.\n",
        "qmuffins=\n",
        "\n",
        "#udregn den samlede omsætning for muffins (27*qmuffins) og cookies(32*qcookies)  \n",
        "result=\n",
        "\n",
        "#print resultatet, med teksten \"dkk er vores omsætning for denne produktionsrunde\"\n",
        "print(result, \"dkk er vores omsætning for denne produktionsrunde\")"
      ],
      "execution_count": null,
      "outputs": []
    },
    {
      "cell_type": "markdown",
      "metadata": {
        "id": "jUQPjZ02IU0u"
      },
      "source": [
        "### Opgave 2\n",
        "\n",
        "I opgave 1 tilgik vi problemet ved hjælp af grafisk visualisering, og løsning fra hældningsafskæringsform samt Gauss elimination  (+ automatisk løsning til tjek). I opgave 2 skal I løse samme problemstilling ved hjælp af multiplikativ invers. "
      ]
    },
    {
      "cell_type": "markdown",
      "metadata": {
        "id": "cVG_DkoHI5jt"
      },
      "source": [
        "#### Opgave 2.1\n",
        "\n",
        "Definer numpy arrays med $A$ som matrix_a og $\\vec{b}$ som vector_b. Du må gerne copy-paste fra 1.3 (scipy demo)"
      ]
    },
    {
      "cell_type": "code",
      "metadata": {
        "colab": {
          "base_uri": "https://localhost:8080/"
        },
        "id": "aaFEVfs0JZKv",
        "outputId": "6f5572d8-7e3e-4d7d-a6a6-557bd54ec9c4"
      },
      "source": [
        "# generér matrix_a\n",
        "matrix_a = \n",
        "\n",
        "print(matrix_a)\n",
        "\n",
        "# generér vector_b\n",
        "vector_b = \n",
        "print(vector_b)"
      ],
      "execution_count": null,
      "outputs": [
        {
          "output_type": "stream",
          "text": [
            "[[21.72 17.28]\n",
            " [ 0.07  0.09]]\n",
            "[[50000.]\n",
            " [  200.]]\n"
          ],
          "name": "stdout"
        }
      ]
    },
    {
      "cell_type": "markdown",
      "metadata": {
        "id": "W30VevEkJbEu"
      },
      "source": [
        "#### Opgave 2.2\n",
        "Beregn $A^{-1}$ ved at bruge numpy funktion til dette."
      ]
    },
    {
      "cell_type": "code",
      "metadata": {
        "id": "P8ABkeaYJc1K"
      },
      "source": [
        "#opgave 2.2.1\n",
        "matrix_a_inverse = \n",
        "\n",
        "print(matrix_a_inverse)"
      ],
      "execution_count": null,
      "outputs": []
    },
    {
      "cell_type": "markdown",
      "metadata": {
        "id": "JyP_BMPaXseC"
      },
      "source": [
        "Vis, at $A^{-1}A = I$"
      ]
    },
    {
      "cell_type": "code",
      "metadata": {
        "id": "_V6siPumJgSJ"
      },
      "source": [
        "# opgave 2.2.2\n",
        "\n",
        "identity_matrix=\n",
        "\n",
        "print(identity_matrix)"
      ],
      "execution_count": null,
      "outputs": []
    },
    {
      "cell_type": "markdown",
      "metadata": {
        "id": "jpEjxMd3ZFaT"
      },
      "source": [
        "Vi ved, at $I\\vec{x}=\\vec{x}$ og derfor bliver $A^{-1}A\\vec{x}=A^{-1}\\vec{b}$ til $\\vec{x} = A^{-1}\\vec{b}$\n",
        "\n",
        "Beregn $\\vec{b}$ "
      ]
    },
    {
      "cell_type": "code",
      "metadata": {
        "colab": {
          "base_uri": "https://localhost:8080/"
        },
        "id": "RYcaeSZdJoHH",
        "outputId": "ed3d75b1-5844-4322-d320-49aa9dbc5810"
      },
      "source": [
        "# opgave 2.2.3\n",
        "\n",
        "vector_x=\n",
        "\n",
        "print(vector_x) "
      ],
      "execution_count": null,
      "outputs": [
        {
          "output_type": "stream",
          "text": [
            "[[1400.9663]\n",
            " [1132.5815]]\n"
          ],
          "name": "stdout"
        }
      ]
    }
  ]
}