{
  "nbformat": 4,
  "nbformat_minor": 0,
  "metadata": {
    "colab": {
      "name": "Poltweets_assignment.ipynb",
      "provenance": [],
      "authorship_tag": "ABX9TyM3idTzXjFIA6BMzsxB0xYn",
      "include_colab_link": true
    },
    "kernelspec": {
      "name": "python3",
      "display_name": "Python 3"
    }
  },
  "cells": [
    {
      "cell_type": "markdown",
      "metadata": {
        "id": "view-in-github",
        "colab_type": "text"
      },
      "source": [
        "<a href=\"https://colab.research.google.com/github/SDS-AAU/SDS-master/blob/master/M2/exercises/Poltweets_assignment_solution.ipynb\" target=\"_parent\"><img src=\"https://colab.research.google.com/assets/colab-badge.svg\" alt=\"Open In Colab\"/></a>"
      ]
    },
    {
      "cell_type": "markdown",
      "metadata": {
        "id": "jkk1JuS88gt5"
      },
      "source": [
        "# Picking liberal and conservative tweets\n",
        "\n",
        "In this tutorial I will be guiding you to a type line of language processing in which we will take a label data set from one context, train a language model and apply it two slightly different context. And examples before you have seen sentiment analysis here's a case of supervised machine learning and language processing. Obviously, text can be classified across all kinds of dimensions and in this case we are going to look at political affiliation. \n",
        "\n",
        "In the following notebook we are going to train a language model to identify the political leaning of a tweet. We will use tweets from members of the US Congress well we know which political party did long too. This data set is there by our training data set as it is naturally labeled - in other words we can observe easily who sent off a tweet. the test data set contains 8000 tweets issued before the presidential debate in autumn 2020. our implicit assumption is that political leanings represented in the training data set and the language used there is similar to the new corpus. This assumption he's a potential cause for bias. Obviously, members of the Congress will not be using obvious derogatory language for instance. \n",
        "\n",
        "This notebook will first train a simple model using Sklearn. Then we will turn to more “manual” and controlled approaches with other packaging. \n"
      ]
    },
    {
      "cell_type": "markdown",
      "metadata": {
        "id": "A7CZ3IIdQsx9"
      },
      "source": [
        "### Loading the data and cleaning"
      ]
    },
    {
      "cell_type": "code",
      "metadata": {
        "id": "g-YCs3i2ett0"
      },
      "source": [
        "import pandas as pd"
      ],
      "execution_count": 52,
      "outputs": []
    },
    {
      "cell_type": "code",
      "metadata": {
        "id": "sI3rdYzYe0Kk"
      },
      "source": [
        "# load labeled data\n",
        "data = pd.read_json('https://github.com/SDS-AAU/SDS-master/raw/master/M2/data/pol_tweets.gz')"
      ],
      "execution_count": 53,
      "outputs": []
    },
    {
      "cell_type": "code",
      "metadata": {
        "id": "kCoB5o6re1xg",
        "colab": {
          "base_uri": "https://localhost:8080/",
          "height": 407
        },
        "outputId": "2cc942bb-00de-4f5c-a31c-23f9a4cff99b"
      },
      "source": [
        "data"
      ],
      "execution_count": 54,
      "outputs": [
        {
          "output_type": "execute_result",
          "data": {
            "text/html": [
              "<div>\n",
              "<style scoped>\n",
              "    .dataframe tbody tr th:only-of-type {\n",
              "        vertical-align: middle;\n",
              "    }\n",
              "\n",
              "    .dataframe tbody tr th {\n",
              "        vertical-align: top;\n",
              "    }\n",
              "\n",
              "    .dataframe thead th {\n",
              "        text-align: right;\n",
              "    }\n",
              "</style>\n",
              "<table border=\"1\" class=\"dataframe\">\n",
              "  <thead>\n",
              "    <tr style=\"text-align: right;\">\n",
              "      <th></th>\n",
              "      <th>text</th>\n",
              "      <th>labels</th>\n",
              "    </tr>\n",
              "  </thead>\n",
              "  <tbody>\n",
              "    <tr>\n",
              "      <th>340675</th>\n",
              "      <td>RT @GreenBeretFound Today we remember Sgt. 1st...</td>\n",
              "      <td>0</td>\n",
              "    </tr>\n",
              "    <tr>\n",
              "      <th>289492</th>\n",
              "      <td>Yes, yes, yes, yes and yes. 😷 #JerseyStrong 💪🏾...</td>\n",
              "      <td>1</td>\n",
              "    </tr>\n",
              "    <tr>\n",
              "      <th>371088</th>\n",
              "      <td>Made new friends this afternoon delivering mas...</td>\n",
              "      <td>1</td>\n",
              "    </tr>\n",
              "    <tr>\n",
              "      <th>82212</th>\n",
              "      <td>RT @TXMilitary Happening TODAY: Pilots with th...</td>\n",
              "      <td>0</td>\n",
              "    </tr>\n",
              "    <tr>\n",
              "      <th>476047</th>\n",
              "      <td>RT @SteveScalise President Trump's legal team ...</td>\n",
              "      <td>0</td>\n",
              "    </tr>\n",
              "    <tr>\n",
              "      <th>...</th>\n",
              "      <td>...</td>\n",
              "      <td>...</td>\n",
              "    </tr>\n",
              "    <tr>\n",
              "      <th>61499</th>\n",
              "      <td>Outrageous.\\n\\nBrave health care workers are p...</td>\n",
              "      <td>0</td>\n",
              "    </tr>\n",
              "    <tr>\n",
              "      <th>185562</th>\n",
              "      <td>RT @dskolnick .@RepTimRyan proposes up to $3K ...</td>\n",
              "      <td>1</td>\n",
              "    </tr>\n",
              "    <tr>\n",
              "      <th>354040</th>\n",
              "      <td>It is clear that the #HeroesAct will help tens...</td>\n",
              "      <td>1</td>\n",
              "    </tr>\n",
              "    <tr>\n",
              "      <th>708686</th>\n",
              "      <td>Democrats are talking about Bolton and Mulvane...</td>\n",
              "      <td>0</td>\n",
              "    </tr>\n",
              "    <tr>\n",
              "      <th>568643</th>\n",
              "      <td>The President claims his administration is, \"d...</td>\n",
              "      <td>1</td>\n",
              "    </tr>\n",
              "  </tbody>\n",
              "</table>\n",
              "<p>50000 rows × 2 columns</p>\n",
              "</div>"
            ],
            "text/plain": [
              "                                                     text  labels\n",
              "340675  RT @GreenBeretFound Today we remember Sgt. 1st...       0\n",
              "289492  Yes, yes, yes, yes and yes. 😷 #JerseyStrong 💪🏾...       1\n",
              "371088  Made new friends this afternoon delivering mas...       1\n",
              "82212   RT @TXMilitary Happening TODAY: Pilots with th...       0\n",
              "476047  RT @SteveScalise President Trump's legal team ...       0\n",
              "...                                                   ...     ...\n",
              "61499   Outrageous.\\n\\nBrave health care workers are p...       0\n",
              "185562  RT @dskolnick .@RepTimRyan proposes up to $3K ...       1\n",
              "354040  It is clear that the #HeroesAct will help tens...       1\n",
              "708686  Democrats are talking about Bolton and Mulvane...       0\n",
              "568643  The President claims his administration is, \"d...       1\n",
              "\n",
              "[50000 rows x 2 columns]"
            ]
          },
          "metadata": {
            "tags": []
          },
          "execution_count": 54
        }
      ]
    },
    {
      "cell_type": "code",
      "metadata": {
        "id": "8G6k6F9ce6Ij"
      },
      "source": [
        "# cleaning up twitter data\n",
        "!pip install tweet-preprocessor"
      ],
      "execution_count": null,
      "outputs": []
    },
    {
      "cell_type": "code",
      "metadata": {
        "id": "JRvu8U9vf5cy"
      },
      "source": [
        "# cleaning up twitter data\n",
        "import preprocessor as p\n",
        "p.set_options(p.OPT.URL, p.OPT.EMOJI, p.OPT.RESERVED, p.OPT.MENTION)"
      ],
      "execution_count": 55,
      "outputs": []
    },
    {
      "cell_type": "code",
      "metadata": {
        "id": "heESq604gbgY",
        "colab": {
          "base_uri": "https://localhost:8080/",
          "height": 35
        },
        "outputId": "0e9ccae2-6189-4d06-b555-c9f3717de253"
      },
      "source": [
        "p.clean('RT 🤬 this is a tweet #yeah @CBS http://something.dk')"
      ],
      "execution_count": 56,
      "outputs": [
        {
          "output_type": "execute_result",
          "data": {
            "application/vnd.google.colaboratory.intrinsic+json": {
              "type": "string"
            },
            "text/plain": [
              "'this is a tweet #yeah'"
            ]
          },
          "metadata": {
            "tags": []
          },
          "execution_count": 56
        }
      ]
    },
    {
      "cell_type": "code",
      "metadata": {
        "id": "FZPmeuMjghNI"
      },
      "source": [
        "data['text_clean'] = [p.clean(tweet) for tweet in data['text']]"
      ],
      "execution_count": 57,
      "outputs": []
    },
    {
      "cell_type": "code",
      "metadata": {
        "id": "14vCWaUgEcUN"
      },
      "source": [
        "y = data['labels']"
      ],
      "execution_count": 59,
      "outputs": []
    },
    {
      "cell_type": "markdown",
      "metadata": {
        "id": "WSaXEHMdQz4B"
      },
      "source": [
        "### Split data and train models in sklearn"
      ]
    },
    {
      "cell_type": "code",
      "metadata": {
        "id": "GMLg3CFwEeZB"
      },
      "source": [
        "from sklearn.model_selection import train_test_split"
      ],
      "execution_count": 60,
      "outputs": []
    },
    {
      "cell_type": "code",
      "metadata": {
        "id": "u6gfCyOOEJ8d"
      },
      "source": [
        "X_train, X_test, y_train, y_test = train_test_split(data['text_clean'], y, test_size=0.2, random_state=42)"
      ],
      "execution_count": 61,
      "outputs": []
    },
    {
      "cell_type": "code",
      "metadata": {
        "id": "WsrQXIBKiZiR"
      },
      "source": [
        "from sklearn.feature_extraction.text import TfidfVectorizer\n",
        "\n",
        "vectorizer = TfidfVectorizer()\n",
        "X_train_vec = vectorizer.fit_transform(X_train)"
      ],
      "execution_count": 62,
      "outputs": []
    },
    {
      "cell_type": "code",
      "metadata": {
        "id": "lMmCa1AzhpVz"
      },
      "source": [
        "from sklearn.linear_model import LogisticRegression\n",
        "model = LogisticRegression()"
      ],
      "execution_count": 63,
      "outputs": []
    },
    {
      "cell_type": "code",
      "metadata": {
        "id": "j2eIldSZhyyt"
      },
      "source": [
        "model.fit(X_train_vec, y_train)"
      ],
      "execution_count": null,
      "outputs": []
    },
    {
      "cell_type": "code",
      "metadata": {
        "id": "db7piLD7Eqrk"
      },
      "source": [
        "X_test_vec = vectorizer.transform(X_test)"
      ],
      "execution_count": 65,
      "outputs": []
    },
    {
      "cell_type": "code",
      "metadata": {
        "id": "yy-kyLYAh1Oo",
        "colab": {
          "base_uri": "https://localhost:8080/"
        },
        "outputId": "914c724c-089e-4284-8424-5065d838c578"
      },
      "source": [
        "model.score(X_test_vec, y_test)"
      ],
      "execution_count": 66,
      "outputs": [
        {
          "output_type": "execute_result",
          "data": {
            "text/plain": [
              "0.7912"
            ]
          },
          "metadata": {
            "tags": []
          },
          "execution_count": 66
        }
      ]
    },
    {
      "cell_type": "code",
      "metadata": {
        "id": "Pkp-gHljisna",
        "colab": {
          "base_uri": "https://localhost:8080/"
        },
        "outputId": "51dcf8ff-0900-4bfe-dc20-3900ac0abfad"
      },
      "source": [
        "model.predict(vectorizer.transform(['the media is corrupt']))"
      ],
      "execution_count": 67,
      "outputs": [
        {
          "output_type": "execute_result",
          "data": {
            "text/plain": [
              "array([0])"
            ]
          },
          "metadata": {
            "tags": []
          },
          "execution_count": 67
        }
      ]
    },
    {
      "cell_type": "code",
      "metadata": {
        "id": "u_8tgfcRizT_"
      },
      "source": [
        "from sklearn.feature_extraction.text import TfidfVectorizer\n",
        "from sklearn.linear_model import LogisticRegression\n",
        "from sklearn.decomposition import TruncatedSVD\n",
        "from sklearn.pipeline import Pipeline, make_pipeline\n",
        "\n",
        "vec = TfidfVectorizer(min_df=3, stop_words='english',\n",
        "                      ngram_range=(1, 2))\n",
        "svd = TruncatedSVD(n_components=100, n_iter=7, random_state=42)\n",
        "lsa = make_pipeline(vec, svd)\n",
        "\n",
        "clf = LogisticRegression()\n",
        "pipe = make_pipeline(lsa, clf)\n",
        "pipe.fit(X_train, y_train)\n",
        "pipe.score(X_test, y_test)"
      ],
      "execution_count": null,
      "outputs": []
    },
    {
      "cell_type": "code",
      "metadata": {
        "id": "IvokLrWPJi00"
      },
      "source": [
        "!pip install eli5"
      ],
      "execution_count": null,
      "outputs": []
    },
    {
      "cell_type": "code",
      "metadata": {
        "id": "QXVpYJlxKYYf",
        "colab": {
          "base_uri": "https://localhost:8080/"
        },
        "outputId": "37574e88-1b15-4fc5-add2-91bd532273e4"
      },
      "source": [
        "X_test"
      ],
      "execution_count": 68,
      "outputs": [
        {
          "output_type": "execute_result",
          "data": {
            "text/plain": [
              "242366    \"The U.S. must lead the world in developing an...\n",
              "679874    I've been pushing FBI for transparency on Russ...\n",
              "186087    We agree. Leaders lead. You can activate the D...\n",
              "176019    Senate Dems stalling aid, economic stability f...\n",
              "254260    Join me, , and State Rep. Carlos Gonzalez now ...\n",
              "                                ...                        \n",
              "728145    We are relieved that no American or Iraqi serv...\n",
              "39849     Last month, the House Select Committee on the ...\n",
              "615926    Just In: I talked to about the potential peace...\n",
              "415010    ATTN: today is #Census Day. The census provide...\n",
              "30607     21 Law enforcement officers shot in the last w...\n",
              "Name: text_clean, Length: 10000, dtype: object"
            ]
          },
          "metadata": {
            "tags": []
          },
          "execution_count": 68
        }
      ]
    },
    {
      "cell_type": "code",
      "metadata": {
        "id": "-E0V3X3WJ1Kg"
      },
      "source": [
        "doc = X_test[176019]"
      ],
      "execution_count": 69,
      "outputs": []
    },
    {
      "cell_type": "code",
      "metadata": {
        "id": "Lv8QHRlpK2mE",
        "colab": {
          "base_uri": "https://localhost:8080/",
          "height": 53
        },
        "outputId": "b34e967d-1eee-467c-d495-d471942862c4"
      },
      "source": [
        "doc"
      ],
      "execution_count": 70,
      "outputs": [
        {
          "output_type": "execute_result",
          "data": {
            "application/vnd.google.colaboratory.intrinsic+json": {
              "type": "string"
            },
            "text/plain": [
              "'Senate Dems stalling aid, economic stability for Americans. Why? Because Pelosi wants: Mandates on airlines to spend on carbon offsets, not workers Weaken voter laws for the 2020 election Corporate board diversity You cant make this stuff up.'"
            ]
          },
          "metadata": {
            "tags": []
          },
          "execution_count": 70
        }
      ]
    },
    {
      "cell_type": "code",
      "metadata": {
        "id": "GXnElJYcJAHP",
        "colab": {
          "base_uri": "https://localhost:8080/",
          "height": 170
        },
        "outputId": "f29335b4-9ab2-418a-8601-f167a7302662"
      },
      "source": [
        "import eli5\n",
        "from eli5.lime import TextExplainer\n",
        "\n",
        "te = TextExplainer(random_state=42)\n",
        "te.fit(doc, pipe.predict_proba)\n",
        "te.show_prediction(target_names=['rep','dem'])"
      ],
      "execution_count": 71,
      "outputs": [
        {
          "output_type": "execute_result",
          "data": {
            "text/html": [
              "\n",
              "    <style>\n",
              "    table.eli5-weights tr:hover {\n",
              "        filter: brightness(85%);\n",
              "    }\n",
              "</style>\n",
              "\n",
              "\n",
              "\n",
              "    \n",
              "\n",
              "    \n",
              "\n",
              "    \n",
              "\n",
              "    \n",
              "\n",
              "    \n",
              "\n",
              "    \n",
              "\n",
              "\n",
              "    \n",
              "\n",
              "    \n",
              "\n",
              "    \n",
              "\n",
              "    \n",
              "        \n",
              "\n",
              "    \n",
              "\n",
              "        \n",
              "\n",
              "        \n",
              "    \n",
              "        \n",
              "        \n",
              "    \n",
              "        <p style=\"margin-bottom: 0.5em; margin-top: 0em\">\n",
              "            <b>\n",
              "    \n",
              "        y=dem\n",
              "    \n",
              "</b>\n",
              "\n",
              "    \n",
              "    (probability <b>0.721</b>, score <b>0.950</b>)\n",
              "\n",
              "top features\n",
              "        </p>\n",
              "    \n",
              "    <table class=\"eli5-weights\"\n",
              "           style=\"border-collapse: collapse; border: none; margin-top: 0em; table-layout: auto; margin-bottom: 2em;\">\n",
              "        <thead>\n",
              "        <tr style=\"border: none;\">\n",
              "            \n",
              "                <th style=\"padding: 0 1em 0 0.5em; text-align: right; border: none;\" title=\"Feature contribution already accounts for the feature value (for linear models, contribution = weight * feature value), and the sum of feature contributions is equal to the score or, for some classifiers, to the probability. Feature values are shown if &quot;show_feature_values&quot; is True.\">\n",
              "                    Contribution<sup>?</sup>\n",
              "                </th>\n",
              "            \n",
              "            <th style=\"padding: 0 0.5em 0 0.5em; text-align: left; border: none;\">Feature</th>\n",
              "            \n",
              "        </tr>\n",
              "        </thead>\n",
              "        <tbody>\n",
              "        \n",
              "            <tr style=\"background-color: hsl(120, 100.00%, 80.00%); border: none;\">\n",
              "    <td style=\"padding: 0 1em 0 0.5em; text-align: right; border: none;\">\n",
              "        +0.822\n",
              "    </td>\n",
              "    <td style=\"padding: 0 0.5em 0 0.5em; text-align: left; border: none;\">\n",
              "        Highlighted in text (sum)\n",
              "    </td>\n",
              "    \n",
              "</tr>\n",
              "        \n",
              "            <tr style=\"background-color: hsl(120, 100.00%, 94.58%); border: none;\">\n",
              "    <td style=\"padding: 0 1em 0 0.5em; text-align: right; border: none;\">\n",
              "        +0.127\n",
              "    </td>\n",
              "    <td style=\"padding: 0 0.5em 0 0.5em; text-align: left; border: none;\">\n",
              "        &lt;BIAS&gt;\n",
              "    </td>\n",
              "    \n",
              "</tr>\n",
              "        \n",
              "        \n",
              "\n",
              "        \n",
              "        \n",
              "\n",
              "        </tbody>\n",
              "    </table>\n",
              "\n",
              "    \n",
              "\n",
              "\n",
              "\n",
              "    <p style=\"margin-bottom: 2.5em; margin-top:-0.5em;\">\n",
              "        <span style=\"background-color: hsl(120, 100.00%, 92.89%); opacity: 0.82\" title=\"0.076\">senate</span><span style=\"opacity: 0.80\"> </span><span style=\"background-color: hsl(0, 100.00%, 82.57%); opacity: 0.86\" title=\"-0.272\">dems</span><span style=\"opacity: 0.80\"> </span><span style=\"background-color: hsl(0, 100.00%, 96.78%); opacity: 0.81\" title=\"-0.024\">stalling</span><span style=\"opacity: 0.80\"> </span><span style=\"background-color: hsl(120, 100.00%, 92.43%); opacity: 0.82\" title=\"0.083\">aid</span><span style=\"opacity: 0.80\">, </span><span style=\"background-color: hsl(0, 100.00%, 90.99%); opacity: 0.82\" title=\"-0.106\">economic</span><span style=\"opacity: 0.80\"> </span><span style=\"background-color: hsl(0, 100.00%, 95.14%); opacity: 0.81\" title=\"-0.044\">stability</span><span style=\"opacity: 0.80\"> </span><span style=\"background-color: hsl(0, 100.00%, 99.74%); opacity: 0.80\" title=\"-0.001\">for</span><span style=\"opacity: 0.80\"> </span><span style=\"background-color: hsl(120, 100.00%, 77.59%); opacity: 0.89\" title=\"0.390\">americans</span><span style=\"opacity: 0.80\">. </span><span style=\"background-color: hsl(120, 100.00%, 99.91%); opacity: 0.80\" title=\"0.000\">why</span><span style=\"opacity: 0.80\">? </span><span style=\"background-color: hsl(120, 100.00%, 99.91%); opacity: 0.80\" title=\"0.000\">because</span><span style=\"opacity: 0.80\"> </span><span style=\"background-color: hsl(0, 100.00%, 60.00%); opacity: 1.00\" title=\"-0.891\">pelosi</span><span style=\"opacity: 0.80\"> </span><span style=\"background-color: hsl(0, 100.00%, 97.11%); opacity: 0.80\" title=\"-0.021\">wants</span><span style=\"opacity: 0.80\">: </span><span style=\"background-color: hsl(120, 100.00%, 95.68%); opacity: 0.81\" title=\"0.037\">mandates</span><span style=\"opacity: 0.80\"> </span><span style=\"background-color: hsl(120, 100.00%, 94.09%); opacity: 0.81\" title=\"0.058\">on</span><span style=\"opacity: 0.80\"> </span><span style=\"background-color: hsl(0, 100.00%, 97.06%); opacity: 0.80\" title=\"-0.021\">airlines</span><span style=\"opacity: 0.80\"> to </span><span style=\"background-color: hsl(0, 100.00%, 96.45%); opacity: 0.81\" title=\"-0.028\">spend</span><span style=\"opacity: 0.80\"> </span><span style=\"background-color: hsl(0, 100.00%, 96.71%); opacity: 0.81\" title=\"-0.025\">on</span><span style=\"opacity: 0.80\"> </span><span style=\"background-color: hsl(0, 100.00%, 94.76%); opacity: 0.81\" title=\"-0.049\">carbon</span><span style=\"opacity: 0.80\"> </span><span style=\"background-color: hsl(0, 100.00%, 90.56%); opacity: 0.83\" title=\"-0.113\">offsets</span><span style=\"opacity: 0.80\">, </span><span style=\"background-color: hsl(0, 100.00%, 89.47%); opacity: 0.83\" title=\"-0.132\">not</span><span style=\"opacity: 0.80\"> </span><span style=\"background-color: hsl(120, 100.00%, 80.73%); opacity: 0.87\" title=\"0.314\">workers</span><span style=\"opacity: 0.80\"> </span><span style=\"background-color: hsl(0, 100.00%, 97.33%); opacity: 0.80\" title=\"-0.019\">weaken</span><span style=\"opacity: 0.80\"> </span><span style=\"background-color: hsl(120, 100.00%, 90.59%); opacity: 0.83\" title=\"0.113\">voter</span><span style=\"opacity: 0.80\"> </span><span style=\"background-color: hsl(120, 100.00%, 95.92%); opacity: 0.81\" title=\"0.034\">laws</span><span style=\"opacity: 0.80\"> </span><span style=\"background-color: hsl(0, 100.00%, 96.34%); opacity: 0.81\" title=\"-0.029\">for</span><span style=\"opacity: 0.80\"> </span><span style=\"background-color: hsl(120, 100.00%, 96.43%); opacity: 0.81\" title=\"0.028\">the</span><span style=\"opacity: 0.80\"> </span><span style=\"background-color: hsl(120, 100.00%, 82.55%); opacity: 0.86\" title=\"0.272\">2020</span><span style=\"opacity: 0.80\"> </span><span style=\"background-color: hsl(120, 100.00%, 77.96%); opacity: 0.89\" title=\"0.380\">election</span><span style=\"opacity: 0.80\"> </span><span style=\"background-color: hsl(0, 100.00%, 93.34%); opacity: 0.82\" title=\"-0.069\">corporate</span><span style=\"opacity: 0.80\"> </span><span style=\"background-color: hsl(0, 100.00%, 97.29%); opacity: 0.80\" title=\"-0.019\">board</span><span style=\"opacity: 0.80\"> </span><span style=\"background-color: hsl(0, 100.00%, 97.67%); opacity: 0.80\" title=\"-0.015\">diversity</span><span style=\"opacity: 0.80\"> </span><span style=\"background-color: hsl(0, 100.00%, 98.23%); opacity: 0.80\" title=\"-0.010\">you</span><span style=\"opacity: 0.80\"> </span><span style=\"background-color: hsl(120, 100.00%, 96.42%); opacity: 0.81\" title=\"0.028\">cant</span><span style=\"opacity: 0.80\"> </span><span style=\"background-color: hsl(120, 100.00%, 83.44%); opacity: 0.86\" title=\"0.253\">make</span><span style=\"opacity: 0.80\"> </span><span style=\"background-color: hsl(0, 100.00%, 92.06%); opacity: 0.82\" title=\"-0.088\">this</span><span style=\"opacity: 0.80\"> </span><span style=\"background-color: hsl(0, 100.00%, 95.22%); opacity: 0.81\" title=\"-0.043\">stuff</span><span style=\"opacity: 0.80\"> </span><span style=\"background-color: hsl(120, 100.00%, 95.64%); opacity: 0.81\" title=\"0.038\">up</span><span style=\"opacity: 0.80\">.</span>\n",
              "    </p>\n",
              "\n",
              "\n",
              "    \n",
              "\n",
              "    \n",
              "\n",
              "    \n",
              "\n",
              "    \n",
              "\n",
              "\n",
              "    \n",
              "\n",
              "    \n",
              "\n",
              "    \n",
              "\n",
              "    \n",
              "\n",
              "    \n",
              "\n",
              "    \n",
              "\n",
              "\n",
              "    \n",
              "\n",
              "    \n",
              "\n",
              "    \n",
              "\n",
              "    \n",
              "\n",
              "    \n",
              "\n",
              "    \n",
              "\n",
              "\n",
              "\n"
            ],
            "text/plain": [
              "<IPython.core.display.HTML object>"
            ]
          },
          "metadata": {
            "tags": []
          },
          "execution_count": 71
        }
      ]
    },
    {
      "cell_type": "code",
      "metadata": {
        "id": "fG4GGUw6IpJr",
        "colab": {
          "base_uri": "https://localhost:8080/",
          "height": 170
        },
        "outputId": "4124c36c-2e81-4731-ed4a-6d72e91223f7"
      },
      "source": [
        "eli5.show_prediction(model, doc, vec=vectorizer)"
      ],
      "execution_count": 72,
      "outputs": [
        {
          "output_type": "execute_result",
          "data": {
            "text/html": [
              "\n",
              "    <style>\n",
              "    table.eli5-weights tr:hover {\n",
              "        filter: brightness(85%);\n",
              "    }\n",
              "</style>\n",
              "\n",
              "\n",
              "\n",
              "    \n",
              "\n",
              "    \n",
              "\n",
              "    \n",
              "\n",
              "    \n",
              "\n",
              "    \n",
              "\n",
              "    \n",
              "\n",
              "\n",
              "    \n",
              "\n",
              "    \n",
              "\n",
              "    \n",
              "\n",
              "    \n",
              "        \n",
              "\n",
              "    \n",
              "\n",
              "        \n",
              "\n",
              "        \n",
              "    \n",
              "        \n",
              "        \n",
              "    \n",
              "        <p style=\"margin-bottom: 0.5em; margin-top: 0em\">\n",
              "            <b>\n",
              "    \n",
              "        y=0\n",
              "    \n",
              "</b>\n",
              "\n",
              "    \n",
              "    (probability <b>0.555</b>, score <b>-0.220</b>)\n",
              "\n",
              "top features\n",
              "        </p>\n",
              "    \n",
              "    <table class=\"eli5-weights\"\n",
              "           style=\"border-collapse: collapse; border: none; margin-top: 0em; table-layout: auto; margin-bottom: 2em;\">\n",
              "        <thead>\n",
              "        <tr style=\"border: none;\">\n",
              "            \n",
              "                <th style=\"padding: 0 1em 0 0.5em; text-align: right; border: none;\" title=\"Feature contribution already accounts for the feature value (for linear models, contribution = weight * feature value), and the sum of feature contributions is equal to the score or, for some classifiers, to the probability. Feature values are shown if &quot;show_feature_values&quot; is True.\">\n",
              "                    Contribution<sup>?</sup>\n",
              "                </th>\n",
              "            \n",
              "            <th style=\"padding: 0 0.5em 0 0.5em; text-align: left; border: none;\">Feature</th>\n",
              "            \n",
              "        </tr>\n",
              "        </thead>\n",
              "        <tbody>\n",
              "        \n",
              "            <tr style=\"background-color: hsl(120, 100.00%, 80.00%); border: none;\">\n",
              "    <td style=\"padding: 0 1em 0 0.5em; text-align: right; border: none;\">\n",
              "        +0.178\n",
              "    </td>\n",
              "    <td style=\"padding: 0 0.5em 0 0.5em; text-align: left; border: none;\">\n",
              "        Highlighted in text (sum)\n",
              "    </td>\n",
              "    \n",
              "</tr>\n",
              "        \n",
              "            <tr style=\"background-color: hsl(120, 100.00%, 92.64%); border: none;\">\n",
              "    <td style=\"padding: 0 1em 0 0.5em; text-align: right; border: none;\">\n",
              "        +0.043\n",
              "    </td>\n",
              "    <td style=\"padding: 0 0.5em 0 0.5em; text-align: left; border: none;\">\n",
              "        &lt;BIAS&gt;\n",
              "    </td>\n",
              "    \n",
              "</tr>\n",
              "        \n",
              "        \n",
              "\n",
              "        \n",
              "        \n",
              "\n",
              "        </tbody>\n",
              "    </table>\n",
              "\n",
              "    \n",
              "\n",
              "\n",
              "\n",
              "    <p style=\"margin-bottom: 2.5em; margin-top:-0.5em;\">\n",
              "        <span style=\"background-color: hsl(120, 100.00%, 91.74%); opacity: 0.82\" title=\"0.078\">senate</span><span style=\"opacity: 0.80\"> </span><span style=\"background-color: hsl(120, 100.00%, 61.27%); opacity: 0.99\" title=\"0.710\">dems</span><span style=\"opacity: 0.80\"> </span><span style=\"background-color: hsl(0, 100.00%, 97.91%); opacity: 0.80\" title=\"-0.011\">stalling</span><span style=\"opacity: 0.80\"> </span><span style=\"background-color: hsl(0, 100.00%, 99.35%); opacity: 0.80\" title=\"-0.002\">aid</span><span style=\"opacity: 0.80\">, </span><span style=\"background-color: hsl(120, 100.00%, 93.39%); opacity: 0.82\" title=\"0.057\">economic</span><span style=\"opacity: 0.80\"> </span><span style=\"background-color: hsl(0, 100.00%, 94.50%); opacity: 0.81\" title=\"-0.044\">stability</span><span style=\"opacity: 0.80\"> </span><span style=\"background-color: hsl(0, 100.00%, 95.57%); opacity: 0.81\" title=\"-0.032\">for</span><span style=\"opacity: 0.80\"> </span><span style=\"background-color: hsl(120, 100.00%, 96.59%); opacity: 0.81\" title=\"0.022\">americans</span><span style=\"opacity: 0.80\">. </span><span style=\"background-color: hsl(0, 100.00%, 91.57%); opacity: 0.82\" title=\"-0.080\">why</span><span style=\"opacity: 0.80\">? </span><span style=\"background-color: hsl(0, 100.00%, 88.89%); opacity: 0.83\" title=\"-0.119\">because</span><span style=\"opacity: 0.80\"> </span><span style=\"background-color: hsl(120, 100.00%, 60.00%); opacity: 1.00\" title=\"0.743\">pelosi</span><span style=\"opacity: 0.80\"> </span><span style=\"background-color: hsl(120, 100.00%, 88.74%); opacity: 0.83\" title=\"0.121\">wants</span><span style=\"opacity: 0.80\">: </span><span style=\"background-color: hsl(120, 100.00%, 93.05%); opacity: 0.82\" title=\"0.061\">mandates</span><span style=\"opacity: 0.80\"> </span><span style=\"background-color: hsl(120, 100.00%, 96.50%); opacity: 0.81\" title=\"0.023\">on</span><span style=\"opacity: 0.80\"> </span><span style=\"background-color: hsl(120, 100.00%, 97.46%); opacity: 0.80\" title=\"0.014\">airlines</span><span style=\"opacity: 0.80\"> </span><span style=\"background-color: hsl(0, 100.00%, 95.05%); opacity: 0.81\" title=\"-0.038\">to</span><span style=\"opacity: 0.80\"> </span><span style=\"background-color: hsl(0, 100.00%, 98.66%); opacity: 0.80\" title=\"-0.006\">spend</span><span style=\"opacity: 0.80\"> </span><span style=\"background-color: hsl(120, 100.00%, 96.50%); opacity: 0.81\" title=\"0.023\">on</span><span style=\"opacity: 0.80\"> </span><span style=\"background-color: hsl(120, 100.00%, 95.21%); opacity: 0.81\" title=\"0.036\">carbon</span><span style=\"opacity: 0.80\"> </span><span style=\"background-color: hsl(120, 100.00%, 88.75%); opacity: 0.83\" title=\"0.121\">offsets</span><span style=\"opacity: 0.80\">, </span><span style=\"background-color: hsl(0, 100.00%, 89.77%); opacity: 0.83\" title=\"-0.106\">not</span><span style=\"opacity: 0.80\"> </span><span style=\"background-color: hsl(0, 100.00%, 83.35%); opacity: 0.86\" title=\"-0.212\">workers</span><span style=\"opacity: 0.80\"> </span><span style=\"background-color: hsl(0, 100.00%, 96.67%); opacity: 0.81\" title=\"-0.021\">weaken</span><span style=\"opacity: 0.80\"> </span><span style=\"background-color: hsl(0, 100.00%, 81.38%); opacity: 0.87\" title=\"-0.249\">voter</span><span style=\"opacity: 0.80\"> </span><span style=\"background-color: hsl(120, 100.00%, 95.00%); opacity: 0.81\" title=\"0.038\">laws</span><span style=\"opacity: 0.80\"> </span><span style=\"background-color: hsl(0, 100.00%, 95.57%); opacity: 0.81\" title=\"-0.032\">for</span><span style=\"opacity: 0.80\"> </span><span style=\"background-color: hsl(120, 100.00%, 97.75%); opacity: 0.80\" title=\"0.012\">the</span><span style=\"opacity: 0.80\"> </span><span style=\"background-color: hsl(0, 100.00%, 93.40%); opacity: 0.82\" title=\"-0.057\">2020</span><span style=\"opacity: 0.80\"> </span><span style=\"background-color: hsl(0, 100.00%, 86.98%); opacity: 0.84\" title=\"-0.150\">election</span><span style=\"opacity: 0.80\"> </span><span style=\"background-color: hsl(0, 100.00%, 80.83%); opacity: 0.87\" title=\"-0.260\">corporate</span><span style=\"opacity: 0.80\"> </span><span style=\"background-color: hsl(0, 100.00%, 94.81%); opacity: 0.81\" title=\"-0.040\">board</span><span style=\"opacity: 0.80\"> </span><span style=\"background-color: hsl(0, 100.00%, 85.24%); opacity: 0.85\" title=\"-0.179\">diversity</span><span style=\"opacity: 0.80\"> </span><span style=\"background-color: hsl(0, 100.00%, 92.80%); opacity: 0.82\" title=\"-0.064\">you</span><span style=\"opacity: 0.80\"> </span><span style=\"background-color: hsl(0, 100.00%, 93.07%); opacity: 0.82\" title=\"-0.061\">cant</span><span style=\"opacity: 0.80\"> </span><span style=\"background-color: hsl(0, 100.00%, 86.66%); opacity: 0.84\" title=\"-0.155\">make</span><span style=\"opacity: 0.80\"> </span><span style=\"background-color: hsl(0, 100.00%, 97.25%); opacity: 0.80\" title=\"-0.016\">this</span><span style=\"opacity: 0.80\"> </span><span style=\"background-color: hsl(120, 100.00%, 89.63%); opacity: 0.83\" title=\"0.108\">stuff</span><span style=\"opacity: 0.80\"> </span><span style=\"background-color: hsl(0, 100.00%, 93.38%); opacity: 0.82\" title=\"-0.057\">up</span><span style=\"opacity: 0.80\">.</span>\n",
              "    </p>\n",
              "\n",
              "\n",
              "    \n",
              "\n",
              "    \n",
              "\n",
              "    \n",
              "\n",
              "    \n",
              "\n",
              "\n",
              "    \n",
              "\n",
              "    \n",
              "\n",
              "    \n",
              "\n",
              "    \n",
              "\n",
              "    \n",
              "\n",
              "    \n",
              "\n",
              "\n",
              "    \n",
              "\n",
              "    \n",
              "\n",
              "    \n",
              "\n",
              "    \n",
              "\n",
              "    \n",
              "\n",
              "    \n",
              "\n",
              "\n",
              "\n"
            ],
            "text/plain": [
              "<IPython.core.display.HTML object>"
            ]
          },
          "metadata": {
            "tags": []
          },
          "execution_count": 72
        }
      ]
    },
    {
      "cell_type": "markdown",
      "metadata": {
        "id": "hHHEwkfaVRMS"
      },
      "source": [
        "## Now a more manual approach to bootstrap a dictionary, find similar docs and explore topics"
      ]
    },
    {
      "cell_type": "code",
      "metadata": {
        "id": "nwLmt_dFLjpT",
        "colab": {
          "base_uri": "https://localhost:8080/"
        },
        "outputId": "3a8615bc-fe47-4dea-93c5-680f7b29989f"
      },
      "source": [
        "import nltk\n",
        "nltk.download('stopwords')\n",
        "\n",
        "from nltk.corpus import stopwords\n",
        "from nltk.tokenize import TweetTokenizer\n",
        "stop_words = set(stopwords.words('english'))\n",
        "tknzr = TweetTokenizer()"
      ],
      "execution_count": 73,
      "outputs": [
        {
          "output_type": "stream",
          "text": [
            "[nltk_data] Downloading package stopwords to /root/nltk_data...\n",
            "[nltk_data]   Package stopwords is already up-to-date!\n"
          ],
          "name": "stdout"
        }
      ]
    },
    {
      "cell_type": "code",
      "metadata": {
        "id": "_iLHFasiVUQw"
      },
      "source": [
        "from sklearn.metrics import confusion_matrix"
      ],
      "execution_count": 74,
      "outputs": []
    },
    {
      "cell_type": "code",
      "metadata": {
        "id": "NjAV8RCQVXIq"
      },
      "source": [
        "tokenized_simple = data['text_clean'].map(lambda row: [tok.lower() for tok in tknzr.tokenize(row) if tok not in stop_words and tok.isalpha()])"
      ],
      "execution_count": 75,
      "outputs": []
    },
    {
      "cell_type": "code",
      "metadata": {
        "id": "CA3IgrqyWNNv"
      },
      "source": [
        "data['simple_tokens'] = tokenized_simple"
      ],
      "execution_count": 76,
      "outputs": []
    },
    {
      "cell_type": "code",
      "metadata": {
        "id": "l5K6CYnuWboQ"
      },
      "source": [
        "# Import the dictionary builder\n",
        "from gensim.corpora.dictionary import Dictionary\n",
        "\n",
        "# Import the TfidfModel from Gensim\n",
        "from gensim.models.tfidfmodel import TfidfModel\n",
        "\n",
        "# Just like before, we import the model\n",
        "from gensim.models.lsimodel import LsiModel"
      ],
      "execution_count": 77,
      "outputs": []
    },
    {
      "cell_type": "code",
      "metadata": {
        "id": "q_sty6kdWede"
      },
      "source": [
        "train_df = data[:40000]\n",
        "test_df = data[40000:]"
      ],
      "execution_count": 78,
      "outputs": []
    },
    {
      "cell_type": "code",
      "metadata": {
        "id": "s2Ro3pkaWlSB"
      },
      "source": [
        "dictionary = Dictionary(train_df['simple_tokens'])"
      ],
      "execution_count": 79,
      "outputs": []
    },
    {
      "cell_type": "code",
      "metadata": {
        "id": "GTK9eDczWtss"
      },
      "source": [
        "# Filter it for extreme stuff\n",
        "dictionary.filter_extremes(no_below = 50, no_above=0.4, keep_n=1000)"
      ],
      "execution_count": 80,
      "outputs": []
    },
    {
      "cell_type": "code",
      "metadata": {
        "id": "cIxGc3ZmWvml"
      },
      "source": [
        "# construct corpus using this dictionary\n",
        "train_corpus = [dictionary.doc2bow(doc) for doc in train_df['simple_tokens']]\n",
        "test_corpus = [dictionary.doc2bow(doc) for doc in test_df['simple_tokens']]"
      ],
      "execution_count": 81,
      "outputs": []
    },
    {
      "cell_type": "code",
      "metadata": {
        "id": "tJjLjziOW5Ev"
      },
      "source": [
        "# Tooling to map between corpus (gensim) and matrix - more general\n",
        "from gensim.matutils import corpus2csc, corpus2dense"
      ],
      "execution_count": 82,
      "outputs": []
    },
    {
      "cell_type": "code",
      "metadata": {
        "id": "BfZ25LrbXBOg"
      },
      "source": [
        "tfidf = TfidfModel(train_corpus)"
      ],
      "execution_count": 83,
      "outputs": []
    },
    {
      "cell_type": "code",
      "metadata": {
        "id": "ckDzYv2mXY-T"
      },
      "source": [
        "\n",
        "train_corpus_tfidf = tfidf[train_corpus]\n",
        "test_corpus_tfidf = tfidf[test_corpus]"
      ],
      "execution_count": 84,
      "outputs": []
    },
    {
      "cell_type": "code",
      "metadata": {
        "id": "ZF8Nd-00YQEh"
      },
      "source": [
        "# Just like before, we import the model\n",
        "from gensim.models.lsimodel import LsiModel"
      ],
      "execution_count": 85,
      "outputs": []
    },
    {
      "cell_type": "code",
      "metadata": {
        "id": "mlab_md6YdiN"
      },
      "source": [
        "# Training the LSI model\n",
        "model_lsi = LsiModel(train_corpus_tfidf, num_topics = 100, id2word=dictionary)"
      ],
      "execution_count": 86,
      "outputs": []
    },
    {
      "cell_type": "code",
      "metadata": {
        "id": "D3-Q7cGPYmvW",
        "colab": {
          "base_uri": "https://localhost:8080/"
        },
        "outputId": "795fc4c6-5060-454c-a314-a4a0521d40d4"
      },
      "source": [
        "model_lsi.print_topics(10)"
      ],
      "execution_count": 87,
      "outputs": [
        {
          "output_type": "execute_result",
          "data": {
            "text/plain": [
              "[(0,\n",
              "  '0.214*\"i\" + 0.174*\"the\" + 0.151*\"we\" + 0.145*\"qt\" + 0.129*\"need\" + 0.126*\"today\" + 0.122*\"health\" + 0.118*\"this\" + 0.114*\"people\" + 0.112*\"trump\"'),\n",
              " (1,\n",
              "  '0.299*\"small\" + 0.283*\"businesses\" + 0.221*\"health\" + 0.176*\"workers\" + 0.173*\"help\" + -0.169*\"president\" + 0.167*\"care\" + -0.157*\"i\" + 0.156*\"need\" + 0.149*\"relief\"'),\n",
              " (2,\n",
              "  '-0.397*\"thank\" + 0.317*\"trump\" + 0.279*\"the\" + 0.261*\"president\" + -0.245*\"i\" + 0.152*\"house\" + -0.138*\"day\" + -0.138*\"today\" + -0.138*\"happy\" + 0.136*\"senate\"'),\n",
              " (3,\n",
              "  '0.463*\"health\" + 0.364*\"care\" + -0.280*\"small\" + -0.249*\"businesses\" + 0.178*\"we\" + -0.167*\"house\" + -0.141*\"the\" + 0.140*\"public\" + 0.128*\"thank\" + -0.119*\"senate\"'),\n",
              " (4,\n",
              "  '0.239*\"thank\" + -0.212*\"live\" + 0.210*\"act\" + -0.167*\"covid\" + -0.166*\"join\" + -0.163*\"trump\" + 0.156*\"house\" + -0.146*\"de\" + 0.142*\"bill\" + -0.127*\"new\"'),\n",
              " (5,\n",
              "  '-0.502*\"thank\" + 0.286*\"vote\" + -0.266*\"president\" + -0.263*\"trump\" + 0.210*\"we\" + 0.135*\"need\" + 0.134*\"today\" + 0.130*\"voting\" + -0.127*\"u\" + 0.127*\"make\"'),\n",
              " (6,\n",
              "  '-0.376*\"i\" + 0.353*\"we\" + -0.263*\"health\" + -0.224*\"care\" + 0.202*\"need\" + 0.160*\"de\" + -0.153*\"house\" + 0.137*\"small\" + -0.132*\"live\" + -0.128*\"act\"'),\n",
              " (7,\n",
              "  '0.631*\"de\" + 0.370*\"la\" + 0.327*\"en\" + 0.313*\"el\" + 0.208*\"los\" + -0.125*\"i\" + 0.125*\"thank\" + 0.118*\"house\" + -0.105*\"president\" + -0.100*\"trump\"'),\n",
              " (8,\n",
              "  '0.601*\"i\" + -0.359*\"thank\" + 0.228*\"de\" + -0.220*\"the\" + -0.139*\"s\" + 0.135*\"la\" + -0.133*\"u\" + -0.130*\"live\" + -0.129*\"vote\" + -0.124*\"day\"'),\n",
              " (9,\n",
              "  '-0.335*\"vote\" + 0.312*\"s\" + 0.307*\"u\" + -0.211*\"thank\" + -0.189*\"care\" + -0.184*\"trump\" + 0.181*\"we\" + 0.167*\"the\" + 0.164*\"must\" + -0.150*\"president\"')]"
            ]
          },
          "metadata": {
            "tags": []
          },
          "execution_count": 87
        }
      ]
    },
    {
      "cell_type": "code",
      "metadata": {
        "id": "ispOFPY8YpiL"
      },
      "source": [
        "\n",
        "train_corpus_lsi = model_lsi[train_corpus_tfidf]\n",
        "test_corpus_lsi = model_lsi[test_corpus_tfidf]"
      ],
      "execution_count": 88,
      "outputs": []
    },
    {
      "cell_type": "code",
      "metadata": {
        "id": "rCOMvCvYYw6p"
      },
      "source": [
        "# Load the MatrixSimilarity\n",
        "from gensim.similarities import MatrixSimilarity\n",
        "\n",
        "# Create the document-topic-matrix\n",
        "document_topic_matrix_train = MatrixSimilarity(train_corpus_lsi)\n",
        "\n",
        "# this will create you a document - document similarity matrix (you could import it as a network...)\n",
        "document_topic_matrix_train_ix = document_topic_matrix_train.index\n",
        "\n",
        "# Same for test-set\n",
        "document_topic_matrix_test = MatrixSimilarity(test_corpus_lsi)\n",
        "document_topic_matrix_test_ix = document_topic_matrix_test.index"
      ],
      "execution_count": 89,
      "outputs": []
    },
    {
      "cell_type": "code",
      "metadata": {
        "id": "X68jQBs-ZHGN",
        "colab": {
          "base_uri": "https://localhost:8080/"
        },
        "outputId": "4eb4ccb6-30a7-435c-830b-bb95d2321388"
      },
      "source": [
        "# Prepare the query\n",
        "\n",
        "doc = \"Trump lies\"\n",
        "\n",
        "\n",
        "vec_bow = dictionary.doc2bow(doc.lower().split()) # convert to bag of words\n",
        "vec_tfidf = tfidf[vec_bow] # convert to tfidf\n",
        "vec_lsi = model_lsi[vec_tfidf]  # convert the query to LSI space\n",
        "\n",
        "print(len(vec_lsi))\n",
        "print(vec_lsi[:10])"
      ],
      "execution_count": 90,
      "outputs": [
        {
          "output_type": "stream",
          "text": [
            "100\n",
            "[(0, 0.11226462861189736), (1, -0.13400545543091272), (2, 0.3169954603634245), (3, 0.09198700462963152), (4, -0.16323721117262133), (5, -0.26325404461921065), (6, 0.07564273361054197), (7, -0.10042807254447193), (8, 0.05967286540664475), (9, -0.18396837218314088)]\n"
          ],
          "name": "stdout"
        }
      ]
    },
    {
      "cell_type": "code",
      "metadata": {
        "id": "Jt8N2K71ZQva",
        "colab": {
          "base_uri": "https://localhost:8080/"
        },
        "outputId": "7ee0d139-d383-4da8-ffbb-a286e0cf2c48"
      },
      "source": [
        "sims = document_topic_matrix_train[vec_lsi]\n",
        "\n",
        "sims = sorted(enumerate(sims), key=lambda item: -item[1])\n",
        "for i, s in sims[:10]: #ten most similar texts\n",
        "    print(s, train_df.iloc[i,:]['text'])"
      ],
      "execution_count": 91,
      "outputs": [
        {
          "output_type": "stream",
          "text": [
            "1.0 Trump is ping ponging from platitudes to propaganda to downright bald-faced lies.\n",
            "0.98955286 @CarolineEDavis3 Ma’am, the ratio was 105.3% when Trump came down the escalator.\n",
            "0.986025 RT @MemphisHoller \"Trump University, that wasn't even Trump Kindergartgen\" @RepCohen 😂😂😂 http://pbs.twimg.com/tweet_video_thumb/EX1MNuBXgAs1seG.jpg https://video.twimg.com/tweet_video/EX1MNuBXgAs1seG.mp4\n",
            "0.9843757 Trust me, my sister @KamalaHarris is not worried about Donald Trump. Donald Trump should be worried about Kamala Harris. http://pbs.twimg.com/amplify_video_thumb/1293363951896604673/img/UyG19VjEu6DozMN1.jpg https://video.twimg.com/amplify_video/1293363951896604673/vid/480x270/WoloYG5JFEF-7-nZ.mp4?tag=13\n",
            "0.9833878 RT @MAS0424 @brianschatz Maybe when trump gives his speech\n",
            "0.9640105 Vote-by-mail is not corrupt. But Donald Trump is. https://www.vox.com/policy-and-politics/2020/8/18/21373478/absentee-ballot-vote-by-mail-voting\n",
            "0.95737743 Donald Trump is more interested in preserving monuments of racists than tearing down racism. \n",
            "\n",
            "It's clear where he stands.\n",
            "0.95699424 RT @EnergyCommerce Chairman @FrankPallone blasts the Trump Administration's so-called tobacco flavor ban. https://energycommerce.house.gov/newsroom/press-releases/pallone-on-president-trump-s-flavor-ban-reversal http://pbs.twimg.com/media/ENTAS34W4AANdKw.png\n",
            "0.94262904 RT @nowthisnews Trump cut FEMA’s budget to pay for ICE detention centers — as an above average hurricane season looms http://pbs.twimg.com/media/EZroR6mWAAAcLMQ.jpg https://video.twimg.com/amplify_video/1268579966935019521/vid/320x320/amVeCpc2c3fQWvDQ.mp4?tag=13\n",
            "0.9335823 RT @samstein So the sequence here appears to be. \n",
            "\n",
            "1. DNI gets intel that Russia is interfering again in the election\n",
            "\n",
            "2. Acting DNI briefs lawmakers about the threat.\n",
            "\n",
            "3. Trump finds out\n",
            "\n",
            "4. Trump berates acting DNI\n",
            "\n",
            "5. Trump replaces acting DNI with political stooge/ally\n"
          ],
          "name": "stdout"
        }
      ]
    },
    {
      "cell_type": "markdown",
      "metadata": {
        "id": "zkLWTvpzS7ab"
      },
      "source": [
        "### Use the previousely trained model on new tweets"
      ]
    },
    {
      "cell_type": "code",
      "metadata": {
        "id": "ilZN-YyxkyBY"
      },
      "source": [
        "new_tweets = pd.read_json('https://github.com/SDS-AAU/SDS-master/raw/master/M2/data/pres_debate_2020.gz')"
      ],
      "execution_count": 92,
      "outputs": []
    },
    {
      "cell_type": "code",
      "metadata": {
        "id": "KOPiNQfLlHzV"
      },
      "source": [
        "new_tweets['tweet_clean'] = new_tweets['tweet'].map(p.clean)"
      ],
      "execution_count": 93,
      "outputs": []
    },
    {
      "cell_type": "code",
      "metadata": {
        "id": "Efpe8ElBlrEo"
      },
      "source": [
        "X_new = vectorizer.transform(new_tweets['tweet_clean'])"
      ],
      "execution_count": 95,
      "outputs": []
    },
    {
      "cell_type": "code",
      "metadata": {
        "id": "6m7FmRkNl717",
        "colab": {
          "base_uri": "https://localhost:8080/"
        },
        "outputId": "6691f68b-e118-4769-9dce-3c03166e010d"
      },
      "source": [
        "X_new.shape"
      ],
      "execution_count": 96,
      "outputs": [
        {
          "output_type": "execute_result",
          "data": {
            "text/plain": [
              "(8811, 40022)"
            ]
          },
          "metadata": {
            "tags": []
          },
          "execution_count": 96
        }
      ]
    },
    {
      "cell_type": "code",
      "metadata": {
        "id": "K4FcuIWrmVey"
      },
      "source": [
        "new_tweets['prob_dem'] = model.predict_proba(X_new)[:,1]"
      ],
      "execution_count": 97,
      "outputs": []
    },
    {
      "cell_type": "code",
      "metadata": {
        "id": "z15cnOlMn4_y"
      },
      "source": [
        "pd.set_option('display.max_colwidth', 0)"
      ],
      "execution_count": 98,
      "outputs": []
    },
    {
      "cell_type": "code",
      "metadata": {
        "id": "NIMz-qOLm9wA",
        "colab": {
          "base_uri": "https://localhost:8080/"
        },
        "outputId": "5c446fe1-b6e7-4753-c9ba-14607302a08a"
      },
      "source": [
        "new_tweets.sort_values('prob_dem', ascending=False)['tweet'][:10]"
      ],
      "execution_count": 99,
      "outputs": [
        {
          "output_type": "execute_result",
          "data": {
            "text/plain": [
              "41      #PresidentialDebate2020   ? for Trump: @JoeBiden wills to lead for ALL Americans, so President Trump, what is it that you think your fans will desire of #BidenHarris2020 should they win the election?  #BidenHarris2020                                                                                       \n",
              "8631    The climate crisis is urgent and we deserve to hear how the #PresidentialDebate2020 candidates will tackle it. @SusanPage please ask a #ClimateChange question at the #VPDebate ! #climate  https://t.co/9nRDAAKlFz                                                                                             \n",
              "966     #4 Climate Change mr Trump why don’t you believe in science?  #5 National Security mr Trump why are you a Russian agent?   #6 Leadership mr trump why are you a reprobate?  #Debates2020 #PresidentialDebate2020                                                                                                \n",
              "3675    This means that Donald Trump has already conceded defeat, at night @KamalaHarris showed Trump his real face and now Trump is conceding defeat in fear of @JoeBiden . #BidenHarrisForMuslims #PresidentialDebate2020                                                                                             \n",
              "4510    Just a reminder of what he has done for the LGBTQ community. Remember we have the power to vote him out in November.. #BidenHarris2020 #PresidentialDebate2020 #VPDebate #LGBTQRights #VPDebate2020 #KamalaHarris #gayrights #BidenHarrisLandslide2020 #OompaLoompaTrump #DumpTrump2020  https://t.co/oz4LvKQXZT\n",
              "6738    As deadly wildfires burn in the West, the climate questions at the presidential debate displayed a clear contrast between @JoeBiden’s comprehensive plan to tackle the #ClimateCrisis and Trump’s efforts to undermine climate science #PresidentialDebate2020  https://t.co/MDngja2xea                         \n",
              "6742    As deadly wildfires burn in the West, the climate questions at the presidential debate displayed a clear contrast between @JoeBiden’s comprehensive plan to tackle the #ClimateCrisis and Trump’s efforts to undermine climate science #PresidentialDebate2020  https://t.co/sJpXxm2C39                         \n",
              "6236    @JoeBiden It is not a problem of recognizing black people for their contributions, Mr. Vice President, it is about equal opportunities and rights.  THAT IS REAL CHANGE! #EstamosCambiando  #PresidentialDebate2020  https://t.co/z2HenQSet1                                                                    \n",
              "4842    “He has Jewish grandchildren”, is equivalent to “my cousin is black” or “my bestfriend is black”. You can still be racist &amp; prejudice no matter who you know or who you’re connected to.  I’m sick of y’all acting like you don’t understand how racism works! #PresidentialDebate2020                      \n",
              "7115    “Donald Trump is still a racist, incompetent, cruel, miserable, ghoul of a human being!” 😂@ChelseaClinton #WWHL #PresidentialDebate2020                                                                                                                                                                         \n",
              "Name: tweet, dtype: object"
            ]
          },
          "metadata": {
            "tags": []
          },
          "execution_count": 99
        }
      ]
    },
    {
      "cell_type": "code",
      "metadata": {
        "id": "VTbrmAbKnRll"
      },
      "source": [
        "new_tweets['mentions'] = new_tweets['tweet'].map(lambda tweet: [token for token in tknzr.tokenize(tweet) if token.startswith('@')])"
      ],
      "execution_count": 100,
      "outputs": []
    },
    {
      "cell_type": "code",
      "metadata": {
        "id": "43N1x9GuqBbA"
      },
      "source": [
        "new_tweets_mentions = new_tweets[new_tweets['mentions'].map(len) > 0]"
      ],
      "execution_count": 101,
      "outputs": []
    },
    {
      "cell_type": "code",
      "metadata": {
        "id": "DYE6MiLqq-Xz"
      },
      "source": [
        "import itertools\n",
        "from collections import Counter"
      ],
      "execution_count": 102,
      "outputs": []
    },
    {
      "cell_type": "code",
      "metadata": {
        "id": "fer_bF9frOoT"
      },
      "source": [
        "dem_tweets = new_tweets_mentions[new_tweets_mentions['prob_dem'] > 0.8]\n",
        "rep_tweets = new_tweets_mentions[new_tweets_mentions['prob_dem'] < 0.3]"
      ],
      "execution_count": 103,
      "outputs": []
    },
    {
      "cell_type": "code",
      "metadata": {
        "id": "9j0246AJsKwh",
        "colab": {
          "base_uri": "https://localhost:8080/",
          "height": 282
        },
        "outputId": "d35628fd-e629-4768-b74f-0cb939c1a53e"
      },
      "source": [
        "new_tweets.prob_dem.hist()"
      ],
      "execution_count": 104,
      "outputs": [
        {
          "output_type": "execute_result",
          "data": {
            "text/plain": [
              "<matplotlib.axes._subplots.AxesSubplot at 0x7fdb6928be10>"
            ]
          },
          "metadata": {
            "tags": []
          },
          "execution_count": 104
        },
        {
          "output_type": "display_data",
          "data": {
            "image/png": "[encoded data removed]",
            "text/plain": [
              "<Figure size 432x288 with 1 Axes>"
            ]
          },
          "metadata": {
            "tags": [],
            "needs_background": "light"
          }
        }
      ]
    },
    {
      "cell_type": "code",
      "metadata": {
        "id": "UKtfIZvUq4ug"
      },
      "source": [
        "# Collect\n",
        "dem_tags = itertools.chain(*dem_tweets['mentions'])\n",
        "rep_tags = itertools.chain(*rep_tweets['mentions'])"
      ],
      "execution_count": 105,
      "outputs": []
    },
    {
      "cell_type": "code",
      "metadata": {
        "id": "O10kvXl2q9Ou",
        "colab": {
          "base_uri": "https://localhost:8080/"
        },
        "outputId": "ccc50d9a-e14e-4181-8fd5-45e6ea2f4b24"
      },
      "source": [
        "counted_tags = Counter(dem_tags)\n",
        "counted_tags.most_common()[:10]"
      ],
      "execution_count": 106,
      "outputs": [
        {
          "output_type": "execute_result",
          "data": {
            "text/plain": [
              "[('@JoeBiden', 101),\n",
              " ('@realDonaldTrump', 87),\n",
              " ('@KamalaHarris', 19),\n",
              " ('@NBCNews', 12),\n",
              " ('@POTUS', 12),\n",
              " ('@VP', 10),\n",
              " ('@CNN', 7),\n",
              " ('@debates', 7),\n",
              " ('@ABC', 7),\n",
              " ('@', 4)]"
            ]
          },
          "metadata": {
            "tags": []
          },
          "execution_count": 106
        }
      ]
    },
    {
      "cell_type": "code",
      "metadata": {
        "id": "1PBIUT0WrDrd",
        "colab": {
          "base_uri": "https://localhost:8080/"
        },
        "outputId": "3a75ca40-112c-4825-9381-26e5d07d03f7"
      },
      "source": [
        "counted_tags = Counter(rep_tags)\n",
        "counted_tags.most_common()[:10]"
      ],
      "execution_count": 107,
      "outputs": [
        {
          "output_type": "execute_result",
          "data": {
            "text/plain": [
              "[('@realDonaldTrump', 81),\n",
              " ('@JoeBiden', 47),\n",
              " ('@YouTube', 19),\n",
              " ('@POTUS', 11),\n",
              " ('@debates', 7),\n",
              " ('@KamalaHarris', 7),\n",
              " ('@FoxNews', 6),\n",
              " ('@seanhannity', 6),\n",
              " ('@Mike_Pence', 6),\n",
              " ('@VP', 6)]"
            ]
          },
          "metadata": {
            "tags": []
          },
          "execution_count": 107
        }
      ]
    },
    {
      "cell_type": "code",
      "metadata": {
        "id": "ZPqU_gOgssAQ"
      },
      "source": [
        "all_tags = itertools.chain(*new_tweets['mentions'])"
      ],
      "execution_count": 108,
      "outputs": []
    },
    {
      "cell_type": "code",
      "metadata": {
        "id": "1NnLiUM5wvta",
        "colab": {
          "base_uri": "https://localhost:8080/"
        },
        "outputId": "160f9c6f-8869-4f74-ebf7-7f3e15298285"
      },
      "source": [
        "counted_tags = Counter(all_tags)\n",
        "counted_tags.most_common()[:10]"
      ],
      "execution_count": 109,
      "outputs": [
        {
          "output_type": "execute_result",
          "data": {
            "text/plain": [
              "[('@realDonaldTrump', 1155),\n",
              " ('@JoeBiden', 826),\n",
              " ('@KamalaHarris', 217),\n",
              " ('@POTUS', 162),\n",
              " ('@VP', 126),\n",
              " ('@debates', 90),\n",
              " ('@YouTube', 79),\n",
              " ('@NBCNews', 72),\n",
              " ('@Mike_Pence', 67),\n",
              " ('@CNN', 61)]"
            ]
          },
          "metadata": {
            "tags": []
          },
          "execution_count": 109
        }
      ]
    }
  ]
}