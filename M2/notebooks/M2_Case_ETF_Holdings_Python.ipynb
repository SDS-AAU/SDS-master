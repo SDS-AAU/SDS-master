{
  "nbformat": 4,
  "nbformat_minor": 0,
  "metadata": {
    "colab": {
      "name": "M2: Case - ETF Holdings Python",
      "provenance": [],
      "collapsed_sections": [],
      "authorship_tag": "ABX9TyM/vUa7qPkSvwTVuo8cTMLD",
      "include_colab_link": true
    },
    "kernelspec": {
      "name": "python3",
      "display_name": "Python 3"
    }
  },
  "cells": [
    {
      "cell_type": "markdown",
      "metadata": {
        "id": "view-in-github",
        "colab_type": "text"
      },
      "source": [
        "<a href=\"https://colab.research.google.com/github/SDS-AAU/SDS-master/blob/master/M2/notebooks/M2_Case_ETF_Holdings_Python.ipynb\" target=\"_parent\"><img src=\"https://colab.research.google.com/assets/colab-badge.svg\" alt=\"Open In Colab\"/></a>"
      ]
    },
    {
      "cell_type": "markdown",
      "metadata": {
        "id": "w63a5JGV1Bah"
      },
      "source": [
        "## Making a map of ETF Holdings with Bipartite Networks\n",
        "\n",
        "Read the original project description by Andrey Babynin [here](https://towardsdatascience.com/etf2vec-my-story-about-trying-to-extact-narrative-from-etf-holdings-5a5f355ce3c4)\n",
        "\n",
        "\n",
        "\n",
        "\n"
      ]
    },
    {
      "cell_type": "code",
      "metadata": {
        "id": "x35hZkEBfEdL"
      },
      "source": [
        "!mkdir ETF"
      ],
      "execution_count": 1,
      "outputs": []
    },
    {
      "cell_type": "code",
      "metadata": {
        "id": "XLMh-ne1fJ7x",
        "outputId": "660754cb-03cf-4502-93e7-fd7255050820",
        "colab": {
          "base_uri": "https://localhost:8080/"
        }
      },
      "source": [
        "!wget https://github.com/andreybabynin/ETF/raw/master/2019-7-7.zip"
      ],
      "execution_count": 2,
      "outputs": [
        {
          "output_type": "stream",
          "text": [
            "--2020-11-02 17:48:42--  https://github.com/andreybabynin/ETF/raw/master/2019-7-7.zip\n",
            "Resolving github.com (github.com)... 52.69.186.44\n",
            "Connecting to github.com (github.com)|52.69.186.44|:443... connected.\n",
            "HTTP request sent, awaiting response... 302 Found\n",
            "Location: https://raw.githubusercontent.com/andreybabynin/ETF/master/2019-7-7.zip [following]\n",
            "--2020-11-02 17:48:42--  https://raw.githubusercontent.com/andreybabynin/ETF/master/2019-7-7.zip\n",
            "Resolving raw.githubusercontent.com (raw.githubusercontent.com)... 151.101.0.133, 151.101.64.133, 151.101.128.133, ...\n",
            "Connecting to raw.githubusercontent.com (raw.githubusercontent.com)|151.101.0.133|:443... connected.\n",
            "HTTP request sent, awaiting response... 200 OK\n",
            "Length: 24282593 (23M) [application/zip]\n",
            "Saving to: ‘2019-7-7.zip’\n",
            "\n",
            "2019-7-7.zip        100%[===================>]  23.16M  40.6MB/s    in 0.6s    \n",
            "\n",
            "2020-11-02 17:48:43 (40.6 MB/s) - ‘2019-7-7.zip’ saved [24282593/24282593]\n",
            "\n"
          ],
          "name": "stdout"
        }
      ]
    },
    {
      "cell_type": "code",
      "metadata": {
        "id": "PiXTiW4NfQMX"
      },
      "source": [
        "!unzip -d /content/ETF 2019-7-7.zip"
      ],
      "execution_count": null,
      "outputs": []
    },
    {
      "cell_type": "code",
      "metadata": {
        "id": "_QMjASrrfTV-"
      },
      "source": [
        "import glob\n",
        "import io\n",
        "import re\n",
        "import pandas as pd\n",
        "import numpy as np\n",
        "import networkx as nx\n",
        "from networkx.algorithms import bipartite"
      ],
      "execution_count": 4,
      "outputs": []
    },
    {
      "cell_type": "code",
      "metadata": {
        "id": "2_aVM4z9iyNS"
      },
      "source": [
        "paths = glob.glob('/content/ETF/*.csv')"
      ],
      "execution_count": 5,
      "outputs": []
    },
    {
      "cell_type": "code",
      "metadata": {
        "id": "JFj0QZsd4TVz",
        "outputId": "f821e2c9-2087-4b78-dcbc-d0ae3530fff1",
        "colab": {
          "base_uri": "https://localhost:8080/"
        }
      },
      "source": [
        "paths[:10]"
      ],
      "execution_count": 6,
      "outputs": [
        {
          "output_type": "execute_result",
          "data": {
            "text/plain": [
              "['/content/ETF/IEMD_holdings.csv',\n",
              " '/content/ETF/DPYG_holdings.csv',\n",
              " '/content/ETF/CEUU_holdings.csv',\n",
              " '/content/ETF/CEMG_holdings.csv',\n",
              " '/content/ETF/IWSZ_holdings.csv',\n",
              " '/content/ETF/JKI_holdings.csv',\n",
              " '/content/ETF/IUGA_holdings.csv',\n",
              " '/content/ETF/SMUD_holdings.csv',\n",
              " '/content/ETF/EMUL_holdings.csv',\n",
              " '/content/ETF/IWX_holdings.csv']"
            ]
          },
          "metadata": {
            "tags": []
          },
          "execution_count": 6
        }
      ]
    },
    {
      "cell_type": "code",
      "metadata": {
        "id": "24RV7fp1jHW4"
      },
      "source": [
        "edgelist = []\n",
        "isin_list = []\n",
        "\n",
        "for path in paths:\n",
        "  fund = re.findall(r'ETF/(.*?)\\_', path)\n",
        "  string = open(path).read()\n",
        "  start = string.find('Issue')\n",
        "  if start == -1:\n",
        "    start = string.find('Name')\n",
        "  holdings = pd.read_csv(io.StringIO(string[start:]))\n",
        "  if 'ISIN' not in holdings.columns or 'Weight (%)' not in holdings.columns:\n",
        "    continue\n",
        "  holdings.dropna(subset=['ISIN'], inplace=True)\n",
        "  holdings = holdings[holdings.ISIN != '-']\n",
        "  \n",
        "  isin_list.extend(holdings[['ISIN','Name']].values)\n",
        "  holdings = holdings[['ISIN', 'Weight (%)']]\n",
        "  edges = [(fund[0], isin, weight) for isin, weight in holdings.values]\n",
        "\n",
        "  edgelist.extend(edges)"
      ],
      "execution_count": 7,
      "outputs": []
    },
    {
      "cell_type": "code",
      "metadata": {
        "id": "iwvyNyJdl_y7",
        "outputId": "9d6c92b1-3291-42f4-b236-bfdf571c7d21",
        "colab": {
          "base_uri": "https://localhost:8080/"
        }
      },
      "source": [
        "len(edgelist)"
      ],
      "execution_count": 8,
      "outputs": [
        {
          "output_type": "execute_result",
          "data": {
            "text/plain": [
              "437950"
            ]
          },
          "metadata": {
            "tags": []
          },
          "execution_count": 8
        }
      ]
    },
    {
      "cell_type": "code",
      "metadata": {
        "id": "yhYO2IcdnvJG"
      },
      "source": [
        "isin_df = pd.DataFrame(isin_list)"
      ],
      "execution_count": 9,
      "outputs": []
    },
    {
      "cell_type": "code",
      "metadata": {
        "id": "G-UrhdfRpGBf",
        "outputId": "9e573097-0a74-4ec1-86d8-07075eff2099",
        "colab": {
          "base_uri": "https://localhost:8080/",
          "height": 195
        }
      },
      "source": [
        "isin_df.head()"
      ],
      "execution_count": 10,
      "outputs": [
        {
          "output_type": "execute_result",
          "data": {
            "text/html": [
              "<div>\n",
              "<style scoped>\n",
              "    .dataframe tbody tr th:only-of-type {\n",
              "        vertical-align: middle;\n",
              "    }\n",
              "\n",
              "    .dataframe tbody tr th {\n",
              "        vertical-align: top;\n",
              "    }\n",
              "\n",
              "    .dataframe thead th {\n",
              "        text-align: right;\n",
              "    }\n",
              "</style>\n",
              "<table border=\"1\" class=\"dataframe\">\n",
              "  <thead>\n",
              "    <tr style=\"text-align: right;\">\n",
              "      <th></th>\n",
              "      <th>0</th>\n",
              "      <th>1</th>\n",
              "    </tr>\n",
              "  </thead>\n",
              "  <tbody>\n",
              "    <tr>\n",
              "      <th>0</th>\n",
              "      <td>CH0012005267</td>\n",
              "      <td>NOVARTIS AG</td>\n",
              "    </tr>\n",
              "    <tr>\n",
              "      <th>1</th>\n",
              "      <td>CH0012032048</td>\n",
              "      <td>ROCHE HOLDING PAR AG</td>\n",
              "    </tr>\n",
              "    <tr>\n",
              "      <th>2</th>\n",
              "      <td>CH0038863350</td>\n",
              "      <td>NESTLE SA</td>\n",
              "    </tr>\n",
              "    <tr>\n",
              "      <th>3</th>\n",
              "      <td>DE0007164600</td>\n",
              "      <td>SAP</td>\n",
              "    </tr>\n",
              "    <tr>\n",
              "      <th>4</th>\n",
              "      <td>FR0000121014</td>\n",
              "      <td>LVMH</td>\n",
              "    </tr>\n",
              "  </tbody>\n",
              "</table>\n",
              "</div>"
            ],
            "text/plain": [
              "              0                     1\n",
              "0  CH0012005267           NOVARTIS AG\n",
              "1  CH0012032048  ROCHE HOLDING PAR AG\n",
              "2  CH0038863350             NESTLE SA\n",
              "3  DE0007164600                   SAP\n",
              "4  FR0000121014                  LVMH"
            ]
          },
          "metadata": {
            "tags": []
          },
          "execution_count": 10
        }
      ]
    },
    {
      "cell_type": "code",
      "metadata": {
        "id": "kI1WuiPMo52f"
      },
      "source": [
        "isin_df.drop_duplicates(subset=[0], inplace=True)\n",
        "isin_df.columns = ['ISIN','Name']"
      ],
      "execution_count": 11,
      "outputs": []
    },
    {
      "cell_type": "code",
      "metadata": {
        "id": "BE6WDX2omYrk"
      },
      "source": [
        "B = nx.Graph()"
      ],
      "execution_count": 28,
      "outputs": []
    },
    {
      "cell_type": "code",
      "metadata": {
        "id": "XTWGU6m1m6xH"
      },
      "source": [
        "c0 = set([c[0] for c in edgelist])\n",
        "c1 = set([c[1] for c in edgelist])"
      ],
      "execution_count": 29,
      "outputs": []
    },
    {
      "cell_type": "code",
      "metadata": {
        "id": "GfcPzJtEnBtg"
      },
      "source": [
        "B.add_nodes_from(c0, bipartite=0)\n",
        "B.add_nodes_from(c1, bipartite=1)\n",
        "B.add_weighted_edges_from(edgelist)"
      ],
      "execution_count": 30,
      "outputs": []
    },
    {
      "cell_type": "code",
      "metadata": {
        "id": "qFPBDKgPnee0"
      },
      "source": [
        "degrees = pd.Series(dict(B.degree()))"
      ],
      "execution_count": 31,
      "outputs": []
    },
    {
      "cell_type": "code",
      "metadata": {
        "id": "D926cZAxrGfk"
      },
      "source": [
        "perc = np.percentile(degrees, 95)"
      ],
      "execution_count": 32,
      "outputs": []
    },
    {
      "cell_type": "code",
      "metadata": {
        "id": "L5yLxvKCrKRo",
        "outputId": "dc6c349e-5903-430c-dd05-c80091ccdae9",
        "colab": {
          "base_uri": "https://localhost:8080/"
        }
      },
      "source": [
        "degrees[degrees < perc]"
      ],
      "execution_count": 33,
      "outputs": [
        {
          "output_type": "execute_result",
          "data": {
            "text/plain": [
              "EXV2            19\n",
              "IBTM            20\n",
              "EXHB             7\n",
              "EXH6            22\n",
              "ITKY            18\n",
              "                ..\n",
              "US25271CAN20     8\n",
              "US918204AT53     5\n",
              "US679111UL65     1\n",
              "US9282541013    14\n",
              "US593338AG17     1\n",
              "Length: 43861, dtype: int64"
            ]
          },
          "metadata": {
            "tags": []
          },
          "execution_count": 33
        }
      ]
    },
    {
      "cell_type": "code",
      "metadata": {
        "id": "elD4-_dxJfH3",
        "outputId": "f537f433-d3f0-423d-f549-70833c56b45e",
        "colab": {
          "base_uri": "https://localhost:8080/"
        }
      },
      "source": [
        "degrees[degrees < perc].index & c1"
      ],
      "execution_count": 34,
      "outputs": [
        {
          "output_type": "execute_result",
          "data": {
            "text/plain": [
              "Index(['JP3893700009', 'US052403FA56', 'FR0013409844', 'TW0003682001',\n",
              "       'US566795KN91', 'US29874QDA94', 'US88579YAR27', 'US1170431092',\n",
              "       'US677522GJ72', 'GB0006650450',\n",
              "       ...\n",
              "       'GB00B8460Z43', 'CA15135U1093', 'IL0006110121', 'US744448CL30',\n",
              "       'US9174881089', 'US25271CAN20', 'US918204AT53', 'US679111UL65',\n",
              "       'US9282541013', 'US593338AG17'],\n",
              "      dtype='object', length=43763)"
            ]
          },
          "metadata": {
            "tags": []
          },
          "execution_count": 34
        }
      ]
    },
    {
      "cell_type": "code",
      "metadata": {
        "id": "BQWUrrLorhpC"
      },
      "source": [
        "B.remove_nodes_from(degrees[degrees < perc].index & c1)"
      ],
      "execution_count": 36,
      "outputs": []
    },
    {
      "cell_type": "code",
      "metadata": {
        "id": "5qAN6qaOsLf-"
      },
      "source": [
        "B_eq = bipartite.weighted_projected_graph(B, degrees[degrees >= perc].index & c1)"
      ],
      "execution_count": 37,
      "outputs": []
    },
    {
      "cell_type": "code",
      "metadata": {
        "id": "1ZNU2y0BsYmF"
      },
      "source": [
        "e99 = np.percentile([d['weight'] for u,v,d in B_eq.edges(data=True)], 99)"
      ],
      "execution_count": 38,
      "outputs": []
    },
    {
      "cell_type": "code",
      "metadata": {
        "id": "8R5PXRO8th7U"
      },
      "source": [
        "B_eq_99 = nx.edge_subgraph(B_eq, [(u,v) for u,v,d in B_eq.edges(data=True) if d['weight'] > e99])"
      ],
      "execution_count": 39,
      "outputs": []
    },
    {
      "cell_type": "code",
      "metadata": {
        "id": "1Yzv2wq8t_nN",
        "outputId": "2cea9be0-b5e2-4f5a-e9b0-9146fa618df8",
        "colab": {
          "base_uri": "https://localhost:8080/"
        }
      },
      "source": [
        "print(nx.info(B_eq_99))"
      ],
      "execution_count": 40,
      "outputs": [
        {
          "output_type": "stream",
          "text": [
            "Name: \n",
            "Type: Graph\n",
            "Number of nodes: 665\n",
            "Number of edges: 10196\n",
            "Average degree:  30.6647\n"
          ],
          "name": "stdout"
        }
      ]
    },
    {
      "cell_type": "code",
      "metadata": {
        "id": "o9XdIXeeumvc",
        "outputId": "2738b408-9c05-47df-a865-7d49c405d605",
        "colab": {
          "base_uri": "https://localhost:8080/",
          "height": 402
        }
      },
      "source": [
        "isin_df"
      ],
      "execution_count": 41,
      "outputs": [
        {
          "output_type": "execute_result",
          "data": {
            "text/html": [
              "<div>\n",
              "<style scoped>\n",
              "    .dataframe tbody tr th:only-of-type {\n",
              "        vertical-align: middle;\n",
              "    }\n",
              "\n",
              "    .dataframe tbody tr th {\n",
              "        vertical-align: top;\n",
              "    }\n",
              "\n",
              "    .dataframe thead th {\n",
              "        text-align: right;\n",
              "    }\n",
              "</style>\n",
              "<table border=\"1\" class=\"dataframe\">\n",
              "  <thead>\n",
              "    <tr style=\"text-align: right;\">\n",
              "      <th></th>\n",
              "      <th>ISIN</th>\n",
              "      <th>Name</th>\n",
              "    </tr>\n",
              "  </thead>\n",
              "  <tbody>\n",
              "    <tr>\n",
              "      <th>0</th>\n",
              "      <td>CH0012005267</td>\n",
              "      <td>NOVARTIS AG</td>\n",
              "    </tr>\n",
              "    <tr>\n",
              "      <th>1</th>\n",
              "      <td>CH0012032048</td>\n",
              "      <td>ROCHE HOLDING PAR AG</td>\n",
              "    </tr>\n",
              "    <tr>\n",
              "      <th>2</th>\n",
              "      <td>CH0038863350</td>\n",
              "      <td>NESTLE SA</td>\n",
              "    </tr>\n",
              "    <tr>\n",
              "      <th>3</th>\n",
              "      <td>DE0007164600</td>\n",
              "      <td>SAP</td>\n",
              "    </tr>\n",
              "    <tr>\n",
              "      <th>4</th>\n",
              "      <td>FR0000121014</td>\n",
              "      <td>LVMH</td>\n",
              "    </tr>\n",
              "    <tr>\n",
              "      <th>...</th>\n",
              "      <td>...</td>\n",
              "      <td>...</td>\n",
              "    </tr>\n",
              "    <tr>\n",
              "      <th>437338</th>\n",
              "      <td>DE000HV2ANF3</td>\n",
              "      <td>UNICREDIT BANK AG MTN RegS</td>\n",
              "    </tr>\n",
              "    <tr>\n",
              "      <th>437340</th>\n",
              "      <td>DE0001141711</td>\n",
              "      <td>GERMANY (FEDERAL REPUBLIC OF) RegS</td>\n",
              "    </tr>\n",
              "    <tr>\n",
              "      <th>437341</th>\n",
              "      <td>DE0001104719</td>\n",
              "      <td>GERMANY (FEDERAL REPUBLIC OF) RegS</td>\n",
              "    </tr>\n",
              "    <tr>\n",
              "      <th>437342</th>\n",
              "      <td>DE0001104701</td>\n",
              "      <td>GERMANY (FEDERAL REPUBLIC OF) RegS</td>\n",
              "    </tr>\n",
              "    <tr>\n",
              "      <th>437344</th>\n",
              "      <td>DE0001104693</td>\n",
              "      <td>GERMANY (FEDERAL REPUBLIC OF) RegS</td>\n",
              "    </tr>\n",
              "  </tbody>\n",
              "</table>\n",
              "<p>45415 rows × 2 columns</p>\n",
              "</div>"
            ],
            "text/plain": [
              "                ISIN                                Name\n",
              "0       CH0012005267                         NOVARTIS AG\n",
              "1       CH0012032048                ROCHE HOLDING PAR AG\n",
              "2       CH0038863350                           NESTLE SA\n",
              "3       DE0007164600                                 SAP\n",
              "4       FR0000121014                                LVMH\n",
              "...              ...                                 ...\n",
              "437338  DE000HV2ANF3          UNICREDIT BANK AG MTN RegS\n",
              "437340  DE0001141711  GERMANY (FEDERAL REPUBLIC OF) RegS\n",
              "437341  DE0001104719  GERMANY (FEDERAL REPUBLIC OF) RegS\n",
              "437342  DE0001104701  GERMANY (FEDERAL REPUBLIC OF) RegS\n",
              "437344  DE0001104693  GERMANY (FEDERAL REPUBLIC OF) RegS\n",
              "\n",
              "[45415 rows x 2 columns]"
            ]
          },
          "metadata": {
            "tags": []
          },
          "execution_count": 41
        }
      ]
    },
    {
      "cell_type": "code",
      "metadata": {
        "id": "z5pEIa5SuDGN"
      },
      "source": [
        "attributes_dict=dict(isin_df.iloc[:,0:].values)"
      ],
      "execution_count": 42,
      "outputs": []
    },
    {
      "cell_type": "code",
      "metadata": {
        "id": "c-9ou9VDuyj4"
      },
      "source": [
        "nx.set_node_attributes(B_eq_99, attributes_dict, 'Name')"
      ],
      "execution_count": 43,
      "outputs": []
    },
    {
      "cell_type": "code",
      "metadata": {
        "id": "SRejOzesu1Pg"
      },
      "source": [
        "nx.write_gexf(B_eq_99,'isin.gexf')"
      ],
      "execution_count": 44,
      "outputs": []
    },
    {
      "cell_type": "code",
      "metadata": {
        "id": "dOt61jgpKwpV"
      },
      "source": [
        ""
      ],
      "execution_count": null,
      "outputs": []
    }
  ]
}