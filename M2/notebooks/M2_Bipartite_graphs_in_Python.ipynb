{
  "nbformat": 4,
  "nbformat_minor": 0,
  "metadata": {
    "colab": {
      "name": "M2: Bipartite graphs in Python",
      "provenance": [],
      "authorship_tag": "ABX9TyPw4v+cc55Axggt6iFNjUaD",
      "include_colab_link": true
    },
    "kernelspec": {
      "name": "python3",
      "display_name": "Python 3"
    }
  },
  "cells": [
    {
      "cell_type": "markdown",
      "metadata": {
        "id": "view-in-github",
        "colab_type": "text"
      },
      "source": [
        "<a href=\"https://colab.research.google.com/github/SDS-AAU/SDS-master/blob/master/M2/notebooks/M2_Bipartite_graphs_in_Python.ipynb\" target=\"_parent\"><img src=\"https://colab.research.google.com/assets/colab-badge.svg\" alt=\"Open In Colab\"/></a>"
      ]
    },
    {
      "cell_type": "markdown",
      "metadata": {
        "id": "L8p_G1FNbQ90"
      },
      "source": [
        "# Similarity and Bipartite Networks with Python and NetworkX\n",
        "This notebook is an introduction to the concept and syntax around similarity and bipartite networks\n",
        "\n",
        "For a more detailed intro to advanced network structures consider Daniel Hain's videos (in R) \n",
        "* [Similarity networks and more](https://www.loom.com/share/7668a71c95f941a1a17148e45ba83689)\n",
        "* [Multimodla networks](https://www.loom.com/share/2fdf16a87a9d4eac81d50cef0b55ae3b)\n"
      ]
    },
    {
      "cell_type": "code",
      "metadata": {
        "id": "wotnVrThDiDV"
      },
      "source": [
        "# Packaging\n",
        "\n",
        "import pandas as pd\n",
        "import seaborn as sns\n",
        "import networkx as nx\n",
        "import numpy as np\n",
        "\n",
        "import matplotlib.pyplot as plt\n",
        "\n",
        "from sklearn.metrics.pairwise import cosine_distances\n",
        "\n",
        "sns.set(color_codes=True, rc={'figure.figsize':(10,8)})"
      ],
      "execution_count": null,
      "outputs": []
    },
    {
      "cell_type": "markdown",
      "metadata": {
        "id": "YcV54Ac-pq1l"
      },
      "source": [
        "## Similarity networks\n",
        "\n",
        "Can be constructed by mapping similarity between all observarions.\n",
        "Here we are going to use cosine distances"
      ]
    },
    {
      "cell_type": "code",
      "metadata": {
        "id": "0ITo1s37EXin"
      },
      "source": [
        "# load cars data\n",
        "data = pd.read_csv('https://gist.githubusercontent.com/ZeccaLehn/4e06d2575eb9589dbe8c365d61cb056c/raw/64f1660f38ef523b2a1a13be77b002b98665cdfe/mtcars.csv')"
      ],
      "execution_count": null,
      "outputs": []
    },
    {
      "cell_type": "code",
      "metadata": {
        "id": "UBPUICsYqji8"
      },
      "source": [
        "data.head()"
      ],
      "execution_count": null,
      "outputs": []
    },
    {
      "cell_type": "code",
      "metadata": {
        "id": "uAkWhV3OL16X"
      },
      "source": [
        "data_num = data.iloc[:,1:]"
      ],
      "execution_count": null,
      "outputs": []
    },
    {
      "cell_type": "code",
      "metadata": {
        "id": "e8h-6A5EHsut"
      },
      "source": [
        "# Calculate distances into a square matrix\n",
        "dist = cosine_distances(data_num,data_num)"
      ],
      "execution_count": null,
      "outputs": []
    },
    {
      "cell_type": "code",
      "metadata": {
        "id": "iwhE5zefJKBo"
      },
      "source": [
        "# calculate a cutoff (for a less crowded network)\n",
        "perc = np.percentile(dist, 60)"
      ],
      "execution_count": null,
      "outputs": []
    },
    {
      "cell_type": "code",
      "metadata": {
        "id": "2m7XsmVgHvvX"
      },
      "source": [
        "# create NW\n",
        "G = nx.from_numpy_array(dist)"
      ],
      "execution_count": null,
      "outputs": []
    },
    {
      "cell_type": "code",
      "metadata": {
        "id": "K2HrF1kYNy85"
      },
      "source": [
        "# add names\n",
        "\n",
        "attributes_dict=data.iloc[:,0].T.to_dict()\n",
        "nx.set_node_attributes(G, attributes_dict, 'model')"
      ],
      "execution_count": null,
      "outputs": []
    },
    {
      "cell_type": "code",
      "metadata": {
        "id": "OMUXySbEI_dF"
      },
      "source": [
        "G.edges(data=True)"
      ],
      "execution_count": null,
      "outputs": []
    },
    {
      "cell_type": "code",
      "metadata": {
        "id": "JuUyoeFsJ6Ih"
      },
      "source": [
        "print(nx.info(G))"
      ],
      "execution_count": null,
      "outputs": []
    },
    {
      "cell_type": "code",
      "metadata": {
        "id": "827-XxQOJbUF"
      },
      "source": [
        "# Get rid of low-weight edges\n",
        "G_sub = nx.edge_subgraph(G, [(u,v) for u,v,d in G.edges(data=True) if d['weight'] > perc])"
      ],
      "execution_count": null,
      "outputs": []
    },
    {
      "cell_type": "code",
      "metadata": {
        "id": "2V3xIRWFJ-Aq"
      },
      "source": [
        "print(nx.info(G_sub))"
      ],
      "execution_count": null,
      "outputs": []
    },
    {
      "cell_type": "code",
      "metadata": {
        "id": "yayZ2ldoIYgY"
      },
      "source": [
        "# identify communities (optional)\n",
        "import community as community_louvain\n",
        "\n",
        "partition = community_louvain.best_partition(G_sub)\n",
        "nx.set_node_attributes(G_sub, partition, 'partition')"
      ],
      "execution_count": null,
      "outputs": []
    },
    {
      "cell_type": "code",
      "metadata": {
        "id": "TBg_L8HlIwT_"
      },
      "source": [
        "nx.draw_kamada_kawai(G_sub, \n",
        "               node_color=list(partition.values()), \n",
        "               with_labels = True, \n",
        "               labels=attributes_dict, \n",
        "               font_color='r')"
      ],
      "execution_count": null,
      "outputs": []
    },
    {
      "cell_type": "code",
      "metadata": {
        "id": "MneCHiseLAka"
      },
      "source": [
        "# For visualization\n",
        "!pip install -U bokeh\n",
        "!pip install -q holoviews"
      ],
      "execution_count": null,
      "outputs": []
    },
    {
      "cell_type": "code",
      "metadata": {
        "id": "9c-mHKn8NNZi"
      },
      "source": [
        "# Import the libraries and link to the bokeh backend\n",
        "import holoviews as hv\n",
        "from holoviews import opts\n",
        "hv.extension('bokeh')\n",
        "from bokeh.plotting import show\n",
        "\n",
        "# Setting the default figure size a bit larger\n",
        "defaults = dict(width=750, height=750, padding=0.1,\n",
        "                xaxis=None, yaxis=None)\n",
        "hv.opts.defaults(\n",
        "    opts.EdgePaths(**defaults), opts.Graph(**defaults), opts.Nodes(**defaults))"
      ],
      "execution_count": null,
      "outputs": []
    },
    {
      "cell_type": "code",
      "metadata": {
        "id": "VvaovQjjOJ3v"
      },
      "source": [
        "graph = hv.Graph.from_networkx(G_sub, nx.layout.fruchterman_reingold_layout).opts(\n",
        "                                                                        tools=['hover'],\n",
        "                                                                        #directed=True,\n",
        "                                                                        edge_alpha=0.2,\n",
        "                                                                        #node_size='cent_degree',\n",
        "                                                                        node_color='partition', cmap='Set1',\n",
        "                                                                        legend_position='right'\n",
        "                                                                        )\n",
        "\n",
        "labels = hv.Labels(graph.nodes, ['x', 'y'], 'model')\n",
        "\n",
        "show(hv.render((graph * labels.opts(text_font_size='8pt', text_color='black', bgcolor='white'))))"
      ],
      "execution_count": null,
      "outputs": []
    },
    {
      "cell_type": "markdown",
      "metadata": {
        "id": "NbBUlIqKscn7"
      },
      "source": [
        "## Multi-modal networks\n",
        "In this example we are going to look at bipartite networks"
      ]
    },
    {
      "cell_type": "code",
      "metadata": {
        "id": "dhpzbSr0Rq6G"
      },
      "source": [
        "people = ['Jesper', 'Pernille', 'Morten', 'Lise', 'Christian', 'Mette', 'Casper', 'Dorte', 'Jacob', 'Helle']\n",
        "places = ['Yoga House', 'Crossfit', 'Jazz Club', 'Jomfru Anne Gade']"
      ],
      "execution_count": null,
      "outputs": []
    },
    {
      "cell_type": "code",
      "metadata": {
        "id": "dTGlnLtTS4Wk"
      },
      "source": [
        "# some more imports that will be useful\n",
        "from networkx.algorithms import bipartite\n",
        "import itertools\n",
        "import random"
      ],
      "execution_count": null,
      "outputs": []
    },
    {
      "cell_type": "code",
      "metadata": {
        "id": "vqDs1rawSZqG"
      },
      "source": [
        "# Creating a random bipartite network of people and places\n",
        "combinations = list(itertools.product(people, places))\n",
        "connections = random.sample(combinations, 15)"
      ],
      "execution_count": null,
      "outputs": []
    },
    {
      "cell_type": "code",
      "metadata": {
        "id": "Brmd71yGT-2p"
      },
      "source": [
        "c0 = set([c[0] for c in connections])\n",
        "c1 = set([c[1] for c in connections])"
      ],
      "execution_count": null,
      "outputs": []
    },
    {
      "cell_type": "code",
      "metadata": {
        "id": "MmNmKhZmT3WY"
      },
      "source": [
        "B = nx.Graph()"
      ],
      "execution_count": null,
      "outputs": []
    },
    {
      "cell_type": "code",
      "metadata": {
        "id": "ZGmNfVXET5f8"
      },
      "source": [
        "# add nodes and edges in their modes\n",
        "B.add_nodes_from(c0, bipartite=0)\n",
        "B.add_nodes_from(c1, bipartite=1)\n",
        "B.add_edges_from(connections)"
      ],
      "execution_count": null,
      "outputs": []
    },
    {
      "cell_type": "code",
      "metadata": {
        "id": "exAy3SSXVL_7"
      },
      "source": [
        "# very clunky visualization of 2-mode networks (unfortunately)\n",
        "l, r = nx.bipartite.sets(B)\n",
        "pos = {}\n",
        "\n",
        "# Update position for node from each group\n",
        "pos.update((node, (1, index)) for index, node in enumerate(l))\n",
        "pos.update((node, (2, index)) for index, node in enumerate(r))\n",
        "\n",
        "nx.draw(B, pos=pos, with_labels=True)\n",
        "plt.show()"
      ],
      "execution_count": null,
      "outputs": []
    },
    {
      "cell_type": "code",
      "metadata": {
        "id": "ytgplW4nVydH"
      },
      "source": [
        "# projecting onto people\n",
        "B_people = bipartite.weighted_projected_graph(B, c0)"
      ],
      "execution_count": null,
      "outputs": []
    },
    {
      "cell_type": "code",
      "metadata": {
        "id": "FA24DWS-WTPY"
      },
      "source": [
        "# projecting onto places\n",
        "B_places = bipartite.weighted_projected_graph(B, c1)"
      ],
      "execution_count": null,
      "outputs": []
    },
    {
      "cell_type": "code",
      "metadata": {
        "id": "TMlitTPUWcBY"
      },
      "source": [
        "nx.draw(B_people, with_labels=True)"
      ],
      "execution_count": null,
      "outputs": []
    },
    {
      "cell_type": "code",
      "metadata": {
        "id": "YafCnRzOWhoc"
      },
      "source": [
        "nx.draw(B_places, with_labels=True)"
      ],
      "execution_count": null,
      "outputs": []
    },
    {
      "cell_type": "code",
      "metadata": {
        "id": "Mf8inmy9WuL-"
      },
      "source": [
        "# pull edges\n",
        "edges_df = nx.to_pandas_edgelist(B)"
      ],
      "execution_count": null,
      "outputs": []
    },
    {
      "cell_type": "code",
      "metadata": {
        "id": "2Zw6MR3sXqvZ"
      },
      "source": [
        "# create matrix from edges\n",
        "adj_df = pd.crosstab(edges_df.source, edges_df.target)"
      ],
      "execution_count": null,
      "outputs": []
    },
    {
      "cell_type": "code",
      "metadata": {
        "id": "4GR-7hHXYV2B"
      },
      "source": [
        "# Projecting with dot-product as alternative\n",
        "pd.DataFrame(np.dot(adj_df, adj_df.T), index=adj_df.index, columns=adj_df.index)"
      ],
      "execution_count": null,
      "outputs": []
    },
    {
      "cell_type": "code",
      "metadata": {
        "id": "JMsvPsKcYnDJ"
      },
      "source": [
        "nx.to_pandas_adjacency(B_people)"
      ],
      "execution_count": null,
      "outputs": []
    },
    {
      "cell_type": "code",
      "metadata": {
        "id": "9o5jqnS_e2bI"
      },
      "source": [
        ""
      ],
      "execution_count": null,
      "outputs": []
    }
  ]
}