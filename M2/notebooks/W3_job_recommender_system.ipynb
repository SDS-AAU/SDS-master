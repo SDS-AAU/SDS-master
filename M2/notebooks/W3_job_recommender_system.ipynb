{
  "nbformat": 4,
  "nbformat_minor": 0,
  "metadata": {
    "colab": {
      "name": "job-recommender-system.ipynb",
      "provenance": [],
      "authorship_tag": "ABX9TyOeuruJPl2LTM2AjXSHA7zu",
      "include_colab_link": true
    },
    "kernelspec": {
      "name": "python3",
      "display_name": "Python 3"
    },
    "language_info": {
      "name": "python"
    }
  },
  "cells": [
    {
      "cell_type": "markdown",
      "metadata": {
        "id": "view-in-github",
        "colab_type": "text"
      },
      "source": [
        "<a href=\"https://colab.research.google.com/github/SDS-AAU/SDS-master/blob/master/M2/notebooks/W3_job_recommender_system.ipynb\" target=\"_parent\"><img src=\"https://colab.research.google.com/assets/colab-badge.svg\" alt=\"Open In Colab\"/></a>"
      ]
    },
    {
      "cell_type": "markdown",
      "metadata": {
        "id": "SvMYs4A8agsc"
      },
      "source": [
        "## Getting dats from kaggle"
      ]
    },
    {
      "cell_type": "code",
      "metadata": {
        "id": "Hr2ZlPYmaY9y"
      },
      "source": [
        "# install kaggle package\n",
        "! pip install -q kaggle"
      ],
      "execution_count": 1,
      "outputs": []
    },
    {
      "cell_type": "markdown",
      "metadata": {
        "id": "LZ2jR8Lse05N"
      },
      "source": [
        "upload `kaggle.json`API key"
      ]
    },
    {
      "cell_type": "code",
      "metadata": {
        "id": "3c-83ASGdpeP"
      },
      "source": [
        "# make folder for api key\n",
        "! mkdir ~/.kaggle"
      ],
      "execution_count": 2,
      "outputs": []
    },
    {
      "cell_type": "code",
      "metadata": {
        "id": "YCUrRsoceNA-"
      },
      "source": [
        "# copy key into folder\n",
        "! cp kaggle.json ~/.kaggle/"
      ],
      "execution_count": 3,
      "outputs": []
    },
    {
      "cell_type": "code",
      "metadata": {
        "id": "GaTR9BCdeX6D"
      },
      "source": [
        "# change access permissions\n",
        "! chmod 600 ~/.kaggle/kaggle.json"
      ],
      "execution_count": 4,
      "outputs": []
    },
    {
      "cell_type": "code",
      "metadata": {
        "id": "RXh6ya8eeou8",
        "colab": {
          "base_uri": "https://localhost:8080/"
        },
        "outputId": "a69b29f2-6581-4bbe-ec00-20660f6c9126"
      },
      "source": [
        "# check if worked\n",
        "! kaggle datasets list"
      ],
      "execution_count": 5,
      "outputs": [
        {
          "output_type": "stream",
          "name": "stdout",
          "text": [
            "Warning: Looks like you're using an outdated API Version, please consider updating (server 1.5.12 / client 1.5.4)\n",
            "ref                                                         title                                              size  lastUpdated          downloadCount  \n",
            "----------------------------------------------------------  ------------------------------------------------  -----  -------------------  -------------  \n",
            "gpreda/reddit-vaccine-myths                                 Reddit Vaccine Myths                              235KB  2021-10-21 20:52:33          14407  \n",
            "crowww/a-large-scale-fish-dataset                           A Large Scale Fish Dataset                          3GB  2021-04-28 17:03:01           8674  \n",
            "imsparsh/musicnet-dataset                                   MusicNet Dataset                                   22GB  2021-02-18 14:12:19           3856  \n",
            "dhruvildave/wikibooks-dataset                               Wikibooks Dataset                                   2GB  2021-10-22 10:48:21           3229  \n",
            "fatiimaezzahra/famous-iconic-women                          Famous Iconic Women                               838MB  2021-02-28 14:56:00           1677  \n",
            "promptcloud/careerbuilder-job-listing-2020                  Careerbuilder Job Listing 2020                     42MB  2021-03-05 06:59:52           2331  \n",
            "nickuzmenkov/nih-chest-xrays-tfrecords                      NIH Chest X-rays TFRecords                         11GB  2021-03-09 04:49:23           1409  \n",
            "mathurinache/twitter-edge-nodes                             Twitter Edge Nodes                                342MB  2021-03-08 06:43:04           1151  \n",
            "alsgroup/end-als                                            End ALS Kaggle Challenge                           12GB  2021-04-08 12:16:37           1025  \n",
            "simiotic/github-code-snippets                               GitHub Code Snippets                                7GB  2021-03-03 11:34:39            412  \n",
            "mathurinache/the-lj-speech-dataset                          The LJ Speech Dataset                               3GB  2021-02-15 09:19:54            421  \n",
            "coloradokb/dandelionimages                                  DandelionImages                                     4GB  2021-02-19 20:03:47            961  \n",
            "stuartjames/lights                                          LightS: Light Specularity Dataset                  18GB  2021-02-18 14:32:26            182  \n",
            "nickuzmenkov/ranzcr-clip-kfold-tfrecords                    RANZCR CLiP KFold TFRecords                         2GB  2021-02-21 13:29:51            141  \n",
            "imsparsh/accentdb-core-extended                             AccentDB - Core & Extended                          6GB  2021-02-17 14:22:54            164  \n",
            "landrykezebou/lvzhdr-tone-mapping-benchmark-dataset-tmonet  LVZ-HDR Tone Mapping Benchmark Dataset (TMO-Net)   24GB  2021-03-01 05:03:40            220  \n",
            "datasnaek/youtube-new                                       Trending YouTube Video Statistics                 201MB  2019-06-03 00:56:47         155350  \n",
            "residentmario/ramen-ratings                                 Ramen Ratings                                      40KB  2018-01-11 16:04:39          28746  \n",
            "zynicide/wine-reviews                                       Wine Reviews                                       51MB  2017-11-27 17:08:04         146575  \n",
            "datasnaek/chess                                             Chess Game Dataset (Lichess)                        3MB  2017-09-04 03:09:09          23658  \n"
          ]
        }
      ]
    },
    {
      "cell_type": "markdown",
      "metadata": {
        "id": "cKMBMEwPfNWT"
      },
      "source": [
        "for getting data go to kaggle page and ... and copy API command"
      ]
    },
    {
      "cell_type": "code",
      "metadata": {
        "colab": {
          "base_uri": "https://localhost:8080/"
        },
        "id": "xcNkHGf0epEK",
        "outputId": "9c0a1051-3640-4ec9-9f2c-176eeb219ac5"
      },
      "source": [
        "! kaggle datasets download -d kandij/job-recommendation-datasets"
      ],
      "execution_count": 6,
      "outputs": [
        {
          "output_type": "stream",
          "name": "stdout",
          "text": [
            "Downloading job-recommendation-datasets.zip to /content\n",
            " 78% 41.0M/52.4M [00:00<00:00, 62.4MB/s]\n",
            "100% 52.4M/52.4M [00:00<00:00, 89.1MB/s]\n"
          ]
        }
      ]
    },
    {
      "cell_type": "code",
      "metadata": {
        "colab": {
          "base_uri": "https://localhost:8080/"
        },
        "id": "Bnhc-puVfRr0",
        "outputId": "9d3f4147-e627-4491-92e8-6a605b6a6900"
      },
      "source": [
        "! unzip /content/job-recommendation-datasets.zip"
      ],
      "execution_count": 7,
      "outputs": [
        {
          "output_type": "stream",
          "name": "stdout",
          "text": [
            "Archive:  /content/job-recommendation-datasets.zip\n",
            "  inflating: Combined_Jobs_Final.csv  \n",
            "  inflating: Experience.csv          \n",
            "  inflating: Job_Views.csv           \n",
            "  inflating: Positions_Of_Interest.csv  \n",
            "  inflating: job_data.csv            \n"
          ]
        }
      ]
    },
    {
      "cell_type": "code",
      "metadata": {
        "id": "R_cbcu1XfeAX"
      },
      "source": [
        "import pandas as pd\n",
        "import numpy as np\n",
        "import spacy\n",
        "\n",
        "#instantiating English module\n",
        "nlp = spacy.load('en')"
      ],
      "execution_count": 8,
      "outputs": []
    },
    {
      "cell_type": "code",
      "metadata": {
        "id": "q2mWU4-RfsSz"
      },
      "source": [
        "df_jobs = pd.read_csv('/content/Combined_Jobs_Final.csv')\n",
        "df_views = pd.read_csv('/content/Job_Views.csv')\n",
        "df_poi = pd.read_csv('/content/Positions_Of_Interest.csv')\n",
        "df_exp = pd.read_csv('/content/Experience.csv')\n"
      ],
      "execution_count": 9,
      "outputs": []
    },
    {
      "cell_type": "code",
      "metadata": {
        "colab": {
          "base_uri": "https://localhost:8080/"
        },
        "id": "ltossA9ChQeX",
        "outputId": "11e50935-547b-4237-9034-d2c2ddbe06f5"
      },
      "source": [
        "df_jobs.info()"
      ],
      "execution_count": 10,
      "outputs": [
        {
          "output_type": "stream",
          "name": "stdout",
          "text": [
            "<class 'pandas.core.frame.DataFrame'>\n",
            "RangeIndex: 84090 entries, 0 to 84089\n",
            "Data columns (total 23 columns):\n",
            " #   Column              Non-Null Count  Dtype  \n",
            "---  ------              --------------  -----  \n",
            " 0   Job.ID              84090 non-null  int64  \n",
            " 1   Provider            84090 non-null  int64  \n",
            " 2   Status              84090 non-null  object \n",
            " 3   Slug                84090 non-null  object \n",
            " 4   Title               84090 non-null  object \n",
            " 5   Position            84090 non-null  object \n",
            " 6   Company             81819 non-null  object \n",
            " 7   City                83955 non-null  object \n",
            " 8   State.Name          83919 non-null  object \n",
            " 9   State.Code          83919 non-null  object \n",
            " 10  Address             36 non-null     object \n",
            " 11  Latitude            84090 non-null  float64\n",
            " 12  Longitude           84090 non-null  float64\n",
            " 13  Industry            267 non-null    object \n",
            " 14  Job.Description     84034 non-null  object \n",
            " 15  Requirements        0 non-null      float64\n",
            " 16  Salary              229 non-null    float64\n",
            " 17  Listing.Start       83407 non-null  object \n",
            " 18  Listing.End         83923 non-null  object \n",
            " 19  Employment.Type     84080 non-null  object \n",
            " 20  Education.Required  83823 non-null  object \n",
            " 21  Created.At          84090 non-null  object \n",
            " 22  Updated.At          84090 non-null  object \n",
            "dtypes: float64(4), int64(2), object(17)\n",
            "memory usage: 14.8+ MB\n"
          ]
        }
      ]
    },
    {
      "cell_type": "code",
      "metadata": {
        "id": "LRHfno40hR4m"
      },
      "source": [
        "# concatenate several columns into one text\n",
        "df_jobs['text'] = df_jobs['Title'].str.cat(df_jobs['Position'].astype(str), sep=' ').str.cat(df_jobs['Company'].astype(str), sep=' ').str.cat(df_jobs['Job.Description'].astype(str), sep=' ')"
      ],
      "execution_count": 11,
      "outputs": []
    },
    {
      "cell_type": "code",
      "metadata": {
        "id": "ZdfZEe9pi0h1"
      },
      "source": [
        "# progress bar\n",
        "import tqdm"
      ],
      "execution_count": 12,
      "outputs": []
    },
    {
      "cell_type": "code",
      "metadata": {
        "colab": {
          "base_uri": "https://localhost:8080/"
        },
        "id": "DxiiLB5-jbK6",
        "outputId": "f62fcbff-285a-4f7b-9d0e-85bd49b791b4"
      },
      "source": [
        "# how long would it take to run it with plain spacy?\n",
        "\n",
        "%%time\n",
        "nlp(df_jobs['text'][0])"
      ],
      "execution_count": 13,
      "outputs": [
        {
          "output_type": "stream",
          "name": "stdout",
          "text": [
            "CPU times: user 31.6 ms, sys: 1.92 ms, total: 33.6 ms\n",
            "Wall time: 41.2 ms\n"
          ]
        },
        {
          "output_type": "execute_result",
          "data": {
            "text/plain": [
              "Server @ Tacolicious Server Tacolicious Tacolicious' first Palo Alto store just opened recently, and we are hiring! If you love tacos, you will love working at our restaurant! \n",
              "\n",
              " ● Serve food/drinks to customers in a professional manner \n",
              " ● Act as a cashier when needed \n",
              " ● Clean up the dining space \n",
              " ● Train the new staff "
            ]
          },
          "metadata": {},
          "execution_count": 13
        }
      ]
    },
    {
      "cell_type": "code",
      "metadata": {
        "colab": {
          "base_uri": "https://localhost:8080/"
        },
        "id": "3qiIW_19jnpm",
        "outputId": "95d53ded-aa2a-4a0d-b4bd-80e6718ab204"
      },
      "source": [
        "# run that for all? That is 0.71h - too long\n",
        "30.8*84000/1000/3600"
      ],
      "execution_count": 14,
      "outputs": [
        {
          "output_type": "execute_result",
          "data": {
            "text/plain": [
              "0.7186666666666666"
            ]
          },
          "metadata": {},
          "execution_count": 14
        }
      ]
    },
    {
      "cell_type": "code",
      "metadata": {
        "colab": {
          "base_uri": "https://localhost:8080/"
        },
        "id": "diKJDFjSjHtn",
        "outputId": "ff3bc658-9901-456f-bae9-533a7425e0db"
      },
      "source": [
        "# run progress bare and clean up using spacy but without some heavy parts of the pipeline\n",
        "\n",
        "%%time\n",
        "clean_text = []\n",
        "\n",
        "\n",
        "pbar = tqdm.tqdm(total=len(df_jobs['text']),position=0, leave=True)\n",
        "\n",
        "for text in nlp.pipe(df_jobs['text'], disable=[\"tagger\", \"parser\", \"ner\"]):\n",
        "\n",
        "  txt = [token.lemma_.lower() for token in text \n",
        "         if token.is_alpha \n",
        "         and not token.is_stop \n",
        "         and not token.is_punct]\n",
        "\n",
        "  clean_text.append(txt)\n",
        "\n",
        "  pbar.update(1)"
      ],
      "execution_count": 15,
      "outputs": [
        {
          "output_type": "stream",
          "name": "stderr",
          "text": [
            "100%|█████████▉| 83968/84090 [02:26<00:00, 511.38it/s]"
          ]
        },
        {
          "output_type": "stream",
          "name": "stdout",
          "text": [
            "CPU times: user 2min 23s, sys: 1.99 s, total: 2min 25s\n",
            "Wall time: 2min 26s\n"
          ]
        }
      ]
    },
    {
      "cell_type": "code",
      "metadata": {
        "id": "1Gym4P6glP8n"
      },
      "source": [
        "df_jobs['clean_text'] = clean_text"
      ],
      "execution_count": 16,
      "outputs": []
    },
    {
      "cell_type": "code",
      "metadata": {
        "id": "4e1puj-0l5Cg",
        "colab": {
          "base_uri": "https://localhost:8080/"
        },
        "outputId": "72a3e803-a7c6-48bd-9fff-8a2715150257"
      },
      "source": [
        "df_jobs['clean_text'].isnull().sum()"
      ],
      "execution_count": 17,
      "outputs": [
        {
          "output_type": "execute_result",
          "data": {
            "text/plain": [
              "0"
            ]
          },
          "metadata": {},
          "execution_count": 17
        }
      ]
    },
    {
      "cell_type": "code",
      "metadata": {
        "colab": {
          "base_uri": "https://localhost:8080/"
        },
        "id": "ODVZhrjFl7XH",
        "outputId": "c42cdf7f-1d01-4541-aae6-cd50090a625a"
      },
      "source": [
        "# update gensim\n",
        "!pip install --upgrade gensim -q"
      ],
      "execution_count": 18,
      "outputs": [
        {
          "output_type": "stream",
          "name": "stdout",
          "text": [
            "\u001b[K     |████████████████████████████████| 24.1 MB 2.7 kB/s \n",
            "\u001b[?25h"
          ]
        }
      ]
    },
    {
      "cell_type": "code",
      "metadata": {
        "id": "QKd9PIycnMuK"
      },
      "source": [
        "# get tooling for Word2Vec model\n",
        "from gensim.models import Word2Vec"
      ],
      "execution_count": 19,
      "outputs": []
    },
    {
      "cell_type": "code",
      "metadata": {
        "id": "PgRZ9zYsmHmE"
      },
      "source": [
        "# enable logging\n",
        "import logging\n",
        "logging.basicConfig(format='%(asctime)s : %(levelname)s : %(message)s', level=logging.INFO)"
      ],
      "execution_count": 20,
      "outputs": []
    },
    {
      "cell_type": "code",
      "metadata": {
        "id": "7Asm7_d6nV5O",
        "colab": {
          "base_uri": "https://localhost:8080/"
        },
        "outputId": "5c1b0b7a-19b7-4f7a-a9a6-79b287205233"
      },
      "source": [
        "# train word2vec model\n",
        "w2v_model = Word2Vec(sentences=df_jobs['clean_text'], vector_size=300, window=5, min_count=2, workers=2, epochs=5)"
      ],
      "execution_count": 21,
      "outputs": [
        {
          "output_type": "stream",
          "name": "stderr",
          "text": [
            "2021-10-26 17:44:52,755 : INFO : collecting all words and their counts\n",
            "2021-10-26 17:44:52,759 : INFO : PROGRESS: at sentence #0, processed 0 words, keeping 0 word types\n",
            "2021-10-26 17:44:53,099 : INFO : PROGRESS: at sentence #10000, processed 1489501 words, keeping 18094 word types\n",
            "2021-10-26 17:44:53,410 : INFO : PROGRESS: at sentence #20000, processed 2801776 words, keeping 25505 word types\n",
            "2021-10-26 17:44:53,799 : INFO : PROGRESS: at sentence #30000, processed 4383902 words, keeping 30826 word types\n",
            "2021-10-26 17:44:54,127 : INFO : PROGRESS: at sentence #40000, processed 5723039 words, keeping 35286 word types\n",
            "2021-10-26 17:44:54,454 : INFO : PROGRESS: at sentence #50000, processed 7118565 words, keeping 39058 word types\n",
            "2021-10-26 17:44:54,764 : INFO : PROGRESS: at sentence #60000, processed 8409519 words, keeping 42530 word types\n",
            "2021-10-26 17:44:55,107 : INFO : PROGRESS: at sentence #70000, processed 9822031 words, keeping 45756 word types\n",
            "2021-10-26 17:44:55,473 : INFO : PROGRESS: at sentence #80000, processed 11324826 words, keeping 48540 word types\n",
            "2021-10-26 17:44:55,631 : INFO : collected 49783 word types from a corpus of 11925051 raw words and 84090 sentences\n",
            "2021-10-26 17:44:55,633 : INFO : Creating a fresh vocabulary\n",
            "2021-10-26 17:44:55,805 : INFO : Word2Vec lifecycle event {'msg': 'effective_min_count=2 retains 33071 unique words (66.4303075347006%% of original 49783, drops 16712)', 'datetime': '2021-10-26T17:44:55.805776', 'gensim': '4.1.2', 'python': '3.7.12 (default, Sep 10 2021, 00:21:48) \\n[GCC 7.5.0]', 'platform': 'Linux-5.4.104+-x86_64-with-Ubuntu-18.04-bionic', 'event': 'prepare_vocab'}\n",
            "2021-10-26 17:44:55,807 : INFO : Word2Vec lifecycle event {'msg': 'effective_min_count=2 leaves 11908339 word corpus (99.85985804169727%% of original 11925051, drops 16712)', 'datetime': '2021-10-26T17:44:55.807568', 'gensim': '4.1.2', 'python': '3.7.12 (default, Sep 10 2021, 00:21:48) \\n[GCC 7.5.0]', 'platform': 'Linux-5.4.104+-x86_64-with-Ubuntu-18.04-bionic', 'event': 'prepare_vocab'}\n",
            "2021-10-26 17:44:56,053 : INFO : deleting the raw counts dictionary of 49783 items\n",
            "2021-10-26 17:44:56,059 : INFO : sample=0.001 downsamples 39 most-common words\n",
            "2021-10-26 17:44:56,060 : INFO : Word2Vec lifecycle event {'msg': 'downsampling leaves estimated 11122819.810304202 word corpus (93.4%% of prior 11908339)', 'datetime': '2021-10-26T17:44:56.060960', 'gensim': '4.1.2', 'python': '3.7.12 (default, Sep 10 2021, 00:21:48) \\n[GCC 7.5.0]', 'platform': 'Linux-5.4.104+-x86_64-with-Ubuntu-18.04-bionic', 'event': 'prepare_vocab'}\n",
            "2021-10-26 17:44:56,475 : INFO : estimated required memory for 33071 words and 300 dimensions: 95905900 bytes\n",
            "2021-10-26 17:44:56,476 : INFO : resetting layer weights\n",
            "2021-10-26 17:44:56,561 : INFO : Word2Vec lifecycle event {'update': False, 'trim_rule': 'None', 'datetime': '2021-10-26T17:44:56.561537', 'gensim': '4.1.2', 'python': '3.7.12 (default, Sep 10 2021, 00:21:48) \\n[GCC 7.5.0]', 'platform': 'Linux-5.4.104+-x86_64-with-Ubuntu-18.04-bionic', 'event': 'build_vocab'}\n",
            "2021-10-26 17:44:56,563 : INFO : Word2Vec lifecycle event {'msg': 'training model with 2 workers on 33071 vocabulary and 300 features, using sg=0 hs=0 sample=0.001 negative=5 window=5 shrink_windows=True', 'datetime': '2021-10-26T17:44:56.563040', 'gensim': '4.1.2', 'python': '3.7.12 (default, Sep 10 2021, 00:21:48) \\n[GCC 7.5.0]', 'platform': 'Linux-5.4.104+-x86_64-with-Ubuntu-18.04-bionic', 'event': 'train'}\n",
            "100%|██████████| 84090/84090 [02:40<00:00, 511.38it/s]2021-10-26 17:44:57,600 : INFO : EPOCH 1 - PROGRESS: at 3.23% examples, 366642 words/s, in_qsize 4, out_qsize 0\n",
            "2021-10-26 17:44:58,612 : INFO : EPOCH 1 - PROGRESS: at 6.28% examples, 373843 words/s, in_qsize 3, out_qsize 0\n",
            "2021-10-26 17:44:59,615 : INFO : EPOCH 1 - PROGRESS: at 9.77% examples, 377184 words/s, in_qsize 3, out_qsize 0\n",
            "2021-10-26 17:45:00,622 : INFO : EPOCH 1 - PROGRESS: at 13.13% examples, 376489 words/s, in_qsize 3, out_qsize 0\n",
            "2021-10-26 17:45:01,647 : INFO : EPOCH 1 - PROGRESS: at 17.16% examples, 376988 words/s, in_qsize 3, out_qsize 0\n",
            "2021-10-26 17:45:02,664 : INFO : EPOCH 1 - PROGRESS: at 20.74% examples, 376021 words/s, in_qsize 3, out_qsize 0\n",
            "2021-10-26 17:45:03,690 : INFO : EPOCH 1 - PROGRESS: at 24.41% examples, 375887 words/s, in_qsize 3, out_qsize 0\n",
            "2021-10-26 17:45:04,694 : INFO : EPOCH 1 - PROGRESS: at 27.95% examples, 375926 words/s, in_qsize 3, out_qsize 0\n",
            "2021-10-26 17:45:05,709 : INFO : EPOCH 1 - PROGRESS: at 31.22% examples, 377866 words/s, in_qsize 3, out_qsize 0\n",
            "2021-10-26 17:45:06,733 : INFO : EPOCH 1 - PROGRESS: at 33.97% examples, 380470 words/s, in_qsize 4, out_qsize 0\n",
            "2021-10-26 17:45:07,735 : INFO : EPOCH 1 - PROGRESS: at 37.31% examples, 381695 words/s, in_qsize 3, out_qsize 0\n",
            "2021-10-26 17:45:08,760 : INFO : EPOCH 1 - PROGRESS: at 41.05% examples, 382286 words/s, in_qsize 3, out_qsize 0\n",
            "2021-10-26 17:45:09,791 : INFO : EPOCH 1 - PROGRESS: at 44.71% examples, 382558 words/s, in_qsize 3, out_qsize 0\n",
            "2021-10-26 17:45:10,794 : INFO : EPOCH 1 - PROGRESS: at 48.65% examples, 383343 words/s, in_qsize 3, out_qsize 0\n",
            "2021-10-26 17:45:11,806 : INFO : EPOCH 1 - PROGRESS: at 52.30% examples, 382799 words/s, in_qsize 2, out_qsize 1\n",
            "2021-10-26 17:45:12,813 : INFO : EPOCH 1 - PROGRESS: at 55.82% examples, 383816 words/s, in_qsize 3, out_qsize 0\n",
            "2021-10-26 17:45:13,816 : INFO : EPOCH 1 - PROGRESS: at 59.33% examples, 383879 words/s, in_qsize 3, out_qsize 0\n",
            "2021-10-26 17:45:14,830 : INFO : EPOCH 1 - PROGRESS: at 63.21% examples, 383853 words/s, in_qsize 3, out_qsize 0\n",
            "2021-10-26 17:45:15,839 : INFO : EPOCH 1 - PROGRESS: at 67.06% examples, 383933 words/s, in_qsize 3, out_qsize 0\n",
            "2021-10-26 17:45:16,848 : INFO : EPOCH 1 - PROGRESS: at 70.69% examples, 383965 words/s, in_qsize 3, out_qsize 0\n",
            "2021-10-26 17:45:17,849 : INFO : EPOCH 1 - PROGRESS: at 74.40% examples, 384013 words/s, in_qsize 3, out_qsize 0\n",
            "2021-10-26 17:45:18,849 : INFO : EPOCH 1 - PROGRESS: at 77.96% examples, 384657 words/s, in_qsize 3, out_qsize 0\n",
            "2021-10-26 17:45:19,868 : INFO : EPOCH 1 - PROGRESS: at 81.49% examples, 384880 words/s, in_qsize 3, out_qsize 0\n",
            "2021-10-26 17:45:20,902 : INFO : EPOCH 1 - PROGRESS: at 85.06% examples, 384886 words/s, in_qsize 4, out_qsize 1\n",
            "2021-10-26 17:45:21,918 : INFO : EPOCH 1 - PROGRESS: at 88.68% examples, 385402 words/s, in_qsize 3, out_qsize 0\n",
            "2021-10-26 17:45:22,929 : INFO : EPOCH 1 - PROGRESS: at 91.81% examples, 385404 words/s, in_qsize 3, out_qsize 0\n",
            "2021-10-26 17:45:23,959 : INFO : EPOCH 1 - PROGRESS: at 95.16% examples, 385715 words/s, in_qsize 3, out_qsize 0\n",
            "2021-10-26 17:45:24,962 : INFO : EPOCH 1 - PROGRESS: at 98.20% examples, 385647 words/s, in_qsize 3, out_qsize 0\n",
            "2021-10-26 17:45:25,378 : INFO : worker thread finished; awaiting finish of 1 more threads\n",
            "2021-10-26 17:45:25,384 : INFO : worker thread finished; awaiting finish of 0 more threads\n",
            "2021-10-26 17:45:25,386 : INFO : EPOCH - 1 : training on 11925051 raw words (11122334 effective words) took 28.8s, 385975 effective words/s\n",
            "2021-10-26 17:45:26,397 : INFO : EPOCH 2 - PROGRESS: at 3.29% examples, 385708 words/s, in_qsize 3, out_qsize 0\n",
            "2021-10-26 17:45:27,409 : INFO : EPOCH 2 - PROGRESS: at 6.54% examples, 392288 words/s, in_qsize 3, out_qsize 0\n",
            "2021-10-26 17:45:28,415 : INFO : EPOCH 2 - PROGRESS: at 10.00% examples, 392257 words/s, in_qsize 3, out_qsize 0\n",
            "2021-10-26 17:45:29,439 : INFO : EPOCH 2 - PROGRESS: at 13.65% examples, 390803 words/s, in_qsize 3, out_qsize 0\n",
            "2021-10-26 17:45:30,449 : INFO : EPOCH 2 - PROGRESS: at 17.78% examples, 391394 words/s, in_qsize 4, out_qsize 0\n",
            "2021-10-26 17:45:31,458 : INFO : EPOCH 2 - PROGRESS: at 21.48% examples, 391401 words/s, in_qsize 3, out_qsize 0\n",
            "2021-10-26 17:45:32,480 : INFO : EPOCH 2 - PROGRESS: at 25.21% examples, 390697 words/s, in_qsize 3, out_qsize 0\n",
            "2021-10-26 17:45:33,484 : INFO : EPOCH 2 - PROGRESS: at 28.92% examples, 390035 words/s, in_qsize 3, out_qsize 0\n",
            "2021-10-26 17:45:34,513 : INFO : EPOCH 2 - PROGRESS: at 32.17% examples, 390669 words/s, in_qsize 3, out_qsize 0\n",
            "2021-10-26 17:45:35,515 : INFO : EPOCH 2 - PROGRESS: at 34.63% examples, 391822 words/s, in_qsize 3, out_qsize 0\n",
            "2021-10-26 17:45:36,523 : INFO : EPOCH 2 - PROGRESS: at 38.18% examples, 392012 words/s, in_qsize 3, out_qsize 0\n",
            "2021-10-26 17:45:37,524 : INFO : EPOCH 2 - PROGRESS: at 41.70% examples, 391047 words/s, in_qsize 3, out_qsize 0\n",
            "2021-10-26 17:45:38,532 : INFO : EPOCH 2 - PROGRESS: at 45.58% examples, 391255 words/s, in_qsize 3, out_qsize 0\n",
            "2021-10-26 17:45:39,559 : INFO : EPOCH 2 - PROGRESS: at 49.48% examples, 390844 words/s, in_qsize 3, out_qsize 0\n",
            "2021-10-26 17:45:40,562 : INFO : EPOCH 2 - PROGRESS: at 53.03% examples, 390625 words/s, in_qsize 3, out_qsize 0\n",
            "2021-10-26 17:45:41,578 : INFO : EPOCH 2 - PROGRESS: at 56.61% examples, 390904 words/s, in_qsize 3, out_qsize 0\n",
            "2021-10-26 17:45:42,584 : INFO : EPOCH 2 - PROGRESS: at 60.21% examples, 391040 words/s, in_qsize 3, out_qsize 0\n",
            "2021-10-26 17:45:43,589 : INFO : EPOCH 2 - PROGRESS: at 64.35% examples, 390821 words/s, in_qsize 3, out_qsize 0\n",
            "2021-10-26 17:45:44,600 : INFO : EPOCH 2 - PROGRESS: at 68.12% examples, 390953 words/s, in_qsize 3, out_qsize 0\n",
            "2021-10-26 17:45:45,600 : INFO : EPOCH 2 - PROGRESS: at 71.83% examples, 390785 words/s, in_qsize 3, out_qsize 0\n",
            "2021-10-26 17:45:46,624 : INFO : EPOCH 2 - PROGRESS: at 75.47% examples, 390561 words/s, in_qsize 3, out_qsize 0\n",
            "2021-10-26 17:45:47,625 : INFO : EPOCH 2 - PROGRESS: at 79.03% examples, 390837 words/s, in_qsize 3, out_qsize 0\n",
            "2021-10-26 17:45:48,639 : INFO : EPOCH 2 - PROGRESS: at 82.70% examples, 390950 words/s, in_qsize 3, out_qsize 0\n",
            "2021-10-26 17:45:49,640 : INFO : EPOCH 2 - PROGRESS: at 86.13% examples, 391191 words/s, in_qsize 3, out_qsize 0\n",
            "2021-10-26 17:45:50,670 : INFO : EPOCH 2 - PROGRESS: at 89.68% examples, 391278 words/s, in_qsize 3, out_qsize 0\n",
            "2021-10-26 17:45:51,674 : INFO : EPOCH 2 - PROGRESS: at 92.80% examples, 391479 words/s, in_qsize 3, out_qsize 0\n",
            "2021-10-26 17:45:52,676 : INFO : EPOCH 2 - PROGRESS: at 96.14% examples, 391538 words/s, in_qsize 3, out_qsize 0\n",
            "2021-10-26 17:45:53,709 : INFO : EPOCH 2 - PROGRESS: at 99.53% examples, 391260 words/s, in_qsize 3, out_qsize 0\n",
            "2021-10-26 17:45:53,799 : INFO : worker thread finished; awaiting finish of 1 more threads\n",
            "2021-10-26 17:45:53,807 : INFO : worker thread finished; awaiting finish of 0 more threads\n",
            "2021-10-26 17:45:53,808 : INFO : EPOCH - 2 : training on 11925051 raw words (11122753 effective words) took 28.4s, 391436 effective words/s\n",
            "2021-10-26 17:45:54,821 : INFO : EPOCH 3 - PROGRESS: at 3.29% examples, 384427 words/s, in_qsize 3, out_qsize 0\n",
            "2021-10-26 17:45:55,836 : INFO : EPOCH 3 - PROGRESS: at 6.54% examples, 391092 words/s, in_qsize 3, out_qsize 0\n",
            "2021-10-26 17:45:56,860 : INFO : EPOCH 3 - PROGRESS: at 10.00% examples, 389090 words/s, in_qsize 3, out_qsize 0\n",
            "2021-10-26 17:45:57,868 : INFO : EPOCH 3 - PROGRESS: at 13.75% examples, 392258 words/s, in_qsize 3, out_qsize 0\n",
            "2021-10-26 17:45:58,883 : INFO : EPOCH 3 - PROGRESS: at 17.78% examples, 390396 words/s, in_qsize 3, out_qsize 0\n",
            "2021-10-26 17:45:59,884 : INFO : EPOCH 3 - PROGRESS: at 21.34% examples, 388047 words/s, in_qsize 3, out_qsize 0\n",
            "2021-10-26 17:46:00,906 : INFO : EPOCH 3 - PROGRESS: at 24.98% examples, 386482 words/s, in_qsize 3, out_qsize 0\n",
            "2021-10-26 17:46:01,908 : INFO : EPOCH 3 - PROGRESS: at 28.67% examples, 386516 words/s, in_qsize 3, out_qsize 0\n",
            "2021-10-26 17:46:02,925 : INFO : EPOCH 3 - PROGRESS: at 31.96% examples, 388040 words/s, in_qsize 3, out_qsize 0\n",
            "2021-10-26 17:46:03,926 : INFO : EPOCH 3 - PROGRESS: at 34.51% examples, 390551 words/s, in_qsize 3, out_qsize 0\n",
            "2021-10-26 17:46:04,935 : INFO : EPOCH 3 - PROGRESS: at 38.04% examples, 390715 words/s, in_qsize 3, out_qsize 0\n",
            "2021-10-26 17:46:05,957 : INFO : EPOCH 3 - PROGRESS: at 41.76% examples, 391436 words/s, in_qsize 3, out_qsize 0\n",
            "2021-10-26 17:46:06,982 : INFO : EPOCH 3 - PROGRESS: at 45.66% examples, 391178 words/s, in_qsize 3, out_qsize 0\n",
            "2021-10-26 17:46:08,011 : INFO : EPOCH 3 - PROGRESS: at 49.63% examples, 391305 words/s, in_qsize 3, out_qsize 0\n",
            "2021-10-26 17:46:09,013 : INFO : EPOCH 3 - PROGRESS: at 53.18% examples, 391108 words/s, in_qsize 3, out_qsize 0\n",
            "2021-10-26 17:46:10,020 : INFO : EPOCH 3 - PROGRESS: at 56.84% examples, 391623 words/s, in_qsize 3, out_qsize 0\n",
            "2021-10-26 17:46:11,039 : INFO : EPOCH 3 - PROGRESS: at 60.48% examples, 391406 words/s, in_qsize 3, out_qsize 0\n",
            "2021-10-26 17:46:12,056 : INFO : EPOCH 3 - PROGRESS: at 64.60% examples, 390900 words/s, in_qsize 3, out_qsize 0\n",
            "2021-10-26 17:46:13,088 : INFO : EPOCH 3 - PROGRESS: at 68.44% examples, 391086 words/s, in_qsize 3, out_qsize 0\n",
            "2021-10-26 17:46:14,108 : INFO : EPOCH 3 - PROGRESS: at 72.18% examples, 391274 words/s, in_qsize 3, out_qsize 0\n",
            "2021-10-26 17:46:15,129 : INFO : EPOCH 3 - PROGRESS: at 75.96% examples, 391648 words/s, in_qsize 3, out_qsize 0\n",
            "2021-10-26 17:46:16,143 : INFO : EPOCH 3 - PROGRESS: at 79.60% examples, 392079 words/s, in_qsize 3, out_qsize 0\n",
            "2021-10-26 17:46:17,150 : INFO : EPOCH 3 - PROGRESS: at 83.15% examples, 391817 words/s, in_qsize 3, out_qsize 0\n",
            "2021-10-26 17:46:18,152 : INFO : EPOCH 3 - PROGRESS: at 86.66% examples, 392044 words/s, in_qsize 3, out_qsize 0\n",
            "2021-10-26 17:46:19,168 : INFO : EPOCH 3 - PROGRESS: at 90.10% examples, 392283 words/s, in_qsize 3, out_qsize 0\n",
            "2021-10-26 17:46:20,179 : INFO : EPOCH 3 - PROGRESS: at 93.15% examples, 392700 words/s, in_qsize 3, out_qsize 0\n",
            "2021-10-26 17:46:21,196 : INFO : EPOCH 3 - PROGRESS: at 96.81% examples, 392827 words/s, in_qsize 3, out_qsize 0\n",
            "2021-10-26 17:46:22,108 : INFO : worker thread finished; awaiting finish of 1 more threads\n",
            "2021-10-26 17:46:22,110 : INFO : worker thread finished; awaiting finish of 0 more threads\n",
            "2021-10-26 17:46:22,112 : INFO : EPOCH - 3 : training on 11925051 raw words (11122917 effective words) took 28.3s, 393062 effective words/s\n",
            "2021-10-26 17:46:23,149 : INFO : EPOCH 4 - PROGRESS: at 3.23% examples, 368607 words/s, in_qsize 3, out_qsize 0\n",
            "2021-10-26 17:46:24,168 : INFO : EPOCH 4 - PROGRESS: at 6.45% examples, 382269 words/s, in_qsize 3, out_qsize 0\n",
            "2021-10-26 17:46:25,183 : INFO : EPOCH 4 - PROGRESS: at 10.00% examples, 387355 words/s, in_qsize 3, out_qsize 0\n",
            "2021-10-26 17:46:26,187 : INFO : EPOCH 4 - PROGRESS: at 13.65% examples, 389000 words/s, in_qsize 3, out_qsize 0\n",
            "2021-10-26 17:46:27,225 : INFO : EPOCH 4 - PROGRESS: at 17.70% examples, 386013 words/s, in_qsize 3, out_qsize 0\n",
            "2021-10-26 17:46:28,227 : INFO : EPOCH 4 - PROGRESS: at 21.43% examples, 387354 words/s, in_qsize 3, out_qsize 0\n",
            "2021-10-26 17:46:29,230 : INFO : EPOCH 4 - PROGRESS: at 25.13% examples, 388235 words/s, in_qsize 3, out_qsize 0\n",
            "2021-10-26 17:46:30,263 : INFO : EPOCH 4 - PROGRESS: at 28.92% examples, 387707 words/s, in_qsize 3, out_qsize 0\n",
            "2021-10-26 17:46:31,289 : INFO : EPOCH 4 - PROGRESS: at 32.17% examples, 388725 words/s, in_qsize 3, out_qsize 0\n",
            "2021-10-26 17:46:32,293 : INFO : EPOCH 4 - PROGRESS: at 34.63% examples, 389941 words/s, in_qsize 3, out_qsize 0\n",
            "2021-10-26 17:46:33,296 : INFO : EPOCH 4 - PROGRESS: at 38.11% examples, 389632 words/s, in_qsize 3, out_qsize 0\n",
            "2021-10-26 17:46:34,308 : INFO : EPOCH 4 - PROGRESS: at 41.70% examples, 389285 words/s, in_qsize 3, out_qsize 0\n",
            "2021-10-26 17:46:35,310 : INFO : EPOCH 4 - PROGRESS: at 45.50% examples, 389121 words/s, in_qsize 3, out_qsize 0\n",
            "2021-10-26 17:46:36,316 : INFO : EPOCH 4 - PROGRESS: at 49.29% examples, 388726 words/s, in_qsize 3, out_qsize 0\n",
            "2021-10-26 17:46:37,332 : INFO : EPOCH 4 - PROGRESS: at 52.90% examples, 388319 words/s, in_qsize 3, out_qsize 0\n",
            "2021-10-26 17:46:38,350 : INFO : EPOCH 4 - PROGRESS: at 56.34% examples, 388155 words/s, in_qsize 3, out_qsize 0\n",
            "2021-10-26 17:46:39,380 : INFO : EPOCH 4 - PROGRESS: at 60.07% examples, 388412 words/s, in_qsize 3, out_qsize 0\n",
            "2021-10-26 17:46:40,383 : INFO : EPOCH 4 - PROGRESS: at 64.19% examples, 388372 words/s, in_qsize 3, out_qsize 0\n",
            "2021-10-26 17:46:41,408 : INFO : EPOCH 4 - PROGRESS: at 67.94% examples, 388326 words/s, in_qsize 3, out_qsize 0\n",
            "2021-10-26 17:46:42,413 : INFO : EPOCH 4 - PROGRESS: at 71.69% examples, 388257 words/s, in_qsize 3, out_qsize 0\n",
            "2021-10-26 17:46:43,416 : INFO : EPOCH 4 - PROGRESS: at 75.25% examples, 388473 words/s, in_qsize 4, out_qsize 0\n",
            "2021-10-26 17:46:44,424 : INFO : EPOCH 4 - PROGRESS: at 78.90% examples, 388805 words/s, in_qsize 3, out_qsize 0\n",
            "2021-10-26 17:46:45,430 : INFO : EPOCH 4 - PROGRESS: at 82.41% examples, 388673 words/s, in_qsize 3, out_qsize 0\n",
            "2021-10-26 17:46:46,445 : INFO : EPOCH 4 - PROGRESS: at 85.82% examples, 388789 words/s, in_qsize 3, out_qsize 0\n",
            "2021-10-26 17:46:47,478 : INFO : EPOCH 4 - PROGRESS: at 89.38% examples, 388909 words/s, in_qsize 3, out_qsize 0\n",
            "2021-10-26 17:46:48,494 : INFO : EPOCH 4 - PROGRESS: at 92.58% examples, 388683 words/s, in_qsize 3, out_qsize 0\n",
            "2021-10-26 17:46:49,494 : INFO : EPOCH 4 - PROGRESS: at 95.89% examples, 388901 words/s, in_qsize 3, out_qsize 0\n",
            "2021-10-26 17:46:50,505 : INFO : EPOCH 4 - PROGRESS: at 99.20% examples, 388997 words/s, in_qsize 3, out_qsize 0\n",
            "2021-10-26 17:46:50,691 : INFO : worker thread finished; awaiting finish of 1 more threads\n",
            "2021-10-26 17:46:50,694 : INFO : worker thread finished; awaiting finish of 0 more threads\n",
            "2021-10-26 17:46:50,698 : INFO : EPOCH - 4 : training on 11925051 raw words (11120751 effective words) took 28.6s, 389182 effective words/s\n",
            "2021-10-26 17:46:51,710 : INFO : EPOCH 5 - PROGRESS: at 3.23% examples, 377327 words/s, in_qsize 3, out_qsize 0\n",
            "2021-10-26 17:46:52,732 : INFO : EPOCH 5 - PROGRESS: at 6.45% examples, 386427 words/s, in_qsize 3, out_qsize 0\n",
            "2021-10-26 17:46:53,732 : INFO : EPOCH 5 - PROGRESS: at 9.89% examples, 385953 words/s, in_qsize 3, out_qsize 0\n",
            "2021-10-26 17:46:54,735 : INFO : EPOCH 5 - PROGRESS: at 13.36% examples, 385859 words/s, in_qsize 3, out_qsize 0\n",
            "2021-10-26 17:46:55,772 : INFO : EPOCH 5 - PROGRESS: at 17.62% examples, 387207 words/s, in_qsize 3, out_qsize 0\n",
            "2021-10-26 17:46:56,783 : INFO : EPOCH 5 - PROGRESS: at 21.38% examples, 387812 words/s, in_qsize 4, out_qsize 0\n",
            "2021-10-26 17:46:57,802 : INFO : EPOCH 5 - PROGRESS: at 25.04% examples, 387773 words/s, in_qsize 3, out_qsize 0\n",
            "2021-10-26 17:46:58,831 : INFO : EPOCH 5 - PROGRESS: at 28.67% examples, 385177 words/s, in_qsize 3, out_qsize 0\n",
            "2021-10-26 17:46:59,850 : INFO : EPOCH 5 - PROGRESS: at 31.89% examples, 385811 words/s, in_qsize 3, out_qsize 0\n",
            "2021-10-26 17:47:00,857 : INFO : EPOCH 5 - PROGRESS: at 34.38% examples, 387441 words/s, in_qsize 3, out_qsize 0\n",
            "2021-10-26 17:47:01,880 : INFO : EPOCH 5 - PROGRESS: at 37.87% examples, 387275 words/s, in_qsize 2, out_qsize 1\n",
            "2021-10-26 17:47:02,885 : INFO : EPOCH 5 - PROGRESS: at 41.50% examples, 387298 words/s, in_qsize 3, out_qsize 0\n",
            "2021-10-26 17:47:03,891 : INFO : EPOCH 5 - PROGRESS: at 45.28% examples, 387914 words/s, in_qsize 3, out_qsize 0\n",
            "2021-10-26 17:47:04,906 : INFO : EPOCH 5 - PROGRESS: at 49.12% examples, 387380 words/s, in_qsize 3, out_qsize 0\n",
            "2021-10-26 17:47:05,919 : INFO : EPOCH 5 - PROGRESS: at 52.74% examples, 387157 words/s, in_qsize 3, out_qsize 0\n",
            "2021-10-26 17:47:06,928 : INFO : EPOCH 5 - PROGRESS: at 56.14% examples, 387238 words/s, in_qsize 3, out_qsize 0\n",
            "2021-10-26 17:47:07,946 : INFO : EPOCH 5 - PROGRESS: at 59.85% examples, 387301 words/s, in_qsize 3, out_qsize 0\n",
            "2021-10-26 17:47:08,976 : INFO : EPOCH 5 - PROGRESS: at 63.87% examples, 386732 words/s, in_qsize 3, out_qsize 0\n",
            "2021-10-26 17:47:09,987 : INFO : EPOCH 5 - PROGRESS: at 67.58% examples, 386616 words/s, in_qsize 3, out_qsize 0\n",
            "2021-10-26 17:47:10,996 : INFO : EPOCH 5 - PROGRESS: at 71.37% examples, 386519 words/s, in_qsize 3, out_qsize 0\n",
            "2021-10-26 17:47:11,999 : INFO : EPOCH 5 - PROGRESS: at 74.90% examples, 386816 words/s, in_qsize 3, out_qsize 0\n",
            "2021-10-26 17:47:13,007 : INFO : EPOCH 5 - PROGRESS: at 78.40% examples, 386429 words/s, in_qsize 3, out_qsize 0\n",
            "2021-10-26 17:47:14,041 : INFO : EPOCH 5 - PROGRESS: at 82.04% examples, 386686 words/s, in_qsize 3, out_qsize 0\n",
            "2021-10-26 17:47:15,041 : INFO : EPOCH 5 - PROGRESS: at 85.54% examples, 387109 words/s, in_qsize 3, out_qsize 0\n",
            "2021-10-26 17:47:16,070 : INFO : EPOCH 5 - PROGRESS: at 88.91% examples, 386997 words/s, in_qsize 3, out_qsize 0\n",
            "2021-10-26 17:47:17,071 : INFO : EPOCH 5 - PROGRESS: at 92.24% examples, 387074 words/s, in_qsize 3, out_qsize 0\n",
            "2021-10-26 17:47:18,083 : INFO : EPOCH 5 - PROGRESS: at 95.49% examples, 387243 words/s, in_qsize 3, out_qsize 0\n",
            "2021-10-26 17:47:19,088 : INFO : EPOCH 5 - PROGRESS: at 98.66% examples, 387100 words/s, in_qsize 3, out_qsize 0\n",
            "2021-10-26 17:47:19,416 : INFO : worker thread finished; awaiting finish of 1 more threads\n",
            "2021-10-26 17:47:19,437 : INFO : worker thread finished; awaiting finish of 0 more threads\n",
            "2021-10-26 17:47:19,439 : INFO : EPOCH - 5 : training on 11925051 raw words (11121554 effective words) took 28.7s, 387104 effective words/s\n",
            "2021-10-26 17:47:19,444 : INFO : Word2Vec lifecycle event {'msg': 'training on 59625255 raw words (55610309 effective words) took 142.9s, 389212 effective words/s', 'datetime': '2021-10-26T17:47:19.444183', 'gensim': '4.1.2', 'python': '3.7.12 (default, Sep 10 2021, 00:21:48) \\n[GCC 7.5.0]', 'platform': 'Linux-5.4.104+-x86_64-with-Ubuntu-18.04-bionic', 'event': 'train'}\n",
            "2021-10-26 17:47:19,445 : INFO : Word2Vec lifecycle event {'params': 'Word2Vec(vocab=33071, vector_size=300, alpha=0.025)', 'datetime': '2021-10-26T17:47:19.445603', 'gensim': '4.1.2', 'python': '3.7.12 (default, Sep 10 2021, 00:21:48) \\n[GCC 7.5.0]', 'platform': 'Linux-5.4.104+-x86_64-with-Ubuntu-18.04-bionic', 'event': 'created'}\n"
          ]
        }
      ]
    },
    {
      "cell_type": "code",
      "metadata": {
        "colab": {
          "base_uri": "https://localhost:8080/"
        },
        "id": "LtKFhDwkoKhl",
        "outputId": "a7df7707-4586-4841-9db1-52c312be8cb9"
      },
      "source": [
        "w2v_model.wv.similar_by_word('bartender')"
      ],
      "execution_count": 22,
      "outputs": [
        {
          "output_type": "execute_result",
          "data": {
            "text/plain": [
              "[('busser', 0.7618190050125122),\n",
              " ('waitress', 0.7473346590995789),\n",
              " ('waiter', 0.7098878622055054),\n",
              " ('hostess', 0.7010378241539001),\n",
              " ('bussers', 0.6423121690750122),\n",
              " ('waitstaff', 0.6400488018989563),\n",
              " ('bartenders', 0.6347126364707947),\n",
              " ('sushi', 0.633686900138855),\n",
              " ('ra', 0.6296216249465942),\n",
              " ('dishwasher', 0.6136170625686646)]"
            ]
          },
          "metadata": {},
          "execution_count": 22
        }
      ]
    },
    {
      "cell_type": "code",
      "metadata": {
        "colab": {
          "base_uri": "https://localhost:8080/"
        },
        "id": "3PrzwpHnpk2S",
        "outputId": "5f28849d-b5d9-4e92-fc51-88855bd72d9d"
      },
      "source": [
        "w2v_model.wv.similar_by_word('java')"
      ],
      "execution_count": 23,
      "outputs": [
        {
          "output_type": "execute_result",
          "data": {
            "text/plain": [
              "[('javascript', 0.777656078338623),\n",
              " ('jquery', 0.7706832885742188),\n",
              " ('xml', 0.7641456723213196),\n",
              " ('ui', 0.7162367105484009),\n",
              " ('html', 0.7130112051963806),\n",
              " ('developer', 0.7120020389556885),\n",
              " ('ajax', 0.7038507461547852),\n",
              " ('sql', 0.7029151916503906),\n",
              " ('php', 0.7026695609092712),\n",
              " ('python', 0.6975985765457153)]"
            ]
          },
          "metadata": {},
          "execution_count": 23
        }
      ]
    },
    {
      "cell_type": "code",
      "metadata": {
        "id": "Bm3kmAK8pzVw"
      },
      "source": [
        "# check out cosine similarity for some word-vectors\n",
        "from sklearn.metrics.pairwise import cosine_similarity"
      ],
      "execution_count": 24,
      "outputs": []
    },
    {
      "cell_type": "code",
      "metadata": {
        "id": "22cNOvrAp86K"
      },
      "source": [
        "pizza = w2v_model.wv['pizza'].reshape(1,300)\n",
        "pasta = w2v_model.wv['pasta'].reshape(1,300)\n",
        "sushi = w2v_model.wv['sushi'].reshape(1,300)\n",
        "uber = w2v_model.wv['uber'].reshape(1,300)"
      ],
      "execution_count": 25,
      "outputs": []
    },
    {
      "cell_type": "code",
      "metadata": {
        "colab": {
          "base_uri": "https://localhost:8080/"
        },
        "id": "WrOCpxM4qCav",
        "outputId": "74408a2c-78c6-4393-a134-6bb5e46d5368"
      },
      "source": [
        "cosine_similarity(pizza, uber)"
      ],
      "execution_count": 26,
      "outputs": [
        {
          "output_type": "execute_result",
          "data": {
            "text/plain": [
              "array([[0.12800236]], dtype=float32)"
            ]
          },
          "metadata": {},
          "execution_count": 26
        }
      ]
    },
    {
      "cell_type": "code",
      "metadata": {
        "colab": {
          "base_uri": "https://localhost:8080/"
        },
        "id": "q9WeC_XkqcjP",
        "outputId": "11262ec6-1a45-4c54-9b4f-60a0490f6c9b"
      },
      "source": [
        "w2v_model.save('w2v_model')"
      ],
      "execution_count": 27,
      "outputs": [
        {
          "output_type": "stream",
          "name": "stderr",
          "text": [
            "2021-10-26 17:47:19,759 : INFO : Word2Vec lifecycle event {'fname_or_handle': 'w2v_model', 'separately': 'None', 'sep_limit': 10485760, 'ignore': frozenset(), 'datetime': '2021-10-26T17:47:19.759224', 'gensim': '4.1.2', 'python': '3.7.12 (default, Sep 10 2021, 00:21:48) \\n[GCC 7.5.0]', 'platform': 'Linux-5.4.104+-x86_64-with-Ubuntu-18.04-bionic', 'event': 'saving'}\n",
            "2021-10-26 17:47:19,767 : INFO : not storing attribute cum_table\n",
            "2021-10-26 17:47:19,905 : INFO : saved w2v_model\n"
          ]
        }
      ]
    },
    {
      "cell_type": "code",
      "metadata": {
        "id": "XrWRhKOXt4c4"
      },
      "source": [
        "# define function for avg-embeddings \n",
        "# (in older versions of gensim it's not key_to_index but vocab)\n",
        "\n",
        "def get_mean_vector(word2vec_model, words):\n",
        "    # remove out-of-vocabulary words\n",
        "    words = [word for word in words if word in w2v_model.wv.key_to_index]\n",
        "    if len(words) >= 1:\n",
        "        return np.mean(word2vec_model.wv[words], axis=0)\n",
        "    else:\n",
        "        return []"
      ],
      "execution_count": 28,
      "outputs": []
    },
    {
      "cell_type": "code",
      "metadata": {
        "id": "1TKzazNou462",
        "colab": {
          "base_uri": "https://localhost:8080/"
        },
        "outputId": "073d53db-0f5a-401c-98e5-d13199d4108e"
      },
      "source": [
        "get_mean_vector(w2v_model, df_jobs['clean_text'][0])"
      ],
      "execution_count": 29,
      "outputs": [
        {
          "output_type": "execute_result",
          "data": {
            "text/plain": [
              "array([-2.27459788e-01,  2.83792838e-02, -3.15880328e-01, -4.02654737e-01,\n",
              "        1.61475033e-01,  7.92500898e-02, -2.25903973e-01, -3.36948335e-01,\n",
              "       -5.61738193e-01, -1.15351133e-01,  2.12891281e-01, -5.98014705e-02,\n",
              "        3.36666316e-01, -2.02782884e-01, -2.49138206e-01, -3.48881841e-01,\n",
              "       -3.79665703e-01,  9.20985714e-02, -4.38628495e-01,  3.60054113e-02,\n",
              "        2.10461989e-01, -2.60255896e-02,  2.48899572e-02,  2.77973175e-01,\n",
              "       -7.31425941e-01, -2.59217113e-01,  2.49705449e-01, -5.53703308e-01,\n",
              "        4.02820975e-01,  3.04305613e-01,  4.56851684e-02, -1.94203660e-01,\n",
              "        1.60758495e-01, -7.31263608e-02,  1.12131871e-01,  1.14503965e-01,\n",
              "        4.28892672e-01, -5.43757342e-02, -7.82297626e-02,  7.69299716e-02,\n",
              "        5.33812284e-01, -3.76203865e-01, -2.16519818e-01,  5.15402019e-01,\n",
              "        2.97062188e-01,  2.88686812e-01, -2.22387254e-01, -3.92101288e-01,\n",
              "       -9.28101987e-02, -3.97997469e-01,  2.46904105e-01,  1.75887927e-01,\n",
              "       -2.88872391e-01, -2.48218790e-01,  1.22148328e-01,  5.49198575e-02,\n",
              "       -6.08186781e-01,  1.13579936e-01,  1.96625516e-01, -4.21123266e-01,\n",
              "        1.43747285e-01,  5.60977519e-01, -2.90655792e-01, -1.52033955e-01,\n",
              "        1.76143274e-02,  4.77581210e-02,  1.42322570e-01,  1.55450940e-01,\n",
              "       -2.86803156e-01,  1.34721607e-01, -1.00539006e-01,  4.31486905e-01,\n",
              "       -2.85316497e-01,  7.28504121e-01, -2.13218719e-01, -2.19001636e-01,\n",
              "       -1.19804084e-01,  1.56887665e-01, -6.01462603e-01, -9.39482674e-02,\n",
              "       -2.95737773e-01,  1.56775281e-01,  1.57475621e-01,  2.08249673e-01,\n",
              "       -5.45867562e-01,  8.39322731e-02, -4.35741730e-02, -6.19486034e-01,\n",
              "       -1.35869816e-01, -2.04510257e-01, -1.06181838e-01,  2.16366593e-02,\n",
              "       -2.03036636e-01,  5.33443093e-01,  2.04997528e-02, -2.79333711e-01,\n",
              "        6.65935054e-02,  4.08269390e-02, -5.54774821e-01, -3.58814187e-03,\n",
              "        1.59451380e-01,  4.48555440e-01, -6.33898601e-02, -2.18904894e-02,\n",
              "        4.76890989e-03,  3.56243961e-02,  2.37407774e-01,  5.38109504e-02,\n",
              "       -9.03966874e-02,  3.85075659e-01, -3.84254716e-02,  2.76969641e-01,\n",
              "       -2.72470683e-01, -3.26627456e-02, -5.45185842e-02,  9.95887071e-03,\n",
              "        1.50968716e-01, -1.14511037e-02, -2.64083356e-01, -1.79924265e-01,\n",
              "        2.68680215e-01, -3.21171910e-01,  2.45753184e-01, -3.39284748e-01,\n",
              "        3.70444208e-01, -1.18975677e-01, -2.86668062e-01, -1.63857102e-01,\n",
              "        2.18776956e-01,  1.73100516e-01,  1.11150648e-03,  3.04335386e-01,\n",
              "       -4.51490104e-01,  2.36450717e-01,  2.95925826e-01,  5.56772351e-01,\n",
              "       -1.80742130e-01,  3.31033655e-02, -1.33057997e-01,  2.21348494e-01,\n",
              "        3.48502845e-01,  1.64128587e-01,  1.14740998e-01,  4.08626907e-02,\n",
              "       -3.34362835e-01,  2.45497227e-02,  5.31853616e-01,  2.93961889e-03,\n",
              "       -9.03051347e-02, -2.27478087e-01, -4.00935523e-02,  7.47952908e-02,\n",
              "       -1.26441523e-01, -1.80705592e-01,  1.99023128e-01, -2.29129687e-01,\n",
              "        2.83861220e-01,  2.74658322e-01, -3.34342159e-02, -5.45912720e-02,\n",
              "        1.01688898e+00,  8.36318135e-02,  1.32145286e-01,  5.39365448e-02,\n",
              "        1.55154750e-01, -1.90525457e-01,  2.20173094e-02,  4.77117211e-01,\n",
              "       -3.05778623e-01,  4.75915670e-01,  3.89423758e-01, -1.80537418e-01,\n",
              "       -5.57891987e-02, -2.05803424e-01,  2.42842615e-01,  5.59498131e-01,\n",
              "       -3.16501737e-01,  6.09302819e-02,  5.84251940e-01,  3.03798795e-01,\n",
              "       -2.14659020e-01,  1.23237520e-01,  1.12919956e-01, -2.32756168e-01,\n",
              "        2.61880577e-01, -2.58979142e-01, -5.79265365e-03, -4.60259825e-01,\n",
              "       -4.29843098e-01,  3.28832477e-01,  2.84453779e-01,  3.69596869e-01,\n",
              "        6.69267893e-01,  2.11376306e-02,  1.69254109e-01, -3.04346979e-01,\n",
              "        2.86166221e-01,  3.03246707e-01, -1.59539476e-01,  2.24541456e-01,\n",
              "        2.82905865e-02, -8.15977901e-02,  1.27495199e-01, -2.52324194e-01,\n",
              "       -1.54086292e-01, -2.30078042e-01,  9.05062556e-02, -4.61154878e-01,\n",
              "       -2.98020244e-01,  2.99433857e-01, -5.67029156e-02, -2.49844730e-01,\n",
              "        6.34611771e-02, -6.27087533e-01, -2.89836694e-02, -2.15094313e-01,\n",
              "        4.78886021e-03, -6.64265454e-02,  9.02502798e-03,  2.90985614e-01,\n",
              "       -1.84267923e-01,  2.25783780e-01,  2.18499199e-01,  2.62596935e-01,\n",
              "       -2.98678130e-01, -3.03107142e-01,  8.83523491e-04,  1.31234124e-01,\n",
              "        3.56796324e-01, -6.90545440e-02,  2.66135961e-01,  2.81994849e-01,\n",
              "       -4.49774176e-01, -1.62283555e-02,  9.17822644e-02,  1.82202205e-01,\n",
              "        5.07834196e-01,  3.02331865e-01,  2.28324413e-01, -5.12651801e-01,\n",
              "       -2.72219092e-01,  1.44211397e-01, -4.96183813e-01,  3.14337343e-01,\n",
              "       -6.22944772e-01,  2.33649328e-01,  4.44422998e-02,  3.07285219e-01,\n",
              "       -1.94429502e-01, -4.29499686e-01, -8.34802538e-02, -7.87961304e-01,\n",
              "        2.20933795e-01,  8.26971471e-01, -5.32494009e-01,  3.57222520e-02,\n",
              "       -2.67257299e-02,  1.15984544e-01,  3.41774523e-01,  5.35010040e-01,\n",
              "       -2.51688540e-01, -2.03831568e-01,  3.62985015e-01,  3.37018371e-01,\n",
              "        2.33381137e-01, -3.41320306e-01, -1.74028233e-01, -4.33186233e-01,\n",
              "        3.65841866e-01, -1.33768246e-01,  2.81358417e-02,  5.86817086e-01,\n",
              "        1.10600822e-01,  2.79506564e-01, -1.59457803e-01,  2.13659391e-01,\n",
              "       -3.56087983e-01,  2.65218884e-01,  8.82430822e-02, -1.88302055e-01,\n",
              "        5.24997950e-01,  1.81749716e-01,  1.90497354e-01, -3.78999740e-01,\n",
              "       -1.15002736e-01, -3.81471604e-01,  1.07319959e-01,  6.44993857e-02,\n",
              "       -3.41547310e-01, -1.72273293e-01, -7.38910511e-02,  1.40493745e-02,\n",
              "       -4.75044996e-01,  1.75802529e-01,  5.90614341e-02,  3.23057085e-01,\n",
              "       -3.51378888e-01, -8.52163211e-02,  6.09379828e-01,  3.33554260e-02],\n",
              "      dtype=float32)"
            ]
          },
          "metadata": {},
          "execution_count": 29
        }
      ]
    },
    {
      "cell_type": "code",
      "metadata": {
        "id": "H99fP5BSu_T4"
      },
      "source": [
        "# transform all texts into avg-vec-repre\n",
        "avg_job_vecs = df_jobs['clean_text'].map(lambda t: get_mean_vector(w2v_model, t))"
      ],
      "execution_count": 30,
      "outputs": []
    },
    {
      "cell_type": "code",
      "metadata": {
        "id": "kMh59DkRwsds"
      },
      "source": [
        "# aggregate vectors from list to matrix\n",
        "avg_job_vecs = np.vstack(avg_job_vecs)"
      ],
      "execution_count": 31,
      "outputs": []
    },
    {
      "cell_type": "code",
      "metadata": {
        "colab": {
          "base_uri": "https://localhost:8080/"
        },
        "id": "swejRl9lw4bt",
        "outputId": "69e47e53-1954-49ad-b144-29c2fc27341f"
      },
      "source": [
        "# check shape\n",
        "avg_job_vecs.shape"
      ],
      "execution_count": 32,
      "outputs": [
        {
          "output_type": "execute_result",
          "data": {
            "text/plain": [
              "(84090, 300)"
            ]
          },
          "metadata": {},
          "execution_count": 32
        }
      ]
    },
    {
      "cell_type": "code",
      "metadata": {
        "colab": {
          "base_uri": "https://localhost:8080/",
          "height": 69
        },
        "id": "hw72kVu-xagh",
        "outputId": "5408f9c8-0e8c-4e61-fa66-54ed9f1db06c"
      },
      "source": [
        "df_jobs['text'][0]"
      ],
      "execution_count": 33,
      "outputs": [
        {
          "output_type": "execute_result",
          "data": {
            "application/vnd.google.colaboratory.intrinsic+json": {
              "type": "string"
            },
            "text/plain": [
              "\"Server @ Tacolicious Server Tacolicious Tacolicious' first Palo Alto store just opened recently, and we are hiring! If you love tacos, you will love working at our restaurant! \\r\\n\\r\\n ● Serve food/drinks to customers in a professional manner \\r\\n ● Act as a cashier when needed \\r\\n ● Clean up the dining space \\r\\n ● Train the new staff \\r\\n\""
            ]
          },
          "metadata": {},
          "execution_count": 33
        }
      ]
    },
    {
      "cell_type": "code",
      "metadata": {
        "id": "wB_nxqj5xi6t"
      },
      "source": [
        "# calculate similarity to 1 article\n",
        "sims = cosine_similarity(avg_job_vecs[0].reshape(1,300), avg_job_vecs)"
      ],
      "execution_count": 34,
      "outputs": []
    },
    {
      "cell_type": "code",
      "metadata": {
        "id": "j3SLA7KYym08"
      },
      "source": [
        "# extract indices\n",
        "ix = np.flip(np.argsort(sims)).tolist()[0][:10]"
      ],
      "execution_count": 35,
      "outputs": []
    },
    {
      "cell_type": "code",
      "metadata": {
        "colab": {
          "base_uri": "https://localhost:8080/"
        },
        "id": "jZhta31Xxxer",
        "outputId": "1a7d8fc1-6577-45bf-88b9-8a189ddd0c34"
      },
      "source": [
        "# show results\n",
        "df_jobs['text'][ix]"
      ],
      "execution_count": 36,
      "outputs": [
        {
          "output_type": "execute_result",
          "data": {
            "text/plain": [
              "0        Server @ Tacolicious Server Tacolicious Tacoli...\n",
              "84057    Server @ Kabuto Restaurant Server Kabuto Resta...\n",
              "13448    Server @ BALEENkitchen Server BALEENkitchen  ●...\n",
              "84081    Server @ Pizza Antica Server Pizza Antica  ● S...\n",
              "13453    Server @ Gonpachi Server Gonpachi  ● Serve foo...\n",
              "24471    Server @ Exotic Thai Cafe Server Exotic Thai C...\n",
              "84044    Server @ Yuzu Server Yuzu  Yuzu is one of the ...\n",
              "10778    Server @ Far Niente Ristorante Server Far Nien...\n",
              "84082    Server @ Giardino Server Giardino  ● Serve foo...\n",
              "10783    Server @ La Fontaine Restaurant Server La Font...\n",
              "Name: text, dtype: object"
            ]
          },
          "metadata": {},
          "execution_count": 36
        }
      ]
    },
    {
      "cell_type": "code",
      "metadata": {
        "id": "LrK41ns4y9SN"
      },
      "source": [
        "# free text query\n",
        "query = 'consultant in legal'\n",
        "\n",
        "query = nlp(query, disable=[\"tagger\", \"parser\", \"ner\"])\n",
        "query = [token.lemma_.lower() for token in query \n",
        "         if token.is_alpha \n",
        "         and not token.is_stop \n",
        "         and not token.is_punct]\n",
        "\n",
        "query = get_mean_vector(w2v_model,query)"
      ],
      "execution_count": 48,
      "outputs": []
    },
    {
      "cell_type": "code",
      "metadata": {
        "colab": {
          "base_uri": "https://localhost:8080/"
        },
        "id": "FjKNST9nzFWa",
        "outputId": "464f71cc-489e-468f-a262-db58ff372341"
      },
      "source": [
        "sims = cosine_similarity(query.reshape(1,300), avg_job_vecs)\n",
        "ix = np.flip(np.argsort(sims)).tolist()[0][:10]\n",
        "df_jobs['text'][ix]"
      ],
      "execution_count": 49,
      "outputs": [
        {
          "output_type": "execute_result",
          "data": {
            "text/plain": [
              "53292    HR Consultant - ACA expert needed! @ OfficeTea...\n",
              "56218    Leasing Consultant @ Eastwood Management Corpo...\n",
              "76525    Leasing Consultant @ OfficeTeam Leasing Consul...\n",
              "13691    Administrative Assistant with Leasing Experien...\n",
              "53752    Senior Consultant   EMCC A2D2 @ GreyStone Staf...\n",
              "44270    Leasing Consultant Leasing Consultant nan Leas...\n",
              "25871    Legal Writer (part-time) @ Randstad Profession...\n",
              "47978    Paralegal/legal assistant/litigation specialis...\n",
              "37578    Legal Assistant/ Project Assistant @ Carolina ...\n",
              "1962     Legal Secretary @ OfficeTeam Legal Secretary O...\n",
              "Name: text, dtype: object"
            ]
          },
          "metadata": {},
          "execution_count": 49
        }
      ]
    },
    {
      "cell_type": "code",
      "metadata": {
        "colab": {
          "base_uri": "https://localhost:8080/",
          "height": 157
        },
        "id": "aB4KNdWtzLZS",
        "outputId": "4906c515-37c1-471a-b711-78b8765dd8ad"
      },
      "source": [
        "df_jobs['text'][84037]"
      ],
      "execution_count": null,
      "outputs": [
        {
          "output_type": "execute_result",
          "data": {
            "application/vnd.google.colaboratory.intrinsic+json": {
              "type": "string"
            },
            "text/plain": [
              "\"Sushi Chef @ Haku Sushi Sushi Chef Haku Sushi Haku Sushi is Santa Rosa's newest sushi bar. We have 100+ seats and business is great!\\r\\nWe need a head sushi chef to lead our current team of 3 sushi chefs.\\r\\nIf you currently are NOT a head sushi chef, this is a great opportunity to move into a head position very very quickly.\\r\\nWe can talk about job expectations and skills required during the phone interview. Here is more info on Haku:\\r\\nhttp://707.pressdemocrat.com/2013-05-31/featured/cox-haku-sushi\\r\\nhttp://www.bohemian.com/northbay/rollin-deep/Content?oid=2419001\\r\\n\\r\\nAlso check us out on facebook and Yelp where you can see Haku is the area's best sushi restaurant...full stop.\""
            ]
          },
          "metadata": {},
          "execution_count": 95
        }
      ]
    },
    {
      "cell_type": "markdown",
      "metadata": {
        "id": "hMerFuSpuUj2"
      },
      "source": [
        "Implementing TFIDF-weighted Word2Vec embeddings"
      ]
    },
    {
      "cell_type": "code",
      "metadata": {
        "id": "tHtI9bNx01Ml"
      },
      "source": [
        "from sklearn.feature_extraction.text import TfidfVectorizer"
      ],
      "execution_count": 50,
      "outputs": []
    },
    {
      "cell_type": "code",
      "metadata": {
        "id": "lg5MOqDhviVd"
      },
      "source": [
        "# function that does absolutely nothing...\n",
        "# to be able to use TfidfVectorizer on already tokenized text\n",
        "def dummy_fun(doc):\n",
        "    return doc"
      ],
      "execution_count": 51,
      "outputs": []
    },
    {
      "cell_type": "code",
      "metadata": {
        "id": "EaqyxTVIvp6q"
      },
      "source": [
        "# we turn of any preprocessing and align vocabulary with the one\n",
        "# used by our embeddings\n",
        "# that will allow us to use TFIDF vectors to weight the embeddings\n",
        "\n",
        "tfidf = TfidfVectorizer(vocabulary=w2v_model.wv.key_to_index.keys(),\n",
        "    tokenizer=dummy_fun,\n",
        "    preprocessor=dummy_fun,\n",
        "    token_pattern=None)  "
      ],
      "execution_count": 52,
      "outputs": []
    },
    {
      "cell_type": "code",
      "metadata": {
        "id": "WCZ1muckv8gL"
      },
      "source": [
        "# create TFIDF matrix (we could also just use that one for search)\n",
        "df_jobs_tfidf = tfidf.fit_transform(df_jobs['clean_text'])"
      ],
      "execution_count": 53,
      "outputs": []
    },
    {
      "cell_type": "code",
      "metadata": {
        "colab": {
          "base_uri": "https://localhost:8080/"
        },
        "id": "6EwuCdDhwUhB",
        "outputId": "448cc27e-4a9f-4a3b-9b37-27f2888c22b8"
      },
      "source": [
        "# how many word-vectors do we have?\n",
        "len(w2v_model.wv.key_to_index)"
      ],
      "execution_count": 57,
      "outputs": [
        {
          "output_type": "execute_result",
          "data": {
            "text/plain": [
              "33071"
            ]
          },
          "metadata": {},
          "execution_count": 57
        }
      ]
    },
    {
      "cell_type": "code",
      "metadata": {
        "colab": {
          "base_uri": "https://localhost:8080/"
        },
        "id": "f2AQI0-AwOLg",
        "outputId": "ef044470-b530-40eb-959c-2ddde4fa3ae5"
      },
      "source": [
        "# one tfidf vector has also 33071 columns - because we provided a vocab\n",
        "df_jobs_tfidf[:1,:]"
      ],
      "execution_count": 56,
      "outputs": [
        {
          "output_type": "execute_result",
          "data": {
            "text/plain": [
              "<1x33071 sparse matrix of type '<class 'numpy.float64'>'\n",
              "\twith 27 stored elements in Compressed Sparse Row format>"
            ]
          },
          "metadata": {},
          "execution_count": 56
        }
      ]
    },
    {
      "cell_type": "markdown",
      "metadata": {
        "id": "kb-mE9z2wghs"
      },
      "source": [
        "To get the vectors, we can use the dot-product of the TFIDF vector (or full matrix) with our word embeddings. n-columns (TFIDF) = n-rows (W2V embeddings)\n",
        "\n",
        "![](https://hadrienj.github.io/assets/images/2.2/dot-product.png)"
      ]
    },
    {
      "cell_type": "code",
      "metadata": {
        "colab": {
          "base_uri": "https://localhost:8080/"
        },
        "id": "XBhyp-vhwEaa",
        "outputId": "2730b77a-b2c2-4c4e-babf-614d71dbd0c3"
      },
      "source": [
        "# we can use np.dot or since Python 3 the @ for matrix-multiplication\n",
        "\n",
        "# let's try\n",
        "df_jobs_tfidf[:1,:] @ w2v_model.wv.vectors"
      ],
      "execution_count": 61,
      "outputs": [
        {
          "output_type": "execute_result",
          "data": {
            "text/plain": [
              "array([[-7.01223280e-01,  3.86127719e-01, -4.29526500e-01,\n",
              "        -6.08647310e-01,  3.61619589e-01,  2.74596986e-01,\n",
              "        -2.19369633e-01, -1.12414017e-01, -1.43040101e+00,\n",
              "        -3.24954501e-01,  4.68771499e-01, -2.72240093e-01,\n",
              "         5.27229745e-01, -6.42945363e-01, -8.21799343e-01,\n",
              "        -1.14912679e+00, -1.36769792e+00,  1.69325095e-01,\n",
              "        -7.47179696e-01, -2.78584557e-01,  6.54656144e-01,\n",
              "         1.35298108e-01,  2.66373847e-02,  1.05617106e+00,\n",
              "        -1.46310842e+00, -1.10216644e+00,  6.30542485e-01,\n",
              "        -1.43483234e+00,  1.51325905e+00,  7.13999978e-01,\n",
              "        -6.50459404e-02, -5.44729546e-01,  7.08846423e-01,\n",
              "        -5.80415599e-02,  3.48056014e-01,  4.34607849e-01,\n",
              "         1.23761953e+00, -3.07814260e-01, -2.99076442e-01,\n",
              "         3.84057309e-01,  1.45418452e+00, -8.22665776e-01,\n",
              "        -3.64323951e-01,  1.09074330e+00,  6.37676585e-01,\n",
              "         8.96839523e-01, -3.12701543e-01, -1.19127401e+00,\n",
              "        -3.78006360e-01, -1.37103632e+00,  1.15345555e+00,\n",
              "         3.52295375e-01, -9.15623517e-01, -7.34035540e-01,\n",
              "         5.97191580e-01,  4.00609849e-01, -1.77185162e+00,\n",
              "         6.51814946e-01,  3.07822954e-01, -1.43542402e+00,\n",
              "         4.25541337e-01,  1.58986692e+00, -8.47185549e-01,\n",
              "        -4.30177012e-01, -3.09303789e-01,  6.57867635e-01,\n",
              "         6.32119375e-01,  3.81564339e-01, -9.87458157e-01,\n",
              "         1.21980553e-01, -1.84976068e-01,  1.23784924e+00,\n",
              "        -5.19188245e-01,  1.53308739e+00, -3.17001848e-01,\n",
              "        -8.46541666e-01, -2.12268818e-01,  9.81588798e-02,\n",
              "        -1.55726080e+00, -2.37520376e-01, -1.09817029e+00,\n",
              "         1.66201144e-01,  6.94853471e-01,  7.08423219e-01,\n",
              "        -1.58625944e+00,  1.14809655e-01, -8.16235146e-01,\n",
              "        -1.48167263e+00, -2.28880293e-01, -6.45714528e-01,\n",
              "         9.07376065e-03, -7.83663618e-02, -3.13641400e-01,\n",
              "         2.13144176e+00,  3.70230480e-02, -7.35662646e-01,\n",
              "         6.03585362e-01,  2.54230344e-01, -1.64882837e+00,\n",
              "         4.32026445e-02,  3.65527241e-01,  1.50949099e+00,\n",
              "        -9.46269639e-03,  1.25929067e-01, -3.45286103e-02,\n",
              "        -3.65303765e-02,  8.11373629e-01,  4.50608809e-01,\n",
              "        -3.42995115e-01,  1.12658224e+00, -3.12660921e-01,\n",
              "         7.21488251e-01, -6.37617184e-01,  4.20576266e-01,\n",
              "        -8.71410031e-02,  2.33258008e-01,  6.29208640e-01,\n",
              "        -2.16098749e-01, -7.24576575e-01, -6.59813063e-01,\n",
              "         7.71429725e-01, -7.02213557e-01,  8.16286473e-01,\n",
              "        -7.42583407e-01,  8.76584369e-01, -4.10738322e-02,\n",
              "        -6.85381828e-01, -2.37854613e-01,  5.63414539e-01,\n",
              "         8.06733534e-01,  6.41103626e-01,  1.16089815e+00,\n",
              "        -1.10009752e+00,  1.11561352e+00,  1.03295551e+00,\n",
              "         1.56078403e+00, -3.73924823e-01, -8.27860785e-04,\n",
              "        -3.96810091e-01,  4.23766623e-01,  8.21283957e-01,\n",
              "         3.73625155e-01,  3.22705989e-01,  4.13838607e-01,\n",
              "        -1.10274334e+00, -7.60893470e-02,  1.14719928e+00,\n",
              "         5.42568035e-02, -2.02616343e-01, -4.35922787e-01,\n",
              "        -3.56937133e-01, -4.03385456e-01, -6.84460861e-01,\n",
              "        -6.20536009e-01,  6.80278179e-01, -4.52161587e-01,\n",
              "         1.00828168e+00,  8.33906493e-01,  1.53760106e-01,\n",
              "        -1.38512771e-01,  3.26652216e+00,  4.19358146e-01,\n",
              "         3.14775041e-01,  1.71110831e-03,  1.80353685e-01,\n",
              "        -9.54110058e-01,  1.17428192e-01,  1.10573888e+00,\n",
              "        -4.16274447e-01,  1.29410477e+00,  1.19940859e+00,\n",
              "        -5.80520487e-01,  1.94186563e-01, -2.93874559e-01,\n",
              "         5.97147727e-01,  1.38512612e+00, -7.69014345e-01,\n",
              "        -1.25857600e-01,  1.77054222e+00,  6.55578125e-01,\n",
              "        -8.31855272e-01,  4.14618991e-01, -1.13494629e-01,\n",
              "        -5.27454926e-01,  3.95988011e-01, -8.52177678e-01,\n",
              "         5.75268444e-02, -1.03028477e+00, -1.13065130e+00,\n",
              "         5.17477768e-01,  1.10432095e+00,  1.16414276e+00,\n",
              "         1.83228496e+00,  4.32462061e-01,  3.74687053e-01,\n",
              "        -1.17442293e+00,  8.88028109e-01,  6.46617819e-01,\n",
              "         1.12686790e-01,  7.74369835e-01, -1.01149291e-01,\n",
              "         6.96102692e-02,  3.15478408e-01, -8.60060457e-01,\n",
              "        -9.89612815e-03, -4.42052090e-01, -5.82043616e-02,\n",
              "        -1.46460974e+00, -7.38912678e-01,  5.25492297e-01,\n",
              "        -7.99610030e-02, -7.55303593e-01,  2.59683047e-02,\n",
              "        -1.87109242e+00,  8.72077978e-02, -9.11159376e-01,\n",
              "        -2.02853453e-01, -6.31609233e-01, -2.20788455e-01,\n",
              "         8.54877935e-01, -5.03884042e-01,  6.30903071e-01,\n",
              "         6.31885423e-01,  6.68181463e-01, -1.03472108e+00,\n",
              "        -1.04693042e+00,  3.70778325e-01,  3.26616739e-01,\n",
              "         8.49635947e-01, -8.05511702e-02,  5.94565053e-01,\n",
              "         9.09164447e-01, -1.28894717e+00,  1.70359341e-01,\n",
              "         6.21727511e-01,  6.70695848e-01,  1.55905342e+00,\n",
              "         1.20859988e+00,  6.62079920e-01, -1.71154259e+00,\n",
              "        -1.07613683e+00,  1.67907003e-02, -1.36290639e+00,\n",
              "         1.43656508e+00, -1.84806816e+00,  7.86255579e-01,\n",
              "         5.35494311e-01,  9.58876580e-01, -7.05616948e-01,\n",
              "        -6.78628648e-01,  1.23114201e-01, -1.86033707e+00,\n",
              "         5.39360791e-01,  2.47038359e+00, -1.58848061e+00,\n",
              "        -1.20611167e-01,  6.47310150e-02,  4.72977349e-01,\n",
              "         9.26286874e-01,  1.39773587e+00, -4.03029944e-01,\n",
              "        -4.60691376e-01,  6.75537756e-01,  7.74328110e-01,\n",
              "         8.51670186e-01, -7.56772756e-01, -5.36553121e-01,\n",
              "        -1.23801800e+00,  1.02651270e+00, -3.91626226e-01,\n",
              "        -7.10396201e-02,  1.50053176e+00,  3.02825821e-01,\n",
              "         6.14684240e-01, -5.08525329e-01,  5.73294912e-01,\n",
              "        -9.57085084e-01,  1.00113566e+00,  1.13584817e-01,\n",
              "        -2.03118907e-01,  1.44411357e+00,  9.43334282e-01,\n",
              "         6.44483022e-01, -8.85019727e-01, -5.42077565e-01,\n",
              "        -1.19150729e+00,  1.37712814e-01,  1.46678363e-01,\n",
              "        -9.51289237e-01, -6.36206634e-01, -8.83595104e-02,\n",
              "         2.97916615e-01, -1.16902476e+00,  4.25299331e-01,\n",
              "         4.74510879e-01,  8.15419810e-01, -1.07798422e+00,\n",
              "        -5.09570737e-01,  1.62413862e+00, -9.48834913e-02]])"
            ]
          },
          "metadata": {},
          "execution_count": 61
        }
      ]
    },
    {
      "cell_type": "code",
      "metadata": {
        "id": "OuKTKmMEwLFu"
      },
      "source": [
        "# for the whole matrix\n",
        "\n",
        "df_jobs_w2v_tfidf = df_jobs_tfidf @ w2v_model.wv.vectors"
      ],
      "execution_count": 63,
      "outputs": []
    },
    {
      "cell_type": "code",
      "metadata": {
        "colab": {
          "base_uri": "https://localhost:8080/"
        },
        "id": "yeOBLyyXxiaI",
        "outputId": "6634418f-4e40-4377-c2b6-16eafee8b1ff"
      },
      "source": [
        "df_jobs_w2v_tfidf.shape"
      ],
      "execution_count": 64,
      "outputs": [
        {
          "output_type": "execute_result",
          "data": {
            "text/plain": [
              "(84090, 300)"
            ]
          },
          "metadata": {},
          "execution_count": 64
        }
      ]
    },
    {
      "cell_type": "code",
      "metadata": {
        "colab": {
          "base_uri": "https://localhost:8080/"
        },
        "id": "8jxW9bEsxorz",
        "outputId": "47f00ff2-5e3b-4914-f8fa-2c27e247c924"
      },
      "source": [
        "# calculate similarity to 1 article\n",
        "sims = cosine_similarity(df_jobs_w2v_tfidf[0].reshape(1,300), df_jobs_w2v_tfidf)\n",
        "\n",
        "# extract indices\n",
        "ix = np.flip(np.argsort(sims)).tolist()[0][:10]\n",
        "\n",
        "# show results\n",
        "df_jobs['text'][ix]"
      ],
      "execution_count": 67,
      "outputs": [
        {
          "output_type": "execute_result",
          "data": {
            "text/plain": [
              "0        Server @ Tacolicious Server Tacolicious Tacoli...\n",
              "84057    Server @ Kabuto Restaurant Server Kabuto Resta...\n",
              "13448    Server @ BALEENkitchen Server BALEENkitchen  ●...\n",
              "84044    Server @ Yuzu Server Yuzu  Yuzu is one of the ...\n",
              "13453    Server @ Gonpachi Server Gonpachi  ● Serve foo...\n",
              "54458    Server @ Sakae Sushi Server Sakae Sushi  Locat...\n",
              "84081    Server @ Pizza Antica Server Pizza Antica  ● S...\n",
              "84062    Server @ Kenta Ramen Server Kenta Ramen  New R...\n",
              "84082    Server @ Giardino Server Giardino  ● Serve foo...\n",
              "84001    Server @ Waraku Server Waraku We are a newly o...\n",
              "Name: text, dtype: object"
            ]
          },
          "metadata": {},
          "execution_count": 67
        }
      ]
    },
    {
      "cell_type": "markdown",
      "metadata": {
        "id": "Rbox0ZPHyP0C"
      },
      "source": [
        "Results a bit different (compared to avg embeddings)\n"
      ]
    },
    {
      "cell_type": "code",
      "metadata": {
        "id": "qWz9hLMpy-As"
      },
      "source": [
        "# slightly more complex function that includes preprocessing with Spacy\n",
        "# TFIDF transformation and embeddings\n",
        "\n",
        "def get_tfidf_vector(word2vec_model, query):\n",
        "\n",
        "    query = nlp(query, disable=[\"tagger\", \"parser\", \"ner\"])\n",
        "    query = [token.lemma_.lower() for token in query \n",
        "         if token.is_alpha \n",
        "         and not token.is_stop \n",
        "         and not token.is_punct]\n",
        "    if len(query) >= 1:\n",
        "      words = tfidf.transform([query])\n",
        "      return words @ word2vec_model.wv.vectors\n",
        "    else:\n",
        "        return []"
      ],
      "execution_count": 87,
      "outputs": []
    },
    {
      "cell_type": "code",
      "metadata": {
        "colab": {
          "base_uri": "https://localhost:8080/"
        },
        "id": "vG2jRRB9zep0",
        "outputId": "32db2919-24fe-47d6-bf85-318589bc4602"
      },
      "source": [
        "query = get_tfidf_vector(w2v_model, 'web developer and designer')\n",
        "sims = cosine_similarity(query.reshape(1,300), df_jobs_w2v_tfidf)\n",
        "ix = np.flip(np.argsort(sims)).tolist()[0][:10]\n",
        "df_jobs['text'][ix]"
      ],
      "execution_count": 96,
      "outputs": [
        {
          "output_type": "execute_result",
          "data": {
            "text/plain": [
              "81172    Jr. Ruby on Rails Developer @ ConsultNet Jr. R...\n",
              "59799    Tableau UI Developer Tableau UI Developer nan ...\n",
              "19011    Web Designer (freelance) @ Creative Circle Web...\n",
              "59440    Sr. UX Designer @ Creative Circle Sr. UX Desig...\n",
              "32658    Web Developer @ Creative Circle Web Developer ...\n",
              "34535    Graphic Designer (Print + Web) @ Creative Circ...\n",
              "79576    Web Developer @ Creative Circle Web Developer ...\n",
              "73957    Web Developer @ Creative Circle Web Developer ...\n",
              "41978    Web designer/Front-end developer @ Collabera I...\n",
              "27721    Front End Developer @ ConsultNet Front End Dev...\n",
              "Name: text, dtype: object"
            ]
          },
          "metadata": {},
          "execution_count": 96
        }
      ]
    },
    {
      "cell_type": "markdown",
      "metadata": {
        "id": "CoXE--Xn1sKF"
      },
      "source": [
        "Adding Annoy - Approximate nearest neighbor matching\n",
        "\n",
        "![](https://camo.githubusercontent.com/a056535a8490b4b1aa933808e77207276235a209e97a980119d3e438897e1d36/68747470733a2f2f7261772e6769746875622e636f6d2f73706f746966792f616e6e6f792f6d61737465722f616e6e2e706e67)\n",
        "\n",
        "calculating cosines is great for small datasets (like ours) that gets more problematic once things get larger - here on-disk ANN approximation is the solution (we are talking 1M+ observations - when the vectorized matrices get too large)\n",
        "\n",
        "I work easilly with colelctions of 40+ million with annoy...runs quick :-)\n",
        "\n",
        "check out: https://github.com/spotify/annoy"
      ]
    },
    {
      "cell_type": "code",
      "metadata": {
        "colab": {
          "base_uri": "https://localhost:8080/"
        },
        "id": "EJOtwoti2EGZ",
        "outputId": "2ea1b21a-269a-4807-c39e-44bc02e89536"
      },
      "source": [
        "!pip install -q annoy"
      ],
      "execution_count": 97,
      "outputs": [
        {
          "output_type": "stream",
          "name": "stdout",
          "text": [
            "\u001b[?25l\r\u001b[K     |▌                               | 10 kB 10.2 MB/s eta 0:00:01\r\u001b[K     |█                               | 20 kB 16.0 MB/s eta 0:00:01\r\u001b[K     |█▌                              | 30 kB 15.4 MB/s eta 0:00:01\r\u001b[K     |██                              | 40 kB 11.9 MB/s eta 0:00:01\r\u001b[K     |██▌                             | 51 kB 5.7 MB/s eta 0:00:01\r\u001b[K     |███                             | 61 kB 5.3 MB/s eta 0:00:01\r\u001b[K     |███▌                            | 71 kB 5.6 MB/s eta 0:00:01\r\u001b[K     |████                            | 81 kB 6.2 MB/s eta 0:00:01\r\u001b[K     |████▋                           | 92 kB 4.9 MB/s eta 0:00:01\r\u001b[K     |█████                           | 102 kB 5.3 MB/s eta 0:00:01\r\u001b[K     |█████▋                          | 112 kB 5.3 MB/s eta 0:00:01\r\u001b[K     |██████                          | 122 kB 5.3 MB/s eta 0:00:01\r\u001b[K     |██████▋                         | 133 kB 5.3 MB/s eta 0:00:01\r\u001b[K     |███████                         | 143 kB 5.3 MB/s eta 0:00:01\r\u001b[K     |███████▋                        | 153 kB 5.3 MB/s eta 0:00:01\r\u001b[K     |████████▏                       | 163 kB 5.3 MB/s eta 0:00:01\r\u001b[K     |████████▋                       | 174 kB 5.3 MB/s eta 0:00:01\r\u001b[K     |█████████▏                      | 184 kB 5.3 MB/s eta 0:00:01\r\u001b[K     |█████████▋                      | 194 kB 5.3 MB/s eta 0:00:01\r\u001b[K     |██████████▏                     | 204 kB 5.3 MB/s eta 0:00:01\r\u001b[K     |██████████▋                     | 215 kB 5.3 MB/s eta 0:00:01\r\u001b[K     |███████████▏                    | 225 kB 5.3 MB/s eta 0:00:01\r\u001b[K     |███████████▋                    | 235 kB 5.3 MB/s eta 0:00:01\r\u001b[K     |████████████▏                   | 245 kB 5.3 MB/s eta 0:00:01\r\u001b[K     |████████████▊                   | 256 kB 5.3 MB/s eta 0:00:01\r\u001b[K     |█████████████▏                  | 266 kB 5.3 MB/s eta 0:00:01\r\u001b[K     |█████████████▊                  | 276 kB 5.3 MB/s eta 0:00:01\r\u001b[K     |██████████████▏                 | 286 kB 5.3 MB/s eta 0:00:01\r\u001b[K     |██████████████▊                 | 296 kB 5.3 MB/s eta 0:00:01\r\u001b[K     |███████████████▏                | 307 kB 5.3 MB/s eta 0:00:01\r\u001b[K     |███████████████▊                | 317 kB 5.3 MB/s eta 0:00:01\r\u001b[K     |████████████████▎               | 327 kB 5.3 MB/s eta 0:00:01\r\u001b[K     |████████████████▊               | 337 kB 5.3 MB/s eta 0:00:01\r\u001b[K     |█████████████████▎              | 348 kB 5.3 MB/s eta 0:00:01\r\u001b[K     |█████████████████▊              | 358 kB 5.3 MB/s eta 0:00:01\r\u001b[K     |██████████████████▎             | 368 kB 5.3 MB/s eta 0:00:01\r\u001b[K     |██████████████████▊             | 378 kB 5.3 MB/s eta 0:00:01\r\u001b[K     |███████████████████▎            | 389 kB 5.3 MB/s eta 0:00:01\r\u001b[K     |███████████████████▊            | 399 kB 5.3 MB/s eta 0:00:01\r\u001b[K     |████████████████████▎           | 409 kB 5.3 MB/s eta 0:00:01\r\u001b[K     |████████████████████▉           | 419 kB 5.3 MB/s eta 0:00:01\r\u001b[K     |█████████████████████▎          | 430 kB 5.3 MB/s eta 0:00:01\r\u001b[K     |█████████████████████▉          | 440 kB 5.3 MB/s eta 0:00:01\r\u001b[K     |██████████████████████▎         | 450 kB 5.3 MB/s eta 0:00:01\r\u001b[K     |██████████████████████▉         | 460 kB 5.3 MB/s eta 0:00:01\r\u001b[K     |███████████████████████▎        | 471 kB 5.3 MB/s eta 0:00:01\r\u001b[K     |███████████████████████▉        | 481 kB 5.3 MB/s eta 0:00:01\r\u001b[K     |████████████████████████▍       | 491 kB 5.3 MB/s eta 0:00:01\r\u001b[K     |████████████████████████▉       | 501 kB 5.3 MB/s eta 0:00:01\r\u001b[K     |█████████████████████████▍      | 512 kB 5.3 MB/s eta 0:00:01\r\u001b[K     |█████████████████████████▉      | 522 kB 5.3 MB/s eta 0:00:01\r\u001b[K     |██████████████████████████▍     | 532 kB 5.3 MB/s eta 0:00:01\r\u001b[K     |██████████████████████████▉     | 542 kB 5.3 MB/s eta 0:00:01\r\u001b[K     |███████████████████████████▍    | 552 kB 5.3 MB/s eta 0:00:01\r\u001b[K     |███████████████████████████▉    | 563 kB 5.3 MB/s eta 0:00:01\r\u001b[K     |████████████████████████████▍   | 573 kB 5.3 MB/s eta 0:00:01\r\u001b[K     |█████████████████████████████   | 583 kB 5.3 MB/s eta 0:00:01\r\u001b[K     |█████████████████████████████▍  | 593 kB 5.3 MB/s eta 0:00:01\r\u001b[K     |██████████████████████████████  | 604 kB 5.3 MB/s eta 0:00:01\r\u001b[K     |██████████████████████████████▍ | 614 kB 5.3 MB/s eta 0:00:01\r\u001b[K     |███████████████████████████████ | 624 kB 5.3 MB/s eta 0:00:01\r\u001b[K     |███████████████████████████████▍| 634 kB 5.3 MB/s eta 0:00:01\r\u001b[K     |████████████████████████████████| 645 kB 5.3 MB/s eta 0:00:01\r\u001b[K     |████████████████████████████████| 646 kB 5.3 MB/s \n",
            "\u001b[?25h  Building wheel for annoy (setup.py) ... \u001b[?25l\u001b[?25hdone\n"
          ]
        }
      ]
    },
    {
      "cell_type": "code",
      "metadata": {
        "id": "8z43PYpQ2EZA"
      },
      "source": [
        "from annoy import AnnoyIndex\n",
        "\n",
        "# instatiate a search tree (with shape n/300)\n",
        "t = AnnoyIndex(df_jobs_w2v_tfidf.shape[1], 'angular') "
      ],
      "execution_count": 100,
      "outputs": []
    },
    {
      "cell_type": "code",
      "metadata": {
        "colab": {
          "base_uri": "https://localhost:8080/"
        },
        "id": "DAQYVsU42Rfe",
        "outputId": "d4d4aaaf-d0e4-411f-bdb5-156c02f30d80"
      },
      "source": [
        "# we will build that on disk (can reuse later if we store it somwhere)\n",
        "\n",
        "t.on_disk_build('jobs_search_tree.annoy')"
      ],
      "execution_count": 99,
      "outputs": [
        {
          "output_type": "execute_result",
          "data": {
            "text/plain": [
              "True"
            ]
          },
          "metadata": {},
          "execution_count": 99
        }
      ]
    },
    {
      "cell_type": "code",
      "metadata": {
        "colab": {
          "base_uri": "https://localhost:8080/"
        },
        "id": "qCgFPo3G2S4x",
        "outputId": "f2dd7b5d-5b8c-41ef-e15f-c88ef49abd32"
      },
      "source": [
        "# now we add all our vectors - line by line to the tree\n",
        "# along with an index (here i - running index)\n",
        "for i in tqdm.tqdm(range(df_jobs_w2v_tfidf.shape[0]),position=0, leave=True):\n",
        "    t.add_item(i, df_jobs_w2v_tfidf[i])"
      ],
      "execution_count": 101,
      "outputs": [
        {
          "output_type": "stream",
          "name": "stderr",
          "text": [
            "100%|██████████| 84090/84090 [00:03<00:00, 22103.48it/s]\n"
          ]
        }
      ]
    },
    {
      "cell_type": "code",
      "metadata": {
        "colab": {
          "base_uri": "https://localhost:8080/"
        },
        "id": "F9aCH2eE2hoB",
        "outputId": "e3db475f-1242-4f4a-adb5-4eabb1bd02bb"
      },
      "source": [
        "# now we build the search tree (that creates partitions within the data-a bit like clustering)\n",
        "# thereafter search will be performed within the nearest partitions (that reduces search time A LOT)\n",
        "t.build(50, n_jobs=-1)"
      ],
      "execution_count": 102,
      "outputs": [
        {
          "output_type": "execute_result",
          "data": {
            "text/plain": [
              "True"
            ]
          },
          "metadata": {},
          "execution_count": 102
        }
      ]
    },
    {
      "cell_type": "code",
      "metadata": {
        "colab": {
          "base_uri": "https://localhost:8080/"
        },
        "id": "z5BRAQr521i-",
        "outputId": "d2394bf9-c13a-4bbd-a386-b87a52e819d3"
      },
      "source": [
        "t.get_nns_by_vector(df_jobs_w2v_tfidf[0], n=10, include_distances=True)"
      ],
      "execution_count": 105,
      "outputs": [
        {
          "output_type": "execute_result",
          "data": {
            "text/plain": [
              "([0, 84057, 13448, 84044, 13453, 54458, 84081, 84062, 84082, 84001],\n",
              " [0.0,\n",
              "  0.43137580156326294,\n",
              "  0.45826101303100586,\n",
              "  0.46562379598617554,\n",
              "  0.47330835461616516,\n",
              "  0.4771498143672943,\n",
              "  0.4818252623081207,\n",
              "  0.493192195892334,\n",
              "  0.5003194808959961,\n",
              "  0.5004116892814636])"
            ]
          },
          "metadata": {},
          "execution_count": 105
        }
      ]
    },
    {
      "cell_type": "code",
      "metadata": {
        "colab": {
          "base_uri": "https://localhost:8080/"
        },
        "id": "V07m1HwU3EMx",
        "outputId": "d6e51589-1c22-49b7-e692-409e642e60d1"
      },
      "source": [
        "# now we can search by index\n",
        "knn_search = t.get_nns_by_item(0, n=10, include_distances=True)\n",
        "df_jobs['text'][knn_search[0]]"
      ],
      "execution_count": 109,
      "outputs": [
        {
          "output_type": "execute_result",
          "data": {
            "text/plain": [
              "0        Server @ Tacolicious Server Tacolicious Tacoli...\n",
              "84057    Server @ Kabuto Restaurant Server Kabuto Resta...\n",
              "13448    Server @ BALEENkitchen Server BALEENkitchen  ●...\n",
              "84044    Server @ Yuzu Server Yuzu  Yuzu is one of the ...\n",
              "13453    Server @ Gonpachi Server Gonpachi  ● Serve foo...\n",
              "54458    Server @ Sakae Sushi Server Sakae Sushi  Locat...\n",
              "84081    Server @ Pizza Antica Server Pizza Antica  ● S...\n",
              "84062    Server @ Kenta Ramen Server Kenta Ramen  New R...\n",
              "84082    Server @ Giardino Server Giardino  ● Serve foo...\n",
              "84001    Server @ Waraku Server Waraku We are a newly o...\n",
              "Name: text, dtype: object"
            ]
          },
          "metadata": {},
          "execution_count": 109
        }
      ]
    },
    {
      "cell_type": "code",
      "metadata": {
        "colab": {
          "base_uri": "https://localhost:8080/"
        },
        "id": "See561LT3P4j",
        "outputId": "d673b0a3-e2f3-46b4-a69a-b7da7e891ef3"
      },
      "source": [
        "# now we can search by vector\n",
        "knn_search = t.get_nns_by_vector(df_jobs_w2v_tfidf[0], n=10, include_distances=True)\n",
        "df_jobs['text'][knn_search[0]]"
      ],
      "execution_count": 110,
      "outputs": [
        {
          "output_type": "execute_result",
          "data": {
            "text/plain": [
              "0        Server @ Tacolicious Server Tacolicious Tacoli...\n",
              "84057    Server @ Kabuto Restaurant Server Kabuto Resta...\n",
              "13448    Server @ BALEENkitchen Server BALEENkitchen  ●...\n",
              "84044    Server @ Yuzu Server Yuzu  Yuzu is one of the ...\n",
              "13453    Server @ Gonpachi Server Gonpachi  ● Serve foo...\n",
              "54458    Server @ Sakae Sushi Server Sakae Sushi  Locat...\n",
              "84081    Server @ Pizza Antica Server Pizza Antica  ● S...\n",
              "84062    Server @ Kenta Ramen Server Kenta Ramen  New R...\n",
              "84082    Server @ Giardino Server Giardino  ● Serve foo...\n",
              "84001    Server @ Waraku Server Waraku We are a newly o...\n",
              "Name: text, dtype: object"
            ]
          },
          "metadata": {},
          "execution_count": 110
        }
      ]
    },
    {
      "cell_type": "code",
      "metadata": {
        "colab": {
          "base_uri": "https://localhost:8080/"
        },
        "id": "mP5Quv6z3TT8",
        "outputId": "abdbb3c0-c838-4e6d-bae1-4d8212a0b08f"
      },
      "source": [
        "# also with a free query\n",
        "query = get_tfidf_vector(w2v_model, 'web developer and designer')\n",
        "\n",
        "knn_search = t.get_nns_by_vector(query[0], n=10, include_distances=True) \n",
        "# need to index [0] our matrix - annoy likes vectors - that's opposite from sklearn cosine\n",
        "\n",
        "df_jobs['text'][knn_search[0]]"
      ],
      "execution_count": 112,
      "outputs": [
        {
          "output_type": "execute_result",
          "data": {
            "text/plain": [
              "81172    Jr. Ruby on Rails Developer @ ConsultNet Jr. R...\n",
              "59799    Tableau UI Developer Tableau UI Developer nan ...\n",
              "19011    Web Designer (freelance) @ Creative Circle Web...\n",
              "59440    Sr. UX Designer @ Creative Circle Sr. UX Desig...\n",
              "32658    Web Developer @ Creative Circle Web Developer ...\n",
              "79576    Web Developer @ Creative Circle Web Developer ...\n",
              "73957    Web Developer @ Creative Circle Web Developer ...\n",
              "41978    Web designer/Front-end developer @ Collabera I...\n",
              "27721    Front End Developer @ ConsultNet Front End Dev...\n",
              "16189    Visual Designer/Front-end Developer @ Wunderla...\n",
              "Name: text, dtype: object"
            ]
          },
          "metadata": {},
          "execution_count": 112
        }
      ]
    }
  ]
}