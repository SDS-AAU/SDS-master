{
  "nbformat": 4,
  "nbformat_minor": 0,
  "metadata": {
    "colab": {
      "name": "job-recommender-system.ipynb",
      "provenance": [],
      "authorship_tag": "ABX9TyMHoAEp6mgpshurwh3nVhc2",
      "include_colab_link": true
    },
    "kernelspec": {
      "name": "python3",
      "display_name": "Python 3"
    },
    "language_info": {
      "name": "python"
    }
  },
  "cells": [
    {
      "cell_type": "markdown",
      "metadata": {
        "id": "view-in-github",
        "colab_type": "text"
      },
      "source": [
        "<a href=\"https://colab.research.google.com/github/SDS-AAU/SDS-master/blob/master/M2/notebooks/W3_job_recommender_system.ipynb\" target=\"_parent\"><img src=\"https://colab.research.google.com/assets/colab-badge.svg\" alt=\"Open In Colab\"/></a>"
      ]
    },
    {
      "cell_type": "markdown",
      "metadata": {
        "id": "SvMYs4A8agsc"
      },
      "source": [
        "## Getting dats from kaggle"
      ]
    },
    {
      "cell_type": "code",
      "metadata": {
        "id": "Hr2ZlPYmaY9y"
      },
      "source": [
        "# install kaggle package\n",
        "! pip install -q kaggle"
      ],
      "execution_count": 1,
      "outputs": []
    },
    {
      "cell_type": "markdown",
      "metadata": {
        "id": "LZ2jR8Lse05N"
      },
      "source": [
        "upload `kaggle.json`API key"
      ]
    },
    {
      "cell_type": "code",
      "metadata": {
        "id": "3c-83ASGdpeP"
      },
      "source": [
        "# make folder for api key\n",
        "! mkdir ~/.kaggle"
      ],
      "execution_count": 2,
      "outputs": []
    },
    {
      "cell_type": "code",
      "metadata": {
        "id": "YCUrRsoceNA-"
      },
      "source": [
        "# copy key into folder\n",
        "! cp kaggle.json ~/.kaggle/"
      ],
      "execution_count": 3,
      "outputs": []
    },
    {
      "cell_type": "code",
      "metadata": {
        "id": "GaTR9BCdeX6D"
      },
      "source": [
        "# change access permissions\n",
        "! chmod 600 ~/.kaggle/kaggle.json"
      ],
      "execution_count": 4,
      "outputs": []
    },
    {
      "cell_type": "code",
      "metadata": {
        "id": "RXh6ya8eeou8"
      },
      "source": [
        "# check if worked\n",
        "! kaggle datasets list"
      ],
      "execution_count": null,
      "outputs": []
    },
    {
      "cell_type": "markdown",
      "metadata": {
        "id": "cKMBMEwPfNWT"
      },
      "source": [
        "for getting data go to kaggle page and ... and copy API command"
      ]
    },
    {
      "cell_type": "code",
      "metadata": {
        "colab": {
          "base_uri": "https://localhost:8080/"
        },
        "id": "xcNkHGf0epEK",
        "outputId": "d21e742d-d977-4a31-baed-61d67f6de5f9"
      },
      "source": [
        "! kaggle datasets download -d kandij/job-recommendation-datasets"
      ],
      "execution_count": 6,
      "outputs": [
        {
          "output_type": "stream",
          "name": "stdout",
          "text": [
            "Downloading job-recommendation-datasets.zip to /content\n",
            " 65% 34.0M/52.4M [00:00<00:00, 157MB/s]\n",
            "100% 52.4M/52.4M [00:00<00:00, 174MB/s]\n"
          ]
        }
      ]
    },
    {
      "cell_type": "code",
      "metadata": {
        "colab": {
          "base_uri": "https://localhost:8080/"
        },
        "id": "Bnhc-puVfRr0",
        "outputId": "29190b3b-af3e-4fa7-a722-15b466cb3c0c"
      },
      "source": [
        "! unzip /content/job-recommendation-datasets.zip"
      ],
      "execution_count": 7,
      "outputs": [
        {
          "output_type": "stream",
          "name": "stdout",
          "text": [
            "Archive:  /content/job-recommendation-datasets.zip\n",
            "  inflating: Combined_Jobs_Final.csv  \n",
            "  inflating: Experience.csv          \n",
            "  inflating: Job_Views.csv           \n",
            "  inflating: Positions_Of_Interest.csv  \n",
            "  inflating: job_data.csv            \n"
          ]
        }
      ]
    },
    {
      "cell_type": "code",
      "metadata": {
        "id": "R_cbcu1XfeAX"
      },
      "source": [
        "import pandas as pd\n",
        "import numpy as np\n",
        "import spacy\n",
        "\n",
        "#instantiating English module\n",
        "nlp = spacy.load('en')"
      ],
      "execution_count": 8,
      "outputs": []
    },
    {
      "cell_type": "code",
      "metadata": {
        "id": "q2mWU4-RfsSz"
      },
      "source": [
        "df_jobs = pd.read_csv('/content/Combined_Jobs_Final.csv')\n",
        "df_views = pd.read_csv('/content/Job_Views.csv')\n",
        "df_poi = pd.read_csv('/content/Positions_Of_Interest.csv')\n",
        "df_exp = pd.read_csv('/content/Experience.csv')\n"
      ],
      "execution_count": 9,
      "outputs": []
    },
    {
      "cell_type": "code",
      "metadata": {
        "colab": {
          "base_uri": "https://localhost:8080/"
        },
        "id": "ltossA9ChQeX",
        "outputId": "7955c631-4b25-453f-be12-fe050527b1d7"
      },
      "source": [
        "df_jobs.info()"
      ],
      "execution_count": 12,
      "outputs": [
        {
          "output_type": "stream",
          "name": "stdout",
          "text": [
            "<class 'pandas.core.frame.DataFrame'>\n",
            "RangeIndex: 84090 entries, 0 to 84089\n",
            "Data columns (total 23 columns):\n",
            " #   Column              Non-Null Count  Dtype  \n",
            "---  ------              --------------  -----  \n",
            " 0   Job.ID              84090 non-null  int64  \n",
            " 1   Provider            84090 non-null  int64  \n",
            " 2   Status              84090 non-null  object \n",
            " 3   Slug                84090 non-null  object \n",
            " 4   Title               84090 non-null  object \n",
            " 5   Position            84090 non-null  object \n",
            " 6   Company             81819 non-null  object \n",
            " 7   City                83955 non-null  object \n",
            " 8   State.Name          83919 non-null  object \n",
            " 9   State.Code          83919 non-null  object \n",
            " 10  Address             36 non-null     object \n",
            " 11  Latitude            84090 non-null  float64\n",
            " 12  Longitude           84090 non-null  float64\n",
            " 13  Industry            267 non-null    object \n",
            " 14  Job.Description     84034 non-null  object \n",
            " 15  Requirements        0 non-null      float64\n",
            " 16  Salary              229 non-null    float64\n",
            " 17  Listing.Start       83407 non-null  object \n",
            " 18  Listing.End         83923 non-null  object \n",
            " 19  Employment.Type     84080 non-null  object \n",
            " 20  Education.Required  83823 non-null  object \n",
            " 21  Created.At          84090 non-null  object \n",
            " 22  Updated.At          84090 non-null  object \n",
            "dtypes: float64(4), int64(2), object(17)\n",
            "memory usage: 14.8+ MB\n"
          ]
        }
      ]
    },
    {
      "cell_type": "code",
      "metadata": {
        "id": "LRHfno40hR4m"
      },
      "source": [
        "# concatenate several columns into one text\n",
        "df_jobs['text'] = df_jobs['Title'].str.cat(df_jobs['Position'].astype(str), sep=' ').str.cat(df_jobs['Company'].astype(str), sep=' ').str.cat(df_jobs['Job.Description'].astype(str), sep=' ')"
      ],
      "execution_count": 15,
      "outputs": []
    },
    {
      "cell_type": "code",
      "metadata": {
        "id": "ZdfZEe9pi0h1"
      },
      "source": [
        "# progress bar\n",
        "import tqdm"
      ],
      "execution_count": 17,
      "outputs": []
    },
    {
      "cell_type": "code",
      "metadata": {
        "colab": {
          "base_uri": "https://localhost:8080/"
        },
        "id": "DxiiLB5-jbK6",
        "outputId": "c3574731-683e-45e6-ab72-4ef8da32fa7c"
      },
      "source": [
        "# how long would it take to run it with plain spacy?\n",
        "\n",
        "%%time\n",
        "nlp(df_jobs['text'][0])"
      ],
      "execution_count": 21,
      "outputs": [
        {
          "output_type": "stream",
          "name": "stdout",
          "text": [
            "CPU times: user 25.4 ms, sys: 844 µs, total: 26.2 ms\n",
            "Wall time: 30.8 ms\n"
          ]
        },
        {
          "output_type": "execute_result",
          "data": {
            "text/plain": [
              "Server @ Tacolicious Server Tacolicious Tacolicious' first Palo Alto store just opened recently, and we are hiring! If you love tacos, you will love working at our restaurant! \n",
              "\n",
              " ● Serve food/drinks to customers in a professional manner \n",
              " ● Act as a cashier when needed \n",
              " ● Clean up the dining space \n",
              " ● Train the new staff "
            ]
          },
          "metadata": {},
          "execution_count": 21
        }
      ]
    },
    {
      "cell_type": "code",
      "metadata": {
        "colab": {
          "base_uri": "https://localhost:8080/"
        },
        "id": "3qiIW_19jnpm",
        "outputId": "dc42ed49-e6e5-463b-fa36-ee5eddadb461"
      },
      "source": [
        "# run that for all? That is 0.71h - too long\n",
        "30.8*84000/1000/3600"
      ],
      "execution_count": 22,
      "outputs": [
        {
          "output_type": "execute_result",
          "data": {
            "text/plain": [
              "0.7186666666666666"
            ]
          },
          "metadata": {},
          "execution_count": 22
        }
      ]
    },
    {
      "cell_type": "code",
      "metadata": {
        "colab": {
          "base_uri": "https://localhost:8080/"
        },
        "id": "diKJDFjSjHtn",
        "outputId": "38084890-d5e0-46f0-a5e6-c5816d234577"
      },
      "source": [
        "# run progress bare and clean up using spacy but without some heavy parts of the pipeline\n",
        "\n",
        "%%time\n",
        "clean_text = []\n",
        "\n",
        "\n",
        "pbar = tqdm.tqdm(total=len(df_jobs['text']),position=0, leave=True)\n",
        "\n",
        "for text in nlp.pipe(df_jobs['text'], disable=[\"tagger\", \"parser\", \"ner\"]):\n",
        "\n",
        "  txt = [token.lemma_.lower() for token in text \n",
        "         if token.is_alpha \n",
        "         and not token.is_stop \n",
        "         and not token.is_punct]\n",
        "\n",
        "  clean_text.append(txt)\n",
        "\n",
        "  pbar.update(1)"
      ],
      "execution_count": 23,
      "outputs": [
        {
          "output_type": "stream",
          "name": "stderr",
          "text": [
            "100%|█████████▉| 83992/84090 [02:23<00:00, 562.27it/s]"
          ]
        },
        {
          "output_type": "stream",
          "name": "stdout",
          "text": [
            "CPU times: user 2min 21s, sys: 1.74 s, total: 2min 23s\n",
            "Wall time: 2min 23s\n"
          ]
        }
      ]
    },
    {
      "cell_type": "code",
      "metadata": {
        "id": "1Gym4P6glP8n"
      },
      "source": [
        "df_jobs['clean_text'] = clean_text"
      ],
      "execution_count": 24,
      "outputs": []
    },
    {
      "cell_type": "code",
      "metadata": {
        "id": "4e1puj-0l5Cg"
      },
      "source": [
        "df_jobs['clean_text'].isnull().sum()"
      ],
      "execution_count": null,
      "outputs": []
    },
    {
      "cell_type": "code",
      "metadata": {
        "colab": {
          "base_uri": "https://localhost:8080/"
        },
        "id": "ODVZhrjFl7XH",
        "outputId": "d02942cb-27bc-4f99-89eb-a7a50ac0bbb8"
      },
      "source": [
        "# update gensim\n",
        "!pip install --upgrade gensim -q"
      ],
      "execution_count": 27,
      "outputs": [
        {
          "output_type": "stream",
          "name": "stdout",
          "text": [
            "\u001b[K     |████████████████████████████████| 24.1 MB 1.4 MB/s \n",
            "\u001b[?25h"
          ]
        }
      ]
    },
    {
      "cell_type": "code",
      "metadata": {
        "id": "QKd9PIycnMuK"
      },
      "source": [
        "# get tooling for Word2Vec model\n",
        "from gensim.models import Word2Vec"
      ],
      "execution_count": 28,
      "outputs": []
    },
    {
      "cell_type": "code",
      "metadata": {
        "id": "PgRZ9zYsmHmE"
      },
      "source": [
        "# enable logging\n",
        "import logging\n",
        "logging.basicConfig(format='%(asctime)s : %(levelname)s : %(message)s', level=logging.INFO)"
      ],
      "execution_count": 29,
      "outputs": []
    },
    {
      "cell_type": "code",
      "metadata": {
        "id": "7Asm7_d6nV5O"
      },
      "source": [
        "# train word2vec model\n",
        "w2v_model = Word2Vec(sentences=df_jobs['clean_text'], vector_size=300, window=5, min_count=2, workers=2, epochs=5)"
      ],
      "execution_count": null,
      "outputs": []
    },
    {
      "cell_type": "code",
      "metadata": {
        "colab": {
          "base_uri": "https://localhost:8080/"
        },
        "id": "LtKFhDwkoKhl",
        "outputId": "ea4c8254-45b2-4f90-fd13-da8f50758d5b"
      },
      "source": [
        "w2v_model.wv.similar_by_word('bartender')"
      ],
      "execution_count": 32,
      "outputs": [
        {
          "output_type": "execute_result",
          "data": {
            "text/plain": [
              "[('busser', 0.7291507124900818),\n",
              " ('waitress', 0.707244336605072),\n",
              " ('hostess', 0.6812504529953003),\n",
              " ('waiter', 0.6639885902404785),\n",
              " ('finisher', 0.6277411580085754),\n",
              " ('bussers', 0.6256389617919922),\n",
              " ('bartenders', 0.6182125210762024),\n",
              " ('fry', 0.612985372543335),\n",
              " ('waitstaff', 0.6093533039093018),\n",
              " ('dishwasher', 0.5950363278388977)]"
            ]
          },
          "metadata": {},
          "execution_count": 32
        }
      ]
    },
    {
      "cell_type": "code",
      "metadata": {
        "colab": {
          "base_uri": "https://localhost:8080/"
        },
        "id": "3PrzwpHnpk2S",
        "outputId": "b5e6fead-4694-402b-9d97-d55e12b34782"
      },
      "source": [
        "w2v_model.wv.similar_by_word('java')"
      ],
      "execution_count": 37,
      "outputs": [
        {
          "output_type": "execute_result",
          "data": {
            "text/plain": [
              "[('javascript', 0.8004930019378662),\n",
              " ('xml', 0.7801821231842041),\n",
              " ('jquery', 0.7539994120597839),\n",
              " ('python', 0.7529684901237488),\n",
              " ('ajax', 0.7412889003753662),\n",
              " ('mvc', 0.7264665365219116),\n",
              " ('css', 0.7240338325500488),\n",
              " ('html', 0.7137460112571716),\n",
              " ('unix', 0.7129760384559631),\n",
              " ('developer', 0.7123264074325562)]"
            ]
          },
          "metadata": {},
          "execution_count": 37
        }
      ]
    },
    {
      "cell_type": "code",
      "metadata": {
        "id": "Bm3kmAK8pzVw"
      },
      "source": [
        "# check out cosine similarity for some word-vectors\n",
        "from sklearn.metrics.pairwise import cosine_similarity"
      ],
      "execution_count": 38,
      "outputs": []
    },
    {
      "cell_type": "code",
      "metadata": {
        "id": "22cNOvrAp86K"
      },
      "source": [
        "pizza = w2v_model.wv['pizza'].reshape(1,300)\n",
        "pasta = w2v_model.wv['pasta'].reshape(1,300)\n",
        "sushi = w2v_model.wv['sushi'].reshape(1,300)\n",
        "uber = w2v_model.wv['uber'].reshape(1,300)"
      ],
      "execution_count": 45,
      "outputs": []
    },
    {
      "cell_type": "code",
      "metadata": {
        "colab": {
          "base_uri": "https://localhost:8080/"
        },
        "id": "WrOCpxM4qCav",
        "outputId": "4e215895-14dc-4744-f6b0-eda3cc26d80e"
      },
      "source": [
        "cosine_similarity(pizza, uber)"
      ],
      "execution_count": 48,
      "outputs": [
        {
          "output_type": "execute_result",
          "data": {
            "text/plain": [
              "array([[0.14577591]], dtype=float32)"
            ]
          },
          "metadata": {},
          "execution_count": 48
        }
      ]
    },
    {
      "cell_type": "code",
      "metadata": {
        "colab": {
          "base_uri": "https://localhost:8080/"
        },
        "id": "q9WeC_XkqcjP",
        "outputId": "ed082afa-150c-4bd9-dc2a-135d4f112035"
      },
      "source": [
        "w2v_model.save('w2v_model')"
      ],
      "execution_count": 49,
      "outputs": [
        {
          "output_type": "stream",
          "name": "stderr",
          "text": [
            "2021-10-25 09:07:23,786 : INFO : Word2Vec lifecycle event {'fname_or_handle': 'w2v_model', 'separately': 'None', 'sep_limit': 10485760, 'ignore': frozenset(), 'datetime': '2021-10-25T09:07:23.786697', 'gensim': '4.1.2', 'python': '3.7.12 (default, Sep 10 2021, 00:21:48) \\n[GCC 7.5.0]', 'platform': 'Linux-5.4.104+-x86_64-with-Ubuntu-18.04-bionic', 'event': 'saving'}\n",
            "2021-10-25 09:07:23,788 : INFO : not storing attribute cum_table\n",
            "2021-10-25 09:07:23,922 : INFO : saved w2v_model\n"
          ]
        }
      ]
    },
    {
      "cell_type": "code",
      "metadata": {
        "id": "XrWRhKOXt4c4"
      },
      "source": [
        "# define function for avg-embeddings \n",
        "# (in older versions of gensim it's not key_to_index but vocab)\n",
        "\n",
        "def get_mean_vector(word2vec_model, words):\n",
        "    # remove out-of-vocabulary words\n",
        "    words = [word for word in words if word in w2v_model.wv.key_to_index]\n",
        "    if len(words) >= 1:\n",
        "        return np.mean(word2vec_model.wv[words], axis=0)\n",
        "    else:\n",
        "        return []"
      ],
      "execution_count": 59,
      "outputs": []
    },
    {
      "cell_type": "code",
      "metadata": {
        "id": "1TKzazNou462"
      },
      "source": [
        "get_mean_vector(w2v_model, df_jobs['clean_text'][0])"
      ],
      "execution_count": null,
      "outputs": []
    },
    {
      "cell_type": "code",
      "metadata": {
        "id": "H99fP5BSu_T4"
      },
      "source": [
        "# transform all texts into avg-vec-repre\n",
        "avg_job_vecs = df_jobs['clean_text'].map(lambda t: get_mean_vector(w2v_model, t))"
      ],
      "execution_count": 62,
      "outputs": []
    },
    {
      "cell_type": "code",
      "metadata": {
        "id": "kMh59DkRwsds"
      },
      "source": [
        "avg_job_vecs = np.vstack(avg_job_vecs)"
      ],
      "execution_count": 64,
      "outputs": []
    },
    {
      "cell_type": "code",
      "metadata": {
        "colab": {
          "base_uri": "https://localhost:8080/"
        },
        "id": "swejRl9lw4bt",
        "outputId": "ce9d46dc-5765-4c53-b0b5-1ed748dc7961"
      },
      "source": [
        "avg_job_vecs.shape"
      ],
      "execution_count": 66,
      "outputs": [
        {
          "output_type": "execute_result",
          "data": {
            "text/plain": [
              "(84090, 300)"
            ]
          },
          "metadata": {},
          "execution_count": 66
        }
      ]
    },
    {
      "cell_type": "code",
      "metadata": {
        "colab": {
          "base_uri": "https://localhost:8080/",
          "height": 87
        },
        "id": "hw72kVu-xagh",
        "outputId": "82b0311b-072b-48ef-987f-6ef08bb44a57"
      },
      "source": [
        "df_jobs['text'][0]"
      ],
      "execution_count": 67,
      "outputs": [
        {
          "output_type": "execute_result",
          "data": {
            "application/vnd.google.colaboratory.intrinsic+json": {
              "type": "string"
            },
            "text/plain": [
              "\"Server @ Tacolicious Server Tacolicious Tacolicious' first Palo Alto store just opened recently, and we are hiring! If you love tacos, you will love working at our restaurant! \\r\\n\\r\\n ● Serve food/drinks to customers in a professional manner \\r\\n ● Act as a cashier when needed \\r\\n ● Clean up the dining space \\r\\n ● Train the new staff \\r\\n\""
            ]
          },
          "metadata": {},
          "execution_count": 67
        }
      ]
    },
    {
      "cell_type": "code",
      "metadata": {
        "id": "wB_nxqj5xi6t"
      },
      "source": [
        "sims = cosine_similarity(avg_job_vecs[0].reshape(1,300), avg_job_vecs)"
      ],
      "execution_count": 68,
      "outputs": []
    },
    {
      "cell_type": "code",
      "metadata": {
        "id": "j3SLA7KYym08"
      },
      "source": [
        "ix = np.flip(np.argsort(sims)).tolist()[0][:10]"
      ],
      "execution_count": 83,
      "outputs": []
    },
    {
      "cell_type": "code",
      "metadata": {
        "colab": {
          "base_uri": "https://localhost:8080/"
        },
        "id": "jZhta31Xxxer",
        "outputId": "b164326d-e686-4846-bd17-6e4b30015ec4"
      },
      "source": [
        "df_jobs['text'][ix]"
      ],
      "execution_count": 84,
      "outputs": [
        {
          "output_type": "execute_result",
          "data": {
            "text/plain": [
              "0        Server @ Tacolicious Server Tacolicious Tacoli...\n",
              "84057    Server @ Kabuto Restaurant Server Kabuto Resta...\n",
              "13448    Server @ BALEENkitchen Server BALEENkitchen  ●...\n",
              "24471    Server @ Exotic Thai Cafe Server Exotic Thai C...\n",
              "84081    Server @ Pizza Antica Server Pizza Antica  ● S...\n",
              "13453    Server @ Gonpachi Server Gonpachi  ● Serve foo...\n",
              "84044    Server @ Yuzu Server Yuzu  Yuzu is one of the ...\n",
              "10783    Server @ La Fontaine Restaurant Server La Font...\n",
              "10778    Server @ Far Niente Ristorante Server Far Nien...\n",
              "84082    Server @ Giardino Server Giardino  ● Serve foo...\n",
              "Name: text, dtype: object"
            ]
          },
          "metadata": {},
          "execution_count": 84
        }
      ]
    },
    {
      "cell_type": "code",
      "metadata": {
        "id": "LrK41ns4y9SN"
      },
      "source": [
        "query = get_mean_vector(w2v_model,['sushi','chef','palo','alto'])"
      ],
      "execution_count": 93,
      "outputs": []
    },
    {
      "cell_type": "code",
      "metadata": {
        "colab": {
          "base_uri": "https://localhost:8080/"
        },
        "id": "FjKNST9nzFWa",
        "outputId": "4bf7047d-796b-4a88-bc6e-afb9995ea222"
      },
      "source": [
        "sims = cosine_similarity(query.reshape(1,300), avg_job_vecs)\n",
        "ix = np.flip(np.argsort(sims)).tolist()[0][:10]\n",
        "df_jobs['text'][ix]"
      ],
      "execution_count": 94,
      "outputs": [
        {
          "output_type": "execute_result",
          "data": {
            "text/plain": [
              "84037    Sushi Chef @ Haku Sushi Sushi Chef Haku Sushi ...\n",
              "84026    Sushi Chef @ Yoshi's Catering Sushi Chef Yoshi...\n",
              "84025    Sushi Chef @ Chin's Sushi Bar & Restaurant Sus...\n",
              "76235    Prep Cook/Dishwasher @ Haku Sushi Prep Cook/Di...\n",
              "23744    Banquet Servers and Bartenders @ All Team Staf...\n",
              "4        Kitchen Staff/Chef @ Rosa Mexicano - Sunset Ki...\n",
              "82777    Server, Bartender, Cook, Dishwasher, Hostess -...\n",
              "84024    Sushi Chef @ Sushi Taka Sushi Chef Sushi Taka ...\n",
              "50182    Cook / Sous Chef / Chef @ Classic Staffing Ser...\n",
              "54391    Chef Instructors @ Star Career Academy Chef In...\n",
              "Name: text, dtype: object"
            ]
          },
          "metadata": {},
          "execution_count": 94
        }
      ]
    },
    {
      "cell_type": "code",
      "metadata": {
        "colab": {
          "base_uri": "https://localhost:8080/",
          "height": 157
        },
        "id": "aB4KNdWtzLZS",
        "outputId": "4906c515-37c1-471a-b711-78b8765dd8ad"
      },
      "source": [
        "df_jobs['text'][84037]"
      ],
      "execution_count": 95,
      "outputs": [
        {
          "output_type": "execute_result",
          "data": {
            "application/vnd.google.colaboratory.intrinsic+json": {
              "type": "string"
            },
            "text/plain": [
              "\"Sushi Chef @ Haku Sushi Sushi Chef Haku Sushi Haku Sushi is Santa Rosa's newest sushi bar. We have 100+ seats and business is great!\\r\\nWe need a head sushi chef to lead our current team of 3 sushi chefs.\\r\\nIf you currently are NOT a head sushi chef, this is a great opportunity to move into a head position very very quickly.\\r\\nWe can talk about job expectations and skills required during the phone interview. Here is more info on Haku:\\r\\nhttp://707.pressdemocrat.com/2013-05-31/featured/cox-haku-sushi\\r\\nhttp://www.bohemian.com/northbay/rollin-deep/Content?oid=2419001\\r\\n\\r\\nAlso check us out on facebook and Yelp where you can see Haku is the area's best sushi restaurant...full stop.\""
            ]
          },
          "metadata": {},
          "execution_count": 95
        }
      ]
    },
    {
      "cell_type": "code",
      "metadata": {
        "id": "tHtI9bNx01Ml"
      },
      "source": [
        ""
      ],
      "execution_count": null,
      "outputs": []
    }
  ]
}