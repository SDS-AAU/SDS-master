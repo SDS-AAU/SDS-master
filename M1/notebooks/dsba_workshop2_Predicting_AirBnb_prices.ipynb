{
  "nbformat": 4,
  "nbformat_minor": 0,
  "metadata": {
    "colab": {
      "name": "Predicting AirBnb prices",
      "provenance": [],
      "authorship_tag": "ABX9TyOBpuSTsaKdf3GbEHcO1nvF",
      "include_colab_link": true
    },
    "kernelspec": {
      "name": "python3",
      "display_name": "Python 3"
    }
  },
  "cells": [
    {
      "cell_type": "markdown",
      "metadata": {
        "id": "view-in-github",
        "colab_type": "text"
      },
      "source": [
        "<a href=\"https://colab.research.google.com/github/SDS-AAU/SDS-master/blob/master/M1/notebooks/dsba_workshop2_Predicting_AirBnb_prices.ipynb\" target=\"_parent\"><img src=\"https://colab.research.google.com/assets/colab-badge.svg\" alt=\"Open In Colab\"/></a>"
      ]
    },
    {
      "cell_type": "code",
      "metadata": {
        "id": "fQgAQWjXUtcv"
      },
      "source": [
        "import pandas as pd"
      ],
      "execution_count": null,
      "outputs": []
    },
    {
      "cell_type": "code",
      "metadata": {
        "id": "oYgPofL1VfsA",
        "outputId": "16b6c7e9-1fa4-4d52-bdbb-94e7c3107ae0",
        "colab": {
          "base_uri": "https://localhost:8080/",
          "height": 70
        }
      },
      "source": [
        "listings = pd.read_csv('http://data.insideairbnb.com/denmark/hovedstaden/copenhagen/2020-06-26/data/listings.csv.gz', compression='gzip')"
      ],
      "execution_count": null,
      "outputs": [
        {
          "output_type": "stream",
          "text": [
            "/usr/local/lib/python3.6/dist-packages/IPython/core/interactiveshell.py:2718: DtypeWarning: Columns (43,61,62,94) have mixed types.Specify dtype option on import or set low_memory=False.\n",
            "  interactivity=interactivity, compiler=compiler, result=result)\n"
          ],
          "name": "stderr"
        }
      ]
    },
    {
      "cell_type": "code",
      "metadata": {
        "id": "DzDwJbpDW4_X"
      },
      "source": [
        "listings.price = listings.price.str.replace(',','')\n",
        "listings.price = listings.price.str.replace('$','')\n",
        "listings.price = listings.price.astype(float)"
      ],
      "execution_count": null,
      "outputs": []
    },
    {
      "cell_type": "code",
      "metadata": {
        "id": "aXyUtRVHFSVR"
      },
      "source": [
        "listings.cleaning_fee = listings.cleaning_fee.str.replace(',','')\n",
        "listings.cleaning_fee = listings.cleaning_fee.str.replace('$','')\n",
        "listings.cleaning_fee = listings.cleaning_fee.astype(float)"
      ],
      "execution_count": null,
      "outputs": []
    },
    {
      "cell_type": "code",
      "metadata": {
        "id": "HJiqEiWrFfya"
      },
      "source": [
        "listings['price_total'] = listings.price + listings.cleaning_fee"
      ],
      "execution_count": null,
      "outputs": []
    },
    {
      "cell_type": "code",
      "metadata": {
        "id": "vmIJYJizVjLI"
      },
      "source": [
        "listings_clean = listings[listings.price_total < listings.price_total.quantile(0.85)]"
      ],
      "execution_count": null,
      "outputs": []
    },
    {
      "cell_type": "code",
      "metadata": {
        "id": "qNwNQ1HRHqQr",
        "outputId": "f99edfbc-0664-4654-c533-b7b334ad805a",
        "colab": {
          "base_uri": "https://localhost:8080/",
          "height": 70
        }
      },
      "source": [
        "listings_clean = listings_clean[listings.number_of_reviews > 10]"
      ],
      "execution_count": null,
      "outputs": [
        {
          "output_type": "stream",
          "text": [
            "/usr/local/lib/python3.6/dist-packages/ipykernel_launcher.py:1: UserWarning: Boolean Series key will be reindexed to match DataFrame index.\n",
            "  \"\"\"Entry point for launching an IPython kernel.\n"
          ],
          "name": "stderr"
        }
      ]
    },
    {
      "cell_type": "code",
      "metadata": {
        "id": "JsbNpSZnXps0",
        "outputId": "964dfd23-7993-4c00-d0ca-771ca3ecf69a",
        "colab": {
          "base_uri": "https://localhost:8080/",
          "height": 130
        }
      },
      "source": [
        "listings_clean.head(1).loc[:,'neighbourhood_cleansed':]"
      ],
      "execution_count": null,
      "outputs": [
        {
          "output_type": "execute_result",
          "data": {
            "text/html": [
              "<div>\n",
              "<style scoped>\n",
              "    .dataframe tbody tr th:only-of-type {\n",
              "        vertical-align: middle;\n",
              "    }\n",
              "\n",
              "    .dataframe tbody tr th {\n",
              "        vertical-align: top;\n",
              "    }\n",
              "\n",
              "    .dataframe thead th {\n",
              "        text-align: right;\n",
              "    }\n",
              "</style>\n",
              "<table border=\"1\" class=\"dataframe\">\n",
              "  <thead>\n",
              "    <tr style=\"text-align: right;\">\n",
              "      <th></th>\n",
              "      <th>neighbourhood_cleansed</th>\n",
              "      <th>neighbourhood_group_cleansed</th>\n",
              "      <th>city</th>\n",
              "      <th>state</th>\n",
              "      <th>zipcode</th>\n",
              "      <th>market</th>\n",
              "      <th>smart_location</th>\n",
              "      <th>country_code</th>\n",
              "      <th>country</th>\n",
              "      <th>latitude</th>\n",
              "      <th>longitude</th>\n",
              "      <th>is_location_exact</th>\n",
              "      <th>property_type</th>\n",
              "      <th>room_type</th>\n",
              "      <th>accommodates</th>\n",
              "      <th>bathrooms</th>\n",
              "      <th>bedrooms</th>\n",
              "      <th>beds</th>\n",
              "      <th>bed_type</th>\n",
              "      <th>amenities</th>\n",
              "      <th>square_feet</th>\n",
              "      <th>price</th>\n",
              "      <th>weekly_price</th>\n",
              "      <th>monthly_price</th>\n",
              "      <th>security_deposit</th>\n",
              "      <th>cleaning_fee</th>\n",
              "      <th>guests_included</th>\n",
              "      <th>extra_people</th>\n",
              "      <th>minimum_nights</th>\n",
              "      <th>maximum_nights</th>\n",
              "      <th>minimum_minimum_nights</th>\n",
              "      <th>maximum_minimum_nights</th>\n",
              "      <th>minimum_maximum_nights</th>\n",
              "      <th>maximum_maximum_nights</th>\n",
              "      <th>minimum_nights_avg_ntm</th>\n",
              "      <th>maximum_nights_avg_ntm</th>\n",
              "      <th>calendar_updated</th>\n",
              "      <th>has_availability</th>\n",
              "      <th>availability_30</th>\n",
              "      <th>availability_60</th>\n",
              "      <th>availability_90</th>\n",
              "      <th>availability_365</th>\n",
              "      <th>calendar_last_scraped</th>\n",
              "      <th>number_of_reviews</th>\n",
              "      <th>number_of_reviews_ltm</th>\n",
              "      <th>first_review</th>\n",
              "      <th>last_review</th>\n",
              "      <th>review_scores_rating</th>\n",
              "      <th>review_scores_accuracy</th>\n",
              "      <th>review_scores_cleanliness</th>\n",
              "      <th>review_scores_checkin</th>\n",
              "      <th>review_scores_communication</th>\n",
              "      <th>review_scores_location</th>\n",
              "      <th>review_scores_value</th>\n",
              "      <th>requires_license</th>\n",
              "      <th>license</th>\n",
              "      <th>jurisdiction_names</th>\n",
              "      <th>instant_bookable</th>\n",
              "      <th>is_business_travel_ready</th>\n",
              "      <th>cancellation_policy</th>\n",
              "      <th>require_guest_profile_picture</th>\n",
              "      <th>require_guest_phone_verification</th>\n",
              "      <th>calculated_host_listings_count</th>\n",
              "      <th>calculated_host_listings_count_entire_homes</th>\n",
              "      <th>calculated_host_listings_count_private_rooms</th>\n",
              "      <th>calculated_host_listings_count_shared_rooms</th>\n",
              "      <th>reviews_per_month</th>\n",
              "      <th>price_total</th>\n",
              "    </tr>\n",
              "  </thead>\n",
              "  <tbody>\n",
              "    <tr>\n",
              "      <th>0</th>\n",
              "      <td>Nrrebro</td>\n",
              "      <td>NaN</td>\n",
              "      <td>Copenhagen</td>\n",
              "      <td>Hovedstaden</td>\n",
              "      <td>2200</td>\n",
              "      <td>Copenhagen</td>\n",
              "      <td>Copenhagen, Denmark</td>\n",
              "      <td>DK</td>\n",
              "      <td>Denmark</td>\n",
              "      <td>55.68798</td>\n",
              "      <td>12.54571</td>\n",
              "      <td>t</td>\n",
              "      <td>Apartment</td>\n",
              "      <td>Private room</td>\n",
              "      <td>2</td>\n",
              "      <td>1.0</td>\n",
              "      <td>1.0</td>\n",
              "      <td>1.0</td>\n",
              "      <td>Real Bed</td>\n",
              "      <td>{TV,\"Cable TV\",Wifi,Kitchen,\"Paid parking off ...</td>\n",
              "      <td>97.0</td>\n",
              "      <td>365.0</td>\n",
              "      <td>NaN</td>\n",
              "      <td>NaN</td>\n",
              "      <td>$0.00</td>\n",
              "      <td>33.0</td>\n",
              "      <td>1</td>\n",
              "      <td>$66.00</td>\n",
              "      <td>2</td>\n",
              "      <td>15</td>\n",
              "      <td>2</td>\n",
              "      <td>2</td>\n",
              "      <td>15</td>\n",
              "      <td>15</td>\n",
              "      <td>2.0</td>\n",
              "      <td>15.0</td>\n",
              "      <td>5 months ago</td>\n",
              "      <td>t</td>\n",
              "      <td>29</td>\n",
              "      <td>59</td>\n",
              "      <td>89</td>\n",
              "      <td>89</td>\n",
              "      <td>2020-06-28</td>\n",
              "      <td>168</td>\n",
              "      <td>1</td>\n",
              "      <td>2009-09-04</td>\n",
              "      <td>2019-07-19</td>\n",
              "      <td>96.0</td>\n",
              "      <td>10.0</td>\n",
              "      <td>9.0</td>\n",
              "      <td>10.0</td>\n",
              "      <td>10.0</td>\n",
              "      <td>9.0</td>\n",
              "      <td>9.0</td>\n",
              "      <td>f</td>\n",
              "      <td>NaN</td>\n",
              "      <td>NaN</td>\n",
              "      <td>f</td>\n",
              "      <td>f</td>\n",
              "      <td>moderate</td>\n",
              "      <td>f</td>\n",
              "      <td>f</td>\n",
              "      <td>1</td>\n",
              "      <td>0</td>\n",
              "      <td>1</td>\n",
              "      <td>0</td>\n",
              "      <td>1.28</td>\n",
              "      <td>398.0</td>\n",
              "    </tr>\n",
              "  </tbody>\n",
              "</table>\n",
              "</div>"
            ],
            "text/plain": [
              "  neighbourhood_cleansed  ...  price_total\n",
              "0                Nrrebro  ...        398.0\n",
              "\n",
              "[1 rows x 68 columns]"
            ]
          },
          "metadata": {
            "tags": []
          },
          "execution_count": 172
        }
      ]
    },
    {
      "cell_type": "code",
      "metadata": {
        "id": "r2r7D9Q_XaU7",
        "outputId": "a9cc69fd-7e1c-4885-ab39-8bee90f13d33",
        "colab": {
          "base_uri": "https://localhost:8080/",
          "height": 1000
        }
      },
      "source": [
        "listings_clean.info(verbose=True)"
      ],
      "execution_count": null,
      "outputs": [
        {
          "output_type": "stream",
          "text": [
            "<class 'pandas.core.frame.DataFrame'>\n",
            "Int64Index: 6578 entries, 0 to 27378\n",
            "Data columns (total 107 columns):\n",
            " #   Column                                        Dtype  \n",
            "---  ------                                        -----  \n",
            " 0   id                                            int64  \n",
            " 1   listing_url                                   object \n",
            " 2   scrape_id                                     int64  \n",
            " 3   last_scraped                                  object \n",
            " 4   name                                          object \n",
            " 5   summary                                       object \n",
            " 6   space                                         object \n",
            " 7   description                                   object \n",
            " 8   experiences_offered                           object \n",
            " 9   neighborhood_overview                         object \n",
            " 10  notes                                         object \n",
            " 11  transit                                       object \n",
            " 12  access                                        object \n",
            " 13  interaction                                   object \n",
            " 14  house_rules                                   object \n",
            " 15  thumbnail_url                                 float64\n",
            " 16  medium_url                                    float64\n",
            " 17  picture_url                                   object \n",
            " 18  xl_picture_url                                float64\n",
            " 19  host_id                                       int64  \n",
            " 20  host_url                                      object \n",
            " 21  host_name                                     object \n",
            " 22  host_since                                    object \n",
            " 23  host_location                                 object \n",
            " 24  host_about                                    object \n",
            " 25  host_response_time                            object \n",
            " 26  host_response_rate                            object \n",
            " 27  host_acceptance_rate                          object \n",
            " 28  host_is_superhost                             object \n",
            " 29  host_thumbnail_url                            object \n",
            " 30  host_picture_url                              object \n",
            " 31  host_neighbourhood                            object \n",
            " 32  host_listings_count                           float64\n",
            " 33  host_total_listings_count                     float64\n",
            " 34  host_verifications                            object \n",
            " 35  host_has_profile_pic                          object \n",
            " 36  host_identity_verified                        object \n",
            " 37  street                                        object \n",
            " 38  neighbourhood                                 object \n",
            " 39  neighbourhood_cleansed                        object \n",
            " 40  neighbourhood_group_cleansed                  float64\n",
            " 41  city                                          object \n",
            " 42  state                                         object \n",
            " 43  zipcode                                       object \n",
            " 44  market                                        object \n",
            " 45  smart_location                                object \n",
            " 46  country_code                                  object \n",
            " 47  country                                       object \n",
            " 48  latitude                                      float64\n",
            " 49  longitude                                     float64\n",
            " 50  is_location_exact                             object \n",
            " 51  property_type                                 object \n",
            " 52  room_type                                     object \n",
            " 53  accommodates                                  int64  \n",
            " 54  bathrooms                                     float64\n",
            " 55  bedrooms                                      float64\n",
            " 56  beds                                          float64\n",
            " 57  bed_type                                      object \n",
            " 58  amenities                                     object \n",
            " 59  square_feet                                   float64\n",
            " 60  price                                         float64\n",
            " 61  weekly_price                                  object \n",
            " 62  monthly_price                                 object \n",
            " 63  security_deposit                              object \n",
            " 64  cleaning_fee                                  float64\n",
            " 65  guests_included                               int64  \n",
            " 66  extra_people                                  object \n",
            " 67  minimum_nights                                int64  \n",
            " 68  maximum_nights                                int64  \n",
            " 69  minimum_minimum_nights                        int64  \n",
            " 70  maximum_minimum_nights                        int64  \n",
            " 71  minimum_maximum_nights                        int64  \n",
            " 72  maximum_maximum_nights                        int64  \n",
            " 73  minimum_nights_avg_ntm                        float64\n",
            " 74  maximum_nights_avg_ntm                        float64\n",
            " 75  calendar_updated                              object \n",
            " 76  has_availability                              object \n",
            " 77  availability_30                               int64  \n",
            " 78  availability_60                               int64  \n",
            " 79  availability_90                               int64  \n",
            " 80  availability_365                              int64  \n",
            " 81  calendar_last_scraped                         object \n",
            " 82  number_of_reviews                             int64  \n",
            " 83  number_of_reviews_ltm                         int64  \n",
            " 84  first_review                                  object \n",
            " 85  last_review                                   object \n",
            " 86  review_scores_rating                          float64\n",
            " 87  review_scores_accuracy                        float64\n",
            " 88  review_scores_cleanliness                     float64\n",
            " 89  review_scores_checkin                         float64\n",
            " 90  review_scores_communication                   float64\n",
            " 91  review_scores_location                        float64\n",
            " 92  review_scores_value                           float64\n",
            " 93  requires_license                              object \n",
            " 94  license                                       object \n",
            " 95  jurisdiction_names                            float64\n",
            " 96  instant_bookable                              object \n",
            " 97  is_business_travel_ready                      object \n",
            " 98  cancellation_policy                           object \n",
            " 99  require_guest_profile_picture                 object \n",
            " 100 require_guest_phone_verification              object \n",
            " 101 calculated_host_listings_count                int64  \n",
            " 102 calculated_host_listings_count_entire_homes   int64  \n",
            " 103 calculated_host_listings_count_private_rooms  int64  \n",
            " 104 calculated_host_listings_count_shared_rooms   int64  \n",
            " 105 reviews_per_month                             float64\n",
            " 106 price_total                                   float64\n",
            "dtypes: float64(26), int64(21), object(60)\n",
            "memory usage: 5.4+ MB\n"
          ],
          "name": "stdout"
        }
      ]
    },
    {
      "cell_type": "code",
      "metadata": {
        "id": "lnHWxJM9Gllm",
        "outputId": "73e34265-e997-4bfa-cf2e-f4b6c0d9cc1a",
        "colab": {
          "base_uri": "https://localhost:8080/",
          "height": 370
        }
      },
      "source": [
        "listings_clean['property_type'].value_counts()"
      ],
      "execution_count": null,
      "outputs": [
        {
          "output_type": "execute_result",
          "data": {
            "text/plain": [
              "Apartment             5554\n",
              "Condominium            563\n",
              "House                  185\n",
              "Townhouse              100\n",
              "Loft                    82\n",
              "Villa                   21\n",
              "Guest suite             14\n",
              "Guesthouse              13\n",
              "Hostel                   9\n",
              "Bungalow                 8\n",
              "Houseboat                7\n",
              "Boat                     6\n",
              "Bed and breakfast        4\n",
              "Serviced apartment       4\n",
              "Tiny house               3\n",
              "Cottage                  1\n",
              "Boutique hotel           1\n",
              "Cabin                    1\n",
              "Hotel                    1\n",
              "Hut                      1\n",
              "Name: property_type, dtype: int64"
            ]
          },
          "metadata": {
            "tags": []
          },
          "execution_count": 174
        }
      ]
    },
    {
      "cell_type": "code",
      "metadata": {
        "id": "uLpaalqwGrhl",
        "outputId": "b817d59b-82ab-45cb-dd7f-4bea285717b6",
        "colab": {
          "base_uri": "https://localhost:8080/",
          "height": 118
        }
      },
      "source": [
        "listings_clean['bed_type'].value_counts()"
      ],
      "execution_count": null,
      "outputs": [
        {
          "output_type": "execute_result",
          "data": {
            "text/plain": [
              "Real Bed         6428\n",
              "Pull-out Sofa      88\n",
              "Futon              40\n",
              "Couch              12\n",
              "Airbed             10\n",
              "Name: bed_type, dtype: int64"
            ]
          },
          "metadata": {
            "tags": []
          },
          "execution_count": 175
        }
      ]
    },
    {
      "cell_type": "code",
      "metadata": {
        "id": "e0gtHrcmGzqa"
      },
      "source": [
        "listings_clean = listings_clean[listings_clean.property_type.isin(['Apartment','Condominium','House'])]\n",
        "listings_clean = listings_clean[listings_clean.bed_type.isin(['Real Bed','Pull-out Sofa'])]"
      ],
      "execution_count": null,
      "outputs": []
    },
    {
      "cell_type": "code",
      "metadata": {
        "id": "8E8hoCq6XdDP"
      },
      "source": [
        "y = listings_clean.price_total"
      ],
      "execution_count": null,
      "outputs": []
    },
    {
      "cell_type": "code",
      "metadata": {
        "id": "6mSm9ujpYn2v"
      },
      "source": [
        "X = listings_clean.iloc[:,[39,51,52,53,54,55,56,57]]"
      ],
      "execution_count": null,
      "outputs": []
    },
    {
      "cell_type": "code",
      "metadata": {
        "id": "Vx9juGEPGCOi",
        "outputId": "fd038294-f887-4aee-f2da-4920cdc2974a",
        "colab": {
          "base_uri": "https://localhost:8080/",
          "height": 536
        }
      },
      "source": [
        "X"
      ],
      "execution_count": null,
      "outputs": [
        {
          "output_type": "execute_result",
          "data": {
            "text/html": [
              "<div>\n",
              "<style scoped>\n",
              "    .dataframe tbody tr th:only-of-type {\n",
              "        vertical-align: middle;\n",
              "    }\n",
              "\n",
              "    .dataframe tbody tr th {\n",
              "        vertical-align: top;\n",
              "    }\n",
              "\n",
              "    .dataframe thead th {\n",
              "        text-align: right;\n",
              "    }\n",
              "</style>\n",
              "<table border=\"1\" class=\"dataframe\">\n",
              "  <thead>\n",
              "    <tr style=\"text-align: right;\">\n",
              "      <th></th>\n",
              "      <th>neighbourhood_cleansed</th>\n",
              "      <th>property_type</th>\n",
              "      <th>room_type</th>\n",
              "      <th>accommodates</th>\n",
              "      <th>bathrooms</th>\n",
              "      <th>bedrooms</th>\n",
              "      <th>beds</th>\n",
              "      <th>bed_type</th>\n",
              "    </tr>\n",
              "  </thead>\n",
              "  <tbody>\n",
              "    <tr>\n",
              "      <th>0</th>\n",
              "      <td>Nrrebro</td>\n",
              "      <td>Apartment</td>\n",
              "      <td>Private room</td>\n",
              "      <td>2</td>\n",
              "      <td>1.0</td>\n",
              "      <td>1.0</td>\n",
              "      <td>1.0</td>\n",
              "      <td>Real Bed</td>\n",
              "    </tr>\n",
              "    <tr>\n",
              "      <th>3</th>\n",
              "      <td>Vesterbro-Kongens Enghave</td>\n",
              "      <td>Apartment</td>\n",
              "      <td>Entire home/apt</td>\n",
              "      <td>2</td>\n",
              "      <td>1.0</td>\n",
              "      <td>1.0</td>\n",
              "      <td>1.0</td>\n",
              "      <td>Real Bed</td>\n",
              "    </tr>\n",
              "    <tr>\n",
              "      <th>4</th>\n",
              "      <td>sterbro</td>\n",
              "      <td>Apartment</td>\n",
              "      <td>Entire home/apt</td>\n",
              "      <td>4</td>\n",
              "      <td>1.0</td>\n",
              "      <td>3.0</td>\n",
              "      <td>3.0</td>\n",
              "      <td>Real Bed</td>\n",
              "    </tr>\n",
              "    <tr>\n",
              "      <th>6</th>\n",
              "      <td>Vesterbro-Kongens Enghave</td>\n",
              "      <td>Apartment</td>\n",
              "      <td>Entire home/apt</td>\n",
              "      <td>3</td>\n",
              "      <td>2.0</td>\n",
              "      <td>1.0</td>\n",
              "      <td>2.0</td>\n",
              "      <td>Real Bed</td>\n",
              "    </tr>\n",
              "    <tr>\n",
              "      <th>8</th>\n",
              "      <td>Vesterbro-Kongens Enghave</td>\n",
              "      <td>Apartment</td>\n",
              "      <td>Entire home/apt</td>\n",
              "      <td>5</td>\n",
              "      <td>2.0</td>\n",
              "      <td>2.0</td>\n",
              "      <td>1.0</td>\n",
              "      <td>Real Bed</td>\n",
              "    </tr>\n",
              "    <tr>\n",
              "      <th>...</th>\n",
              "      <td>...</td>\n",
              "      <td>...</td>\n",
              "      <td>...</td>\n",
              "      <td>...</td>\n",
              "      <td>...</td>\n",
              "      <td>...</td>\n",
              "      <td>...</td>\n",
              "      <td>...</td>\n",
              "    </tr>\n",
              "    <tr>\n",
              "      <th>26850</th>\n",
              "      <td>Amager Vest</td>\n",
              "      <td>Apartment</td>\n",
              "      <td>Private room</td>\n",
              "      <td>4</td>\n",
              "      <td>0.5</td>\n",
              "      <td>1.0</td>\n",
              "      <td>4.0</td>\n",
              "      <td>Real Bed</td>\n",
              "    </tr>\n",
              "    <tr>\n",
              "      <th>26870</th>\n",
              "      <td>sterbro</td>\n",
              "      <td>Apartment</td>\n",
              "      <td>Entire home/apt</td>\n",
              "      <td>5</td>\n",
              "      <td>1.5</td>\n",
              "      <td>4.0</td>\n",
              "      <td>4.0</td>\n",
              "      <td>Real Bed</td>\n",
              "    </tr>\n",
              "    <tr>\n",
              "      <th>26962</th>\n",
              "      <td>sterbro</td>\n",
              "      <td>Apartment</td>\n",
              "      <td>Entire home/apt</td>\n",
              "      <td>4</td>\n",
              "      <td>1.0</td>\n",
              "      <td>2.0</td>\n",
              "      <td>3.0</td>\n",
              "      <td>Real Bed</td>\n",
              "    </tr>\n",
              "    <tr>\n",
              "      <th>27181</th>\n",
              "      <td>Amager st</td>\n",
              "      <td>Apartment</td>\n",
              "      <td>Entire home/apt</td>\n",
              "      <td>2</td>\n",
              "      <td>1.0</td>\n",
              "      <td>1.0</td>\n",
              "      <td>1.0</td>\n",
              "      <td>Real Bed</td>\n",
              "    </tr>\n",
              "    <tr>\n",
              "      <th>27349</th>\n",
              "      <td>Amager st</td>\n",
              "      <td>Apartment</td>\n",
              "      <td>Entire home/apt</td>\n",
              "      <td>5</td>\n",
              "      <td>1.0</td>\n",
              "      <td>2.0</td>\n",
              "      <td>3.0</td>\n",
              "      <td>Real Bed</td>\n",
              "    </tr>\n",
              "  </tbody>\n",
              "</table>\n",
              "<p>6243 rows × 8 columns</p>\n",
              "</div>"
            ],
            "text/plain": [
              "          neighbourhood_cleansed property_type  ... beds  bed_type\n",
              "0                        Nrrebro     Apartment  ...  1.0  Real Bed\n",
              "3      Vesterbro-Kongens Enghave     Apartment  ...  1.0  Real Bed\n",
              "4                        sterbro     Apartment  ...  3.0  Real Bed\n",
              "6      Vesterbro-Kongens Enghave     Apartment  ...  2.0  Real Bed\n",
              "8      Vesterbro-Kongens Enghave     Apartment  ...  1.0  Real Bed\n",
              "...                          ...           ...  ...  ...       ...\n",
              "26850                Amager Vest     Apartment  ...  4.0  Real Bed\n",
              "26870                    sterbro     Apartment  ...  4.0  Real Bed\n",
              "26962                    sterbro     Apartment  ...  3.0  Real Bed\n",
              "27181                  Amager st     Apartment  ...  1.0  Real Bed\n",
              "27349                  Amager st     Apartment  ...  3.0  Real Bed\n",
              "\n",
              "[6243 rows x 8 columns]"
            ]
          },
          "metadata": {
            "tags": []
          },
          "execution_count": 202
        }
      ]
    },
    {
      "cell_type": "code",
      "metadata": {
        "id": "-STQ-NAFY2A2"
      },
      "source": [
        "X = pd.get_dummies(X)"
      ],
      "execution_count": null,
      "outputs": []
    },
    {
      "cell_type": "code",
      "metadata": {
        "id": "w79cnmz0lbjl"
      },
      "source": [
        "from sklearn.preprocessing import StandardScaler\n",
        "scaler = StandardScaler()"
      ],
      "execution_count": null,
      "outputs": []
    },
    {
      "cell_type": "code",
      "metadata": {
        "id": "rocz4TKnY2vv",
        "outputId": "27f62e38-f131-4405-b77b-86e754463b49",
        "colab": {
          "base_uri": "https://localhost:8080/",
          "height": 521
        }
      },
      "source": [
        "X.info()"
      ],
      "execution_count": null,
      "outputs": [
        {
          "output_type": "stream",
          "text": [
            "<class 'pandas.core.frame.DataFrame'>\n",
            "Int64Index: 6243 entries, 0 to 27349\n",
            "Data columns (total 23 columns):\n",
            " #   Column                                            Non-Null Count  Dtype  \n",
            "---  ------                                            --------------  -----  \n",
            " 0   accommodates                                      6243 non-null   int64  \n",
            " 1   bathrooms                                         6243 non-null   float64\n",
            " 2   bedrooms                                          6241 non-null   float64\n",
            " 3   beds                                              6242 non-null   float64\n",
            " 4   neighbourhood_cleansed_Amager Vest                6243 non-null   uint8  \n",
            " 5   neighbourhood_cleansed_Amager st                  6243 non-null   uint8  \n",
            " 6   neighbourhood_cleansed_Bispebjerg                 6243 non-null   uint8  \n",
            " 7   neighbourhood_cleansed_Brnshj-Husum               6243 non-null   uint8  \n",
            " 8   neighbourhood_cleansed_Frederiksberg              6243 non-null   uint8  \n",
            " 9   neighbourhood_cleansed_Indre By                   6243 non-null   uint8  \n",
            " 10  neighbourhood_cleansed_Nrrebro                    6243 non-null   uint8  \n",
            " 11  neighbourhood_cleansed_Valby                      6243 non-null   uint8  \n",
            " 12  neighbourhood_cleansed_Vanlse                     6243 non-null   uint8  \n",
            " 13  neighbourhood_cleansed_Vesterbro-Kongens Enghave  6243 non-null   uint8  \n",
            " 14  neighbourhood_cleansed_sterbro                    6243 non-null   uint8  \n",
            " 15  property_type_Apartment                           6243 non-null   uint8  \n",
            " 16  property_type_Condominium                         6243 non-null   uint8  \n",
            " 17  property_type_House                               6243 non-null   uint8  \n",
            " 18  room_type_Entire home/apt                         6243 non-null   uint8  \n",
            " 19  room_type_Private room                            6243 non-null   uint8  \n",
            " 20  room_type_Shared room                             6243 non-null   uint8  \n",
            " 21  bed_type_Pull-out Sofa                            6243 non-null   uint8  \n",
            " 22  bed_type_Real Bed                                 6243 non-null   uint8  \n",
            "dtypes: float64(3), int64(1), uint8(19)\n",
            "memory usage: 359.7 KB\n"
          ],
          "name": "stdout"
        }
      ]
    },
    {
      "cell_type": "code",
      "metadata": {
        "id": "g_i9aZ0slX3B"
      },
      "source": [
        "X.iloc[:,:4] = scaler.fit_transform(X.iloc[:,:4])"
      ],
      "execution_count": null,
      "outputs": []
    },
    {
      "cell_type": "code",
      "metadata": {
        "id": "JiEu_fY-sbyl"
      },
      "source": [
        "from fancyimpute import SoftImpute"
      ],
      "execution_count": null,
      "outputs": []
    },
    {
      "cell_type": "code",
      "metadata": {
        "id": "CzhkEb3jsfKI",
        "outputId": "66657523-66a9-4074-be2e-58e14d3f008e",
        "colab": {
          "base_uri": "https://localhost:8080/",
          "height": 1000
        }
      },
      "source": [
        "X.iloc[:,:4] = SoftImpute().fit_transform(X.iloc[:,:4])"
      ],
      "execution_count": null,
      "outputs": [
        {
          "output_type": "stream",
          "text": [
            "[SoftImpute] Max Singular Value of X_init = 124.757562\n",
            "[SoftImpute] Iter 1: observed MAE=0.020944 rank=4\n",
            "[SoftImpute] Iter 2: observed MAE=0.020944 rank=4\n",
            "[SoftImpute] Iter 3: observed MAE=0.020944 rank=4\n",
            "[SoftImpute] Iter 4: observed MAE=0.020944 rank=4\n",
            "[SoftImpute] Iter 5: observed MAE=0.020944 rank=4\n",
            "[SoftImpute] Iter 6: observed MAE=0.020944 rank=4\n",
            "[SoftImpute] Iter 7: observed MAE=0.020944 rank=4\n",
            "[SoftImpute] Iter 8: observed MAE=0.020944 rank=4\n",
            "[SoftImpute] Iter 9: observed MAE=0.020944 rank=4\n",
            "[SoftImpute] Iter 10: observed MAE=0.020944 rank=4\n",
            "[SoftImpute] Iter 11: observed MAE=0.020944 rank=4\n",
            "[SoftImpute] Iter 12: observed MAE=0.020944 rank=4\n",
            "[SoftImpute] Iter 13: observed MAE=0.020944 rank=4\n",
            "[SoftImpute] Iter 14: observed MAE=0.020944 rank=4\n",
            "[SoftImpute] Iter 15: observed MAE=0.020944 rank=4\n",
            "[SoftImpute] Iter 16: observed MAE=0.020944 rank=4\n",
            "[SoftImpute] Iter 17: observed MAE=0.020944 rank=4\n",
            "[SoftImpute] Iter 18: observed MAE=0.020944 rank=4\n",
            "[SoftImpute] Iter 19: observed MAE=0.020944 rank=4\n",
            "[SoftImpute] Iter 20: observed MAE=0.020944 rank=4\n",
            "[SoftImpute] Iter 21: observed MAE=0.020944 rank=4\n",
            "[SoftImpute] Iter 22: observed MAE=0.020944 rank=4\n",
            "[SoftImpute] Iter 23: observed MAE=0.020944 rank=4\n",
            "[SoftImpute] Iter 24: observed MAE=0.020944 rank=4\n",
            "[SoftImpute] Iter 25: observed MAE=0.020944 rank=4\n",
            "[SoftImpute] Iter 26: observed MAE=0.020944 rank=4\n",
            "[SoftImpute] Iter 27: observed MAE=0.020944 rank=4\n",
            "[SoftImpute] Iter 28: observed MAE=0.020944 rank=4\n",
            "[SoftImpute] Iter 29: observed MAE=0.020944 rank=4\n",
            "[SoftImpute] Iter 30: observed MAE=0.020944 rank=4\n",
            "[SoftImpute] Iter 31: observed MAE=0.020944 rank=4\n",
            "[SoftImpute] Iter 32: observed MAE=0.020944 rank=4\n",
            "[SoftImpute] Iter 33: observed MAE=0.020944 rank=4\n",
            "[SoftImpute] Iter 34: observed MAE=0.020944 rank=4\n",
            "[SoftImpute] Iter 35: observed MAE=0.020944 rank=4\n",
            "[SoftImpute] Iter 36: observed MAE=0.020944 rank=4\n",
            "[SoftImpute] Iter 37: observed MAE=0.020944 rank=4\n",
            "[SoftImpute] Iter 38: observed MAE=0.020944 rank=4\n",
            "[SoftImpute] Iter 39: observed MAE=0.020944 rank=4\n",
            "[SoftImpute] Iter 40: observed MAE=0.020944 rank=4\n",
            "[SoftImpute] Iter 41: observed MAE=0.020944 rank=4\n",
            "[SoftImpute] Iter 42: observed MAE=0.020944 rank=4\n",
            "[SoftImpute] Iter 43: observed MAE=0.020944 rank=4\n",
            "[SoftImpute] Iter 44: observed MAE=0.020944 rank=4\n",
            "[SoftImpute] Iter 45: observed MAE=0.020944 rank=4\n",
            "[SoftImpute] Iter 46: observed MAE=0.020944 rank=4\n",
            "[SoftImpute] Iter 47: observed MAE=0.020944 rank=4\n",
            "[SoftImpute] Iter 48: observed MAE=0.020944 rank=4\n",
            "[SoftImpute] Iter 49: observed MAE=0.020944 rank=4\n",
            "[SoftImpute] Iter 50: observed MAE=0.020944 rank=4\n",
            "[SoftImpute] Iter 51: observed MAE=0.020944 rank=4\n",
            "[SoftImpute] Iter 52: observed MAE=0.020944 rank=4\n",
            "[SoftImpute] Iter 53: observed MAE=0.020944 rank=4\n",
            "[SoftImpute] Iter 54: observed MAE=0.020944 rank=4\n",
            "[SoftImpute] Iter 55: observed MAE=0.020944 rank=4\n",
            "[SoftImpute] Iter 56: observed MAE=0.020944 rank=4\n",
            "[SoftImpute] Iter 57: observed MAE=0.020944 rank=4\n",
            "[SoftImpute] Iter 58: observed MAE=0.020944 rank=4\n",
            "[SoftImpute] Iter 59: observed MAE=0.020944 rank=4\n",
            "[SoftImpute] Iter 60: observed MAE=0.020944 rank=4\n",
            "[SoftImpute] Iter 61: observed MAE=0.020944 rank=4\n",
            "[SoftImpute] Iter 62: observed MAE=0.020944 rank=4\n",
            "[SoftImpute] Iter 63: observed MAE=0.020944 rank=4\n",
            "[SoftImpute] Iter 64: observed MAE=0.020944 rank=4\n",
            "[SoftImpute] Iter 65: observed MAE=0.020944 rank=4\n",
            "[SoftImpute] Iter 66: observed MAE=0.020944 rank=4\n",
            "[SoftImpute] Iter 67: observed MAE=0.020944 rank=4\n",
            "[SoftImpute] Iter 68: observed MAE=0.020944 rank=4\n",
            "[SoftImpute] Iter 69: observed MAE=0.020944 rank=4\n",
            "[SoftImpute] Iter 70: observed MAE=0.020944 rank=4\n",
            "[SoftImpute] Iter 71: observed MAE=0.020944 rank=4\n",
            "[SoftImpute] Iter 72: observed MAE=0.020944 rank=4\n",
            "[SoftImpute] Iter 73: observed MAE=0.020944 rank=4\n",
            "[SoftImpute] Iter 74: observed MAE=0.020944 rank=4\n",
            "[SoftImpute] Iter 75: observed MAE=0.020944 rank=4\n",
            "[SoftImpute] Iter 76: observed MAE=0.020944 rank=4\n",
            "[SoftImpute] Iter 77: observed MAE=0.020944 rank=4\n",
            "[SoftImpute] Iter 78: observed MAE=0.020944 rank=4\n",
            "[SoftImpute] Iter 79: observed MAE=0.020944 rank=4\n",
            "[SoftImpute] Iter 80: observed MAE=0.020944 rank=4\n",
            "[SoftImpute] Iter 81: observed MAE=0.020944 rank=4\n",
            "[SoftImpute] Iter 82: observed MAE=0.020944 rank=4\n",
            "[SoftImpute] Iter 83: observed MAE=0.020944 rank=4\n",
            "[SoftImpute] Iter 84: observed MAE=0.020944 rank=4\n",
            "[SoftImpute] Iter 85: observed MAE=0.020944 rank=4\n",
            "[SoftImpute] Iter 86: observed MAE=0.020944 rank=4\n",
            "[SoftImpute] Stopped after iteration 86 for lambda=2.495151\n"
          ],
          "name": "stdout"
        }
      ]
    },
    {
      "cell_type": "code",
      "metadata": {
        "id": "fIfBhzg4r8ya"
      },
      "source": [
        "from sklearn.model_selection import train_test_split\n",
        "X_train, X_test, y_train, y_test = train_test_split(X, y, test_size = 0.2, random_state = 21)"
      ],
      "execution_count": null,
      "outputs": []
    },
    {
      "cell_type": "code",
      "metadata": {
        "id": "rtfhwMtFtGBQ"
      },
      "source": [
        "from sklearn.linear_model import LinearRegression"
      ],
      "execution_count": null,
      "outputs": []
    },
    {
      "cell_type": "code",
      "metadata": {
        "id": "eu7Ute-ntTNl"
      },
      "source": [
        "model_ols = LinearRegression()"
      ],
      "execution_count": null,
      "outputs": []
    },
    {
      "cell_type": "code",
      "metadata": {
        "id": "y5gyMUEEtM0j",
        "outputId": "ef1426ad-c279-4a71-8155-cdd28d02553b",
        "colab": {
          "base_uri": "https://localhost:8080/",
          "height": 34
        }
      },
      "source": [
        "model_ols.fit(X_train, y_train)"
      ],
      "execution_count": null,
      "outputs": [
        {
          "output_type": "execute_result",
          "data": {
            "text/plain": [
              "LinearRegression(copy_X=True, fit_intercept=True, n_jobs=None, normalize=False)"
            ]
          },
          "metadata": {
            "tags": []
          },
          "execution_count": 189
        }
      ]
    },
    {
      "cell_type": "code",
      "metadata": {
        "id": "AL1n8jV6tP4L",
        "outputId": "e48306d7-08d8-4f7a-a2fc-175f4a413ab4",
        "colab": {
          "base_uri": "https://localhost:8080/",
          "height": 34
        }
      },
      "source": [
        "model_ols.score(X_test, y_test)"
      ],
      "execution_count": null,
      "outputs": [
        {
          "output_type": "execute_result",
          "data": {
            "text/plain": [
              "0.5439291006415563"
            ]
          },
          "metadata": {
            "tags": []
          },
          "execution_count": 190
        }
      ]
    },
    {
      "cell_type": "code",
      "metadata": {
        "id": "NU1rvLTJtaXB"
      },
      "source": [
        "from xgboost import XGBRegressor"
      ],
      "execution_count": null,
      "outputs": []
    },
    {
      "cell_type": "code",
      "metadata": {
        "id": "nkZto8yiuB6H"
      },
      "source": [
        "model_xgb = XGBRegressor()"
      ],
      "execution_count": null,
      "outputs": []
    },
    {
      "cell_type": "code",
      "metadata": {
        "id": "uQeShV42uFGO",
        "outputId": "709a74e9-bd58-4260-9d0c-8b6f4051d2c1",
        "colab": {
          "base_uri": "https://localhost:8080/",
          "height": 171
        }
      },
      "source": [
        "model_xgb.fit(X_train, y_train)"
      ],
      "execution_count": null,
      "outputs": [
        {
          "output_type": "stream",
          "text": [
            "[18:02:46] WARNING: /workspace/src/objective/regression_obj.cu:152: reg:linear is now deprecated in favor of reg:squarederror.\n"
          ],
          "name": "stdout"
        },
        {
          "output_type": "execute_result",
          "data": {
            "text/plain": [
              "XGBRegressor(base_score=0.5, booster='gbtree', colsample_bylevel=1,\n",
              "             colsample_bynode=1, colsample_bytree=1, gamma=0,\n",
              "             importance_type='gain', learning_rate=0.1, max_delta_step=0,\n",
              "             max_depth=3, min_child_weight=1, missing=None, n_estimators=100,\n",
              "             n_jobs=1, nthread=None, objective='reg:linear', random_state=0,\n",
              "             reg_alpha=0, reg_lambda=1, scale_pos_weight=1, seed=None,\n",
              "             silent=None, subsample=1, verbosity=1)"
            ]
          },
          "metadata": {
            "tags": []
          },
          "execution_count": 193
        }
      ]
    },
    {
      "cell_type": "code",
      "metadata": {
        "id": "fmGMxIpwuIEL",
        "outputId": "93ddbb42-5652-4e7c-fae4-62dd830e6dd6",
        "colab": {
          "base_uri": "https://localhost:8080/",
          "height": 34
        }
      },
      "source": [
        "model_xgb.score(X_test, y_test)"
      ],
      "execution_count": null,
      "outputs": [
        {
          "output_type": "execute_result",
          "data": {
            "text/plain": [
              "0.5518604964744585"
            ]
          },
          "metadata": {
            "tags": []
          },
          "execution_count": 194
        }
      ]
    },
    {
      "cell_type": "code",
      "metadata": {
        "id": "CKcD738wJQ4_"
      },
      "source": [
        "import numpy as np"
      ],
      "execution_count": null,
      "outputs": []
    },
    {
      "cell_type": "code",
      "metadata": {
        "id": "xvQc6AJvJFBW",
        "outputId": "70205161-bd2f-4e7d-85d1-e2789dd97947",
        "colab": {
          "base_uri": "https://localhost:8080/",
          "height": 34
        }
      },
      "source": [
        "np.sqrt(mean_squared_error(y_test, model_xgb.predict(X_test)))"
      ],
      "execution_count": null,
      "outputs": [
        {
          "output_type": "execute_result",
          "data": {
            "text/plain": [
              "231.47256340394404"
            ]
          },
          "metadata": {
            "tags": []
          },
          "execution_count": 198
        }
      ]
    },
    {
      "cell_type": "code",
      "metadata": {
        "id": "cZzIojv0-0kD"
      },
      "source": [
        "from sklearn.model_selection import GridSearchCV\n",
        "from sklearn.metrics import make_scorer \n",
        "from sklearn.metrics import mean_squared_error \n",
        "from sklearn.metrics import r2_score"
      ],
      "execution_count": null,
      "outputs": []
    },
    {
      "cell_type": "code",
      "metadata": {
        "id": "qXOvf1Rs-1gN"
      },
      "source": [
        "scorer = make_scorer(r2_score)"
      ],
      "execution_count": null,
      "outputs": []
    },
    {
      "cell_type": "code",
      "metadata": {
        "id": "zGezMBvB-59X"
      },
      "source": [
        "parameters_xgb = { 'max_depth': [3, 5, 7],\n",
        " 'n_estimators': [25, 50, 100]}"
      ],
      "execution_count": null,
      "outputs": []
    },
    {
      "cell_type": "code",
      "metadata": {
        "id": "nhIyt9eT_Lc6"
      },
      "source": [
        "# erform grid search on the classifier using 'scorer' as the scoring method.\n",
        "grid_obj = GridSearchCV(model_xgb, parameters_xgb, scoring=scorer)"
      ],
      "execution_count": null,
      "outputs": []
    },
    {
      "cell_type": "code",
      "metadata": {
        "id": "kMkCjgXv_SoS",
        "outputId": "e223d601-541e-4cfd-9208-2a1684aab19b",
        "colab": {
          "base_uri": "https://localhost:8080/",
          "height": 810
        }
      },
      "source": [
        "grid_fit = grid_obj.fit(X_train, y_train)"
      ],
      "execution_count": null,
      "outputs": [
        {
          "output_type": "stream",
          "text": [
            "[17:24:30] WARNING: /workspace/src/objective/regression_obj.cu:152: reg:linear is now deprecated in favor of reg:squarederror.\n",
            "[17:24:30] WARNING: /workspace/src/objective/regression_obj.cu:152: reg:linear is now deprecated in favor of reg:squarederror.\n",
            "[17:24:31] WARNING: /workspace/src/objective/regression_obj.cu:152: reg:linear is now deprecated in favor of reg:squarederror.\n",
            "[17:24:32] WARNING: /workspace/src/objective/regression_obj.cu:152: reg:linear is now deprecated in favor of reg:squarederror.\n",
            "[17:24:32] WARNING: /workspace/src/objective/regression_obj.cu:152: reg:linear is now deprecated in favor of reg:squarederror.\n",
            "[17:24:33] WARNING: /workspace/src/objective/regression_obj.cu:152: reg:linear is now deprecated in favor of reg:squarederror.\n",
            "[17:24:34] WARNING: /workspace/src/objective/regression_obj.cu:152: reg:linear is now deprecated in favor of reg:squarederror.\n",
            "[17:24:35] WARNING: /workspace/src/objective/regression_obj.cu:152: reg:linear is now deprecated in favor of reg:squarederror.\n",
            "[17:24:36] WARNING: /workspace/src/objective/regression_obj.cu:152: reg:linear is now deprecated in favor of reg:squarederror.\n",
            "[17:24:37] WARNING: /workspace/src/objective/regression_obj.cu:152: reg:linear is now deprecated in favor of reg:squarederror.\n",
            "[17:24:38] WARNING: /workspace/src/objective/regression_obj.cu:152: reg:linear is now deprecated in favor of reg:squarederror.\n",
            "[17:24:41] WARNING: /workspace/src/objective/regression_obj.cu:152: reg:linear is now deprecated in favor of reg:squarederror.\n",
            "[17:24:43] WARNING: /workspace/src/objective/regression_obj.cu:152: reg:linear is now deprecated in favor of reg:squarederror.\n",
            "[17:24:45] WARNING: /workspace/src/objective/regression_obj.cu:152: reg:linear is now deprecated in favor of reg:squarederror.\n",
            "[17:24:47] WARNING: /workspace/src/objective/regression_obj.cu:152: reg:linear is now deprecated in favor of reg:squarederror.\n",
            "[17:24:49] WARNING: /workspace/src/objective/regression_obj.cu:152: reg:linear is now deprecated in favor of reg:squarederror.\n",
            "[17:24:50] WARNING: /workspace/src/objective/regression_obj.cu:152: reg:linear is now deprecated in favor of reg:squarederror.\n",
            "[17:24:51] WARNING: /workspace/src/objective/regression_obj.cu:152: reg:linear is now deprecated in favor of reg:squarederror.\n",
            "[17:24:52] WARNING: /workspace/src/objective/regression_obj.cu:152: reg:linear is now deprecated in favor of reg:squarederror.\n",
            "[17:24:53] WARNING: /workspace/src/objective/regression_obj.cu:152: reg:linear is now deprecated in favor of reg:squarederror.\n",
            "[17:24:54] WARNING: /workspace/src/objective/regression_obj.cu:152: reg:linear is now deprecated in favor of reg:squarederror.\n",
            "[17:24:55] WARNING: /workspace/src/objective/regression_obj.cu:152: reg:linear is now deprecated in favor of reg:squarederror.\n",
            "[17:24:57] WARNING: /workspace/src/objective/regression_obj.cu:152: reg:linear is now deprecated in favor of reg:squarederror.\n",
            "[17:24:59] WARNING: /workspace/src/objective/regression_obj.cu:152: reg:linear is now deprecated in favor of reg:squarederror.\n",
            "[17:25:01] WARNING: /workspace/src/objective/regression_obj.cu:152: reg:linear is now deprecated in favor of reg:squarederror.\n",
            "[17:25:02] WARNING: /workspace/src/objective/regression_obj.cu:152: reg:linear is now deprecated in favor of reg:squarederror.\n",
            "[17:25:06] WARNING: /workspace/src/objective/regression_obj.cu:152: reg:linear is now deprecated in favor of reg:squarederror.\n",
            "[17:25:09] WARNING: /workspace/src/objective/regression_obj.cu:152: reg:linear is now deprecated in favor of reg:squarederror.\n",
            "[17:25:12] WARNING: /workspace/src/objective/regression_obj.cu:152: reg:linear is now deprecated in favor of reg:squarederror.\n",
            "[17:25:15] WARNING: /workspace/src/objective/regression_obj.cu:152: reg:linear is now deprecated in favor of reg:squarederror.\n",
            "[17:25:19] WARNING: /workspace/src/objective/regression_obj.cu:152: reg:linear is now deprecated in favor of reg:squarederror.\n",
            "[17:25:20] WARNING: /workspace/src/objective/regression_obj.cu:152: reg:linear is now deprecated in favor of reg:squarederror.\n",
            "[17:25:21] WARNING: /workspace/src/objective/regression_obj.cu:152: reg:linear is now deprecated in favor of reg:squarederror.\n",
            "[17:25:22] WARNING: /workspace/src/objective/regression_obj.cu:152: reg:linear is now deprecated in favor of reg:squarederror.\n",
            "[17:25:24] WARNING: /workspace/src/objective/regression_obj.cu:152: reg:linear is now deprecated in favor of reg:squarederror.\n",
            "[17:25:25] WARNING: /workspace/src/objective/regression_obj.cu:152: reg:linear is now deprecated in favor of reg:squarederror.\n",
            "[17:25:27] WARNING: /workspace/src/objective/regression_obj.cu:152: reg:linear is now deprecated in favor of reg:squarederror.\n",
            "[17:25:30] WARNING: /workspace/src/objective/regression_obj.cu:152: reg:linear is now deprecated in favor of reg:squarederror.\n",
            "[17:25:32] WARNING: /workspace/src/objective/regression_obj.cu:152: reg:linear is now deprecated in favor of reg:squarederror.\n",
            "[17:25:35] WARNING: /workspace/src/objective/regression_obj.cu:152: reg:linear is now deprecated in favor of reg:squarederror.\n",
            "[17:25:37] WARNING: /workspace/src/objective/regression_obj.cu:152: reg:linear is now deprecated in favor of reg:squarederror.\n",
            "[17:25:42] WARNING: /workspace/src/objective/regression_obj.cu:152: reg:linear is now deprecated in favor of reg:squarederror.\n",
            "[17:25:46] WARNING: /workspace/src/objective/regression_obj.cu:152: reg:linear is now deprecated in favor of reg:squarederror.\n",
            "[17:25:51] WARNING: /workspace/src/objective/regression_obj.cu:152: reg:linear is now deprecated in favor of reg:squarederror.\n",
            "[17:25:55] WARNING: /workspace/src/objective/regression_obj.cu:152: reg:linear is now deprecated in favor of reg:squarederror.\n",
            "[17:26:00] WARNING: /workspace/src/objective/regression_obj.cu:152: reg:linear is now deprecated in favor of reg:squarederror.\n"
          ],
          "name": "stdout"
        }
      ]
    },
    {
      "cell_type": "code",
      "metadata": {
        "id": "ESj9a6iV_rhE",
        "outputId": "99b326af-c48d-43ba-f77a-cbc47afdf204",
        "colab": {
          "base_uri": "https://localhost:8080/",
          "height": 171
        }
      },
      "source": [
        "# Get the estimator.\n",
        "best_reg = grid_fit.best_estimator_\n",
        "\n",
        "# Fit the new model.\n",
        "best_reg.fit(X_train, y_train)"
      ],
      "execution_count": null,
      "outputs": [
        {
          "output_type": "stream",
          "text": [
            "[17:26:05] WARNING: /workspace/src/objective/regression_obj.cu:152: reg:linear is now deprecated in favor of reg:squarederror.\n"
          ],
          "name": "stdout"
        },
        {
          "output_type": "execute_result",
          "data": {
            "text/plain": [
              "XGBRegressor(base_score=0.5, booster='gbtree', colsample_bylevel=1,\n",
              "             colsample_bynode=1, colsample_bytree=1, gamma=0,\n",
              "             importance_type='gain', learning_rate=0.1, max_delta_step=0,\n",
              "             max_depth=5, min_child_weight=1, missing=None, n_estimators=100,\n",
              "             n_jobs=1, nthread=None, objective='reg:linear', random_state=0,\n",
              "             reg_alpha=0, reg_lambda=1, scale_pos_weight=1, seed=None,\n",
              "             silent=None, subsample=1, verbosity=1)"
            ]
          },
          "metadata": {
            "tags": []
          },
          "execution_count": 110
        }
      ]
    },
    {
      "cell_type": "code",
      "metadata": {
        "id": "8WtNvf6T_wCK",
        "outputId": "24b81428-9bfd-44cb-dfbb-90442b053b45",
        "colab": {
          "base_uri": "https://localhost:8080/",
          "height": 34
        }
      },
      "source": [
        "best_reg.score(X_test, y_test)"
      ],
      "execution_count": null,
      "outputs": [
        {
          "output_type": "execute_result",
          "data": {
            "text/plain": [
              "0.45544695445489913"
            ]
          },
          "metadata": {
            "tags": []
          },
          "execution_count": 111
        }
      ]
    },
    {
      "cell_type": "code",
      "metadata": {
        "id": "olkk2q9iAGNF"
      },
      "source": [
        ""
      ],
      "execution_count": null,
      "outputs": []
    }
  ]
}