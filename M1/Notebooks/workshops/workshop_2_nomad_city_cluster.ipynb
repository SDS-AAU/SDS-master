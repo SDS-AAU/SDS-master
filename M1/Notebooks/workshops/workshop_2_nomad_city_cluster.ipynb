{
  "nbformat": 4,
  "nbformat_minor": 0,
  "metadata": {
    "colab": {
      "name": "workshop 2 - nomad city cluster",
      "provenance": [],
      "authorship_tag": "ABX9TyPZUjBf4JvEGrmdy9Jz4tX0",
      "include_colab_link": true
    },
    "kernelspec": {
      "name": "python3",
      "display_name": "Python 3"
    },
    "language_info": {
      "name": "python"
    }
  },
  "cells": [
    {
      "cell_type": "markdown",
      "metadata": {
        "id": "view-in-github",
        "colab_type": "text"
      },
      "source": [
        "<a href=\"https://colab.research.google.com/github/SDS-AAU/SDS-master/blob/master/M1/Notebooks/workshops/workshop_2_nomad_city_cluster.ipynb\" target=\"_parent\"><img src=\"https://colab.research.google.com/assets/colab-badge.svg\" alt=\"Open In Colab\"/></a>"
      ]
    },
    {
      "cell_type": "code",
      "metadata": {
        "id": "pFU4qAyNfuc4"
      },
      "source": [
        "import pandas as pd\n",
        "import seaborn as sns\n",
        "sns.set(color_codes=True, rc={'figure.figsize':(10,8)})\n"
      ],
      "execution_count": null,
      "outputs": []
    },
    {
      "cell_type": "code",
      "metadata": {
        "id": "bTG59475g1NE"
      },
      "source": [
        "data = pd.read_csv('https://sds-aau.github.io/SDS-master/M1/data/cities.csv')"
      ],
      "execution_count": null,
      "outputs": []
    },
    {
      "cell_type": "code",
      "metadata": {
        "colab": {
          "base_uri": "https://localhost:8080/",
          "height": 399
        },
        "id": "KrczD5FVhB6l",
        "outputId": "fd45760e-92f9-4406-8332-7d83fabb9e30"
      },
      "source": [
        "data.head()"
      ],
      "execution_count": null,
      "outputs": [
        {
          "output_type": "execute_result",
          "data": {
            "text/html": [
              "<div>\n",
              "<style scoped>\n",
              "    .dataframe tbody tr th:only-of-type {\n",
              "        vertical-align: middle;\n",
              "    }\n",
              "\n",
              "    .dataframe tbody tr th {\n",
              "        vertical-align: top;\n",
              "    }\n",
              "\n",
              "    .dataframe thead th {\n",
              "        text-align: right;\n",
              "    }\n",
              "</style>\n",
              "<table border=\"1\" class=\"dataframe\">\n",
              "  <thead>\n",
              "    <tr style=\"text-align: right;\">\n",
              "      <th></th>\n",
              "      <th>place</th>\n",
              "      <th>alpha-2</th>\n",
              "      <th>region</th>\n",
              "      <th>sub-region</th>\n",
              "      <th>cost_nomad</th>\n",
              "      <th>cost_coworking</th>\n",
              "      <th>cost_expat</th>\n",
              "      <th>coffee_in_cafe</th>\n",
              "      <th>cost_beer</th>\n",
              "      <th>places_to_work</th>\n",
              "      <th>free_wifi_available</th>\n",
              "      <th>internet_speed</th>\n",
              "      <th>freedom_score</th>\n",
              "      <th>peace_score</th>\n",
              "      <th>safety</th>\n",
              "      <th>fragile_states_index</th>\n",
              "      <th>press_freedom_index</th>\n",
              "      <th>female_friendly</th>\n",
              "      <th>lgbt_friendly</th>\n",
              "      <th>friendly_to_foreigners</th>\n",
              "      <th>racism</th>\n",
              "      <th>leisure</th>\n",
              "      <th>life_score</th>\n",
              "      <th>nightlife</th>\n",
              "      <th>weed</th>\n",
              "    </tr>\n",
              "  </thead>\n",
              "  <tbody>\n",
              "    <tr>\n",
              "      <th>0</th>\n",
              "      <td>Budapest</td>\n",
              "      <td>HU</td>\n",
              "      <td>Europe</td>\n",
              "      <td>Eastern Europe</td>\n",
              "      <td>1364.0</td>\n",
              "      <td>152.41</td>\n",
              "      <td>1273.0</td>\n",
              "      <td>1.73</td>\n",
              "      <td>1.73</td>\n",
              "      <td>1.0</td>\n",
              "      <td>0.4</td>\n",
              "      <td>31.0</td>\n",
              "      <td>0.6</td>\n",
              "      <td>0.8</td>\n",
              "      <td>0.60</td>\n",
              "      <td>52.7</td>\n",
              "      <td>28.17</td>\n",
              "      <td>1.0</td>\n",
              "      <td>0.27</td>\n",
              "      <td>0.6</td>\n",
              "      <td>0.40</td>\n",
              "      <td>0.80</td>\n",
              "      <td>0.86</td>\n",
              "      <td>1.00</td>\n",
              "      <td>0.0</td>\n",
              "    </tr>\n",
              "    <tr>\n",
              "      <th>1</th>\n",
              "      <td>Chiang Mai</td>\n",
              "      <td>TH</td>\n",
              "      <td>Asia</td>\n",
              "      <td>South-eastern Asia</td>\n",
              "      <td>777.0</td>\n",
              "      <td>98.88</td>\n",
              "      <td>780.0</td>\n",
              "      <td>0.85</td>\n",
              "      <td>0.85</td>\n",
              "      <td>0.8</td>\n",
              "      <td>0.6</td>\n",
              "      <td>14.0</td>\n",
              "      <td>0.2</td>\n",
              "      <td>0.4</td>\n",
              "      <td>0.80</td>\n",
              "      <td>78.8</td>\n",
              "      <td>44.53</td>\n",
              "      <td>0.8</td>\n",
              "      <td>0.60</td>\n",
              "      <td>0.6</td>\n",
              "      <td>0.40</td>\n",
              "      <td>0.62</td>\n",
              "      <td>0.75</td>\n",
              "      <td>0.40</td>\n",
              "      <td>0.0</td>\n",
              "    </tr>\n",
              "    <tr>\n",
              "      <th>2</th>\n",
              "      <td>Phuket</td>\n",
              "      <td>TH</td>\n",
              "      <td>Asia</td>\n",
              "      <td>South-eastern Asia</td>\n",
              "      <td>1012.0</td>\n",
              "      <td>155.43</td>\n",
              "      <td>1714.0</td>\n",
              "      <td>1.41</td>\n",
              "      <td>1.41</td>\n",
              "      <td>0.8</td>\n",
              "      <td>0.4</td>\n",
              "      <td>14.0</td>\n",
              "      <td>0.2</td>\n",
              "      <td>0.4</td>\n",
              "      <td>0.80</td>\n",
              "      <td>78.8</td>\n",
              "      <td>44.53</td>\n",
              "      <td>0.6</td>\n",
              "      <td>0.80</td>\n",
              "      <td>0.6</td>\n",
              "      <td>0.42</td>\n",
              "      <td>0.60</td>\n",
              "      <td>0.75</td>\n",
              "      <td>0.82</td>\n",
              "      <td>0.0</td>\n",
              "    </tr>\n",
              "    <tr>\n",
              "      <th>3</th>\n",
              "      <td>Bangkok</td>\n",
              "      <td>TH</td>\n",
              "      <td>Asia</td>\n",
              "      <td>South-eastern Asia</td>\n",
              "      <td>1197.0</td>\n",
              "      <td>131.41</td>\n",
              "      <td>1158.0</td>\n",
              "      <td>2.12</td>\n",
              "      <td>2.12</td>\n",
              "      <td>1.0</td>\n",
              "      <td>1.0</td>\n",
              "      <td>24.0</td>\n",
              "      <td>0.2</td>\n",
              "      <td>0.4</td>\n",
              "      <td>0.77</td>\n",
              "      <td>78.8</td>\n",
              "      <td>44.53</td>\n",
              "      <td>0.8</td>\n",
              "      <td>0.80</td>\n",
              "      <td>1.0</td>\n",
              "      <td>0.42</td>\n",
              "      <td>0.82</td>\n",
              "      <td>0.72</td>\n",
              "      <td>1.00</td>\n",
              "      <td>0.0</td>\n",
              "    </tr>\n",
              "    <tr>\n",
              "      <th>4</th>\n",
              "      <td>Ko Samui</td>\n",
              "      <td>TH</td>\n",
              "      <td>Asia</td>\n",
              "      <td>South-eastern Asia</td>\n",
              "      <td>1352.0</td>\n",
              "      <td>169.56</td>\n",
              "      <td>1347.0</td>\n",
              "      <td>1.41</td>\n",
              "      <td>1.41</td>\n",
              "      <td>0.8</td>\n",
              "      <td>0.4</td>\n",
              "      <td>15.0</td>\n",
              "      <td>0.2</td>\n",
              "      <td>0.4</td>\n",
              "      <td>0.80</td>\n",
              "      <td>78.8</td>\n",
              "      <td>44.53</td>\n",
              "      <td>0.8</td>\n",
              "      <td>0.80</td>\n",
              "      <td>1.0</td>\n",
              "      <td>0.40</td>\n",
              "      <td>0.80</td>\n",
              "      <td>0.80</td>\n",
              "      <td>0.80</td>\n",
              "      <td>0.0</td>\n",
              "    </tr>\n",
              "  </tbody>\n",
              "</table>\n",
              "</div>"
            ],
            "text/plain": [
              "        place alpha-2  region  ... life_score  nightlife  weed\n",
              "0    Budapest      HU  Europe  ...       0.86       1.00   0.0\n",
              "1  Chiang Mai      TH    Asia  ...       0.75       0.40   0.0\n",
              "2      Phuket      TH    Asia  ...       0.75       0.82   0.0\n",
              "3     Bangkok      TH    Asia  ...       0.72       1.00   0.0\n",
              "4    Ko Samui      TH    Asia  ...       0.80       0.80   0.0\n",
              "\n",
              "[5 rows x 25 columns]"
            ]
          },
          "metadata": {},
          "execution_count": 4
        }
      ]
    },
    {
      "cell_type": "code",
      "metadata": {
        "colab": {
          "base_uri": "https://localhost:8080/"
        },
        "id": "R6RTfxnLhGah",
        "outputId": "672255bf-603f-4805-97a6-a116c7f1318f"
      },
      "source": [
        "data.info()"
      ],
      "execution_count": null,
      "outputs": [
        {
          "output_type": "stream",
          "name": "stdout",
          "text": [
            "<class 'pandas.core.frame.DataFrame'>\n",
            "RangeIndex: 780 entries, 0 to 779\n",
            "Data columns (total 25 columns):\n",
            " #   Column                  Non-Null Count  Dtype  \n",
            "---  ------                  --------------  -----  \n",
            " 0   place                   780 non-null    object \n",
            " 1   alpha-2                 780 non-null    object \n",
            " 2   region                  780 non-null    object \n",
            " 3   sub-region              780 non-null    object \n",
            " 4   cost_nomad              780 non-null    float64\n",
            " 5   cost_coworking          780 non-null    float64\n",
            " 6   cost_expat              780 non-null    float64\n",
            " 7   coffee_in_cafe          780 non-null    float64\n",
            " 8   cost_beer               780 non-null    float64\n",
            " 9   places_to_work          780 non-null    float64\n",
            " 10  free_wifi_available     780 non-null    float64\n",
            " 11  internet_speed          780 non-null    float64\n",
            " 12  freedom_score           780 non-null    float64\n",
            " 13  peace_score             780 non-null    float64\n",
            " 14  safety                  780 non-null    float64\n",
            " 15  fragile_states_index    780 non-null    float64\n",
            " 16  press_freedom_index     780 non-null    float64\n",
            " 17  female_friendly         780 non-null    float64\n",
            " 18  lgbt_friendly           780 non-null    float64\n",
            " 19  friendly_to_foreigners  780 non-null    float64\n",
            " 20  racism                  780 non-null    float64\n",
            " 21  leisure                 780 non-null    float64\n",
            " 22  life_score              780 non-null    float64\n",
            " 23  nightlife               780 non-null    float64\n",
            " 24  weed                    780 non-null    float64\n",
            "dtypes: float64(21), object(4)\n",
            "memory usage: 152.5+ KB\n"
          ]
        }
      ]
    },
    {
      "cell_type": "code",
      "metadata": {
        "colab": {
          "base_uri": "https://localhost:8080/",
          "height": 443
        },
        "id": "cuk94nSMiICM",
        "outputId": "6c6588b5-cd4b-4dc0-bf7b-4cc2049ece8c"
      },
      "source": [
        "data.loc[:,'cost_nomad':'weed']"
      ],
      "execution_count": null,
      "outputs": [
        {
          "output_type": "execute_result",
          "data": {
            "text/html": [
              "<div>\n",
              "<style scoped>\n",
              "    .dataframe tbody tr th:only-of-type {\n",
              "        vertical-align: middle;\n",
              "    }\n",
              "\n",
              "    .dataframe tbody tr th {\n",
              "        vertical-align: top;\n",
              "    }\n",
              "\n",
              "    .dataframe thead th {\n",
              "        text-align: right;\n",
              "    }\n",
              "</style>\n",
              "<table border=\"1\" class=\"dataframe\">\n",
              "  <thead>\n",
              "    <tr style=\"text-align: right;\">\n",
              "      <th></th>\n",
              "      <th>cost_nomad</th>\n",
              "      <th>cost_coworking</th>\n",
              "      <th>cost_expat</th>\n",
              "      <th>coffee_in_cafe</th>\n",
              "      <th>cost_beer</th>\n",
              "      <th>places_to_work</th>\n",
              "      <th>free_wifi_available</th>\n",
              "      <th>internet_speed</th>\n",
              "      <th>freedom_score</th>\n",
              "      <th>peace_score</th>\n",
              "      <th>safety</th>\n",
              "      <th>fragile_states_index</th>\n",
              "      <th>press_freedom_index</th>\n",
              "      <th>female_friendly</th>\n",
              "      <th>lgbt_friendly</th>\n",
              "      <th>friendly_to_foreigners</th>\n",
              "      <th>racism</th>\n",
              "      <th>leisure</th>\n",
              "      <th>life_score</th>\n",
              "      <th>nightlife</th>\n",
              "      <th>weed</th>\n",
              "    </tr>\n",
              "  </thead>\n",
              "  <tbody>\n",
              "    <tr>\n",
              "      <th>0</th>\n",
              "      <td>1364.0</td>\n",
              "      <td>152.41</td>\n",
              "      <td>1273.0</td>\n",
              "      <td>1.73</td>\n",
              "      <td>1.73</td>\n",
              "      <td>1.0</td>\n",
              "      <td>0.4</td>\n",
              "      <td>31.0</td>\n",
              "      <td>0.6</td>\n",
              "      <td>0.8</td>\n",
              "      <td>0.60</td>\n",
              "      <td>52.7</td>\n",
              "      <td>28.17</td>\n",
              "      <td>1.0</td>\n",
              "      <td>0.27</td>\n",
              "      <td>0.6</td>\n",
              "      <td>0.40</td>\n",
              "      <td>0.80</td>\n",
              "      <td>0.86</td>\n",
              "      <td>1.00</td>\n",
              "      <td>0.0</td>\n",
              "    </tr>\n",
              "    <tr>\n",
              "      <th>1</th>\n",
              "      <td>777.0</td>\n",
              "      <td>98.88</td>\n",
              "      <td>780.0</td>\n",
              "      <td>0.85</td>\n",
              "      <td>0.85</td>\n",
              "      <td>0.8</td>\n",
              "      <td>0.6</td>\n",
              "      <td>14.0</td>\n",
              "      <td>0.2</td>\n",
              "      <td>0.4</td>\n",
              "      <td>0.80</td>\n",
              "      <td>78.8</td>\n",
              "      <td>44.53</td>\n",
              "      <td>0.8</td>\n",
              "      <td>0.60</td>\n",
              "      <td>0.6</td>\n",
              "      <td>0.40</td>\n",
              "      <td>0.62</td>\n",
              "      <td>0.75</td>\n",
              "      <td>0.40</td>\n",
              "      <td>0.0</td>\n",
              "    </tr>\n",
              "    <tr>\n",
              "      <th>2</th>\n",
              "      <td>1012.0</td>\n",
              "      <td>155.43</td>\n",
              "      <td>1714.0</td>\n",
              "      <td>1.41</td>\n",
              "      <td>1.41</td>\n",
              "      <td>0.8</td>\n",
              "      <td>0.4</td>\n",
              "      <td>14.0</td>\n",
              "      <td>0.2</td>\n",
              "      <td>0.4</td>\n",
              "      <td>0.80</td>\n",
              "      <td>78.8</td>\n",
              "      <td>44.53</td>\n",
              "      <td>0.6</td>\n",
              "      <td>0.80</td>\n",
              "      <td>0.6</td>\n",
              "      <td>0.42</td>\n",
              "      <td>0.60</td>\n",
              "      <td>0.75</td>\n",
              "      <td>0.82</td>\n",
              "      <td>0.0</td>\n",
              "    </tr>\n",
              "    <tr>\n",
              "      <th>3</th>\n",
              "      <td>1197.0</td>\n",
              "      <td>131.41</td>\n",
              "      <td>1158.0</td>\n",
              "      <td>2.12</td>\n",
              "      <td>2.12</td>\n",
              "      <td>1.0</td>\n",
              "      <td>1.0</td>\n",
              "      <td>24.0</td>\n",
              "      <td>0.2</td>\n",
              "      <td>0.4</td>\n",
              "      <td>0.77</td>\n",
              "      <td>78.8</td>\n",
              "      <td>44.53</td>\n",
              "      <td>0.8</td>\n",
              "      <td>0.80</td>\n",
              "      <td>1.0</td>\n",
              "      <td>0.42</td>\n",
              "      <td>0.82</td>\n",
              "      <td>0.72</td>\n",
              "      <td>1.00</td>\n",
              "      <td>0.0</td>\n",
              "    </tr>\n",
              "    <tr>\n",
              "      <th>4</th>\n",
              "      <td>1352.0</td>\n",
              "      <td>169.56</td>\n",
              "      <td>1347.0</td>\n",
              "      <td>1.41</td>\n",
              "      <td>1.41</td>\n",
              "      <td>0.8</td>\n",
              "      <td>0.4</td>\n",
              "      <td>15.0</td>\n",
              "      <td>0.2</td>\n",
              "      <td>0.4</td>\n",
              "      <td>0.80</td>\n",
              "      <td>78.8</td>\n",
              "      <td>44.53</td>\n",
              "      <td>0.8</td>\n",
              "      <td>0.80</td>\n",
              "      <td>1.0</td>\n",
              "      <td>0.40</td>\n",
              "      <td>0.80</td>\n",
              "      <td>0.80</td>\n",
              "      <td>0.80</td>\n",
              "      <td>0.0</td>\n",
              "    </tr>\n",
              "    <tr>\n",
              "      <th>...</th>\n",
              "      <td>...</td>\n",
              "      <td>...</td>\n",
              "      <td>...</td>\n",
              "      <td>...</td>\n",
              "      <td>...</td>\n",
              "      <td>...</td>\n",
              "      <td>...</td>\n",
              "      <td>...</td>\n",
              "      <td>...</td>\n",
              "      <td>...</td>\n",
              "      <td>...</td>\n",
              "      <td>...</td>\n",
              "      <td>...</td>\n",
              "      <td>...</td>\n",
              "      <td>...</td>\n",
              "      <td>...</td>\n",
              "      <td>...</td>\n",
              "      <td>...</td>\n",
              "      <td>...</td>\n",
              "      <td>...</td>\n",
              "      <td>...</td>\n",
              "    </tr>\n",
              "    <tr>\n",
              "      <th>775</th>\n",
              "      <td>3461.0</td>\n",
              "      <td>243.51</td>\n",
              "      <td>2463.0</td>\n",
              "      <td>3.00</td>\n",
              "      <td>3.00</td>\n",
              "      <td>0.2</td>\n",
              "      <td>0.2</td>\n",
              "      <td>2.0</td>\n",
              "      <td>0.6</td>\n",
              "      <td>0.4</td>\n",
              "      <td>0.20</td>\n",
              "      <td>86.2</td>\n",
              "      <td>25.81</td>\n",
              "      <td>0.2</td>\n",
              "      <td>0.20</td>\n",
              "      <td>0.4</td>\n",
              "      <td>0.00</td>\n",
              "      <td>0.40</td>\n",
              "      <td>0.31</td>\n",
              "      <td>0.20</td>\n",
              "      <td>0.0</td>\n",
              "    </tr>\n",
              "    <tr>\n",
              "      <th>776</th>\n",
              "      <td>2833.0</td>\n",
              "      <td>288.58</td>\n",
              "      <td>2013.0</td>\n",
              "      <td>2.04</td>\n",
              "      <td>2.04</td>\n",
              "      <td>0.4</td>\n",
              "      <td>0.2</td>\n",
              "      <td>0.0</td>\n",
              "      <td>0.6</td>\n",
              "      <td>0.2</td>\n",
              "      <td>0.20</td>\n",
              "      <td>91.0</td>\n",
              "      <td>29.94</td>\n",
              "      <td>0.2</td>\n",
              "      <td>0.20</td>\n",
              "      <td>0.4</td>\n",
              "      <td>0.40</td>\n",
              "      <td>0.20</td>\n",
              "      <td>0.22</td>\n",
              "      <td>0.20</td>\n",
              "      <td>0.0</td>\n",
              "    </tr>\n",
              "    <tr>\n",
              "      <th>777</th>\n",
              "      <td>2525.0</td>\n",
              "      <td>201.55</td>\n",
              "      <td>1148.0</td>\n",
              "      <td>2.48</td>\n",
              "      <td>2.48</td>\n",
              "      <td>0.4</td>\n",
              "      <td>0.4</td>\n",
              "      <td>3.0</td>\n",
              "      <td>0.2</td>\n",
              "      <td>0.2</td>\n",
              "      <td>0.20</td>\n",
              "      <td>96.4</td>\n",
              "      <td>57.89</td>\n",
              "      <td>0.2</td>\n",
              "      <td>0.20</td>\n",
              "      <td>0.8</td>\n",
              "      <td>0.00</td>\n",
              "      <td>0.40</td>\n",
              "      <td>0.22</td>\n",
              "      <td>0.20</td>\n",
              "      <td>0.0</td>\n",
              "    </tr>\n",
              "    <tr>\n",
              "      <th>778</th>\n",
              "      <td>1162.0</td>\n",
              "      <td>215.73</td>\n",
              "      <td>1079.0</td>\n",
              "      <td>2.65</td>\n",
              "      <td>2.65</td>\n",
              "      <td>0.4</td>\n",
              "      <td>0.2</td>\n",
              "      <td>2.0</td>\n",
              "      <td>0.2</td>\n",
              "      <td>0.2</td>\n",
              "      <td>0.20</td>\n",
              "      <td>110.8</td>\n",
              "      <td>81.35</td>\n",
              "      <td>0.2</td>\n",
              "      <td>0.20</td>\n",
              "      <td>0.2</td>\n",
              "      <td>0.00</td>\n",
              "      <td>0.20</td>\n",
              "      <td>0.01</td>\n",
              "      <td>0.20</td>\n",
              "      <td>0.0</td>\n",
              "    </tr>\n",
              "    <tr>\n",
              "      <th>779</th>\n",
              "      <td>5009.0</td>\n",
              "      <td>360.00</td>\n",
              "      <td>1441.0</td>\n",
              "      <td>5.00</td>\n",
              "      <td>5.00</td>\n",
              "      <td>0.2</td>\n",
              "      <td>0.2</td>\n",
              "      <td>1.0</td>\n",
              "      <td>0.2</td>\n",
              "      <td>0.2</td>\n",
              "      <td>0.20</td>\n",
              "      <td>93.9</td>\n",
              "      <td>83.76</td>\n",
              "      <td>0.2</td>\n",
              "      <td>0.20</td>\n",
              "      <td>0.2</td>\n",
              "      <td>0.00</td>\n",
              "      <td>0.20</td>\n",
              "      <td>0.14</td>\n",
              "      <td>0.40</td>\n",
              "      <td>0.0</td>\n",
              "    </tr>\n",
              "  </tbody>\n",
              "</table>\n",
              "<p>780 rows × 21 columns</p>\n",
              "</div>"
            ],
            "text/plain": [
              "     cost_nomad  cost_coworking  cost_expat  ...  life_score  nightlife  weed\n",
              "0        1364.0          152.41      1273.0  ...        0.86       1.00   0.0\n",
              "1         777.0           98.88       780.0  ...        0.75       0.40   0.0\n",
              "2        1012.0          155.43      1714.0  ...        0.75       0.82   0.0\n",
              "3        1197.0          131.41      1158.0  ...        0.72       1.00   0.0\n",
              "4        1352.0          169.56      1347.0  ...        0.80       0.80   0.0\n",
              "..          ...             ...         ...  ...         ...        ...   ...\n",
              "775      3461.0          243.51      2463.0  ...        0.31       0.20   0.0\n",
              "776      2833.0          288.58      2013.0  ...        0.22       0.20   0.0\n",
              "777      2525.0          201.55      1148.0  ...        0.22       0.20   0.0\n",
              "778      1162.0          215.73      1079.0  ...        0.01       0.20   0.0\n",
              "779      5009.0          360.00      1441.0  ...        0.14       0.40   0.0\n",
              "\n",
              "[780 rows x 21 columns]"
            ]
          },
          "metadata": {},
          "execution_count": 6
        }
      ]
    },
    {
      "cell_type": "code",
      "metadata": {
        "colab": {
          "base_uri": "https://localhost:8080/",
          "height": 423
        },
        "id": "tIi0_aoJiatT",
        "outputId": "959fcd1a-4a3a-449f-eba7-e6b05c2fc2d1"
      },
      "source": [
        "my_selector_list = [5,7,8]\n",
        "data.iloc[:,my_selector_list]"
      ],
      "execution_count": null,
      "outputs": [
        {
          "output_type": "execute_result",
          "data": {
            "text/html": [
              "<div>\n",
              "<style scoped>\n",
              "    .dataframe tbody tr th:only-of-type {\n",
              "        vertical-align: middle;\n",
              "    }\n",
              "\n",
              "    .dataframe tbody tr th {\n",
              "        vertical-align: top;\n",
              "    }\n",
              "\n",
              "    .dataframe thead th {\n",
              "        text-align: right;\n",
              "    }\n",
              "</style>\n",
              "<table border=\"1\" class=\"dataframe\">\n",
              "  <thead>\n",
              "    <tr style=\"text-align: right;\">\n",
              "      <th></th>\n",
              "      <th>cost_coworking</th>\n",
              "      <th>coffee_in_cafe</th>\n",
              "      <th>cost_beer</th>\n",
              "    </tr>\n",
              "  </thead>\n",
              "  <tbody>\n",
              "    <tr>\n",
              "      <th>0</th>\n",
              "      <td>152.41</td>\n",
              "      <td>1.73</td>\n",
              "      <td>1.73</td>\n",
              "    </tr>\n",
              "    <tr>\n",
              "      <th>1</th>\n",
              "      <td>98.88</td>\n",
              "      <td>0.85</td>\n",
              "      <td>0.85</td>\n",
              "    </tr>\n",
              "    <tr>\n",
              "      <th>2</th>\n",
              "      <td>155.43</td>\n",
              "      <td>1.41</td>\n",
              "      <td>1.41</td>\n",
              "    </tr>\n",
              "    <tr>\n",
              "      <th>3</th>\n",
              "      <td>131.41</td>\n",
              "      <td>2.12</td>\n",
              "      <td>2.12</td>\n",
              "    </tr>\n",
              "    <tr>\n",
              "      <th>4</th>\n",
              "      <td>169.56</td>\n",
              "      <td>1.41</td>\n",
              "      <td>1.41</td>\n",
              "    </tr>\n",
              "    <tr>\n",
              "      <th>...</th>\n",
              "      <td>...</td>\n",
              "      <td>...</td>\n",
              "      <td>...</td>\n",
              "    </tr>\n",
              "    <tr>\n",
              "      <th>775</th>\n",
              "      <td>243.51</td>\n",
              "      <td>3.00</td>\n",
              "      <td>3.00</td>\n",
              "    </tr>\n",
              "    <tr>\n",
              "      <th>776</th>\n",
              "      <td>288.58</td>\n",
              "      <td>2.04</td>\n",
              "      <td>2.04</td>\n",
              "    </tr>\n",
              "    <tr>\n",
              "      <th>777</th>\n",
              "      <td>201.55</td>\n",
              "      <td>2.48</td>\n",
              "      <td>2.48</td>\n",
              "    </tr>\n",
              "    <tr>\n",
              "      <th>778</th>\n",
              "      <td>215.73</td>\n",
              "      <td>2.65</td>\n",
              "      <td>2.65</td>\n",
              "    </tr>\n",
              "    <tr>\n",
              "      <th>779</th>\n",
              "      <td>360.00</td>\n",
              "      <td>5.00</td>\n",
              "      <td>5.00</td>\n",
              "    </tr>\n",
              "  </tbody>\n",
              "</table>\n",
              "<p>780 rows × 3 columns</p>\n",
              "</div>"
            ],
            "text/plain": [
              "     cost_coworking  coffee_in_cafe  cost_beer\n",
              "0            152.41            1.73       1.73\n",
              "1             98.88            0.85       0.85\n",
              "2            155.43            1.41       1.41\n",
              "3            131.41            2.12       2.12\n",
              "4            169.56            1.41       1.41\n",
              "..              ...             ...        ...\n",
              "775          243.51            3.00       3.00\n",
              "776          288.58            2.04       2.04\n",
              "777          201.55            2.48       2.48\n",
              "778          215.73            2.65       2.65\n",
              "779          360.00            5.00       5.00\n",
              "\n",
              "[780 rows x 3 columns]"
            ]
          },
          "metadata": {},
          "execution_count": 11
        }
      ]
    },
    {
      "cell_type": "code",
      "metadata": {
        "id": "2ndk-9xkhiMy"
      },
      "source": [
        "data_num = data.iloc[:,4:]"
      ],
      "execution_count": null,
      "outputs": []
    },
    {
      "cell_type": "code",
      "metadata": {
        "id": "iDeZGiE3jvdq"
      },
      "source": [
        "from sklearn.preprocessing import StandardScaler"
      ],
      "execution_count": null,
      "outputs": []
    },
    {
      "cell_type": "code",
      "metadata": {
        "id": "KHddRpBfj-iJ"
      },
      "source": [
        "scaler = StandardScaler()"
      ],
      "execution_count": null,
      "outputs": []
    },
    {
      "cell_type": "code",
      "metadata": {
        "id": "52ktPNE_kjpD"
      },
      "source": [
        "data_scaled = scaler.fit_transform(data_num)"
      ],
      "execution_count": null,
      "outputs": []
    },
    {
      "cell_type": "code",
      "metadata": {
        "id": "hMvVIYcnk4kr"
      },
      "source": [
        "pd.DataFrame(data_scaled).describe()"
      ],
      "execution_count": null,
      "outputs": []
    },
    {
      "cell_type": "code",
      "metadata": {
        "id": "d4KgUdwjk6DW"
      },
      "source": [
        "from sklearn.decomposition import PCA\n",
        "pca = PCA(n_components=2)"
      ],
      "execution_count": null,
      "outputs": []
    },
    {
      "cell_type": "code",
      "metadata": {
        "id": "m3PABetjmM0Q"
      },
      "source": [
        "pca_data = pca.fit_transform(data_scaled)"
      ],
      "execution_count": null,
      "outputs": []
    },
    {
      "cell_type": "code",
      "metadata": {
        "colab": {
          "base_uri": "https://localhost:8080/"
        },
        "id": "AkKtrbnXmUw3",
        "outputId": "48a72a88-20e1-4d56-b629-ec7506db0ed7"
      },
      "source": [
        "pca_data.shape"
      ],
      "execution_count": null,
      "outputs": [
        {
          "output_type": "execute_result",
          "data": {
            "text/plain": [
              "(780, 2)"
            ]
          },
          "metadata": {},
          "execution_count": 35
        }
      ]
    },
    {
      "cell_type": "code",
      "metadata": {
        "colab": {
          "base_uri": "https://localhost:8080/"
        },
        "id": "yCgb95ycmWxW",
        "outputId": "4c61bb47-7e38-4239-dfda-43287364e7e9"
      },
      "source": [
        "pca.components_.shape"
      ],
      "execution_count": null,
      "outputs": [
        {
          "output_type": "execute_result",
          "data": {
            "text/plain": [
              "(2, 21)"
            ]
          },
          "metadata": {},
          "execution_count": 36
        }
      ]
    },
    {
      "cell_type": "code",
      "metadata": {
        "colab": {
          "base_uri": "https://localhost:8080/",
          "height": 291
        },
        "id": "KLeuw7Ujm1X-",
        "outputId": "f878aec0-0e95-408f-ceb2-c280b371cff3"
      },
      "source": [
        "sns.heatmap(pca.components_)"
      ],
      "execution_count": null,
      "outputs": [
        {
          "output_type": "execute_result",
          "data": {
            "text/plain": [
              "<matplotlib.axes._subplots.AxesSubplot at 0x7fc48ce13150>"
            ]
          },
          "metadata": {},
          "execution_count": 37
        },
        {
          "output_type": "display_data",
          "data": {
            "image/png": "[encoded data removed]",
            "text/plain": [
              "<Figure size 432x288 with 2 Axes>"
            ]
          },
          "metadata": {
            "needs_background": "light"
          }
        }
      ]
    },
    {
      "cell_type": "code",
      "metadata": {
        "colab": {
          "base_uri": "https://localhost:8080/"
        },
        "id": "v6szsVZonPNF",
        "outputId": "6d2b4a86-b57e-4b07-a629-111231643d9a"
      },
      "source": [
        "data.columns[4:][[16]]"
      ],
      "execution_count": null,
      "outputs": [
        {
          "output_type": "execute_result",
          "data": {
            "text/plain": [
              "Index(['racism'], dtype='object')"
            ]
          },
          "metadata": {},
          "execution_count": 38
        }
      ]
    },
    {
      "cell_type": "code",
      "metadata": {
        "colab": {
          "base_uri": "https://localhost:8080/",
          "height": 340
        },
        "id": "A7GuG_7DnjE1",
        "outputId": "b56499ed-a056-480c-c771-a3e431a39045"
      },
      "source": [
        "sns.scatterplot(pca_data[:,0], pca_data[:,1], hue=data.region)\n"
      ],
      "execution_count": null,
      "outputs": [
        {
          "output_type": "stream",
          "name": "stderr",
          "text": [
            "/usr/local/lib/python3.7/dist-packages/seaborn/_decorators.py:43: FutureWarning: Pass the following variables as keyword args: x, y. From version 0.12, the only valid positional argument will be `data`, and passing other arguments without an explicit keyword will result in an error or misinterpretation.\n",
            "  FutureWarning\n"
          ]
        },
        {
          "output_type": "execute_result",
          "data": {
            "text/plain": [
              "<matplotlib.axes._subplots.AxesSubplot at 0x7fc48b556e90>"
            ]
          },
          "metadata": {},
          "execution_count": 39
        },
        {
          "output_type": "display_data",
          "data": {
            "image/png": "[encoded data removed]",
            "text/plain": [
              "<Figure size 432x288 with 1 Axes>"
            ]
          },
          "metadata": {
            "needs_background": "light"
          }
        }
      ]
    },
    {
      "cell_type": "code",
      "metadata": {
        "id": "a-ODOh8GoMhw"
      },
      "source": [
        "from sklearn.preprocessing import MinMaxScaler\n",
        "minmax = MinMaxScaler() "
      ],
      "execution_count": null,
      "outputs": []
    },
    {
      "cell_type": "code",
      "metadata": {
        "id": "anLTWy8wpZoz"
      },
      "source": [
        "from sklearn.decomposition import NMF\n",
        "nmf = NMF(n_components=5)"
      ],
      "execution_count": null,
      "outputs": []
    },
    {
      "cell_type": "code",
      "metadata": {
        "id": "MT7nz_Byqfrq"
      },
      "source": [
        "minmax_data = minmax.fit_transform(data_num)"
      ],
      "execution_count": null,
      "outputs": []
    },
    {
      "cell_type": "code",
      "metadata": {
        "id": "Rn5yTLjopgae"
      },
      "source": [
        "nmf_data = nmf.fit_transform(minmax_data)"
      ],
      "execution_count": null,
      "outputs": []
    },
    {
      "cell_type": "code",
      "metadata": {
        "colab": {
          "base_uri": "https://localhost:8080/",
          "height": 289
        },
        "id": "m8MDO9iTq3Hk",
        "outputId": "24f4c8c6-ab95-45a6-81cf-3616d22024be"
      },
      "source": [
        "sns.heatmap(nmf.components_)"
      ],
      "execution_count": null,
      "outputs": [
        {
          "output_type": "execute_result",
          "data": {
            "text/plain": [
              "<matplotlib.axes._subplots.AxesSubplot at 0x7fc48b5a21d0>"
            ]
          },
          "metadata": {},
          "execution_count": 45
        },
        {
          "output_type": "display_data",
          "data": {
            "image/png": "[encoded data removed]",
            "text/plain": [
              "<Figure size 432x288 with 2 Axes>"
            ]
          },
          "metadata": {
            "needs_background": "light"
          }
        }
      ]
    },
    {
      "cell_type": "code",
      "metadata": {
        "colab": {
          "base_uri": "https://localhost:8080/"
        },
        "id": "oIgSCQEHzZKs",
        "outputId": "1f3b4720-e470-4ece-b875-9c138450a994"
      },
      "source": [
        "!pip install -q umap-learn"
      ],
      "execution_count": null,
      "outputs": [
        {
          "output_type": "stream",
          "name": "stdout",
          "text": [
            "\u001b[K     |████████████████████████████████| 80 kB 5.3 MB/s \n",
            "\u001b[K     |████████████████████████████████| 1.1 MB 18.7 MB/s \n",
            "\u001b[?25h  Building wheel for umap-learn (setup.py) ... \u001b[?25l\u001b[?25hdone\n",
            "  Building wheel for pynndescent (setup.py) ... \u001b[?25l\u001b[?25hdone\n"
          ]
        }
      ]
    },
    {
      "cell_type": "code",
      "metadata": {
        "id": "_QzEFCairAtb"
      },
      "source": [
        "import umap\n",
        "reducer = umap.UMAP()"
      ],
      "execution_count": null,
      "outputs": []
    },
    {
      "cell_type": "code",
      "metadata": {
        "colab": {
          "base_uri": "https://localhost:8080/"
        },
        "id": "eVn76YypyxGK",
        "outputId": "07bcac16-e928-42bb-d2e7-3f1b490750d4"
      },
      "source": [
        "umap_data = reducer.fit_transform(data_scaled)\n",
        "umap_data.shape"
      ],
      "execution_count": null,
      "outputs": [
        {
          "output_type": "stream",
          "name": "stderr",
          "text": [
            "/usr/local/lib/python3.7/dist-packages/numba/np/ufunc/parallel.py:363: NumbaWarning: The TBB threading layer requires TBB version 2019.5 or later i.e., TBB_INTERFACE_VERSION >= 11005. Found TBB_INTERFACE_VERSION = 9107. The TBB threading layer is disabled.\n",
            "  warnings.warn(problem)\n"
          ]
        },
        {
          "output_type": "execute_result",
          "data": {
            "text/plain": [
              "(780, 2)"
            ]
          },
          "metadata": {},
          "execution_count": 48
        }
      ]
    },
    {
      "cell_type": "code",
      "metadata": {
        "colab": {
          "base_uri": "https://localhost:8080/",
          "height": 340
        },
        "id": "wvfKk1Nnyys_",
        "outputId": "90eb2bf4-bb9d-4178-e39d-4346aea699d5"
      },
      "source": [
        "# Let's plot the matrix\n",
        "\n",
        "sns.scatterplot(umap_data[:,0], umap_data[:,1], hue = data.region )"
      ],
      "execution_count": null,
      "outputs": [
        {
          "output_type": "stream",
          "name": "stderr",
          "text": [
            "/usr/local/lib/python3.7/dist-packages/seaborn/_decorators.py:43: FutureWarning: Pass the following variables as keyword args: x, y. From version 0.12, the only valid positional argument will be `data`, and passing other arguments without an explicit keyword will result in an error or misinterpretation.\n",
            "  FutureWarning\n"
          ]
        },
        {
          "output_type": "execute_result",
          "data": {
            "text/plain": [
              "<matplotlib.axes._subplots.AxesSubplot at 0x7fc440949d10>"
            ]
          },
          "metadata": {},
          "execution_count": 49
        },
        {
          "output_type": "display_data",
          "data": {
            "image/png": "[encoded data removed]",
            "text/plain": [
              "<Figure size 432x288 with 1 Axes>"
            ]
          },
          "metadata": {
            "needs_background": "light"
          }
        }
      ]
    },
    {
      "cell_type": "code",
      "metadata": {
        "id": "qO8y_QByy-UA"
      },
      "source": [
        "from sklearn.cluster import KMeans"
      ],
      "execution_count": null,
      "outputs": []
    },
    {
      "cell_type": "code",
      "metadata": {
        "colab": {
          "base_uri": "https://localhost:8080/"
        },
        "id": "-oWwJY24zAq_",
        "outputId": "36114bf2-6a50-4cee-979d-9a3a5fcf9a2c"
      },
      "source": [
        "clusterer = KMeans(n_clusters=3)\n",
        "clusterer.fit(data_scaled)"
      ],
      "execution_count": null,
      "outputs": [
        {
          "output_type": "execute_result",
          "data": {
            "text/plain": [
              "KMeans(algorithm='auto', copy_x=True, init='k-means++', max_iter=300,\n",
              "       n_clusters=3, n_init=10, n_jobs=None, precompute_distances='auto',\n",
              "       random_state=None, tol=0.0001, verbose=0)"
            ]
          },
          "metadata": {},
          "execution_count": 51
        }
      ]
    },
    {
      "cell_type": "code",
      "metadata": {
        "colab": {
          "base_uri": "https://localhost:8080/",
          "height": 340
        },
        "id": "TG1BikiCzC6n",
        "outputId": "c29a6173-ffc5-4364-cf7c-47f0b84f8fb0"
      },
      "source": [
        "sns.scatterplot(umap_data[:,0], umap_data[:,1], hue = clusterer.labels_)"
      ],
      "execution_count": null,
      "outputs": [
        {
          "output_type": "stream",
          "name": "stderr",
          "text": [
            "/usr/local/lib/python3.7/dist-packages/seaborn/_decorators.py:43: FutureWarning: Pass the following variables as keyword args: x, y. From version 0.12, the only valid positional argument will be `data`, and passing other arguments without an explicit keyword will result in an error or misinterpretation.\n",
            "  FutureWarning\n"
          ]
        },
        {
          "output_type": "execute_result",
          "data": {
            "text/plain": [
              "<matplotlib.axes._subplots.AxesSubplot at 0x7fc440e31810>"
            ]
          },
          "metadata": {},
          "execution_count": 52
        },
        {
          "output_type": "display_data",
          "data": {
            "image/png": "[encoded data removed]",
            "text/plain": [
              "<Figure size 432x288 with 1 Axes>"
            ]
          },
          "metadata": {
            "needs_background": "light"
          }
        }
      ]
    },
    {
      "cell_type": "code",
      "metadata": {
        "id": "jAnxTU3d0Z8M"
      },
      "source": [
        ""
      ],
      "execution_count": null,
      "outputs": []
    }
  ]
}