{
 "cells": [
  {
   "cell_type": "markdown",
   "source": "# M1: AirBnb Workshop 3",
   "metadata": {
    "tags": [],
    "is_collapsed": false,
    "cell_id": "00000-08742306-e8ef-44bf-b520-e807d3d31028",
    "deepnote_cell_type": "text-cell-h1"
   }
  },
  {
   "cell_type": "markdown",
   "source": "In this notebook we are going to work with the 2021 Airbnb listings in CPH. We are going to explore the dataset and predict some of the variables...(working outline.)",
   "metadata": {
    "tags": [],
    "cell_id": "00001-c42212e5-55c2-4e64-aa10-2cc228f5ec0b",
    "deepnote_cell_type": "markdown"
   }
  },
  {
   "cell_type": "code",
   "metadata": {
    "tags": [],
    "cell_id": "00000-80047e6b-6502-4519-b87f-7ea6925ac73e",
    "deepnote_to_be_reexecuted": false,
    "source_hash": "a7aa27ec",
    "execution_start": 1632212950348,
    "execution_millis": 662,
    "deepnote_cell_type": "code"
   },
   "source": "# Import packages\n\nimport pandas as pd\nimport seaborn as sns",
   "execution_count": 25,
   "outputs": []
  },
  {
   "cell_type": "code",
   "source": "# load up the data\nlistings = pd.read_csv('http://data.insideairbnb.com/denmark/hovedstaden/copenhagen/2021-07-20/data/listings.csv.gz')",
   "metadata": {
    "tags": [],
    "cell_id": "00001-3172915a-14e9-4d8b-b358-bd90d91c5ffd",
    "deepnote_to_be_reexecuted": false,
    "source_hash": "3769ed7a",
    "execution_start": 1632209828799,
    "execution_millis": 571,
    "deepnote_cell_type": "code"
   },
   "outputs": [],
   "execution_count": 2
  },
  {
   "cell_type": "code",
   "source": "# first explore\n\nlistings.head()",
   "metadata": {
    "tags": [],
    "cell_id": "00002-5b08bc75-0feb-430e-afbc-0da2aeb4c22c",
    "deepnote_to_be_reexecuted": false,
    "source_hash": "bb8eca32",
    "execution_start": 1632209845605,
    "execution_millis": 248,
    "deepnote_cell_type": "code"
   },
   "outputs": [
    {
     "output_type": "execute_result",
     "execution_count": 3,
     "data": {
      "application/vnd.deepnote.dataframe.v2+json": {
       "row_count": 5,
       "column_count": 74,
       "columns": [
        {
         "name": "id",
         "dtype": "int64",
         "stats": {
          "unique_count": 5,
          "nan_count": 0,
          "min": "6983",
          "max": "32379",
          "histogram": [
           {
            "bin_start": 6983,
            "bin_end": 9522.6,
            "count": 1
           },
           {
            "bin_start": 9522.6,
            "bin_end": 12062.2,
            "count": 0
           },
           {
            "bin_start": 12062.2,
            "bin_end": 14601.8,
            "count": 0
           },
           {
            "bin_start": 14601.8,
            "bin_end": 17141.4,
            "count": 0
           },
           {
            "bin_start": 17141.4,
            "bin_end": 19681,
            "count": 0
           },
           {
            "bin_start": 19681,
            "bin_end": 22220.6,
            "count": 0
           },
           {
            "bin_start": 22220.6,
            "bin_end": 24760.2,
            "count": 0
           },
           {
            "bin_start": 24760.2,
            "bin_end": 27299.8,
            "count": 1
           },
           {
            "bin_start": 27299.8,
            "bin_end": 29839.399999999998,
            "count": 1
           },
           {
            "bin_start": 29839.399999999998,
            "bin_end": 32379,
            "count": 2
           }
          ]
         }
        },
        {
         "name": "listing_url",
         "dtype": "object",
         "stats": {
          "unique_count": 5,
          "nan_count": 0,
          "categories": [
           {
            "name": "https://www.airbnb.com/rooms/6983",
            "count": 1
           },
           {
            "name": "https://www.airbnb.com/rooms/26057",
            "count": 1
           },
           {
            "name": "3 others",
            "count": 3
           }
          ]
         }
        },
        {
         "name": "scrape_id",
         "dtype": "int64",
         "stats": {
          "unique_count": 1,
          "nan_count": 0,
          "min": "20210720033302",
          "max": "20210720033302",
          "histogram": [
           {
            "bin_start": 20210720033301.5,
            "bin_end": 20210720033301.6,
            "count": 0
           },
           {
            "bin_start": 20210720033301.6,
            "bin_end": 20210720033301.7,
            "count": 0
           },
           {
            "bin_start": 20210720033301.7,
            "bin_end": 20210720033301.8,
            "count": 0
           },
           {
            "bin_start": 20210720033301.8,
            "bin_end": 20210720033301.9,
            "count": 0
           },
           {
            "bin_start": 20210720033301.9,
            "bin_end": 20210720033302,
            "count": 0
           },
           {
            "bin_start": 20210720033302,
            "bin_end": 20210720033302.1,
            "count": 5
           },
           {
            "bin_start": 20210720033302.1,
            "bin_end": 20210720033302.2,
            "count": 0
           },
           {
            "bin_start": 20210720033302.2,
            "bin_end": 20210720033302.3,
            "count": 0
           },
           {
            "bin_start": 20210720033302.3,
            "bin_end": 20210720033302.4,
            "count": 0
           },
           {
            "bin_start": 20210720033302.4,
            "bin_end": 20210720033302.5,
            "count": 0
           }
          ]
         }
        },
        {
         "name": "last_scraped",
         "dtype": "object",
         "stats": {
          "unique_count": 1,
          "nan_count": 0,
          "categories": [
           {
            "name": "2021-07-20",
            "count": 5
           }
          ]
         }
        },
        {
         "name": "name",
         "dtype": "object",
         "stats": {
          "unique_count": 5,
          "nan_count": 0,
          "categories": [
           {
            "name": "Copenhagen 'N Livin'",
            "count": 1
           },
           {
            "name": "Lovely house - most attractive area",
            "count": 1
           },
           {
            "name": "3 others",
            "count": 3
           }
          ]
         }
        },
        {
         "name": "description",
         "dtype": "object",
         "stats": {
          "unique_count": 5,
          "nan_count": 0,
          "categories": [
           {
            "name": "Lovely apartment located in the hip Nørrebro area, close to bars, cafés and restaurants.<br />The room itself is rather small, but sleeps two. Has a bed, hangers and a cupboard.<br />Large living room with couch, chair and small table, as well as a large dining table for dinner.<br />Large bathroom with good shower and washing machine.<br />Kitchen with new gas stove, pots and pans, coffee machine and other amenities. Also a small table, where you can have breakfast.<br /><br /><b>The space</b><br />Beautiful and cosy apartment conveniently located in the hip Nørrebro area, close to cafés, bakeries, shops, and bars.<br />The apartment has three bedrooms and a living room, as well as a large bathroom and a fully equipped kitchen. You will be renting the small room, which sleeps 2 people.<br /><br />Situated in the outskirts of central Copenhagen, in the charming multi-cultural \"Nørrebro\"-area, close to shopping amenities and a 10-min walk from both Copenhagen Business School (CBS) and U",
            "count": 1
           },
           {
            "name": "Our lovely house in the center of the city is placed in a small silence street. 50 meter from the popular Emmery-bacery, and restaurant and cafees around. You are in a walkingdistans to all main attractions, and have the \"lakes\" in your backyards.<br /><br /><b>The space</b><br />Totally charming old 150 m2 stone house from year 1870 - in a very unique part of the City called \"Kartoffelrækkerne\". It's like a mini-community in a very central part of Copenhagen - the most attractive area in Copenhagen - in the heart of the city, but still in peace and quiet. Within walking distance you will find the lakes, several museums, shops, cafés, bars, parks and restaurants.<br /><br />The house is modern and renovated in a handsome way with respect for the old style and architecture.<br /><br />Three floors. 1st floor: Living room, kitchen and dining room, with direct entrance to a charming and sunny \"patio\", guest toilet. 2nd floor: 1 bedroom with double bed, 1 music room with a piano and with e",
            "count": 1
           },
           {
            "name": "3 others",
            "count": 3
           }
          ]
         }
        },
        {
         "name": "neighborhood_overview",
         "dtype": "object",
         "stats": {
          "unique_count": 4,
          "nan_count": 1,
          "categories": [
           {
            "name": "Nice bars and cozy cafes just minutes away, yet the street itself is quiet and you won't be bothered by loud music.",
            "count": 1
           },
           {
            "name": "3 others",
            "count": 3
           },
           {
            "name": "Missing",
            "count": 1
           }
          ]
         }
        },
        {
         "name": "picture_url",
         "dtype": "object",
         "stats": {
          "unique_count": 5,
          "nan_count": 0,
          "categories": [
           {
            "name": "https://a0.muscache.com/pictures/42044170/f63c4d99_original.jpg",
            "count": 1
           },
           {
            "name": "https://a0.muscache.com/pictures/miso/Hosting-26057/original/e9c69708-06a4-4e8e-9adb-61ebbcc3457a.jpeg",
            "count": 1
           },
           {
            "name": "3 others",
            "count": 3
           }
          ]
         }
        },
        {
         "name": "host_id",
         "dtype": "int64",
         "stats": {
          "unique_count": 5,
          "nan_count": 0,
          "min": "16774",
          "max": "140105",
          "histogram": [
           {
            "bin_start": 16774,
            "bin_end": 29107.1,
            "count": 1
           },
           {
            "bin_start": 29107.1,
            "bin_end": 41440.2,
            "count": 0
           },
           {
            "bin_start": 41440.2,
            "bin_end": 53773.3,
            "count": 0
           },
           {
            "bin_start": 53773.3,
            "bin_end": 66106.4,
            "count": 0
           },
           {
            "bin_start": 66106.4,
            "bin_end": 78439.5,
            "count": 0
           },
           {
            "bin_start": 78439.5,
            "bin_end": 90772.6,
            "count": 0
           },
           {
            "bin_start": 90772.6,
            "bin_end": 103105.7,
            "count": 0
           },
           {
            "bin_start": 103105.7,
            "bin_end": 115438.8,
            "count": 1
           },
           {
            "bin_start": 115438.8,
            "bin_end": 127771.90000000001,
            "count": 1
           },
           {
            "bin_start": 127771.90000000001,
            "bin_end": 140105,
            "count": 2
           }
          ]
         }
        },
        {
         "name": "host_url",
         "dtype": "object",
         "stats": {
          "unique_count": 5,
          "nan_count": 0,
          "categories": [
           {
            "name": "https://www.airbnb.com/users/show/16774",
            "count": 1
           },
           {
            "name": "https://www.airbnb.com/users/show/109777",
            "count": 1
           },
           {
            "name": "3 others",
            "count": 3
           }
          ]
         }
        },
        {
         "name": "host_name",
         "dtype": "object",
         "stats": {
          "unique_count": 5,
          "nan_count": 0,
          "categories": [
           {
            "name": "Simon",
            "count": 1
           },
           {
            "name": "Kari",
            "count": 1
           },
           {
            "name": "3 others",
            "count": 3
           }
          ]
         }
        },
        {
         "name": "host_since",
         "dtype": "object",
         "stats": {
          "unique_count": 5,
          "nan_count": 0,
          "categories": [
           {
            "name": "2009-05-12",
            "count": 1
           },
           {
            "name": "2010-04-17",
            "count": 1
           },
           {
            "name": "3 others",
            "count": 3
           }
          ]
         }
        },
        {
         "name": "host_location",
         "dtype": "object",
         "stats": {
          "unique_count": 3,
          "nan_count": 0,
          "categories": [
           {
            "name": "Copenhagen, Capital Region of Denmark, Denmark",
            "count": 3
           },
           {
            "name": "København, Denmark",
            "count": 1
           },
           {
            "name": "Copenhagen, Denmark",
            "count": 1
           }
          ]
         }
        },
        {
         "name": "host_about",
         "dtype": "object",
         "stats": {
          "unique_count": 5,
          "nan_count": 0,
          "categories": [
           {
            "name": "I'm currently working as an environmental consultant for a large engineering consultancy in Copenhagen.\r\nWhen I'm not at work, I spend time doing sports (playing football, running, cross fit), or doing indoor activities such as reading books and listening to music. I have recently taken an interest in cooking, and I love great food. \r\nI'm outgoing, happy and love good company.\r\nAnd I love my bike as any other person from Copenhagen..",
            "count": 1
           },
           {
            "name": "We are a family with 2 children, and living in a great and beautiful house placed in a very special part in central Copenhagen called Kartoffelraekkerne. It's like a small village in the center of the city! The house is available from time to time - when we are travelling/working abroad. We're looking forward to hearing from you.",
            "count": 1
           },
           {
            "name": "3 others",
            "count": 3
           }
          ]
         }
        },
        {
         "name": "host_response_time",
         "dtype": "object",
         "stats": {
          "unique_count": 2,
          "nan_count": 1,
          "categories": [
           {
            "name": "within a few hours",
            "count": 3
           },
           {
            "name": "within a day",
            "count": 1
           },
           {
            "name": "Missing",
            "count": 1
           }
          ]
         }
        },
        {
         "name": "host_response_rate",
         "dtype": "object",
         "stats": {
          "unique_count": 1,
          "nan_count": 1,
          "categories": [
           {
            "name": "100%",
            "count": 4
           },
           {
            "name": "Missing",
            "count": 1
           }
          ]
         }
        },
        {
         "name": "host_acceptance_rate",
         "dtype": "object",
         "stats": {
          "unique_count": 3,
          "nan_count": 2,
          "categories": [
           {
            "name": "100%",
            "count": 1
           },
           {
            "name": "2 others",
            "count": 2
           },
           {
            "name": "Missing",
            "count": 2
           }
          ]
         }
        },
        {
         "name": "host_is_superhost",
         "dtype": "object",
         "stats": {
          "unique_count": 1,
          "nan_count": 0,
          "categories": [
           {
            "name": "f",
            "count": 5
           }
          ]
         }
        },
        {
         "name": "host_thumbnail_url",
         "dtype": "object",
         "stats": {
          "unique_count": 5,
          "nan_count": 0,
          "categories": [
           {
            "name": "https://a0.muscache.com/im/users/16774/profile_pic/1401276934/original.jpg?aki_policy=profile_small",
            "count": 1
           },
           {
            "name": "https://a0.muscache.com/im/users/109777/profile_pic/1359537563/original.jpg?aki_policy=profile_small",
            "count": 1
           },
           {
            "name": "3 others",
            "count": 3
           }
          ]
         }
        },
        {
         "name": "host_picture_url",
         "dtype": "object",
         "stats": {
          "unique_count": 5,
          "nan_count": 0,
          "categories": [
           {
            "name": "https://a0.muscache.com/im/users/16774/profile_pic/1401276934/original.jpg?aki_policy=profile_x_medium",
            "count": 1
           },
           {
            "name": "https://a0.muscache.com/im/users/109777/profile_pic/1359537563/original.jpg?aki_policy=profile_x_medium",
            "count": 1
           },
           {
            "name": "3 others",
            "count": 3
           }
          ]
         }
        },
        {
         "name": "host_neighbourhood",
         "dtype": "object",
         "stats": {
          "unique_count": 3,
          "nan_count": 0,
          "categories": [
           {
            "name": "Vesterbro",
            "count": 3
           },
           {
            "name": "Nørrebro",
            "count": 1
           },
           {
            "name": "Indre By",
            "count": 1
           }
          ]
         }
        },
        {
         "name": "host_listings_count",
         "dtype": "float64",
         "stats": {
          "unique_count": 2,
          "nan_count": 0,
          "min": "1.0",
          "max": "3.0",
          "histogram": [
           {
            "bin_start": 1,
            "bin_end": 1.2,
            "count": 4
           },
           {
            "bin_start": 1.2,
            "bin_end": 1.4,
            "count": 0
           },
           {
            "bin_start": 1.4,
            "bin_end": 1.6,
            "count": 0
           },
           {
            "bin_start": 1.6,
            "bin_end": 1.8,
            "count": 0
           },
           {
            "bin_start": 1.8,
            "bin_end": 2,
            "count": 0
           },
           {
            "bin_start": 2,
            "bin_end": 2.2,
            "count": 0
           },
           {
            "bin_start": 2.2,
            "bin_end": 2.4000000000000004,
            "count": 0
           },
           {
            "bin_start": 2.4000000000000004,
            "bin_end": 2.6,
            "count": 0
           },
           {
            "bin_start": 2.6,
            "bin_end": 2.8,
            "count": 0
           },
           {
            "bin_start": 2.8,
            "bin_end": 3,
            "count": 1
           }
          ]
         }
        },
        {
         "name": "host_total_listings_count",
         "dtype": "float64",
         "stats": {
          "unique_count": 2,
          "nan_count": 0,
          "min": "1.0",
          "max": "3.0",
          "histogram": [
           {
            "bin_start": 1,
            "bin_end": 1.2,
            "count": 4
           },
           {
            "bin_start": 1.2,
            "bin_end": 1.4,
            "count": 0
           },
           {
            "bin_start": 1.4,
            "bin_end": 1.6,
            "count": 0
           },
           {
            "bin_start": 1.6,
            "bin_end": 1.8,
            "count": 0
           },
           {
            "bin_start": 1.8,
            "bin_end": 2,
            "count": 0
           },
           {
            "bin_start": 2,
            "bin_end": 2.2,
            "count": 0
           },
           {
            "bin_start": 2.2,
            "bin_end": 2.4000000000000004,
            "count": 0
           },
           {
            "bin_start": 2.4000000000000004,
            "bin_end": 2.6,
            "count": 0
           },
           {
            "bin_start": 2.6,
            "bin_end": 2.8,
            "count": 0
           },
           {
            "bin_start": 2.8,
            "bin_end": 3,
            "count": 1
           }
          ]
         }
        },
        {
         "name": "host_verifications",
         "dtype": "object",
         "stats": {
          "unique_count": 5,
          "nan_count": 0,
          "categories": [
           {
            "name": "['email', 'phone', 'reviews']",
            "count": 1
           },
           {
            "name": "['email', 'phone', 'reviews', 'jumio', 'offline_government_id', 'government_id']",
            "count": 1
           },
           {
            "name": "3 others",
            "count": 3
           }
          ]
         }
        },
        {
         "name": "host_has_profile_pic",
         "dtype": "object",
         "stats": {
          "unique_count": 1,
          "nan_count": 0,
          "categories": [
           {
            "name": "t",
            "count": 5
           }
          ]
         }
        },
        {
         "name": "host_identity_verified",
         "dtype": "object",
         "stats": {
          "unique_count": 2,
          "nan_count": 0,
          "categories": [
           {
            "name": "t",
            "count": 4
           },
           {
            "name": "f",
            "count": 1
           }
          ]
         }
        },
        {
         "name": "neighbourhood",
         "dtype": "object",
         "stats": {
          "unique_count": 2,
          "nan_count": 1,
          "categories": [
           {
            "name": "Copenhagen, Hovedstaden, Denmark",
            "count": 3
           },
           {
            "name": "Copenhagen, Capital Region of Denmark, Denmark",
            "count": 1
           },
           {
            "name": "Missing",
            "count": 1
           }
          ]
         }
        },
        {
         "name": "neighbourhood_cleansed",
         "dtype": "object",
         "stats": {
          "unique_count": 3,
          "nan_count": 0,
          "categories": [
           {
            "name": "Vesterbro-Kongens Enghave",
            "count": 3
           },
           {
            "name": "Nrrebro",
            "count": 1
           },
           {
            "name": "Indre By",
            "count": 1
           }
          ]
         }
        },
        {
         "name": "neighbourhood_group_cleansed",
         "dtype": "float64",
         "stats": {
          "unique_count": 0,
          "nan_count": 5,
          "min": null,
          "max": null,
          "histogram": [
           {
            "bin_start": 0,
            "bin_end": 0.1,
            "count": 0
           },
           {
            "bin_start": 0.1,
            "bin_end": 0.2,
            "count": 0
           },
           {
            "bin_start": 0.2,
            "bin_end": 0.30000000000000004,
            "count": 0
           },
           {
            "bin_start": 0.30000000000000004,
            "bin_end": 0.4,
            "count": 0
           },
           {
            "bin_start": 0.4,
            "bin_end": 0.5,
            "count": 0
           },
           {
            "bin_start": 0.5,
            "bin_end": 0.6000000000000001,
            "count": 0
           },
           {
            "bin_start": 0.6000000000000001,
            "bin_end": 0.7000000000000001,
            "count": 0
           },
           {
            "bin_start": 0.7000000000000001,
            "bin_end": 0.8,
            "count": 0
           },
           {
            "bin_start": 0.8,
            "bin_end": 0.9,
            "count": 0
           },
           {
            "bin_start": 0.9,
            "bin_end": 1,
            "count": 0
           }
          ]
         }
        },
        {
         "name": "latitude",
         "dtype": "float64",
         "stats": {
          "unique_count": 5,
          "nan_count": 0,
          "min": "55.66539",
          "max": "55.69196",
          "histogram": [
           {
            "bin_start": 55.66539,
            "bin_end": 55.668047,
            "count": 1
           },
           {
            "bin_start": 55.668047,
            "bin_end": 55.670704,
            "count": 1
           },
           {
            "bin_start": 55.670704,
            "bin_end": 55.673361,
            "count": 1
           },
           {
            "bin_start": 55.673361,
            "bin_end": 55.676018,
            "count": 0
           },
           {
            "bin_start": 55.676018,
            "bin_end": 55.678675,
            "count": 0
           },
           {
            "bin_start": 55.678675,
            "bin_end": 55.681332000000005,
            "count": 0
           },
           {
            "bin_start": 55.681332000000005,
            "bin_end": 55.683989000000004,
            "count": 0
           },
           {
            "bin_start": 55.683989000000004,
            "bin_end": 55.686646,
            "count": 1
           },
           {
            "bin_start": 55.686646,
            "bin_end": 55.689303,
            "count": 0
           },
           {
            "bin_start": 55.689303,
            "bin_end": 55.69196,
            "count": 1
           }
          ]
         }
        },
        {
         "name": "longitude",
         "dtype": "float64",
         "stats": {
          "unique_count": 5,
          "nan_count": 0,
          "min": "12.54741",
          "max": "12.57637",
          "histogram": [
           {
            "bin_start": 12.54741,
            "bin_end": 12.550305999999999,
            "count": 1
           },
           {
            "bin_start": 12.550305999999999,
            "bin_end": 12.553201999999999,
            "count": 0
           },
           {
            "bin_start": 12.553201999999999,
            "bin_end": 12.556098,
            "count": 2
           },
           {
            "bin_start": 12.556098,
            "bin_end": 12.558994,
            "count": 1
           },
           {
            "bin_start": 12.558994,
            "bin_end": 12.56189,
            "count": 0
           },
           {
            "bin_start": 12.56189,
            "bin_end": 12.564786,
            "count": 0
           },
           {
            "bin_start": 12.564786,
            "bin_end": 12.567682,
            "count": 0
           },
           {
            "bin_start": 12.567682,
            "bin_end": 12.570578000000001,
            "count": 0
           },
           {
            "bin_start": 12.570578000000001,
            "bin_end": 12.573474000000001,
            "count": 0
           },
           {
            "bin_start": 12.573474000000001,
            "bin_end": 12.57637,
            "count": 1
           }
          ]
         }
        },
        {
         "name": "property_type",
         "dtype": "object",
         "stats": {
          "unique_count": 3,
          "nan_count": 0,
          "categories": [
           {
            "name": "Entire apartment",
            "count": 3
           },
           {
            "name": "Private room in apartment",
            "count": 1
           },
           {
            "name": "Entire house",
            "count": 1
           }
          ]
         }
        },
        {
         "name": "room_type",
         "dtype": "object",
         "stats": {
          "unique_count": 2,
          "nan_count": 0,
          "categories": [
           {
            "name": "Entire home/apt",
            "count": 4
           },
           {
            "name": "Private room",
            "count": 1
           }
          ]
         }
        },
        {
         "name": "accommodates",
         "dtype": "int64",
         "stats": {
          "unique_count": 4,
          "nan_count": 0,
          "min": "2",
          "max": "6",
          "histogram": [
           {
            "bin_start": 2,
            "bin_end": 2.4,
            "count": 2
           },
           {
            "bin_start": 2.4,
            "bin_end": 2.8,
            "count": 0
           },
           {
            "bin_start": 2.8,
            "bin_end": 3.2,
            "count": 1
           },
           {
            "bin_start": 3.2,
            "bin_end": 3.6,
            "count": 0
           },
           {
            "bin_start": 3.6,
            "bin_end": 4,
            "count": 0
           },
           {
            "bin_start": 4,
            "bin_end": 4.4,
            "count": 0
           },
           {
            "bin_start": 4.4,
            "bin_end": 4.800000000000001,
            "count": 0
           },
           {
            "bin_start": 4.800000000000001,
            "bin_end": 5.2,
            "count": 1
           },
           {
            "bin_start": 5.2,
            "bin_end": 5.6,
            "count": 0
           },
           {
            "bin_start": 5.6,
            "bin_end": 6,
            "count": 1
           }
          ]
         }
        },
        {
         "name": "bathrooms",
         "dtype": "float64",
         "stats": {
          "unique_count": 0,
          "nan_count": 5,
          "min": null,
          "max": null,
          "histogram": [
           {
            "bin_start": 0,
            "bin_end": 0.1,
            "count": 0
           },
           {
            "bin_start": 0.1,
            "bin_end": 0.2,
            "count": 0
           },
           {
            "bin_start": 0.2,
            "bin_end": 0.30000000000000004,
            "count": 0
           },
           {
            "bin_start": 0.30000000000000004,
            "bin_end": 0.4,
            "count": 0
           },
           {
            "bin_start": 0.4,
            "bin_end": 0.5,
            "count": 0
           },
           {
            "bin_start": 0.5,
            "bin_end": 0.6000000000000001,
            "count": 0
           },
           {
            "bin_start": 0.6000000000000001,
            "bin_end": 0.7000000000000001,
            "count": 0
           },
           {
            "bin_start": 0.7000000000000001,
            "bin_end": 0.8,
            "count": 0
           },
           {
            "bin_start": 0.8,
            "bin_end": 0.9,
            "count": 0
           },
           {
            "bin_start": 0.9,
            "bin_end": 1,
            "count": 0
           }
          ]
         }
        },
        {
         "name": "bathrooms_text",
         "dtype": "object",
         "stats": {
          "unique_count": 4,
          "nan_count": 0,
          "categories": [
           {
            "name": "1 bath",
            "count": 2
           },
           {
            "name": "1 shared bath",
            "count": 1
           },
           {
            "name": "2 others",
            "count": 2
           }
          ]
         }
        },
        {
         "name": "bedrooms",
         "dtype": "float64",
         "stats": {
          "unique_count": 3,
          "nan_count": 0,
          "min": "1.0",
          "max": "4.0",
          "histogram": [
           {
            "bin_start": 1,
            "bin_end": 1.3,
            "count": 3
           },
           {
            "bin_start": 1.3,
            "bin_end": 1.6,
            "count": 0
           },
           {
            "bin_start": 1.6,
            "bin_end": 1.9,
            "count": 0
           },
           {
            "bin_start": 1.9,
            "bin_end": 2.2,
            "count": 0
           },
           {
            "bin_start": 2.2,
            "bin_end": 2.5,
            "count": 0
           },
           {
            "bin_start": 2.5,
            "bin_end": 2.8,
            "count": 0
           },
           {
            "bin_start": 2.8,
            "bin_end": 3.1,
            "count": 1
           },
           {
            "bin_start": 3.1,
            "bin_end": 3.4,
            "count": 0
           },
           {
            "bin_start": 3.4,
            "bin_end": 3.6999999999999997,
            "count": 0
           },
           {
            "bin_start": 3.6999999999999997,
            "bin_end": 4,
            "count": 1
           }
          ]
         }
        },
        {
         "name": "beds",
         "dtype": "float64",
         "stats": {
          "unique_count": 3,
          "nan_count": 0,
          "min": "1.0",
          "max": "4.0",
          "histogram": [
           {
            "bin_start": 1,
            "bin_end": 1.3,
            "count": 2
           },
           {
            "bin_start": 1.3,
            "bin_end": 1.6,
            "count": 0
           },
           {
            "bin_start": 1.6,
            "bin_end": 1.9,
            "count": 0
           },
           {
            "bin_start": 1.9,
            "bin_end": 2.2,
            "count": 0
           },
           {
            "bin_start": 2.2,
            "bin_end": 2.5,
            "count": 0
           },
           {
            "bin_start": 2.5,
            "bin_end": 2.8,
            "count": 0
           },
           {
            "bin_start": 2.8,
            "bin_end": 3.1,
            "count": 1
           },
           {
            "bin_start": 3.1,
            "bin_end": 3.4,
            "count": 0
           },
           {
            "bin_start": 3.4,
            "bin_end": 3.6999999999999997,
            "count": 0
           },
           {
            "bin_start": 3.6999999999999997,
            "bin_end": 4,
            "count": 2
           }
          ]
         }
        },
        {
         "name": "amenities",
         "dtype": "object",
         "stats": {
          "unique_count": 5,
          "nan_count": 0,
          "categories": [
           {
            "name": "[\"Cable TV\", \"Paid parking on premises\", \"Iron\", \"Room-darkening shades\", \"Hair dryer\", \"Stove\", \"Hot water\", \"Dishwasher\", \"Oven\", \"Washer\", \"Refrigerator\", \"Bed linens\", \"Microwave\", \"Heating\", \"Wifi\", \"Backyard\", \"Coffee maker\", \"Kitchen\", \"Smoke alarm\", \"Luggage dropoff allowed\", \"TV with standard cable\", \"Dedicated workspace\", \"Cooking basics\", \"Hangers\", \"Dishes and silverware\", \"Essentials\", \"Paid parking off premises\"]",
            "count": 1
           },
           {
            "name": "[\"Iron\", \"Patio or balcony\", \"Hair dryer\", \"Stove\", \"Hot water\", \"Dishwasher\", \"Crib\", \"Indoor fireplace\", \"Oven\", \"Washer\", \"Refrigerator\", \"Shampoo\", \"Long term stays allowed\", \"Bed linens\", \"Heating\", \"Fire extinguisher\", \"TV\", \"Wifi\", \"Backyard\", \"Outdoor furniture\", \"Coffee maker\", \"Bathtub\", \"Kitchen\", \"Smoke alarm\", \"High chair\", \"Dryer\", \"Dedicated workspace\", \"Cooking basics\", \"Hangers\", \"Dishes and silverware\", \"Essentials\"]",
            "count": 1
           },
           {
            "name": "3 others",
            "count": 3
           }
          ]
         }
        },
        {
         "name": "price",
         "dtype": "object",
         "stats": {
          "unique_count": 5,
          "nan_count": 0,
          "categories": [
           {
            "name": "$365.00",
            "count": 1
           },
           {
            "name": "$2,400.00",
            "count": 1
           },
           {
            "name": "3 others",
            "count": 3
           }
          ]
         }
        },
        {
         "name": "minimum_nights",
         "dtype": "int64",
         "stats": {
          "unique_count": 3,
          "nan_count": 0,
          "min": "2",
          "max": "7",
          "histogram": [
           {
            "bin_start": 2,
            "bin_end": 2.5,
            "count": 2
           },
           {
            "bin_start": 2.5,
            "bin_end": 3,
            "count": 0
           },
           {
            "bin_start": 3,
            "bin_end": 3.5,
            "count": 2
           },
           {
            "bin_start": 3.5,
            "bin_end": 4,
            "count": 0
           },
           {
            "bin_start": 4,
            "bin_end": 4.5,
            "count": 0
           },
           {
            "bin_start": 4.5,
            "bin_end": 5,
            "count": 0
           },
           {
            "bin_start": 5,
            "bin_end": 5.5,
            "count": 0
           },
           {
            "bin_start": 5.5,
            "bin_end": 6,
            "count": 0
           },
           {
            "bin_start": 6,
            "bin_end": 6.5,
            "count": 0
           },
           {
            "bin_start": 6.5,
            "bin_end": 7,
            "count": 1
           }
          ]
         }
        },
        {
         "name": "maximum_nights",
         "dtype": "int64",
         "stats": {
          "unique_count": 5,
          "nan_count": 0,
          "min": "10",
          "max": "365",
          "histogram": [
           {
            "bin_start": 10,
            "bin_end": 45.5,
            "count": 4
           },
           {
            "bin_start": 45.5,
            "bin_end": 81,
            "count": 0
           },
           {
            "bin_start": 81,
            "bin_end": 116.5,
            "count": 0
           },
           {
            "bin_start": 116.5,
            "bin_end": 152,
            "count": 0
           },
           {
            "bin_start": 152,
            "bin_end": 187.5,
            "count": 0
           },
           {
            "bin_start": 187.5,
            "bin_end": 223,
            "count": 0
           },
           {
            "bin_start": 223,
            "bin_end": 258.5,
            "count": 0
           },
           {
            "bin_start": 258.5,
            "bin_end": 294,
            "count": 0
           },
           {
            "bin_start": 294,
            "bin_end": 329.5,
            "count": 0
           },
           {
            "bin_start": 329.5,
            "bin_end": 365,
            "count": 1
           }
          ]
         }
        },
        {
         "name": "minimum_minimum_nights",
         "dtype": "int64",
         "stats": {
          "unique_count": 2,
          "nan_count": 0,
          "min": "2",
          "max": "3",
          "histogram": [
           {
            "bin_start": 2,
            "bin_end": 2.1,
            "count": 2
           },
           {
            "bin_start": 2.1,
            "bin_end": 2.2,
            "count": 0
           },
           {
            "bin_start": 2.2,
            "bin_end": 2.3,
            "count": 0
           },
           {
            "bin_start": 2.3,
            "bin_end": 2.4,
            "count": 0
           },
           {
            "bin_start": 2.4,
            "bin_end": 2.5,
            "count": 0
           },
           {
            "bin_start": 2.5,
            "bin_end": 2.6,
            "count": 0
           },
           {
            "bin_start": 2.6,
            "bin_end": 2.7,
            "count": 0
           },
           {
            "bin_start": 2.7,
            "bin_end": 2.8,
            "count": 0
           },
           {
            "bin_start": 2.8,
            "bin_end": 2.9,
            "count": 0
           },
           {
            "bin_start": 2.9,
            "bin_end": 3,
            "count": 3
           }
          ]
         }
        },
        {
         "name": "maximum_minimum_nights",
         "dtype": "int64",
         "stats": {
          "unique_count": 3,
          "nan_count": 0,
          "min": "2",
          "max": "5",
          "histogram": [
           {
            "bin_start": 2,
            "bin_end": 2.3,
            "count": 2
           },
           {
            "bin_start": 2.3,
            "bin_end": 2.6,
            "count": 0
           },
           {
            "bin_start": 2.6,
            "bin_end": 2.9,
            "count": 0
           },
           {
            "bin_start": 2.9,
            "bin_end": 3.2,
            "count": 2
           },
           {
            "bin_start": 3.2,
            "bin_end": 3.5,
            "count": 0
           },
           {
            "bin_start": 3.5,
            "bin_end": 3.8,
            "count": 0
           },
           {
            "bin_start": 3.8,
            "bin_end": 4.1,
            "count": 0
           },
           {
            "bin_start": 4.1,
            "bin_end": 4.4,
            "count": 0
           },
           {
            "bin_start": 4.4,
            "bin_end": 4.699999999999999,
            "count": 0
           },
           {
            "bin_start": 4.699999999999999,
            "bin_end": 5,
            "count": 1
           }
          ]
         }
        },
        {
         "name": "minimum_maximum_nights",
         "dtype": "int64",
         "stats": {
          "unique_count": 5,
          "nan_count": 0,
          "min": "10",
          "max": "1125",
          "histogram": [
           {
            "bin_start": 10,
            "bin_end": 121.5,
            "count": 4
           },
           {
            "bin_start": 121.5,
            "bin_end": 233,
            "count": 0
           },
           {
            "bin_start": 233,
            "bin_end": 344.5,
            "count": 0
           },
           {
            "bin_start": 344.5,
            "bin_end": 456,
            "count": 0
           },
           {
            "bin_start": 456,
            "bin_end": 567.5,
            "count": 0
           },
           {
            "bin_start": 567.5,
            "bin_end": 679,
            "count": 0
           },
           {
            "bin_start": 679,
            "bin_end": 790.5,
            "count": 0
           },
           {
            "bin_start": 790.5,
            "bin_end": 902,
            "count": 0
           },
           {
            "bin_start": 902,
            "bin_end": 1013.5,
            "count": 0
           },
           {
            "bin_start": 1013.5,
            "bin_end": 1125,
            "count": 1
           }
          ]
         }
        },
        {
         "name": "maximum_maximum_nights",
         "dtype": "int64",
         "stats": {
          "unique_count": 5,
          "nan_count": 0,
          "min": "10",
          "max": "1125",
          "histogram": [
           {
            "bin_start": 10,
            "bin_end": 121.5,
            "count": 4
           },
           {
            "bin_start": 121.5,
            "bin_end": 233,
            "count": 0
           },
           {
            "bin_start": 233,
            "bin_end": 344.5,
            "count": 0
           },
           {
            "bin_start": 344.5,
            "bin_end": 456,
            "count": 0
           },
           {
            "bin_start": 456,
            "bin_end": 567.5,
            "count": 0
           },
           {
            "bin_start": 567.5,
            "bin_end": 679,
            "count": 0
           },
           {
            "bin_start": 679,
            "bin_end": 790.5,
            "count": 0
           },
           {
            "bin_start": 790.5,
            "bin_end": 902,
            "count": 0
           },
           {
            "bin_start": 902,
            "bin_end": 1013.5,
            "count": 0
           },
           {
            "bin_start": 1013.5,
            "bin_end": 1125,
            "count": 1
           }
          ]
         }
        },
        {
         "name": "minimum_nights_avg_ntm",
         "dtype": "float64",
         "stats": {
          "unique_count": 3,
          "nan_count": 0,
          "min": "2.0",
          "max": "4.1",
          "histogram": [
           {
            "bin_start": 2,
            "bin_end": 2.21,
            "count": 2
           },
           {
            "bin_start": 2.21,
            "bin_end": 2.42,
            "count": 0
           },
           {
            "bin_start": 2.42,
            "bin_end": 2.63,
            "count": 0
           },
           {
            "bin_start": 2.63,
            "bin_end": 2.84,
            "count": 0
           },
           {
            "bin_start": 2.84,
            "bin_end": 3.05,
            "count": 2
           },
           {
            "bin_start": 3.05,
            "bin_end": 3.26,
            "count": 0
           },
           {
            "bin_start": 3.26,
            "bin_end": 3.4699999999999998,
            "count": 0
           },
           {
            "bin_start": 3.4699999999999998,
            "bin_end": 3.6799999999999997,
            "count": 0
           },
           {
            "bin_start": 3.6799999999999997,
            "bin_end": 3.8899999999999997,
            "count": 0
           },
           {
            "bin_start": 3.8899999999999997,
            "bin_end": 4.1,
            "count": 1
           }
          ]
         }
        },
        {
         "name": "maximum_nights_avg_ntm",
         "dtype": "float64",
         "stats": {
          "unique_count": 5,
          "nan_count": 0,
          "min": "10.0",
          "max": "1125.0",
          "histogram": [
           {
            "bin_start": 10,
            "bin_end": 121.5,
            "count": 4
           },
           {
            "bin_start": 121.5,
            "bin_end": 233,
            "count": 0
           },
           {
            "bin_start": 233,
            "bin_end": 344.5,
            "count": 0
           },
           {
            "bin_start": 344.5,
            "bin_end": 456,
            "count": 0
           },
           {
            "bin_start": 456,
            "bin_end": 567.5,
            "count": 0
           },
           {
            "bin_start": 567.5,
            "bin_end": 679,
            "count": 0
           },
           {
            "bin_start": 679,
            "bin_end": 790.5,
            "count": 0
           },
           {
            "bin_start": 790.5,
            "bin_end": 902,
            "count": 0
           },
           {
            "bin_start": 902,
            "bin_end": 1013.5,
            "count": 0
           },
           {
            "bin_start": 1013.5,
            "bin_end": 1125,
            "count": 1
           }
          ]
         }
        },
        {
         "name": "calendar_updated",
         "dtype": "float64",
         "stats": {
          "unique_count": 0,
          "nan_count": 5,
          "min": null,
          "max": null,
          "histogram": [
           {
            "bin_start": 0,
            "bin_end": 0.1,
            "count": 0
           },
           {
            "bin_start": 0.1,
            "bin_end": 0.2,
            "count": 0
           },
           {
            "bin_start": 0.2,
            "bin_end": 0.30000000000000004,
            "count": 0
           },
           {
            "bin_start": 0.30000000000000004,
            "bin_end": 0.4,
            "count": 0
           },
           {
            "bin_start": 0.4,
            "bin_end": 0.5,
            "count": 0
           },
           {
            "bin_start": 0.5,
            "bin_end": 0.6000000000000001,
            "count": 0
           },
           {
            "bin_start": 0.6000000000000001,
            "bin_end": 0.7000000000000001,
            "count": 0
           },
           {
            "bin_start": 0.7000000000000001,
            "bin_end": 0.8,
            "count": 0
           },
           {
            "bin_start": 0.8,
            "bin_end": 0.9,
            "count": 0
           },
           {
            "bin_start": 0.9,
            "bin_end": 1,
            "count": 0
           }
          ]
         }
        },
        {
         "name": "has_availability",
         "dtype": "object",
         "stats": {
          "unique_count": 1,
          "nan_count": 0,
          "categories": [
           {
            "name": "t",
            "count": 5
           }
          ]
         }
        },
        {
         "name": "availability_30",
         "dtype": "int64",
         "stats": {
          "unique_count": 3,
          "nan_count": 0,
          "min": "0",
          "max": "26",
          "histogram": [
           {
            "bin_start": 0,
            "bin_end": 2.6,
            "count": 4
           },
           {
            "bin_start": 2.6,
            "bin_end": 5.2,
            "count": 0
           },
           {
            "bin_start": 5.2,
            "bin_end": 7.800000000000001,
            "count": 0
           },
           {
            "bin_start": 7.800000000000001,
            "bin_end": 10.4,
            "count": 0
           },
           {
            "bin_start": 10.4,
            "bin_end": 13,
            "count": 0
           },
           {
            "bin_start": 13,
            "bin_end": 15.600000000000001,
            "count": 0
           },
           {
            "bin_start": 15.600000000000001,
            "bin_end": 18.2,
            "count": 0
           },
           {
            "bin_start": 18.2,
            "bin_end": 20.8,
            "count": 0
           },
           {
            "bin_start": 20.8,
            "bin_end": 23.400000000000002,
            "count": 0
           },
           {
            "bin_start": 23.400000000000002,
            "bin_end": 26,
            "count": 1
           }
          ]
         }
        },
        {
         "name": "availability_60",
         "dtype": "int64",
         "stats": {
          "unique_count": 3,
          "nan_count": 0,
          "min": "0",
          "max": "42",
          "histogram": [
           {
            "bin_start": 0,
            "bin_end": 4.2,
            "count": 4
           },
           {
            "bin_start": 4.2,
            "bin_end": 8.4,
            "count": 0
           },
           {
            "bin_start": 8.4,
            "bin_end": 12.600000000000001,
            "count": 0
           },
           {
            "bin_start": 12.600000000000001,
            "bin_end": 16.8,
            "count": 0
           },
           {
            "bin_start": 16.8,
            "bin_end": 21,
            "count": 0
           },
           {
            "bin_start": 21,
            "bin_end": 25.200000000000003,
            "count": 0
           },
           {
            "bin_start": 25.200000000000003,
            "bin_end": 29.400000000000002,
            "count": 0
           },
           {
            "bin_start": 29.400000000000002,
            "bin_end": 33.6,
            "count": 0
           },
           {
            "bin_start": 33.6,
            "bin_end": 37.800000000000004,
            "count": 0
           },
           {
            "bin_start": 37.800000000000004,
            "bin_end": 42,
            "count": 1
           }
          ]
         }
        },
        {
         "name": "availability_90",
         "dtype": "int64",
         "stats": {
          "unique_count": 3,
          "nan_count": 0,
          "min": "0",
          "max": "72",
          "histogram": [
           {
            "bin_start": 0,
            "bin_end": 7.2,
            "count": 4
           },
           {
            "bin_start": 7.2,
            "bin_end": 14.4,
            "count": 0
           },
           {
            "bin_start": 14.4,
            "bin_end": 21.6,
            "count": 0
           },
           {
            "bin_start": 21.6,
            "bin_end": 28.8,
            "count": 0
           },
           {
            "bin_start": 28.8,
            "bin_end": 36,
            "count": 0
           },
           {
            "bin_start": 36,
            "bin_end": 43.2,
            "count": 0
           },
           {
            "bin_start": 43.2,
            "bin_end": 50.4,
            "count": 0
           },
           {
            "bin_start": 50.4,
            "bin_end": 57.6,
            "count": 0
           },
           {
            "bin_start": 57.6,
            "bin_end": 64.8,
            "count": 0
           },
           {
            "bin_start": 64.8,
            "bin_end": 72,
            "count": 1
           }
          ]
         }
        },
        {
         "name": "availability_365",
         "dtype": "int64",
         "stats": {
          "unique_count": 4,
          "nan_count": 0,
          "min": "0",
          "max": "347",
          "histogram": [
           {
            "bin_start": 0,
            "bin_end": 34.7,
            "count": 2
           },
           {
            "bin_start": 34.7,
            "bin_end": 69.4,
            "count": 1
           },
           {
            "bin_start": 69.4,
            "bin_end": 104.10000000000001,
            "count": 1
           },
           {
            "bin_start": 104.10000000000001,
            "bin_end": 138.8,
            "count": 0
           },
           {
            "bin_start": 138.8,
            "bin_end": 173.5,
            "count": 0
           },
           {
            "bin_start": 173.5,
            "bin_end": 208.20000000000002,
            "count": 0
           },
           {
            "bin_start": 208.20000000000002,
            "bin_end": 242.90000000000003,
            "count": 0
           },
           {
            "bin_start": 242.90000000000003,
            "bin_end": 277.6,
            "count": 0
           },
           {
            "bin_start": 277.6,
            "bin_end": 312.3,
            "count": 0
           },
           {
            "bin_start": 312.3,
            "bin_end": 347,
            "count": 1
           }
          ]
         }
        },
        {
         "name": "calendar_last_scraped",
         "dtype": "object",
         "stats": {
          "unique_count": 1,
          "nan_count": 0,
          "categories": [
           {
            "name": "2021-07-20",
            "count": 5
           }
          ]
         }
        },
        {
         "name": "number_of_reviews",
         "dtype": "int64",
         "stats": {
          "unique_count": 5,
          "nan_count": 0,
          "min": "17",
          "max": "168",
          "histogram": [
           {
            "bin_start": 17,
            "bin_end": 32.1,
            "count": 2
           },
           {
            "bin_start": 32.1,
            "bin_end": 47.2,
            "count": 0
           },
           {
            "bin_start": 47.2,
            "bin_end": 62.3,
            "count": 1
           },
           {
            "bin_start": 62.3,
            "bin_end": 77.4,
            "count": 1
           },
           {
            "bin_start": 77.4,
            "bin_end": 92.5,
            "count": 0
           },
           {
            "bin_start": 92.5,
            "bin_end": 107.6,
            "count": 0
           },
           {
            "bin_start": 107.6,
            "bin_end": 122.7,
            "count": 0
           },
           {
            "bin_start": 122.7,
            "bin_end": 137.8,
            "count": 0
           },
           {
            "bin_start": 137.8,
            "bin_end": 152.9,
            "count": 0
           },
           {
            "bin_start": 152.9,
            "bin_end": 168,
            "count": 1
           }
          ]
         }
        },
        {
         "name": "number_of_reviews_ltm",
         "dtype": "int64",
         "stats": {
          "unique_count": 1,
          "nan_count": 0,
          "min": "0",
          "max": "0",
          "histogram": [
           {
            "bin_start": -0.5,
            "bin_end": -0.4,
            "count": 0
           },
           {
            "bin_start": -0.4,
            "bin_end": -0.3,
            "count": 0
           },
           {
            "bin_start": -0.3,
            "bin_end": -0.19999999999999996,
            "count": 0
           },
           {
            "bin_start": -0.19999999999999996,
            "bin_end": -0.09999999999999998,
            "count": 0
           },
           {
            "bin_start": -0.09999999999999998,
            "bin_end": 0,
            "count": 0
           },
           {
            "bin_start": 0,
            "bin_end": 0.10000000000000009,
            "count": 5
           },
           {
            "bin_start": 0.10000000000000009,
            "bin_end": 0.20000000000000007,
            "count": 0
           },
           {
            "bin_start": 0.20000000000000007,
            "bin_end": 0.30000000000000004,
            "count": 0
           },
           {
            "bin_start": 0.30000000000000004,
            "bin_end": 0.4,
            "count": 0
           },
           {
            "bin_start": 0.4,
            "bin_end": 0.5,
            "count": 0
           }
          ]
         }
        },
        {
         "name": "number_of_reviews_l30d",
         "dtype": "int64",
         "stats": {
          "unique_count": 1,
          "nan_count": 0,
          "min": "0",
          "max": "0",
          "histogram": [
           {
            "bin_start": -0.5,
            "bin_end": -0.4,
            "count": 0
           },
           {
            "bin_start": -0.4,
            "bin_end": -0.3,
            "count": 0
           },
           {
            "bin_start": -0.3,
            "bin_end": -0.19999999999999996,
            "count": 0
           },
           {
            "bin_start": -0.19999999999999996,
            "bin_end": -0.09999999999999998,
            "count": 0
           },
           {
            "bin_start": -0.09999999999999998,
            "bin_end": 0,
            "count": 0
           },
           {
            "bin_start": 0,
            "bin_end": 0.10000000000000009,
            "count": 5
           },
           {
            "bin_start": 0.10000000000000009,
            "bin_end": 0.20000000000000007,
            "count": 0
           },
           {
            "bin_start": 0.20000000000000007,
            "bin_end": 0.30000000000000004,
            "count": 0
           },
           {
            "bin_start": 0.30000000000000004,
            "bin_end": 0.4,
            "count": 0
           },
           {
            "bin_start": 0.4,
            "bin_end": 0.5,
            "count": 0
           }
          ]
         }
        },
        {
         "name": "first_review",
         "dtype": "object",
         "stats": {
          "unique_count": 5,
          "nan_count": 0,
          "categories": [
           {
            "name": "2013-01-02",
            "count": 1
           },
           {
            "name": "2016-02-06",
            "count": 1
           },
           {
            "name": "3 others",
            "count": 3
           }
          ]
         }
        },
        {
         "name": "last_review",
         "dtype": "object",
         "stats": {
          "unique_count": 5,
          "nan_count": 0,
          "categories": [
           {
            "name": "2018-11-23",
            "count": 1
           },
           {
            "name": "2019-12-14",
            "count": 1
           },
           {
            "name": "3 others",
            "count": 3
           }
          ]
         }
        },
        {
         "name": "review_scores_rating",
         "dtype": "float64",
         "stats": {
          "unique_count": 5,
          "nan_count": 0,
          "min": "4.78",
          "max": "4.91",
          "histogram": [
           {
            "bin_start": 4.78,
            "bin_end": 4.793,
            "count": 1
           },
           {
            "bin_start": 4.793,
            "bin_end": 4.806,
            "count": 0
           },
           {
            "bin_start": 4.806,
            "bin_end": 4.819,
            "count": 0
           },
           {
            "bin_start": 4.819,
            "bin_end": 4.832,
            "count": 0
           },
           {
            "bin_start": 4.832,
            "bin_end": 4.845000000000001,
            "count": 0
           },
           {
            "bin_start": 4.845000000000001,
            "bin_end": 4.8580000000000005,
            "count": 0
           },
           {
            "bin_start": 4.8580000000000005,
            "bin_end": 4.871,
            "count": 1
           },
           {
            "bin_start": 4.871,
            "bin_end": 4.884,
            "count": 0
           },
           {
            "bin_start": 4.884,
            "bin_end": 4.897,
            "count": 1
           },
           {
            "bin_start": 4.897,
            "bin_end": 4.91,
            "count": 2
           }
          ]
         }
        },
        {
         "name": "review_scores_accuracy",
         "dtype": "float64",
         "stats": {
          "unique_count": 5,
          "nan_count": 0,
          "min": "4.78",
          "max": "4.96",
          "histogram": [
           {
            "bin_start": 4.78,
            "bin_end": 4.798,
            "count": 1
           },
           {
            "bin_start": 4.798,
            "bin_end": 4.816,
            "count": 1
           },
           {
            "bin_start": 4.816,
            "bin_end": 4.8340000000000005,
            "count": 0
           },
           {
            "bin_start": 4.8340000000000005,
            "bin_end": 4.852,
            "count": 1
           },
           {
            "bin_start": 4.852,
            "bin_end": 4.87,
            "count": 0
           },
           {
            "bin_start": 4.87,
            "bin_end": 4.888,
            "count": 0
           },
           {
            "bin_start": 4.888,
            "bin_end": 4.906,
            "count": 0
           },
           {
            "bin_start": 4.906,
            "bin_end": 4.924,
            "count": 1
           },
           {
            "bin_start": 4.924,
            "bin_end": 4.942,
            "count": 0
           },
           {
            "bin_start": 4.942,
            "bin_end": 4.96,
            "count": 1
           }
          ]
         }
        },
        {
         "name": "review_scores_cleanliness",
         "dtype": "float64",
         "stats": {
          "unique_count": 5,
          "nan_count": 0,
          "min": "4.77",
          "max": "4.96",
          "histogram": [
           {
            "bin_start": 4.77,
            "bin_end": 4.789,
            "count": 2
           },
           {
            "bin_start": 4.789,
            "bin_end": 4.808,
            "count": 0
           },
           {
            "bin_start": 4.808,
            "bin_end": 4.827,
            "count": 0
           },
           {
            "bin_start": 4.827,
            "bin_end": 4.846,
            "count": 0
           },
           {
            "bin_start": 4.846,
            "bin_end": 4.865,
            "count": 0
           },
           {
            "bin_start": 4.865,
            "bin_end": 4.8839999999999995,
            "count": 1
           },
           {
            "bin_start": 4.8839999999999995,
            "bin_end": 4.903,
            "count": 0
           },
           {
            "bin_start": 4.903,
            "bin_end": 4.922,
            "count": 0
           },
           {
            "bin_start": 4.922,
            "bin_end": 4.941,
            "count": 1
           },
           {
            "bin_start": 4.941,
            "bin_end": 4.96,
            "count": 1
           }
          ]
         }
        },
        {
         "name": "review_scores_checkin",
         "dtype": "float64",
         "stats": {
          "unique_count": 5,
          "nan_count": 0,
          "min": "4.85",
          "max": "5.0",
          "histogram": [
           {
            "bin_start": 4.85,
            "bin_end": 4.864999999999999,
            "count": 2
           },
           {
            "bin_start": 4.864999999999999,
            "bin_end": 4.88,
            "count": 1
           },
           {
            "bin_start": 4.88,
            "bin_end": 4.895,
            "count": 0
           },
           {
            "bin_start": 4.895,
            "bin_end": 4.91,
            "count": 0
           },
           {
            "bin_start": 4.91,
            "bin_end": 4.925,
            "count": 1
           },
           {
            "bin_start": 4.925,
            "bin_end": 4.9399999999999995,
            "count": 0
           },
           {
            "bin_start": 4.9399999999999995,
            "bin_end": 4.955,
            "count": 0
           },
           {
            "bin_start": 4.955,
            "bin_end": 4.97,
            "count": 0
           },
           {
            "bin_start": 4.97,
            "bin_end": 4.985,
            "count": 0
           },
           {
            "bin_start": 4.985,
            "bin_end": 5,
            "count": 1
           }
          ]
         }
        },
        {
         "name": "review_scores_communication",
         "dtype": "float64",
         "stats": {
          "unique_count": 4,
          "nan_count": 0,
          "min": "4.8",
          "max": "5.0",
          "histogram": [
           {
            "bin_start": 4.8,
            "bin_end": 4.82,
            "count": 1
           },
           {
            "bin_start": 4.82,
            "bin_end": 4.84,
            "count": 1
           },
           {
            "bin_start": 4.84,
            "bin_end": 4.859999999999999,
            "count": 0
           },
           {
            "bin_start": 4.859999999999999,
            "bin_end": 4.88,
            "count": 0
           },
           {
            "bin_start": 4.88,
            "bin_end": 4.9,
            "count": 0
           },
           {
            "bin_start": 4.9,
            "bin_end": 4.92,
            "count": 2
           },
           {
            "bin_start": 4.92,
            "bin_end": 4.9399999999999995,
            "count": 0
           },
           {
            "bin_start": 4.9399999999999995,
            "bin_end": 4.96,
            "count": 0
           },
           {
            "bin_start": 4.96,
            "bin_end": 4.98,
            "count": 0
           },
           {
            "bin_start": 4.98,
            "bin_end": 5,
            "count": 1
           }
          ]
         }
        },
        {
         "name": "review_scores_location",
         "dtype": "float64",
         "stats": {
          "unique_count": 4,
          "nan_count": 0,
          "min": "4.72",
          "max": "4.96",
          "histogram": [
           {
            "bin_start": 4.72,
            "bin_end": 4.744,
            "count": 1
           },
           {
            "bin_start": 4.744,
            "bin_end": 4.768,
            "count": 0
           },
           {
            "bin_start": 4.768,
            "bin_end": 4.792,
            "count": 0
           },
           {
            "bin_start": 4.792,
            "bin_end": 4.816,
            "count": 0
           },
           {
            "bin_start": 4.816,
            "bin_end": 4.84,
            "count": 0
           },
           {
            "bin_start": 4.84,
            "bin_end": 4.864,
            "count": 2
           },
           {
            "bin_start": 4.864,
            "bin_end": 4.888,
            "count": 1
           },
           {
            "bin_start": 4.888,
            "bin_end": 4.912,
            "count": 0
           },
           {
            "bin_start": 4.912,
            "bin_end": 4.936,
            "count": 0
           },
           {
            "bin_start": 4.936,
            "bin_end": 4.96,
            "count": 1
           }
          ]
         }
        },
        {
         "name": "review_scores_value",
         "dtype": "float64",
         "stats": {
          "unique_count": 5,
          "nan_count": 0,
          "min": "4.46",
          "max": "4.82",
          "histogram": [
           {
            "bin_start": 4.46,
            "bin_end": 4.496,
            "count": 1
           },
           {
            "bin_start": 4.496,
            "bin_end": 4.532,
            "count": 0
           },
           {
            "bin_start": 4.532,
            "bin_end": 4.568,
            "count": 0
           },
           {
            "bin_start": 4.568,
            "bin_end": 4.604,
            "count": 0
           },
           {
            "bin_start": 4.604,
            "bin_end": 4.640000000000001,
            "count": 0
           },
           {
            "bin_start": 4.640000000000001,
            "bin_end": 4.676,
            "count": 0
           },
           {
            "bin_start": 4.676,
            "bin_end": 4.712,
            "count": 2
           },
           {
            "bin_start": 4.712,
            "bin_end": 4.748,
            "count": 0
           },
           {
            "bin_start": 4.748,
            "bin_end": 4.784000000000001,
            "count": 1
           },
           {
            "bin_start": 4.784000000000001,
            "bin_end": 4.82,
            "count": 1
           }
          ]
         }
        },
        {
         "name": "license",
         "dtype": "float64",
         "stats": {
          "unique_count": 0,
          "nan_count": 5,
          "min": null,
          "max": null,
          "histogram": [
           {
            "bin_start": 0,
            "bin_end": 0.1,
            "count": 0
           },
           {
            "bin_start": 0.1,
            "bin_end": 0.2,
            "count": 0
           },
           {
            "bin_start": 0.2,
            "bin_end": 0.30000000000000004,
            "count": 0
           },
           {
            "bin_start": 0.30000000000000004,
            "bin_end": 0.4,
            "count": 0
           },
           {
            "bin_start": 0.4,
            "bin_end": 0.5,
            "count": 0
           },
           {
            "bin_start": 0.5,
            "bin_end": 0.6000000000000001,
            "count": 0
           },
           {
            "bin_start": 0.6000000000000001,
            "bin_end": 0.7000000000000001,
            "count": 0
           },
           {
            "bin_start": 0.7000000000000001,
            "bin_end": 0.8,
            "count": 0
           },
           {
            "bin_start": 0.8,
            "bin_end": 0.9,
            "count": 0
           },
           {
            "bin_start": 0.9,
            "bin_end": 1,
            "count": 0
           }
          ]
         }
        },
        {
         "name": "instant_bookable",
         "dtype": "object",
         "stats": {
          "unique_count": 2,
          "nan_count": 0,
          "categories": [
           {
            "name": "f",
            "count": 4
           },
           {
            "name": "t",
            "count": 1
           }
          ]
         }
        },
        {
         "name": "calculated_host_listings_count",
         "dtype": "int64",
         "stats": {
          "unique_count": 1,
          "nan_count": 0,
          "min": "1",
          "max": "1",
          "histogram": [
           {
            "bin_start": 0.5,
            "bin_end": 0.6,
            "count": 0
           },
           {
            "bin_start": 0.6,
            "bin_end": 0.7,
            "count": 0
           },
           {
            "bin_start": 0.7,
            "bin_end": 0.8,
            "count": 0
           },
           {
            "bin_start": 0.8,
            "bin_end": 0.9,
            "count": 0
           },
           {
            "bin_start": 0.9,
            "bin_end": 1,
            "count": 0
           },
           {
            "bin_start": 1,
            "bin_end": 1.1,
            "count": 5
           },
           {
            "bin_start": 1.1,
            "bin_end": 1.2000000000000002,
            "count": 0
           },
           {
            "bin_start": 1.2000000000000002,
            "bin_end": 1.3,
            "count": 0
           },
           {
            "bin_start": 1.3,
            "bin_end": 1.4,
            "count": 0
           },
           {
            "bin_start": 1.4,
            "bin_end": 1.5,
            "count": 0
           }
          ]
         }
        },
        {
         "name": "calculated_host_listings_count_entire_homes",
         "dtype": "int64",
         "stats": {
          "unique_count": 2,
          "nan_count": 0,
          "min": "0",
          "max": "1",
          "histogram": [
           {
            "bin_start": 0,
            "bin_end": 0.1,
            "count": 1
           },
           {
            "bin_start": 0.1,
            "bin_end": 0.2,
            "count": 0
           },
           {
            "bin_start": 0.2,
            "bin_end": 0.30000000000000004,
            "count": 0
           },
           {
            "bin_start": 0.30000000000000004,
            "bin_end": 0.4,
            "count": 0
           },
           {
            "bin_start": 0.4,
            "bin_end": 0.5,
            "count": 0
           },
           {
            "bin_start": 0.5,
            "bin_end": 0.6000000000000001,
            "count": 0
           },
           {
            "bin_start": 0.6000000000000001,
            "bin_end": 0.7000000000000001,
            "count": 0
           },
           {
            "bin_start": 0.7000000000000001,
            "bin_end": 0.8,
            "count": 0
           },
           {
            "bin_start": 0.8,
            "bin_end": 0.9,
            "count": 0
           },
           {
            "bin_start": 0.9,
            "bin_end": 1,
            "count": 4
           }
          ]
         }
        },
        {
         "name": "calculated_host_listings_count_private_rooms",
         "dtype": "int64",
         "stats": {
          "unique_count": 2,
          "nan_count": 0,
          "min": "0",
          "max": "1",
          "histogram": [
           {
            "bin_start": 0,
            "bin_end": 0.1,
            "count": 4
           },
           {
            "bin_start": 0.1,
            "bin_end": 0.2,
            "count": 0
           },
           {
            "bin_start": 0.2,
            "bin_end": 0.30000000000000004,
            "count": 0
           },
           {
            "bin_start": 0.30000000000000004,
            "bin_end": 0.4,
            "count": 0
           },
           {
            "bin_start": 0.4,
            "bin_end": 0.5,
            "count": 0
           },
           {
            "bin_start": 0.5,
            "bin_end": 0.6000000000000001,
            "count": 0
           },
           {
            "bin_start": 0.6000000000000001,
            "bin_end": 0.7000000000000001,
            "count": 0
           },
           {
            "bin_start": 0.7000000000000001,
            "bin_end": 0.8,
            "count": 0
           },
           {
            "bin_start": 0.8,
            "bin_end": 0.9,
            "count": 0
           },
           {
            "bin_start": 0.9,
            "bin_end": 1,
            "count": 1
           }
          ]
         }
        },
        {
         "name": "calculated_host_listings_count_shared_rooms",
         "dtype": "int64",
         "stats": {
          "unique_count": 1,
          "nan_count": 0,
          "min": "0",
          "max": "0",
          "histogram": [
           {
            "bin_start": -0.5,
            "bin_end": -0.4,
            "count": 0
           },
           {
            "bin_start": -0.4,
            "bin_end": -0.3,
            "count": 0
           },
           {
            "bin_start": -0.3,
            "bin_end": -0.19999999999999996,
            "count": 0
           },
           {
            "bin_start": -0.19999999999999996,
            "bin_end": -0.09999999999999998,
            "count": 0
           },
           {
            "bin_start": -0.09999999999999998,
            "bin_end": 0,
            "count": 0
           },
           {
            "bin_start": 0,
            "bin_end": 0.10000000000000009,
            "count": 5
           },
           {
            "bin_start": 0.10000000000000009,
            "bin_end": 0.20000000000000007,
            "count": 0
           },
           {
            "bin_start": 0.20000000000000007,
            "bin_end": 0.30000000000000004,
            "count": 0
           },
           {
            "bin_start": 0.30000000000000004,
            "bin_end": 0.4,
            "count": 0
           },
           {
            "bin_start": 0.4,
            "bin_end": 0.5,
            "count": 0
           }
          ]
         }
        },
        {
         "name": "reviews_per_month",
         "dtype": "float64",
         "stats": {
          "unique_count": 5,
          "nan_count": 0,
          "min": "0.27",
          "max": "1.61",
          "histogram": [
           {
            "bin_start": 0.27,
            "bin_end": 0.404,
            "count": 2
           },
           {
            "bin_start": 0.404,
            "bin_end": 0.538,
            "count": 0
           },
           {
            "bin_start": 0.538,
            "bin_end": 0.672,
            "count": 1
           },
           {
            "bin_start": 0.672,
            "bin_end": 0.806,
            "count": 1
           },
           {
            "bin_start": 0.806,
            "bin_end": 0.9400000000000001,
            "count": 0
           },
           {
            "bin_start": 0.9400000000000001,
            "bin_end": 1.074,
            "count": 0
           },
           {
            "bin_start": 1.074,
            "bin_end": 1.2080000000000002,
            "count": 0
           },
           {
            "bin_start": 1.2080000000000002,
            "bin_end": 1.342,
            "count": 0
           },
           {
            "bin_start": 1.342,
            "bin_end": 1.476,
            "count": 0
           },
           {
            "bin_start": 1.476,
            "bin_end": 1.61,
            "count": 1
           }
          ]
         }
        },
        {
         "name": "_deepnote_index_column",
         "dtype": "int64"
        }
       ],
       "rows_top": [
        {
         "id": 6983,
         "listing_url": "https://www.airbnb.com/rooms/6983",
         "scrape_id": 20210720033302,
         "last_scraped": "2021-07-20",
         "name": "Copenhagen 'N Livin'",
         "description": "Lovely apartment located in the hip Nørrebro area, close to bars, cafés and restaurants.<br />The r…",
         "neighborhood_overview": "Nice bars and cozy cafes just minutes away, yet the street itself is quiet and you won't be bothere…",
         "picture_url": "https://a0.muscache.com/pictures/42044170/f63c4d99_original.jpg",
         "host_id": 16774,
         "host_url": "https://www.airbnb.com/users/show/16774",
         "host_name": "Simon",
         "host_since": "2009-05-12",
         "host_location": "Copenhagen, Capital Region of Denmark, Denmark",
         "host_about": "I'm currently working as an environmental consultant for a large engineering consultancy in Copenha…",
         "host_response_time": "within a day",
         "host_response_rate": "100%",
         "host_acceptance_rate": "nan",
         "host_is_superhost": "f",
         "host_thumbnail_url": "https://a0.muscache.com/im/users/16774/profile_pic/1401276934/original.jpg?aki_policy=profile_small",
         "host_picture_url": "https://a0.muscache.com/im/users/16774/profile_pic/1401276934/original.jpg?aki_policy=profile_x_med…",
         "host_neighbourhood": "Nørrebro",
         "host_listings_count": 1,
         "host_total_listings_count": 1,
         "host_verifications": "['email', 'phone', 'reviews']",
         "host_has_profile_pic": "t",
         "host_identity_verified": "f",
         "neighbourhood": "Copenhagen, Hovedstaden, Denmark",
         "neighbourhood_cleansed": "Nrrebro",
         "neighbourhood_group_cleansed": "nan",
         "latitude": 55.68641,
         "longitude": 12.54741,
         "property_type": "Private room in apartment",
         "room_type": "Private room",
         "accommodates": 2,
         "bathrooms": "nan",
         "bathrooms_text": "1 shared bath",
         "bedrooms": 1,
         "beds": 1,
         "amenities": "[\"Cable TV\", \"Paid parking on premises\", \"Iron\", \"Room-darkening shades\", \"Hair dryer\", \"Stove\", \"H…",
         "price": "$365.00",
         "minimum_nights": 2,
         "maximum_nights": 15,
         "minimum_minimum_nights": 2,
         "maximum_minimum_nights": 2,
         "minimum_maximum_nights": 15,
         "maximum_maximum_nights": 15,
         "minimum_nights_avg_ntm": 2,
         "maximum_nights_avg_ntm": 15,
         "calendar_updated": "nan",
         "has_availability": "t",
         "availability_30": 0,
         "availability_60": 0,
         "availability_90": 0,
         "availability_365": 0,
         "calendar_last_scraped": "2021-07-20",
         "number_of_reviews": 168,
         "number_of_reviews_ltm": 0,
         "number_of_reviews_l30d": 0,
         "first_review": "2013-01-02",
         "last_review": "2018-11-23",
         "review_scores_rating": 4.78,
         "review_scores_accuracy": 4.78,
         "review_scores_cleanliness": 4.78,
         "review_scores_checkin": 4.87,
         "review_scores_communication": 4.9,
         "review_scores_location": 4.72,
         "review_scores_value": 4.71,
         "license": "nan",
         "instant_bookable": "f",
         "calculated_host_listings_count": 1,
         "calculated_host_listings_count_entire_homes": 0,
         "calculated_host_listings_count_private_rooms": 1,
         "calculated_host_listings_count_shared_rooms": 0,
         "reviews_per_month": 1.61,
         "_deepnote_index_column": 0
        },
        {
         "id": 26057,
         "listing_url": "https://www.airbnb.com/rooms/26057",
         "scrape_id": 20210720033302,
         "last_scraped": "2021-07-20",
         "name": "Lovely house - most attractive area",
         "description": "Our lovely house in the center of the city is placed in a small silence street. 50 meter from the p…",
         "neighborhood_overview": "The neighborhood is the most famous one and the most \"upper-class\" in the city center. You are in a…",
         "picture_url": "https://a0.muscache.com/pictures/miso/Hosting-26057/original/e9c69708-06a4-4e8e-9adb-61ebbcc3457a.j…",
         "host_id": 109777,
         "host_url": "https://www.airbnb.com/users/show/109777",
         "host_name": "Kari",
         "host_since": "2010-04-17",
         "host_location": "København, Denmark",
         "host_about": "We are a family with 2 children, and living in a great and beautiful house placed in a very special…",
         "host_response_time": "nan",
         "host_response_rate": "nan",
         "host_acceptance_rate": "nan",
         "host_is_superhost": "f",
         "host_thumbnail_url": "https://a0.muscache.com/im/users/109777/profile_pic/1359537563/original.jpg?aki_policy=profile_small",
         "host_picture_url": "https://a0.muscache.com/im/users/109777/profile_pic/1359537563/original.jpg?aki_policy=profile_x_me…",
         "host_neighbourhood": "Indre By",
         "host_listings_count": 1,
         "host_total_listings_count": 1,
         "host_verifications": "['email', 'phone', 'reviews', 'jumio', 'offline_government_id', 'government_id']",
         "host_has_profile_pic": "t",
         "host_identity_verified": "t",
         "neighbourhood": "Copenhagen, Hovedstaden, Denmark",
         "neighbourhood_cleansed": "Indre By",
         "neighbourhood_group_cleansed": "nan",
         "latitude": 55.69196,
         "longitude": 12.57637,
         "property_type": "Entire house",
         "room_type": "Entire home/apt",
         "accommodates": 6,
         "bathrooms": "nan",
         "bathrooms_text": "1.5 baths",
         "bedrooms": 4,
         "beds": 4,
         "amenities": "[\"Iron\", \"Patio or balcony\", \"Hair dryer\", \"Stove\", \"Hot water\", \"Dishwasher\", \"Crib\", \"Indoor fire…",
         "price": "$2,400.00",
         "minimum_nights": 3,
         "maximum_nights": 30,
         "minimum_minimum_nights": 3,
         "maximum_minimum_nights": 3,
         "minimum_maximum_nights": 30,
         "maximum_maximum_nights": 30,
         "minimum_nights_avg_ntm": 3,
         "maximum_nights_avg_ntm": 30,
         "calendar_updated": "nan",
         "has_availability": "t",
         "availability_30": 26,
         "availability_60": 42,
         "availability_90": 72,
         "availability_365": 347,
         "calendar_last_scraped": "2021-07-20",
         "number_of_reviews": 50,
         "number_of_reviews_ltm": 0,
         "number_of_reviews_l30d": 0,
         "first_review": "2016-02-06",
         "last_review": "2019-12-14",
         "review_scores_rating": 4.9,
         "review_scores_accuracy": 4.91,
         "review_scores_cleanliness": 4.96,
         "review_scores_checkin": 4.91,
         "review_scores_communication": 4.83,
         "review_scores_location": 4.96,
         "review_scores_value": 4.82,
         "license": "nan",
         "instant_bookable": "f",
         "calculated_host_listings_count": 1,
         "calculated_host_listings_count_entire_homes": 1,
         "calculated_host_listings_count_private_rooms": 0,
         "calculated_host_listings_count_shared_rooms": 0,
         "reviews_per_month": 0.75,
         "_deepnote_index_column": 1
        },
        {
         "id": 29118,
         "listing_url": "https://www.airbnb.com/rooms/29118",
         "scrape_id": 20210720033302,
         "last_scraped": "2021-07-20",
         "name": "Best Location in Cool Istedgade",
         "description": "<b>The space</b><br />The apartment is situated in the middle of the lively Istedgade, with lots of…",
         "neighborhood_overview": "nan",
         "picture_url": "https://a0.muscache.com/pictures/236213/33956c43_original.jpg",
         "host_id": 125230,
         "host_url": "https://www.airbnb.com/users/show/125230",
         "host_name": "Nana",
         "host_since": "2010-05-15",
         "host_location": "Copenhagen, Denmark",
         "host_about": "I have a Master of Arts in Musicology and I work as vocal coach and a singer and I LOVE to travel a…",
         "host_response_time": "within a few hours",
         "host_response_rate": "100%",
         "host_acceptance_rate": "100%",
         "host_is_superhost": "f",
         "host_thumbnail_url": "https://a0.muscache.com/im/users/125230/profile_pic/1371558644/original.jpg?aki_policy=profile_small",
         "host_picture_url": "https://a0.muscache.com/im/users/125230/profile_pic/1371558644/original.jpg?aki_policy=profile_x_me…",
         "host_neighbourhood": "Vesterbro",
         "host_listings_count": 1,
         "host_total_listings_count": 1,
         "host_verifications": "['email', 'phone', 'reviews', 'offline_government_id', 'government_id']",
         "host_has_profile_pic": "t",
         "host_identity_verified": "t",
         "neighbourhood": "nan",
         "neighbourhood_cleansed": "Vesterbro-Kongens Enghave",
         "neighbourhood_group_cleansed": "nan",
         "latitude": 55.67023,
         "longitude": 12.55504,
         "property_type": "Entire apartment",
         "room_type": "Entire home/apt",
         "accommodates": 2,
         "bathrooms": "nan",
         "bathrooms_text": "1 bath",
         "bedrooms": 1,
         "beds": 1,
         "amenities": "[\"Iron\", \"Room-darkening shades\", \"Host greets you\", \"Patio or balcony\", \"Hair dryer\", \"Children\\u2…",
         "price": "$729.00",
         "minimum_nights": 7,
         "maximum_nights": 14,
         "minimum_minimum_nights": 3,
         "maximum_minimum_nights": 5,
         "minimum_maximum_nights": 14,
         "maximum_maximum_nights": 14,
         "minimum_nights_avg_ntm": 4.1,
         "maximum_nights_avg_ntm": 14,
         "calendar_updated": "nan",
         "has_availability": "t",
         "availability_30": 0,
         "availability_60": 0,
         "availability_90": 0,
         "availability_365": 46,
         "calendar_last_scraped": "2021-07-20",
         "number_of_reviews": 22,
         "number_of_reviews_ltm": 0,
         "number_of_reviews_l30d": 0,
         "first_review": "2016-08-24",
         "last_review": "2019-07-22",
         "review_scores_rating": 4.91,
         "review_scores_accuracy": 4.85,
         "review_scores_cleanliness": 4.77,
         "review_scores_checkin": 5,
         "review_scores_communication": 5,
         "review_scores_location": 4.85,
         "review_scores_value": 4.77,
         "license": "nan",
         "instant_bookable": "f",
         "calculated_host_listings_count": 1,
         "calculated_host_listings_count_entire_homes": 1,
         "calculated_host_listings_count_private_rooms": 0,
         "calculated_host_listings_count_shared_rooms": 0,
         "reviews_per_month": 0.37,
         "_deepnote_index_column": 2
        },
        {
         "id": 31094,
         "listing_url": "https://www.airbnb.com/rooms/31094",
         "scrape_id": 20210720033302,
         "last_scraped": "2021-07-20",
         "name": "Very central and cozy, new kitchen",
         "description": "<b>The space</b><br />Welcome to our home, we hope you will enjoy your trip to Copenhagen!<br /><br…",
         "neighborhood_overview": "What else is nearby?<br />To be honest, I think our neighbourhood \"Vesterbro\" is the coolest in Cop…",
         "picture_url": "https://a0.muscache.com/pictures/19408864/7c4cd0ec_original.jpg",
         "host_id": 129976,
         "host_url": "https://www.airbnb.com/users/show/129976",
         "host_name": "Ebbe",
         "host_since": "2010-05-22",
         "host_location": "Copenhagen, Capital Region of Denmark, Denmark",
         "host_about": "Hi and welcome. My name is Ebbe, I am a medical doctor working in Copenhagen. I live in the flat wi…",
         "host_response_time": "within a few hours",
         "host_response_rate": "100%",
         "host_acceptance_rate": "0%",
         "host_is_superhost": "f",
         "host_thumbnail_url": "https://a0.muscache.com/im/users/129976/profile_pic/1371667869/original.jpg?aki_policy=profile_small",
         "host_picture_url": "https://a0.muscache.com/im/users/129976/profile_pic/1371667869/original.jpg?aki_policy=profile_x_me…",
         "host_neighbourhood": "Vesterbro",
         "host_listings_count": 1,
         "host_total_listings_count": 1,
         "host_verifications": "['email', 'phone', 'facebook', 'reviews', 'jumio', 'offline_government_id', 'government_id']",
         "host_has_profile_pic": "t",
         "host_identity_verified": "t",
         "neighbourhood": "Copenhagen, Capital Region of Denmark, Denmark",
         "neighbourhood_cleansed": "Vesterbro-Kongens Enghave",
         "neighbourhood_group_cleansed": "nan",
         "latitude": 55.66539,
         "longitude": 12.55639,
         "property_type": "Entire apartment",
         "room_type": "Entire home/apt",
         "accommodates": 3,
         "bathrooms": "nan",
         "bathrooms_text": "1 bath",
         "bedrooms": 1,
         "beds": 3,
         "amenities": "[\"Cable TV\", \"Kitchen\", \"Heating\", \"TV with standard cable\", \"Wifi\"]",
         "price": "$750.00",
         "minimum_nights": 2,
         "maximum_nights": 10,
         "minimum_minimum_nights": 2,
         "maximum_minimum_nights": 2,
         "minimum_maximum_nights": 10,
         "maximum_maximum_nights": 10,
         "minimum_nights_avg_ntm": 2,
         "maximum_nights_avg_ntm": 10,
         "calendar_updated": "nan",
         "has_availability": "t",
         "availability_30": 0,
         "availability_60": 0,
         "availability_90": 0,
         "availability_365": 0,
         "calendar_last_scraped": "2021-07-20",
         "number_of_reviews": 17,
         "number_of_reviews_ltm": 0,
         "number_of_reviews_l30d": 0,
         "first_review": "2016-06-19",
         "last_review": "2012-06-10",
         "review_scores_rating": 4.87,
         "review_scores_accuracy": 4.8,
         "review_scores_cleanliness": 4.87,
         "review_scores_checkin": 4.85,
         "review_scores_communication": 4.8,
         "review_scores_location": 4.85,
         "review_scores_value": 4.46,
         "license": "nan",
         "instant_bookable": "f",
         "calculated_host_listings_count": 1,
         "calculated_host_listings_count_entire_homes": 1,
         "calculated_host_listings_count_private_rooms": 0,
         "calculated_host_listings_count_shared_rooms": 0,
         "reviews_per_month": 0.27,
         "_deepnote_index_column": 3
        },
        {
         "id": 32379,
         "listing_url": "https://www.airbnb.com/rooms/32379",
         "scrape_id": 20210720033302,
         "last_scraped": "2021-07-20",
         "name": "120 m2  artist flat on Vesterbro",
         "description": "Bright Artistic luxury apartment in very trendy area of Copenhagen, located on the 3rd floor of pro…",
         "neighborhood_overview": "Værnedamsvej area is super hip area, we call it little Paris. Saterday you'll find special cosy act…",
         "picture_url": "https://a0.muscache.com/pictures/4088872/c50aeb23_original.jpg",
         "host_id": 140105,
         "host_url": "https://www.airbnb.com/users/show/140105",
         "host_name": "Lise",
         "host_since": "2010-06-07",
         "host_location": "Copenhagen, Capital Region of Denmark, Denmark",
         "host_about": "As profession - Set and Costumedesigner for Avangarde Theatre, Modern Dance and Performance. A trav…",
         "host_response_time": "within a few hours",
         "host_response_rate": "100%",
         "host_acceptance_rate": "88%",
         "host_is_superhost": "f",
         "host_thumbnail_url": "https://a0.muscache.com/im/users/140105/profile_pic/1289485314/original.jpg?aki_policy=profile_small",
         "host_picture_url": "https://a0.muscache.com/im/users/140105/profile_pic/1289485314/original.jpg?aki_policy=profile_x_me…",
         "host_neighbourhood": "Vesterbro",
         "host_listings_count": 3,
         "host_total_listings_count": 3,
         "host_verifications": "['email', 'phone', 'reviews', 'jumio', 'offline_government_id', 'selfie', 'government_id', 'identit…",
         "host_has_profile_pic": "t",
         "host_identity_verified": "t",
         "neighbourhood": "Copenhagen, Hovedstaden, Denmark",
         "neighbourhood_cleansed": "Vesterbro-Kongens Enghave",
         "neighbourhood_group_cleansed": "nan",
         "latitude": 55.67297,
         "longitude": 12.55327,
         "property_type": "Entire apartment",
         "room_type": "Entire home/apt",
         "accommodates": 5,
         "bathrooms": "nan",
         "bathrooms_text": "2 baths",
         "bedrooms": 3,
         "beds": 4,
         "amenities": "[\"Cable TV\", \"Iron\", \"Room-darkening shades\", \"Host greets you\", \"Hair dryer\", \"Stove\", \"Carbon mon…",
         "price": "$1,153.00",
         "minimum_nights": 3,
         "maximum_nights": 365,
         "minimum_minimum_nights": 3,
         "maximum_minimum_nights": 3,
         "minimum_maximum_nights": 1125,
         "maximum_maximum_nights": 1125,
         "minimum_nights_avg_ntm": 3,
         "maximum_nights_avg_ntm": 1125,
         "calendar_updated": "nan",
         "has_availability": "t",
         "availability_30": 2,
         "availability_60": 2,
         "availability_90": 2,
         "availability_365": 91,
         "calendar_last_scraped": "2021-07-20",
         "number_of_reviews": 73,
         "number_of_reviews_ltm": 0,
         "number_of_reviews_l30d": 0,
         "first_review": "2012-06-12",
         "last_review": "2019-08-17",
         "review_scores_rating": 4.89,
         "review_scores_accuracy": 4.96,
         "review_scores_cleanliness": 4.93,
         "review_scores_checkin": 4.86,
         "review_scores_communication": 4.9,
         "review_scores_location": 4.87,
         "review_scores_value": 4.7,
         "license": "nan",
         "instant_bookable": "t",
         "calculated_host_listings_count": 1,
         "calculated_host_listings_count_entire_homes": 1,
         "calculated_host_listings_count_private_rooms": 0,
         "calculated_host_listings_count_shared_rooms": 0,
         "reviews_per_month": 0.66,
         "_deepnote_index_column": 4
        }
       ],
       "rows_bottom": null
      },
      "text/plain": "      id                         listing_url       scrape_id last_scraped  \\\n0   6983   https://www.airbnb.com/rooms/6983  20210720033302   2021-07-20   \n1  26057  https://www.airbnb.com/rooms/26057  20210720033302   2021-07-20   \n2  29118  https://www.airbnb.com/rooms/29118  20210720033302   2021-07-20   \n3  31094  https://www.airbnb.com/rooms/31094  20210720033302   2021-07-20   \n4  32379  https://www.airbnb.com/rooms/32379  20210720033302   2021-07-20   \n\n                                  name  \\\n0                 Copenhagen 'N Livin'   \n1  Lovely house - most attractive area   \n2      Best Location in Cool Istedgade   \n3   Very central and cozy, new kitchen   \n4     120 m2  artist flat on Vesterbro   \n\n                                         description  \\\n0  Lovely apartment located in the hip Nørrebro a...   \n1  Our lovely house in the center of the city is ...   \n2  <b>The space</b><br />The apartment is situate...   \n3  <b>The space</b><br />Welcome to our home, we ...   \n4  Bright Artistic luxury apartment in very trend...   \n\n                               neighborhood_overview  \\\n0  Nice bars and cozy cafes just minutes away, ye...   \n1  The neighborhood is the most famous one and th...   \n2                                                NaN   \n3  What else is nearby?<br />To be honest, I thin...   \n4  Værnedamsvej area is super hip area, we call i...   \n\n                                         picture_url  host_id  \\\n0  https://a0.muscache.com/pictures/42044170/f63c...    16774   \n1  https://a0.muscache.com/pictures/miso/Hosting-...   109777   \n2  https://a0.muscache.com/pictures/236213/33956c...   125230   \n3  https://a0.muscache.com/pictures/19408864/7c4c...   129976   \n4  https://a0.muscache.com/pictures/4088872/c50ae...   140105   \n\n                                   host_url  ... review_scores_communication  \\\n0   https://www.airbnb.com/users/show/16774  ...                        4.90   \n1  https://www.airbnb.com/users/show/109777  ...                        4.83   \n2  https://www.airbnb.com/users/show/125230  ...                        5.00   \n3  https://www.airbnb.com/users/show/129976  ...                        4.80   \n4  https://www.airbnb.com/users/show/140105  ...                        4.90   \n\n  review_scores_location review_scores_value license instant_bookable  \\\n0                   4.72                4.71     NaN                f   \n1                   4.96                4.82     NaN                f   \n2                   4.85                4.77     NaN                f   \n3                   4.85                4.46     NaN                f   \n4                   4.87                4.70     NaN                t   \n\n  calculated_host_listings_count calculated_host_listings_count_entire_homes  \\\n0                              1                                           0   \n1                              1                                           1   \n2                              1                                           1   \n3                              1                                           1   \n4                              1                                           1   \n\n  calculated_host_listings_count_private_rooms  \\\n0                                            1   \n1                                            0   \n2                                            0   \n3                                            0   \n4                                            0   \n\n  calculated_host_listings_count_shared_rooms reviews_per_month  \n0                                           0              1.61  \n1                                           0              0.75  \n2                                           0              0.37  \n3                                           0              0.27  \n4                                           0              0.66  \n\n[5 rows x 74 columns]",
      "text/html": "<div>\n<style scoped>\n    .dataframe tbody tr th:only-of-type {\n        vertical-align: middle;\n    }\n\n    .dataframe tbody tr th {\n        vertical-align: top;\n    }\n\n    .dataframe thead th {\n        text-align: right;\n    }\n</style>\n<table border=\"1\" class=\"dataframe\">\n  <thead>\n    <tr style=\"text-align: right;\">\n      <th></th>\n      <th>id</th>\n      <th>listing_url</th>\n      <th>scrape_id</th>\n      <th>last_scraped</th>\n      <th>name</th>\n      <th>description</th>\n      <th>neighborhood_overview</th>\n      <th>picture_url</th>\n      <th>host_id</th>\n      <th>host_url</th>\n      <th>...</th>\n      <th>review_scores_communication</th>\n      <th>review_scores_location</th>\n      <th>review_scores_value</th>\n      <th>license</th>\n      <th>instant_bookable</th>\n      <th>calculated_host_listings_count</th>\n      <th>calculated_host_listings_count_entire_homes</th>\n      <th>calculated_host_listings_count_private_rooms</th>\n      <th>calculated_host_listings_count_shared_rooms</th>\n      <th>reviews_per_month</th>\n    </tr>\n  </thead>\n  <tbody>\n    <tr>\n      <th>0</th>\n      <td>6983</td>\n      <td>https://www.airbnb.com/rooms/6983</td>\n      <td>20210720033302</td>\n      <td>2021-07-20</td>\n      <td>Copenhagen 'N Livin'</td>\n      <td>Lovely apartment located in the hip Nørrebro a...</td>\n      <td>Nice bars and cozy cafes just minutes away, ye...</td>\n      <td>https://a0.muscache.com/pictures/42044170/f63c...</td>\n      <td>16774</td>\n      <td>https://www.airbnb.com/users/show/16774</td>\n      <td>...</td>\n      <td>4.90</td>\n      <td>4.72</td>\n      <td>4.71</td>\n      <td>NaN</td>\n      <td>f</td>\n      <td>1</td>\n      <td>0</td>\n      <td>1</td>\n      <td>0</td>\n      <td>1.61</td>\n    </tr>\n    <tr>\n      <th>1</th>\n      <td>26057</td>\n      <td>https://www.airbnb.com/rooms/26057</td>\n      <td>20210720033302</td>\n      <td>2021-07-20</td>\n      <td>Lovely house - most attractive area</td>\n      <td>Our lovely house in the center of the city is ...</td>\n      <td>The neighborhood is the most famous one and th...</td>\n      <td>https://a0.muscache.com/pictures/miso/Hosting-...</td>\n      <td>109777</td>\n      <td>https://www.airbnb.com/users/show/109777</td>\n      <td>...</td>\n      <td>4.83</td>\n      <td>4.96</td>\n      <td>4.82</td>\n      <td>NaN</td>\n      <td>f</td>\n      <td>1</td>\n      <td>1</td>\n      <td>0</td>\n      <td>0</td>\n      <td>0.75</td>\n    </tr>\n    <tr>\n      <th>2</th>\n      <td>29118</td>\n      <td>https://www.airbnb.com/rooms/29118</td>\n      <td>20210720033302</td>\n      <td>2021-07-20</td>\n      <td>Best Location in Cool Istedgade</td>\n      <td>&lt;b&gt;The space&lt;/b&gt;&lt;br /&gt;The apartment is situate...</td>\n      <td>NaN</td>\n      <td>https://a0.muscache.com/pictures/236213/33956c...</td>\n      <td>125230</td>\n      <td>https://www.airbnb.com/users/show/125230</td>\n      <td>...</td>\n      <td>5.00</td>\n      <td>4.85</td>\n      <td>4.77</td>\n      <td>NaN</td>\n      <td>f</td>\n      <td>1</td>\n      <td>1</td>\n      <td>0</td>\n      <td>0</td>\n      <td>0.37</td>\n    </tr>\n    <tr>\n      <th>3</th>\n      <td>31094</td>\n      <td>https://www.airbnb.com/rooms/31094</td>\n      <td>20210720033302</td>\n      <td>2021-07-20</td>\n      <td>Very central and cozy, new kitchen</td>\n      <td>&lt;b&gt;The space&lt;/b&gt;&lt;br /&gt;Welcome to our home, we ...</td>\n      <td>What else is nearby?&lt;br /&gt;To be honest, I thin...</td>\n      <td>https://a0.muscache.com/pictures/19408864/7c4c...</td>\n      <td>129976</td>\n      <td>https://www.airbnb.com/users/show/129976</td>\n      <td>...</td>\n      <td>4.80</td>\n      <td>4.85</td>\n      <td>4.46</td>\n      <td>NaN</td>\n      <td>f</td>\n      <td>1</td>\n      <td>1</td>\n      <td>0</td>\n      <td>0</td>\n      <td>0.27</td>\n    </tr>\n    <tr>\n      <th>4</th>\n      <td>32379</td>\n      <td>https://www.airbnb.com/rooms/32379</td>\n      <td>20210720033302</td>\n      <td>2021-07-20</td>\n      <td>120 m2  artist flat on Vesterbro</td>\n      <td>Bright Artistic luxury apartment in very trend...</td>\n      <td>Værnedamsvej area is super hip area, we call i...</td>\n      <td>https://a0.muscache.com/pictures/4088872/c50ae...</td>\n      <td>140105</td>\n      <td>https://www.airbnb.com/users/show/140105</td>\n      <td>...</td>\n      <td>4.90</td>\n      <td>4.87</td>\n      <td>4.70</td>\n      <td>NaN</td>\n      <td>t</td>\n      <td>1</td>\n      <td>1</td>\n      <td>0</td>\n      <td>0</td>\n      <td>0.66</td>\n    </tr>\n  </tbody>\n</table>\n<p>5 rows × 74 columns</p>\n</div>"
     },
     "metadata": {}
    }
   ],
   "execution_count": 3
  },
  {
   "cell_type": "code",
   "source": "# first explore \n\nlistings.info()",
   "metadata": {
    "tags": [],
    "cell_id": "00003-7cc576c5-979f-459a-8bf7-b4014cee941e",
    "deepnote_to_be_reexecuted": false,
    "source_hash": "34001238",
    "execution_start": 1632209935768,
    "execution_millis": 18,
    "deepnote_cell_type": "code"
   },
   "outputs": [
    {
     "name": "stdout",
     "text": "<class 'pandas.core.frame.DataFrame'>\nRangeIndex: 9949 entries, 0 to 9948\nData columns (total 74 columns):\n #   Column                                        Non-Null Count  Dtype  \n---  ------                                        --------------  -----  \n 0   id                                            9949 non-null   int64  \n 1   listing_url                                   9949 non-null   object \n 2   scrape_id                                     9949 non-null   int64  \n 3   last_scraped                                  9949 non-null   object \n 4   name                                          9948 non-null   object \n 5   description                                   9597 non-null   object \n 6   neighborhood_overview                         5611 non-null   object \n 7   picture_url                                   9949 non-null   object \n 8   host_id                                       9949 non-null   int64  \n 9   host_url                                      9949 non-null   object \n 10  host_name                                     9945 non-null   object \n 11  host_since                                    9945 non-null   object \n 12  host_location                                 9928 non-null   object \n 13  host_about                                    5585 non-null   object \n 14  host_response_time                            6820 non-null   object \n 15  host_response_rate                            6820 non-null   object \n 16  host_acceptance_rate                          6777 non-null   object \n 17  host_is_superhost                             9945 non-null   object \n 18  host_thumbnail_url                            9945 non-null   object \n 19  host_picture_url                              9945 non-null   object \n 20  host_neighbourhood                            5920 non-null   object \n 21  host_listings_count                           9945 non-null   float64\n 22  host_total_listings_count                     9945 non-null   float64\n 23  host_verifications                            9949 non-null   object \n 24  host_has_profile_pic                          9945 non-null   object \n 25  host_identity_verified                        9945 non-null   object \n 26  neighbourhood                                 5611 non-null   object \n 27  neighbourhood_cleansed                        9949 non-null   object \n 28  neighbourhood_group_cleansed                  0 non-null      float64\n 29  latitude                                      9949 non-null   float64\n 30  longitude                                     9949 non-null   float64\n 31  property_type                                 9949 non-null   object \n 32  room_type                                     9949 non-null   object \n 33  accommodates                                  9949 non-null   int64  \n 34  bathrooms                                     0 non-null      float64\n 35  bathrooms_text                                9932 non-null   object \n 36  bedrooms                                      9713 non-null   float64\n 37  beds                                          9876 non-null   float64\n 38  amenities                                     9949 non-null   object \n 39  price                                         9949 non-null   object \n 40  minimum_nights                                9949 non-null   int64  \n 41  maximum_nights                                9949 non-null   int64  \n 42  minimum_minimum_nights                        9949 non-null   int64  \n 43  maximum_minimum_nights                        9949 non-null   int64  \n 44  minimum_maximum_nights                        9949 non-null   int64  \n 45  maximum_maximum_nights                        9949 non-null   int64  \n 46  minimum_nights_avg_ntm                        9949 non-null   float64\n 47  maximum_nights_avg_ntm                        9949 non-null   float64\n 48  calendar_updated                              0 non-null      float64\n 49  has_availability                              9949 non-null   object \n 50  availability_30                               9949 non-null   int64  \n 51  availability_60                               9949 non-null   int64  \n 52  availability_90                               9949 non-null   int64  \n 53  availability_365                              9949 non-null   int64  \n 54  calendar_last_scraped                         9949 non-null   object \n 55  number_of_reviews                             9949 non-null   int64  \n 56  number_of_reviews_ltm                         9949 non-null   int64  \n 57  number_of_reviews_l30d                        9949 non-null   int64  \n 58  first_review                                  8050 non-null   object \n 59  last_review                                   8050 non-null   object \n 60  review_scores_rating                          8050 non-null   float64\n 61  review_scores_accuracy                        7951 non-null   float64\n 62  review_scores_cleanliness                     7951 non-null   float64\n 63  review_scores_checkin                         7951 non-null   float64\n 64  review_scores_communication                   7951 non-null   float64\n 65  review_scores_location                        7950 non-null   float64\n 66  review_scores_value                           7950 non-null   float64\n 67  license                                       0 non-null      float64\n 68  instant_bookable                              9949 non-null   object \n 69  calculated_host_listings_count                9949 non-null   int64  \n 70  calculated_host_listings_count_entire_homes   9949 non-null   int64  \n 71  calculated_host_listings_count_private_rooms  9949 non-null   int64  \n 72  calculated_host_listings_count_shared_rooms   9949 non-null   int64  \n 73  reviews_per_month                             8050 non-null   float64\ndtypes: float64(20), int64(21), object(33)\nmemory usage: 5.6+ MB\n",
     "output_type": "stream"
    }
   ],
   "execution_count": 4
  },
  {
   "cell_type": "markdown",
   "source": "#### Selected variables for further exploration\n\n`['number_of_reviews','review_scores_rating','neighbourhood_cleansed','price', 'availability_365', 'bedrooms','accommodates', 'instant_bookable', 'reviews_per_month', 'property_type', 'room_type']`",
   "metadata": {
    "tags": [],
    "cell_id": "00006-cbbef968-b927-4bcf-ae7b-ba0609cd833f",
    "deepnote_cell_type": "markdown"
   }
  },
  {
   "cell_type": "code",
   "source": "columnlist = ['number_of_reviews','review_scores_rating','neighbourhood_cleansed','price', 'availability_365', 'bedrooms','accommodates', 'instant_bookable', 'reviews_per_month', 'property_type', 'room_type']\nlistings_filtered = listings[columnlist]",
   "metadata": {
    "tags": [],
    "cell_id": "00007-a0b9d89e-1f2a-4de6-99b6-d2a281c1d6b0",
    "deepnote_to_be_reexecuted": false,
    "source_hash": "196248ed",
    "execution_start": 1632211281191,
    "execution_millis": 5,
    "deepnote_cell_type": "code"
   },
   "outputs": [],
   "execution_count": 20
  },
  {
   "cell_type": "code",
   "source": "listings_filtered.info()",
   "metadata": {
    "tags": [],
    "cell_id": "00009-0a325ee2-4fc6-4be0-a52a-a346ca6d3652",
    "deepnote_to_be_reexecuted": false,
    "source_hash": "66a023d9",
    "execution_start": 1632211281204,
    "execution_millis": 14,
    "deepnote_cell_type": "code"
   },
   "outputs": [
    {
     "name": "stdout",
     "text": "<class 'pandas.core.frame.DataFrame'>\nRangeIndex: 9949 entries, 0 to 9948\nData columns (total 11 columns):\n #   Column                  Non-Null Count  Dtype  \n---  ------                  --------------  -----  \n 0   number_of_reviews       9949 non-null   int64  \n 1   review_scores_rating    8050 non-null   float64\n 2   neighbourhood_cleansed  9949 non-null   object \n 3   price                   9949 non-null   object \n 4   availability_365        9949 non-null   int64  \n 5   bedrooms                9713 non-null   float64\n 6   accommodates            9949 non-null   int64  \n 7   instant_bookable        9949 non-null   object \n 8   reviews_per_month       8050 non-null   float64\n 9   property_type           9949 non-null   object \n 10  room_type               9949 non-null   object \ndtypes: float64(3), int64(3), object(5)\nmemory usage: 855.1+ KB\n",
     "output_type": "stream"
    }
   ],
   "execution_count": 21
  },
  {
   "cell_type": "code",
   "source": "# proposal for removal of $\nlistings_filtered.price.str[1:]",
   "metadata": {
    "tags": [],
    "cell_id": "00009-8ad65077-f521-4a36-8cd9-34c5df4997f4",
    "deepnote_to_be_reexecuted": false,
    "source_hash": "2be0ed62",
    "execution_start": 1632211281222,
    "execution_millis": 14,
    "deepnote_cell_type": "code"
   },
   "outputs": [
    {
     "output_type": "execute_result",
     "execution_count": 22,
     "data": {
      "text/plain": "0         365.00\n1       2,400.00\n2         729.00\n3         750.00\n4       1,153.00\n          ...   \n9944      508.00\n9945    1,000.00\n9946    1,756.00\n9947    1,137.00\n9948      650.00\nName: price, Length: 9949, dtype: object"
     },
     "metadata": {}
    }
   ],
   "execution_count": 22
  },
  {
   "cell_type": "code",
   "source": "listings_filtered.loc[:,'price'] = listings_filtered.price.str.replace('$','')\nlistings_filtered.loc[:,'price'] = listings_filtered.price.str.replace(',','')\nlistings_filtered.loc[:,'price'] = listings_filtered.loc[:,'price'].astype('float')",
   "metadata": {
    "tags": [],
    "cell_id": "00010-ba9cca55-23f8-4f2e-8f14-61fdad0c3fbb",
    "deepnote_to_be_reexecuted": false,
    "source_hash": "484b9fc",
    "execution_start": 1632211281232,
    "execution_millis": 58,
    "deepnote_cell_type": "code"
   },
   "outputs": [
    {
     "name": "stderr",
     "text": "/shared-libs/python3.7/py-core/lib/python3.7/site-packages/ipykernel_launcher.py:1: FutureWarning: The default value of regex will change from True to False in a future version. In addition, single character regular expressions will*not* be treated as literal strings when regex=True.\n  \"\"\"Entry point for launching an IPython kernel.\n",
     "output_type": "stream"
    }
   ],
   "execution_count": 23
  },
  {
   "cell_type": "code",
   "source": "listings_filtered",
   "metadata": {
    "tags": [],
    "cell_id": "00011-03f9ece4-6a0c-4541-90f2-151fcc67cf0b",
    "deepnote_to_be_reexecuted": false,
    "source_hash": "b137bb35",
    "execution_start": 1632211290397,
    "execution_millis": 87,
    "deepnote_cell_type": "code"
   },
   "outputs": [
    {
     "output_type": "execute_result",
     "execution_count": 24,
     "data": {
      "application/vnd.deepnote.dataframe.v2+json": {
       "row_count": 9949,
       "column_count": 11,
       "columns": [
        {
         "name": "number_of_reviews",
         "dtype": "int64",
         "stats": {
          "unique_count": 235,
          "nan_count": 0,
          "min": "0",
          "max": "645",
          "histogram": [
           {
            "bin_start": 0,
            "bin_end": 64.5,
            "count": 9279
           },
           {
            "bin_start": 64.5,
            "bin_end": 129,
            "count": 487
           },
           {
            "bin_start": 129,
            "bin_end": 193.5,
            "count": 113
           },
           {
            "bin_start": 193.5,
            "bin_end": 258,
            "count": 33
           },
           {
            "bin_start": 258,
            "bin_end": 322.5,
            "count": 21
           },
           {
            "bin_start": 322.5,
            "bin_end": 387,
            "count": 9
           },
           {
            "bin_start": 387,
            "bin_end": 451.5,
            "count": 4
           },
           {
            "bin_start": 451.5,
            "bin_end": 516,
            "count": 2
           },
           {
            "bin_start": 516,
            "bin_end": 580.5,
            "count": 0
           },
           {
            "bin_start": 580.5,
            "bin_end": 645,
            "count": 1
           }
          ]
         }
        },
        {
         "name": "review_scores_rating",
         "dtype": "float64",
         "stats": {
          "unique_count": 115,
          "nan_count": 1899,
          "min": "0.0",
          "max": "5.0",
          "histogram": [
           {
            "bin_start": 0,
            "bin_end": 0.5,
            "count": 97
           },
           {
            "bin_start": 0.5,
            "bin_end": 1,
            "count": 0
           },
           {
            "bin_start": 1,
            "bin_end": 1.5,
            "count": 10
           },
           {
            "bin_start": 1.5,
            "bin_end": 2,
            "count": 1
           },
           {
            "bin_start": 2,
            "bin_end": 2.5,
            "count": 8
           },
           {
            "bin_start": 2.5,
            "bin_end": 3,
            "count": 2
           },
           {
            "bin_start": 3,
            "bin_end": 3.5,
            "count": 41
           },
           {
            "bin_start": 3.5,
            "bin_end": 4,
            "count": 55
           },
           {
            "bin_start": 4,
            "bin_end": 4.5,
            "count": 693
           },
           {
            "bin_start": 4.5,
            "bin_end": 5,
            "count": 7143
           }
          ]
         }
        },
        {
         "name": "neighbourhood_cleansed",
         "dtype": "object",
         "stats": {
          "unique_count": 11,
          "nan_count": 0,
          "categories": [
           {
            "name": "Indre By",
            "count": 1736
           },
           {
            "name": "Vesterbro-Kongens Enghave",
            "count": 1640
           },
           {
            "name": "9 others",
            "count": 6573
           }
          ]
         }
        },
        {
         "name": "price",
         "dtype": "float64",
         "stats": {
          "unique_count": 1451,
          "nan_count": 0,
          "min": "0.0",
          "max": "100000.0",
          "histogram": [
           {
            "bin_start": 0,
            "bin_end": 10000,
            "count": 9926
           },
           {
            "bin_start": 10000,
            "bin_end": 20000,
            "count": 13
           },
           {
            "bin_start": 20000,
            "bin_end": 30000,
            "count": 4
           },
           {
            "bin_start": 30000,
            "bin_end": 40000,
            "count": 0
           },
           {
            "bin_start": 40000,
            "bin_end": 50000,
            "count": 0
           },
           {
            "bin_start": 50000,
            "bin_end": 60000,
            "count": 2
           },
           {
            "bin_start": 60000,
            "bin_end": 70000,
            "count": 3
           },
           {
            "bin_start": 70000,
            "bin_end": 80000,
            "count": 0
           },
           {
            "bin_start": 80000,
            "bin_end": 90000,
            "count": 0
           },
           {
            "bin_start": 90000,
            "bin_end": 100000,
            "count": 1
           }
          ]
         }
        },
        {
         "name": "availability_365",
         "dtype": "int64",
         "stats": {
          "unique_count": 365,
          "nan_count": 0,
          "min": "0",
          "max": "365",
          "histogram": [
           {
            "bin_start": 0,
            "bin_end": 36.5,
            "count": 4501
           },
           {
            "bin_start": 36.5,
            "bin_end": 73,
            "count": 705
           },
           {
            "bin_start": 73,
            "bin_end": 109.5,
            "count": 963
           },
           {
            "bin_start": 109.5,
            "bin_end": 146,
            "count": 386
           },
           {
            "bin_start": 146,
            "bin_end": 182.5,
            "count": 734
           },
           {
            "bin_start": 182.5,
            "bin_end": 219,
            "count": 399
           },
           {
            "bin_start": 219,
            "bin_end": 255.5,
            "count": 252
           },
           {
            "bin_start": 255.5,
            "bin_end": 292,
            "count": 279
           },
           {
            "bin_start": 292,
            "bin_end": 328.5,
            "count": 531
           },
           {
            "bin_start": 328.5,
            "bin_end": 365,
            "count": 1199
           }
          ]
         }
        },
        {
         "name": "bedrooms",
         "dtype": "float64",
         "stats": {
          "unique_count": 9,
          "nan_count": 236,
          "min": "1.0",
          "max": "101.0",
          "histogram": [
           {
            "bin_start": 1,
            "bin_end": 11,
            "count": 9712
           },
           {
            "bin_start": 11,
            "bin_end": 21,
            "count": 0
           },
           {
            "bin_start": 21,
            "bin_end": 31,
            "count": 0
           },
           {
            "bin_start": 31,
            "bin_end": 41,
            "count": 0
           },
           {
            "bin_start": 41,
            "bin_end": 51,
            "count": 0
           },
           {
            "bin_start": 51,
            "bin_end": 61,
            "count": 0
           },
           {
            "bin_start": 61,
            "bin_end": 71,
            "count": 0
           },
           {
            "bin_start": 71,
            "bin_end": 81,
            "count": 0
           },
           {
            "bin_start": 81,
            "bin_end": 91,
            "count": 0
           },
           {
            "bin_start": 91,
            "bin_end": 101,
            "count": 1
           }
          ]
         }
        },
        {
         "name": "accommodates",
         "dtype": "int64",
         "stats": {
          "unique_count": 16,
          "nan_count": 0,
          "min": "0",
          "max": "16",
          "histogram": [
           {
            "bin_start": 0,
            "bin_end": 1.6,
            "count": 428
           },
           {
            "bin_start": 1.6,
            "bin_end": 3.2,
            "count": 4917
           },
           {
            "bin_start": 3.2,
            "bin_end": 4.800000000000001,
            "count": 2372
           },
           {
            "bin_start": 4.800000000000001,
            "bin_end": 6.4,
            "count": 1748
           },
           {
            "bin_start": 6.4,
            "bin_end": 8,
            "count": 144
           },
           {
            "bin_start": 8,
            "bin_end": 9.600000000000001,
            "count": 262
           },
           {
            "bin_start": 9.600000000000001,
            "bin_end": 11.200000000000001,
            "count": 53
           },
           {
            "bin_start": 11.200000000000001,
            "bin_end": 12.8,
            "count": 16
           },
           {
            "bin_start": 12.8,
            "bin_end": 14.4,
            "count": 2
           },
           {
            "bin_start": 14.4,
            "bin_end": 16,
            "count": 7
           }
          ]
         }
        },
        {
         "name": "instant_bookable",
         "dtype": "object",
         "stats": {
          "unique_count": 2,
          "nan_count": 0,
          "categories": [
           {
            "name": "f",
            "count": 7745
           },
           {
            "name": "t",
            "count": 2204
           }
          ]
         }
        },
        {
         "name": "reviews_per_month",
         "dtype": "float64",
         "stats": {
          "unique_count": 416,
          "nan_count": 1899,
          "min": "0.01",
          "max": "36.56",
          "histogram": [
           {
            "bin_start": 0.01,
            "bin_end": 3.665,
            "count": 7906
           },
           {
            "bin_start": 3.665,
            "bin_end": 7.32,
            "count": 121
           },
           {
            "bin_start": 7.32,
            "bin_end": 10.975,
            "count": 11
           },
           {
            "bin_start": 10.975,
            "bin_end": 14.63,
            "count": 5
           },
           {
            "bin_start": 14.63,
            "bin_end": 18.285000000000004,
            "count": 4
           },
           {
            "bin_start": 18.285000000000004,
            "bin_end": 21.94,
            "count": 0
           },
           {
            "bin_start": 21.94,
            "bin_end": 25.595000000000002,
            "count": 1
           },
           {
            "bin_start": 25.595000000000002,
            "bin_end": 29.250000000000004,
            "count": 0
           },
           {
            "bin_start": 29.250000000000004,
            "bin_end": 32.905,
            "count": 1
           },
           {
            "bin_start": 32.905,
            "bin_end": 36.56,
            "count": 1
           }
          ]
         }
        },
        {
         "name": "property_type",
         "dtype": "object",
         "stats": {
          "unique_count": 48,
          "nan_count": 0,
          "categories": [
           {
            "name": "Entire apartment",
            "count": 6246
           },
           {
            "name": "Private room in apartment",
            "count": 1060
           },
           {
            "name": "46 others",
            "count": 2643
           }
          ]
         }
        },
        {
         "name": "room_type",
         "dtype": "object"
        },
        {
         "name": "_deepnote_index_column",
         "dtype": "int64"
        }
       ],
       "rows_top": [
        {
         "number_of_reviews": 168,
         "review_scores_rating": 4.78,
         "neighbourhood_cleansed": "Nrrebro",
         "price": 365,
         "availability_365": 0,
         "bedrooms": 1,
         "accommodates": 2,
         "instant_bookable": "f",
         "reviews_per_month": 1.61,
         "property_type": "Private room in apartment",
         "room_type": "Private room",
         "_deepnote_index_column": 0
        },
        {
         "number_of_reviews": 50,
         "review_scores_rating": 4.9,
         "neighbourhood_cleansed": "Indre By",
         "price": 2400,
         "availability_365": 347,
         "bedrooms": 4,
         "accommodates": 6,
         "instant_bookable": "f",
         "reviews_per_month": 0.75,
         "property_type": "Entire house",
         "room_type": "Entire home/apt",
         "_deepnote_index_column": 1
        },
        {
         "number_of_reviews": 22,
         "review_scores_rating": 4.91,
         "neighbourhood_cleansed": "Vesterbro-Kongens Enghave",
         "price": 729,
         "availability_365": 46,
         "bedrooms": 1,
         "accommodates": 2,
         "instant_bookable": "f",
         "reviews_per_month": 0.37,
         "property_type": "Entire apartment",
         "room_type": "Entire home/apt",
         "_deepnote_index_column": 2
        },
        {
         "number_of_reviews": 17,
         "review_scores_rating": 4.87,
         "neighbourhood_cleansed": "Vesterbro-Kongens Enghave",
         "price": 750,
         "availability_365": 0,
         "bedrooms": 1,
         "accommodates": 3,
         "instant_bookable": "f",
         "reviews_per_month": 0.27,
         "property_type": "Entire apartment",
         "room_type": "Entire home/apt",
         "_deepnote_index_column": 3
        },
        {
         "number_of_reviews": 73,
         "review_scores_rating": 4.89,
         "neighbourhood_cleansed": "Vesterbro-Kongens Enghave",
         "price": 1153,
         "availability_365": 91,
         "bedrooms": 3,
         "accommodates": 5,
         "instant_bookable": "t",
         "reviews_per_month": 0.66,
         "property_type": "Entire apartment",
         "room_type": "Entire home/apt",
         "_deepnote_index_column": 4
        },
        {
         "number_of_reviews": 7,
         "review_scores_rating": 4.57,
         "neighbourhood_cleansed": "sterbro",
         "price": 617,
         "availability_365": 217,
         "bedrooms": 2,
         "accommodates": 4,
         "instant_bookable": "f",
         "reviews_per_month": 0.06,
         "property_type": "Entire apartment",
         "room_type": "Entire home/apt",
         "_deepnote_index_column": 5
        },
        {
         "number_of_reviews": 71,
         "review_scores_rating": 4.74,
         "neighbourhood_cleansed": "Vesterbro-Kongens Enghave",
         "price": 1000,
         "availability_365": 249,
         "bedrooms": 1,
         "accommodates": 4,
         "instant_bookable": "f",
         "reviews_per_month": 0.94,
         "property_type": "Entire apartment",
         "room_type": "Entire home/apt",
         "_deepnote_index_column": 6
        },
        {
         "number_of_reviews": 11,
         "review_scores_rating": 5,
         "neighbourhood_cleansed": "Indre By",
         "price": 2396,
         "availability_365": 358,
         "bedrooms": 2,
         "accommodates": 4,
         "instant_bookable": "f",
         "reviews_per_month": 0.18,
         "property_type": "Entire apartment",
         "room_type": "Entire home/apt",
         "_deepnote_index_column": 7
        },
        {
         "number_of_reviews": 75,
         "review_scores_rating": 4.72,
         "neighbourhood_cleansed": "Frederiksberg",
         "price": 535,
         "availability_365": 90,
         "bedrooms": "nan",
         "accommodates": 1,
         "instant_bookable": "f",
         "reviews_per_month": 0.86,
         "property_type": "Entire apartment",
         "room_type": "Entire home/apt",
         "_deepnote_index_column": 8
        },
        {
         "number_of_reviews": 67,
         "review_scores_rating": 4.73,
         "neighbourhood_cleansed": "Vesterbro-Kongens Enghave",
         "price": 851,
         "availability_365": 364,
         "bedrooms": 1,
         "accommodates": 2,
         "instant_bookable": "f",
         "reviews_per_month": 0.66,
         "property_type": "Entire apartment",
         "room_type": "Entire home/apt",
         "_deepnote_index_column": 9
        },
        {
         "number_of_reviews": 92,
         "review_scores_rating": 4.7,
         "neighbourhood_cleansed": "Nrrebro",
         "price": 400,
         "availability_365": 62,
         "bedrooms": 1,
         "accommodates": 1,
         "instant_bookable": "f",
         "reviews_per_month": 0.82,
         "property_type": "Private room in condominium",
         "room_type": "Private room",
         "_deepnote_index_column": 10
        },
        {
         "number_of_reviews": 47,
         "review_scores_rating": 4.83,
         "neighbourhood_cleansed": "Frederiksberg",
         "price": 322,
         "availability_365": 0,
         "bedrooms": 1,
         "accommodates": 1,
         "instant_bookable": "f",
         "reviews_per_month": 1.03,
         "property_type": "Private room in apartment",
         "room_type": "Private room",
         "_deepnote_index_column": 11
        },
        {
         "number_of_reviews": 102,
         "review_scores_rating": 4.85,
         "neighbourhood_cleansed": "Indre By",
         "price": 1108,
         "availability_365": 350,
         "bedrooms": 1,
         "accommodates": 3,
         "instant_bookable": "f",
         "reviews_per_month": 1.36,
         "property_type": "Entire apartment",
         "room_type": "Entire home/apt",
         "_deepnote_index_column": 12
        },
        {
         "number_of_reviews": 30,
         "review_scores_rating": 4.8,
         "neighbourhood_cleansed": "Frederiksberg",
         "price": 1488,
         "availability_365": 70,
         "bedrooms": 4,
         "accommodates": 5,
         "instant_bookable": "f",
         "reviews_per_month": 0.27,
         "property_type": "Entire apartment",
         "room_type": "Entire home/apt",
         "_deepnote_index_column": 13
        },
        {
         "number_of_reviews": 42,
         "review_scores_rating": 4.71,
         "neighbourhood_cleansed": "Indre By",
         "price": 1712,
         "availability_365": 32,
         "bedrooms": 4,
         "accommodates": 7,
         "instant_bookable": "t",
         "reviews_per_month": 0.55,
         "property_type": "Entire apartment",
         "room_type": "Entire home/apt",
         "_deepnote_index_column": 14
        },
        {
         "number_of_reviews": 24,
         "review_scores_rating": 4.67,
         "neighbourhood_cleansed": "Nrrebro",
         "price": 1500,
         "availability_365": 364,
         "bedrooms": 2,
         "accommodates": 4,
         "instant_bookable": "f",
         "reviews_per_month": 0.6,
         "property_type": "Entire apartment",
         "room_type": "Entire home/apt",
         "_deepnote_index_column": 15
        },
        {
         "number_of_reviews": 14,
         "review_scores_rating": 4.75,
         "neighbourhood_cleansed": "Nrrebro",
         "price": 1339,
         "availability_365": 261,
         "bedrooms": 2,
         "accommodates": 6,
         "instant_bookable": "f",
         "reviews_per_month": 0.24,
         "property_type": "Entire apartment",
         "room_type": "Entire home/apt",
         "_deepnote_index_column": 16
        },
        {
         "number_of_reviews": 47,
         "review_scores_rating": 4.61,
         "neighbourhood_cleansed": "Vesterbro-Kongens Enghave",
         "price": 893,
         "availability_365": 39,
         "bedrooms": 2,
         "accommodates": 6,
         "instant_bookable": "f",
         "reviews_per_month": 0.97,
         "property_type": "Entire apartment",
         "room_type": "Entire home/apt",
         "_deepnote_index_column": 17
        },
        {
         "number_of_reviews": 6,
         "review_scores_rating": 5,
         "neighbourhood_cleansed": "Nrrebro",
         "price": 744,
         "availability_365": 7,
         "bedrooms": 1,
         "accommodates": 3,
         "instant_bookable": "f",
         "reviews_per_month": 0.05,
         "property_type": "Entire apartment",
         "room_type": "Entire home/apt",
         "_deepnote_index_column": 18
        },
        {
         "number_of_reviews": 95,
         "review_scores_rating": 4.98,
         "neighbourhood_cleansed": "Vesterbro-Kongens Enghave",
         "price": 500,
         "availability_365": 200,
         "bedrooms": 1,
         "accommodates": 2,
         "instant_bookable": "f",
         "reviews_per_month": 0.86,
         "property_type": "Private room in condominium",
         "room_type": "Private room",
         "_deepnote_index_column": 19
        },
        {
         "number_of_reviews": 84,
         "review_scores_rating": 4.89,
         "neighbourhood_cleansed": "Indre By",
         "price": 1509,
         "availability_365": 145,
         "bedrooms": 3,
         "accommodates": 6,
         "instant_bookable": "f",
         "reviews_per_month": 0.76,
         "property_type": "Entire apartment",
         "room_type": "Entire home/apt",
         "_deepnote_index_column": 20
        },
        {
         "number_of_reviews": 10,
         "review_scores_rating": 5,
         "neighbourhood_cleansed": "Frederiksberg",
         "price": 650,
         "availability_365": 339,
         "bedrooms": 1,
         "accommodates": 2,
         "instant_bookable": "f",
         "reviews_per_month": 0.57,
         "property_type": "Entire apartment",
         "room_type": "Entire home/apt",
         "_deepnote_index_column": 21
        },
        {
         "number_of_reviews": 43,
         "review_scores_rating": 4.65,
         "neighbourhood_cleansed": "Vesterbro-Kongens Enghave",
         "price": 795,
         "availability_365": 49,
         "bedrooms": 1,
         "accommodates": 2,
         "instant_bookable": "f",
         "reviews_per_month": 2.28,
         "property_type": "Entire apartment",
         "room_type": "Entire home/apt",
         "_deepnote_index_column": 22
        },
        {
         "number_of_reviews": 36,
         "review_scores_rating": 4.77,
         "neighbourhood_cleansed": "Nrrebro",
         "price": 801,
         "availability_365": 0,
         "bedrooms": 1,
         "accommodates": 4,
         "instant_bookable": "f",
         "reviews_per_month": 0.71,
         "property_type": "Entire apartment",
         "room_type": "Entire home/apt",
         "_deepnote_index_column": 23
        },
        {
         "number_of_reviews": 46,
         "review_scores_rating": 4.96,
         "neighbourhood_cleansed": "Vesterbro-Kongens Enghave",
         "price": 1029,
         "availability_365": 262,
         "bedrooms": 2,
         "accommodates": 3,
         "instant_bookable": "f",
         "reviews_per_month": 0.76,
         "property_type": "Entire apartment",
         "room_type": "Entire home/apt",
         "_deepnote_index_column": 24
        },
        {
         "number_of_reviews": 100,
         "review_scores_rating": 4.77,
         "neighbourhood_cleansed": "Nrrebro",
         "price": 545,
         "availability_365": 312,
         "bedrooms": 1,
         "accommodates": 2,
         "instant_bookable": "f",
         "reviews_per_month": 0.9,
         "property_type": "Entire apartment",
         "room_type": "Entire home/apt",
         "_deepnote_index_column": 25
        },
        {
         "number_of_reviews": 55,
         "review_scores_rating": 4.81,
         "neighbourhood_cleansed": "Vesterbro-Kongens Enghave",
         "price": 717,
         "availability_365": 337,
         "bedrooms": 1,
         "accommodates": 2,
         "instant_bookable": "f",
         "reviews_per_month": 0.68,
         "property_type": "Entire condominium",
         "room_type": "Entire home/apt",
         "_deepnote_index_column": 26
        },
        {
         "number_of_reviews": 1,
         "review_scores_rating": 4,
         "neighbourhood_cleansed": "Vesterbro-Kongens Enghave",
         "price": 350,
         "availability_365": 316,
         "bedrooms": 1,
         "accommodates": 2,
         "instant_bookable": "f",
         "reviews_per_month": 0.01,
         "property_type": "Private room in apartment",
         "room_type": "Private room",
         "_deepnote_index_column": 27
        },
        {
         "number_of_reviews": 381,
         "review_scores_rating": 4.66,
         "neighbourhood_cleansed": "Vesterbro-Kongens Enghave",
         "price": 311,
         "availability_365": 152,
         "bedrooms": 1,
         "accommodates": 2,
         "instant_bookable": "f",
         "reviews_per_month": 6.05,
         "property_type": "Private room in apartment",
         "room_type": "Private room",
         "_deepnote_index_column": 28
        },
        {
         "number_of_reviews": 71,
         "review_scores_rating": 4.92,
         "neighbourhood_cleansed": "Nrrebro",
         "price": 1295,
         "availability_365": 14,
         "bedrooms": 1,
         "accommodates": 2,
         "instant_bookable": "f",
         "reviews_per_month": 0.71,
         "property_type": "Entire apartment",
         "room_type": "Entire home/apt",
         "_deepnote_index_column": 29
        },
        {
         "number_of_reviews": 29,
         "review_scores_rating": 4.9,
         "neighbourhood_cleansed": "Amager st",
         "price": 800,
         "availability_365": 123,
         "bedrooms": 2,
         "accommodates": 4,
         "instant_bookable": "f",
         "reviews_per_month": 0.34,
         "property_type": "Entire apartment",
         "room_type": "Entire home/apt",
         "_deepnote_index_column": 30
        },
        {
         "number_of_reviews": 187,
         "review_scores_rating": 4.74,
         "neighbourhood_cleansed": "Vesterbro-Kongens Enghave",
         "price": 372,
         "availability_365": 322,
         "bedrooms": 1,
         "accommodates": 1,
         "instant_bookable": "t",
         "reviews_per_month": 2.57,
         "property_type": "Private room in apartment",
         "room_type": "Private room",
         "_deepnote_index_column": 31
        },
        {
         "number_of_reviews": 131,
         "review_scores_rating": 4.83,
         "neighbourhood_cleansed": "Nrrebro",
         "price": 1639,
         "availability_365": 333,
         "bedrooms": 2,
         "accommodates": 4,
         "instant_bookable": "f",
         "reviews_per_month": 1.28,
         "property_type": "Entire loft",
         "room_type": "Entire home/apt",
         "_deepnote_index_column": 32
        },
        {
         "number_of_reviews": 92,
         "review_scores_rating": 4.83,
         "neighbourhood_cleansed": "Indre By",
         "price": 896,
         "availability_365": 346,
         "bedrooms": 1,
         "accommodates": 2,
         "instant_bookable": "f",
         "reviews_per_month": 0.88,
         "property_type": "Entire apartment",
         "room_type": "Entire home/apt",
         "_deepnote_index_column": 33
        },
        {
         "number_of_reviews": 2,
         "review_scores_rating": 5,
         "neighbourhood_cleansed": "Vesterbro-Kongens Enghave",
         "price": 850,
         "availability_365": 231,
         "bedrooms": 2,
         "accommodates": 6,
         "instant_bookable": "f",
         "reviews_per_month": 0.06,
         "property_type": "Entire apartment",
         "room_type": "Entire home/apt",
         "_deepnote_index_column": 34
        },
        {
         "number_of_reviews": 51,
         "review_scores_rating": 4.9,
         "neighbourhood_cleansed": "Nrrebro",
         "price": 757,
         "availability_365": 3,
         "bedrooms": 1,
         "accommodates": 4,
         "instant_bookable": "f",
         "reviews_per_month": 0.45,
         "property_type": "Entire apartment",
         "room_type": "Entire home/apt",
         "_deepnote_index_column": 35
        },
        {
         "number_of_reviews": 4,
         "review_scores_rating": 4.75,
         "neighbourhood_cleansed": "Nrrebro",
         "price": 432,
         "availability_365": 353,
         "bedrooms": 1,
         "accommodates": 2,
         "instant_bookable": "f",
         "reviews_per_month": 0.05,
         "property_type": "Private room in condominium",
         "room_type": "Private room",
         "_deepnote_index_column": 36
        },
        {
         "number_of_reviews": 20,
         "review_scores_rating": 4.79,
         "neighbourhood_cleansed": "Nrrebro",
         "price": 788,
         "availability_365": 341,
         "bedrooms": 1,
         "accommodates": 2,
         "instant_bookable": "f",
         "reviews_per_month": 0.27,
         "property_type": "Entire apartment",
         "room_type": "Entire home/apt",
         "_deepnote_index_column": 37
        },
        {
         "number_of_reviews": 20,
         "review_scores_rating": 4.88,
         "neighbourhood_cleansed": "Indre By",
         "price": 930,
         "availability_365": 118,
         "bedrooms": 1,
         "accommodates": 2,
         "instant_bookable": "f",
         "reviews_per_month": 0.58,
         "property_type": "Entire apartment",
         "room_type": "Entire home/apt",
         "_deepnote_index_column": 38
        },
        {
         "number_of_reviews": 5,
         "review_scores_rating": 5,
         "neighbourhood_cleansed": "Nrrebro",
         "price": 1190,
         "availability_365": 137,
         "bedrooms": 3,
         "accommodates": 4,
         "instant_bookable": "f",
         "reviews_per_month": 0.2,
         "property_type": "Entire apartment",
         "room_type": "Entire home/apt",
         "_deepnote_index_column": 39
        },
        {
         "number_of_reviews": 14,
         "review_scores_rating": 4.46,
         "neighbourhood_cleansed": "Frederiksberg",
         "price": 855,
         "availability_365": 93,
         "bedrooms": 2,
         "accommodates": 5,
         "instant_bookable": "f",
         "reviews_per_month": 0.13,
         "property_type": "Entire apartment",
         "room_type": "Entire home/apt",
         "_deepnote_index_column": 40
        },
        {
         "number_of_reviews": 17,
         "review_scores_rating": 4.88,
         "neighbourhood_cleansed": "Vesterbro-Kongens Enghave",
         "price": 624,
         "availability_365": 0,
         "bedrooms": 1,
         "accommodates": 2,
         "instant_bookable": "f",
         "reviews_per_month": 0.16,
         "property_type": "Entire apartment",
         "room_type": "Entire home/apt",
         "_deepnote_index_column": 41
        },
        {
         "number_of_reviews": 300,
         "review_scores_rating": 4.73,
         "neighbourhood_cleansed": "Vesterbro-Kongens Enghave",
         "price": 236,
         "availability_365": 223,
         "bedrooms": 1,
         "accommodates": 1,
         "instant_bookable": "f",
         "reviews_per_month": 4.96,
         "property_type": "Private room in condominium",
         "room_type": "Private room",
         "_deepnote_index_column": 42
        },
        {
         "number_of_reviews": 109,
         "review_scores_rating": 4.76,
         "neighbourhood_cleansed": "Frederiksberg",
         "price": 930,
         "availability_365": 63,
         "bedrooms": 3,
         "accommodates": 5,
         "instant_bookable": "f",
         "reviews_per_month": 1.28,
         "property_type": "Entire apartment",
         "room_type": "Entire home/apt",
         "_deepnote_index_column": 43
        },
        {
         "number_of_reviews": 29,
         "review_scores_rating": 4.62,
         "neighbourhood_cleansed": "Nrrebro",
         "price": 1480,
         "availability_365": 173,
         "bedrooms": 4,
         "accommodates": 9,
         "instant_bookable": "f",
         "reviews_per_month": 0.4,
         "property_type": "Entire apartment",
         "room_type": "Entire home/apt",
         "_deepnote_index_column": 44
        }
       ],
       "rows_bottom": [
        {
         "number_of_reviews": 0,
         "review_scores_rating": "nan",
         "neighbourhood_cleansed": "Amager st",
         "price": 476,
         "availability_365": 10,
         "bedrooms": 2,
         "accommodates": 2,
         "instant_bookable": "t",
         "reviews_per_month": "nan",
         "property_type": "Private room in condominium",
         "room_type": "Private room",
         "_deepnote_index_column": 9904
        },
        {
         "number_of_reviews": 0,
         "review_scores_rating": "nan",
         "neighbourhood_cleansed": "Vesterbro-Kongens Enghave",
         "price": 829,
         "availability_365": 6,
         "bedrooms": 1,
         "accommodates": 4,
         "instant_bookable": "f",
         "reviews_per_month": "nan",
         "property_type": "Entire condominium",
         "room_type": "Entire home/apt",
         "_deepnote_index_column": 9905
        },
        {
         "number_of_reviews": 0,
         "review_scores_rating": "nan",
         "neighbourhood_cleansed": "sterbro",
         "price": 973,
         "availability_365": 324,
         "bedrooms": 2,
         "accommodates": 4,
         "instant_bookable": "t",
         "reviews_per_month": "nan",
         "property_type": "Entire apartment",
         "room_type": "Entire home/apt",
         "_deepnote_index_column": 9906
        },
        {
         "number_of_reviews": 0,
         "review_scores_rating": "nan",
         "neighbourhood_cleansed": "sterbro",
         "price": 533,
         "availability_365": 205,
         "bedrooms": 1,
         "accommodates": 2,
         "instant_bookable": "t",
         "reviews_per_month": "nan",
         "property_type": "Entire condominium",
         "room_type": "Entire home/apt",
         "_deepnote_index_column": 9907
        },
        {
         "number_of_reviews": 0,
         "review_scores_rating": "nan",
         "neighbourhood_cleansed": "sterbro",
         "price": 993,
         "availability_365": 90,
         "bedrooms": 1,
         "accommodates": 3,
         "instant_bookable": "f",
         "reviews_per_month": "nan",
         "property_type": "Camper/RV",
         "room_type": "Entire home/apt",
         "_deepnote_index_column": 9908
        },
        {
         "number_of_reviews": 0,
         "review_scores_rating": "nan",
         "neighbourhood_cleansed": "Vanlse",
         "price": 450,
         "availability_365": 49,
         "bedrooms": 1,
         "accommodates": 2,
         "instant_bookable": "t",
         "reviews_per_month": "nan",
         "property_type": "Entire condominium",
         "room_type": "Entire home/apt",
         "_deepnote_index_column": 9909
        },
        {
         "number_of_reviews": 0,
         "review_scores_rating": "nan",
         "neighbourhood_cleansed": "Amager st",
         "price": 1250,
         "availability_365": 332,
         "bedrooms": 1,
         "accommodates": 4,
         "instant_bookable": "f",
         "reviews_per_month": "nan",
         "property_type": "Tiny house",
         "room_type": "Entire home/apt",
         "_deepnote_index_column": 9910
        },
        {
         "number_of_reviews": 0,
         "review_scores_rating": "nan",
         "neighbourhood_cleansed": "Vesterbro-Kongens Enghave",
         "price": 1400,
         "availability_365": 365,
         "bedrooms": 1,
         "accommodates": 2,
         "instant_bookable": "t",
         "reviews_per_month": "nan",
         "property_type": "Entire apartment",
         "room_type": "Entire home/apt",
         "_deepnote_index_column": 9911
        },
        {
         "number_of_reviews": 0,
         "review_scores_rating": "nan",
         "neighbourhood_cleansed": "Vesterbro-Kongens Enghave",
         "price": 899,
         "availability_365": 348,
         "bedrooms": 1,
         "accommodates": 2,
         "instant_bookable": "f",
         "reviews_per_month": "nan",
         "property_type": "Entire condominium",
         "room_type": "Entire home/apt",
         "_deepnote_index_column": 9912
        },
        {
         "number_of_reviews": 0,
         "review_scores_rating": "nan",
         "neighbourhood_cleansed": "Nrrebro",
         "price": 593,
         "availability_365": 27,
         "bedrooms": 1,
         "accommodates": 2,
         "instant_bookable": "f",
         "reviews_per_month": "nan",
         "property_type": "Entire condominium",
         "room_type": "Entire home/apt",
         "_deepnote_index_column": 9913
        },
        {
         "number_of_reviews": 0,
         "review_scores_rating": "nan",
         "neighbourhood_cleansed": "Frederiksberg",
         "price": 750,
         "availability_365": 45,
         "bedrooms": 2,
         "accommodates": 3,
         "instant_bookable": "f",
         "reviews_per_month": "nan",
         "property_type": "Private room in condominium",
         "room_type": "Private room",
         "_deepnote_index_column": 9914
        },
        {
         "number_of_reviews": 0,
         "review_scores_rating": "nan",
         "neighbourhood_cleansed": "Nrrebro",
         "price": 593,
         "availability_365": 143,
         "bedrooms": 1,
         "accommodates": 2,
         "instant_bookable": "t",
         "reviews_per_month": "nan",
         "property_type": "Entire condominium",
         "room_type": "Entire home/apt",
         "_deepnote_index_column": 9915
        },
        {
         "number_of_reviews": 0,
         "review_scores_rating": "nan",
         "neighbourhood_cleansed": "Brnshj-Husum",
         "price": 1103,
         "availability_365": 154,
         "bedrooms": 2,
         "accommodates": 4,
         "instant_bookable": "t",
         "reviews_per_month": "nan",
         "property_type": "Entire apartment",
         "room_type": "Entire home/apt",
         "_deepnote_index_column": 9916
        },
        {
         "number_of_reviews": 0,
         "review_scores_rating": "nan",
         "neighbourhood_cleansed": "Amager Vest",
         "price": 703,
         "availability_365": 214,
         "bedrooms": 1,
         "accommodates": 2,
         "instant_bookable": "t",
         "reviews_per_month": "nan",
         "property_type": "Entire apartment",
         "room_type": "Entire home/apt",
         "_deepnote_index_column": 9917
        },
        {
         "number_of_reviews": 0,
         "review_scores_rating": "nan",
         "neighbourhood_cleansed": "sterbro",
         "price": 696,
         "availability_365": 328,
         "bedrooms": 1,
         "accommodates": 2,
         "instant_bookable": "t",
         "reviews_per_month": "nan",
         "property_type": "Entire condominium",
         "room_type": "Entire home/apt",
         "_deepnote_index_column": 9918
        },
        {
         "number_of_reviews": 0,
         "review_scores_rating": "nan",
         "neighbourhood_cleansed": "Indre By",
         "price": 1250,
         "availability_365": 147,
         "bedrooms": 1,
         "accommodates": 4,
         "instant_bookable": "t",
         "reviews_per_month": "nan",
         "property_type": "Entire condominium",
         "room_type": "Entire home/apt",
         "_deepnote_index_column": 9919
        },
        {
         "number_of_reviews": 0,
         "review_scores_rating": "nan",
         "neighbourhood_cleansed": "Nrrebro",
         "price": 873,
         "availability_365": 14,
         "bedrooms": 2,
         "accommodates": 5,
         "instant_bookable": "f",
         "reviews_per_month": "nan",
         "property_type": "Entire condominium",
         "room_type": "Entire home/apt",
         "_deepnote_index_column": 9920
        },
        {
         "number_of_reviews": 0,
         "review_scores_rating": "nan",
         "neighbourhood_cleansed": "Valby",
         "price": 800,
         "availability_365": 9,
         "bedrooms": 3,
         "accommodates": 4,
         "instant_bookable": "t",
         "reviews_per_month": "nan",
         "property_type": "Entire condominium",
         "room_type": "Entire home/apt",
         "_deepnote_index_column": 9921
        },
        {
         "number_of_reviews": 0,
         "review_scores_rating": "nan",
         "neighbourhood_cleansed": "Vesterbro-Kongens Enghave",
         "price": 1106,
         "availability_365": 21,
         "bedrooms": 2,
         "accommodates": 4,
         "instant_bookable": "f",
         "reviews_per_month": "nan",
         "property_type": "Entire apartment",
         "room_type": "Entire home/apt",
         "_deepnote_index_column": 9922
        },
        {
         "number_of_reviews": 0,
         "review_scores_rating": "nan",
         "neighbourhood_cleansed": "Valby",
         "price": 593,
         "availability_365": 319,
         "bedrooms": 1,
         "accommodates": 4,
         "instant_bookable": "t",
         "reviews_per_month": "nan",
         "property_type": "Entire apartment",
         "room_type": "Entire home/apt",
         "_deepnote_index_column": 9923
        },
        {
         "number_of_reviews": 0,
         "review_scores_rating": "nan",
         "neighbourhood_cleansed": "Amager Vest",
         "price": 225,
         "availability_365": 173,
         "bedrooms": 1,
         "accommodates": 4,
         "instant_bookable": "t",
         "reviews_per_month": "nan",
         "property_type": "Private room in apartment",
         "room_type": "Private room",
         "_deepnote_index_column": 9924
        },
        {
         "number_of_reviews": 0,
         "review_scores_rating": "nan",
         "neighbourhood_cleansed": "Amager Vest",
         "price": 199,
         "availability_365": 174,
         "bedrooms": 1,
         "accommodates": 4,
         "instant_bookable": "t",
         "reviews_per_month": "nan",
         "property_type": "Private room in apartment",
         "room_type": "Private room",
         "_deepnote_index_column": 9925
        },
        {
         "number_of_reviews": 0,
         "review_scores_rating": "nan",
         "neighbourhood_cleansed": "Vesterbro-Kongens Enghave",
         "price": 1200,
         "availability_365": 17,
         "bedrooms": 3,
         "accommodates": 6,
         "instant_bookable": "f",
         "reviews_per_month": "nan",
         "property_type": "Entire apartment",
         "room_type": "Entire home/apt",
         "_deepnote_index_column": 9926
        },
        {
         "number_of_reviews": 0,
         "review_scores_rating": "nan",
         "neighbourhood_cleansed": "Vesterbro-Kongens Enghave",
         "price": 500,
         "availability_365": 12,
         "bedrooms": 1,
         "accommodates": 3,
         "instant_bookable": "f",
         "reviews_per_month": "nan",
         "property_type": "Entire apartment",
         "room_type": "Entire home/apt",
         "_deepnote_index_column": 9927
        },
        {
         "number_of_reviews": 0,
         "review_scores_rating": "nan",
         "neighbourhood_cleansed": "Nrrebro",
         "price": 700,
         "availability_365": 78,
         "bedrooms": 1,
         "accommodates": 2,
         "instant_bookable": "f",
         "reviews_per_month": "nan",
         "property_type": "Entire condominium",
         "room_type": "Entire home/apt",
         "_deepnote_index_column": 9928
        },
        {
         "number_of_reviews": 0,
         "review_scores_rating": "nan",
         "neighbourhood_cleansed": "Amager Vest",
         "price": 863,
         "availability_365": 305,
         "bedrooms": 1,
         "accommodates": 2,
         "instant_bookable": "t",
         "reviews_per_month": "nan",
         "property_type": "Entire condominium",
         "room_type": "Entire home/apt",
         "_deepnote_index_column": 9929
        },
        {
         "number_of_reviews": 0,
         "review_scores_rating": "nan",
         "neighbourhood_cleansed": "Nrrebro",
         "price": 595,
         "availability_365": 6,
         "bedrooms": 1,
         "accommodates": 2,
         "instant_bookable": "f",
         "reviews_per_month": "nan",
         "property_type": "Entire apartment",
         "room_type": "Entire home/apt",
         "_deepnote_index_column": 9930
        },
        {
         "number_of_reviews": 0,
         "review_scores_rating": "nan",
         "neighbourhood_cleansed": "Amager Vest",
         "price": 747,
         "availability_365": 28,
         "bedrooms": 1,
         "accommodates": 3,
         "instant_bookable": "f",
         "reviews_per_month": "nan",
         "property_type": "Entire apartment",
         "room_type": "Entire home/apt",
         "_deepnote_index_column": 9931
        },
        {
         "number_of_reviews": 0,
         "review_scores_rating": "nan",
         "neighbourhood_cleansed": "Indre By",
         "price": 553,
         "availability_365": 269,
         "bedrooms": "nan",
         "accommodates": 2,
         "instant_bookable": "f",
         "reviews_per_month": "nan",
         "property_type": "Entire apartment",
         "room_type": "Entire home/apt",
         "_deepnote_index_column": 9932
        },
        {
         "number_of_reviews": 0,
         "review_scores_rating": "nan",
         "neighbourhood_cleansed": "Bispebjerg",
         "price": 580,
         "availability_365": 355,
         "bedrooms": 1,
         "accommodates": 4,
         "instant_bookable": "f",
         "reviews_per_month": "nan",
         "property_type": "Entire condominium",
         "room_type": "Entire home/apt",
         "_deepnote_index_column": 9933
        },
        {
         "number_of_reviews": 0,
         "review_scores_rating": "nan",
         "neighbourhood_cleansed": "sterbro",
         "price": 353,
         "availability_365": 21,
         "bedrooms": 1,
         "accommodates": 2,
         "instant_bookable": "f",
         "reviews_per_month": "nan",
         "property_type": "Private room in condominium",
         "room_type": "Private room",
         "_deepnote_index_column": 9934
        },
        {
         "number_of_reviews": 0,
         "review_scores_rating": "nan",
         "neighbourhood_cleansed": "Valby",
         "price": 223,
         "availability_365": 226,
         "bedrooms": 1,
         "accommodates": 1,
         "instant_bookable": "t",
         "reviews_per_month": "nan",
         "property_type": "Private room in casa particular",
         "room_type": "Private room",
         "_deepnote_index_column": 9935
        },
        {
         "number_of_reviews": 0,
         "review_scores_rating": "nan",
         "neighbourhood_cleansed": "Amager st",
         "price": 700,
         "availability_365": 324,
         "bedrooms": 2,
         "accommodates": 4,
         "instant_bookable": "t",
         "reviews_per_month": "nan",
         "property_type": "Entire condominium",
         "room_type": "Entire home/apt",
         "_deepnote_index_column": 9936
        },
        {
         "number_of_reviews": 0,
         "review_scores_rating": "nan",
         "neighbourhood_cleansed": "sterbro",
         "price": 650,
         "availability_365": 13,
         "bedrooms": 1,
         "accommodates": 4,
         "instant_bookable": "f",
         "reviews_per_month": "nan",
         "property_type": "Entire loft",
         "room_type": "Entire home/apt",
         "_deepnote_index_column": 9937
        },
        {
         "number_of_reviews": 0,
         "review_scores_rating": "nan",
         "neighbourhood_cleansed": "Vesterbro-Kongens Enghave",
         "price": 660,
         "availability_365": 365,
         "bedrooms": 1,
         "accommodates": 2,
         "instant_bookable": "f",
         "reviews_per_month": "nan",
         "property_type": "Entire condominium",
         "room_type": "Entire home/apt",
         "_deepnote_index_column": 9938
        },
        {
         "number_of_reviews": 0,
         "review_scores_rating": "nan",
         "neighbourhood_cleansed": "sterbro",
         "price": 900,
         "availability_365": 19,
         "bedrooms": 2,
         "accommodates": 4,
         "instant_bookable": "f",
         "reviews_per_month": "nan",
         "property_type": "Entire condominium",
         "room_type": "Entire home/apt",
         "_deepnote_index_column": 9939
        },
        {
         "number_of_reviews": 0,
         "review_scores_rating": "nan",
         "neighbourhood_cleansed": "Nrrebro",
         "price": 955,
         "availability_365": 350,
         "bedrooms": 1,
         "accommodates": 3,
         "instant_bookable": "f",
         "reviews_per_month": "nan",
         "property_type": "Entire condominium",
         "room_type": "Entire home/apt",
         "_deepnote_index_column": 9940
        },
        {
         "number_of_reviews": 0,
         "review_scores_rating": "nan",
         "neighbourhood_cleansed": "Amager Vest",
         "price": 804,
         "availability_365": 365,
         "bedrooms": 1,
         "accommodates": 4,
         "instant_bookable": "t",
         "reviews_per_month": "nan",
         "property_type": "Entire apartment",
         "room_type": "Entire home/apt",
         "_deepnote_index_column": 9941
        },
        {
         "number_of_reviews": 0,
         "review_scores_rating": "nan",
         "neighbourhood_cleansed": "Frederiksberg",
         "price": 450,
         "availability_365": 8,
         "bedrooms": 1,
         "accommodates": 4,
         "instant_bookable": "t",
         "reviews_per_month": "nan",
         "property_type": "Entire condominium",
         "room_type": "Entire home/apt",
         "_deepnote_index_column": 9942
        },
        {
         "number_of_reviews": 0,
         "review_scores_rating": "nan",
         "neighbourhood_cleansed": "Amager st",
         "price": 592,
         "availability_365": 6,
         "bedrooms": 1,
         "accommodates": 2,
         "instant_bookable": "t",
         "reviews_per_month": "nan",
         "property_type": "Entire condominium",
         "room_type": "Entire home/apt",
         "_deepnote_index_column": 9943
        },
        {
         "number_of_reviews": 0,
         "review_scores_rating": "nan",
         "neighbourhood_cleansed": "Amager st",
         "price": 508,
         "availability_365": 17,
         "bedrooms": 1,
         "accommodates": 4,
         "instant_bookable": "t",
         "reviews_per_month": "nan",
         "property_type": "Entire condominium",
         "room_type": "Entire home/apt",
         "_deepnote_index_column": 9944
        },
        {
         "number_of_reviews": 0,
         "review_scores_rating": "nan",
         "neighbourhood_cleansed": "sterbro",
         "price": 1000,
         "availability_365": 80,
         "bedrooms": 1,
         "accommodates": 3,
         "instant_bookable": "t",
         "reviews_per_month": "nan",
         "property_type": "Entire condominium",
         "room_type": "Entire home/apt",
         "_deepnote_index_column": 9945
        },
        {
         "number_of_reviews": 0,
         "review_scores_rating": "nan",
         "neighbourhood_cleansed": "Indre By",
         "price": 1756,
         "availability_365": 83,
         "bedrooms": 2,
         "accommodates": 6,
         "instant_bookable": "t",
         "reviews_per_month": "nan",
         "property_type": "Entire condominium",
         "room_type": "Entire home/apt",
         "_deepnote_index_column": 9946
        },
        {
         "number_of_reviews": 0,
         "review_scores_rating": "nan",
         "neighbourhood_cleansed": "Amager Vest",
         "price": 1137,
         "availability_365": 87,
         "bedrooms": "nan",
         "accommodates": 3,
         "instant_bookable": "f",
         "reviews_per_month": "nan",
         "property_type": "Entire apartment",
         "room_type": "Entire home/apt",
         "_deepnote_index_column": 9947
        },
        {
         "number_of_reviews": 0,
         "review_scores_rating": "nan",
         "neighbourhood_cleansed": "Vesterbro-Kongens Enghave",
         "price": 650,
         "availability_365": 14,
         "bedrooms": 1,
         "accommodates": 2,
         "instant_bookable": "f",
         "reviews_per_month": "nan",
         "property_type": "Entire apartment",
         "room_type": "Entire home/apt",
         "_deepnote_index_column": 9948
        }
       ]
      },
      "text/plain": "      number_of_reviews  review_scores_rating     neighbourhood_cleansed  \\\n0                   168                  4.78                    Nrrebro   \n1                    50                  4.90                   Indre By   \n2                    22                  4.91  Vesterbro-Kongens Enghave   \n3                    17                  4.87  Vesterbro-Kongens Enghave   \n4                    73                  4.89  Vesterbro-Kongens Enghave   \n...                 ...                   ...                        ...   \n9944                  0                   NaN                  Amager st   \n9945                  0                   NaN                    sterbro   \n9946                  0                   NaN                   Indre By   \n9947                  0                   NaN                Amager Vest   \n9948                  0                   NaN  Vesterbro-Kongens Enghave   \n\n       price  availability_365  bedrooms  accommodates instant_bookable  \\\n0      365.0                 0       1.0             2                f   \n1     2400.0               347       4.0             6                f   \n2      729.0                46       1.0             2                f   \n3      750.0                 0       1.0             3                f   \n4     1153.0                91       3.0             5                t   \n...      ...               ...       ...           ...              ...   \n9944   508.0                17       1.0             4                t   \n9945  1000.0                80       1.0             3                t   \n9946  1756.0                83       2.0             6                t   \n9947  1137.0                87       NaN             3                f   \n9948   650.0                14       1.0             2                f   \n\n      reviews_per_month              property_type        room_type  \n0                  1.61  Private room in apartment     Private room  \n1                  0.75               Entire house  Entire home/apt  \n2                  0.37           Entire apartment  Entire home/apt  \n3                  0.27           Entire apartment  Entire home/apt  \n4                  0.66           Entire apartment  Entire home/apt  \n...                 ...                        ...              ...  \n9944                NaN         Entire condominium  Entire home/apt  \n9945                NaN         Entire condominium  Entire home/apt  \n9946                NaN         Entire condominium  Entire home/apt  \n9947                NaN           Entire apartment  Entire home/apt  \n9948                NaN           Entire apartment  Entire home/apt  \n\n[9949 rows x 11 columns]",
      "text/html": "<div>\n<style scoped>\n    .dataframe tbody tr th:only-of-type {\n        vertical-align: middle;\n    }\n\n    .dataframe tbody tr th {\n        vertical-align: top;\n    }\n\n    .dataframe thead th {\n        text-align: right;\n    }\n</style>\n<table border=\"1\" class=\"dataframe\">\n  <thead>\n    <tr style=\"text-align: right;\">\n      <th></th>\n      <th>number_of_reviews</th>\n      <th>review_scores_rating</th>\n      <th>neighbourhood_cleansed</th>\n      <th>price</th>\n      <th>availability_365</th>\n      <th>bedrooms</th>\n      <th>accommodates</th>\n      <th>instant_bookable</th>\n      <th>reviews_per_month</th>\n      <th>property_type</th>\n      <th>room_type</th>\n    </tr>\n  </thead>\n  <tbody>\n    <tr>\n      <th>0</th>\n      <td>168</td>\n      <td>4.78</td>\n      <td>Nrrebro</td>\n      <td>365.0</td>\n      <td>0</td>\n      <td>1.0</td>\n      <td>2</td>\n      <td>f</td>\n      <td>1.61</td>\n      <td>Private room in apartment</td>\n      <td>Private room</td>\n    </tr>\n    <tr>\n      <th>1</th>\n      <td>50</td>\n      <td>4.90</td>\n      <td>Indre By</td>\n      <td>2400.0</td>\n      <td>347</td>\n      <td>4.0</td>\n      <td>6</td>\n      <td>f</td>\n      <td>0.75</td>\n      <td>Entire house</td>\n      <td>Entire home/apt</td>\n    </tr>\n    <tr>\n      <th>2</th>\n      <td>22</td>\n      <td>4.91</td>\n      <td>Vesterbro-Kongens Enghave</td>\n      <td>729.0</td>\n      <td>46</td>\n      <td>1.0</td>\n      <td>2</td>\n      <td>f</td>\n      <td>0.37</td>\n      <td>Entire apartment</td>\n      <td>Entire home/apt</td>\n    </tr>\n    <tr>\n      <th>3</th>\n      <td>17</td>\n      <td>4.87</td>\n      <td>Vesterbro-Kongens Enghave</td>\n      <td>750.0</td>\n      <td>0</td>\n      <td>1.0</td>\n      <td>3</td>\n      <td>f</td>\n      <td>0.27</td>\n      <td>Entire apartment</td>\n      <td>Entire home/apt</td>\n    </tr>\n    <tr>\n      <th>4</th>\n      <td>73</td>\n      <td>4.89</td>\n      <td>Vesterbro-Kongens Enghave</td>\n      <td>1153.0</td>\n      <td>91</td>\n      <td>3.0</td>\n      <td>5</td>\n      <td>t</td>\n      <td>0.66</td>\n      <td>Entire apartment</td>\n      <td>Entire home/apt</td>\n    </tr>\n    <tr>\n      <th>...</th>\n      <td>...</td>\n      <td>...</td>\n      <td>...</td>\n      <td>...</td>\n      <td>...</td>\n      <td>...</td>\n      <td>...</td>\n      <td>...</td>\n      <td>...</td>\n      <td>...</td>\n      <td>...</td>\n    </tr>\n    <tr>\n      <th>9944</th>\n      <td>0</td>\n      <td>NaN</td>\n      <td>Amager st</td>\n      <td>508.0</td>\n      <td>17</td>\n      <td>1.0</td>\n      <td>4</td>\n      <td>t</td>\n      <td>NaN</td>\n      <td>Entire condominium</td>\n      <td>Entire home/apt</td>\n    </tr>\n    <tr>\n      <th>9945</th>\n      <td>0</td>\n      <td>NaN</td>\n      <td>sterbro</td>\n      <td>1000.0</td>\n      <td>80</td>\n      <td>1.0</td>\n      <td>3</td>\n      <td>t</td>\n      <td>NaN</td>\n      <td>Entire condominium</td>\n      <td>Entire home/apt</td>\n    </tr>\n    <tr>\n      <th>9946</th>\n      <td>0</td>\n      <td>NaN</td>\n      <td>Indre By</td>\n      <td>1756.0</td>\n      <td>83</td>\n      <td>2.0</td>\n      <td>6</td>\n      <td>t</td>\n      <td>NaN</td>\n      <td>Entire condominium</td>\n      <td>Entire home/apt</td>\n    </tr>\n    <tr>\n      <th>9947</th>\n      <td>0</td>\n      <td>NaN</td>\n      <td>Amager Vest</td>\n      <td>1137.0</td>\n      <td>87</td>\n      <td>NaN</td>\n      <td>3</td>\n      <td>f</td>\n      <td>NaN</td>\n      <td>Entire apartment</td>\n      <td>Entire home/apt</td>\n    </tr>\n    <tr>\n      <th>9948</th>\n      <td>0</td>\n      <td>NaN</td>\n      <td>Vesterbro-Kongens Enghave</td>\n      <td>650.0</td>\n      <td>14</td>\n      <td>1.0</td>\n      <td>2</td>\n      <td>f</td>\n      <td>NaN</td>\n      <td>Entire apartment</td>\n      <td>Entire home/apt</td>\n    </tr>\n  </tbody>\n</table>\n<p>9949 rows × 11 columns</p>\n</div>"
     },
     "metadata": {}
    }
   ],
   "execution_count": 24
  },
  {
   "cell_type": "code",
   "source": "sns.boxplot(listings_filtered.price, showfliers=False)",
   "metadata": {
    "tags": [],
    "cell_id": "00012-d076b1cf-ca9b-453b-bd3d-f3226bd12cf1",
    "deepnote_to_be_reexecuted": false,
    "source_hash": "503e09b4",
    "execution_start": 1632213037844,
    "execution_millis": 164,
    "deepnote_cell_type": "code"
   },
   "outputs": [
    {
     "name": "stderr",
     "text": "/shared-libs/python3.7/py/lib/python3.7/site-packages/seaborn/_decorators.py:43: FutureWarning: Pass the following variable as a keyword arg: x. From version 0.12, the only valid positional argument will be `data`, and passing other arguments without an explicit keyword will result in an error or misinterpretation.\n  FutureWarning\n",
     "output_type": "stream"
    },
    {
     "output_type": "execute_result",
     "execution_count": 27,
     "data": {
      "text/plain": "<AxesSubplot:xlabel='price'>"
     },
     "metadata": {}
    },
    {
     "data": {
      "text/plain": "<Figure size 432x288 with 1 Axes>",
      "image/png": "[encoded data removed]"
     },
     "metadata": {
      "needs_background": "light",
      "image/png": {
       "width": 352,
       "height": 262
      }
     },
     "output_type": "display_data"
    }
   ],
   "execution_count": 27
  },
  {
   "cell_type": "code",
   "source": "iqr_price = listings_filtered.price.quantile(0.75) - listings_filtered.price.quantile(0.25)",
   "metadata": {
    "tags": [],
    "cell_id": "00013-5ef9ac9d-9618-48a6-995e-ee5307c0a0b6",
    "deepnote_to_be_reexecuted": false,
    "source_hash": "484c3c28",
    "execution_start": 1632213158011,
    "execution_millis": 3,
    "deepnote_cell_type": "code"
   },
   "outputs": [],
   "execution_count": 28
  },
  {
   "cell_type": "code",
   "source": "upper_bound_price = listings_filtered.price.quantile(0.75) + 1.5*iqr_price",
   "metadata": {
    "tags": [],
    "cell_id": "00014-8a6438f9-26a4-4516-aa19-131945e6bb11",
    "deepnote_to_be_reexecuted": false,
    "source_hash": "a125d236",
    "execution_start": 1632213212264,
    "execution_millis": 2,
    "deepnote_cell_type": "code"
   },
   "outputs": [],
   "execution_count": 30
  },
  {
   "cell_type": "code",
   "source": "listings_filtered = listings_filtered[listings_filtered['price'] <= upper_bound_price]",
   "metadata": {
    "tags": [],
    "cell_id": "00015-0b3b6fd2-4cac-4434-b3e0-2ed8f4bbe674",
    "deepnote_to_be_reexecuted": false,
    "source_hash": "8b16687c",
    "execution_start": 1632213259214,
    "execution_millis": 0,
    "deepnote_cell_type": "code"
   },
   "outputs": [],
   "execution_count": 32
  },
  {
   "cell_type": "code",
   "source": "listings_filtered = listings_filtered[listings_filtered.number_of_reviews > 0]",
   "metadata": {
    "tags": [],
    "cell_id": "00017-3bf3ecc2-90fb-4e77-bd86-384afe9dda89",
    "allow_embed": "code_output",
    "deepnote_to_be_reexecuted": false,
    "source_hash": "e8a72269",
    "execution_start": 1632213444316,
    "execution_millis": 6,
    "deepnote_cell_type": "code"
   },
   "outputs": [],
   "execution_count": 39
  },
  {
   "cell_type": "code",
   "source": "(listings_filtered.property_type.value_counts() > 100)[:7].index",
   "metadata": {
    "tags": [],
    "cell_id": "00017-39123521-aa27-4459-b257-c836b56abbab",
    "deepnote_to_be_reexecuted": false,
    "source_hash": "7505b4b9",
    "execution_start": 1632213698674,
    "execution_millis": 11,
    "deepnote_cell_type": "code"
   },
   "outputs": [
    {
     "output_type": "execute_result",
     "execution_count": 44,
     "data": {
      "text/plain": "Index(['Entire apartment', 'Private room in apartment', 'Entire condominium',\n       'Entire house', 'Entire townhouse', 'Entire serviced apartment',\n       'Private room in house'],\n      dtype='object')"
     },
     "metadata": {}
    }
   ],
   "execution_count": 44
  },
  {
   "cell_type": "code",
   "source": "property_selection = ['Entire apartment', 'Private room in apartment', 'Entire condominium',\n       'Entire house', 'Entire townhouse', 'Entire serviced apartment',\n       'Private room in house']\nlistings_filtered = listings_filtered[listings_filtered['property_type'].isin(property_selection)]",
   "metadata": {
    "tags": [],
    "cell_id": "00018-dc88b16b-223e-4898-94d0-919beb25b8d6",
    "deepnote_to_be_reexecuted": false,
    "source_hash": "2dd03bb5",
    "execution_start": 1632213783368,
    "execution_millis": 3,
    "deepnote_cell_type": "code"
   },
   "outputs": [],
   "execution_count": 45
  },
  {
   "cell_type": "code",
   "source": "mapper_instant_book = {'t':True, 'f':False}\nlistings_filtered.instant_bookable = listings_filtered.instant_bookable.map(lambda v: mapper_instant_book[v])",
   "metadata": {
    "tags": [],
    "cell_id": "00019-7cbecff5-8f73-43c2-bbc6-98be3f0b1f6d",
    "deepnote_to_be_reexecuted": false,
    "source_hash": "b631b430",
    "execution_start": 1632214594115,
    "execution_millis": 2,
    "deepnote_cell_type": "code"
   },
   "outputs": [],
   "execution_count": 65
  },
  {
   "cell_type": "code",
   "source": "listings_filtered.isnull().sum()",
   "metadata": {
    "tags": [],
    "cell_id": "00020-3ad2e7a6-418b-4bfa-a543-0f67929bcac7",
    "deepnote_to_be_reexecuted": false,
    "source_hash": "25548960",
    "execution_start": 1632214603149,
    "execution_millis": 13,
    "deepnote_cell_type": "code"
   },
   "outputs": [
    {
     "output_type": "execute_result",
     "execution_count": 66,
     "data": {
      "text/plain": "number_of_reviews         0\nreview_scores_rating      0\nneighbourhood_cleansed    0\nprice                     0\navailability_365          0\nbedrooms                  0\naccommodates              0\ninstant_bookable          0\nreviews_per_month         0\nproperty_type             0\nroom_type                 0\ndtype: int64"
     },
     "metadata": {}
    }
   ],
   "execution_count": 66
  },
  {
   "cell_type": "code",
   "source": "listings_filtered.bedrooms = listings_filtered.bedrooms.fillna(listings_filtered.bedrooms.mean())",
   "metadata": {
    "tags": [],
    "cell_id": "00021-773d365d-c4a6-43bd-a82e-b95c5c916e9f",
    "deepnote_to_be_reexecuted": false,
    "source_hash": "62262200",
    "execution_start": 1632214311557,
    "execution_millis": 3,
    "deepnote_cell_type": "code"
   },
   "outputs": [],
   "execution_count": 56
  },
  {
   "cell_type": "code",
   "source": "X = pd.get_dummies(listings_filtered)",
   "metadata": {
    "tags": [],
    "cell_id": "00024-bb72306a-de29-4a3d-8ed5-50a06c181584",
    "deepnote_to_be_reexecuted": false,
    "source_hash": "e13e1959",
    "execution_start": 1632214626130,
    "execution_millis": 8,
    "deepnote_cell_type": "code"
   },
   "outputs": [],
   "execution_count": 68
  },
  {
   "cell_type": "code",
   "source": "X.info()",
   "metadata": {
    "tags": [],
    "cell_id": "00024-75e35b5b-cb1c-4d69-a037-822f69fff570",
    "deepnote_to_be_reexecuted": false,
    "source_hash": "e52f4e4c",
    "execution_start": 1632214673592,
    "execution_millis": 18,
    "deepnote_cell_type": "code"
   },
   "outputs": [
    {
     "name": "stdout",
     "text": "<class 'pandas.core.frame.DataFrame'>\nInt64Index: 7257 entries, 0 to 9833\nData columns (total 28 columns):\n #   Column                                            Non-Null Count  Dtype  \n---  ------                                            --------------  -----  \n 0   number_of_reviews                                 7257 non-null   int64  \n 1   review_scores_rating                              7257 non-null   float64\n 2   price                                             7257 non-null   float64\n 3   availability_365                                  7257 non-null   int64  \n 4   bedrooms                                          7257 non-null   float64\n 5   accommodates                                      7257 non-null   int64  \n 6   instant_bookable                                  7257 non-null   bool   \n 7   reviews_per_month                                 7257 non-null   float64\n 8   neighbourhood_cleansed_Amager Vest                7257 non-null   uint8  \n 9   neighbourhood_cleansed_Amager st                  7257 non-null   uint8  \n 10  neighbourhood_cleansed_Bispebjerg                 7257 non-null   uint8  \n 11  neighbourhood_cleansed_Brnshj-Husum               7257 non-null   uint8  \n 12  neighbourhood_cleansed_Frederiksberg              7257 non-null   uint8  \n 13  neighbourhood_cleansed_Indre By                   7257 non-null   uint8  \n 14  neighbourhood_cleansed_Nrrebro                    7257 non-null   uint8  \n 15  neighbourhood_cleansed_Valby                      7257 non-null   uint8  \n 16  neighbourhood_cleansed_Vanlse                     7257 non-null   uint8  \n 17  neighbourhood_cleansed_Vesterbro-Kongens Enghave  7257 non-null   uint8  \n 18  neighbourhood_cleansed_sterbro                    7257 non-null   uint8  \n 19  property_type_Entire apartment                    7257 non-null   uint8  \n 20  property_type_Entire condominium                  7257 non-null   uint8  \n 21  property_type_Entire house                        7257 non-null   uint8  \n 22  property_type_Entire serviced apartment           7257 non-null   uint8  \n 23  property_type_Entire townhouse                    7257 non-null   uint8  \n 24  property_type_Private room in apartment           7257 non-null   uint8  \n 25  property_type_Private room in house               7257 non-null   uint8  \n 26  room_type_Entire home/apt                         7257 non-null   uint8  \n 27  room_type_Private room                            7257 non-null   uint8  \ndtypes: bool(1), float64(4), int64(3), uint8(20)\nmemory usage: 860.4 KB\n",
     "output_type": "stream"
    }
   ],
   "execution_count": 70
  },
  {
   "cell_type": "code",
   "source": "from sklearn.preprocessing import StandardScaler\nscaler = StandardScaler()",
   "metadata": {
    "tags": [],
    "cell_id": "00024-f1874887-d61c-4910-9a04-4bf7910a3011",
    "deepnote_to_be_reexecuted": false,
    "source_hash": "94b160b6",
    "execution_start": 1632214824822,
    "execution_millis": 10,
    "deepnote_cell_type": "code"
   },
   "outputs": [],
   "execution_count": 71
  },
  {
   "cell_type": "code",
   "source": "X.iloc[:,:8] = scaler.fit_transform(X.iloc[:,:8])",
   "metadata": {
    "tags": [],
    "cell_id": "00025-315e1f29-8db9-4cf7-b297-60e07ae03334",
    "deepnote_to_be_reexecuted": false,
    "source_hash": "5a57def8",
    "execution_start": 1632214910753,
    "execution_millis": 18,
    "deepnote_cell_type": "code"
   },
   "outputs": [],
   "execution_count": 73
  },
  {
   "cell_type": "code",
   "source": "X",
   "metadata": {
    "tags": [],
    "cell_id": "00026-8205c102-bd6c-482e-8fc7-76550cb03b33",
    "deepnote_to_be_reexecuted": false,
    "source_hash": "b2696ff6",
    "execution_start": 1632214914618,
    "execution_millis": 78,
    "deepnote_cell_type": "code"
   },
   "outputs": [
    {
     "output_type": "execute_result",
     "execution_count": 74,
     "data": {
      "application/vnd.deepnote.dataframe.v2+json": {
       "row_count": 7257,
       "column_count": 28,
       "columns": [
        {
         "name": "number_of_reviews",
         "dtype": "float64",
         "stats": {
          "unique_count": 222,
          "nan_count": 0,
          "min": "-0.6042851429138267",
          "max": "17.360699079226556",
          "histogram": [
           {
            "bin_start": -0.6042851429138267,
            "bin_end": 1.1922132793002116,
            "count": 6708
           },
           {
            "bin_start": 1.1922132793002116,
            "bin_end": 2.9887117015142497,
            "count": 401
           },
           {
            "bin_start": 2.9887117015142497,
            "bin_end": 4.785210123728288,
            "count": 91
           },
           {
            "bin_start": 4.785210123728288,
            "bin_end": 6.581708545942327,
            "count": 30
           },
           {
            "bin_start": 6.581708545942327,
            "bin_end": 8.378206968156364,
            "count": 14
           },
           {
            "bin_start": 8.378206968156364,
            "bin_end": 10.174705390370402,
            "count": 8
           },
           {
            "bin_start": 10.174705390370402,
            "bin_end": 11.971203812584442,
            "count": 3
           },
           {
            "bin_start": 11.971203812584442,
            "bin_end": 13.76770223479848,
            "count": 1
           },
           {
            "bin_start": 13.76770223479848,
            "bin_end": 15.564200657012517,
            "count": 0
           },
           {
            "bin_start": 15.564200657012517,
            "bin_end": 17.360699079226556,
            "count": 1
           }
          ]
         }
        },
        {
         "name": "review_scores_rating",
         "dtype": "float64",
         "stats": {
          "unique_count": 114,
          "nan_count": 0,
          "min": "-7.754175404830095",
          "max": "0.45937000153977653",
          "histogram": [
           {
            "bin_start": -7.754175404830095,
            "bin_end": -6.932820864193108,
            "count": 86
           },
           {
            "bin_start": -6.932820864193108,
            "bin_end": -6.111466323556121,
            "count": 0
           },
           {
            "bin_start": -6.111466323556121,
            "bin_end": -5.2901117829191335,
            "count": 9
           },
           {
            "bin_start": -5.2901117829191335,
            "bin_end": -4.468757242282146,
            "count": 1
           },
           {
            "bin_start": -4.468757242282146,
            "bin_end": -3.6474027016451593,
            "count": 8
           },
           {
            "bin_start": -3.6474027016451593,
            "bin_end": -2.8260481610081722,
            "count": 2
           },
           {
            "bin_start": -2.8260481610081722,
            "bin_end": -2.004693620371185,
            "count": 36
           },
           {
            "bin_start": -2.004693620371185,
            "bin_end": -1.183339079734198,
            "count": 46
           },
           {
            "bin_start": -1.183339079734198,
            "bin_end": -0.36198453909721096,
            "count": 604
           },
           {
            "bin_start": -0.36198453909721096,
            "bin_end": 0.45937000153977653,
            "count": 6465
           }
          ]
         }
        },
        {
         "name": "price",
         "dtype": "float64",
         "stats": {
          "unique_count": 1103,
          "nan_count": 0,
          "min": "-1.9548967094440015",
          "max": "3.126930126274741",
          "histogram": [
           {
            "bin_start": -1.9548967094440015,
            "bin_end": -1.4467140258721272,
            "count": 287
           },
           {
            "bin_start": -1.4467140258721272,
            "bin_end": -0.938531342300253,
            "count": 952
           },
           {
            "bin_start": -0.938531342300253,
            "bin_end": -0.4303486587283789,
            "count": 1464
           },
           {
            "bin_start": -0.4303486587283789,
            "bin_end": 0.07783402484349544,
            "count": 1716
           },
           {
            "bin_start": 0.07783402484349544,
            "bin_end": 0.5860167084153698,
            "count": 1189
           },
           {
            "bin_start": 0.5860167084153698,
            "bin_end": 1.0941993919872437,
            "count": 699
           },
           {
            "bin_start": 1.0941993919872437,
            "bin_end": 1.602382075559118,
            "count": 285
           },
           {
            "bin_start": 1.602382075559118,
            "bin_end": 2.1105647591309924,
            "count": 324
           },
           {
            "bin_start": 2.1105647591309924,
            "bin_end": 2.6187474427028667,
            "count": 185
           },
           {
            "bin_start": 2.6187474427028667,
            "bin_end": 3.126930126274741,
            "count": 156
           }
          ]
         }
        },
        {
         "name": "availability_365",
         "dtype": "float64",
         "stats": {
          "unique_count": 364,
          "nan_count": 0,
          "min": "-0.8606084266520035",
          "max": "2.0703446201128943",
          "histogram": [
           {
            "bin_start": -0.8606084266520035,
            "bin_end": -0.5675131219755137,
            "count": 3434
           },
           {
            "bin_start": -0.5675131219755137,
            "bin_end": -0.2744178172990239,
            "count": 533
           },
           {
            "bin_start": -0.2744178172990239,
            "bin_end": 0.018677487377465884,
            "count": 644
           },
           {
            "bin_start": 0.018677487377465884,
            "bin_end": 0.3117727920539557,
            "count": 319
           },
           {
            "bin_start": 0.3117727920539557,
            "bin_end": 0.6048680967304456,
            "count": 504
           },
           {
            "bin_start": 0.6048680967304456,
            "bin_end": 0.8979634014069353,
            "count": 300
           },
           {
            "bin_start": 0.8979634014069353,
            "bin_end": 1.191058706083425,
            "count": 185
           },
           {
            "bin_start": 1.191058706083425,
            "bin_end": 1.484154010759915,
            "count": 259
           },
           {
            "bin_start": 1.484154010759915,
            "bin_end": 1.7772493154364049,
            "count": 327
           },
           {
            "bin_start": 1.7772493154364049,
            "bin_end": 2.0703446201128943,
            "count": 752
           }
          ]
         }
        },
        {
         "name": "bedrooms",
         "dtype": "float64",
         "stats": {
          "unique_count": 9,
          "nan_count": 0,
          "min": "-0.7267062808675746",
          "max": "7.248815117922682",
          "histogram": [
           {
            "bin_start": -0.7267062808675746,
            "bin_end": 0.07084585901145102,
            "count": 4285
           },
           {
            "bin_start": 0.07084585901145102,
            "bin_end": 0.8683979988904766,
            "count": 1750
           },
           {
            "bin_start": 0.8683979988904766,
            "bin_end": 1.6659501387695022,
            "count": 925
           },
           {
            "bin_start": 1.6659501387695022,
            "bin_end": 2.463502278648528,
            "count": 0
           },
           {
            "bin_start": 2.463502278648528,
            "bin_end": 3.2610544185275536,
            "count": 254
           },
           {
            "bin_start": 3.2610544185275536,
            "bin_end": 4.058606558406579,
            "count": 40
           },
           {
            "bin_start": 4.058606558406579,
            "bin_end": 4.856158698285605,
            "count": 0
           },
           {
            "bin_start": 4.856158698285605,
            "bin_end": 5.65371083816463,
            "count": 1
           },
           {
            "bin_start": 5.65371083816463,
            "bin_end": 6.451262978043656,
            "count": 1
           },
           {
            "bin_start": 6.451262978043656,
            "bin_end": 7.248815117922682,
            "count": 1
           }
          ]
         }
        },
        {
         "name": "accommodates",
         "dtype": "float64",
         "stats": {
          "unique_count": 12,
          "nan_count": 0,
          "min": "-1.4813230041953125",
          "max": "5.336178953481205",
          "histogram": [
           {
            "bin_start": -1.4813230041953125,
            "bin_end": -0.7995728084276608,
            "count": 3046
           },
           {
            "bin_start": -0.7995728084276608,
            "bin_end": -0.11782261266000904,
            "count": 936
           },
           {
            "bin_start": -0.11782261266000904,
            "bin_end": 0.5639275831076425,
            "count": 1768
           },
           {
            "bin_start": 0.5639275831076425,
            "bin_end": 1.2456777788752944,
            "count": 644
           },
           {
            "bin_start": 1.2456777788752944,
            "bin_end": 1.9274279746429464,
            "count": 611
           },
           {
            "bin_start": 1.9274279746429464,
            "bin_end": 2.6091781704105976,
            "count": 92
           },
           {
            "bin_start": 2.6091781704105976,
            "bin_end": 3.2909283661782496,
            "count": 119
           },
           {
            "bin_start": 3.2909283661782496,
            "bin_end": 3.9726785619459015,
            "count": 19
           },
           {
            "bin_start": 3.9726785619459015,
            "bin_end": 4.6544287577135535,
            "count": 17
           },
           {
            "bin_start": 4.6544287577135535,
            "bin_end": 5.336178953481205,
            "count": 5
           }
          ]
         }
        },
        {
         "name": "instant_bookable",
         "dtype": "float64",
         "stats": {
          "unique_count": 2,
          "nan_count": 0,
          "min": "-0.4625485425684364",
          "max": "2.1619352521298776",
          "histogram": [
           {
            "bin_start": -0.4625485425684364,
            "bin_end": -0.200100163098605,
            "count": 5978
           },
           {
            "bin_start": -0.200100163098605,
            "bin_end": 0.062348216371226395,
            "count": 0
           },
           {
            "bin_start": 0.062348216371226395,
            "bin_end": 0.32479659584105786,
            "count": 0
           },
           {
            "bin_start": 0.32479659584105786,
            "bin_end": 0.5872449753108893,
            "count": 0
           },
           {
            "bin_start": 0.5872449753108893,
            "bin_end": 0.8496933547807206,
            "count": 0
           },
           {
            "bin_start": 0.8496933547807206,
            "bin_end": 1.1121417342505522,
            "count": 0
           },
           {
            "bin_start": 1.1121417342505522,
            "bin_end": 1.3745901137203835,
            "count": 0
           },
           {
            "bin_start": 1.3745901137203835,
            "bin_end": 1.6370384931902149,
            "count": 0
           },
           {
            "bin_start": 1.6370384931902149,
            "bin_end": 1.8994868726600465,
            "count": 0
           },
           {
            "bin_start": 1.8994868726600465,
            "bin_end": 2.1619352521298776,
            "count": 1279
           }
          ]
         }
        },
        {
         "name": "reviews_per_month",
         "dtype": "float64",
         "stats": {
          "unique_count": 391,
          "nan_count": 0,
          "min": "-0.5926464098621446",
          "max": "33.04357542377253",
          "histogram": [
           {
            "bin_start": -0.5926464098621446,
            "bin_end": 2.7709757735013234,
            "count": 7145
           },
           {
            "bin_start": 2.7709757735013234,
            "bin_end": 6.134597956864791,
            "count": 96
           },
           {
            "bin_start": 6.134597956864791,
            "bin_end": 9.49822014022826,
            "count": 5
           },
           {
            "bin_start": 9.49822014022826,
            "bin_end": 12.861842323591727,
            "count": 5
           },
           {
            "bin_start": 12.861842323591727,
            "bin_end": 16.225464506955195,
            "count": 3
           },
           {
            "bin_start": 16.225464506955195,
            "bin_end": 19.589086690318663,
            "count": 0
           },
           {
            "bin_start": 19.589086690318663,
            "bin_end": 22.95270887368213,
            "count": 1
           },
           {
            "bin_start": 22.95270887368213,
            "bin_end": 26.3163310570456,
            "count": 0
           },
           {
            "bin_start": 26.3163310570456,
            "bin_end": 29.679953240409066,
            "count": 1
           },
           {
            "bin_start": 29.679953240409066,
            "bin_end": 33.04357542377253,
            "count": 1
           }
          ]
         }
        },
        {
         "name": "neighbourhood_cleansed_Amager Vest",
         "dtype": "uint8",
         "stats": {
          "unique_count": 2,
          "nan_count": 0,
          "min": "0",
          "max": "1",
          "histogram": [
           {
            "bin_start": 0,
            "bin_end": 0.1,
            "count": 6599
           },
           {
            "bin_start": 0.1,
            "bin_end": 0.2,
            "count": 0
           },
           {
            "bin_start": 0.2,
            "bin_end": 0.30000000000000004,
            "count": 0
           },
           {
            "bin_start": 0.30000000000000004,
            "bin_end": 0.4,
            "count": 0
           },
           {
            "bin_start": 0.4,
            "bin_end": 0.5,
            "count": 0
           },
           {
            "bin_start": 0.5,
            "bin_end": 0.6000000000000001,
            "count": 0
           },
           {
            "bin_start": 0.6000000000000001,
            "bin_end": 0.7000000000000001,
            "count": 0
           },
           {
            "bin_start": 0.7000000000000001,
            "bin_end": 0.8,
            "count": 0
           },
           {
            "bin_start": 0.8,
            "bin_end": 0.9,
            "count": 0
           },
           {
            "bin_start": 0.9,
            "bin_end": 1,
            "count": 658
           }
          ]
         }
        },
        {
         "name": "neighbourhood_cleansed_Amager st",
         "dtype": "uint8",
         "stats": {
          "unique_count": 2,
          "nan_count": 0,
          "min": "0",
          "max": "1",
          "histogram": [
           {
            "bin_start": 0,
            "bin_end": 0.1,
            "count": 6751
           },
           {
            "bin_start": 0.1,
            "bin_end": 0.2,
            "count": 0
           },
           {
            "bin_start": 0.2,
            "bin_end": 0.30000000000000004,
            "count": 0
           },
           {
            "bin_start": 0.30000000000000004,
            "bin_end": 0.4,
            "count": 0
           },
           {
            "bin_start": 0.4,
            "bin_end": 0.5,
            "count": 0
           },
           {
            "bin_start": 0.5,
            "bin_end": 0.6000000000000001,
            "count": 0
           },
           {
            "bin_start": 0.6000000000000001,
            "bin_end": 0.7000000000000001,
            "count": 0
           },
           {
            "bin_start": 0.7000000000000001,
            "bin_end": 0.8,
            "count": 0
           },
           {
            "bin_start": 0.8,
            "bin_end": 0.9,
            "count": 0
           },
           {
            "bin_start": 0.9,
            "bin_end": 1,
            "count": 506
           }
          ]
         }
        },
        {
         "name": "neighbourhood_cleansed_Bispebjerg",
         "dtype": "uint8",
         "stats": {
          "unique_count": 2,
          "nan_count": 0,
          "min": "0",
          "max": "1",
          "histogram": [
           {
            "bin_start": 0,
            "bin_end": 0.1,
            "count": 6981
           },
           {
            "bin_start": 0.1,
            "bin_end": 0.2,
            "count": 0
           },
           {
            "bin_start": 0.2,
            "bin_end": 0.30000000000000004,
            "count": 0
           },
           {
            "bin_start": 0.30000000000000004,
            "bin_end": 0.4,
            "count": 0
           },
           {
            "bin_start": 0.4,
            "bin_end": 0.5,
            "count": 0
           },
           {
            "bin_start": 0.5,
            "bin_end": 0.6000000000000001,
            "count": 0
           },
           {
            "bin_start": 0.6000000000000001,
            "bin_end": 0.7000000000000001,
            "count": 0
           },
           {
            "bin_start": 0.7000000000000001,
            "bin_end": 0.8,
            "count": 0
           },
           {
            "bin_start": 0.8,
            "bin_end": 0.9,
            "count": 0
           },
           {
            "bin_start": 0.9,
            "bin_end": 1,
            "count": 276
           }
          ]
         }
        },
        {
         "name": "neighbourhood_cleansed_Brnshj-Husum",
         "dtype": "uint8",
         "stats": {
          "unique_count": 2,
          "nan_count": 0,
          "min": "0",
          "max": "1",
          "histogram": [
           {
            "bin_start": 0,
            "bin_end": 0.1,
            "count": 7125
           },
           {
            "bin_start": 0.1,
            "bin_end": 0.2,
            "count": 0
           },
           {
            "bin_start": 0.2,
            "bin_end": 0.30000000000000004,
            "count": 0
           },
           {
            "bin_start": 0.30000000000000004,
            "bin_end": 0.4,
            "count": 0
           },
           {
            "bin_start": 0.4,
            "bin_end": 0.5,
            "count": 0
           },
           {
            "bin_start": 0.5,
            "bin_end": 0.6000000000000001,
            "count": 0
           },
           {
            "bin_start": 0.6000000000000001,
            "bin_end": 0.7000000000000001,
            "count": 0
           },
           {
            "bin_start": 0.7000000000000001,
            "bin_end": 0.8,
            "count": 0
           },
           {
            "bin_start": 0.8,
            "bin_end": 0.9,
            "count": 0
           },
           {
            "bin_start": 0.9,
            "bin_end": 1,
            "count": 132
           }
          ]
         }
        },
        {
         "name": "neighbourhood_cleansed_Frederiksberg",
         "dtype": "uint8",
         "stats": {
          "unique_count": 2,
          "nan_count": 0,
          "min": "0",
          "max": "1",
          "histogram": [
           {
            "bin_start": 0,
            "bin_end": 0.1,
            "count": 6479
           },
           {
            "bin_start": 0.1,
            "bin_end": 0.2,
            "count": 0
           },
           {
            "bin_start": 0.2,
            "bin_end": 0.30000000000000004,
            "count": 0
           },
           {
            "bin_start": 0.30000000000000004,
            "bin_end": 0.4,
            "count": 0
           },
           {
            "bin_start": 0.4,
            "bin_end": 0.5,
            "count": 0
           },
           {
            "bin_start": 0.5,
            "bin_end": 0.6000000000000001,
            "count": 0
           },
           {
            "bin_start": 0.6000000000000001,
            "bin_end": 0.7000000000000001,
            "count": 0
           },
           {
            "bin_start": 0.7000000000000001,
            "bin_end": 0.8,
            "count": 0
           },
           {
            "bin_start": 0.8,
            "bin_end": 0.9,
            "count": 0
           },
           {
            "bin_start": 0.9,
            "bin_end": 1,
            "count": 778
           }
          ]
         }
        },
        {
         "name": "neighbourhood_cleansed_Indre By",
         "dtype": "uint8"
        },
        {
         "name": "neighbourhood_cleansed_Nrrebro",
         "dtype": "uint8"
        },
        {
         "name": "neighbourhood_cleansed_Valby",
         "dtype": "uint8"
        },
        {
         "name": "neighbourhood_cleansed_Vanlse",
         "dtype": "uint8"
        },
        {
         "name": "neighbourhood_cleansed_Vesterbro-Kongens Enghave",
         "dtype": "uint8"
        },
        {
         "name": "neighbourhood_cleansed_sterbro",
         "dtype": "uint8"
        },
        {
         "name": "property_type_Entire apartment",
         "dtype": "uint8"
        },
        {
         "name": "property_type_Entire condominium",
         "dtype": "uint8"
        },
        {
         "name": "property_type_Entire house",
         "dtype": "uint8"
        },
        {
         "name": "property_type_Entire serviced apartment",
         "dtype": "uint8"
        },
        {
         "name": "property_type_Entire townhouse",
         "dtype": "uint8"
        },
        {
         "name": "property_type_Private room in apartment",
         "dtype": "uint8"
        },
        {
         "name": "property_type_Private room in house",
         "dtype": "uint8"
        },
        {
         "name": "room_type_Entire home/apt",
         "dtype": "uint8"
        },
        {
         "name": "room_type_Private room",
         "dtype": "uint8"
        },
        {
         "name": "_deepnote_index_column",
         "dtype": "int64"
        }
       ],
       "rows_top": [
        {
         "number_of_reviews": 4.054336542020092,
         "review_scores_rating": 0.09797400365950257,
         "price": -1.357958781291568,
         "availability_365": -0.8606084266520035,
         "bedrooms": -0.7267062808675746,
         "accommodates": -0.8615500989519926,
         "instant_bookable": -0.4625485425684364,
         "reviews_per_month": 0.8798010575473075,
         "neighbourhood_cleansed_Amager Vest": 0,
         "neighbourhood_cleansed_Amager st": 0,
         "neighbourhood_cleansed_Bispebjerg": 0,
         "neighbourhood_cleansed_Brnshj-Husum": 0,
         "neighbourhood_cleansed_Frederiksberg": 0,
         "neighbourhood_cleansed_Indre By": 0,
         "neighbourhood_cleansed_Nrrebro": 1,
         "neighbourhood_cleansed_Valby": 0,
         "neighbourhood_cleansed_Vanlse": 0,
         "neighbourhood_cleansed_Vesterbro-Kongens Enghave": 0,
         "neighbourhood_cleansed_sterbro": 0,
         "property_type_Entire apartment": 0,
         "property_type_Entire condominium": 0,
         "property_type_Entire house": 0,
         "property_type_Entire serviced apartment": 0,
         "property_type_Entire townhouse": 0,
         "property_type_Private room in apartment": 1,
         "property_type_Private room in house": 0,
         "room_type_Entire home/apt": 0,
         "room_type_Private room": 1,
         "_deepnote_index_column": 0
        },
        {
         "number_of_reviews": -0.018470440017944692,
         "review_scores_rating": 0.3115261842251191,
         "price": -0.4049526152938235,
         "availability_365": -0.4912280426761535,
         "bedrooms": -0.7267062808675746,
         "accommodates": -0.8615500989519926,
         "instant_bookable": -0.4625485425684364,
         "reviews_per_month": -0.26134572969501785,
         "neighbourhood_cleansed_Amager Vest": 0,
         "neighbourhood_cleansed_Amager st": 0,
         "neighbourhood_cleansed_Bispebjerg": 0,
         "neighbourhood_cleansed_Brnshj-Husum": 0,
         "neighbourhood_cleansed_Frederiksberg": 0,
         "neighbourhood_cleansed_Indre By": 0,
         "neighbourhood_cleansed_Nrrebro": 0,
         "neighbourhood_cleansed_Valby": 0,
         "neighbourhood_cleansed_Vanlse": 0,
         "neighbourhood_cleansed_Vesterbro-Kongens Enghave": 1,
         "neighbourhood_cleansed_sterbro": 0,
         "property_type_Entire apartment": 1,
         "property_type_Entire condominium": 0,
         "property_type_Entire house": 0,
         "property_type_Entire serviced apartment": 0,
         "property_type_Entire townhouse": 0,
         "property_type_Private room in apartment": 0,
         "property_type_Private room in house": 0,
         "room_type_Entire home/apt": 1,
         "room_type_Private room": 0,
         "_deepnote_index_column": 2
        },
        {
         "number_of_reviews": -0.15795013118363088,
         "review_scores_rating": 0.24581782097416002,
         "price": -0.34997149033241515,
         "availability_365": -0.8606084266520035,
         "bedrooms": -0.7267062808675746,
         "accommodates": -0.24177719370867273,
         "instant_bookable": -0.4625485425684364,
         "reviews_per_month": -0.3533736964081086,
         "neighbourhood_cleansed_Amager Vest": 0,
         "neighbourhood_cleansed_Amager st": 0,
         "neighbourhood_cleansed_Bispebjerg": 0,
         "neighbourhood_cleansed_Brnshj-Husum": 0,
         "neighbourhood_cleansed_Frederiksberg": 0,
         "neighbourhood_cleansed_Indre By": 0,
         "neighbourhood_cleansed_Nrrebro": 0,
         "neighbourhood_cleansed_Valby": 0,
         "neighbourhood_cleansed_Vanlse": 0,
         "neighbourhood_cleansed_Vesterbro-Kongens Enghave": 1,
         "neighbourhood_cleansed_sterbro": 0,
         "property_type_Entire apartment": 1,
         "property_type_Entire condominium": 0,
         "property_type_Entire house": 0,
         "property_type_Entire serviced apartment": 0,
         "property_type_Entire townhouse": 0,
         "property_type_Private room in apartment": 0,
         "property_type_Private room in house": 0,
         "room_type_Entire home/apt": 1,
         "room_type_Private room": 0,
         "_deepnote_index_column": 3
        },
        {
         "number_of_reviews": 1.4042224098720544,
         "review_scores_rating": 0.2786720025996388,
         "price": 0.7051424791650879,
         "availability_365": -0.12987766704760448,
         "bedrooms": 1.5520141187867844,
         "accommodates": 0.997768616777967,
         "instant_bookable": 2.1619352521298776,
         "reviews_per_month": 0.005535373772945346,
         "neighbourhood_cleansed_Amager Vest": 0,
         "neighbourhood_cleansed_Amager st": 0,
         "neighbourhood_cleansed_Bispebjerg": 0,
         "neighbourhood_cleansed_Brnshj-Husum": 0,
         "neighbourhood_cleansed_Frederiksberg": 0,
         "neighbourhood_cleansed_Indre By": 0,
         "neighbourhood_cleansed_Nrrebro": 0,
         "neighbourhood_cleansed_Valby": 0,
         "neighbourhood_cleansed_Vanlse": 0,
         "neighbourhood_cleansed_Vesterbro-Kongens Enghave": 1,
         "neighbourhood_cleansed_sterbro": 0,
         "property_type_Entire apartment": 1,
         "property_type_Entire condominium": 0,
         "property_type_Entire house": 0,
         "property_type_Entire serviced apartment": 0,
         "property_type_Entire townhouse": 0,
         "property_type_Private room in apartment": 0,
         "property_type_Private room in house": 0,
         "room_type_Entire home/apt": 1,
         "room_type_Private room": 0,
         "_deepnote_index_column": 4
        },
        {
         "number_of_reviews": -0.43690951351500323,
         "review_scores_rating": -0.24699490340803198,
         "price": -0.698185281754668,
         "availability_365": 0.8819033847123328,
         "bedrooms": 0.4126539189596049,
         "accommodates": 0.3779957115346471,
         "instant_bookable": -0.4625485425684364,
         "reviews_per_month": -0.5466324265055993,
         "neighbourhood_cleansed_Amager Vest": 0,
         "neighbourhood_cleansed_Amager st": 0,
         "neighbourhood_cleansed_Bispebjerg": 0,
         "neighbourhood_cleansed_Brnshj-Husum": 0,
         "neighbourhood_cleansed_Frederiksberg": 0,
         "neighbourhood_cleansed_Indre By": 0,
         "neighbourhood_cleansed_Nrrebro": 0,
         "neighbourhood_cleansed_Valby": 0,
         "neighbourhood_cleansed_Vanlse": 0,
         "neighbourhood_cleansed_Vesterbro-Kongens Enghave": 0,
         "neighbourhood_cleansed_sterbro": 1,
         "property_type_Entire apartment": 1,
         "property_type_Entire condominium": 0,
         "property_type_Entire house": 0,
         "property_type_Entire serviced apartment": 0,
         "property_type_Entire townhouse": 0,
         "property_type_Private room in apartment": 0,
         "property_type_Private room in house": 0,
         "room_type_Entire home/apt": 1,
         "room_type_Private room": 0,
         "_deepnote_index_column": 5
        },
        {
         "number_of_reviews": 1.34843053340578,
         "review_scores_rating": 0.03226564040854354,
         "price": 0.3045657115891128,
         "availability_365": 1.1388636518259676,
         "bedrooms": -0.7267062808675746,
         "accommodates": 0.3779957115346471,
         "instant_bookable": -0.4625485425684364,
         "reviews_per_month": 0.2632136805695994,
         "neighbourhood_cleansed_Amager Vest": 0,
         "neighbourhood_cleansed_Amager st": 0,
         "neighbourhood_cleansed_Bispebjerg": 0,
         "neighbourhood_cleansed_Brnshj-Husum": 0,
         "neighbourhood_cleansed_Frederiksberg": 0,
         "neighbourhood_cleansed_Indre By": 0,
         "neighbourhood_cleansed_Nrrebro": 0,
         "neighbourhood_cleansed_Valby": 0,
         "neighbourhood_cleansed_Vanlse": 0,
         "neighbourhood_cleansed_Vesterbro-Kongens Enghave": 1,
         "neighbourhood_cleansed_sterbro": 0,
         "property_type_Entire apartment": 1,
         "property_type_Entire condominium": 0,
         "property_type_Entire house": 0,
         "property_type_Entire serviced apartment": 0,
         "property_type_Entire townhouse": 0,
         "property_type_Private room in apartment": 0,
         "property_type_Private room in house": 0,
         "room_type_Entire home/apt": 1,
         "room_type_Private room": 0,
         "_deepnote_index_column": 6
        },
        {
         "number_of_reviews": 1.460014286338329,
         "review_scores_rating": -0.0005885412169367101,
         "price": -0.9128734839849292,
         "availability_365": -0.13790767539490556,
         "bedrooms": -2.529887854379308e-16,
         "accommodates": -1.4813230041953125,
         "instant_bookable": -0.4625485425684364,
         "reviews_per_month": 0.1895913071991268,
         "neighbourhood_cleansed_Amager Vest": 0,
         "neighbourhood_cleansed_Amager st": 0,
         "neighbourhood_cleansed_Bispebjerg": 0,
         "neighbourhood_cleansed_Brnshj-Husum": 0,
         "neighbourhood_cleansed_Frederiksberg": 1,
         "neighbourhood_cleansed_Indre By": 0,
         "neighbourhood_cleansed_Nrrebro": 0,
         "neighbourhood_cleansed_Valby": 0,
         "neighbourhood_cleansed_Vanlse": 0,
         "neighbourhood_cleansed_Vesterbro-Kongens Enghave": 0,
         "neighbourhood_cleansed_sterbro": 0,
         "property_type_Entire apartment": 1,
         "property_type_Entire condominium": 0,
         "property_type_Entire house": 0,
         "property_type_Entire serviced apartment": 0,
         "property_type_Entire townhouse": 0,
         "property_type_Private room in apartment": 0,
         "property_type_Private room in house": 0,
         "room_type_Entire home/apt": 1,
         "room_type_Private room": 0,
         "_deepnote_index_column": 8
        },
        {
         "number_of_reviews": 1.236846780473231,
         "review_scores_rating": 0.015838549595804143,
         "price": -0.08553846075611787,
         "availability_365": 2.062314611765593,
         "bedrooms": -0.7267062808675746,
         "accommodates": -0.8615500989519926,
         "instant_bookable": -0.4625485425684364,
         "reviews_per_month": 0.005535373772945346,
         "neighbourhood_cleansed_Amager Vest": 0,
         "neighbourhood_cleansed_Amager st": 0,
         "neighbourhood_cleansed_Bispebjerg": 0,
         "neighbourhood_cleansed_Brnshj-Husum": 0,
         "neighbourhood_cleansed_Frederiksberg": 0,
         "neighbourhood_cleansed_Indre By": 0,
         "neighbourhood_cleansed_Nrrebro": 0,
         "neighbourhood_cleansed_Valby": 0,
         "neighbourhood_cleansed_Vanlse": 0,
         "neighbourhood_cleansed_Vesterbro-Kongens Enghave": 1,
         "neighbourhood_cleansed_sterbro": 0,
         "property_type_Entire apartment": 1,
         "property_type_Entire condominium": 0,
         "property_type_Entire house": 0,
         "property_type_Entire serviced apartment": 0,
         "property_type_Entire townhouse": 0,
         "property_type_Private room in apartment": 0,
         "property_type_Private room in house": 0,
         "room_type_Entire home/apt": 1,
         "room_type_Private room": 0,
         "_deepnote_index_column": 9
        },
        {
         "number_of_reviews": 0.6789280158104862,
         "review_scores_rating": 0.180109457723201,
         "price": -1.4705391800220708,
         "availability_365": -0.8606084266520035,
         "bedrooms": -0.7267062808675746,
         "accommodates": -1.4813230041953125,
         "instant_bookable": -0.4625485425684364,
         "reviews_per_month": 0.3460388506113811,
         "neighbourhood_cleansed_Amager Vest": 0,
         "neighbourhood_cleansed_Amager st": 0,
         "neighbourhood_cleansed_Bispebjerg": 0,
         "neighbourhood_cleansed_Brnshj-Husum": 0,
         "neighbourhood_cleansed_Frederiksberg": 1,
         "neighbourhood_cleansed_Indre By": 0,
         "neighbourhood_cleansed_Nrrebro": 0,
         "neighbourhood_cleansed_Valby": 0,
         "neighbourhood_cleansed_Vanlse": 0,
         "neighbourhood_cleansed_Vesterbro-Kongens Enghave": 0,
         "neighbourhood_cleansed_sterbro": 0,
         "property_type_Entire apartment": 0,
         "property_type_Entire condominium": 0,
         "property_type_Entire house": 0,
         "property_type_Entire serviced apartment": 0,
         "property_type_Entire townhouse": 0,
         "property_type_Private room in apartment": 1,
         "property_type_Private room in house": 0,
         "room_type_Entire home/apt": 0,
         "room_type_Private room": 1,
         "_deepnote_index_column": 11
        },
        {
         "number_of_reviews": 2.2132046186330343,
         "review_scores_rating": 0.2129636393486798,
         "price": 0.5873257828192129,
         "availability_365": 1.9498944949033776,
         "bedrooms": -0.7267062808675746,
         "accommodates": -0.24177719370867273,
         "instant_bookable": -0.4625485425684364,
         "reviews_per_month": 0.6497311407645807,
         "neighbourhood_cleansed_Amager Vest": 0,
         "neighbourhood_cleansed_Amager st": 0,
         "neighbourhood_cleansed_Bispebjerg": 0,
         "neighbourhood_cleansed_Brnshj-Husum": 0,
         "neighbourhood_cleansed_Frederiksberg": 0,
         "neighbourhood_cleansed_Indre By": 1,
         "neighbourhood_cleansed_Nrrebro": 0,
         "neighbourhood_cleansed_Valby": 0,
         "neighbourhood_cleansed_Vanlse": 0,
         "neighbourhood_cleansed_Vesterbro-Kongens Enghave": 0,
         "neighbourhood_cleansed_sterbro": 0,
         "property_type_Entire apartment": 1,
         "property_type_Entire condominium": 0,
         "property_type_Entire house": 0,
         "property_type_Entire serviced apartment": 0,
         "property_type_Entire townhouse": 0,
         "property_type_Private room in apartment": 0,
         "property_type_Private room in house": 0,
         "room_type_Entire home/apt": 1,
         "room_type_Private room": 0,
         "_deepnote_index_column": 12
        },
        {
         "number_of_reviews": 0.20469706584715322,
         "review_scores_rating": 0.13082818528498136,
         "price": 1.5822223297399354,
         "availability_365": -0.29850784234092737,
         "bedrooms": 2.691374318613964,
         "accommodates": 0.997768616777967,
         "instant_bookable": -0.4625485425684364,
         "reviews_per_month": -0.3533736964081086,
         "neighbourhood_cleansed_Amager Vest": 0,
         "neighbourhood_cleansed_Amager st": 0,
         "neighbourhood_cleansed_Bispebjerg": 0,
         "neighbourhood_cleansed_Brnshj-Husum": 0,
         "neighbourhood_cleansed_Frederiksberg": 1,
         "neighbourhood_cleansed_Indre By": 0,
         "neighbourhood_cleansed_Nrrebro": 0,
         "neighbourhood_cleansed_Valby": 0,
         "neighbourhood_cleansed_Vanlse": 0,
         "neighbourhood_cleansed_Vesterbro-Kongens Enghave": 0,
         "neighbourhood_cleansed_sterbro": 0,
         "property_type_Entire apartment": 1,
         "property_type_Entire condominium": 0,
         "property_type_Entire house": 0,
         "property_type_Entire serviced apartment": 0,
         "property_type_Entire townhouse": 0,
         "property_type_Private room in apartment": 0,
         "property_type_Private room in house": 0,
         "room_type_Entire home/apt": 1,
         "room_type_Private room": 0,
         "_deepnote_index_column": 13
        },
        {
         "number_of_reviews": 0.5394483246448001,
         "review_scores_rating": -0.017015632029676105,
         "price": 2.1686876626616245,
         "availability_365": -0.6036481595383687,
         "bedrooms": 2.691374318613964,
         "accommodates": 2.237314427264607,
         "instant_bookable": 2.1619352521298776,
         "reviews_per_month": -0.09569538961145448,
         "neighbourhood_cleansed_Amager Vest": 0,
         "neighbourhood_cleansed_Amager st": 0,
         "neighbourhood_cleansed_Bispebjerg": 0,
         "neighbourhood_cleansed_Brnshj-Husum": 0,
         "neighbourhood_cleansed_Frederiksberg": 0,
         "neighbourhood_cleansed_Indre By": 1,
         "neighbourhood_cleansed_Nrrebro": 0,
         "neighbourhood_cleansed_Valby": 0,
         "neighbourhood_cleansed_Vanlse": 0,
         "neighbourhood_cleansed_Vesterbro-Kongens Enghave": 0,
         "neighbourhood_cleansed_sterbro": 0,
         "property_type_Entire apartment": 1,
         "property_type_Entire condominium": 0,
         "property_type_Entire house": 0,
         "property_type_Entire serviced apartment": 0,
         "property_type_Entire townhouse": 0,
         "property_type_Private room in apartment": 0,
         "property_type_Private room in house": 0,
         "room_type_Entire home/apt": 1,
         "room_type_Private room": 0,
         "_deepnote_index_column": 14
        },
        {
         "number_of_reviews": 0.03732143644832978,
         "review_scores_rating": -0.08272399528063513,
         "price": 1.6136401154321687,
         "availability_365": 2.062314611765593,
         "bedrooms": 0.4126539189596049,
         "accommodates": 0.3779957115346471,
         "instant_bookable": -0.4625485425684364,
         "reviews_per_month": -0.049681406254909154,
         "neighbourhood_cleansed_Amager Vest": 0,
         "neighbourhood_cleansed_Amager st": 0,
         "neighbourhood_cleansed_Bispebjerg": 0,
         "neighbourhood_cleansed_Brnshj-Husum": 0,
         "neighbourhood_cleansed_Frederiksberg": 0,
         "neighbourhood_cleansed_Indre By": 0,
         "neighbourhood_cleansed_Nrrebro": 1,
         "neighbourhood_cleansed_Valby": 0,
         "neighbourhood_cleansed_Vanlse": 0,
         "neighbourhood_cleansed_Vesterbro-Kongens Enghave": 0,
         "neighbourhood_cleansed_sterbro": 0,
         "property_type_Entire apartment": 1,
         "property_type_Entire condominium": 0,
         "property_type_Entire house": 0,
         "property_type_Entire serviced apartment": 0,
         "property_type_Entire townhouse": 0,
         "property_type_Private room in apartment": 0,
         "property_type_Private room in house": 0,
         "room_type_Entire home/apt": 1,
         "room_type_Private room": 0,
         "_deepnote_index_column": 15
        },
        {
         "number_of_reviews": -0.2416379458830426,
         "review_scores_rating": 0.048692731221282926,
         "price": 1.1921181573947046,
         "availability_365": 1.2352237519935807,
         "bedrooms": 0.4126539189596049,
         "accommodates": 1.6175415220212868,
         "instant_bookable": -0.4625485425684364,
         "reviews_per_month": -0.38098208642203585,
         "neighbourhood_cleansed_Amager Vest": 0,
         "neighbourhood_cleansed_Amager st": 0,
         "neighbourhood_cleansed_Bispebjerg": 0,
         "neighbourhood_cleansed_Brnshj-Husum": 0,
         "neighbourhood_cleansed_Frederiksberg": 0,
         "neighbourhood_cleansed_Indre By": 0,
         "neighbourhood_cleansed_Nrrebro": 1,
         "neighbourhood_cleansed_Valby": 0,
         "neighbourhood_cleansed_Vanlse": 0,
         "neighbourhood_cleansed_Vesterbro-Kongens Enghave": 0,
         "neighbourhood_cleansed_sterbro": 0,
         "property_type_Entire apartment": 1,
         "property_type_Entire condominium": 0,
         "property_type_Entire house": 0,
         "property_type_Entire serviced apartment": 0,
         "property_type_Entire townhouse": 0,
         "property_type_Private room in apartment": 0,
         "property_type_Private room in house": 0,
         "room_type_Entire home/apt": 1,
         "room_type_Private room": 0,
         "_deepnote_index_column": 16
        },
        {
         "number_of_reviews": 0.6789280158104862,
         "review_scores_rating": -0.18128654015707296,
         "price": 0.024423789166698823,
         "availability_365": -0.5474381011072611,
         "bedrooms": 0.4126539189596049,
         "accommodates": 1.6175415220212868,
         "instant_bookable": -0.4625485425684364,
         "reviews_per_month": 0.2908220705835266,
         "neighbourhood_cleansed_Amager Vest": 0,
         "neighbourhood_cleansed_Amager st": 0,
         "neighbourhood_cleansed_Bispebjerg": 0,
         "neighbourhood_cleansed_Brnshj-Husum": 0,
         "neighbourhood_cleansed_Frederiksberg": 0,
         "neighbourhood_cleansed_Indre By": 0,
         "neighbourhood_cleansed_Nrrebro": 0,
         "neighbourhood_cleansed_Valby": 0,
         "neighbourhood_cleansed_Vanlse": 0,
         "neighbourhood_cleansed_Vesterbro-Kongens Enghave": 1,
         "neighbourhood_cleansed_sterbro": 0,
         "property_type_Entire apartment": 1,
         "property_type_Entire condominium": 0,
         "property_type_Entire house": 0,
         "property_type_Entire serviced apartment": 0,
         "property_type_Entire townhouse": 0,
         "property_type_Private room in apartment": 0,
         "property_type_Private room in house": 0,
         "room_type_Entire home/apt": 1,
         "room_type_Private room": 0,
         "_deepnote_index_column": 17
        },
        {
         "number_of_reviews": -0.4648054517481405,
         "review_scores_rating": 0.45937000153977653,
         "price": -0.3656803831785318,
         "availability_365": -0.8043983682208959,
         "bedrooms": -0.7267062808675746,
         "accommodates": -0.24177719370867273,
         "instant_bookable": -0.4625485425684364,
         "reviews_per_month": -0.5558352231769083,
         "neighbourhood_cleansed_Amager Vest": 0,
         "neighbourhood_cleansed_Amager st": 0,
         "neighbourhood_cleansed_Bispebjerg": 0,
         "neighbourhood_cleansed_Brnshj-Husum": 0,
         "neighbourhood_cleansed_Frederiksberg": 0,
         "neighbourhood_cleansed_Indre By": 0,
         "neighbourhood_cleansed_Nrrebro": 1,
         "neighbourhood_cleansed_Valby": 0,
         "neighbourhood_cleansed_Vanlse": 0,
         "neighbourhood_cleansed_Vesterbro-Kongens Enghave": 0,
         "neighbourhood_cleansed_sterbro": 0,
         "property_type_Entire apartment": 1,
         "property_type_Entire condominium": 0,
         "property_type_Entire house": 0,
         "property_type_Entire serviced apartment": 0,
         "property_type_Entire townhouse": 0,
         "property_type_Private room in apartment": 0,
         "property_type_Private room in house": 0,
         "room_type_Entire home/apt": 1,
         "room_type_Private room": 0,
         "_deepnote_index_column": 18
        },
        {
         "number_of_reviews": 1.711077730436564,
         "review_scores_rating": 0.2786720025996388,
         "price": 1.6372034547013437,
         "availability_365": 0.30374278370665436,
         "bedrooms": 1.5520141187867844,
         "accommodates": 1.6175415220212868,
         "instant_bookable": -0.4625485425684364,
         "reviews_per_month": 0.09756334048603608,
         "neighbourhood_cleansed_Amager Vest": 0,
         "neighbourhood_cleansed_Amager st": 0,
         "neighbourhood_cleansed_Bispebjerg": 0,
         "neighbourhood_cleansed_Brnshj-Husum": 0,
         "neighbourhood_cleansed_Frederiksberg": 0,
         "neighbourhood_cleansed_Indre By": 1,
         "neighbourhood_cleansed_Nrrebro": 0,
         "neighbourhood_cleansed_Valby": 0,
         "neighbourhood_cleansed_Vanlse": 0,
         "neighbourhood_cleansed_Vesterbro-Kongens Enghave": 0,
         "neighbourhood_cleansed_sterbro": 0,
         "property_type_Entire apartment": 1,
         "property_type_Entire condominium": 0,
         "property_type_Entire house": 0,
         "property_type_Entire serviced apartment": 0,
         "property_type_Entire townhouse": 0,
         "property_type_Private room in apartment": 0,
         "property_type_Private room in house": 0,
         "room_type_Entire home/apt": 1,
         "room_type_Private room": 0,
         "_deepnote_index_column": 20
        }
       ],
       "rows_bottom": [
        {
         "number_of_reviews": -0.5763892046806894,
         "review_scores_rating": 0.45937000153977653,
         "price": -0.6117863711010263,
         "availability_365": 0.3198028004012565,
         "bedrooms": -0.7267062808675746,
         "accommodates": 0.3779957115346471,
         "instant_bookable": 2.1619352521298776,
         "reviews_per_month": 1.2387101277283612,
         "neighbourhood_cleansed_Amager Vest": 0,
         "neighbourhood_cleansed_Amager st": 0,
         "neighbourhood_cleansed_Bispebjerg": 0,
         "neighbourhood_cleansed_Brnshj-Husum": 0,
         "neighbourhood_cleansed_Frederiksberg": 0,
         "neighbourhood_cleansed_Indre By": 0,
         "neighbourhood_cleansed_Nrrebro": 1,
         "neighbourhood_cleansed_Valby": 0,
         "neighbourhood_cleansed_Vanlse": 0,
         "neighbourhood_cleansed_Vesterbro-Kongens Enghave": 0,
         "neighbourhood_cleansed_sterbro": 0,
         "property_type_Entire apartment": 0,
         "property_type_Entire condominium": 1,
         "property_type_Entire house": 0,
         "property_type_Entire serviced apartment": 0,
         "property_type_Entire townhouse": 0,
         "property_type_Private room in apartment": 0,
         "property_type_Private room in house": 0,
         "room_type_Entire home/apt": 1,
         "room_type_Private room": 0,
         "_deepnote_index_column": 9709
        },
        {
         "number_of_reviews": -0.6042851429138267,
         "review_scores_rating": 0.45937000153977653,
         "price": 1.0900103538949464,
         "availability_365": 1.52430405249642,
         "bedrooms": 0.4126539189596049,
         "accommodates": 0.3779957115346471,
         "instant_bookable": -0.4625485425684364,
         "reviews_per_month": 0.3184304605974539,
         "neighbourhood_cleansed_Amager Vest": 0,
         "neighbourhood_cleansed_Amager st": 0,
         "neighbourhood_cleansed_Bispebjerg": 0,
         "neighbourhood_cleansed_Brnshj-Husum": 0,
         "neighbourhood_cleansed_Frederiksberg": 0,
         "neighbourhood_cleansed_Indre By": 0,
         "neighbourhood_cleansed_Nrrebro": 0,
         "neighbourhood_cleansed_Valby": 0,
         "neighbourhood_cleansed_Vanlse": 0,
         "neighbourhood_cleansed_Vesterbro-Kongens Enghave": 1,
         "neighbourhood_cleansed_sterbro": 0,
         "property_type_Entire apartment": 0,
         "property_type_Entire condominium": 1,
         "property_type_Entire house": 0,
         "property_type_Entire serviced apartment": 0,
         "property_type_Entire townhouse": 0,
         "property_type_Private room in apartment": 0,
         "property_type_Private room in house": 0,
         "room_type_Entire home/apt": 1,
         "room_type_Private room": 0,
         "_deepnote_index_column": 9710
        },
        {
         "number_of_reviews": -0.6042851429138267,
         "review_scores_rating": 0.45937000153977653,
         "price": -0.7845841924083097,
         "availability_365": -0.7401583014424873,
         "bedrooms": -0.7267062808675746,
         "accommodates": -0.8615500989519926,
         "instant_bookable": -0.4625485425684364,
         "reviews_per_month": 0.3184304605974539,
         "neighbourhood_cleansed_Amager Vest": 1,
         "neighbourhood_cleansed_Amager st": 0,
         "neighbourhood_cleansed_Bispebjerg": 0,
         "neighbourhood_cleansed_Brnshj-Husum": 0,
         "neighbourhood_cleansed_Frederiksberg": 0,
         "neighbourhood_cleansed_Indre By": 0,
         "neighbourhood_cleansed_Nrrebro": 0,
         "neighbourhood_cleansed_Valby": 0,
         "neighbourhood_cleansed_Vanlse": 0,
         "neighbourhood_cleansed_Vesterbro-Kongens Enghave": 0,
         "neighbourhood_cleansed_sterbro": 0,
         "property_type_Entire apartment": 0,
         "property_type_Entire condominium": 1,
         "property_type_Entire house": 0,
         "property_type_Entire serviced apartment": 0,
         "property_type_Entire townhouse": 0,
         "property_type_Private room in apartment": 0,
         "property_type_Private room in house": 0,
         "room_type_Entire home/apt": 1,
         "room_type_Private room": 0,
         "_deepnote_index_column": 9717
        },
        {
         "number_of_reviews": -0.5484932664475523,
         "review_scores_rating": 0.45937000153977653,
         "price": -0.3682985319862179,
         "availability_365": -0.5313780844126589,
         "bedrooms": -0.7267062808675746,
         "accommodates": -0.8615500989519926,
         "instant_bookable": 2.1619352521298776,
         "reviews_per_month": 2.1589897948592687,
         "neighbourhood_cleansed_Amager Vest": 0,
         "neighbourhood_cleansed_Amager st": 0,
         "neighbourhood_cleansed_Bispebjerg": 0,
         "neighbourhood_cleansed_Brnshj-Husum": 0,
         "neighbourhood_cleansed_Frederiksberg": 0,
         "neighbourhood_cleansed_Indre By": 0,
         "neighbourhood_cleansed_Nrrebro": 1,
         "neighbourhood_cleansed_Valby": 0,
         "neighbourhood_cleansed_Vanlse": 0,
         "neighbourhood_cleansed_Vesterbro-Kongens Enghave": 0,
         "neighbourhood_cleansed_sterbro": 0,
         "property_type_Entire apartment": 0,
         "property_type_Entire condominium": 1,
         "property_type_Entire house": 0,
         "property_type_Entire serviced apartment": 0,
         "property_type_Entire townhouse": 0,
         "property_type_Private room in apartment": 0,
         "property_type_Private room in house": 0,
         "room_type_Entire home/apt": 1,
         "room_type_Private room": 0,
         "_deepnote_index_column": 9718
        },
        {
         "number_of_reviews": -0.6042851429138267,
         "review_scores_rating": 0.45937000153977653,
         "price": -0.7426938114853319,
         "availability_365": 0.7935732928920207,
         "bedrooms": 0.4126539189596049,
         "accommodates": -0.24177719370867273,
         "instant_bookable": 2.1619352521298776,
         "reviews_per_month": 0.3184304605974539,
         "neighbourhood_cleansed_Amager Vest": 0,
         "neighbourhood_cleansed_Amager st": 0,
         "neighbourhood_cleansed_Bispebjerg": 0,
         "neighbourhood_cleansed_Brnshj-Husum": 0,
         "neighbourhood_cleansed_Frederiksberg": 0,
         "neighbourhood_cleansed_Indre By": 0,
         "neighbourhood_cleansed_Nrrebro": 0,
         "neighbourhood_cleansed_Valby": 0,
         "neighbourhood_cleansed_Vanlse": 0,
         "neighbourhood_cleansed_Vesterbro-Kongens Enghave": 1,
         "neighbourhood_cleansed_sterbro": 0,
         "property_type_Entire apartment": 1,
         "property_type_Entire condominium": 0,
         "property_type_Entire house": 0,
         "property_type_Entire serviced apartment": 0,
         "property_type_Entire townhouse": 0,
         "property_type_Private room in apartment": 0,
         "property_type_Private room in house": 0,
         "room_type_Entire home/apt": 1,
         "room_type_Private room": 0,
         "_deepnote_index_column": 9728
        },
        {
         "number_of_reviews": -0.6042851429138267,
         "review_scores_rating": -1.1833390797341978,
         "price": -0.6301134127548291,
         "availability_365": 0.7935732928920207,
         "bedrooms": 1.5520141187867844,
         "accommodates": 1.6175415220212868,
         "instant_bookable": 2.1619352521298776,
         "reviews_per_month": 0.3184304605974539,
         "neighbourhood_cleansed_Amager Vest": 0,
         "neighbourhood_cleansed_Amager st": 0,
         "neighbourhood_cleansed_Bispebjerg": 0,
         "neighbourhood_cleansed_Brnshj-Husum": 0,
         "neighbourhood_cleansed_Frederiksberg": 0,
         "neighbourhood_cleansed_Indre By": 0,
         "neighbourhood_cleansed_Nrrebro": 1,
         "neighbourhood_cleansed_Valby": 0,
         "neighbourhood_cleansed_Vanlse": 0,
         "neighbourhood_cleansed_Vesterbro-Kongens Enghave": 0,
         "neighbourhood_cleansed_sterbro": 0,
         "property_type_Entire apartment": 0,
         "property_type_Entire condominium": 1,
         "property_type_Entire house": 0,
         "property_type_Entire serviced apartment": 0,
         "property_type_Entire townhouse": 0,
         "property_type_Private room in apartment": 0,
         "property_type_Private room in house": 0,
         "room_type_Entire home/apt": 1,
         "room_type_Private room": 0,
         "_deepnote_index_column": 9729
        },
        {
         "number_of_reviews": -0.5763892046806894,
         "review_scores_rating": 0.45937000153977653,
         "price": -0.6405860079855735,
         "availability_365": -0.34668789242473386,
         "bedrooms": -0.7267062808675746,
         "accommodates": -0.8615500989519926,
         "instant_bookable": -0.4625485425684364,
         "reviews_per_month": 1.2387101277283612,
         "neighbourhood_cleansed_Amager Vest": 0,
         "neighbourhood_cleansed_Amager st": 0,
         "neighbourhood_cleansed_Bispebjerg": 0,
         "neighbourhood_cleansed_Brnshj-Husum": 0,
         "neighbourhood_cleansed_Frederiksberg": 0,
         "neighbourhood_cleansed_Indre By": 0,
         "neighbourhood_cleansed_Nrrebro": 1,
         "neighbourhood_cleansed_Valby": 0,
         "neighbourhood_cleansed_Vanlse": 0,
         "neighbourhood_cleansed_Vesterbro-Kongens Enghave": 0,
         "neighbourhood_cleansed_sterbro": 0,
         "property_type_Entire apartment": 0,
         "property_type_Entire condominium": 1,
         "property_type_Entire house": 0,
         "property_type_Entire serviced apartment": 0,
         "property_type_Entire townhouse": 0,
         "property_type_Private room in apartment": 0,
         "property_type_Private room in house": 0,
         "room_type_Entire home/apt": 1,
         "room_type_Private room": 0,
         "_deepnote_index_column": 9734
        },
        {
         "number_of_reviews": -0.6042851429138267,
         "review_scores_rating": -1.1833390797341978,
         "price": -0.13266513929446788,
         "availability_365": -0.8284883932627992,
         "bedrooms": 0.4126539189596049,
         "accommodates": 0.3779957115346471,
         "instant_bookable": 2.1619352521298776,
         "reviews_per_month": 0.3184304605974539,
         "neighbourhood_cleansed_Amager Vest": 0,
         "neighbourhood_cleansed_Amager st": 0,
         "neighbourhood_cleansed_Bispebjerg": 0,
         "neighbourhood_cleansed_Brnshj-Husum": 0,
         "neighbourhood_cleansed_Frederiksberg": 0,
         "neighbourhood_cleansed_Indre By": 0,
         "neighbourhood_cleansed_Nrrebro": 0,
         "neighbourhood_cleansed_Valby": 0,
         "neighbourhood_cleansed_Vanlse": 0,
         "neighbourhood_cleansed_Vesterbro-Kongens Enghave": 1,
         "neighbourhood_cleansed_sterbro": 0,
         "property_type_Entire apartment": 0,
         "property_type_Entire condominium": 1,
         "property_type_Entire house": 0,
         "property_type_Entire serviced apartment": 0,
         "property_type_Entire townhouse": 0,
         "property_type_Private room in apartment": 0,
         "property_type_Private room in house": 0,
         "room_type_Entire home/apt": 1,
         "room_type_Private room": 0,
         "_deepnote_index_column": 9742
        },
        {
         "number_of_reviews": -0.6042851429138267,
         "review_scores_rating": 0.45937000153977653,
         "price": 0.566380592357724,
         "availability_365": -0.6919782513586807,
         "bedrooms": 0.4126539189596049,
         "accommodates": -0.24177719370867273,
         "instant_bookable": -0.4625485425684364,
         "reviews_per_month": 0.3184304605974539,
         "neighbourhood_cleansed_Amager Vest": 0,
         "neighbourhood_cleansed_Amager st": 0,
         "neighbourhood_cleansed_Bispebjerg": 0,
         "neighbourhood_cleansed_Brnshj-Husum": 0,
         "neighbourhood_cleansed_Frederiksberg": 0,
         "neighbourhood_cleansed_Indre By": 1,
         "neighbourhood_cleansed_Nrrebro": 0,
         "neighbourhood_cleansed_Valby": 0,
         "neighbourhood_cleansed_Vanlse": 0,
         "neighbourhood_cleansed_Vesterbro-Kongens Enghave": 0,
         "neighbourhood_cleansed_sterbro": 0,
         "property_type_Entire apartment": 1,
         "property_type_Entire condominium": 0,
         "property_type_Entire house": 0,
         "property_type_Entire serviced apartment": 0,
         "property_type_Entire townhouse": 0,
         "property_type_Private room in apartment": 0,
         "property_type_Private room in house": 0,
         "room_type_Entire home/apt": 1,
         "room_type_Private room": 0,
         "_deepnote_index_column": 9744
        },
        {
         "number_of_reviews": -0.6042851429138267,
         "review_scores_rating": 0.45937000153977653,
         "price": -0.11433809764066509,
         "availability_365": -0.7963683598735949,
         "bedrooms": -0.7267062808675746,
         "accommodates": 0.3779957115346471,
         "instant_bookable": -0.4625485425684364,
         "reviews_per_month": 0.3184304605974539,
         "neighbourhood_cleansed_Amager Vest": 1,
         "neighbourhood_cleansed_Amager st": 0,
         "neighbourhood_cleansed_Bispebjerg": 0,
         "neighbourhood_cleansed_Brnshj-Husum": 0,
         "neighbourhood_cleansed_Frederiksberg": 0,
         "neighbourhood_cleansed_Indre By": 0,
         "neighbourhood_cleansed_Nrrebro": 0,
         "neighbourhood_cleansed_Valby": 0,
         "neighbourhood_cleansed_Vanlse": 0,
         "neighbourhood_cleansed_Vesterbro-Kongens Enghave": 0,
         "neighbourhood_cleansed_sterbro": 0,
         "property_type_Entire apartment": 0,
         "property_type_Entire condominium": 1,
         "property_type_Entire house": 0,
         "property_type_Entire serviced apartment": 0,
         "property_type_Entire townhouse": 0,
         "property_type_Private room in apartment": 0,
         "property_type_Private room in house": 0,
         "room_type_Entire home/apt": 1,
         "room_type_Private room": 0,
         "_deepnote_index_column": 9758
        },
        {
         "number_of_reviews": -0.6042851429138267,
         "review_scores_rating": 0.45937000153977653,
         "price": -0.9887997994078264,
         "availability_365": -0.7481883097897883,
         "bedrooms": -0.7267062808675746,
         "accommodates": -0.8615500989519926,
         "instant_bookable": -0.4625485425684364,
         "reviews_per_month": 0.3184304605974539,
         "neighbourhood_cleansed_Amager Vest": 0,
         "neighbourhood_cleansed_Amager st": 0,
         "neighbourhood_cleansed_Bispebjerg": 0,
         "neighbourhood_cleansed_Brnshj-Husum": 0,
         "neighbourhood_cleansed_Frederiksberg": 0,
         "neighbourhood_cleansed_Indre By": 0,
         "neighbourhood_cleansed_Nrrebro": 0,
         "neighbourhood_cleansed_Valby": 0,
         "neighbourhood_cleansed_Vanlse": 1,
         "neighbourhood_cleansed_Vesterbro-Kongens Enghave": 0,
         "neighbourhood_cleansed_sterbro": 0,
         "property_type_Entire apartment": 1,
         "property_type_Entire condominium": 0,
         "property_type_Entire house": 0,
         "property_type_Entire serviced apartment": 0,
         "property_type_Entire townhouse": 0,
         "property_type_Private room in apartment": 0,
         "property_type_Private room in house": 0,
         "room_type_Entire home/apt": 1,
         "room_type_Private room": 0,
         "_deepnote_index_column": 9767
        },
        {
         "number_of_reviews": -0.6042851429138267,
         "review_scores_rating": 0.45937000153977653,
         "price": -0.6117863711010263,
         "availability_365": 0.9461434514907414,
         "bedrooms": -0.7267062808675746,
         "accommodates": -0.8615500989519926,
         "instant_bookable": -0.4625485425684364,
         "reviews_per_month": 0.3184304605974539,
         "neighbourhood_cleansed_Amager Vest": 0,
         "neighbourhood_cleansed_Amager st": 0,
         "neighbourhood_cleansed_Bispebjerg": 0,
         "neighbourhood_cleansed_Brnshj-Husum": 0,
         "neighbourhood_cleansed_Frederiksberg": 0,
         "neighbourhood_cleansed_Indre By": 0,
         "neighbourhood_cleansed_Nrrebro": 0,
         "neighbourhood_cleansed_Valby": 0,
         "neighbourhood_cleansed_Vanlse": 0,
         "neighbourhood_cleansed_Vesterbro-Kongens Enghave": 1,
         "neighbourhood_cleansed_sterbro": 0,
         "property_type_Entire apartment": 0,
         "property_type_Entire condominium": 1,
         "property_type_Entire house": 0,
         "property_type_Entire serviced apartment": 0,
         "property_type_Entire townhouse": 0,
         "property_type_Private room in apartment": 0,
         "property_type_Private room in house": 0,
         "room_type_Entire home/apt": 1,
         "room_type_Private room": 0,
         "_deepnote_index_column": 9776
        },
        {
         "number_of_reviews": -0.6042851429138267,
         "review_scores_rating": 0.45937000153977653,
         "price": -0.08815660956380397,
         "availability_365": 1.3155238354665915,
         "bedrooms": 0.4126539189596049,
         "accommodates": 0.3779957115346471,
         "instant_bookable": -0.4625485425684364,
         "reviews_per_month": 0.3184304605974539,
         "neighbourhood_cleansed_Amager Vest": 0,
         "neighbourhood_cleansed_Amager st": 0,
         "neighbourhood_cleansed_Bispebjerg": 0,
         "neighbourhood_cleansed_Brnshj-Husum": 0,
         "neighbourhood_cleansed_Frederiksberg": 0,
         "neighbourhood_cleansed_Indre By": 0,
         "neighbourhood_cleansed_Nrrebro": 0,
         "neighbourhood_cleansed_Valby": 0,
         "neighbourhood_cleansed_Vanlse": 0,
         "neighbourhood_cleansed_Vesterbro-Kongens Enghave": 1,
         "neighbourhood_cleansed_sterbro": 0,
         "property_type_Entire apartment": 0,
         "property_type_Entire condominium": 1,
         "property_type_Entire house": 0,
         "property_type_Entire serviced apartment": 0,
         "property_type_Entire townhouse": 0,
         "property_type_Private room in apartment": 0,
         "property_type_Private room in house": 0,
         "room_type_Entire home/apt": 1,
         "room_type_Private room": 0,
         "_deepnote_index_column": 9778
        },
        {
         "number_of_reviews": -0.5763892046806894,
         "review_scores_rating": 0.45937000153977653,
         "price": -1.004508692253943,
         "availability_365": 1.9418644865560766,
         "bedrooms": -0.7267062808675746,
         "accommodates": -0.8615500989519926,
         "instant_bookable": -0.4625485425684364,
         "reviews_per_month": 1.2387101277283612,
         "neighbourhood_cleansed_Amager Vest": 0,
         "neighbourhood_cleansed_Amager st": 0,
         "neighbourhood_cleansed_Bispebjerg": 0,
         "neighbourhood_cleansed_Brnshj-Husum": 1,
         "neighbourhood_cleansed_Frederiksberg": 0,
         "neighbourhood_cleansed_Indre By": 0,
         "neighbourhood_cleansed_Nrrebro": 0,
         "neighbourhood_cleansed_Valby": 0,
         "neighbourhood_cleansed_Vanlse": 0,
         "neighbourhood_cleansed_Vesterbro-Kongens Enghave": 0,
         "neighbourhood_cleansed_sterbro": 0,
         "property_type_Entire apartment": 0,
         "property_type_Entire condominium": 0,
         "property_type_Entire house": 0,
         "property_type_Entire serviced apartment": 0,
         "property_type_Entire townhouse": 0,
         "property_type_Private room in apartment": 0,
         "property_type_Private room in house": 1,
         "room_type_Entire home/apt": 0,
         "room_type_Private room": 1,
         "_deepnote_index_column": 9784
        },
        {
         "number_of_reviews": -0.6042851429138267,
         "review_scores_rating": 0.45937000153977653,
         "price": -0.6379678591778875,
         "availability_365": -0.8284883932627992,
         "bedrooms": -0.7267062808675746,
         "accommodates": 0.3779957115346471,
         "instant_bookable": -0.4625485425684364,
         "reviews_per_month": 0.3184304605974539,
         "neighbourhood_cleansed_Amager Vest": 0,
         "neighbourhood_cleansed_Amager st": 0,
         "neighbourhood_cleansed_Bispebjerg": 0,
         "neighbourhood_cleansed_Brnshj-Husum": 0,
         "neighbourhood_cleansed_Frederiksberg": 0,
         "neighbourhood_cleansed_Indre By": 0,
         "neighbourhood_cleansed_Nrrebro": 0,
         "neighbourhood_cleansed_Valby": 0,
         "neighbourhood_cleansed_Vanlse": 1,
         "neighbourhood_cleansed_Vesterbro-Kongens Enghave": 0,
         "neighbourhood_cleansed_sterbro": 0,
         "property_type_Entire apartment": 0,
         "property_type_Entire condominium": 1,
         "property_type_Entire house": 0,
         "property_type_Entire serviced apartment": 0,
         "property_type_Entire townhouse": 0,
         "property_type_Private room in apartment": 0,
         "property_type_Private room in house": 0,
         "room_type_Entire home/apt": 1,
         "room_type_Private room": 0,
         "_deepnote_index_column": 9791
        },
        {
         "number_of_reviews": -0.6042851429138267,
         "review_scores_rating": -2.8260481610081722,
         "price": -0.580368585408793,
         "availability_365": -0.35471790077203497,
         "bedrooms": 1.5520141187867844,
         "accommodates": 0.997768616777967,
         "instant_bookable": 2.1619352521298776,
         "reviews_per_month": 0.3184304605974539,
         "neighbourhood_cleansed_Amager Vest": 0,
         "neighbourhood_cleansed_Amager st": 0,
         "neighbourhood_cleansed_Bispebjerg": 0,
         "neighbourhood_cleansed_Brnshj-Husum": 0,
         "neighbourhood_cleansed_Frederiksberg": 0,
         "neighbourhood_cleansed_Indre By": 1,
         "neighbourhood_cleansed_Nrrebro": 0,
         "neighbourhood_cleansed_Valby": 0,
         "neighbourhood_cleansed_Vanlse": 0,
         "neighbourhood_cleansed_Vesterbro-Kongens Enghave": 0,
         "neighbourhood_cleansed_sterbro": 0,
         "property_type_Entire apartment": 0,
         "property_type_Entire condominium": 1,
         "property_type_Entire house": 0,
         "property_type_Entire serviced apartment": 0,
         "property_type_Entire townhouse": 0,
         "property_type_Private room in apartment": 0,
         "property_type_Private room in house": 0,
         "room_type_Entire home/apt": 1,
         "room_type_Private room": 0,
         "_deepnote_index_column": 9817
        },
        {
         "number_of_reviews": -0.6042851429138267,
         "review_scores_rating": 0.45937000153977653,
         "price": -0.21906404994810957,
         "availability_365": 1.89368443647227,
         "bedrooms": 0.4126539189596049,
         "accommodates": 1.6175415220212868,
         "instant_bookable": -0.4625485425684364,
         "reviews_per_month": 0.3184304605974539,
         "neighbourhood_cleansed_Amager Vest": 0,
         "neighbourhood_cleansed_Amager st": 0,
         "neighbourhood_cleansed_Bispebjerg": 0,
         "neighbourhood_cleansed_Brnshj-Husum": 0,
         "neighbourhood_cleansed_Frederiksberg": 1,
         "neighbourhood_cleansed_Indre By": 0,
         "neighbourhood_cleansed_Nrrebro": 0,
         "neighbourhood_cleansed_Valby": 0,
         "neighbourhood_cleansed_Vanlse": 0,
         "neighbourhood_cleansed_Vesterbro-Kongens Enghave": 0,
         "neighbourhood_cleansed_sterbro": 0,
         "property_type_Entire apartment": 0,
         "property_type_Entire condominium": 1,
         "property_type_Entire house": 0,
         "property_type_Entire serviced apartment": 0,
         "property_type_Entire townhouse": 0,
         "property_type_Private room in apartment": 0,
         "property_type_Private room in house": 0,
         "room_type_Entire home/apt": 1,
         "room_type_Private room": 0,
         "_deepnote_index_column": 9825
        },
        {
         "number_of_reviews": -0.6042851429138267,
         "review_scores_rating": 0.45937000153977653,
         "price": -1.8868248404441628,
         "availability_365": 1.5564240858856242,
         "bedrooms": -0.7267062808675746,
         "accommodates": -0.8615500989519926,
         "instant_bookable": -0.4625485425684364,
         "reviews_per_month": 0.3184304605974539,
         "neighbourhood_cleansed_Amager Vest": 0,
         "neighbourhood_cleansed_Amager st": 0,
         "neighbourhood_cleansed_Bispebjerg": 0,
         "neighbourhood_cleansed_Brnshj-Husum": 0,
         "neighbourhood_cleansed_Frederiksberg": 0,
         "neighbourhood_cleansed_Indre By": 0,
         "neighbourhood_cleansed_Nrrebro": 0,
         "neighbourhood_cleansed_Valby": 1,
         "neighbourhood_cleansed_Vanlse": 0,
         "neighbourhood_cleansed_Vesterbro-Kongens Enghave": 0,
         "neighbourhood_cleansed_sterbro": 0,
         "property_type_Entire apartment": 0,
         "property_type_Entire condominium": 0,
         "property_type_Entire house": 0,
         "property_type_Entire serviced apartment": 0,
         "property_type_Entire townhouse": 0,
         "property_type_Private room in apartment": 0,
         "property_type_Private room in house": 1,
         "room_type_Entire home/apt": 0,
         "room_type_Private room": 1,
         "_deepnote_index_column": 9833
        }
       ]
      },
      "text/plain": "      number_of_reviews  review_scores_rating     price  availability_365  \\\n0              4.054337              0.097974 -1.357959         -0.860608   \n2             -0.018470              0.311526 -0.404953         -0.491228   \n3             -0.157950              0.245818 -0.349971         -0.860608   \n4              1.404222              0.278672  0.705142         -0.129878   \n5             -0.436910             -0.246995 -0.698185          0.881903   \n...                 ...                   ...       ...               ...   \n9784          -0.576389              0.459370 -1.004509          1.941864   \n9791          -0.604285              0.459370 -0.637968         -0.828488   \n9817          -0.604285             -2.826048 -0.580369         -0.354718   \n9825          -0.604285              0.459370 -0.219064          1.893684   \n9833          -0.604285              0.459370 -1.886825          1.556424   \n\n      bedrooms  accommodates  instant_bookable  reviews_per_month  \\\n0    -0.726706     -0.861550         -0.462549           0.879801   \n2    -0.726706     -0.861550         -0.462549          -0.261346   \n3    -0.726706     -0.241777         -0.462549          -0.353374   \n4     1.552014      0.997769          2.161935           0.005535   \n5     0.412654      0.377996         -0.462549          -0.546632   \n...        ...           ...               ...                ...   \n9784 -0.726706     -0.861550         -0.462549           1.238710   \n9791 -0.726706      0.377996         -0.462549           0.318430   \n9817  1.552014      0.997769          2.161935           0.318430   \n9825  0.412654      1.617542         -0.462549           0.318430   \n9833 -0.726706     -0.861550         -0.462549           0.318430   \n\n      neighbourhood_cleansed_Amager Vest  neighbourhood_cleansed_Amager st  \\\n0                                      0                                 0   \n2                                      0                                 0   \n3                                      0                                 0   \n4                                      0                                 0   \n5                                      0                                 0   \n...                                  ...                               ...   \n9784                                   0                                 0   \n9791                                   0                                 0   \n9817                                   0                                 0   \n9825                                   0                                 0   \n9833                                   0                                 0   \n\n      ...  neighbourhood_cleansed_sterbro  property_type_Entire apartment  \\\n0     ...                               0                               0   \n2     ...                               0                               1   \n3     ...                               0                               1   \n4     ...                               0                               1   \n5     ...                               1                               1   \n...   ...                             ...                             ...   \n9784  ...                               0                               0   \n9791  ...                               0                               0   \n9817  ...                               0                               0   \n9825  ...                               0                               0   \n9833  ...                               0                               0   \n\n      property_type_Entire condominium  property_type_Entire house  \\\n0                                    0                           0   \n2                                    0                           0   \n3                                    0                           0   \n4                                    0                           0   \n5                                    0                           0   \n...                                ...                         ...   \n9784                                 0                           0   \n9791                                 1                           0   \n9817                                 1                           0   \n9825                                 1                           0   \n9833                                 0                           0   \n\n      property_type_Entire serviced apartment  property_type_Entire townhouse  \\\n0                                           0                               0   \n2                                           0                               0   \n3                                           0                               0   \n4                                           0                               0   \n5                                           0                               0   \n...                                       ...                             ...   \n9784                                        0                               0   \n9791                                        0                               0   \n9817                                        0                               0   \n9825                                        0                               0   \n9833                                        0                               0   \n\n      property_type_Private room in apartment  \\\n0                                           1   \n2                                           0   \n3                                           0   \n4                                           0   \n5                                           0   \n...                                       ...   \n9784                                        0   \n9791                                        0   \n9817                                        0   \n9825                                        0   \n9833                                        0   \n\n      property_type_Private room in house  room_type_Entire home/apt  \\\n0                                       0                          0   \n2                                       0                          1   \n3                                       0                          1   \n4                                       0                          1   \n5                                       0                          1   \n...                                   ...                        ...   \n9784                                    1                          0   \n9791                                    0                          1   \n9817                                    0                          1   \n9825                                    0                          1   \n9833                                    1                          0   \n\n      room_type_Private room  \n0                          1  \n2                          0  \n3                          0  \n4                          0  \n5                          0  \n...                      ...  \n9784                       1  \n9791                       0  \n9817                       0  \n9825                       0  \n9833                       1  \n\n[7257 rows x 28 columns]",
      "text/html": "<div>\n<style scoped>\n    .dataframe tbody tr th:only-of-type {\n        vertical-align: middle;\n    }\n\n    .dataframe tbody tr th {\n        vertical-align: top;\n    }\n\n    .dataframe thead th {\n        text-align: right;\n    }\n</style>\n<table border=\"1\" class=\"dataframe\">\n  <thead>\n    <tr style=\"text-align: right;\">\n      <th></th>\n      <th>number_of_reviews</th>\n      <th>review_scores_rating</th>\n      <th>price</th>\n      <th>availability_365</th>\n      <th>bedrooms</th>\n      <th>accommodates</th>\n      <th>instant_bookable</th>\n      <th>reviews_per_month</th>\n      <th>neighbourhood_cleansed_Amager Vest</th>\n      <th>neighbourhood_cleansed_Amager st</th>\n      <th>...</th>\n      <th>neighbourhood_cleansed_sterbro</th>\n      <th>property_type_Entire apartment</th>\n      <th>property_type_Entire condominium</th>\n      <th>property_type_Entire house</th>\n      <th>property_type_Entire serviced apartment</th>\n      <th>property_type_Entire townhouse</th>\n      <th>property_type_Private room in apartment</th>\n      <th>property_type_Private room in house</th>\n      <th>room_type_Entire home/apt</th>\n      <th>room_type_Private room</th>\n    </tr>\n  </thead>\n  <tbody>\n    <tr>\n      <th>0</th>\n      <td>4.054337</td>\n      <td>0.097974</td>\n      <td>-1.357959</td>\n      <td>-0.860608</td>\n      <td>-0.726706</td>\n      <td>-0.861550</td>\n      <td>-0.462549</td>\n      <td>0.879801</td>\n      <td>0</td>\n      <td>0</td>\n      <td>...</td>\n      <td>0</td>\n      <td>0</td>\n      <td>0</td>\n      <td>0</td>\n      <td>0</td>\n      <td>0</td>\n      <td>1</td>\n      <td>0</td>\n      <td>0</td>\n      <td>1</td>\n    </tr>\n    <tr>\n      <th>2</th>\n      <td>-0.018470</td>\n      <td>0.311526</td>\n      <td>-0.404953</td>\n      <td>-0.491228</td>\n      <td>-0.726706</td>\n      <td>-0.861550</td>\n      <td>-0.462549</td>\n      <td>-0.261346</td>\n      <td>0</td>\n      <td>0</td>\n      <td>...</td>\n      <td>0</td>\n      <td>1</td>\n      <td>0</td>\n      <td>0</td>\n      <td>0</td>\n      <td>0</td>\n      <td>0</td>\n      <td>0</td>\n      <td>1</td>\n      <td>0</td>\n    </tr>\n    <tr>\n      <th>3</th>\n      <td>-0.157950</td>\n      <td>0.245818</td>\n      <td>-0.349971</td>\n      <td>-0.860608</td>\n      <td>-0.726706</td>\n      <td>-0.241777</td>\n      <td>-0.462549</td>\n      <td>-0.353374</td>\n      <td>0</td>\n      <td>0</td>\n      <td>...</td>\n      <td>0</td>\n      <td>1</td>\n      <td>0</td>\n      <td>0</td>\n      <td>0</td>\n      <td>0</td>\n      <td>0</td>\n      <td>0</td>\n      <td>1</td>\n      <td>0</td>\n    </tr>\n    <tr>\n      <th>4</th>\n      <td>1.404222</td>\n      <td>0.278672</td>\n      <td>0.705142</td>\n      <td>-0.129878</td>\n      <td>1.552014</td>\n      <td>0.997769</td>\n      <td>2.161935</td>\n      <td>0.005535</td>\n      <td>0</td>\n      <td>0</td>\n      <td>...</td>\n      <td>0</td>\n      <td>1</td>\n      <td>0</td>\n      <td>0</td>\n      <td>0</td>\n      <td>0</td>\n      <td>0</td>\n      <td>0</td>\n      <td>1</td>\n      <td>0</td>\n    </tr>\n    <tr>\n      <th>5</th>\n      <td>-0.436910</td>\n      <td>-0.246995</td>\n      <td>-0.698185</td>\n      <td>0.881903</td>\n      <td>0.412654</td>\n      <td>0.377996</td>\n      <td>-0.462549</td>\n      <td>-0.546632</td>\n      <td>0</td>\n      <td>0</td>\n      <td>...</td>\n      <td>1</td>\n      <td>1</td>\n      <td>0</td>\n      <td>0</td>\n      <td>0</td>\n      <td>0</td>\n      <td>0</td>\n      <td>0</td>\n      <td>1</td>\n      <td>0</td>\n    </tr>\n    <tr>\n      <th>...</th>\n      <td>...</td>\n      <td>...</td>\n      <td>...</td>\n      <td>...</td>\n      <td>...</td>\n      <td>...</td>\n      <td>...</td>\n      <td>...</td>\n      <td>...</td>\n      <td>...</td>\n      <td>...</td>\n      <td>...</td>\n      <td>...</td>\n      <td>...</td>\n      <td>...</td>\n      <td>...</td>\n      <td>...</td>\n      <td>...</td>\n      <td>...</td>\n      <td>...</td>\n      <td>...</td>\n    </tr>\n    <tr>\n      <th>9784</th>\n      <td>-0.576389</td>\n      <td>0.459370</td>\n      <td>-1.004509</td>\n      <td>1.941864</td>\n      <td>-0.726706</td>\n      <td>-0.861550</td>\n      <td>-0.462549</td>\n      <td>1.238710</td>\n      <td>0</td>\n      <td>0</td>\n      <td>...</td>\n      <td>0</td>\n      <td>0</td>\n      <td>0</td>\n      <td>0</td>\n      <td>0</td>\n      <td>0</td>\n      <td>0</td>\n      <td>1</td>\n      <td>0</td>\n      <td>1</td>\n    </tr>\n    <tr>\n      <th>9791</th>\n      <td>-0.604285</td>\n      <td>0.459370</td>\n      <td>-0.637968</td>\n      <td>-0.828488</td>\n      <td>-0.726706</td>\n      <td>0.377996</td>\n      <td>-0.462549</td>\n      <td>0.318430</td>\n      <td>0</td>\n      <td>0</td>\n      <td>...</td>\n      <td>0</td>\n      <td>0</td>\n      <td>1</td>\n      <td>0</td>\n      <td>0</td>\n      <td>0</td>\n      <td>0</td>\n      <td>0</td>\n      <td>1</td>\n      <td>0</td>\n    </tr>\n    <tr>\n      <th>9817</th>\n      <td>-0.604285</td>\n      <td>-2.826048</td>\n      <td>-0.580369</td>\n      <td>-0.354718</td>\n      <td>1.552014</td>\n      <td>0.997769</td>\n      <td>2.161935</td>\n      <td>0.318430</td>\n      <td>0</td>\n      <td>0</td>\n      <td>...</td>\n      <td>0</td>\n      <td>0</td>\n      <td>1</td>\n      <td>0</td>\n      <td>0</td>\n      <td>0</td>\n      <td>0</td>\n      <td>0</td>\n      <td>1</td>\n      <td>0</td>\n    </tr>\n    <tr>\n      <th>9825</th>\n      <td>-0.604285</td>\n      <td>0.459370</td>\n      <td>-0.219064</td>\n      <td>1.893684</td>\n      <td>0.412654</td>\n      <td>1.617542</td>\n      <td>-0.462549</td>\n      <td>0.318430</td>\n      <td>0</td>\n      <td>0</td>\n      <td>...</td>\n      <td>0</td>\n      <td>0</td>\n      <td>1</td>\n      <td>0</td>\n      <td>0</td>\n      <td>0</td>\n      <td>0</td>\n      <td>0</td>\n      <td>1</td>\n      <td>0</td>\n    </tr>\n    <tr>\n      <th>9833</th>\n      <td>-0.604285</td>\n      <td>0.459370</td>\n      <td>-1.886825</td>\n      <td>1.556424</td>\n      <td>-0.726706</td>\n      <td>-0.861550</td>\n      <td>-0.462549</td>\n      <td>0.318430</td>\n      <td>0</td>\n      <td>0</td>\n      <td>...</td>\n      <td>0</td>\n      <td>0</td>\n      <td>0</td>\n      <td>0</td>\n      <td>0</td>\n      <td>0</td>\n      <td>0</td>\n      <td>1</td>\n      <td>0</td>\n      <td>1</td>\n    </tr>\n  </tbody>\n</table>\n<p>7257 rows × 28 columns</p>\n</div>"
     },
     "metadata": {}
    }
   ],
   "execution_count": 74
  },
  {
   "cell_type": "code",
   "source": "y = listings_filtered.price",
   "metadata": {
    "tags": [],
    "cell_id": "00028-51f21bf6-fb3f-4968-bcc5-c35f091895c3",
    "deepnote_to_be_reexecuted": false,
    "source_hash": "e2083ba4",
    "execution_start": 1632215169927,
    "execution_millis": 0,
    "deepnote_cell_type": "code"
   },
   "outputs": [],
   "execution_count": 81
  },
  {
   "cell_type": "code",
   "source": "X = X.drop(['price'], axis=1)",
   "metadata": {
    "tags": [],
    "cell_id": "00028-26b52f03-e13f-4160-aca1-bb0ba12a6e17",
    "deepnote_to_be_reexecuted": false,
    "source_hash": "9bc78a64",
    "execution_start": 1632215289102,
    "execution_millis": 1,
    "deepnote_cell_type": "code"
   },
   "outputs": [],
   "execution_count": 84
  },
  {
   "cell_type": "code",
   "source": "from sklearn.model_selection import train_test_split\nX_train, X_test, y_train, y_test = train_test_split(X, y, test_size=0.2, random_state=21)",
   "metadata": {
    "tags": [],
    "cell_id": "00029-64090b81-4b6b-47c5-acb5-468e9c95d18b",
    "deepnote_to_be_reexecuted": false,
    "source_hash": "764443c0",
    "execution_start": 1632215407081,
    "execution_millis": 6,
    "deepnote_cell_type": "code"
   },
   "outputs": [],
   "execution_count": 85
  },
  {
   "cell_type": "code",
   "source": "from sklearn.linear_model import LinearRegression\nmodel_ols = LinearRegression()",
   "metadata": {
    "tags": [],
    "cell_id": "00030-9c21a5f0-a138-4b12-a316-678c1c8c66b4",
    "deepnote_to_be_reexecuted": false,
    "source_hash": "c8d4e8fd",
    "execution_start": 1632216489501,
    "execution_millis": 2,
    "deepnote_cell_type": "code"
   },
   "outputs": [],
   "execution_count": 86
  },
  {
   "cell_type": "code",
   "source": "model_ols.fit(X_train,y_train)",
   "metadata": {
    "tags": [],
    "cell_id": "00031-c557dc41-f5b9-44be-b2e1-c4991655b21d",
    "deepnote_to_be_reexecuted": false,
    "source_hash": "2f17c5a",
    "execution_start": 1632216551096,
    "execution_millis": 33,
    "deepnote_cell_type": "code"
   },
   "outputs": [
    {
     "output_type": "execute_result",
     "execution_count": 87,
     "data": {
      "text/plain": "LinearRegression()"
     },
     "metadata": {}
    }
   ],
   "execution_count": 87
  },
  {
   "cell_type": "code",
   "source": "model_ols.score(X_test,y_test)",
   "metadata": {
    "tags": [],
    "cell_id": "00032-9acd9254-1149-4912-b910-f609286991d9",
    "deepnote_to_be_reexecuted": false,
    "source_hash": "b143e5bb",
    "execution_start": 1632216574918,
    "execution_millis": 26,
    "deepnote_cell_type": "code"
   },
   "outputs": [
    {
     "output_type": "execute_result",
     "execution_count": 88,
     "data": {
      "text/plain": "0.4958752720065742"
     },
     "metadata": {}
    }
   ],
   "execution_count": 88
  },
  {
   "cell_type": "code",
   "source": "y_pred = model_ols.predict(X_test)",
   "metadata": {
    "tags": [],
    "cell_id": "00033-963d5531-1d6b-4bea-a9ab-510369363e0c",
    "deepnote_to_be_reexecuted": false,
    "source_hash": "341f6f42",
    "execution_start": 1632216648964,
    "execution_millis": 1,
    "deepnote_cell_type": "code"
   },
   "outputs": [],
   "execution_count": 89
  },
  {
   "cell_type": "code",
   "source": "sns.relplot(y_test, y_pred)",
   "metadata": {
    "tags": [],
    "cell_id": "00033-2d2c3abc-0d72-4bf9-99f7-9030a3cf37f9",
    "deepnote_to_be_reexecuted": false,
    "source_hash": "d989ac8b",
    "execution_start": 1632216736387,
    "execution_millis": 370,
    "deepnote_cell_type": "code"
   },
   "outputs": [
    {
     "name": "stderr",
     "text": "/shared-libs/python3.7/py/lib/python3.7/site-packages/seaborn/_decorators.py:43: FutureWarning: Pass the following variables as keyword args: x, y. From version 0.12, the only valid positional argument will be `data`, and passing other arguments without an explicit keyword will result in an error or misinterpretation.\n  FutureWarning\n",
     "output_type": "stream"
    },
    {
     "output_type": "execute_result",
     "execution_count": 90,
     "data": {
      "text/plain": "<seaborn.axisgrid.FacetGrid at 0x7f1719e42450>"
     },
     "metadata": {}
    },
    {
     "data": {
      "text/plain": "<Figure size 360x360 with 1 Axes>",
      "image/png": "[encoded data removed]"
     },
     "metadata": {
      "needs_background": "light",
      "image/png": {
       "width": 352,
       "height": 352
      }
     },
     "output_type": "display_data"
    }
   ],
   "execution_count": 90
  },
  {
   "cell_type": "code",
   "source": "from sklearn.metrics import mean_squared_error",
   "metadata": {
    "tags": [],
    "cell_id": "00035-2b6f04ce-453e-44e6-beaa-acc92f597fb6",
    "deepnote_to_be_reexecuted": false,
    "source_hash": "c7dc8a4e",
    "execution_start": 1632216916678,
    "execution_millis": 3,
    "deepnote_cell_type": "code"
   },
   "outputs": [],
   "execution_count": 91
  },
  {
   "cell_type": "code",
   "source": "from math import sqrt",
   "metadata": {
    "tags": [],
    "cell_id": "00036-f6c4df6b-ffa9-4b22-8318-3e58df232d31",
    "deepnote_to_be_reexecuted": false,
    "source_hash": "39e11279",
    "execution_start": 1632216954825,
    "execution_millis": 0,
    "deepnote_cell_type": "code"
   },
   "outputs": [],
   "execution_count": 93
  },
  {
   "cell_type": "code",
   "source": "sqrt(mean_squared_error(y_test,y_pred))",
   "metadata": {
    "tags": [],
    "cell_id": "00036-ba89d859-c732-4d84-b3c3-c67faddc6d47",
    "deepnote_to_be_reexecuted": false,
    "source_hash": "d82f6f94",
    "execution_start": 1632216962944,
    "execution_millis": 26,
    "deepnote_cell_type": "code"
   },
   "outputs": [
    {
     "output_type": "execute_result",
     "execution_count": 94,
     "data": {
      "text/plain": "275.622442967619"
     },
     "metadata": {}
    }
   ],
   "execution_count": 94
  },
  {
   "cell_type": "code",
   "source": "!pip install xgboost",
   "metadata": {
    "tags": [],
    "cell_id": "00038-ac884568-7c40-4134-8e6a-cf50862b2567",
    "deepnote_to_be_reexecuted": false,
    "source_hash": "4d27a39e",
    "execution_start": 1632217131621,
    "execution_millis": 10031,
    "deepnote_cell_type": "code"
   },
   "outputs": [
    {
     "name": "stdout",
     "text": "Collecting xgboost\n  Downloading xgboost-1.4.2-py3-none-manylinux2010_x86_64.whl (166.7 MB)\n\u001b[K     |████████████████████████████████| 166.7 MB 69.5 MB/s \n\u001b[?25hRequirement already satisfied: numpy in /shared-libs/python3.7/py/lib/python3.7/site-packages (from xgboost) (1.19.5)\nRequirement already satisfied: scipy in /shared-libs/python3.7/py/lib/python3.7/site-packages (from xgboost) (1.7.1)\nInstalling collected packages: xgboost\nSuccessfully installed xgboost-1.4.2\n\u001b[33mWARNING: You are using pip version 21.2.3; however, version 21.2.4 is available.\nYou should consider upgrading via the '/root/venv/bin/python -m pip install --upgrade pip' command.\u001b[0m\n",
     "output_type": "stream"
    }
   ],
   "execution_count": 96
  },
  {
   "cell_type": "code",
   "source": "from xgboost import XGBRegressor",
   "metadata": {
    "tags": [],
    "cell_id": "00037-20c4c45c-43f0-4ba2-816c-efa8960977fc",
    "deepnote_to_be_reexecuted": false,
    "source_hash": "40218761",
    "execution_start": 1632217141660,
    "execution_millis": 167,
    "deepnote_cell_type": "code"
   },
   "outputs": [],
   "execution_count": 97
  },
  {
   "cell_type": "code",
   "source": "model_xgb = XGBRegressor()",
   "metadata": {
    "tags": [],
    "cell_id": "00039-614fd3a5-e709-4dff-a071-3149c1858124",
    "deepnote_to_be_reexecuted": false,
    "source_hash": "3e5b6f7d",
    "execution_start": 1632217176225,
    "execution_millis": 1,
    "deepnote_cell_type": "code"
   },
   "outputs": [],
   "execution_count": 98
  },
  {
   "cell_type": "code",
   "source": "model_xgb.fit(X_train,y_train)",
   "metadata": {
    "tags": [],
    "cell_id": "00041-77167436-9387-4275-9451-4262ed0194ca",
    "deepnote_to_be_reexecuted": false,
    "source_hash": "c6e3dc01",
    "execution_start": 1632217194193,
    "execution_millis": 861,
    "deepnote_cell_type": "code"
   },
   "outputs": [
    {
     "output_type": "execute_result",
     "execution_count": 99,
     "data": {
      "text/plain": "XGBRegressor(base_score=0.5, booster='gbtree', colsample_bylevel=1,\n             colsample_bynode=1, colsample_bytree=1, gamma=0, gpu_id=-1,\n             importance_type='gain', interaction_constraints='',\n             learning_rate=0.300000012, max_delta_step=0, max_depth=6,\n             min_child_weight=1, missing=nan, monotone_constraints='()',\n             n_estimators=100, n_jobs=2, num_parallel_tree=1, random_state=0,\n             reg_alpha=0, reg_lambda=1, scale_pos_weight=1, subsample=1,\n             tree_method='exact', validate_parameters=1, verbosity=None)"
     },
     "metadata": {}
    }
   ],
   "execution_count": 99
  },
  {
   "cell_type": "code",
   "source": "y_pred = model_xgb.predict(X_test)",
   "metadata": {
    "tags": [],
    "cell_id": "00042-64404b55-f8d3-46cc-b42f-d4644109e01d",
    "deepnote_to_be_reexecuted": false,
    "source_hash": "6a29e9b7",
    "execution_start": 1632217217467,
    "execution_millis": 28,
    "deepnote_cell_type": "code"
   },
   "outputs": [],
   "execution_count": 100
  },
  {
   "cell_type": "code",
   "source": "sns.relplot(y_test, y_pred)",
   "metadata": {
    "tags": [],
    "cell_id": "00043-75545f09-bd05-4965-a97d-edf633f4c9a0",
    "deepnote_to_be_reexecuted": false,
    "source_hash": "d989ac8b",
    "execution_start": 1632217242139,
    "execution_millis": 343,
    "deepnote_cell_type": "code"
   },
   "outputs": [
    {
     "name": "stderr",
     "text": "/shared-libs/python3.7/py/lib/python3.7/site-packages/seaborn/_decorators.py:43: FutureWarning: Pass the following variables as keyword args: x, y. From version 0.12, the only valid positional argument will be `data`, and passing other arguments without an explicit keyword will result in an error or misinterpretation.\n  FutureWarning\n",
     "output_type": "stream"
    },
    {
     "output_type": "execute_result",
     "execution_count": 101,
     "data": {
      "text/plain": "<seaborn.axisgrid.FacetGrid at 0x7f16f5c60fd0>"
     },
     "metadata": {}
    },
    {
     "data": {
      "text/plain": "<Figure size 360x360 with 1 Axes>",
      "image/png": "[encoded data removed]"
     },
     "metadata": {
      "needs_background": "light",
      "image/png": {
       "width": 352,
       "height": 352
      }
     },
     "output_type": "display_data"
    }
   ],
   "execution_count": 101
  },
  {
   "cell_type": "code",
   "source": "sqrt(mean_squared_error(y_test,y_pred))",
   "metadata": {
    "tags": [],
    "cell_id": "00044-ac4a3924-e1ee-4829-a1b1-187f17e2fd0b",
    "deepnote_to_be_reexecuted": false,
    "source_hash": "d82f6f94",
    "execution_start": 1632217305138,
    "execution_millis": 14,
    "deepnote_cell_type": "code"
   },
   "outputs": [
    {
     "output_type": "execute_result",
     "execution_count": 102,
     "data": {
      "text/plain": "283.0286862531667"
     },
     "metadata": {}
    }
   ],
   "execution_count": 102
  },
  {
   "cell_type": "code",
   "source": "",
   "metadata": {
    "tags": [],
    "cell_id": "00045-a75045df-ae27-42e0-a953-c81e15f70687",
    "deepnote_cell_type": "code"
   },
   "outputs": [],
   "execution_count": null
  },
  {
   "cell_type": "markdown",
   "source": "<a style='text-decoration:none;line-height:16px;display:flex;color:#5B5B62;padding:10px;justify-content:end;' href='https://deepnote.com?utm_source=created-in-deepnote-cell&projectId=4108720e-f754-43bd-ab9c-4ddb3f5be514' target=\"_blank\">\n<img alt='Created in deepnote.com' style='display:inline;max-height:16px;margin:0px;margin-right:7.5px;' src='data:image/svg+xml;base64,PD94bWwgdmVyc2lvbj0iMS4wIiBlbmNvZGluZz0iVVRGLTgiPz4KPHN2ZyB3aWR0aD0iODBweCIgaGVpZ2h0PSI4MHB4IiB2aWV3Qm94PSIwIDAgODAgODAiIHZlcnNpb249IjEuMSIgeG1sbnM9Imh0dHA6Ly93d3cudzMub3JnLzIwMDAvc3ZnIiB4bWxuczp4bGluaz0iaHR0cDovL3d3dy53My5vcmcvMTk5OS94bGluayI+CiAgICA8IS0tIEdlbmVyYXRvcjogU2tldGNoIDU0LjEgKDc2NDkwKSAtIGh0dHBzOi8vc2tldGNoYXBwLmNvbSAtLT4KICAgIDx0aXRsZT5Hcm91cCAzPC90aXRsZT4KICAgIDxkZXNjPkNyZWF0ZWQgd2l0aCBTa2V0Y2guPC9kZXNjPgogICAgPGcgaWQ9IkxhbmRpbmciIHN0cm9rZT0ibm9uZSIgc3Ryb2tlLXdpZHRoPSIxIiBmaWxsPSJub25lIiBmaWxsLXJ1bGU9ImV2ZW5vZGQiPgogICAgICAgIDxnIGlkPSJBcnRib2FyZCIgdHJhbnNmb3JtPSJ0cmFuc2xhdGUoLTEyMzUuMDAwMDAwLCAtNzkuMDAwMDAwKSI+CiAgICAgICAgICAgIDxnIGlkPSJHcm91cC0zIiB0cmFuc2Zvcm09InRyYW5zbGF0ZSgxMjM1LjAwMDAwMCwgNzkuMDAwMDAwKSI+CiAgICAgICAgICAgICAgICA8cG9seWdvbiBpZD0iUGF0aC0yMCIgZmlsbD0iIzAyNjVCNCIgcG9pbnRzPSIyLjM3NjIzNzYyIDgwIDM4LjA0NzY2NjcgODAgNTcuODIxNzgyMiA3My44MDU3NTkyIDU3LjgyMTc4MjIgMzIuNzU5MjczOSAzOS4xNDAyMjc4IDMxLjY4MzE2ODMiPjwvcG9seWdvbj4KICAgICAgICAgICAgICAgIDxwYXRoIGQ9Ik0zNS4wMDc3MTgsODAgQzQyLjkwNjIwMDcsNzYuNDU0OTM1OCA0Ny41NjQ5MTY3LDcxLjU0MjI2NzEgNDguOTgzODY2LDY1LjI2MTk5MzkgQzUxLjExMjI4OTksNTUuODQxNTg0MiA0MS42NzcxNzk1LDQ5LjIxMjIyODQgMjUuNjIzOTg0Niw0OS4yMTIyMjg0IEMyNS40ODQ5Mjg5LDQ5LjEyNjg0NDggMjkuODI2MTI5Niw0My4yODM4MjQ4IDM4LjY0NzU4NjksMzEuNjgzMTY4MyBMNzIuODcxMjg3MSwzMi41NTQ0MjUgTDY1LjI4MDk3Myw2Ny42NzYzNDIxIEw1MS4xMTIyODk5LDc3LjM3NjE0NCBMMzUuMDA3NzE4LDgwIFoiIGlkPSJQYXRoLTIyIiBmaWxsPSIjMDAyODY4Ij48L3BhdGg+CiAgICAgICAgICAgICAgICA8cGF0aCBkPSJNMCwzNy43MzA0NDA1IEwyNy4xMTQ1MzcsMC4yNTcxMTE0MzYgQzYyLjM3MTUxMjMsLTEuOTkwNzE3MDEgODAsMTAuNTAwMzkyNyA4MCwzNy43MzA0NDA1IEM4MCw2NC45NjA0ODgyIDY0Ljc3NjUwMzgsNzkuMDUwMzQxNCAzNC4zMjk1MTEzLDgwIEM0Ny4wNTUzNDg5LDc3LjU2NzA4MDggNTMuNDE4MjY3Nyw3MC4zMTM2MTAzIDUzLjQxODI2NzcsNTguMjM5NTg4NSBDNTMuNDE4MjY3Nyw0MC4xMjg1NTU3IDM2LjMwMzk1NDQsMzcuNzMwNDQwNSAyNS4yMjc0MTcsMzcuNzMwNDQwNSBDMTcuODQzMDU4NiwzNy43MzA0NDA1IDkuNDMzOTE5NjYsMzcuNzMwNDQwNSAwLDM3LjczMDQ0MDUgWiIgaWQ9IlBhdGgtMTkiIGZpbGw9IiMzNzkzRUYiPjwvcGF0aD4KICAgICAgICAgICAgPC9nPgogICAgICAgIDwvZz4KICAgIDwvZz4KPC9zdmc+' > </img>\nCreated in <span style='font-weight:600;margin-left:4px;'>Deepnote</span></a>",
   "metadata": {
    "tags": [],
    "created_in_deepnote_cell": true,
    "deepnote_cell_type": "markdown"
   }
  }
 ],
 "nbformat": 4,
 "nbformat_minor": 2,
 "metadata": {
  "orig_nbformat": 2,
  "deepnote": {
   "is_reactive": false
  },
  "deepnote_notebook_id": "6696d803-1d4c-4e39-b1ef-a90662e429d5",
  "deepnote_execution_queue": []
 }
}
