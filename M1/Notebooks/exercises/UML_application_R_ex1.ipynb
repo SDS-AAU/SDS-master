{
  "nbformat": 4,
  "nbformat_minor": 0,
  "metadata": {
    "kernelspec": {
      "display_name": "R",
      "language": "R",
      "name": "ir"
    },
    "language_info": {
      "mimetype": "text/x-r-source",
      "name": "R",
      "pygments_lexer": "r",
      "version": "3.4.2",
      "file_extension": ".r",
      "codemirror_mode": "r"
    },
    "colab": {
      "name": "M1_5_unsupervised_ml_ex1.ipynb",
      "provenance": [],
      "include_colab_link": true
    }
  },
  "cells": [
    {
      "cell_type": "markdown",
      "metadata": {
        "id": "view-in-github",
        "colab_type": "text"
      },
      "source": [
        "<a href=\"https://colab.research.google.com/github/SDS-AAU/SDS-master/blob/master/M1/notebooks/UML_application_R_ex1.ipynb\" target=\"_parent\"><img src=\"https://colab.research.google.com/assets/colab-badge.svg\" alt=\"Open In Colab\"/></a>"
      ]
    },
    {
      "cell_type": "code",
      "metadata": {
        "_uuid": "39113dee8b1a927a268acaabf27848ef106a4e5b",
        "_execution_state": "idle",
        "trusted": true,
        "id": "bAm3gi1EMH7K"
      },
      "source": [
        "# Sorry guys, this takes some time....\n",
        "install.packages(\"FactoMineR\")\n",
        "install.packages(\"factoextra\")"
      ],
      "execution_count": null,
      "outputs": []
    },
    {
      "cell_type": "code",
      "metadata": {
        "id": "koCHAKaGOXMQ"
      },
      "source": [
        "library(tidyverse) # metapackage with lots of helpful functions\n",
        "library(magrittr)"
      ],
      "execution_count": null,
      "outputs": []
    },
    {
      "cell_type": "markdown",
      "metadata": {
        "_uuid": "34077d7910142e5ff24603966c582918c6c66ce1",
        "id": "6kuLMf2BMH7Q"
      },
      "source": [
        "# Inspect the data\n",
        "We will use the `mtcars` dataset. It contains different cars and their "
      ]
    },
    {
      "cell_type": "code",
      "metadata": {
        "id": "FacN8zTEaOgB"
      },
      "source": [
        "data <- mtcars"
      ],
      "execution_count": null,
      "outputs": []
    },
    {
      "cell_type": "code",
      "metadata": {
        "id": "EXPhA868Z0Vu"
      },
      "source": [
        "data %>% head()"
      ],
      "execution_count": null,
      "outputs": []
    },
    {
      "cell_type": "code",
      "metadata": {
        "id": "LtOWoSMTYYz6"
      },
      "source": [
        "data %>% glimpse()"
      ],
      "execution_count": null,
      "outputs": []
    },
    {
      "cell_type": "code",
      "metadata": {
        "trusted": true,
        "_uuid": "66d4a5d5521852fae812dde2af381db512c0f1ab",
        "id": "z7eVT4RNMH7b",
        "outputId": "c649fd63-66a6-4e40-8d4b-0187f9888ed2",
        "colab": {
          "base_uri": "https://localhost:8080/",
          "height": 34
        }
      },
      "source": [
        "# Load the packages we need\n",
        "library(FactoMineR)\n",
        "library(factoextra)"
      ],
      "execution_count": null,
      "outputs": [
        {
          "output_type": "stream",
          "text": [
            "Welcome! Related Books: `Practical Guide To Cluster Analysis in R` at https://goo.gl/13EFCZ\n"
          ],
          "name": "stderr"
        }
      ]
    },
    {
      "cell_type": "markdown",
      "metadata": {
        "_uuid": "1e44b62b72c160676c32a6c40aec8fbf60d2be58",
        "id": "cJYW2ZPSMH7i"
      },
      "source": [
        "Some preprocessing upfront"
      ]
    },
    {
      "cell_type": "code",
      "metadata": {
        "trusted": true,
        "_uuid": "bf3c99c91f97f014c453c3e4d5d6168fe548f94a",
        "id": "wCZUfRohMH7j"
      },
      "source": [
        "# First, let's get rid of NAs (we could impute them, but lets be lazy for now)\n",
        "data %<>% drop_na()\n",
        "\n",
        "# define rownames (for the visualization)\n",
        "rownames(data) <- data %>% pull(****)"
      ],
      "execution_count": null,
      "outputs": []
    },
    {
      "cell_type": "markdown",
      "metadata": {
        "_uuid": "0838067f7ce6cc6d99b087141825dfc09e29ef7c",
        "id": "7Eah3M-bMH7m"
      },
      "source": [
        "Now its really your turn, let's do a PCA. "
      ]
    },
    {
      "cell_type": "code",
      "metadata": {
        "trusted": true,
        "_uuid": "182890ff90f0f82a565f1e59359b6aeb47a08b98",
        "id": "cZltGODkMH7n"
      },
      "source": [
        "res.pca <- PCA(***)"
      ],
      "execution_count": null,
      "outputs": []
    },
    {
      "cell_type": "markdown",
      "metadata": {
        "id": "cfBeXUUUajn1"
      },
      "source": [
        "So far so good, how many components with Eigenvector > 1 do we get?"
      ]
    },
    {
      "cell_type": "code",
      "metadata": {
        "id": "0uKNAXd8bKTs"
      },
      "source": [
        "***** %>% as_tibble()"
      ],
      "execution_count": null,
      "outputs": []
    },
    {
      "cell_type": "markdown",
      "metadata": {
        "_uuid": "09ded70a22a05ed8bd4933bf8b0c279da1147fcd",
        "id": "vBSzrJujMH7r"
      },
      "source": [
        "And now, let's visualize it..."
      ]
    },
    {
      "cell_type": "code",
      "metadata": {
        "trusted": true,
        "_uuid": "3df2d0de586c608fc03ef9ff614cb25a5de889ab",
        "id": "Fk1R-yJkMH7s"
      },
      "source": [
        "fviz_pca_var(***) "
      ],
      "execution_count": null,
      "outputs": []
    },
    {
      "cell_type": "markdown",
      "metadata": {
        "id": "sziGqs4nafTv"
      },
      "source": [
        "Do we see something interesting? Lets see which variable load on which dimension to get a feeling. "
      ]
    },
    {
      "cell_type": "code",
      "metadata": {
        "id": "dqSEabExdUDH"
      },
      "source": [
        "***** %>% as_tibble()"
      ],
      "execution_count": null,
      "outputs": []
    },
    {
      "cell_type": "markdown",
      "metadata": {
        "id": "Hv9nDPBgda-u"
      },
      "source": [
        "Allright, now let us plot the components plus observations in one plot."
      ]
    },
    {
      "cell_type": "code",
      "metadata": {
        "id": "2dn0SP8TcV6P"
      },
      "source": [
        "fviz_pca_biplot(***)"
      ],
      "execution_count": null,
      "outputs": []
    },
    {
      "cell_type": "markdown",
      "metadata": {
        "id": "s6yPddSUdr9N"
      },
      "source": [
        "Ok, we now add another observation, a superfast \"spacecar\""
      ]
    },
    {
      "cell_type": "code",
      "metadata": {
        "id": "DQR-geCEdxjU"
      },
      "source": [
        "spacecar <- (c(1000,60,50,500,0,0.5,2.5,0,1,0,0) )\n",
        "names(spacecar) <- \"spacecar\"\n",
        "\n",
        "dataplus <- data %>%\n",
        "rbind(spacecar)"
      ],
      "execution_count": null,
      "outputs": []
    },
    {
      "cell_type": "markdown",
      "metadata": {
        "id": "2ga66SKmeBFc"
      },
      "source": [
        "Lets repeat the PCA and see where the spacecar gets placed...."
      ]
    },
    {
      "cell_type": "code",
      "metadata": {
        "id": "n6wDcsR9eI9L"
      },
      "source": [
        "res.pca.plus <- PCA(***)"
      ],
      "execution_count": null,
      "outputs": []
    },
    {
      "cell_type": "code",
      "metadata": {
        "id": "93rHdAjNeOq9"
      },
      "source": [
        "fviz_pca_biplot(***)"
      ],
      "execution_count": null,
      "outputs": []
    }
  ]
}