{
  "nbformat": 4,
  "nbformat_minor": 0,
  "metadata": {
    "colab": {
      "name": "M2: Pokemon py minimal",
      "provenance": [],
      "include_colab_link": true
    },
    "kernelspec": {
      "name": "python3",
      "display_name": "Python 3"
    },
    "accelerator": "GPU"
  },
  "cells": [
    {
      "cell_type": "markdown",
      "metadata": {
        "id": "view-in-github",
        "colab_type": "text"
      },
      "source": [
        "<a href=\"https://colab.research.google.com/github/SDS-AAU/SDS-master/blob/master/M1/Notebooks/assignments/assignment2_solution_py_UML_SML.ipynb\" target=\"_parent\"><img src=\"https://colab.research.google.com/assets/colab-badge.svg\" alt=\"Open In Colab\"/></a>"
      ]
    },
    {
      "cell_type": "code",
      "metadata": {
        "id": "p1_1o8E0jvWE",
        "colab": {
          "base_uri": "https://localhost:8080/",
          "height": 121
        },
        "outputId": "28eab680-d4c5-47dd-c520-8b804154d11f"
      },
      "source": [
        "!pip3 install hdbscan"
      ],
      "execution_count": null,
      "outputs": [
        {
          "output_type": "stream",
          "text": [
            "Requirement already satisfied: hdbscan in /usr/local/lib/python3.6/dist-packages (0.8.22)\n",
            "Requirement already satisfied: numpy>=1.16.0 in /usr/local/lib/python3.6/dist-packages (from hdbscan) (1.16.5)\n",
            "Requirement already satisfied: scipy>=0.9 in /usr/local/lib/python3.6/dist-packages (from hdbscan) (1.3.1)\n",
            "Requirement already satisfied: scikit-learn>=0.17 in /usr/local/lib/python3.6/dist-packages (from hdbscan) (0.21.3)\n",
            "Requirement already satisfied: cython>=0.27 in /usr/local/lib/python3.6/dist-packages (from hdbscan) (0.29.13)\n",
            "Requirement already satisfied: joblib in /usr/local/lib/python3.6/dist-packages (from hdbscan) (0.13.2)\n"
          ],
          "name": "stdout"
        }
      ]
    },
    {
      "cell_type": "code",
      "metadata": {
        "id": "WZbmZBd8Jgii"
      },
      "source": [
        "import pandas as pd\n",
        "import seaborn as sns\n",
        "import matplotlib.pyplot as plt\n"
      ],
      "execution_count": null,
      "outputs": []
    },
    {
      "cell_type": "markdown",
      "metadata": {
        "id": "nYW_UcqQK3ED"
      },
      "source": [
        "# Unsupervised ML"
      ]
    },
    {
      "cell_type": "code",
      "metadata": {
        "id": "Q1ZicOdMKzQS"
      },
      "source": [
        "data = pd.read_csv('https://github.com/SDS-AAU/M1-2019/raw/master/data/pokemon.csv')"
      ],
      "execution_count": null,
      "outputs": []
    },
    {
      "cell_type": "code",
      "metadata": {
        "id": "2JcZgMT4LLB8",
        "colab": {
          "base_uri": "https://localhost:8080/",
          "height": 294
        },
        "outputId": "e33230e2-8232-44e4-bc42-3bec1adb596a"
      },
      "source": [
        "data.info()"
      ],
      "execution_count": null,
      "outputs": [
        {
          "output_type": "stream",
          "text": [
            "<class 'pandas.core.frame.DataFrame'>\n",
            "RangeIndex: 800 entries, 0 to 799\n",
            "Data columns (total 11 columns):\n",
            "Number            800 non-null int64\n",
            "Name              800 non-null object\n",
            "Type1             800 non-null object\n",
            "HitPoints         800 non-null int64\n",
            "Attack            800 non-null int64\n",
            "Defense           800 non-null int64\n",
            "SpecialAttack     800 non-null int64\n",
            "SpecialDefense    800 non-null int64\n",
            "Speed             800 non-null int64\n",
            "Generation        800 non-null int64\n",
            "Legendary         800 non-null bool\n",
            "dtypes: bool(1), int64(8), object(2)\n",
            "memory usage: 63.4+ KB\n"
          ],
          "name": "stdout"
        }
      ]
    },
    {
      "cell_type": "code",
      "metadata": {
        "id": "EVNh1c-QLNSE",
        "colab": {
          "base_uri": "https://localhost:8080/",
          "height": 215
        },
        "outputId": "72118622-7837-4cbb-a7cd-ef5be60522b4"
      },
      "source": [
        "data.head()"
      ],
      "execution_count": null,
      "outputs": [
        {
          "output_type": "execute_result",
          "data": {
            "text/html": [
              "<div>\n",
              "<style scoped>\n",
              "    .dataframe tbody tr th:only-of-type {\n",
              "        vertical-align: middle;\n",
              "    }\n",
              "\n",
              "    .dataframe tbody tr th {\n",
              "        vertical-align: top;\n",
              "    }\n",
              "\n",
              "    .dataframe thead th {\n",
              "        text-align: right;\n",
              "    }\n",
              "</style>\n",
              "<table border=\"1\" class=\"dataframe\">\n",
              "  <thead>\n",
              "    <tr style=\"text-align: right;\">\n",
              "      <th></th>\n",
              "      <th>Number</th>\n",
              "      <th>Name</th>\n",
              "      <th>Type1</th>\n",
              "      <th>HitPoints</th>\n",
              "      <th>Attack</th>\n",
              "      <th>Defense</th>\n",
              "      <th>SpecialAttack</th>\n",
              "      <th>SpecialDefense</th>\n",
              "      <th>Speed</th>\n",
              "      <th>Generation</th>\n",
              "      <th>Legendary</th>\n",
              "    </tr>\n",
              "  </thead>\n",
              "  <tbody>\n",
              "    <tr>\n",
              "      <th>0</th>\n",
              "      <td>1</td>\n",
              "      <td>Bulbasaur</td>\n",
              "      <td>Grass</td>\n",
              "      <td>45</td>\n",
              "      <td>49</td>\n",
              "      <td>49</td>\n",
              "      <td>65</td>\n",
              "      <td>65</td>\n",
              "      <td>45</td>\n",
              "      <td>1</td>\n",
              "      <td>False</td>\n",
              "    </tr>\n",
              "    <tr>\n",
              "      <th>1</th>\n",
              "      <td>2</td>\n",
              "      <td>Ivysaur</td>\n",
              "      <td>Grass</td>\n",
              "      <td>60</td>\n",
              "      <td>62</td>\n",
              "      <td>63</td>\n",
              "      <td>80</td>\n",
              "      <td>80</td>\n",
              "      <td>60</td>\n",
              "      <td>1</td>\n",
              "      <td>False</td>\n",
              "    </tr>\n",
              "    <tr>\n",
              "      <th>2</th>\n",
              "      <td>3</td>\n",
              "      <td>Venusaur</td>\n",
              "      <td>Grass</td>\n",
              "      <td>80</td>\n",
              "      <td>82</td>\n",
              "      <td>83</td>\n",
              "      <td>100</td>\n",
              "      <td>100</td>\n",
              "      <td>80</td>\n",
              "      <td>1</td>\n",
              "      <td>False</td>\n",
              "    </tr>\n",
              "    <tr>\n",
              "      <th>3</th>\n",
              "      <td>3</td>\n",
              "      <td>VenusaurMega Venusaur</td>\n",
              "      <td>Grass</td>\n",
              "      <td>80</td>\n",
              "      <td>100</td>\n",
              "      <td>123</td>\n",
              "      <td>122</td>\n",
              "      <td>120</td>\n",
              "      <td>80</td>\n",
              "      <td>1</td>\n",
              "      <td>False</td>\n",
              "    </tr>\n",
              "    <tr>\n",
              "      <th>4</th>\n",
              "      <td>4</td>\n",
              "      <td>Charmander</td>\n",
              "      <td>Fire</td>\n",
              "      <td>39</td>\n",
              "      <td>52</td>\n",
              "      <td>43</td>\n",
              "      <td>60</td>\n",
              "      <td>50</td>\n",
              "      <td>65</td>\n",
              "      <td>1</td>\n",
              "      <td>False</td>\n",
              "    </tr>\n",
              "  </tbody>\n",
              "</table>\n",
              "</div>"
            ],
            "text/plain": [
              "   Number                   Name  Type1  ...  Speed  Generation  Legendary\n",
              "0       1              Bulbasaur  Grass  ...     45           1      False\n",
              "1       2                Ivysaur  Grass  ...     60           1      False\n",
              "2       3               Venusaur  Grass  ...     80           1      False\n",
              "3       3  VenusaurMega Venusaur  Grass  ...     80           1      False\n",
              "4       4             Charmander   Fire  ...     65           1      False\n",
              "\n",
              "[5 rows x 11 columns]"
            ]
          },
          "metadata": {
            "tags": []
          },
          "execution_count": 133
        }
      ]
    },
    {
      "cell_type": "code",
      "metadata": {
        "id": "q_3eM0uTLB3Y"
      },
      "source": [
        "from sklearn.decomposition import PCA\n",
        "from sklearn.preprocessing import StandardScaler"
      ],
      "execution_count": null,
      "outputs": []
    },
    {
      "cell_type": "code",
      "metadata": {
        "id": "gQVlMnupLRg_"
      },
      "source": [
        "data_num = data.loc[:,'HitPoints': 'Generation']\n",
        "\n",
        "data_scaled = StandardScaler().fit_transform(data_num)\n",
        "\n",
        "pca = PCA(n_components=4)\n",
        "data_reduced = pca.fit_transform(data_scaled)"
      ],
      "execution_count": null,
      "outputs": []
    },
    {
      "cell_type": "code",
      "metadata": {
        "id": "x8FUyAeGMP6-",
        "colab": {
          "base_uri": "https://localhost:8080/",
          "height": 35
        },
        "outputId": "f68e8ac1-423f-42ea-c61e-d1f16cb57777"
      },
      "source": [
        "pca.components_.shape"
      ],
      "execution_count": null,
      "outputs": [
        {
          "output_type": "execute_result",
          "data": {
            "text/plain": [
              "(4, 7)"
            ]
          },
          "metadata": {
            "tags": []
          },
          "execution_count": 135
        }
      ]
    },
    {
      "cell_type": "code",
      "metadata": {
        "id": "hkCr7EcEMinq",
        "colab": {
          "base_uri": "https://localhost:8080/",
          "height": 35
        },
        "outputId": "6fe7724c-f521-4d33-b0cb-3695ee6c0c8b"
      },
      "source": [
        "sum(pca.explained_variance_ratio_)"
      ],
      "execution_count": null,
      "outputs": [
        {
          "output_type": "execute_result",
          "data": {
            "text/plain": [
              "0.7980734261924601"
            ]
          },
          "metadata": {
            "tags": []
          },
          "execution_count": 136
        }
      ]
    },
    {
      "cell_type": "code",
      "metadata": {
        "id": "tZl_oVurhIVO",
        "colab": {
          "base_uri": "https://localhost:8080/",
          "height": 283
        },
        "outputId": "d0604707-1f3a-49ab-a1fe-1796cc93b92c"
      },
      "source": [
        "# Import K-means\n",
        "from sklearn.cluster import KMeans\n",
        "\n",
        "# Run loop to get inertia for different cluster sizes\n",
        "inertia = []\n",
        "for i in range(1,11):\n",
        "  k_means = KMeans(n_clusters=i)\n",
        "  inertia.append(k_means.fit(data_scaled).inertia_)\n",
        "\n",
        "# Displaying the inertia by cluster\n",
        "plt.plot(range(1,11), inertia, '-o')\n",
        "plt.xlabel('number of clusters, k')\n",
        "plt.ylabel('inertia')\n",
        "plt.xticks(range(1,11))\n",
        "plt.show()"
      ],
      "execution_count": null,
      "outputs": [
        {
          "output_type": "display_data",
          "data": {
            "image/png": "[encoded data removed]",
            "text/plain": [
              "<Figure size 432x288 with 1 Axes>"
            ]
          },
          "metadata": {
            "tags": []
          }
        }
      ]
    },
    {
      "cell_type": "code",
      "metadata": {
        "id": "XBeRObRBPSok"
      },
      "source": [
        "model = KMeans(n_clusters=3)"
      ],
      "execution_count": null,
      "outputs": []
    },
    {
      "cell_type": "code",
      "metadata": {
        "id": "FRFBI17DPsFH",
        "colab": {
          "base_uri": "https://localhost:8080/",
          "height": 69
        },
        "outputId": "db783310-6cbe-4ca1-c13d-7f065778c4a2"
      },
      "source": [
        "model.fit(data_scaled)"
      ],
      "execution_count": null,
      "outputs": [
        {
          "output_type": "execute_result",
          "data": {
            "text/plain": [
              "KMeans(algorithm='auto', copy_x=True, init='k-means++', max_iter=300,\n",
              "       n_clusters=3, n_init=10, n_jobs=None, precompute_distances='auto',\n",
              "       random_state=None, tol=0.0001, verbose=0)"
            ]
          },
          "metadata": {
            "tags": []
          },
          "execution_count": 139
        }
      ]
    },
    {
      "cell_type": "code",
      "metadata": {
        "id": "ngCxRcjZP5KE"
      },
      "source": [
        "data['cluster'] = model.labels_"
      ],
      "execution_count": null,
      "outputs": []
    },
    {
      "cell_type": "code",
      "metadata": {
        "id": "MlS0SAuaMGJG",
        "colab": {
          "base_uri": "https://localhost:8080/",
          "height": 286
        },
        "outputId": "14bc34d9-80f2-4fdc-a711-3ed930639c3f"
      },
      "source": [
        "sns.scatterplot(data_reduced[:,0],data_reduced[:,1], hue=model.labels_)"
      ],
      "execution_count": null,
      "outputs": [
        {
          "output_type": "execute_result",
          "data": {
            "text/plain": [
              "<matplotlib.axes._subplots.AxesSubplot at 0x7fb66e0bb400>"
            ]
          },
          "metadata": {
            "tags": []
          },
          "execution_count": 141
        },
        {
          "output_type": "display_data",
          "data": {
            "image/png": "[encoded data removed]",
            "text/plain": [
              "<Figure size 432x288 with 1 Axes>"
            ]
          },
          "metadata": {
            "tags": []
          }
        }
      ]
    },
    {
      "cell_type": "code",
      "metadata": {
        "id": "Vsm4S3eeQ-jr",
        "colab": {
          "base_uri": "https://localhost:8080/",
          "height": 345
        },
        "outputId": "db3cdc73-ece8-458a-8ff6-cbc4554d9035"
      },
      "source": [
        "sns.scatterplot(data_reduced[:,0],data_reduced[:,1], hue=data['Type1'])"
      ],
      "execution_count": null,
      "outputs": [
        {
          "output_type": "execute_result",
          "data": {
            "text/plain": [
              "<matplotlib.axes._subplots.AxesSubplot at 0x7fb66e811d30>"
            ]
          },
          "metadata": {
            "tags": []
          },
          "execution_count": 142
        },
        {
          "output_type": "display_data",
          "data": {
            "image/png": "[encoded data removed]",
            "text/plain": [
              "<Figure size 432x288 with 1 Axes>"
            ]
          },
          "metadata": {
            "tags": []
          }
        }
      ]
    },
    {
      "cell_type": "code",
      "metadata": {
        "id": "9xySAtZ6iaRr",
        "colab": {
          "base_uri": "https://localhost:8080/",
          "height": 286
        },
        "outputId": "15273791-c8e8-44d3-fa51-72ebb2d805cd"
      },
      "source": [
        "# A different and more advanced way of visualizing\n",
        "import umap\n",
        "# Note that the standard setting of UMAP will produce 2 dimensions\n",
        "\n",
        "embedding = umap.UMAP().fit_transform(data_reduced)\n",
        "                                      \n",
        "                                      \n",
        "sns.scatterplot(embedding[:,0],embedding[:,1], hue=model.labels_, palette = 'Paired')"
      ],
      "execution_count": null,
      "outputs": [
        {
          "output_type": "execute_result",
          "data": {
            "text/plain": [
              "<matplotlib.axes._subplots.AxesSubplot at 0x7fb66a373278>"
            ]
          },
          "metadata": {
            "tags": []
          },
          "execution_count": 143
        },
        {
          "output_type": "display_data",
          "data": {
            "image/png": "[encoded data removed]",
            "text/plain": [
              "<Figure size 432x288 with 1 Axes>"
            ]
          },
          "metadata": {
            "tags": []
          }
        }
      ]
    },
    {
      "cell_type": "code",
      "metadata": {
        "id": "y8G8JivYk1c-",
        "colab": {
          "base_uri": "https://localhost:8080/",
          "height": 121
        },
        "outputId": "b43c8a28-0f94-4b64-c85a-ccbb5940f1c6"
      },
      "source": [
        "import hdbscan\n",
        "\n",
        "hdbscan_model = hdbscan.HDBSCAN(min_cluster_size=10, \n",
        "                            min_samples=5, \n",
        "                            leaf_size=6, \n",
        "                            #core_dist_n_jobs=16, \n",
        "                            prediction_data=True)\n",
        "hdbscan_model.fit(embedding)"
      ],
      "execution_count": null,
      "outputs": [
        {
          "output_type": "execute_result",
          "data": {
            "text/plain": [
              "HDBSCAN(algorithm='best', allow_single_cluster=False, alpha=1.0,\n",
              "        approx_min_span_tree=True, cluster_selection_method='eom',\n",
              "        core_dist_n_jobs=4, gen_min_span_tree=False, leaf_size=6,\n",
              "        match_reference_implementation=False, memory=Memory(location=None),\n",
              "        metric='euclidean', min_cluster_size=10, min_samples=5, p=None,\n",
              "        prediction_data=True)"
            ]
          },
          "metadata": {
            "tags": []
          },
          "execution_count": 183
        }
      ]
    },
    {
      "cell_type": "code",
      "metadata": {
        "id": "jL5WPfaXl4R0"
      },
      "source": [
        "data['cluster_hdbscan'] = hdbscan_model.labels_"
      ],
      "execution_count": null,
      "outputs": []
    },
    {
      "cell_type": "code",
      "metadata": {
        "id": "76HiVfNwlNOv",
        "colab": {
          "base_uri": "https://localhost:8080/",
          "height": 286
        },
        "outputId": "155fbfce-c44f-4a78-ff42-d31de4d1e0a9"
      },
      "source": [
        "sns.scatterplot(embedding[:,0],embedding[:,1], hue=hdbscan_model.labels_, palette = 'Paired')"
      ],
      "execution_count": null,
      "outputs": [
        {
          "output_type": "execute_result",
          "data": {
            "text/plain": [
              "<matplotlib.axes._subplots.AxesSubplot at 0x7fb66e32b8d0>"
            ]
          },
          "metadata": {
            "tags": []
          },
          "execution_count": 185
        },
        {
          "output_type": "display_data",
          "data": {
            "image/png": "[encoded data removed]",
            "text/plain": [
              "<Figure size 432x288 with 1 Axes>"
            ]
          },
          "metadata": {
            "tags": []
          }
        }
      ]
    },
    {
      "cell_type": "code",
      "metadata": {
        "id": "azhDMtSyQC-i",
        "colab": {
          "base_uri": "https://localhost:8080/",
          "height": 618
        },
        "outputId": "d44c71c2-3687-4837-cbc6-fc9a89fd84e7"
      },
      "source": [
        "pd.crosstab(data['Type1'], data['cluster'], normalize='columns')"
      ],
      "execution_count": null,
      "outputs": [
        {
          "output_type": "execute_result",
          "data": {
            "text/html": [
              "<div>\n",
              "<style scoped>\n",
              "    .dataframe tbody tr th:only-of-type {\n",
              "        vertical-align: middle;\n",
              "    }\n",
              "\n",
              "    .dataframe tbody tr th {\n",
              "        vertical-align: top;\n",
              "    }\n",
              "\n",
              "    .dataframe thead th {\n",
              "        text-align: right;\n",
              "    }\n",
              "</style>\n",
              "<table border=\"1\" class=\"dataframe\">\n",
              "  <thead>\n",
              "    <tr style=\"text-align: right;\">\n",
              "      <th>cluster</th>\n",
              "      <th>0</th>\n",
              "      <th>1</th>\n",
              "      <th>2</th>\n",
              "    </tr>\n",
              "    <tr>\n",
              "      <th>Type1</th>\n",
              "      <th></th>\n",
              "      <th></th>\n",
              "      <th></th>\n",
              "    </tr>\n",
              "  </thead>\n",
              "  <tbody>\n",
              "    <tr>\n",
              "      <th>Bug</th>\n",
              "      <td>0.122807</td>\n",
              "      <td>0.063348</td>\n",
              "      <td>0.054852</td>\n",
              "    </tr>\n",
              "    <tr>\n",
              "      <th>Dark</th>\n",
              "      <td>0.035088</td>\n",
              "      <td>0.031674</td>\n",
              "      <td>0.050633</td>\n",
              "    </tr>\n",
              "    <tr>\n",
              "      <th>Dragon</th>\n",
              "      <td>0.023392</td>\n",
              "      <td>0.022624</td>\n",
              "      <td>0.080169</td>\n",
              "    </tr>\n",
              "    <tr>\n",
              "      <th>Electric</th>\n",
              "      <td>0.046784</td>\n",
              "      <td>0.022624</td>\n",
              "      <td>0.097046</td>\n",
              "    </tr>\n",
              "    <tr>\n",
              "      <th>Fairy</th>\n",
              "      <td>0.023392</td>\n",
              "      <td>0.027149</td>\n",
              "      <td>0.012658</td>\n",
              "    </tr>\n",
              "    <tr>\n",
              "      <th>Fighting</th>\n",
              "      <td>0.029240</td>\n",
              "      <td>0.045249</td>\n",
              "      <td>0.029536</td>\n",
              "    </tr>\n",
              "    <tr>\n",
              "      <th>Fire</th>\n",
              "      <td>0.061404</td>\n",
              "      <td>0.027149</td>\n",
              "      <td>0.105485</td>\n",
              "    </tr>\n",
              "    <tr>\n",
              "      <th>Flying</th>\n",
              "      <td>0.002924</td>\n",
              "      <td>0.000000</td>\n",
              "      <td>0.012658</td>\n",
              "    </tr>\n",
              "    <tr>\n",
              "      <th>Ghost</th>\n",
              "      <td>0.038012</td>\n",
              "      <td>0.045249</td>\n",
              "      <td>0.037975</td>\n",
              "    </tr>\n",
              "    <tr>\n",
              "      <th>Grass</th>\n",
              "      <td>0.093567</td>\n",
              "      <td>0.085973</td>\n",
              "      <td>0.080169</td>\n",
              "    </tr>\n",
              "    <tr>\n",
              "      <th>Ground</th>\n",
              "      <td>0.040936</td>\n",
              "      <td>0.049774</td>\n",
              "      <td>0.029536</td>\n",
              "    </tr>\n",
              "    <tr>\n",
              "      <th>Ice</th>\n",
              "      <td>0.026316</td>\n",
              "      <td>0.040724</td>\n",
              "      <td>0.025316</td>\n",
              "    </tr>\n",
              "    <tr>\n",
              "      <th>Normal</th>\n",
              "      <td>0.146199</td>\n",
              "      <td>0.099548</td>\n",
              "      <td>0.109705</td>\n",
              "    </tr>\n",
              "    <tr>\n",
              "      <th>Poison</th>\n",
              "      <td>0.040936</td>\n",
              "      <td>0.036199</td>\n",
              "      <td>0.025316</td>\n",
              "    </tr>\n",
              "    <tr>\n",
              "      <th>Psychic</th>\n",
              "      <td>0.058480</td>\n",
              "      <td>0.040724</td>\n",
              "      <td>0.118143</td>\n",
              "    </tr>\n",
              "    <tr>\n",
              "      <th>Rock</th>\n",
              "      <td>0.043860</td>\n",
              "      <td>0.108597</td>\n",
              "      <td>0.021097</td>\n",
              "    </tr>\n",
              "    <tr>\n",
              "      <th>Steel</th>\n",
              "      <td>0.017544</td>\n",
              "      <td>0.072398</td>\n",
              "      <td>0.021097</td>\n",
              "    </tr>\n",
              "    <tr>\n",
              "      <th>Water</th>\n",
              "      <td>0.149123</td>\n",
              "      <td>0.180995</td>\n",
              "      <td>0.088608</td>\n",
              "    </tr>\n",
              "  </tbody>\n",
              "</table>\n",
              "</div>"
            ],
            "text/plain": [
              "cluster          0         1         2\n",
              "Type1                                 \n",
              "Bug       0.122807  0.063348  0.054852\n",
              "Dark      0.035088  0.031674  0.050633\n",
              "Dragon    0.023392  0.022624  0.080169\n",
              "Electric  0.046784  0.022624  0.097046\n",
              "Fairy     0.023392  0.027149  0.012658\n",
              "Fighting  0.029240  0.045249  0.029536\n",
              "Fire      0.061404  0.027149  0.105485\n",
              "Flying    0.002924  0.000000  0.012658\n",
              "Ghost     0.038012  0.045249  0.037975\n",
              "Grass     0.093567  0.085973  0.080169\n",
              "Ground    0.040936  0.049774  0.029536\n",
              "Ice       0.026316  0.040724  0.025316\n",
              "Normal    0.146199  0.099548  0.109705\n",
              "Poison    0.040936  0.036199  0.025316\n",
              "Psychic   0.058480  0.040724  0.118143\n",
              "Rock      0.043860  0.108597  0.021097\n",
              "Steel     0.017544  0.072398  0.021097\n",
              "Water     0.149123  0.180995  0.088608"
            ]
          },
          "metadata": {
            "tags": []
          },
          "execution_count": 186
        }
      ]
    },
    {
      "cell_type": "code",
      "metadata": {
        "id": "iFGln4O6l9IO",
        "colab": {
          "base_uri": "https://localhost:8080/",
          "height": 618
        },
        "outputId": "a9080c24-886b-4ce6-ef04-a12693b17726"
      },
      "source": [
        "pd.crosstab(data['Type1'], data['cluster_hdbscan'], normalize='columns')"
      ],
      "execution_count": null,
      "outputs": [
        {
          "output_type": "execute_result",
          "data": {
            "text/html": [
              "<div>\n",
              "<style scoped>\n",
              "    .dataframe tbody tr th:only-of-type {\n",
              "        vertical-align: middle;\n",
              "    }\n",
              "\n",
              "    .dataframe tbody tr th {\n",
              "        vertical-align: top;\n",
              "    }\n",
              "\n",
              "    .dataframe thead th {\n",
              "        text-align: right;\n",
              "    }\n",
              "</style>\n",
              "<table border=\"1\" class=\"dataframe\">\n",
              "  <thead>\n",
              "    <tr style=\"text-align: right;\">\n",
              "      <th>cluster_hdbscan</th>\n",
              "      <th>0</th>\n",
              "      <th>1</th>\n",
              "      <th>2</th>\n",
              "    </tr>\n",
              "    <tr>\n",
              "      <th>Type1</th>\n",
              "      <th></th>\n",
              "      <th></th>\n",
              "      <th></th>\n",
              "    </tr>\n",
              "  </thead>\n",
              "  <tbody>\n",
              "    <tr>\n",
              "      <th>Bug</th>\n",
              "      <td>0.075397</td>\n",
              "      <td>0.033333</td>\n",
              "      <td>0.122881</td>\n",
              "    </tr>\n",
              "    <tr>\n",
              "      <th>Dark</th>\n",
              "      <td>0.041667</td>\n",
              "      <td>0.016667</td>\n",
              "      <td>0.038136</td>\n",
              "    </tr>\n",
              "    <tr>\n",
              "      <th>Dragon</th>\n",
              "      <td>0.049603</td>\n",
              "      <td>0.016667</td>\n",
              "      <td>0.025424</td>\n",
              "    </tr>\n",
              "    <tr>\n",
              "      <th>Electric</th>\n",
              "      <td>0.061508</td>\n",
              "      <td>0.066667</td>\n",
              "      <td>0.038136</td>\n",
              "    </tr>\n",
              "    <tr>\n",
              "      <th>Fairy</th>\n",
              "      <td>0.017857</td>\n",
              "      <td>0.016667</td>\n",
              "      <td>0.029661</td>\n",
              "    </tr>\n",
              "    <tr>\n",
              "      <th>Fighting</th>\n",
              "      <td>0.035714</td>\n",
              "      <td>0.016667</td>\n",
              "      <td>0.033898</td>\n",
              "    </tr>\n",
              "    <tr>\n",
              "      <th>Fire</th>\n",
              "      <td>0.067460</td>\n",
              "      <td>0.083333</td>\n",
              "      <td>0.055085</td>\n",
              "    </tr>\n",
              "    <tr>\n",
              "      <th>Flying</th>\n",
              "      <td>0.005952</td>\n",
              "      <td>0.000000</td>\n",
              "      <td>0.004237</td>\n",
              "    </tr>\n",
              "    <tr>\n",
              "      <th>Ghost</th>\n",
              "      <td>0.039683</td>\n",
              "      <td>0.016667</td>\n",
              "      <td>0.046610</td>\n",
              "    </tr>\n",
              "    <tr>\n",
              "      <th>Grass</th>\n",
              "      <td>0.085317</td>\n",
              "      <td>0.100000</td>\n",
              "      <td>0.088983</td>\n",
              "    </tr>\n",
              "    <tr>\n",
              "      <th>Ground</th>\n",
              "      <td>0.037698</td>\n",
              "      <td>0.033333</td>\n",
              "      <td>0.046610</td>\n",
              "    </tr>\n",
              "    <tr>\n",
              "      <th>Ice</th>\n",
              "      <td>0.029762</td>\n",
              "      <td>0.033333</td>\n",
              "      <td>0.029661</td>\n",
              "    </tr>\n",
              "    <tr>\n",
              "      <th>Normal</th>\n",
              "      <td>0.109127</td>\n",
              "      <td>0.166667</td>\n",
              "      <td>0.139831</td>\n",
              "    </tr>\n",
              "    <tr>\n",
              "      <th>Poison</th>\n",
              "      <td>0.027778</td>\n",
              "      <td>0.116667</td>\n",
              "      <td>0.029661</td>\n",
              "    </tr>\n",
              "    <tr>\n",
              "      <th>Psychic</th>\n",
              "      <td>0.077381</td>\n",
              "      <td>0.066667</td>\n",
              "      <td>0.059322</td>\n",
              "    </tr>\n",
              "    <tr>\n",
              "      <th>Rock</th>\n",
              "      <td>0.057540</td>\n",
              "      <td>0.033333</td>\n",
              "      <td>0.055085</td>\n",
              "    </tr>\n",
              "    <tr>\n",
              "      <th>Steel</th>\n",
              "      <td>0.043651</td>\n",
              "      <td>0.000000</td>\n",
              "      <td>0.021186</td>\n",
              "    </tr>\n",
              "    <tr>\n",
              "      <th>Water</th>\n",
              "      <td>0.136905</td>\n",
              "      <td>0.183333</td>\n",
              "      <td>0.135593</td>\n",
              "    </tr>\n",
              "  </tbody>\n",
              "</table>\n",
              "</div>"
            ],
            "text/plain": [
              "cluster_hdbscan         0         1         2\n",
              "Type1                                        \n",
              "Bug              0.075397  0.033333  0.122881\n",
              "Dark             0.041667  0.016667  0.038136\n",
              "Dragon           0.049603  0.016667  0.025424\n",
              "Electric         0.061508  0.066667  0.038136\n",
              "Fairy            0.017857  0.016667  0.029661\n",
              "Fighting         0.035714  0.016667  0.033898\n",
              "Fire             0.067460  0.083333  0.055085\n",
              "Flying           0.005952  0.000000  0.004237\n",
              "Ghost            0.039683  0.016667  0.046610\n",
              "Grass            0.085317  0.100000  0.088983\n",
              "Ground           0.037698  0.033333  0.046610\n",
              "Ice              0.029762  0.033333  0.029661\n",
              "Normal           0.109127  0.166667  0.139831\n",
              "Poison           0.027778  0.116667  0.029661\n",
              "Psychic          0.077381  0.066667  0.059322\n",
              "Rock             0.057540  0.033333  0.055085\n",
              "Steel            0.043651  0.000000  0.021186\n",
              "Water            0.136905  0.183333  0.135593"
            ]
          },
          "metadata": {
            "tags": []
          },
          "execution_count": 187
        }
      ]
    },
    {
      "cell_type": "markdown",
      "metadata": {
        "id": "4rsKPaBgRdPB"
      },
      "source": [
        "# Supervised ML"
      ]
    },
    {
      "cell_type": "code",
      "metadata": {
        "id": "jGJJP9_asfCv"
      },
      "source": [
        "data_ml = pd.get_dummies(data.loc[:,'Type1':'Generation'])"
      ],
      "execution_count": null,
      "outputs": []
    },
    {
      "cell_type": "code",
      "metadata": {
        "id": "CjxVX-2Us28Q"
      },
      "source": [
        "data_ml_scaled = StandardScaler().fit_transform(data_ml)"
      ],
      "execution_count": null,
      "outputs": []
    },
    {
      "cell_type": "code",
      "metadata": {
        "id": "DCBPbvEqQHhR"
      },
      "source": [
        "from sklearn.model_selection import train_test_split"
      ],
      "execution_count": null,
      "outputs": []
    },
    {
      "cell_type": "code",
      "metadata": {
        "id": "nvjX_Ed4RtWa"
      },
      "source": [
        "X_train, X_test, y_train, y_test = train_test_split(data_ml_scaled, data['Legendary'].astype(int), test_size = 0.25, random_state = 42)"
      ],
      "execution_count": null,
      "outputs": []
    },
    {
      "cell_type": "code",
      "metadata": {
        "id": "8anyyX5nR5C9"
      },
      "source": [
        "from sklearn.model_selection import cross_val_score"
      ],
      "execution_count": null,
      "outputs": []
    },
    {
      "cell_type": "code",
      "metadata": {
        "id": "AqxPRAsmSPcc"
      },
      "source": [
        "from sklearn.linear_model import LogisticRegression\n",
        "from sklearn.tree import DecisionTreeClassifier\n",
        "from sklearn.ensemble import RandomForestClassifier"
      ],
      "execution_count": null,
      "outputs": []
    },
    {
      "cell_type": "code",
      "metadata": {
        "id": "8kI1XrUKnm0B",
        "colab": {
          "base_uri": "https://localhost:8080/",
          "height": 279
        },
        "outputId": "bb30fce1-ec1f-4c44-9fe9-bc22d6de8e9f"
      },
      "source": [
        "# Import Classification Report for evaluatoion of performance\n",
        "from sklearn.metrics import classification_report\n",
        "\n",
        "# Install an updated version of the MLxtend library \n",
        "!pip install -U mlxtend\n",
        "\n",
        "# modules confusion matrixs\n",
        "from mlxtend.plotting import plot_confusion_matrix\n",
        "from sklearn.metrics import confusion_matrix"
      ],
      "execution_count": null,
      "outputs": [
        {
          "output_type": "stream",
          "text": [
            "Requirement already up-to-date: mlxtend in /usr/local/lib/python3.6/dist-packages (0.17.0)\n",
            "Requirement already satisfied, skipping upgrade: pandas>=0.24.2 in /usr/local/lib/python3.6/dist-packages (from mlxtend) (0.24.2)\n",
            "Requirement already satisfied, skipping upgrade: numpy>=1.16.2 in /usr/local/lib/python3.6/dist-packages (from mlxtend) (1.16.5)\n",
            "Requirement already satisfied, skipping upgrade: joblib>=0.13.2 in /usr/local/lib/python3.6/dist-packages (from mlxtend) (0.13.2)\n",
            "Requirement already satisfied, skipping upgrade: scikit-learn>=0.20.3 in /usr/local/lib/python3.6/dist-packages (from mlxtend) (0.21.3)\n",
            "Requirement already satisfied, skipping upgrade: scipy>=1.2.1 in /usr/local/lib/python3.6/dist-packages (from mlxtend) (1.3.1)\n",
            "Requirement already satisfied, skipping upgrade: setuptools in /usr/local/lib/python3.6/dist-packages (from mlxtend) (41.2.0)\n",
            "Requirement already satisfied, skipping upgrade: matplotlib>=3.0.0 in /usr/local/lib/python3.6/dist-packages (from mlxtend) (3.0.3)\n",
            "Requirement already satisfied, skipping upgrade: python-dateutil>=2.5.0 in /usr/local/lib/python3.6/dist-packages (from pandas>=0.24.2->mlxtend) (2.5.3)\n",
            "Requirement already satisfied, skipping upgrade: pytz>=2011k in /usr/local/lib/python3.6/dist-packages (from pandas>=0.24.2->mlxtend) (2018.9)\n",
            "Requirement already satisfied, skipping upgrade: kiwisolver>=1.0.1 in /usr/local/lib/python3.6/dist-packages (from matplotlib>=3.0.0->mlxtend) (1.1.0)\n",
            "Requirement already satisfied, skipping upgrade: cycler>=0.10 in /usr/local/lib/python3.6/dist-packages (from matplotlib>=3.0.0->mlxtend) (0.10.0)\n",
            "Requirement already satisfied, skipping upgrade: pyparsing!=2.0.4,!=2.1.2,!=2.1.6,>=2.0.1 in /usr/local/lib/python3.6/dist-packages (from matplotlib>=3.0.0->mlxtend) (2.4.2)\n",
            "Requirement already satisfied, skipping upgrade: six>=1.5 in /usr/local/lib/python3.6/dist-packages (from python-dateutil>=2.5.0->pandas>=0.24.2->mlxtend) (1.12.0)\n"
          ],
          "name": "stdout"
        }
      ]
    },
    {
      "cell_type": "markdown",
      "metadata": {
        "id": "rVset_Jb165s"
      },
      "source": [
        "### Models"
      ]
    },
    {
      "cell_type": "code",
      "metadata": {
        "id": "Oe4FS6kQS20c",
        "colab": {
          "base_uri": "https://localhost:8080/",
          "height": 279
        },
        "outputId": "16c5dc64-b457-42ff-9035-2a749ebb2501"
      },
      "source": [
        "classifier = LogisticRegression()\n",
        "\n",
        "scores = cross_val_score(classifier, X_train, y_train, cv=5)\n",
        "print(sum(scores)/len(scores))\n",
        "\n",
        "classifier.fit(X_train,y_train)\n",
        "print(classifier.score(X_test,y_test))"
      ],
      "execution_count": null,
      "outputs": [
        {
          "output_type": "stream",
          "text": [
            "0.9400105331388755\n",
            "0.96\n"
          ],
          "name": "stdout"
        },
        {
          "output_type": "stream",
          "text": [
            "/usr/local/lib/python3.6/dist-packages/sklearn/linear_model/logistic.py:432: FutureWarning: Default solver will be changed to 'lbfgs' in 0.22. Specify a solver to silence this warning.\n",
            "  FutureWarning)\n",
            "/usr/local/lib/python3.6/dist-packages/sklearn/linear_model/logistic.py:432: FutureWarning: Default solver will be changed to 'lbfgs' in 0.22. Specify a solver to silence this warning.\n",
            "  FutureWarning)\n",
            "/usr/local/lib/python3.6/dist-packages/sklearn/linear_model/logistic.py:432: FutureWarning: Default solver will be changed to 'lbfgs' in 0.22. Specify a solver to silence this warning.\n",
            "  FutureWarning)\n",
            "/usr/local/lib/python3.6/dist-packages/sklearn/linear_model/logistic.py:432: FutureWarning: Default solver will be changed to 'lbfgs' in 0.22. Specify a solver to silence this warning.\n",
            "  FutureWarning)\n",
            "/usr/local/lib/python3.6/dist-packages/sklearn/linear_model/logistic.py:432: FutureWarning: Default solver will be changed to 'lbfgs' in 0.22. Specify a solver to silence this warning.\n",
            "  FutureWarning)\n",
            "/usr/local/lib/python3.6/dist-packages/sklearn/linear_model/logistic.py:432: FutureWarning: Default solver will be changed to 'lbfgs' in 0.22. Specify a solver to silence this warning.\n",
            "  FutureWarning)\n"
          ],
          "name": "stderr"
        }
      ]
    },
    {
      "cell_type": "code",
      "metadata": {
        "id": "2MH5TeONn1m6",
        "colab": {
          "base_uri": "https://localhost:8080/",
          "height": 438
        },
        "outputId": "9404c017-e410-4b25-db3c-581428e3b74a"
      },
      "source": [
        "y_pred = classifier.predict(X_test)\n",
        "\n",
        "confmatrix = confusion_matrix(y_test,y_pred) \n",
        "\n",
        "# plotting the confusion matrix\n",
        "plot_confusion_matrix(conf_mat=confmatrix, colorbar=True, show_absolute=True, show_normed=True)\n",
        "\n",
        "# printing the clasification report displaying further metrics\n",
        "print(classification_report(y_test, y_pred))"
      ],
      "execution_count": null,
      "outputs": [
        {
          "output_type": "stream",
          "text": [
            "              precision    recall  f1-score   support\n",
            "\n",
            "           0       0.99      0.97      0.98       187\n",
            "           1       0.65      0.85      0.73        13\n",
            "\n",
            "    accuracy                           0.96       200\n",
            "   macro avg       0.82      0.91      0.86       200\n",
            "weighted avg       0.97      0.96      0.96       200\n",
            "\n"
          ],
          "name": "stdout"
        },
        {
          "output_type": "display_data",
          "data": {
            "image/png": "[encoded data removed]",
            "text/plain": [
              "<Figure size 432x288 with 2 Axes>"
            ]
          },
          "metadata": {
            "tags": []
          }
        }
      ]
    },
    {
      "cell_type": "code",
      "metadata": {
        "id": "3KEFDmympv2N",
        "colab": {
          "base_uri": "https://localhost:8080/",
          "height": 52
        },
        "outputId": "159d9296-f93a-4ed5-d3eb-7447d61cfeda"
      },
      "source": [
        "classifier = DecisionTreeClassifier()\n",
        "\n",
        "scores = cross_val_score(classifier, X_train, y_train, cv=5)\n",
        "print(sum(scores)/len(scores))\n",
        "\n",
        "classifier.fit(X_train,y_train)\n",
        "print(classifier.score(X_test,y_test))"
      ],
      "execution_count": null,
      "outputs": [
        {
          "output_type": "stream",
          "text": [
            "0.9183569460842189\n",
            "0.935\n"
          ],
          "name": "stdout"
        }
      ]
    },
    {
      "cell_type": "code",
      "metadata": {
        "id": "Olty9hiPp5-J",
        "colab": {
          "base_uri": "https://localhost:8080/",
          "height": 438
        },
        "outputId": "ca57f3ef-f1e4-462f-8887-e2c1e240107b"
      },
      "source": [
        "y_pred = classifier.predict(X_test)\n",
        "\n",
        "confmatrix = confusion_matrix(y_test,y_pred) \n",
        "\n",
        "# plotting the confusion matrix\n",
        "plot_confusion_matrix(conf_mat=confmatrix, colorbar=True, show_absolute=True, show_normed=True)\n",
        "\n",
        "# printing the clasification report displaying further metrics\n",
        "print(classification_report(y_test, y_pred))"
      ],
      "execution_count": null,
      "outputs": [
        {
          "output_type": "stream",
          "text": [
            "              precision    recall  f1-score   support\n",
            "\n",
            "           0       0.98      0.95      0.96       187\n",
            "           1       0.50      0.69      0.58        13\n",
            "\n",
            "    accuracy                           0.94       200\n",
            "   macro avg       0.74      0.82      0.77       200\n",
            "weighted avg       0.95      0.94      0.94       200\n",
            "\n"
          ],
          "name": "stdout"
        },
        {
          "output_type": "display_data",
          "data": {
            "image/png": "[encoded data removed]",
            "text/plain": [
              "<Figure size 432x288 with 2 Axes>"
            ]
          },
          "metadata": {
            "tags": []
          }
        }
      ]
    },
    {
      "cell_type": "code",
      "metadata": {
        "id": "DrN20zrdTYjo",
        "colab": {
          "base_uri": "https://localhost:8080/",
          "height": 279
        },
        "outputId": "a2fba09b-7ca2-4040-fd1c-c05d559f7ae0"
      },
      "source": [
        "classifier = RandomForestClassifier()\n",
        "\n",
        "scores = cross_val_score(classifier, X_train, y_train, cv=5)\n",
        "print(sum(scores)/len(scores))\n",
        "\n",
        "classifier.fit(X_train,y_train)\n",
        "print(classifier.score(X_test,y_test))\n"
      ],
      "execution_count": null,
      "outputs": [
        {
          "output_type": "stream",
          "text": [
            "0.9466636571984166\n",
            "0.945\n"
          ],
          "name": "stdout"
        },
        {
          "output_type": "stream",
          "text": [
            "/usr/local/lib/python3.6/dist-packages/sklearn/ensemble/forest.py:245: FutureWarning: The default value of n_estimators will change from 10 in version 0.20 to 100 in 0.22.\n",
            "  \"10 in version 0.20 to 100 in 0.22.\", FutureWarning)\n",
            "/usr/local/lib/python3.6/dist-packages/sklearn/ensemble/forest.py:245: FutureWarning: The default value of n_estimators will change from 10 in version 0.20 to 100 in 0.22.\n",
            "  \"10 in version 0.20 to 100 in 0.22.\", FutureWarning)\n",
            "/usr/local/lib/python3.6/dist-packages/sklearn/ensemble/forest.py:245: FutureWarning: The default value of n_estimators will change from 10 in version 0.20 to 100 in 0.22.\n",
            "  \"10 in version 0.20 to 100 in 0.22.\", FutureWarning)\n",
            "/usr/local/lib/python3.6/dist-packages/sklearn/ensemble/forest.py:245: FutureWarning: The default value of n_estimators will change from 10 in version 0.20 to 100 in 0.22.\n",
            "  \"10 in version 0.20 to 100 in 0.22.\", FutureWarning)\n",
            "/usr/local/lib/python3.6/dist-packages/sklearn/ensemble/forest.py:245: FutureWarning: The default value of n_estimators will change from 10 in version 0.20 to 100 in 0.22.\n",
            "  \"10 in version 0.20 to 100 in 0.22.\", FutureWarning)\n",
            "/usr/local/lib/python3.6/dist-packages/sklearn/ensemble/forest.py:245: FutureWarning: The default value of n_estimators will change from 10 in version 0.20 to 100 in 0.22.\n",
            "  \"10 in version 0.20 to 100 in 0.22.\", FutureWarning)\n"
          ],
          "name": "stderr"
        }
      ]
    },
    {
      "cell_type": "code",
      "metadata": {
        "id": "ARtUhbvqorxh",
        "colab": {
          "base_uri": "https://localhost:8080/",
          "height": 438
        },
        "outputId": "ba305c8e-2cea-475a-c1bd-82666daec2ce"
      },
      "source": [
        "y_pred = classifier.predict(X_test)\n",
        "\n",
        "confmatrix = confusion_matrix(y_test,y_pred) \n",
        "\n",
        "# plotting the confusion matrix\n",
        "plot_confusion_matrix(conf_mat=confmatrix, colorbar=True, show_absolute=True, show_normed=True)\n",
        "\n",
        "# printing the clasification report displaying further metrics\n",
        "print(classification_report(y_test, y_pred))"
      ],
      "execution_count": null,
      "outputs": [
        {
          "output_type": "stream",
          "text": [
            "              precision    recall  f1-score   support\n",
            "\n",
            "           0       0.96      0.98      0.97       187\n",
            "           1       0.62      0.38      0.48        13\n",
            "\n",
            "    accuracy                           0.94       200\n",
            "   macro avg       0.79      0.68      0.72       200\n",
            "weighted avg       0.94      0.94      0.94       200\n",
            "\n"
          ],
          "name": "stdout"
        },
        {
          "output_type": "display_data",
          "data": {
            "image/png": "[encoded data removed]",
            "text/plain": [
              "<Figure size 432x288 with 2 Axes>"
            ]
          },
          "metadata": {
            "tags": []
          }
        }
      ]
    },
    {
      "cell_type": "code",
      "metadata": {
        "id": "OXWzmrlogETb",
        "colab": {
          "base_uri": "https://localhost:8080/",
          "height": 35
        },
        "outputId": "e75f4a9f-d237-44e5-ae66-7984f4ea7f1b"
      },
      "source": [
        "import xgboost as xgb\n",
        "\n",
        "classifier = xgb.XGBClassifier()\n",
        "\n",
        "classifier.fit(X_train,y_train)\n",
        "\n",
        "classifier.score(X_test, y_test)"
      ],
      "execution_count": null,
      "outputs": [
        {
          "output_type": "execute_result",
          "data": {
            "text/plain": [
              "0.945"
            ]
          },
          "metadata": {
            "tags": []
          },
          "execution_count": 202
        }
      ]
    },
    {
      "cell_type": "code",
      "metadata": {
        "id": "7QRzcmzDEtcV",
        "colab": {
          "base_uri": "https://localhost:8080/",
          "height": 438
        },
        "outputId": "55dab8b9-1e56-4132-cef1-422b8207b6e6"
      },
      "source": [
        "y_pred = classifier.predict(X_test)\n",
        "\n",
        "confmatrix = confusion_matrix(y_test,y_pred) \n",
        "\n",
        "# plotting the confusion matrix\n",
        "plot_confusion_matrix(conf_mat=confmatrix, colorbar=True, show_absolute=True, show_normed=True)\n",
        "\n",
        "# printing the clasification report displaying further metrics\n",
        "print(classification_report(y_test, y_pred))"
      ],
      "execution_count": null,
      "outputs": [
        {
          "output_type": "stream",
          "text": [
            "              precision    recall  f1-score   support\n",
            "\n",
            "           0       0.97      0.97      0.97       187\n",
            "           1       0.58      0.54      0.56        13\n",
            "\n",
            "    accuracy                           0.94       200\n",
            "   macro avg       0.78      0.76      0.77       200\n",
            "weighted avg       0.94      0.94      0.94       200\n",
            "\n"
          ],
          "name": "stdout"
        },
        {
          "output_type": "display_data",
          "data": {
            "image/png": "[encoded data removed]",
            "text/plain": [
              "<Figure size 432x288 with 2 Axes>"
            ]
          },
          "metadata": {
            "tags": []
          }
        }
      ]
    },
    {
      "cell_type": "code",
      "metadata": {
        "id": "xm2br9qJthJe"
      },
      "source": [
        "!pip install catboost"
      ],
      "execution_count": null,
      "outputs": []
    },
    {
      "cell_type": "code",
      "metadata": {
        "id": "GTN-Pid5tnoT",
        "colab": {
          "base_uri": "https://localhost:8080/",
          "height": 1000
        },
        "outputId": "bb1c9fcf-18ce-4eb1-cf65-1609693b558d"
      },
      "source": [
        "from catboost import CatBoostClassifier\n",
        "\n",
        "classifier = CatBoostClassifier(task_type='GPU')\n",
        "\n",
        "classifier.fit(X_train,y_train)\n",
        "\n",
        "classifier.score(X_test, y_test)"
      ],
      "execution_count": null,
      "outputs": [
        {
          "output_type": "stream",
          "text": [
            "Learning rate set to 0.014499\n",
            "0:\tlearn: 0.6614209\ttotal: 49.6ms\tremaining: 49.5s\n",
            "1:\tlearn: 0.6359166\ttotal: 87.4ms\tremaining: 43.6s\n",
            "2:\tlearn: 0.6151980\ttotal: 137ms\tremaining: 45.6s\n",
            "3:\tlearn: 0.5935982\ttotal: 175ms\tremaining: 43.6s\n",
            "4:\tlearn: 0.5753111\ttotal: 224ms\tremaining: 44.5s\n",
            "5:\tlearn: 0.5563409\ttotal: 272ms\tremaining: 45.1s\n",
            "6:\tlearn: 0.5352398\ttotal: 326ms\tremaining: 46.3s\n",
            "7:\tlearn: 0.5166266\ttotal: 378ms\tremaining: 46.8s\n",
            "8:\tlearn: 0.4984311\ttotal: 406ms\tremaining: 44.7s\n",
            "9:\tlearn: 0.4805111\ttotal: 436ms\tremaining: 43.2s\n",
            "10:\tlearn: 0.4694792\ttotal: 466ms\tremaining: 41.9s\n",
            "11:\tlearn: 0.4539568\ttotal: 511ms\tremaining: 42s\n",
            "12:\tlearn: 0.4374594\ttotal: 556ms\tremaining: 42.2s\n",
            "13:\tlearn: 0.4232366\ttotal: 607ms\tremaining: 42.7s\n",
            "14:\tlearn: 0.4098538\ttotal: 649ms\tremaining: 42.6s\n",
            "15:\tlearn: 0.3982606\ttotal: 690ms\tremaining: 42.4s\n",
            "16:\tlearn: 0.3861107\ttotal: 732ms\tremaining: 42.3s\n",
            "17:\tlearn: 0.3742549\ttotal: 780ms\tremaining: 42.6s\n",
            "18:\tlearn: 0.3690469\ttotal: 810ms\tremaining: 41.8s\n",
            "19:\tlearn: 0.3596119\ttotal: 839ms\tremaining: 41.1s\n",
            "20:\tlearn: 0.3465523\ttotal: 879ms\tremaining: 41s\n",
            "21:\tlearn: 0.3370913\ttotal: 911ms\tremaining: 40.5s\n",
            "22:\tlearn: 0.3281439\ttotal: 951ms\tremaining: 40.4s\n",
            "23:\tlearn: 0.3208911\ttotal: 984ms\tremaining: 40s\n",
            "24:\tlearn: 0.3102464\ttotal: 1.03s\tremaining: 40.1s\n",
            "25:\tlearn: 0.3046171\ttotal: 1.07s\tremaining: 40s\n",
            "26:\tlearn: 0.2972193\ttotal: 1.09s\tremaining: 39.4s\n",
            "27:\tlearn: 0.2900309\ttotal: 1.13s\tremaining: 39.1s\n",
            "28:\tlearn: 0.2839195\ttotal: 1.17s\tremaining: 39.1s\n",
            "29:\tlearn: 0.2743012\ttotal: 1.21s\tremaining: 39.1s\n",
            "30:\tlearn: 0.2678542\ttotal: 1.25s\tremaining: 39.1s\n",
            "31:\tlearn: 0.2640870\ttotal: 1.29s\tremaining: 39.1s\n",
            "32:\tlearn: 0.2561791\ttotal: 1.34s\tremaining: 39.2s\n",
            "33:\tlearn: 0.2538851\ttotal: 1.37s\tremaining: 39s\n",
            "34:\tlearn: 0.2477704\ttotal: 1.41s\tremaining: 38.9s\n",
            "35:\tlearn: 0.2441161\ttotal: 1.46s\tremaining: 39.1s\n",
            "36:\tlearn: 0.2373133\ttotal: 1.5s\tremaining: 39s\n",
            "37:\tlearn: 0.2339066\ttotal: 1.54s\tremaining: 39s\n",
            "38:\tlearn: 0.2293385\ttotal: 1.58s\tremaining: 39s\n",
            "39:\tlearn: 0.2237661\ttotal: 1.63s\tremaining: 39s\n",
            "40:\tlearn: 0.2196226\ttotal: 1.67s\tremaining: 39.1s\n",
            "41:\tlearn: 0.2141463\ttotal: 1.71s\tremaining: 39s\n",
            "42:\tlearn: 0.2098435\ttotal: 1.75s\tremaining: 38.9s\n",
            "43:\tlearn: 0.2074492\ttotal: 1.78s\tremaining: 38.8s\n",
            "44:\tlearn: 0.2055759\ttotal: 1.81s\tremaining: 38.4s\n",
            "45:\tlearn: 0.2006962\ttotal: 1.85s\tremaining: 38.3s\n",
            "46:\tlearn: 0.1961343\ttotal: 1.89s\tremaining: 38.4s\n",
            "47:\tlearn: 0.1922992\ttotal: 1.92s\tremaining: 38.1s\n",
            "48:\tlearn: 0.1887177\ttotal: 1.96s\tremaining: 38.1s\n",
            "49:\tlearn: 0.1857112\ttotal: 2s\tremaining: 38.1s\n",
            "50:\tlearn: 0.1817246\ttotal: 2.04s\tremaining: 38s\n",
            "51:\tlearn: 0.1792575\ttotal: 2.08s\tremaining: 38s\n",
            "52:\tlearn: 0.1768481\ttotal: 2.11s\tremaining: 37.8s\n",
            "53:\tlearn: 0.1736981\ttotal: 2.14s\tremaining: 37.6s\n",
            "54:\tlearn: 0.1706898\ttotal: 2.18s\tremaining: 37.5s\n",
            "55:\tlearn: 0.1685001\ttotal: 2.22s\tremaining: 37.4s\n",
            "56:\tlearn: 0.1658855\ttotal: 2.26s\tremaining: 37.4s\n",
            "57:\tlearn: 0.1641095\ttotal: 2.29s\tremaining: 37.1s\n",
            "58:\tlearn: 0.1631115\ttotal: 2.32s\tremaining: 37.1s\n",
            "59:\tlearn: 0.1601363\ttotal: 2.36s\tremaining: 37s\n",
            "60:\tlearn: 0.1579869\ttotal: 2.4s\tremaining: 36.9s\n",
            "61:\tlearn: 0.1556138\ttotal: 2.44s\tremaining: 36.9s\n",
            "62:\tlearn: 0.1533727\ttotal: 2.47s\tremaining: 36.8s\n",
            "63:\tlearn: 0.1516992\ttotal: 2.52s\tremaining: 36.8s\n",
            "64:\tlearn: 0.1501452\ttotal: 2.56s\tremaining: 36.9s\n",
            "65:\tlearn: 0.1484021\ttotal: 2.59s\tremaining: 36.7s\n",
            "66:\tlearn: 0.1461611\ttotal: 2.63s\tremaining: 36.6s\n",
            "67:\tlearn: 0.1442218\ttotal: 2.67s\tremaining: 36.5s\n",
            "68:\tlearn: 0.1422324\ttotal: 2.7s\tremaining: 36.5s\n",
            "69:\tlearn: 0.1401972\ttotal: 2.75s\tremaining: 36.5s\n",
            "70:\tlearn: 0.1383089\ttotal: 2.79s\tremaining: 36.5s\n",
            "71:\tlearn: 0.1372769\ttotal: 2.82s\tremaining: 36.4s\n",
            "72:\tlearn: 0.1353849\ttotal: 2.86s\tremaining: 36.3s\n",
            "73:\tlearn: 0.1334248\ttotal: 2.9s\tremaining: 36.2s\n",
            "74:\tlearn: 0.1317596\ttotal: 2.92s\tremaining: 36.1s\n",
            "75:\tlearn: 0.1298871\ttotal: 2.96s\tremaining: 36s\n",
            "76:\tlearn: 0.1283799\ttotal: 3.01s\tremaining: 36.1s\n",
            "77:\tlearn: 0.1271515\ttotal: 3.05s\tremaining: 36s\n",
            "78:\tlearn: 0.1254695\ttotal: 3.09s\tremaining: 36s\n",
            "79:\tlearn: 0.1240137\ttotal: 3.12s\tremaining: 35.9s\n",
            "80:\tlearn: 0.1230763\ttotal: 3.16s\tremaining: 35.9s\n",
            "81:\tlearn: 0.1215963\ttotal: 3.2s\tremaining: 35.8s\n",
            "82:\tlearn: 0.1202188\ttotal: 3.24s\tremaining: 35.8s\n",
            "83:\tlearn: 0.1193965\ttotal: 3.28s\tremaining: 35.7s\n",
            "84:\tlearn: 0.1182937\ttotal: 3.33s\tremaining: 35.8s\n",
            "85:\tlearn: 0.1179259\ttotal: 3.36s\tremaining: 35.7s\n",
            "86:\tlearn: 0.1167348\ttotal: 3.4s\tremaining: 35.7s\n",
            "87:\tlearn: 0.1157603\ttotal: 3.43s\tremaining: 35.6s\n",
            "88:\tlearn: 0.1147365\ttotal: 3.47s\tremaining: 35.5s\n",
            "89:\tlearn: 0.1139402\ttotal: 3.51s\tremaining: 35.5s\n",
            "90:\tlearn: 0.1130236\ttotal: 3.54s\tremaining: 35.4s\n",
            "91:\tlearn: 0.1121061\ttotal: 3.58s\tremaining: 35.4s\n",
            "92:\tlearn: 0.1113116\ttotal: 3.62s\tremaining: 35.3s\n",
            "93:\tlearn: 0.1102548\ttotal: 3.66s\tremaining: 35.3s\n",
            "94:\tlearn: 0.1092903\ttotal: 3.71s\tremaining: 35.3s\n",
            "95:\tlearn: 0.1086773\ttotal: 3.74s\tremaining: 35.2s\n",
            "96:\tlearn: 0.1081816\ttotal: 3.78s\tremaining: 35.2s\n",
            "97:\tlearn: 0.1073492\ttotal: 3.82s\tremaining: 35.2s\n",
            "98:\tlearn: 0.1062749\ttotal: 3.86s\tremaining: 35.1s\n",
            "99:\tlearn: 0.1055052\ttotal: 3.89s\tremaining: 35.1s\n",
            "100:\tlearn: 0.1052485\ttotal: 3.93s\tremaining: 35s\n",
            "101:\tlearn: 0.1046475\ttotal: 3.97s\tremaining: 35s\n",
            "102:\tlearn: 0.1039232\ttotal: 4.01s\tremaining: 34.9s\n",
            "103:\tlearn: 0.1030338\ttotal: 4.04s\tremaining: 34.8s\n",
            "104:\tlearn: 0.1024545\ttotal: 4.08s\tremaining: 34.8s\n",
            "105:\tlearn: 0.1017294\ttotal: 4.11s\tremaining: 34.7s\n",
            "106:\tlearn: 0.1010758\ttotal: 4.15s\tremaining: 34.7s\n",
            "107:\tlearn: 0.1003617\ttotal: 4.19s\tremaining: 34.6s\n",
            "108:\tlearn: 0.0996303\ttotal: 4.22s\tremaining: 34.5s\n",
            "109:\tlearn: 0.0987615\ttotal: 4.26s\tremaining: 34.5s\n",
            "110:\tlearn: 0.0981983\ttotal: 4.29s\tremaining: 34.4s\n",
            "111:\tlearn: 0.0978845\ttotal: 4.33s\tremaining: 34.3s\n",
            "112:\tlearn: 0.0975847\ttotal: 4.37s\tremaining: 34.3s\n",
            "113:\tlearn: 0.0968657\ttotal: 4.41s\tremaining: 34.3s\n",
            "114:\tlearn: 0.0962058\ttotal: 4.45s\tremaining: 34.2s\n",
            "115:\tlearn: 0.0955928\ttotal: 4.48s\tremaining: 34.1s\n",
            "116:\tlearn: 0.0946171\ttotal: 4.52s\tremaining: 34.1s\n",
            "117:\tlearn: 0.0941748\ttotal: 4.55s\tremaining: 34s\n",
            "118:\tlearn: 0.0933603\ttotal: 4.59s\tremaining: 34s\n",
            "119:\tlearn: 0.0927300\ttotal: 4.63s\tremaining: 33.9s\n",
            "120:\tlearn: 0.0921120\ttotal: 4.67s\tremaining: 33.9s\n",
            "121:\tlearn: 0.0915670\ttotal: 4.69s\tremaining: 33.8s\n",
            "122:\tlearn: 0.0909220\ttotal: 4.73s\tremaining: 33.7s\n",
            "123:\tlearn: 0.0902348\ttotal: 4.76s\tremaining: 33.7s\n",
            "124:\tlearn: 0.0899845\ttotal: 4.8s\tremaining: 33.6s\n",
            "125:\tlearn: 0.0895635\ttotal: 4.83s\tremaining: 33.5s\n",
            "126:\tlearn: 0.0891134\ttotal: 4.87s\tremaining: 33.5s\n",
            "127:\tlearn: 0.0881876\ttotal: 4.91s\tremaining: 33.5s\n",
            "128:\tlearn: 0.0876713\ttotal: 4.95s\tremaining: 33.4s\n",
            "129:\tlearn: 0.0870165\ttotal: 4.99s\tremaining: 33.4s\n",
            "130:\tlearn: 0.0863803\ttotal: 5.02s\tremaining: 33.3s\n",
            "131:\tlearn: 0.0858227\ttotal: 5.05s\tremaining: 33.2s\n",
            "132:\tlearn: 0.0851541\ttotal: 5.09s\tremaining: 33.2s\n",
            "133:\tlearn: 0.0847299\ttotal: 5.13s\tremaining: 33.2s\n",
            "134:\tlearn: 0.0839479\ttotal: 5.17s\tremaining: 33.1s\n",
            "135:\tlearn: 0.0835432\ttotal: 5.2s\tremaining: 33.1s\n",
            "136:\tlearn: 0.0831676\ttotal: 5.24s\tremaining: 33s\n",
            "137:\tlearn: 0.0827523\ttotal: 5.27s\tremaining: 32.9s\n",
            "138:\tlearn: 0.0824583\ttotal: 5.31s\tremaining: 32.9s\n",
            "139:\tlearn: 0.0819049\ttotal: 5.36s\tremaining: 32.9s\n",
            "140:\tlearn: 0.0814845\ttotal: 5.39s\tremaining: 32.9s\n",
            "141:\tlearn: 0.0812693\ttotal: 5.43s\tremaining: 32.8s\n",
            "142:\tlearn: 0.0809565\ttotal: 5.47s\tremaining: 32.8s\n",
            "143:\tlearn: 0.0805780\ttotal: 5.51s\tremaining: 32.7s\n",
            "144:\tlearn: 0.0802339\ttotal: 5.54s\tremaining: 32.7s\n",
            "145:\tlearn: 0.0799049\ttotal: 5.58s\tremaining: 32.6s\n",
            "146:\tlearn: 0.0795334\ttotal: 5.61s\tremaining: 32.6s\n",
            "147:\tlearn: 0.0788723\ttotal: 5.66s\tremaining: 32.6s\n",
            "148:\tlearn: 0.0785631\ttotal: 5.71s\tremaining: 32.6s\n",
            "149:\tlearn: 0.0784195\ttotal: 5.75s\tremaining: 32.6s\n",
            "150:\tlearn: 0.0780065\ttotal: 5.78s\tremaining: 32.5s\n",
            "151:\tlearn: 0.0778959\ttotal: 5.81s\tremaining: 32.4s\n",
            "152:\tlearn: 0.0775118\ttotal: 5.84s\tremaining: 32.3s\n",
            "153:\tlearn: 0.0771852\ttotal: 5.87s\tremaining: 32.3s\n",
            "154:\tlearn: 0.0768426\ttotal: 5.9s\tremaining: 32.1s\n",
            "155:\tlearn: 0.0766992\ttotal: 5.94s\tremaining: 32.1s\n",
            "156:\tlearn: 0.0763124\ttotal: 5.98s\tremaining: 32.1s\n",
            "157:\tlearn: 0.0759483\ttotal: 6.01s\tremaining: 32.1s\n",
            "158:\tlearn: 0.0756835\ttotal: 6.04s\tremaining: 32s\n",
            "159:\tlearn: 0.0752419\ttotal: 6.08s\tremaining: 31.9s\n",
            "160:\tlearn: 0.0750637\ttotal: 6.12s\tremaining: 31.9s\n",
            "161:\tlearn: 0.0746356\ttotal: 6.15s\tremaining: 31.8s\n",
            "162:\tlearn: 0.0743682\ttotal: 6.19s\tremaining: 31.8s\n",
            "163:\tlearn: 0.0739728\ttotal: 6.23s\tremaining: 31.8s\n",
            "164:\tlearn: 0.0737697\ttotal: 6.26s\tremaining: 31.7s\n",
            "165:\tlearn: 0.0733731\ttotal: 6.3s\tremaining: 31.7s\n",
            "166:\tlearn: 0.0729151\ttotal: 6.34s\tremaining: 31.6s\n",
            "167:\tlearn: 0.0727232\ttotal: 6.39s\tremaining: 31.7s\n",
            "168:\tlearn: 0.0723664\ttotal: 6.43s\tremaining: 31.6s\n",
            "169:\tlearn: 0.0722427\ttotal: 6.47s\tremaining: 31.6s\n",
            "170:\tlearn: 0.0720706\ttotal: 6.5s\tremaining: 31.5s\n",
            "171:\tlearn: 0.0718358\ttotal: 6.53s\tremaining: 31.4s\n",
            "172:\tlearn: 0.0714926\ttotal: 6.58s\tremaining: 31.5s\n",
            "173:\tlearn: 0.0712045\ttotal: 6.63s\tremaining: 31.5s\n",
            "174:\tlearn: 0.0709842\ttotal: 6.67s\tremaining: 31.4s\n",
            "175:\tlearn: 0.0705036\ttotal: 6.71s\tremaining: 31.4s\n",
            "176:\tlearn: 0.0702482\ttotal: 6.75s\tremaining: 31.4s\n",
            "177:\tlearn: 0.0699187\ttotal: 6.78s\tremaining: 31.3s\n",
            "178:\tlearn: 0.0697916\ttotal: 6.82s\tremaining: 31.3s\n",
            "179:\tlearn: 0.0696133\ttotal: 6.86s\tremaining: 31.2s\n",
            "180:\tlearn: 0.0692528\ttotal: 6.9s\tremaining: 31.2s\n",
            "181:\tlearn: 0.0689320\ttotal: 6.93s\tremaining: 31.2s\n",
            "182:\tlearn: 0.0687713\ttotal: 6.97s\tremaining: 31.1s\n",
            "183:\tlearn: 0.0683615\ttotal: 7.01s\tremaining: 31.1s\n",
            "184:\tlearn: 0.0679260\ttotal: 7.04s\tremaining: 31s\n",
            "185:\tlearn: 0.0675046\ttotal: 7.08s\tremaining: 31s\n",
            "186:\tlearn: 0.0672257\ttotal: 7.12s\tremaining: 31s\n",
            "187:\tlearn: 0.0669656\ttotal: 7.16s\tremaining: 30.9s\n",
            "188:\tlearn: 0.0666850\ttotal: 7.19s\tremaining: 30.9s\n",
            "189:\tlearn: 0.0664924\ttotal: 7.23s\tremaining: 30.8s\n",
            "190:\tlearn: 0.0662897\ttotal: 7.26s\tremaining: 30.7s\n",
            "191:\tlearn: 0.0659600\ttotal: 7.29s\tremaining: 30.7s\n",
            "192:\tlearn: 0.0657442\ttotal: 7.33s\tremaining: 30.7s\n",
            "193:\tlearn: 0.0653795\ttotal: 7.38s\tremaining: 30.7s\n",
            "194:\tlearn: 0.0650946\ttotal: 7.42s\tremaining: 30.6s\n",
            "195:\tlearn: 0.0647113\ttotal: 7.45s\tremaining: 30.6s\n",
            "196:\tlearn: 0.0645274\ttotal: 7.48s\tremaining: 30.5s\n",
            "197:\tlearn: 0.0642697\ttotal: 7.52s\tremaining: 30.5s\n",
            "198:\tlearn: 0.0639642\ttotal: 7.57s\tremaining: 30.4s\n",
            "199:\tlearn: 0.0638594\ttotal: 7.59s\tremaining: 30.4s\n",
            "200:\tlearn: 0.0637629\ttotal: 7.62s\tremaining: 30.3s\n",
            "201:\tlearn: 0.0636009\ttotal: 7.66s\tremaining: 30.2s\n",
            "202:\tlearn: 0.0634613\ttotal: 7.69s\tremaining: 30.2s\n",
            "203:\tlearn: 0.0631942\ttotal: 7.73s\tremaining: 30.2s\n",
            "204:\tlearn: 0.0628961\ttotal: 7.76s\tremaining: 30.1s\n",
            "205:\tlearn: 0.0626495\ttotal: 7.8s\tremaining: 30.1s\n",
            "206:\tlearn: 0.0623670\ttotal: 7.84s\tremaining: 30s\n",
            "207:\tlearn: 0.0621992\ttotal: 7.88s\tremaining: 30s\n",
            "208:\tlearn: 0.0620541\ttotal: 7.91s\tremaining: 29.9s\n",
            "209:\tlearn: 0.0619847\ttotal: 7.95s\tremaining: 29.9s\n",
            "210:\tlearn: 0.0617821\ttotal: 8s\tremaining: 29.9s\n",
            "211:\tlearn: 0.0614839\ttotal: 8.03s\tremaining: 29.9s\n",
            "212:\tlearn: 0.0614189\ttotal: 8.06s\tremaining: 29.8s\n",
            "213:\tlearn: 0.0612788\ttotal: 8.1s\tremaining: 29.7s\n",
            "214:\tlearn: 0.0610024\ttotal: 8.13s\tremaining: 29.7s\n",
            "215:\tlearn: 0.0607911\ttotal: 8.16s\tremaining: 29.6s\n",
            "216:\tlearn: 0.0605619\ttotal: 8.2s\tremaining: 29.6s\n",
            "217:\tlearn: 0.0604282\ttotal: 8.24s\tremaining: 29.6s\n",
            "218:\tlearn: 0.0603454\ttotal: 8.28s\tremaining: 29.5s\n",
            "219:\tlearn: 0.0602801\ttotal: 8.31s\tremaining: 29.5s\n",
            "220:\tlearn: 0.0600916\ttotal: 8.35s\tremaining: 29.4s\n",
            "221:\tlearn: 0.0599240\ttotal: 8.4s\tremaining: 29.4s\n",
            "222:\tlearn: 0.0597414\ttotal: 8.43s\tremaining: 29.4s\n",
            "223:\tlearn: 0.0596491\ttotal: 8.47s\tremaining: 29.3s\n",
            "224:\tlearn: 0.0594091\ttotal: 8.5s\tremaining: 29.3s\n",
            "225:\tlearn: 0.0591551\ttotal: 8.54s\tremaining: 29.3s\n",
            "226:\tlearn: 0.0589114\ttotal: 8.58s\tremaining: 29.2s\n",
            "227:\tlearn: 0.0587420\ttotal: 8.62s\tremaining: 29.2s\n",
            "228:\tlearn: 0.0584882\ttotal: 8.66s\tremaining: 29.1s\n",
            "229:\tlearn: 0.0582787\ttotal: 8.69s\tremaining: 29.1s\n",
            "230:\tlearn: 0.0579290\ttotal: 8.73s\tremaining: 29.1s\n",
            "231:\tlearn: 0.0577321\ttotal: 8.77s\tremaining: 29s\n",
            "232:\tlearn: 0.0575875\ttotal: 8.8s\tremaining: 29s\n",
            "233:\tlearn: 0.0573910\ttotal: 8.85s\tremaining: 29s\n",
            "234:\tlearn: 0.0571432\ttotal: 8.88s\tremaining: 28.9s\n",
            "235:\tlearn: 0.0569282\ttotal: 8.92s\tremaining: 28.9s\n",
            "236:\tlearn: 0.0568150\ttotal: 8.96s\tremaining: 28.8s\n",
            "237:\tlearn: 0.0566937\ttotal: 8.99s\tremaining: 28.8s\n",
            "238:\tlearn: 0.0564294\ttotal: 9.03s\tremaining: 28.8s\n",
            "239:\tlearn: 0.0562758\ttotal: 9.07s\tremaining: 28.7s\n",
            "240:\tlearn: 0.0560559\ttotal: 9.11s\tremaining: 28.7s\n",
            "241:\tlearn: 0.0558822\ttotal: 9.15s\tremaining: 28.7s\n",
            "242:\tlearn: 0.0558067\ttotal: 9.18s\tremaining: 28.6s\n",
            "243:\tlearn: 0.0556317\ttotal: 9.22s\tremaining: 28.6s\n",
            "244:\tlearn: 0.0555734\ttotal: 9.25s\tremaining: 28.5s\n",
            "245:\tlearn: 0.0554940\ttotal: 9.29s\tremaining: 28.5s\n",
            "246:\tlearn: 0.0554320\ttotal: 9.32s\tremaining: 28.4s\n",
            "247:\tlearn: 0.0552775\ttotal: 9.36s\tremaining: 28.4s\n",
            "248:\tlearn: 0.0551705\ttotal: 9.39s\tremaining: 28.3s\n",
            "249:\tlearn: 0.0548213\ttotal: 9.43s\tremaining: 28.3s\n",
            "250:\tlearn: 0.0546532\ttotal: 9.47s\tremaining: 28.3s\n",
            "251:\tlearn: 0.0545186\ttotal: 9.51s\tremaining: 28.2s\n",
            "252:\tlearn: 0.0544675\ttotal: 9.54s\tremaining: 28.2s\n",
            "253:\tlearn: 0.0543363\ttotal: 9.58s\tremaining: 28.1s\n",
            "254:\tlearn: 0.0542655\ttotal: 9.61s\tremaining: 28.1s\n",
            "255:\tlearn: 0.0541083\ttotal: 9.65s\tremaining: 28s\n",
            "256:\tlearn: 0.0539334\ttotal: 9.68s\tremaining: 28s\n",
            "257:\tlearn: 0.0537911\ttotal: 9.72s\tremaining: 28s\n",
            "258:\tlearn: 0.0536381\ttotal: 9.76s\tremaining: 27.9s\n",
            "259:\tlearn: 0.0534256\ttotal: 9.8s\tremaining: 27.9s\n",
            "260:\tlearn: 0.0530630\ttotal: 9.83s\tremaining: 27.8s\n",
            "261:\tlearn: 0.0528264\ttotal: 9.87s\tremaining: 27.8s\n",
            "262:\tlearn: 0.0527075\ttotal: 9.9s\tremaining: 27.7s\n",
            "263:\tlearn: 0.0525091\ttotal: 9.94s\tremaining: 27.7s\n",
            "264:\tlearn: 0.0523042\ttotal: 9.97s\tremaining: 27.7s\n",
            "265:\tlearn: 0.0520904\ttotal: 10s\tremaining: 27.6s\n",
            "266:\tlearn: 0.0518833\ttotal: 10s\tremaining: 27.6s\n",
            "267:\tlearn: 0.0517254\ttotal: 10.1s\tremaining: 27.5s\n",
            "268:\tlearn: 0.0516075\ttotal: 10.1s\tremaining: 27.5s\n",
            "269:\tlearn: 0.0512809\ttotal: 10.2s\tremaining: 27.5s\n",
            "270:\tlearn: 0.0511028\ttotal: 10.2s\tremaining: 27.4s\n",
            "271:\tlearn: 0.0508968\ttotal: 10.2s\tremaining: 27.4s\n",
            "272:\tlearn: 0.0507761\ttotal: 10.3s\tremaining: 27.3s\n",
            "273:\tlearn: 0.0506614\ttotal: 10.3s\tremaining: 27.3s\n",
            "274:\tlearn: 0.0505333\ttotal: 10.3s\tremaining: 27.2s\n",
            "275:\tlearn: 0.0503748\ttotal: 10.4s\tremaining: 27.2s\n",
            "276:\tlearn: 0.0502712\ttotal: 10.4s\tremaining: 27.2s\n",
            "277:\tlearn: 0.0501359\ttotal: 10.5s\tremaining: 27.2s\n",
            "278:\tlearn: 0.0500190\ttotal: 10.5s\tremaining: 27.1s\n",
            "279:\tlearn: 0.0498584\ttotal: 10.5s\tremaining: 27.1s\n",
            "280:\tlearn: 0.0498095\ttotal: 10.6s\tremaining: 27s\n",
            "281:\tlearn: 0.0496829\ttotal: 10.6s\tremaining: 27s\n",
            "282:\tlearn: 0.0494529\ttotal: 10.6s\tremaining: 26.9s\n",
            "283:\tlearn: 0.0493180\ttotal: 10.7s\tremaining: 26.9s\n",
            "284:\tlearn: 0.0491743\ttotal: 10.7s\tremaining: 26.9s\n",
            "285:\tlearn: 0.0490463\ttotal: 10.7s\tremaining: 26.8s\n",
            "286:\tlearn: 0.0488806\ttotal: 10.8s\tremaining: 26.8s\n",
            "287:\tlearn: 0.0487658\ttotal: 10.8s\tremaining: 26.7s\n",
            "288:\tlearn: 0.0486483\ttotal: 10.9s\tremaining: 26.7s\n",
            "289:\tlearn: 0.0484833\ttotal: 10.9s\tremaining: 26.7s\n",
            "290:\tlearn: 0.0482675\ttotal: 10.9s\tremaining: 26.6s\n",
            "291:\tlearn: 0.0481420\ttotal: 11s\tremaining: 26.6s\n",
            "292:\tlearn: 0.0480261\ttotal: 11s\tremaining: 26.5s\n",
            "293:\tlearn: 0.0479472\ttotal: 11s\tremaining: 26.5s\n",
            "294:\tlearn: 0.0479257\ttotal: 11.1s\tremaining: 26.4s\n",
            "295:\tlearn: 0.0477866\ttotal: 11.1s\tremaining: 26.4s\n",
            "296:\tlearn: 0.0476438\ttotal: 11.1s\tremaining: 26.3s\n",
            "297:\tlearn: 0.0476051\ttotal: 11.2s\tremaining: 26.3s\n",
            "298:\tlearn: 0.0475023\ttotal: 11.2s\tremaining: 26.3s\n",
            "299:\tlearn: 0.0473671\ttotal: 11.2s\tremaining: 26.2s\n",
            "300:\tlearn: 0.0472589\ttotal: 11.3s\tremaining: 26.2s\n",
            "301:\tlearn: 0.0470856\ttotal: 11.3s\tremaining: 26.1s\n",
            "302:\tlearn: 0.0469496\ttotal: 11.3s\tremaining: 26.1s\n",
            "303:\tlearn: 0.0468417\ttotal: 11.4s\tremaining: 26.1s\n",
            "304:\tlearn: 0.0467563\ttotal: 11.4s\tremaining: 26s\n",
            "305:\tlearn: 0.0466261\ttotal: 11.5s\tremaining: 26s\n",
            "306:\tlearn: 0.0464986\ttotal: 11.5s\tremaining: 26s\n",
            "307:\tlearn: 0.0462677\ttotal: 11.5s\tremaining: 25.9s\n",
            "308:\tlearn: 0.0460712\ttotal: 11.6s\tremaining: 25.9s\n",
            "309:\tlearn: 0.0459536\ttotal: 11.6s\tremaining: 25.8s\n",
            "310:\tlearn: 0.0458769\ttotal: 11.6s\tremaining: 25.8s\n",
            "311:\tlearn: 0.0457488\ttotal: 11.7s\tremaining: 25.8s\n",
            "312:\tlearn: 0.0456591\ttotal: 11.7s\tremaining: 25.7s\n",
            "313:\tlearn: 0.0455310\ttotal: 11.8s\tremaining: 25.7s\n",
            "314:\tlearn: 0.0453922\ttotal: 11.8s\tremaining: 25.6s\n",
            "315:\tlearn: 0.0453447\ttotal: 11.8s\tremaining: 25.6s\n",
            "316:\tlearn: 0.0452003\ttotal: 11.9s\tremaining: 25.6s\n",
            "317:\tlearn: 0.0450937\ttotal: 11.9s\tremaining: 25.5s\n",
            "318:\tlearn: 0.0449408\ttotal: 11.9s\tremaining: 25.5s\n",
            "319:\tlearn: 0.0449132\ttotal: 12s\tremaining: 25.4s\n",
            "320:\tlearn: 0.0448381\ttotal: 12s\tremaining: 25.4s\n",
            "321:\tlearn: 0.0447383\ttotal: 12.1s\tremaining: 25.4s\n",
            "322:\tlearn: 0.0445763\ttotal: 12.1s\tremaining: 25.3s\n",
            "323:\tlearn: 0.0444896\ttotal: 12.1s\tremaining: 25.3s\n",
            "324:\tlearn: 0.0443559\ttotal: 12.2s\tremaining: 25.3s\n",
            "325:\tlearn: 0.0442605\ttotal: 12.2s\tremaining: 25.2s\n",
            "326:\tlearn: 0.0441317\ttotal: 12.2s\tremaining: 25.2s\n",
            "327:\tlearn: 0.0440260\ttotal: 12.3s\tremaining: 25.1s\n",
            "328:\tlearn: 0.0438778\ttotal: 12.3s\tremaining: 25.1s\n",
            "329:\tlearn: 0.0437859\ttotal: 12.3s\tremaining: 25.1s\n",
            "330:\tlearn: 0.0437366\ttotal: 12.4s\tremaining: 25s\n",
            "331:\tlearn: 0.0436619\ttotal: 12.4s\tremaining: 25s\n",
            "332:\tlearn: 0.0436072\ttotal: 12.4s\tremaining: 24.9s\n",
            "333:\tlearn: 0.0434849\ttotal: 12.5s\tremaining: 24.9s\n",
            "334:\tlearn: 0.0434260\ttotal: 12.5s\tremaining: 24.8s\n",
            "335:\tlearn: 0.0432943\ttotal: 12.6s\tremaining: 24.8s\n",
            "336:\tlearn: 0.0431934\ttotal: 12.6s\tremaining: 24.8s\n",
            "337:\tlearn: 0.0431140\ttotal: 12.6s\tremaining: 24.7s\n",
            "338:\tlearn: 0.0430779\ttotal: 12.7s\tremaining: 24.7s\n",
            "339:\tlearn: 0.0429709\ttotal: 12.7s\tremaining: 24.7s\n",
            "340:\tlearn: 0.0428996\ttotal: 12.7s\tremaining: 24.6s\n",
            "341:\tlearn: 0.0427271\ttotal: 12.8s\tremaining: 24.6s\n",
            "342:\tlearn: 0.0425897\ttotal: 12.8s\tremaining: 24.5s\n",
            "343:\tlearn: 0.0424566\ttotal: 12.9s\tremaining: 24.5s\n",
            "344:\tlearn: 0.0423606\ttotal: 12.9s\tremaining: 24.5s\n",
            "345:\tlearn: 0.0422534\ttotal: 12.9s\tremaining: 24.4s\n",
            "346:\tlearn: 0.0421533\ttotal: 13s\tremaining: 24.4s\n",
            "347:\tlearn: 0.0420258\ttotal: 13s\tremaining: 24.4s\n",
            "348:\tlearn: 0.0419116\ttotal: 13s\tremaining: 24.3s\n",
            "349:\tlearn: 0.0418169\ttotal: 13.1s\tremaining: 24.3s\n",
            "350:\tlearn: 0.0416849\ttotal: 13.1s\tremaining: 24.3s\n",
            "351:\tlearn: 0.0415883\ttotal: 13.2s\tremaining: 24.2s\n",
            "352:\tlearn: 0.0415025\ttotal: 13.2s\tremaining: 24.2s\n",
            "353:\tlearn: 0.0414266\ttotal: 13.2s\tremaining: 24.2s\n",
            "354:\tlearn: 0.0413187\ttotal: 13.3s\tremaining: 24.1s\n",
            "355:\tlearn: 0.0412325\ttotal: 13.3s\tremaining: 24.1s\n",
            "356:\tlearn: 0.0411380\ttotal: 13.4s\tremaining: 24.1s\n",
            "357:\tlearn: 0.0410500\ttotal: 13.4s\tremaining: 24s\n",
            "358:\tlearn: 0.0409288\ttotal: 13.5s\tremaining: 24s\n",
            "359:\tlearn: 0.0407584\ttotal: 13.5s\tremaining: 24s\n",
            "360:\tlearn: 0.0407459\ttotal: 13.5s\tremaining: 23.9s\n",
            "361:\tlearn: 0.0406634\ttotal: 13.6s\tremaining: 23.9s\n",
            "362:\tlearn: 0.0406065\ttotal: 13.6s\tremaining: 23.9s\n",
            "363:\tlearn: 0.0405669\ttotal: 13.6s\tremaining: 23.8s\n",
            "364:\tlearn: 0.0405193\ttotal: 13.7s\tremaining: 23.8s\n",
            "365:\tlearn: 0.0404152\ttotal: 13.7s\tremaining: 23.7s\n",
            "366:\tlearn: 0.0402967\ttotal: 13.7s\tremaining: 23.7s\n",
            "367:\tlearn: 0.0401335\ttotal: 13.8s\tremaining: 23.7s\n",
            "368:\tlearn: 0.0401216\ttotal: 13.8s\tremaining: 23.6s\n",
            "369:\tlearn: 0.0400486\ttotal: 13.9s\tremaining: 23.6s\n",
            "370:\tlearn: 0.0399834\ttotal: 13.9s\tremaining: 23.6s\n",
            "371:\tlearn: 0.0398574\ttotal: 13.9s\tremaining: 23.5s\n",
            "372:\tlearn: 0.0397826\ttotal: 14s\tremaining: 23.5s\n",
            "373:\tlearn: 0.0396107\ttotal: 14s\tremaining: 23.5s\n",
            "374:\tlearn: 0.0395156\ttotal: 14.1s\tremaining: 23.4s\n",
            "375:\tlearn: 0.0393637\ttotal: 14.1s\tremaining: 23.4s\n",
            "376:\tlearn: 0.0392271\ttotal: 14.1s\tremaining: 23.4s\n",
            "377:\tlearn: 0.0390605\ttotal: 14.2s\tremaining: 23.3s\n",
            "378:\tlearn: 0.0389612\ttotal: 14.2s\tremaining: 23.3s\n",
            "379:\tlearn: 0.0388810\ttotal: 14.2s\tremaining: 23.2s\n",
            "380:\tlearn: 0.0388185\ttotal: 14.3s\tremaining: 23.2s\n",
            "381:\tlearn: 0.0387080\ttotal: 14.3s\tremaining: 23.2s\n",
            "382:\tlearn: 0.0386841\ttotal: 14.4s\tremaining: 23.1s\n",
            "383:\tlearn: 0.0385747\ttotal: 14.4s\tremaining: 23.1s\n",
            "384:\tlearn: 0.0385013\ttotal: 14.4s\tremaining: 23.1s\n",
            "385:\tlearn: 0.0383715\ttotal: 14.5s\tremaining: 23s\n",
            "386:\tlearn: 0.0382577\ttotal: 14.5s\tremaining: 23s\n",
            "387:\tlearn: 0.0381457\ttotal: 14.6s\tremaining: 23s\n",
            "388:\tlearn: 0.0380076\ttotal: 14.6s\tremaining: 23s\n",
            "389:\tlearn: 0.0378730\ttotal: 14.7s\tremaining: 22.9s\n",
            "390:\tlearn: 0.0377611\ttotal: 14.7s\tremaining: 22.9s\n",
            "391:\tlearn: 0.0375833\ttotal: 14.7s\tremaining: 22.8s\n",
            "392:\tlearn: 0.0375089\ttotal: 14.8s\tremaining: 22.8s\n",
            "393:\tlearn: 0.0374245\ttotal: 14.8s\tremaining: 22.8s\n",
            "394:\tlearn: 0.0372805\ttotal: 14.8s\tremaining: 22.7s\n",
            "395:\tlearn: 0.0372601\ttotal: 14.9s\tremaining: 22.7s\n",
            "396:\tlearn: 0.0371745\ttotal: 14.9s\tremaining: 22.7s\n",
            "397:\tlearn: 0.0370516\ttotal: 15s\tremaining: 22.6s\n",
            "398:\tlearn: 0.0369840\ttotal: 15s\tremaining: 22.6s\n",
            "399:\tlearn: 0.0369022\ttotal: 15s\tremaining: 22.6s\n",
            "400:\tlearn: 0.0368642\ttotal: 15.1s\tremaining: 22.5s\n",
            "401:\tlearn: 0.0368156\ttotal: 15.1s\tremaining: 22.5s\n",
            "402:\tlearn: 0.0367129\ttotal: 15.2s\tremaining: 22.5s\n",
            "403:\tlearn: 0.0366230\ttotal: 15.2s\tremaining: 22.4s\n",
            "404:\tlearn: 0.0365493\ttotal: 15.2s\tremaining: 22.4s\n",
            "405:\tlearn: 0.0364396\ttotal: 15.3s\tremaining: 22.4s\n",
            "406:\tlearn: 0.0363909\ttotal: 15.3s\tremaining: 22.3s\n",
            "407:\tlearn: 0.0362638\ttotal: 15.4s\tremaining: 22.3s\n",
            "408:\tlearn: 0.0360982\ttotal: 15.4s\tremaining: 22.2s\n",
            "409:\tlearn: 0.0360607\ttotal: 15.4s\tremaining: 22.2s\n",
            "410:\tlearn: 0.0360177\ttotal: 15.5s\tremaining: 22.2s\n",
            "411:\tlearn: 0.0359736\ttotal: 15.5s\tremaining: 22.2s\n",
            "412:\tlearn: 0.0358739\ttotal: 15.6s\tremaining: 22.1s\n",
            "413:\tlearn: 0.0358490\ttotal: 15.6s\tremaining: 22.1s\n",
            "414:\tlearn: 0.0356971\ttotal: 15.6s\tremaining: 22s\n",
            "415:\tlearn: 0.0356461\ttotal: 15.7s\tremaining: 22s\n",
            "416:\tlearn: 0.0355389\ttotal: 15.7s\tremaining: 22s\n",
            "417:\tlearn: 0.0354292\ttotal: 15.8s\tremaining: 22s\n",
            "418:\tlearn: 0.0352963\ttotal: 15.8s\tremaining: 21.9s\n",
            "419:\tlearn: 0.0352419\ttotal: 15.8s\tremaining: 21.9s\n",
            "420:\tlearn: 0.0352102\ttotal: 15.9s\tremaining: 21.8s\n",
            "421:\tlearn: 0.0352001\ttotal: 15.9s\tremaining: 21.8s\n",
            "422:\tlearn: 0.0350199\ttotal: 15.9s\tremaining: 21.8s\n",
            "423:\tlearn: 0.0349299\ttotal: 16s\tremaining: 21.7s\n",
            "424:\tlearn: 0.0349060\ttotal: 16s\tremaining: 21.7s\n",
            "425:\tlearn: 0.0347742\ttotal: 16.1s\tremaining: 21.6s\n",
            "426:\tlearn: 0.0347051\ttotal: 16.1s\tremaining: 21.6s\n",
            "427:\tlearn: 0.0346523\ttotal: 16.1s\tremaining: 21.6s\n",
            "428:\tlearn: 0.0345603\ttotal: 16.2s\tremaining: 21.5s\n",
            "429:\tlearn: 0.0344889\ttotal: 16.2s\tremaining: 21.5s\n",
            "430:\tlearn: 0.0343976\ttotal: 16.3s\tremaining: 21.5s\n",
            "431:\tlearn: 0.0343269\ttotal: 16.3s\tremaining: 21.4s\n",
            "432:\tlearn: 0.0341892\ttotal: 16.3s\tremaining: 21.4s\n",
            "433:\tlearn: 0.0341688\ttotal: 16.4s\tremaining: 21.3s\n",
            "434:\tlearn: 0.0341464\ttotal: 16.4s\tremaining: 21.3s\n",
            "435:\tlearn: 0.0340633\ttotal: 16.4s\tremaining: 21.3s\n",
            "436:\tlearn: 0.0340237\ttotal: 16.5s\tremaining: 21.3s\n",
            "437:\tlearn: 0.0339717\ttotal: 16.5s\tremaining: 21.2s\n",
            "438:\tlearn: 0.0338068\ttotal: 16.6s\tremaining: 21.2s\n",
            "439:\tlearn: 0.0336767\ttotal: 16.6s\tremaining: 21.2s\n",
            "440:\tlearn: 0.0335972\ttotal: 16.7s\tremaining: 21.1s\n",
            "441:\tlearn: 0.0334908\ttotal: 16.7s\tremaining: 21.1s\n",
            "442:\tlearn: 0.0333957\ttotal: 16.7s\tremaining: 21s\n",
            "443:\tlearn: 0.0332364\ttotal: 16.8s\tremaining: 21s\n",
            "444:\tlearn: 0.0332124\ttotal: 16.8s\tremaining: 21s\n",
            "445:\tlearn: 0.0330845\ttotal: 16.9s\tremaining: 21s\n",
            "446:\tlearn: 0.0330403\ttotal: 16.9s\tremaining: 20.9s\n",
            "447:\tlearn: 0.0329620\ttotal: 17s\tremaining: 20.9s\n",
            "448:\tlearn: 0.0328828\ttotal: 17s\tremaining: 20.9s\n",
            "449:\tlearn: 0.0328393\ttotal: 17s\tremaining: 20.8s\n",
            "450:\tlearn: 0.0327809\ttotal: 17.1s\tremaining: 20.8s\n",
            "451:\tlearn: 0.0327142\ttotal: 17.1s\tremaining: 20.7s\n",
            "452:\tlearn: 0.0325602\ttotal: 17.1s\tremaining: 20.7s\n",
            "453:\tlearn: 0.0324660\ttotal: 17.2s\tremaining: 20.7s\n",
            "454:\tlearn: 0.0323664\ttotal: 17.2s\tremaining: 20.6s\n",
            "455:\tlearn: 0.0323111\ttotal: 17.3s\tremaining: 20.6s\n",
            "456:\tlearn: 0.0322796\ttotal: 17.3s\tremaining: 20.6s\n",
            "457:\tlearn: 0.0322307\ttotal: 17.3s\tremaining: 20.5s\n",
            "458:\tlearn: 0.0322053\ttotal: 17.4s\tremaining: 20.5s\n",
            "459:\tlearn: 0.0321448\ttotal: 17.4s\tremaining: 20.4s\n",
            "460:\tlearn: 0.0320877\ttotal: 17.4s\tremaining: 20.4s\n",
            "461:\tlearn: 0.0319931\ttotal: 17.5s\tremaining: 20.4s\n",
            "462:\tlearn: 0.0319661\ttotal: 17.5s\tremaining: 20.3s\n",
            "463:\tlearn: 0.0319106\ttotal: 17.6s\tremaining: 20.3s\n",
            "464:\tlearn: 0.0318066\ttotal: 17.6s\tremaining: 20.3s\n",
            "465:\tlearn: 0.0317676\ttotal: 17.7s\tremaining: 20.2s\n",
            "466:\tlearn: 0.0316946\ttotal: 17.7s\tremaining: 20.2s\n",
            "467:\tlearn: 0.0315767\ttotal: 17.7s\tremaining: 20.2s\n",
            "468:\tlearn: 0.0315288\ttotal: 17.8s\tremaining: 20.1s\n",
            "469:\tlearn: 0.0314684\ttotal: 17.8s\tremaining: 20.1s\n",
            "470:\tlearn: 0.0313855\ttotal: 17.8s\tremaining: 20s\n",
            "471:\tlearn: 0.0313069\ttotal: 17.9s\tremaining: 20s\n",
            "472:\tlearn: 0.0311690\ttotal: 17.9s\tremaining: 20s\n",
            "473:\tlearn: 0.0310996\ttotal: 18s\tremaining: 19.9s\n",
            "474:\tlearn: 0.0310306\ttotal: 18s\tremaining: 19.9s\n",
            "475:\tlearn: 0.0309714\ttotal: 18s\tremaining: 19.9s\n",
            "476:\tlearn: 0.0309060\ttotal: 18.1s\tremaining: 19.8s\n",
            "477:\tlearn: 0.0307994\ttotal: 18.1s\tremaining: 19.8s\n",
            "478:\tlearn: 0.0307117\ttotal: 18.2s\tremaining: 19.7s\n",
            "479:\tlearn: 0.0306400\ttotal: 18.2s\tremaining: 19.7s\n",
            "480:\tlearn: 0.0305593\ttotal: 18.2s\tremaining: 19.7s\n",
            "481:\tlearn: 0.0304557\ttotal: 18.3s\tremaining: 19.6s\n",
            "482:\tlearn: 0.0303964\ttotal: 18.3s\tremaining: 19.6s\n",
            "483:\tlearn: 0.0303561\ttotal: 18.4s\tremaining: 19.6s\n",
            "484:\tlearn: 0.0303129\ttotal: 18.4s\tremaining: 19.5s\n",
            "485:\tlearn: 0.0302437\ttotal: 18.4s\tremaining: 19.5s\n",
            "486:\tlearn: 0.0301965\ttotal: 18.5s\tremaining: 19.5s\n",
            "487:\tlearn: 0.0301317\ttotal: 18.5s\tremaining: 19.4s\n",
            "488:\tlearn: 0.0301180\ttotal: 18.5s\tremaining: 19.4s\n",
            "489:\tlearn: 0.0300564\ttotal: 18.6s\tremaining: 19.3s\n",
            "490:\tlearn: 0.0300167\ttotal: 18.6s\tremaining: 19.3s\n",
            "491:\tlearn: 0.0298813\ttotal: 18.7s\tremaining: 19.3s\n",
            "492:\tlearn: 0.0297744\ttotal: 18.7s\tremaining: 19.2s\n",
            "493:\tlearn: 0.0296894\ttotal: 18.7s\tremaining: 19.2s\n",
            "494:\tlearn: 0.0296128\ttotal: 18.8s\tremaining: 19.2s\n",
            "495:\tlearn: 0.0295053\ttotal: 18.8s\tremaining: 19.1s\n",
            "496:\tlearn: 0.0294111\ttotal: 18.9s\tremaining: 19.1s\n",
            "497:\tlearn: 0.0292976\ttotal: 18.9s\tremaining: 19s\n",
            "498:\tlearn: 0.0291905\ttotal: 18.9s\tremaining: 19s\n",
            "499:\tlearn: 0.0291253\ttotal: 19s\tremaining: 19s\n",
            "500:\tlearn: 0.0290797\ttotal: 19s\tremaining: 18.9s\n",
            "501:\tlearn: 0.0290169\ttotal: 19.1s\tremaining: 18.9s\n",
            "502:\tlearn: 0.0289763\ttotal: 19.1s\tremaining: 18.9s\n",
            "503:\tlearn: 0.0289298\ttotal: 19.1s\tremaining: 18.8s\n",
            "504:\tlearn: 0.0288767\ttotal: 19.2s\tremaining: 18.8s\n",
            "505:\tlearn: 0.0287889\ttotal: 19.2s\tremaining: 18.8s\n",
            "506:\tlearn: 0.0287224\ttotal: 19.3s\tremaining: 18.7s\n",
            "507:\tlearn: 0.0286849\ttotal: 19.3s\tremaining: 18.7s\n",
            "508:\tlearn: 0.0286110\ttotal: 19.3s\tremaining: 18.6s\n",
            "509:\tlearn: 0.0285832\ttotal: 19.4s\tremaining: 18.6s\n",
            "510:\tlearn: 0.0284887\ttotal: 19.4s\tremaining: 18.6s\n",
            "511:\tlearn: 0.0283474\ttotal: 19.5s\tremaining: 18.5s\n",
            "512:\tlearn: 0.0282820\ttotal: 19.5s\tremaining: 18.5s\n",
            "513:\tlearn: 0.0282203\ttotal: 19.5s\tremaining: 18.5s\n",
            "514:\tlearn: 0.0281553\ttotal: 19.6s\tremaining: 18.4s\n",
            "515:\tlearn: 0.0281166\ttotal: 19.6s\tremaining: 18.4s\n",
            "516:\tlearn: 0.0280471\ttotal: 19.7s\tremaining: 18.4s\n",
            "517:\tlearn: 0.0279456\ttotal: 19.7s\tremaining: 18.3s\n",
            "518:\tlearn: 0.0278780\ttotal: 19.7s\tremaining: 18.3s\n",
            "519:\tlearn: 0.0278392\ttotal: 19.8s\tremaining: 18.2s\n",
            "520:\tlearn: 0.0277493\ttotal: 19.8s\tremaining: 18.2s\n",
            "521:\tlearn: 0.0276676\ttotal: 19.8s\tremaining: 18.2s\n",
            "522:\tlearn: 0.0275958\ttotal: 19.9s\tremaining: 18.1s\n",
            "523:\tlearn: 0.0275632\ttotal: 19.9s\tremaining: 18.1s\n",
            "524:\tlearn: 0.0275052\ttotal: 20s\tremaining: 18.1s\n",
            "525:\tlearn: 0.0274788\ttotal: 20s\tremaining: 18s\n",
            "526:\tlearn: 0.0274207\ttotal: 20s\tremaining: 18s\n",
            "527:\tlearn: 0.0273584\ttotal: 20.1s\tremaining: 18s\n",
            "528:\tlearn: 0.0272910\ttotal: 20.1s\tremaining: 17.9s\n",
            "529:\tlearn: 0.0272367\ttotal: 20.2s\tremaining: 17.9s\n",
            "530:\tlearn: 0.0271840\ttotal: 20.2s\tremaining: 17.8s\n",
            "531:\tlearn: 0.0271471\ttotal: 20.2s\tremaining: 17.8s\n",
            "532:\tlearn: 0.0271085\ttotal: 20.3s\tremaining: 17.8s\n",
            "533:\tlearn: 0.0270944\ttotal: 20.3s\tremaining: 17.7s\n",
            "534:\tlearn: 0.0270332\ttotal: 20.4s\tremaining: 17.7s\n",
            "535:\tlearn: 0.0269739\ttotal: 20.4s\tremaining: 17.7s\n",
            "536:\tlearn: 0.0269541\ttotal: 20.4s\tremaining: 17.6s\n",
            "537:\tlearn: 0.0268855\ttotal: 20.5s\tremaining: 17.6s\n",
            "538:\tlearn: 0.0268638\ttotal: 20.5s\tremaining: 17.5s\n",
            "539:\tlearn: 0.0267987\ttotal: 20.6s\tremaining: 17.5s\n",
            "540:\tlearn: 0.0267867\ttotal: 20.6s\tremaining: 17.5s\n",
            "541:\tlearn: 0.0267153\ttotal: 20.6s\tremaining: 17.4s\n",
            "542:\tlearn: 0.0266619\ttotal: 20.7s\tremaining: 17.4s\n",
            "543:\tlearn: 0.0266157\ttotal: 20.7s\tremaining: 17.4s\n",
            "544:\tlearn: 0.0265476\ttotal: 20.8s\tremaining: 17.3s\n",
            "545:\tlearn: 0.0264154\ttotal: 20.8s\tremaining: 17.3s\n",
            "546:\tlearn: 0.0263700\ttotal: 20.8s\tremaining: 17.3s\n",
            "547:\tlearn: 0.0263600\ttotal: 20.9s\tremaining: 17.2s\n",
            "548:\tlearn: 0.0263343\ttotal: 20.9s\tremaining: 17.2s\n",
            "549:\tlearn: 0.0262726\ttotal: 21s\tremaining: 17.1s\n",
            "550:\tlearn: 0.0262104\ttotal: 21s\tremaining: 17.1s\n",
            "551:\tlearn: 0.0261863\ttotal: 21s\tremaining: 17.1s\n",
            "552:\tlearn: 0.0261427\ttotal: 21.1s\tremaining: 17s\n",
            "553:\tlearn: 0.0260981\ttotal: 21.1s\tremaining: 17s\n",
            "554:\tlearn: 0.0260653\ttotal: 21.2s\tremaining: 17s\n",
            "555:\tlearn: 0.0260332\ttotal: 21.2s\tremaining: 16.9s\n",
            "556:\tlearn: 0.0260068\ttotal: 21.2s\tremaining: 16.9s\n",
            "557:\tlearn: 0.0259206\ttotal: 21.3s\tremaining: 16.8s\n",
            "558:\tlearn: 0.0258065\ttotal: 21.3s\tremaining: 16.8s\n",
            "559:\tlearn: 0.0257820\ttotal: 21.4s\tremaining: 16.8s\n",
            "560:\tlearn: 0.0257500\ttotal: 21.4s\tremaining: 16.7s\n",
            "561:\tlearn: 0.0256685\ttotal: 21.4s\tremaining: 16.7s\n",
            "562:\tlearn: 0.0256181\ttotal: 21.5s\tremaining: 16.7s\n",
            "563:\tlearn: 0.0255508\ttotal: 21.5s\tremaining: 16.6s\n",
            "564:\tlearn: 0.0255164\ttotal: 21.6s\tremaining: 16.6s\n",
            "565:\tlearn: 0.0254511\ttotal: 21.6s\tremaining: 16.6s\n",
            "566:\tlearn: 0.0254115\ttotal: 21.6s\tremaining: 16.5s\n",
            "567:\tlearn: 0.0253351\ttotal: 21.7s\tremaining: 16.5s\n",
            "568:\tlearn: 0.0253057\ttotal: 21.7s\tremaining: 16.4s\n",
            "569:\tlearn: 0.0252650\ttotal: 21.8s\tremaining: 16.4s\n",
            "570:\tlearn: 0.0251788\ttotal: 21.8s\tremaining: 16.4s\n",
            "571:\tlearn: 0.0251230\ttotal: 21.8s\tremaining: 16.3s\n",
            "572:\tlearn: 0.0250202\ttotal: 21.9s\tremaining: 16.3s\n",
            "573:\tlearn: 0.0249542\ttotal: 21.9s\tremaining: 16.3s\n",
            "574:\tlearn: 0.0249264\ttotal: 22s\tremaining: 16.2s\n",
            "575:\tlearn: 0.0248946\ttotal: 22s\tremaining: 16.2s\n",
            "576:\tlearn: 0.0248482\ttotal: 22s\tremaining: 16.2s\n",
            "577:\tlearn: 0.0248066\ttotal: 22.1s\tremaining: 16.1s\n",
            "578:\tlearn: 0.0247960\ttotal: 22.1s\tremaining: 16.1s\n",
            "579:\tlearn: 0.0247617\ttotal: 22.2s\tremaining: 16s\n",
            "580:\tlearn: 0.0247267\ttotal: 22.2s\tremaining: 16s\n",
            "581:\tlearn: 0.0246843\ttotal: 22.2s\tremaining: 16s\n",
            "582:\tlearn: 0.0246399\ttotal: 22.3s\tremaining: 15.9s\n",
            "583:\tlearn: 0.0246079\ttotal: 22.3s\tremaining: 15.9s\n",
            "584:\tlearn: 0.0245368\ttotal: 22.4s\tremaining: 15.9s\n",
            "585:\tlearn: 0.0245048\ttotal: 22.4s\tremaining: 15.8s\n",
            "586:\tlearn: 0.0244689\ttotal: 22.4s\tremaining: 15.8s\n",
            "587:\tlearn: 0.0244083\ttotal: 22.5s\tremaining: 15.7s\n",
            "588:\tlearn: 0.0243492\ttotal: 22.5s\tremaining: 15.7s\n",
            "589:\tlearn: 0.0242778\ttotal: 22.5s\tremaining: 15.7s\n",
            "590:\tlearn: 0.0242049\ttotal: 22.6s\tremaining: 15.6s\n",
            "591:\tlearn: 0.0241420\ttotal: 22.6s\tremaining: 15.6s\n",
            "592:\tlearn: 0.0240725\ttotal: 22.7s\tremaining: 15.6s\n",
            "593:\tlearn: 0.0239944\ttotal: 22.7s\tremaining: 15.5s\n",
            "594:\tlearn: 0.0239467\ttotal: 22.8s\tremaining: 15.5s\n",
            "595:\tlearn: 0.0238968\ttotal: 22.8s\tremaining: 15.4s\n",
            "596:\tlearn: 0.0238447\ttotal: 22.8s\tremaining: 15.4s\n",
            "597:\tlearn: 0.0238055\ttotal: 22.9s\tremaining: 15.4s\n",
            "598:\tlearn: 0.0237886\ttotal: 22.9s\tremaining: 15.3s\n",
            "599:\tlearn: 0.0237445\ttotal: 23s\tremaining: 15.3s\n",
            "600:\tlearn: 0.0236531\ttotal: 23s\tremaining: 15.3s\n",
            "601:\tlearn: 0.0236256\ttotal: 23s\tremaining: 15.2s\n",
            "602:\tlearn: 0.0235899\ttotal: 23.1s\tremaining: 15.2s\n",
            "603:\tlearn: 0.0235724\ttotal: 23.1s\tremaining: 15.1s\n",
            "604:\tlearn: 0.0235397\ttotal: 23.1s\tremaining: 15.1s\n",
            "605:\tlearn: 0.0234856\ttotal: 23.2s\tremaining: 15.1s\n",
            "606:\tlearn: 0.0234472\ttotal: 23.2s\tremaining: 15s\n",
            "607:\tlearn: 0.0233514\ttotal: 23.2s\tremaining: 15s\n",
            "608:\tlearn: 0.0232944\ttotal: 23.3s\tremaining: 14.9s\n",
            "609:\tlearn: 0.0232357\ttotal: 23.3s\tremaining: 14.9s\n",
            "610:\tlearn: 0.0231945\ttotal: 23.4s\tremaining: 14.9s\n",
            "611:\tlearn: 0.0231569\ttotal: 23.4s\tremaining: 14.8s\n",
            "612:\tlearn: 0.0231394\ttotal: 23.4s\tremaining: 14.8s\n",
            "613:\tlearn: 0.0230369\ttotal: 23.5s\tremaining: 14.8s\n",
            "614:\tlearn: 0.0230202\ttotal: 23.5s\tremaining: 14.7s\n",
            "615:\tlearn: 0.0229166\ttotal: 23.5s\tremaining: 14.7s\n",
            "616:\tlearn: 0.0228932\ttotal: 23.6s\tremaining: 14.6s\n",
            "617:\tlearn: 0.0228214\ttotal: 23.6s\tremaining: 14.6s\n",
            "618:\tlearn: 0.0227389\ttotal: 23.7s\tremaining: 14.6s\n",
            "619:\tlearn: 0.0227237\ttotal: 23.7s\tremaining: 14.5s\n",
            "620:\tlearn: 0.0226890\ttotal: 23.7s\tremaining: 14.5s\n",
            "621:\tlearn: 0.0226475\ttotal: 23.8s\tremaining: 14.4s\n",
            "622:\tlearn: 0.0225920\ttotal: 23.8s\tremaining: 14.4s\n",
            "623:\tlearn: 0.0225662\ttotal: 23.9s\tremaining: 14.4s\n",
            "624:\tlearn: 0.0225403\ttotal: 23.9s\tremaining: 14.3s\n",
            "625:\tlearn: 0.0224613\ttotal: 23.9s\tremaining: 14.3s\n",
            "626:\tlearn: 0.0224317\ttotal: 24s\tremaining: 14.3s\n",
            "627:\tlearn: 0.0223545\ttotal: 24s\tremaining: 14.2s\n",
            "628:\tlearn: 0.0223319\ttotal: 24s\tremaining: 14.2s\n",
            "629:\tlearn: 0.0223201\ttotal: 24.1s\tremaining: 14.1s\n",
            "630:\tlearn: 0.0222768\ttotal: 24.1s\tremaining: 14.1s\n",
            "631:\tlearn: 0.0222359\ttotal: 24.2s\tremaining: 14.1s\n",
            "632:\tlearn: 0.0221986\ttotal: 24.2s\tremaining: 14s\n",
            "633:\tlearn: 0.0221696\ttotal: 24.2s\tremaining: 14s\n",
            "634:\tlearn: 0.0220935\ttotal: 24.3s\tremaining: 13.9s\n",
            "635:\tlearn: 0.0220661\ttotal: 24.3s\tremaining: 13.9s\n",
            "636:\tlearn: 0.0220108\ttotal: 24.3s\tremaining: 13.9s\n",
            "637:\tlearn: 0.0219813\ttotal: 24.4s\tremaining: 13.8s\n",
            "638:\tlearn: 0.0219294\ttotal: 24.4s\tremaining: 13.8s\n",
            "639:\tlearn: 0.0218891\ttotal: 24.4s\tremaining: 13.7s\n",
            "640:\tlearn: 0.0218523\ttotal: 24.5s\tremaining: 13.7s\n",
            "641:\tlearn: 0.0217941\ttotal: 24.5s\tremaining: 13.7s\n",
            "642:\tlearn: 0.0217512\ttotal: 24.5s\tremaining: 13.6s\n",
            "643:\tlearn: 0.0216811\ttotal: 24.6s\tremaining: 13.6s\n",
            "644:\tlearn: 0.0216538\ttotal: 24.6s\tremaining: 13.6s\n",
            "645:\tlearn: 0.0216159\ttotal: 24.7s\tremaining: 13.5s\n",
            "646:\tlearn: 0.0215231\ttotal: 24.7s\tremaining: 13.5s\n",
            "647:\tlearn: 0.0214891\ttotal: 24.8s\tremaining: 13.4s\n",
            "648:\tlearn: 0.0214583\ttotal: 24.8s\tremaining: 13.4s\n",
            "649:\tlearn: 0.0213718\ttotal: 24.8s\tremaining: 13.4s\n",
            "650:\tlearn: 0.0213102\ttotal: 24.9s\tremaining: 13.3s\n",
            "651:\tlearn: 0.0212653\ttotal: 24.9s\tremaining: 13.3s\n",
            "652:\tlearn: 0.0211906\ttotal: 24.9s\tremaining: 13.2s\n",
            "653:\tlearn: 0.0211510\ttotal: 25s\tremaining: 13.2s\n",
            "654:\tlearn: 0.0210682\ttotal: 25s\tremaining: 13.2s\n",
            "655:\tlearn: 0.0210277\ttotal: 25s\tremaining: 13.1s\n",
            "656:\tlearn: 0.0209665\ttotal: 25.1s\tremaining: 13.1s\n",
            "657:\tlearn: 0.0208958\ttotal: 25.1s\tremaining: 13.1s\n",
            "658:\tlearn: 0.0208540\ttotal: 25.2s\tremaining: 13s\n",
            "659:\tlearn: 0.0208007\ttotal: 25.2s\tremaining: 13s\n",
            "660:\tlearn: 0.0207382\ttotal: 25.2s\tremaining: 12.9s\n",
            "661:\tlearn: 0.0207189\ttotal: 25.3s\tremaining: 12.9s\n",
            "662:\tlearn: 0.0206762\ttotal: 25.3s\tremaining: 12.9s\n",
            "663:\tlearn: 0.0206451\ttotal: 25.3s\tremaining: 12.8s\n",
            "664:\tlearn: 0.0205749\ttotal: 25.4s\tremaining: 12.8s\n",
            "665:\tlearn: 0.0205526\ttotal: 25.4s\tremaining: 12.7s\n",
            "666:\tlearn: 0.0204604\ttotal: 25.5s\tremaining: 12.7s\n",
            "667:\tlearn: 0.0204135\ttotal: 25.5s\tremaining: 12.7s\n",
            "668:\tlearn: 0.0203826\ttotal: 25.5s\tremaining: 12.6s\n",
            "669:\tlearn: 0.0203517\ttotal: 25.6s\tremaining: 12.6s\n",
            "670:\tlearn: 0.0203186\ttotal: 25.6s\tremaining: 12.6s\n",
            "671:\tlearn: 0.0202879\ttotal: 25.7s\tremaining: 12.5s\n",
            "672:\tlearn: 0.0202520\ttotal: 25.7s\tremaining: 12.5s\n",
            "673:\tlearn: 0.0202423\ttotal: 25.7s\tremaining: 12.4s\n",
            "674:\tlearn: 0.0201790\ttotal: 25.8s\tremaining: 12.4s\n",
            "675:\tlearn: 0.0201354\ttotal: 25.8s\tremaining: 12.4s\n",
            "676:\tlearn: 0.0200609\ttotal: 25.8s\tremaining: 12.3s\n",
            "677:\tlearn: 0.0200177\ttotal: 25.9s\tremaining: 12.3s\n",
            "678:\tlearn: 0.0199938\ttotal: 25.9s\tremaining: 12.3s\n",
            "679:\tlearn: 0.0199756\ttotal: 26s\tremaining: 12.2s\n",
            "680:\tlearn: 0.0199699\ttotal: 26s\tremaining: 12.2s\n",
            "681:\tlearn: 0.0199072\ttotal: 26s\tremaining: 12.1s\n",
            "682:\tlearn: 0.0198800\ttotal: 26.1s\tremaining: 12.1s\n",
            "683:\tlearn: 0.0198488\ttotal: 26.1s\tremaining: 12.1s\n",
            "684:\tlearn: 0.0198128\ttotal: 26.1s\tremaining: 12s\n",
            "685:\tlearn: 0.0197926\ttotal: 26.2s\tremaining: 12s\n",
            "686:\tlearn: 0.0197587\ttotal: 26.2s\tremaining: 11.9s\n",
            "687:\tlearn: 0.0197201\ttotal: 26.2s\tremaining: 11.9s\n",
            "688:\tlearn: 0.0196444\ttotal: 26.3s\tremaining: 11.9s\n",
            "689:\tlearn: 0.0196067\ttotal: 26.3s\tremaining: 11.8s\n",
            "690:\tlearn: 0.0195445\ttotal: 26.4s\tremaining: 11.8s\n",
            "691:\tlearn: 0.0195187\ttotal: 26.4s\tremaining: 11.7s\n",
            "692:\tlearn: 0.0195071\ttotal: 26.4s\tremaining: 11.7s\n",
            "693:\tlearn: 0.0194559\ttotal: 26.5s\tremaining: 11.7s\n",
            "694:\tlearn: 0.0194203\ttotal: 26.5s\tremaining: 11.6s\n",
            "695:\tlearn: 0.0193833\ttotal: 26.5s\tremaining: 11.6s\n",
            "696:\tlearn: 0.0193468\ttotal: 26.6s\tremaining: 11.6s\n",
            "697:\tlearn: 0.0193169\ttotal: 26.6s\tremaining: 11.5s\n",
            "698:\tlearn: 0.0193059\ttotal: 26.7s\tremaining: 11.5s\n",
            "699:\tlearn: 0.0192613\ttotal: 26.7s\tremaining: 11.4s\n",
            "700:\tlearn: 0.0192425\ttotal: 26.7s\tremaining: 11.4s\n",
            "701:\tlearn: 0.0192078\ttotal: 26.8s\tremaining: 11.4s\n",
            "702:\tlearn: 0.0191613\ttotal: 26.8s\tremaining: 11.3s\n",
            "703:\tlearn: 0.0191285\ttotal: 26.8s\tremaining: 11.3s\n",
            "704:\tlearn: 0.0190992\ttotal: 26.9s\tremaining: 11.2s\n",
            "705:\tlearn: 0.0190773\ttotal: 26.9s\tremaining: 11.2s\n",
            "706:\tlearn: 0.0190352\ttotal: 27s\tremaining: 11.2s\n",
            "707:\tlearn: 0.0190138\ttotal: 27s\tremaining: 11.1s\n",
            "708:\tlearn: 0.0189461\ttotal: 27.1s\tremaining: 11.1s\n",
            "709:\tlearn: 0.0188967\ttotal: 27.1s\tremaining: 11.1s\n",
            "710:\tlearn: 0.0188647\ttotal: 27.1s\tremaining: 11s\n",
            "711:\tlearn: 0.0188270\ttotal: 27.2s\tremaining: 11s\n",
            "712:\tlearn: 0.0188136\ttotal: 27.2s\tremaining: 10.9s\n",
            "713:\tlearn: 0.0187701\ttotal: 27.2s\tremaining: 10.9s\n",
            "714:\tlearn: 0.0186802\ttotal: 27.3s\tremaining: 10.9s\n",
            "715:\tlearn: 0.0186497\ttotal: 27.3s\tremaining: 10.8s\n",
            "716:\tlearn: 0.0185925\ttotal: 27.3s\tremaining: 10.8s\n",
            "717:\tlearn: 0.0185618\ttotal: 27.4s\tremaining: 10.8s\n",
            "718:\tlearn: 0.0185310\ttotal: 27.4s\tremaining: 10.7s\n",
            "719:\tlearn: 0.0184944\ttotal: 27.4s\tremaining: 10.7s\n",
            "720:\tlearn: 0.0184628\ttotal: 27.5s\tremaining: 10.6s\n",
            "721:\tlearn: 0.0184404\ttotal: 27.5s\tremaining: 10.6s\n",
            "722:\tlearn: 0.0184129\ttotal: 27.6s\tremaining: 10.6s\n",
            "723:\tlearn: 0.0183973\ttotal: 27.6s\tremaining: 10.5s\n",
            "724:\tlearn: 0.0183641\ttotal: 27.6s\tremaining: 10.5s\n",
            "725:\tlearn: 0.0183413\ttotal: 27.7s\tremaining: 10.4s\n",
            "726:\tlearn: 0.0183086\ttotal: 27.7s\tremaining: 10.4s\n",
            "727:\tlearn: 0.0182779\ttotal: 27.8s\tremaining: 10.4s\n",
            "728:\tlearn: 0.0182621\ttotal: 27.8s\tremaining: 10.3s\n",
            "729:\tlearn: 0.0182312\ttotal: 27.8s\tremaining: 10.3s\n",
            "730:\tlearn: 0.0182078\ttotal: 27.9s\tremaining: 10.3s\n",
            "731:\tlearn: 0.0181821\ttotal: 27.9s\tremaining: 10.2s\n",
            "732:\tlearn: 0.0181509\ttotal: 27.9s\tremaining: 10.2s\n",
            "733:\tlearn: 0.0181182\ttotal: 28s\tremaining: 10.1s\n",
            "734:\tlearn: 0.0180555\ttotal: 28s\tremaining: 10.1s\n",
            "735:\tlearn: 0.0180473\ttotal: 28.1s\tremaining: 10.1s\n",
            "736:\tlearn: 0.0179678\ttotal: 28.1s\tremaining: 10s\n",
            "737:\tlearn: 0.0179230\ttotal: 28.1s\tremaining: 9.99s\n",
            "738:\tlearn: 0.0178706\ttotal: 28.2s\tremaining: 9.95s\n",
            "739:\tlearn: 0.0178465\ttotal: 28.2s\tremaining: 9.91s\n",
            "740:\tlearn: 0.0178393\ttotal: 28.2s\tremaining: 9.87s\n",
            "741:\tlearn: 0.0178200\ttotal: 28.3s\tremaining: 9.83s\n",
            "742:\tlearn: 0.0178034\ttotal: 28.3s\tremaining: 9.79s\n",
            "743:\tlearn: 0.0177743\ttotal: 28.4s\tremaining: 9.76s\n",
            "744:\tlearn: 0.0177366\ttotal: 28.4s\tremaining: 9.72s\n",
            "745:\tlearn: 0.0176494\ttotal: 28.4s\tremaining: 9.68s\n",
            "746:\tlearn: 0.0176232\ttotal: 28.5s\tremaining: 9.64s\n",
            "747:\tlearn: 0.0175848\ttotal: 28.5s\tremaining: 9.6s\n",
            "748:\tlearn: 0.0175749\ttotal: 28.5s\tremaining: 9.56s\n",
            "749:\tlearn: 0.0175258\ttotal: 28.6s\tremaining: 9.53s\n",
            "750:\tlearn: 0.0175182\ttotal: 28.6s\tremaining: 9.49s\n",
            "751:\tlearn: 0.0174995\ttotal: 28.7s\tremaining: 9.45s\n",
            "752:\tlearn: 0.0174717\ttotal: 28.7s\tremaining: 9.41s\n",
            "753:\tlearn: 0.0174369\ttotal: 28.7s\tremaining: 9.38s\n",
            "754:\tlearn: 0.0173679\ttotal: 28.8s\tremaining: 9.34s\n",
            "755:\tlearn: 0.0173423\ttotal: 28.8s\tremaining: 9.3s\n",
            "756:\tlearn: 0.0173167\ttotal: 28.9s\tremaining: 9.26s\n",
            "757:\tlearn: 0.0172873\ttotal: 28.9s\tremaining: 9.22s\n",
            "758:\tlearn: 0.0172693\ttotal: 28.9s\tremaining: 9.18s\n",
            "759:\tlearn: 0.0172118\ttotal: 29s\tremaining: 9.14s\n",
            "760:\tlearn: 0.0171219\ttotal: 29s\tremaining: 9.11s\n",
            "761:\tlearn: 0.0171047\ttotal: 29s\tremaining: 9.07s\n",
            "762:\tlearn: 0.0170720\ttotal: 29.1s\tremaining: 9.03s\n",
            "763:\tlearn: 0.0170562\ttotal: 29.1s\tremaining: 8.99s\n",
            "764:\tlearn: 0.0170260\ttotal: 29.1s\tremaining: 8.95s\n",
            "765:\tlearn: 0.0169793\ttotal: 29.2s\tremaining: 8.91s\n",
            "766:\tlearn: 0.0169515\ttotal: 29.2s\tremaining: 8.88s\n",
            "767:\tlearn: 0.0169294\ttotal: 29.3s\tremaining: 8.84s\n",
            "768:\tlearn: 0.0169036\ttotal: 29.3s\tremaining: 8.8s\n",
            "769:\tlearn: 0.0168548\ttotal: 29.3s\tremaining: 8.76s\n",
            "770:\tlearn: 0.0168267\ttotal: 29.4s\tremaining: 8.72s\n",
            "771:\tlearn: 0.0167929\ttotal: 29.4s\tremaining: 8.68s\n",
            "772:\tlearn: 0.0167728\ttotal: 29.4s\tremaining: 8.64s\n",
            "773:\tlearn: 0.0166921\ttotal: 29.5s\tremaining: 8.61s\n",
            "774:\tlearn: 0.0166756\ttotal: 29.5s\tremaining: 8.57s\n",
            "775:\tlearn: 0.0166618\ttotal: 29.6s\tremaining: 8.53s\n",
            "776:\tlearn: 0.0166511\ttotal: 29.6s\tremaining: 8.49s\n",
            "777:\tlearn: 0.0166374\ttotal: 29.6s\tremaining: 8.46s\n",
            "778:\tlearn: 0.0166208\ttotal: 29.7s\tremaining: 8.42s\n",
            "779:\tlearn: 0.0165819\ttotal: 29.7s\tremaining: 8.38s\n",
            "780:\tlearn: 0.0165656\ttotal: 29.8s\tremaining: 8.35s\n",
            "781:\tlearn: 0.0165571\ttotal: 29.8s\tremaining: 8.31s\n",
            "782:\tlearn: 0.0165096\ttotal: 29.8s\tremaining: 8.27s\n",
            "783:\tlearn: 0.0164754\ttotal: 29.9s\tremaining: 8.23s\n",
            "784:\tlearn: 0.0164711\ttotal: 29.9s\tremaining: 8.19s\n",
            "785:\tlearn: 0.0164367\ttotal: 30s\tremaining: 8.15s\n",
            "786:\tlearn: 0.0163720\ttotal: 30s\tremaining: 8.12s\n",
            "787:\tlearn: 0.0163473\ttotal: 30s\tremaining: 8.08s\n",
            "788:\tlearn: 0.0163251\ttotal: 30.1s\tremaining: 8.04s\n",
            "789:\tlearn: 0.0162729\ttotal: 30.1s\tremaining: 8s\n",
            "790:\tlearn: 0.0162582\ttotal: 30.1s\tremaining: 7.96s\n",
            "791:\tlearn: 0.0162448\ttotal: 30.2s\tremaining: 7.93s\n",
            "792:\tlearn: 0.0161862\ttotal: 30.2s\tremaining: 7.89s\n",
            "793:\tlearn: 0.0161301\ttotal: 30.3s\tremaining: 7.85s\n",
            "794:\tlearn: 0.0161154\ttotal: 30.3s\tremaining: 7.81s\n",
            "795:\tlearn: 0.0160848\ttotal: 30.3s\tremaining: 7.77s\n",
            "796:\tlearn: 0.0160062\ttotal: 30.4s\tremaining: 7.73s\n",
            "797:\tlearn: 0.0159863\ttotal: 30.4s\tremaining: 7.7s\n",
            "798:\tlearn: 0.0159634\ttotal: 30.4s\tremaining: 7.66s\n",
            "799:\tlearn: 0.0159323\ttotal: 30.5s\tremaining: 7.62s\n",
            "800:\tlearn: 0.0159170\ttotal: 30.5s\tremaining: 7.58s\n",
            "801:\tlearn: 0.0158291\ttotal: 30.6s\tremaining: 7.54s\n",
            "802:\tlearn: 0.0157587\ttotal: 30.6s\tremaining: 7.5s\n",
            "803:\tlearn: 0.0157386\ttotal: 30.6s\tremaining: 7.47s\n",
            "804:\tlearn: 0.0157177\ttotal: 30.7s\tremaining: 7.43s\n",
            "805:\tlearn: 0.0157080\ttotal: 30.7s\tremaining: 7.39s\n",
            "806:\tlearn: 0.0156652\ttotal: 30.7s\tremaining: 7.35s\n",
            "807:\tlearn: 0.0156400\ttotal: 30.8s\tremaining: 7.31s\n",
            "808:\tlearn: 0.0156298\ttotal: 30.8s\tremaining: 7.28s\n",
            "809:\tlearn: 0.0156150\ttotal: 30.9s\tremaining: 7.24s\n",
            "810:\tlearn: 0.0155785\ttotal: 30.9s\tremaining: 7.2s\n",
            "811:\tlearn: 0.0155637\ttotal: 30.9s\tremaining: 7.16s\n",
            "812:\tlearn: 0.0155408\ttotal: 31s\tremaining: 7.12s\n",
            "813:\tlearn: 0.0155175\ttotal: 31s\tremaining: 7.08s\n",
            "814:\tlearn: 0.0155036\ttotal: 31s\tremaining: 7.05s\n",
            "815:\tlearn: 0.0154783\ttotal: 31.1s\tremaining: 7.01s\n",
            "816:\tlearn: 0.0154653\ttotal: 31.1s\tremaining: 6.97s\n",
            "817:\tlearn: 0.0154450\ttotal: 31.2s\tremaining: 6.93s\n",
            "818:\tlearn: 0.0154330\ttotal: 31.2s\tremaining: 6.89s\n",
            "819:\tlearn: 0.0154164\ttotal: 31.2s\tremaining: 6.86s\n",
            "820:\tlearn: 0.0153910\ttotal: 31.3s\tremaining: 6.82s\n",
            "821:\tlearn: 0.0153823\ttotal: 31.3s\tremaining: 6.78s\n",
            "822:\tlearn: 0.0153769\ttotal: 31.4s\tremaining: 6.74s\n",
            "823:\tlearn: 0.0153612\ttotal: 31.4s\tremaining: 6.7s\n",
            "824:\tlearn: 0.0153382\ttotal: 31.4s\tremaining: 6.67s\n",
            "825:\tlearn: 0.0153166\ttotal: 31.5s\tremaining: 6.63s\n",
            "826:\tlearn: 0.0152774\ttotal: 31.5s\tremaining: 6.59s\n",
            "827:\tlearn: 0.0152635\ttotal: 31.5s\tremaining: 6.55s\n",
            "828:\tlearn: 0.0152505\ttotal: 31.6s\tremaining: 6.51s\n",
            "829:\tlearn: 0.0152095\ttotal: 31.6s\tremaining: 6.47s\n",
            "830:\tlearn: 0.0151662\ttotal: 31.6s\tremaining: 6.44s\n",
            "831:\tlearn: 0.0151566\ttotal: 31.7s\tremaining: 6.4s\n",
            "832:\tlearn: 0.0151179\ttotal: 31.7s\tremaining: 6.36s\n",
            "833:\tlearn: 0.0151066\ttotal: 31.8s\tremaining: 6.32s\n",
            "834:\tlearn: 0.0150972\ttotal: 31.8s\tremaining: 6.29s\n",
            "835:\tlearn: 0.0150798\ttotal: 31.9s\tremaining: 6.25s\n",
            "836:\tlearn: 0.0150603\ttotal: 31.9s\tremaining: 6.21s\n",
            "837:\tlearn: 0.0150235\ttotal: 31.9s\tremaining: 6.17s\n",
            "838:\tlearn: 0.0150026\ttotal: 32s\tremaining: 6.13s\n",
            "839:\tlearn: 0.0149997\ttotal: 32s\tremaining: 6.1s\n",
            "840:\tlearn: 0.0149803\ttotal: 32s\tremaining: 6.06s\n",
            "841:\tlearn: 0.0149656\ttotal: 32.1s\tremaining: 6.02s\n",
            "842:\tlearn: 0.0149525\ttotal: 32.1s\tremaining: 5.98s\n",
            "843:\tlearn: 0.0149350\ttotal: 32.1s\tremaining: 5.94s\n",
            "844:\tlearn: 0.0149201\ttotal: 32.2s\tremaining: 5.9s\n",
            "845:\tlearn: 0.0149028\ttotal: 32.2s\tremaining: 5.87s\n",
            "846:\tlearn: 0.0149000\ttotal: 32.3s\tremaining: 5.83s\n",
            "847:\tlearn: 0.0148613\ttotal: 32.3s\tremaining: 5.79s\n",
            "848:\tlearn: 0.0148523\ttotal: 32.3s\tremaining: 5.75s\n",
            "849:\tlearn: 0.0148052\ttotal: 32.4s\tremaining: 5.71s\n",
            "850:\tlearn: 0.0147841\ttotal: 32.4s\tremaining: 5.67s\n",
            "851:\tlearn: 0.0147665\ttotal: 32.5s\tremaining: 5.64s\n",
            "852:\tlearn: 0.0147463\ttotal: 32.5s\tremaining: 5.6s\n",
            "853:\tlearn: 0.0147219\ttotal: 32.5s\tremaining: 5.56s\n",
            "854:\tlearn: 0.0146739\ttotal: 32.6s\tremaining: 5.52s\n",
            "855:\tlearn: 0.0146640\ttotal: 32.6s\tremaining: 5.48s\n",
            "856:\tlearn: 0.0146466\ttotal: 32.6s\tremaining: 5.45s\n",
            "857:\tlearn: 0.0146375\ttotal: 32.7s\tremaining: 5.41s\n",
            "858:\tlearn: 0.0146016\ttotal: 32.7s\tremaining: 5.37s\n",
            "859:\tlearn: 0.0145840\ttotal: 32.8s\tremaining: 5.33s\n",
            "860:\tlearn: 0.0145601\ttotal: 32.8s\tremaining: 5.29s\n",
            "861:\tlearn: 0.0145534\ttotal: 32.8s\tremaining: 5.26s\n",
            "862:\tlearn: 0.0145383\ttotal: 32.9s\tremaining: 5.22s\n",
            "863:\tlearn: 0.0144816\ttotal: 32.9s\tremaining: 5.18s\n",
            "864:\tlearn: 0.0144306\ttotal: 32.9s\tremaining: 5.14s\n",
            "865:\tlearn: 0.0143762\ttotal: 33s\tremaining: 5.11s\n",
            "866:\tlearn: 0.0143670\ttotal: 33s\tremaining: 5.07s\n",
            "867:\tlearn: 0.0143600\ttotal: 33.1s\tremaining: 5.03s\n",
            "868:\tlearn: 0.0143446\ttotal: 33.1s\tremaining: 4.99s\n",
            "869:\tlearn: 0.0143218\ttotal: 33.1s\tremaining: 4.95s\n",
            "870:\tlearn: 0.0142833\ttotal: 33.2s\tremaining: 4.91s\n",
            "871:\tlearn: 0.0142704\ttotal: 33.2s\tremaining: 4.88s\n",
            "872:\tlearn: 0.0142579\ttotal: 33.3s\tremaining: 4.84s\n",
            "873:\tlearn: 0.0142274\ttotal: 33.3s\tremaining: 4.8s\n",
            "874:\tlearn: 0.0142214\ttotal: 33.3s\tremaining: 4.76s\n",
            "875:\tlearn: 0.0141655\ttotal: 33.4s\tremaining: 4.72s\n",
            "876:\tlearn: 0.0140913\ttotal: 33.4s\tremaining: 4.68s\n",
            "877:\tlearn: 0.0140785\ttotal: 33.4s\tremaining: 4.65s\n",
            "878:\tlearn: 0.0140390\ttotal: 33.5s\tremaining: 4.61s\n",
            "879:\tlearn: 0.0140250\ttotal: 33.5s\tremaining: 4.57s\n",
            "880:\tlearn: 0.0140168\ttotal: 33.6s\tremaining: 4.53s\n",
            "881:\tlearn: 0.0139917\ttotal: 33.6s\tremaining: 4.5s\n",
            "882:\tlearn: 0.0139515\ttotal: 33.7s\tremaining: 4.46s\n",
            "883:\tlearn: 0.0139405\ttotal: 33.7s\tremaining: 4.42s\n",
            "884:\tlearn: 0.0139237\ttotal: 33.7s\tremaining: 4.38s\n",
            "885:\tlearn: 0.0139084\ttotal: 33.8s\tremaining: 4.34s\n",
            "886:\tlearn: 0.0139008\ttotal: 33.8s\tremaining: 4.31s\n",
            "887:\tlearn: 0.0138941\ttotal: 33.9s\tremaining: 4.27s\n",
            "888:\tlearn: 0.0138499\ttotal: 33.9s\tremaining: 4.23s\n",
            "889:\tlearn: 0.0138361\ttotal: 33.9s\tremaining: 4.19s\n",
            "890:\tlearn: 0.0138193\ttotal: 34s\tremaining: 4.15s\n",
            "891:\tlearn: 0.0138111\ttotal: 34s\tremaining: 4.12s\n",
            "892:\tlearn: 0.0137884\ttotal: 34s\tremaining: 4.08s\n",
            "893:\tlearn: 0.0137665\ttotal: 34.1s\tremaining: 4.04s\n",
            "894:\tlearn: 0.0137371\ttotal: 34.1s\tremaining: 4s\n",
            "895:\tlearn: 0.0137086\ttotal: 34.2s\tremaining: 3.96s\n",
            "896:\tlearn: 0.0136808\ttotal: 34.2s\tremaining: 3.93s\n",
            "897:\tlearn: 0.0136731\ttotal: 34.2s\tremaining: 3.89s\n",
            "898:\tlearn: 0.0136448\ttotal: 34.3s\tremaining: 3.85s\n",
            "899:\tlearn: 0.0135997\ttotal: 34.3s\tremaining: 3.81s\n",
            "900:\tlearn: 0.0135706\ttotal: 34.3s\tremaining: 3.77s\n",
            "901:\tlearn: 0.0135486\ttotal: 34.4s\tremaining: 3.73s\n",
            "902:\tlearn: 0.0135311\ttotal: 34.4s\tremaining: 3.7s\n",
            "903:\tlearn: 0.0134925\ttotal: 34.5s\tremaining: 3.66s\n",
            "904:\tlearn: 0.0134839\ttotal: 34.5s\tremaining: 3.62s\n",
            "905:\tlearn: 0.0134622\ttotal: 34.5s\tremaining: 3.58s\n",
            "906:\tlearn: 0.0134296\ttotal: 34.6s\tremaining: 3.54s\n",
            "907:\tlearn: 0.0134035\ttotal: 34.6s\tremaining: 3.51s\n",
            "908:\tlearn: 0.0133884\ttotal: 34.6s\tremaining: 3.47s\n",
            "909:\tlearn: 0.0133683\ttotal: 34.7s\tremaining: 3.43s\n",
            "910:\tlearn: 0.0133490\ttotal: 34.7s\tremaining: 3.39s\n",
            "911:\tlearn: 0.0133391\ttotal: 34.8s\tremaining: 3.35s\n",
            "912:\tlearn: 0.0133256\ttotal: 34.8s\tremaining: 3.32s\n",
            "913:\tlearn: 0.0133169\ttotal: 34.8s\tremaining: 3.28s\n",
            "914:\tlearn: 0.0132810\ttotal: 34.9s\tremaining: 3.24s\n",
            "915:\tlearn: 0.0132755\ttotal: 34.9s\tremaining: 3.2s\n",
            "916:\tlearn: 0.0132611\ttotal: 35s\tremaining: 3.16s\n",
            "917:\tlearn: 0.0132407\ttotal: 35s\tremaining: 3.13s\n",
            "918:\tlearn: 0.0132279\ttotal: 35s\tremaining: 3.09s\n",
            "919:\tlearn: 0.0132132\ttotal: 35.1s\tremaining: 3.05s\n",
            "920:\tlearn: 0.0131712\ttotal: 35.1s\tremaining: 3.01s\n",
            "921:\tlearn: 0.0131600\ttotal: 35.1s\tremaining: 2.97s\n",
            "922:\tlearn: 0.0131518\ttotal: 35.2s\tremaining: 2.93s\n",
            "923:\tlearn: 0.0131301\ttotal: 35.2s\tremaining: 2.9s\n",
            "924:\tlearn: 0.0131015\ttotal: 35.3s\tremaining: 2.86s\n",
            "925:\tlearn: 0.0130827\ttotal: 35.3s\tremaining: 2.82s\n",
            "926:\tlearn: 0.0130460\ttotal: 35.3s\tremaining: 2.78s\n",
            "927:\tlearn: 0.0130182\ttotal: 35.4s\tremaining: 2.74s\n",
            "928:\tlearn: 0.0130127\ttotal: 35.4s\tremaining: 2.71s\n",
            "929:\tlearn: 0.0129747\ttotal: 35.4s\tremaining: 2.67s\n",
            "930:\tlearn: 0.0129617\ttotal: 35.5s\tremaining: 2.63s\n",
            "931:\tlearn: 0.0129474\ttotal: 35.5s\tremaining: 2.59s\n",
            "932:\tlearn: 0.0129445\ttotal: 35.6s\tremaining: 2.55s\n",
            "933:\tlearn: 0.0129326\ttotal: 35.6s\tremaining: 2.52s\n",
            "934:\tlearn: 0.0129250\ttotal: 35.6s\tremaining: 2.48s\n",
            "935:\tlearn: 0.0128974\ttotal: 35.7s\tremaining: 2.44s\n",
            "936:\tlearn: 0.0128396\ttotal: 35.7s\tremaining: 2.4s\n",
            "937:\tlearn: 0.0128012\ttotal: 35.8s\tremaining: 2.36s\n",
            "938:\tlearn: 0.0127746\ttotal: 35.8s\tremaining: 2.33s\n",
            "939:\tlearn: 0.0127679\ttotal: 35.8s\tremaining: 2.29s\n",
            "940:\tlearn: 0.0127497\ttotal: 35.9s\tremaining: 2.25s\n",
            "941:\tlearn: 0.0127338\ttotal: 35.9s\tremaining: 2.21s\n",
            "942:\tlearn: 0.0127216\ttotal: 36s\tremaining: 2.17s\n",
            "943:\tlearn: 0.0127072\ttotal: 36s\tremaining: 2.13s\n",
            "944:\tlearn: 0.0126880\ttotal: 36s\tremaining: 2.1s\n",
            "945:\tlearn: 0.0126724\ttotal: 36.1s\tremaining: 2.06s\n",
            "946:\tlearn: 0.0126345\ttotal: 36.1s\tremaining: 2.02s\n",
            "947:\tlearn: 0.0126237\ttotal: 36.1s\tremaining: 1.98s\n",
            "948:\tlearn: 0.0126030\ttotal: 36.2s\tremaining: 1.94s\n",
            "949:\tlearn: 0.0125737\ttotal: 36.2s\tremaining: 1.91s\n",
            "950:\tlearn: 0.0125623\ttotal: 36.3s\tremaining: 1.87s\n",
            "951:\tlearn: 0.0125585\ttotal: 36.3s\tremaining: 1.83s\n",
            "952:\tlearn: 0.0125460\ttotal: 36.3s\tremaining: 1.79s\n",
            "953:\tlearn: 0.0125349\ttotal: 36.4s\tremaining: 1.75s\n",
            "954:\tlearn: 0.0125166\ttotal: 36.4s\tremaining: 1.72s\n",
            "955:\tlearn: 0.0125048\ttotal: 36.4s\tremaining: 1.68s\n",
            "956:\tlearn: 0.0124870\ttotal: 36.5s\tremaining: 1.64s\n",
            "957:\tlearn: 0.0124782\ttotal: 36.5s\tremaining: 1.6s\n",
            "958:\tlearn: 0.0124667\ttotal: 36.6s\tremaining: 1.56s\n",
            "959:\tlearn: 0.0124232\ttotal: 36.6s\tremaining: 1.52s\n",
            "960:\tlearn: 0.0124192\ttotal: 36.6s\tremaining: 1.49s\n",
            "961:\tlearn: 0.0124060\ttotal: 36.7s\tremaining: 1.45s\n",
            "962:\tlearn: 0.0124022\ttotal: 36.7s\tremaining: 1.41s\n",
            "963:\tlearn: 0.0123949\ttotal: 36.7s\tremaining: 1.37s\n",
            "964:\tlearn: 0.0123783\ttotal: 36.8s\tremaining: 1.33s\n",
            "965:\tlearn: 0.0123723\ttotal: 36.8s\tremaining: 1.3s\n",
            "966:\tlearn: 0.0123546\ttotal: 36.9s\tremaining: 1.26s\n",
            "967:\tlearn: 0.0123435\ttotal: 36.9s\tremaining: 1.22s\n",
            "968:\tlearn: 0.0123333\ttotal: 36.9s\tremaining: 1.18s\n",
            "969:\tlearn: 0.0123185\ttotal: 37s\tremaining: 1.14s\n",
            "970:\tlearn: 0.0122836\ttotal: 37s\tremaining: 1.1s\n",
            "971:\tlearn: 0.0122693\ttotal: 37s\tremaining: 1.07s\n",
            "972:\tlearn: 0.0122594\ttotal: 37.1s\tremaining: 1.03s\n",
            "973:\tlearn: 0.0122439\ttotal: 37.1s\tremaining: 991ms\n",
            "974:\tlearn: 0.0122062\ttotal: 37.2s\tremaining: 953ms\n",
            "975:\tlearn: 0.0121880\ttotal: 37.2s\tremaining: 915ms\n",
            "976:\tlearn: 0.0121742\ttotal: 37.2s\tremaining: 877ms\n",
            "977:\tlearn: 0.0121594\ttotal: 37.3s\tremaining: 839ms\n",
            "978:\tlearn: 0.0121452\ttotal: 37.3s\tremaining: 801ms\n",
            "979:\tlearn: 0.0121343\ttotal: 37.4s\tremaining: 762ms\n",
            "980:\tlearn: 0.0120972\ttotal: 37.4s\tremaining: 724ms\n",
            "981:\tlearn: 0.0120814\ttotal: 37.4s\tremaining: 686ms\n",
            "982:\tlearn: 0.0120663\ttotal: 37.5s\tremaining: 648ms\n",
            "983:\tlearn: 0.0120551\ttotal: 37.5s\tremaining: 610ms\n",
            "984:\tlearn: 0.0120260\ttotal: 37.5s\tremaining: 572ms\n",
            "985:\tlearn: 0.0120144\ttotal: 37.6s\tremaining: 534ms\n",
            "986:\tlearn: 0.0120041\ttotal: 37.6s\tremaining: 496ms\n",
            "987:\tlearn: 0.0119782\ttotal: 37.7s\tremaining: 457ms\n",
            "988:\tlearn: 0.0119698\ttotal: 37.7s\tremaining: 419ms\n",
            "989:\tlearn: 0.0119560\ttotal: 37.7s\tremaining: 381ms\n",
            "990:\tlearn: 0.0119550\ttotal: 37.8s\tremaining: 343ms\n",
            "991:\tlearn: 0.0119373\ttotal: 37.8s\tremaining: 305ms\n",
            "992:\tlearn: 0.0119271\ttotal: 37.9s\tremaining: 267ms\n",
            "993:\tlearn: 0.0119225\ttotal: 37.9s\tremaining: 229ms\n",
            "994:\tlearn: 0.0119146\ttotal: 37.9s\tremaining: 191ms\n",
            "995:\tlearn: 0.0118994\ttotal: 38s\tremaining: 152ms\n",
            "996:\tlearn: 0.0118879\ttotal: 38s\tremaining: 114ms\n",
            "997:\tlearn: 0.0118557\ttotal: 38s\tremaining: 76.2ms\n",
            "998:\tlearn: 0.0118459\ttotal: 38.1s\tremaining: 38.1ms\n",
            "999:\tlearn: 0.0118244\ttotal: 38.1s\tremaining: 0us\n"
          ],
          "name": "stdout"
        },
        {
          "output_type": "execute_result",
          "data": {
            "text/plain": [
              "0.955"
            ]
          },
          "metadata": {
            "tags": []
          },
          "execution_count": 204
        }
      ]
    },
    {
      "cell_type": "code",
      "metadata": {
        "id": "hUtEKrAJt38k",
        "colab": {
          "base_uri": "https://localhost:8080/",
          "height": 438
        },
        "outputId": "1af1b0a4-aad9-48dd-b7da-7adc256477c1"
      },
      "source": [
        "y_pred = classifier.predict(X_test)\n",
        "\n",
        "confmatrix = confusion_matrix(y_test,y_pred) \n",
        "\n",
        "# plotting the confusion matrix\n",
        "plot_confusion_matrix(conf_mat=confmatrix, colorbar=True, show_absolute=True, show_normed=True)\n",
        "\n",
        "# printing the clasification report displaying further metrics\n",
        "print(classification_report(y_test, y_pred))"
      ],
      "execution_count": null,
      "outputs": [
        {
          "output_type": "stream",
          "text": [
            "              precision    recall  f1-score   support\n",
            "\n",
            "           0       0.97      0.98      0.98       187\n",
            "           1       0.67      0.62      0.64        13\n",
            "\n",
            "    accuracy                           0.95       200\n",
            "   macro avg       0.82      0.80      0.81       200\n",
            "weighted avg       0.95      0.95      0.95       200\n",
            "\n"
          ],
          "name": "stdout"
        },
        {
          "output_type": "display_data",
          "data": {
            "image/png": "[encoded data removed]",
            "text/plain": [
              "<Figure size 432x288 with 2 Axes>"
            ]
          },
          "metadata": {
            "tags": []
          }
        }
      ]
    },
    {
      "cell_type": "code",
      "metadata": {
        "id": "CVw73bFWuDQh"
      },
      "source": [
        ""
      ],
      "execution_count": null,
      "outputs": []
    }
  ]
}