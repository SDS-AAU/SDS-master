{
  "nbformat": 4,
  "nbformat_minor": 0,
  "metadata": {
    "colab": {
      "name": "Homework1-MinimalSolution",
      "provenance": [],
      "authorship_tag": "ABX9TyOXga6so3F3RQTShHjPnsu3",
      "include_colab_link": true
    },
    "kernelspec": {
      "name": "python3",
      "display_name": "Python 3"
    }
  },
  "cells": [
    {
      "cell_type": "markdown",
      "metadata": {
        "id": "view-in-github",
        "colab_type": "text"
      },
      "source": [
        "<a href=\"https://colab.research.google.com/github/SDS-AAU/SDS-master/blob/master/M1/notebooks/Homework1_MinimalSolution.ipynb\" target=\"_parent\"><img src=\"https://colab.research.google.com/assets/colab-badge.svg\" alt=\"Open In Colab\"/></a>"
      ]
    },
    {
      "cell_type": "code",
      "metadata": {
        "id": "nOrDdtne5myy",
        "colab_type": "code",
        "colab": {}
      },
      "source": [
        "import pandas as pd"
      ],
      "execution_count": null,
      "outputs": []
    },
    {
      "cell_type": "code",
      "metadata": {
        "id": "RmNWsx7e6Z2Y",
        "colab_type": "code",
        "colab": {}
      },
      "source": [
        "trips = pd.read_csv('https://sds-aau.github.io/SDS-master/M1/data/trips.csv')"
      ],
      "execution_count": null,
      "outputs": []
    },
    {
      "cell_type": "code",
      "metadata": {
        "id": "4aOYFghf6fo9",
        "colab_type": "code",
        "colab": {}
      },
      "source": [
        "people = pd.read_csv('https://sds-aau.github.io/SDS-master/M1/data/people.csv')"
      ],
      "execution_count": null,
      "outputs": []
    },
    {
      "cell_type": "code",
      "metadata": {
        "id": "8_O9hmbV6i7g",
        "colab_type": "code",
        "colab": {}
      },
      "source": [
        "country = pd.read_csv('https://sds-aau.github.io/SDS-master/M1/data/countrylist.csv')"
      ],
      "execution_count": null,
      "outputs": []
    },
    {
      "cell_type": "code",
      "metadata": {
        "id": "tQDS49QR6o9t",
        "colab_type": "code",
        "colab": {
          "base_uri": "https://localhost:8080/",
          "height": 322
        },
        "outputId": "aa82adfb-c761-499c-9f7e-a1a35a330210"
      },
      "source": [
        "trips.head()"
      ],
      "execution_count": null,
      "outputs": [
        {
          "output_type": "execute_result",
          "data": {
            "text/html": [
              "<div>\n",
              "<style scoped>\n",
              "    .dataframe tbody tr th:only-of-type {\n",
              "        vertical-align: middle;\n",
              "    }\n",
              "\n",
              "    .dataframe tbody tr th {\n",
              "        vertical-align: top;\n",
              "    }\n",
              "\n",
              "    .dataframe thead th {\n",
              "        text-align: right;\n",
              "    }\n",
              "</style>\n",
              "<table border=\"1\" class=\"dataframe\">\n",
              "  <thead>\n",
              "    <tr style=\"text-align: right;\">\n",
              "      <th></th>\n",
              "      <th>Unnamed: 0</th>\n",
              "      <th>username</th>\n",
              "      <th>country</th>\n",
              "      <th>country_code</th>\n",
              "      <th>country_slug</th>\n",
              "      <th>date_end</th>\n",
              "      <th>date_start</th>\n",
              "      <th>latitude</th>\n",
              "      <th>longitude</th>\n",
              "      <th>place</th>\n",
              "      <th>place_slug</th>\n",
              "    </tr>\n",
              "  </thead>\n",
              "  <tbody>\n",
              "    <tr>\n",
              "      <th>0</th>\n",
              "      <td>0</td>\n",
              "      <td>@lewellenmichael</td>\n",
              "      <td>Mexico</td>\n",
              "      <td>MX</td>\n",
              "      <td>mexico</td>\n",
              "      <td>2018-06-15</td>\n",
              "      <td>2018-06-04</td>\n",
              "      <td>21</td>\n",
              "      <td>-101</td>\n",
              "      <td>Guanajuato</td>\n",
              "      <td>mexico</td>\n",
              "    </tr>\n",
              "    <tr>\n",
              "      <th>1</th>\n",
              "      <td>1</td>\n",
              "      <td>@lewellenmichael</td>\n",
              "      <td>Mexico</td>\n",
              "      <td>MX</td>\n",
              "      <td>mexico</td>\n",
              "      <td>2018-06-03</td>\n",
              "      <td>2018-05-31</td>\n",
              "      <td>19</td>\n",
              "      <td>-99</td>\n",
              "      <td>Mexico City</td>\n",
              "      <td>mexico-city-mexico</td>\n",
              "    </tr>\n",
              "    <tr>\n",
              "      <th>2</th>\n",
              "      <td>2</td>\n",
              "      <td>@lewellenmichael</td>\n",
              "      <td>Mexico</td>\n",
              "      <td>MX</td>\n",
              "      <td>mexico</td>\n",
              "      <td>2017-11-05</td>\n",
              "      <td>2017-11-01</td>\n",
              "      <td>21</td>\n",
              "      <td>-86</td>\n",
              "      <td>Cancun</td>\n",
              "      <td>cancun-mexico</td>\n",
              "    </tr>\n",
              "    <tr>\n",
              "      <th>3</th>\n",
              "      <td>3</td>\n",
              "      <td>@lewellenmichael</td>\n",
              "      <td>Jordan</td>\n",
              "      <td>JO</td>\n",
              "      <td>jordan</td>\n",
              "      <td>2017-08-07</td>\n",
              "      <td>2017-07-24</td>\n",
              "      <td>31</td>\n",
              "      <td>35</td>\n",
              "      <td>Amman</td>\n",
              "      <td>amman-jordan</td>\n",
              "    </tr>\n",
              "    <tr>\n",
              "      <th>4</th>\n",
              "      <td>4</td>\n",
              "      <td>@waylandchin</td>\n",
              "      <td>China</td>\n",
              "      <td>CN</td>\n",
              "      <td>china</td>\n",
              "      <td>2017-03-18</td>\n",
              "      <td>2017-02-17</td>\n",
              "      <td>40</td>\n",
              "      <td>122</td>\n",
              "      <td>Yingkou</td>\n",
              "      <td>china</td>\n",
              "    </tr>\n",
              "  </tbody>\n",
              "</table>\n",
              "</div>"
            ],
            "text/plain": [
              "   Unnamed: 0          username  ...        place          place_slug\n",
              "0           0  @lewellenmichael  ...   Guanajuato              mexico\n",
              "1           1  @lewellenmichael  ...  Mexico City  mexico-city-mexico\n",
              "2           2  @lewellenmichael  ...       Cancun       cancun-mexico\n",
              "3           3  @lewellenmichael  ...        Amman        amman-jordan\n",
              "4           4      @waylandchin  ...      Yingkou               china\n",
              "\n",
              "[5 rows x 11 columns]"
            ]
          },
          "metadata": {
            "tags": []
          },
          "execution_count": 5
        }
      ]
    },
    {
      "cell_type": "code",
      "metadata": {
        "id": "PVX-FOqG6zEv",
        "colab_type": "code",
        "colab": {}
      },
      "source": [
        "start_dates = pd.to_datetime(trips.date_start, errors='coerce')"
      ],
      "execution_count": null,
      "outputs": []
    },
    {
      "cell_type": "code",
      "metadata": {
        "id": "N_--y63b7I0z",
        "colab_type": "code",
        "colab": {}
      },
      "source": [
        "trips.index = start_dates"
      ],
      "execution_count": null,
      "outputs": []
    },
    {
      "cell_type": "code",
      "metadata": {
        "id": "s8LaP3Y97KK9",
        "colab_type": "code",
        "colab": {}
      },
      "source": [
        "end_dates = pd.to_datetime(trips.date_end, errors='coerce')"
      ],
      "execution_count": null,
      "outputs": []
    },
    {
      "cell_type": "code",
      "metadata": {
        "id": "BnbkPt_c7grn",
        "colab_type": "code",
        "colab": {}
      },
      "source": [
        "duration = end_dates-start_dates"
      ],
      "execution_count": null,
      "outputs": []
    },
    {
      "cell_type": "code",
      "metadata": {
        "id": "vHOezSNg7ml_",
        "colab_type": "code",
        "colab": {}
      },
      "source": [
        "trips['duration'] = [x.days for x in duration]"
      ],
      "execution_count": null,
      "outputs": []
    },
    {
      "cell_type": "code",
      "metadata": {
        "id": "99a7dCcz7oOs",
        "colab_type": "code",
        "colab": {}
      },
      "source": [
        "boundary = trips.duration.quantile(q=0.97)"
      ],
      "execution_count": null,
      "outputs": []
    },
    {
      "cell_type": "code",
      "metadata": {
        "id": "MDYyhLmv8XS6",
        "colab_type": "code",
        "colab": {}
      },
      "source": [
        "trips_subset = trips[trips.duration <= boundary]"
      ],
      "execution_count": null,
      "outputs": []
    },
    {
      "cell_type": "code",
      "metadata": {
        "id": "ij_9LzrQ9VaL",
        "colab_type": "code",
        "colab": {
          "base_uri": "https://localhost:8080/",
          "height": 407
        },
        "outputId": "aa9fa50f-abd2-4da2-ac15-ec7fe90c9bed"
      },
      "source": [
        "country"
      ],
      "execution_count": null,
      "outputs": [
        {
          "output_type": "execute_result",
          "data": {
            "text/html": [
              "<div>\n",
              "<style scoped>\n",
              "    .dataframe tbody tr th:only-of-type {\n",
              "        vertical-align: middle;\n",
              "    }\n",
              "\n",
              "    .dataframe tbody tr th {\n",
              "        vertical-align: top;\n",
              "    }\n",
              "\n",
              "    .dataframe thead th {\n",
              "        text-align: right;\n",
              "    }\n",
              "</style>\n",
              "<table border=\"1\" class=\"dataframe\">\n",
              "  <thead>\n",
              "    <tr style=\"text-align: right;\">\n",
              "      <th></th>\n",
              "      <th>alpha_2</th>\n",
              "      <th>region</th>\n",
              "      <th>sub_region</th>\n",
              "    </tr>\n",
              "  </thead>\n",
              "  <tbody>\n",
              "    <tr>\n",
              "      <th>0</th>\n",
              "      <td>AF</td>\n",
              "      <td>Asia</td>\n",
              "      <td>Southern Asia</td>\n",
              "    </tr>\n",
              "    <tr>\n",
              "      <th>1</th>\n",
              "      <td>AX</td>\n",
              "      <td>Europe</td>\n",
              "      <td>Northern Europe</td>\n",
              "    </tr>\n",
              "    <tr>\n",
              "      <th>2</th>\n",
              "      <td>AL</td>\n",
              "      <td>Europe</td>\n",
              "      <td>Southern Europe</td>\n",
              "    </tr>\n",
              "    <tr>\n",
              "      <th>3</th>\n",
              "      <td>DZ</td>\n",
              "      <td>Africa</td>\n",
              "      <td>Northern Africa</td>\n",
              "    </tr>\n",
              "    <tr>\n",
              "      <th>4</th>\n",
              "      <td>AS</td>\n",
              "      <td>Oceania</td>\n",
              "      <td>Polynesia</td>\n",
              "    </tr>\n",
              "    <tr>\n",
              "      <th>...</th>\n",
              "      <td>...</td>\n",
              "      <td>...</td>\n",
              "      <td>...</td>\n",
              "    </tr>\n",
              "    <tr>\n",
              "      <th>244</th>\n",
              "      <td>WF</td>\n",
              "      <td>Oceania</td>\n",
              "      <td>Polynesia</td>\n",
              "    </tr>\n",
              "    <tr>\n",
              "      <th>245</th>\n",
              "      <td>EH</td>\n",
              "      <td>Africa</td>\n",
              "      <td>Northern Africa</td>\n",
              "    </tr>\n",
              "    <tr>\n",
              "      <th>246</th>\n",
              "      <td>YE</td>\n",
              "      <td>Asia</td>\n",
              "      <td>Western Asia</td>\n",
              "    </tr>\n",
              "    <tr>\n",
              "      <th>247</th>\n",
              "      <td>ZM</td>\n",
              "      <td>Africa</td>\n",
              "      <td>Sub-Saharan Africa</td>\n",
              "    </tr>\n",
              "    <tr>\n",
              "      <th>248</th>\n",
              "      <td>ZW</td>\n",
              "      <td>Africa</td>\n",
              "      <td>Sub-Saharan Africa</td>\n",
              "    </tr>\n",
              "  </tbody>\n",
              "</table>\n",
              "<p>249 rows × 3 columns</p>\n",
              "</div>"
            ],
            "text/plain": [
              "    alpha_2   region          sub_region\n",
              "0        AF     Asia       Southern Asia\n",
              "1        AX   Europe     Northern Europe\n",
              "2        AL   Europe     Southern Europe\n",
              "3        DZ   Africa     Northern Africa\n",
              "4        AS  Oceania           Polynesia\n",
              "..      ...      ...                 ...\n",
              "244      WF  Oceania           Polynesia\n",
              "245      EH   Africa     Northern Africa\n",
              "246      YE     Asia        Western Asia\n",
              "247      ZM   Africa  Sub-Saharan Africa\n",
              "248      ZW   Africa  Sub-Saharan Africa\n",
              "\n",
              "[249 rows x 3 columns]"
            ]
          },
          "metadata": {
            "tags": []
          },
          "execution_count": 27
        }
      ]
    },
    {
      "cell_type": "code",
      "metadata": {
        "id": "zjuacu01-aEV",
        "colab_type": "code",
        "colab": {}
      },
      "source": [
        "trips_merged= trips.merge(country, how='left', left_on='country_code', right_on='alpha_2')"
      ],
      "execution_count": null,
      "outputs": []
    },
    {
      "cell_type": "code",
      "metadata": {
        "id": "JlEyCLMD-6PS",
        "colab_type": "code",
        "colab": {
          "base_uri": "https://localhost:8080/",
          "height": 35
        },
        "outputId": "2928ba4d-efdb-4d71-accb-497deed91329"
      },
      "source": [
        "people.education_raw.str.contains('High School').sum()"
      ],
      "execution_count": null,
      "outputs": [
        {
          "output_type": "execute_result",
          "data": {
            "text/plain": [
              "130"
            ]
          },
          "metadata": {
            "tags": []
          },
          "execution_count": 33
        }
      ]
    },
    {
      "cell_type": "code",
      "metadata": {
        "id": "diRGg3yu_IJC",
        "colab_type": "code",
        "colab": {
          "base_uri": "https://localhost:8080/",
          "height": 138
        },
        "outputId": "10931d7f-a00d-4f07-b07e-f86f0b311ed5"
      },
      "source": [
        "people.education_raw.value_counts()"
      ],
      "execution_count": null,
      "outputs": [
        {
          "output_type": "execute_result",
          "data": {
            "text/plain": [
              "Bachelor's Degree                                  197\n",
              "Master's Degree                                    115\n",
              "High School                                         58\n",
              "High School, Bachelor's Degree                      43\n",
              "High School, Bachelor's Degree, Master's Degree     29\n",
              "Bachelor's Degree, Master's Degree                   9\n",
              "Name: education_raw, dtype: int64"
            ]
          },
          "metadata": {
            "tags": []
          },
          "execution_count": 35
        }
      ]
    },
    {
      "cell_type": "code",
      "metadata": {
        "id": "l0AfzMML_nQd",
        "colab_type": "code",
        "colab": {
          "base_uri": "https://localhost:8080/",
          "height": 233
        },
        "outputId": "eb0f2251-3666-4650-9e1c-3f664baaf8f0"
      },
      "source": [
        "people.head()"
      ],
      "execution_count": null,
      "outputs": [
        {
          "output_type": "execute_result",
          "data": {
            "text/html": [
              "<div>\n",
              "<style scoped>\n",
              "    .dataframe tbody tr th:only-of-type {\n",
              "        vertical-align: middle;\n",
              "    }\n",
              "\n",
              "    .dataframe tbody tr th {\n",
              "        vertical-align: top;\n",
              "    }\n",
              "\n",
              "    .dataframe thead th {\n",
              "        text-align: right;\n",
              "    }\n",
              "</style>\n",
              "<table border=\"1\" class=\"dataframe\">\n",
              "  <thead>\n",
              "    <tr style=\"text-align: right;\">\n",
              "      <th></th>\n",
              "      <th>Unnamed: 0</th>\n",
              "      <th>username</th>\n",
              "      <th>followers</th>\n",
              "      <th>following</th>\n",
              "      <th>work_raw</th>\n",
              "      <th>education_raw</th>\n",
              "    </tr>\n",
              "  </thead>\n",
              "  <tbody>\n",
              "    <tr>\n",
              "      <th>0</th>\n",
              "      <td>0</td>\n",
              "      <td>@lewellenmichael</td>\n",
              "      <td>1</td>\n",
              "      <td>2</td>\n",
              "      <td>Software Dev, Startup Founder, Finance, Crypto...</td>\n",
              "      <td>High School, Bachelor's Degree</td>\n",
              "    </tr>\n",
              "    <tr>\n",
              "      <th>1</th>\n",
              "      <td>1</td>\n",
              "      <td>@waylandchin</td>\n",
              "      <td>0</td>\n",
              "      <td>2</td>\n",
              "      <td>NaN</td>\n",
              "      <td>NaN</td>\n",
              "    </tr>\n",
              "    <tr>\n",
              "      <th>2</th>\n",
              "      <td>2</td>\n",
              "      <td>@karan</td>\n",
              "      <td>2</td>\n",
              "      <td>1</td>\n",
              "      <td>NaN</td>\n",
              "      <td>NaN</td>\n",
              "    </tr>\n",
              "    <tr>\n",
              "      <th>3</th>\n",
              "      <td>3</td>\n",
              "      <td>@skaboss217</td>\n",
              "      <td>0</td>\n",
              "      <td>1</td>\n",
              "      <td>NaN</td>\n",
              "      <td>NaN</td>\n",
              "    </tr>\n",
              "    <tr>\n",
              "      <th>4</th>\n",
              "      <td>4</td>\n",
              "      <td>@apwn</td>\n",
              "      <td>17</td>\n",
              "      <td>426</td>\n",
              "      <td>Web Dev</td>\n",
              "      <td>NaN</td>\n",
              "    </tr>\n",
              "  </tbody>\n",
              "</table>\n",
              "</div>"
            ],
            "text/plain": [
              "   Unnamed: 0  ...                   education_raw\n",
              "0           0  ...  High School, Bachelor's Degree\n",
              "1           1  ...                             NaN\n",
              "2           2  ...                             NaN\n",
              "3           3  ...                             NaN\n",
              "4           4  ...                             NaN\n",
              "\n",
              "[5 rows x 6 columns]"
            ]
          },
          "metadata": {
            "tags": []
          },
          "execution_count": 36
        }
      ]
    },
    {
      "cell_type": "code",
      "metadata": {
        "id": "k5fMQO22AQOg",
        "colab_type": "code",
        "colab": {}
      },
      "source": [
        "people['start_up'] = people.work_raw.str.contains('Startup Founder')"
      ],
      "execution_count": null,
      "outputs": []
    },
    {
      "cell_type": "code",
      "metadata": {
        "id": "0FabKjpPAeNu",
        "colab_type": "code",
        "colab": {
          "base_uri": "https://localhost:8080/",
          "height": 35
        },
        "outputId": "b9ac3306-1bae-4a25-ae9e-5a1fb7050351"
      },
      "source": [
        "people['start_up'].sum()"
      ],
      "execution_count": null,
      "outputs": [
        {
          "output_type": "execute_result",
          "data": {
            "text/plain": [
              "721"
            ]
          },
          "metadata": {
            "tags": []
          },
          "execution_count": 38
        }
      ]
    },
    {
      "cell_type": "code",
      "metadata": {
        "id": "LjBQjJ1UAiqS",
        "colab_type": "code",
        "colab": {
          "base_uri": "https://localhost:8080/",
          "height": 225
        },
        "outputId": "f11edeb3-71c7-4f4a-965d-1ae7b2708e79"
      },
      "source": [
        "people[people['start_up'] == True].followers.sort_values(ascending=False)"
      ],
      "execution_count": null,
      "outputs": [
        {
          "output_type": "execute_result",
          "data": {
            "text/plain": [
              "2043    2182\n",
              "494      503\n",
              "1909     429\n",
              "403      393\n",
              "1298     259\n",
              "        ... \n",
              "3132       0\n",
              "2324       0\n",
              "3078       0\n",
              "3066       0\n",
              "4011       0\n",
              "Name: followers, Length: 721, dtype: int64"
            ]
          },
          "metadata": {
            "tags": []
          },
          "execution_count": 40
        }
      ]
    },
    {
      "cell_type": "code",
      "metadata": {
        "id": "pmTX9nVIBCf_",
        "colab_type": "code",
        "colab": {
          "base_uri": "https://localhost:8080/",
          "height": 155
        },
        "outputId": "0e3bd7bf-587c-4193-a421-0ef61f99d50b"
      },
      "source": [
        "people.loc[2043,:]"
      ],
      "execution_count": null,
      "outputs": [
        {
          "output_type": "execute_result",
          "data": {
            "text/plain": [
              "Unnamed: 0                                                  2043\n",
              "username                                               @levelsio\n",
              "followers                                                   2182\n",
              "following                                                    353\n",
              "work_raw                 Software Dev, Startup Founder, Creative\n",
              "education_raw    High School, Bachelor's Degree, Master's Degree\n",
              "start_up                                                    True\n",
              "Name: 2043, dtype: object"
            ]
          },
          "metadata": {
            "tags": []
          },
          "execution_count": 42
        }
      ]
    },
    {
      "cell_type": "code",
      "metadata": {
        "id": "120VEYHiBRHY",
        "colab_type": "code",
        "colab": {
          "base_uri": "https://localhost:8080/",
          "height": 207
        },
        "outputId": "a04bbb6d-abeb-40f1-845e-91a55b8dadc4"
      },
      "source": [
        "trips_merged[trips_merged.sub_region == 'Western Europe'].groupby(by='country').duration.sum()"
      ],
      "execution_count": null,
      "outputs": [
        {
          "output_type": "execute_result",
          "data": {
            "text/plain": [
              "country\n",
              "Austria           10806.0\n",
              "Belgium           10834.0\n",
              "France            62936.0\n",
              "Germany          127909.0\n",
              "Liechtenstein         1.0\n",
              "Luxembourg         3350.0\n",
              "Monaco               64.0\n",
              "Netherlands       82488.0\n",
              "Switzerland       27494.0\n",
              "Name: duration, dtype: float64"
            ]
          },
          "metadata": {
            "tags": []
          },
          "execution_count": 51
        }
      ]
    },
    {
      "cell_type": "code",
      "metadata": {
        "id": "HAhrrdmXCAkQ",
        "colab_type": "code",
        "colab": {
          "base_uri": "https://localhost:8080/",
          "height": 121
        },
        "outputId": "6dc0d9ee-ffbe-422d-e62e-a8585b64e691"
      },
      "source": [
        "trips_merged.sub_region.unique()"
      ],
      "execution_count": null,
      "outputs": [
        {
          "output_type": "execute_result",
          "data": {
            "text/plain": [
              "array(['Latin America and the Caribbean', 'Western Asia', 'Eastern Asia',\n",
              "       'South-eastern Asia', 'Southern Asia', 'Northern America', nan,\n",
              "       'Western Europe', 'Sub-Saharan Africa', 'Eastern Europe',\n",
              "       'Northern Europe', 'Southern Europe', 'Australia and New Zealand',\n",
              "       'Northern Africa', 'Melanesia', 'Central Asia', 'Polynesia'],\n",
              "      dtype=object)"
            ]
          },
          "metadata": {
            "tags": []
          },
          "execution_count": 46
        }
      ]
    },
    {
      "cell_type": "code",
      "metadata": {
        "id": "PzMElUiECWpo",
        "colab_type": "code",
        "colab": {
          "base_uri": "https://localhost:8080/",
          "height": 225
        },
        "outputId": "76fe7431-e7f4-4547-dd11-396022a743fc"
      },
      "source": [
        "trips.country.value_counts()"
      ],
      "execution_count": null,
      "outputs": [
        {
          "output_type": "execute_result",
          "data": {
            "text/plain": [
              "United States     7573\n",
              "Thailand          3372\n",
              "United Kingdom    2230\n",
              "Germany           2019\n",
              "Spain             1975\n",
              "                  ... \n",
              "Côte d'Ivoire        1\n",
              "EX17                 1\n",
              "Palestine            1\n",
              "Sanur                1\n",
              "Pai                  1\n",
              "Name: country, Length: 249, dtype: int64"
            ]
          },
          "metadata": {
            "tags": []
          },
          "execution_count": 50
        }
      ]
    },
    {
      "cell_type": "code",
      "metadata": {
        "id": "IgCFLDCKEIaY",
        "colab_type": "code",
        "colab": {}
      },
      "source": [
        "trips_merged.index = start_dates"
      ],
      "execution_count": null,
      "outputs": []
    },
    {
      "cell_type": "code",
      "metadata": {
        "id": "eEPA8R2GDXOI",
        "colab_type": "code",
        "colab": {
          "base_uri": "https://localhost:8080/",
          "height": 311
        },
        "outputId": "55c5f520-168d-49a4-d2ff-1c344bc5f1c0"
      },
      "source": [
        "trips_merged[trips_merged.index.year == 2017].sub_region.value_counts()"
      ],
      "execution_count": null,
      "outputs": [
        {
          "output_type": "execute_result",
          "data": {
            "text/plain": [
              "South-eastern Asia                 2310\n",
              "Northern America                   2154\n",
              "Southern Europe                    1663\n",
              "Western Europe                     1518\n",
              "Latin America and the Caribbean    1296\n",
              "Eastern Europe                      726\n",
              "Eastern Asia                        720\n",
              "Northern Europe                     544\n",
              "Australia and New Zealand           400\n",
              "Sub-Saharan Africa                  342\n",
              "Southern Asia                       263\n",
              "Western Asia                        225\n",
              "Northern Africa                     112\n",
              "Melanesia                             7\n",
              "Central Asia                          4\n",
              "Polynesia                             2\n",
              "Name: sub_region, dtype: int64"
            ]
          },
          "metadata": {
            "tags": []
          },
          "execution_count": 57
        }
      ]
    },
    {
      "cell_type": "code",
      "metadata": {
        "id": "iLyY6SUID5Pv",
        "colab_type": "code",
        "colab": {
          "base_uri": "https://localhost:8080/",
          "height": 72
        },
        "outputId": "628498f1-10b9-4eaf-897a-a190d0b4921f"
      },
      "source": [
        "import seaborn as sns"
      ],
      "execution_count": null,
      "outputs": [
        {
          "output_type": "stream",
          "text": [
            "/usr/local/lib/python3.6/dist-packages/statsmodels/tools/_testing.py:19: FutureWarning: pandas.util.testing is deprecated. Use the functions in the public API at pandas.testing instead.\n",
            "  import pandas.util.testing as tm\n"
          ],
          "name": "stderr"
        }
      ]
    },
    {
      "cell_type": "code",
      "metadata": {
        "id": "7bSoPVEZFrBe",
        "colab_type": "code",
        "colab": {
          "base_uri": "https://localhost:8080/",
          "height": 300
        },
        "outputId": "5c21b48d-dac9-4297-f0f0-a8e65d052c05"
      },
      "source": [
        "trips_merged.resample('W').duration.median().plot()"
      ],
      "execution_count": null,
      "outputs": [
        {
          "output_type": "execute_result",
          "data": {
            "text/plain": [
              "<matplotlib.axes._subplots.AxesSubplot at 0x7f6630fe8198>"
            ]
          },
          "metadata": {
            "tags": []
          },
          "execution_count": 63
        },
        {
          "output_type": "display_data",
          "data": {
            "image/png": "[encoded data removed]",
            "text/plain": [
              "<Figure size 432x288 with 1 Axes>"
            ]
          },
          "metadata": {
            "tags": [],
            "needs_background": "light"
          }
        }
      ]
    },
    {
      "cell_type": "code",
      "metadata": {
        "id": "_zPBcSZpFz8z",
        "colab_type": "code",
        "colab": {}
      },
      "source": [
        "median_trips = trips_merged.resample('W').duration.median()"
      ],
      "execution_count": null,
      "outputs": []
    },
    {
      "cell_type": "code",
      "metadata": {
        "id": "mGbiNKK9FHSb",
        "colab_type": "code",
        "colab": {
          "base_uri": "https://localhost:8080/",
          "height": 300
        },
        "outputId": "6dd784f5-83cb-4424-f5cf-1bbc3b88cbc3"
      },
      "source": [
        "sns.lineplot(x = median_trips.index, y = median_trips)"
      ],
      "execution_count": null,
      "outputs": [
        {
          "output_type": "execute_result",
          "data": {
            "text/plain": [
              "<matplotlib.axes._subplots.AxesSubplot at 0x7f6630e5a828>"
            ]
          },
          "metadata": {
            "tags": []
          },
          "execution_count": 65
        },
        {
          "output_type": "display_data",
          "data": {
            "image/png": "[encoded data removed]",
            "text/plain": [
              "<Figure size 432x288 with 1 Axes>"
            ]
          },
          "metadata": {
            "tags": [],
            "needs_background": "light"
          }
        }
      ]
    },
    {
      "cell_type": "code",
      "metadata": {
        "id": "Auki2sQHFQ5D",
        "colab_type": "code",
        "colab": {}
      },
      "source": [
        ""
      ],
      "execution_count": null,
      "outputs": []
    }
  ]
}